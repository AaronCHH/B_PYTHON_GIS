{
 "cells": [
  {
   "cell_type": "markdown",
   "metadata": {},
   "source": [
    "# Chapter 4: Sources of Geospatial Data"
   ]
  },
  {
   "cell_type": "markdown",
   "metadata": {},
   "source": [
    "When creating a geospatial application, the data you use will be just as important as the code you write.  \n",
    "High-quality geospatial data, and in particular base maps and imagery, will be the cornerstone of your application.  \n",
    "If your maps don't look good, then your application will be treated as the work of an amateur, no matter how well you write the rest of your program.  \n",
    "  \n",
    "Traditionally, geospatial data has been treated as a valuable and scarce resource, being sold commercially for many thousands of dollars and with strict licensing constraints.  \n",
    "Fortunately, as with the trend towards \"democratizing\" geospatial tools, geospatial data is now becoming increasingly available for free and with little or no restriction on its use.  \n",
    "There are still situations where you may have to pay for data, for example, to guarantee the quality of the data, or if you need something that isn't available elsewhere, but it is now usually just a case of downloading the data you need, for free, from a suitable server.  \n",
    "  \n",
    "This chapter provides an overview of some of these major sources of freely-available geospatial data.  \n",
    "This is not intended to be an exhaustive list, but rather to provide information on the sources which are likely to be most useful to the Python geospatial developer.  \n",
    "  \n",
    "In this chapter, we will cover:  \n",
    "* Some of the major freely-available sources of vector-format geospatial data  \n",
    "* Some of the main freely-available sources of raster geospatial data  \n",
    "* Sources of other types of freely-available geospatial data, concentrating on databases of city and other place names  \n"
   ]
  },
  {
   "cell_type": "markdown",
   "metadata": {},
   "source": [
    "## 4.1 Sources of geospatial data in vector format  "
   ]
  },
  {
   "cell_type": "markdown",
   "metadata": {},
   "source": [
    "### 4.1.1 OpenStreetMap  "
   ]
  },
  {
   "cell_type": "markdown",
   "metadata": {},
   "source": [
    "OpenStreetMap (http://openstreetmap.org) is a website where people can collaborate to create and edit geospatial data.  \n",
    "It describes itself as a \"free editable map of the whole world made by people like you.\"  \n"
   ]
  },
  {
   "cell_type": "markdown",
   "metadata": {},
   "source": [
    "* __Data Format__  "
   ]
  },
  {
   "cell_type": "markdown",
   "metadata": {},
   "source": [
    "OpenStreetMap does not use a standard format such as shapefies to store its data.  \n",
    "Instead, it has developed its own XML-based format for representing geospatial data in the form of nodes (single points), ways (sequences of points that defie a line), areas (closed ways that represent polygons), and relations (collections of other elements).  \n",
    "Any element (node, way, or relation) can have a number of tags associated with it that provide additional information about the element.  \n",
    "Following is an example of how the OpenStreetMap XML data looks:  \n"
   ]
  },
  {
   "cell_type": "code",
   "execution_count": null,
   "metadata": {
    "collapsed": true
   },
   "outputs": [],
   "source": [
    "<osm>\n",
    " <node id=\"603279517\" lat=\"-38.1456457\"\n",
    " lon=\"176.2441646\".../>\n",
    " <node id=\"603279518\" lat=\"-38.1456583\"\n",
    " lon=\"176.2406726\".../>\n",
    " <node id=\"603279519\" lat=\"-38.1456540\"\n",
    " lon=\"176.2380553\".../>\n",
    " ...\n",
    " <way id=\"47390936\"...>\n",
    "     <nd ref=\"603279517\"/>\n",
    "     <nd ref=\"603279518\"/>\n",
    "     <nd ref=\"603279519\"/>\n",
    "     <tag k=\"highway\" v=\"residential\"/>\n",
    "     <tag k=\"name\" v=\"York Street\"/>\n",
    " </way>\n",
    " ...\n",
    " <relation id=\"126207\"...>\n",
    "     <member type=\"way\" ref=\"22930719\" role=\"\"/>\n",
    "     <member type=\"way\" ref=\"23963573\" role=\"\"/>\n",
    "     <member type=\"way\" ref=\"28562757\" role=\"\"/>\n",
    "     <member type=\"way\" ref=\"23963609\" role=\"\"/>\n",
    "     <member type=\"way\" ref=\"47475844\" role=\"\"/>\n",
    "     <tag k=\"name\" v=\"State Highway 30A\"/>\n",
    "     <tag k=\"ref\" v=\"30A\"/>\n",
    "     <tag k=\"route\" v=\"road\"/>\n",
    "     <tag k=\"type\" v=\"route\"/>\n",
    " </relation>\n",
    "</osm>"
   ]
  },
  {
   "cell_type": "markdown",
   "metadata": {},
   "source": [
    "* __Obtaining and using OpenStreetMap data__"
   ]
  },
  {
   "cell_type": "markdown",
   "metadata": {},
   "source": [
    "You can obtain geospatial data from OpenStreetMap in one of following three ways:  \n",
    "* You can use the OpenStreetMap API to download a subset of the data you are interested in.  \n",
    "* You can download the entire OpenStreetMap database, called Planet.osm, and process it locally. Note that this is a multi-gigabyte download.  \n",
    "* You can make use of one of the mirror sites that provide OpenStreetMap data nicely packaged into smaller chunks and converted into other data formats. For example, you can download the data for North America on a state-by-state basis, in one of several available formats, including shapefies.  \n",
    "Let's take a closer look at each of these three options.  \n"
   ]
  },
  {
   "cell_type": "markdown",
   "metadata": {},
   "source": [
    "__The OpenStreetMap API__  \n",
    "Using the OpenStreetMap API (http://wiki.openstreetmap.org/wiki/API), you can download selected data from the OpenStreetMap database in one of following three ways:  \n",
    "* You can specify a bounding box defiing the minimum and maximum longitude and latitude values, as shown in the following screenshot:  \n",
    "The API will return all of the elements (nodes, ways, and relations),\n",
    "which are completely or partially inside the specifid bounding box.  \n",
    "* You can ask for a set of changesets which have been applied to the map. This returns all the changes made over a given time period, either for the entire map or just for the elements within a given bounding box.  \n",
    "* You can download a specifi element by ID, or all the elements which are associated with a specifid element (for example, all elements belonging to a given relation).  \n",
    "\n",
    "OpenStreetMap provides a Python module called OsmApi, which makes it easy to access the OpenStreetMap API. More information about this module can be found at http://wiki.openstreetmap.org/wiki/PythonOsmApi\n"
   ]
  },
  {
   "cell_type": "markdown",
   "metadata": {},
   "source": [
    "__Planet.osm__  \n",
    "If you choose to download the entire OpenStreetMap database for processing on your local computer, you will fist need to download the entire Planet.osm database.  \n",
    "This database is available in two formats: a compressed XML-format fie containing all the nodes, ways, and relations in the OpenStreetMap database, or a special binary format called PBF that contains the same information but is smaller and faster to read.  \n",
    "  \n",
    "> PBF is replacing XML as the preferred data format; libraries for reading and writing PBF fies are available for various languages, including Python.  \n",
    "  \n",
    "The Planet.osm database is currently 23 GB in size if you download it in XML format, or 18 GB if you download it in PBF format.  \n",
    "Both formats can be downloaded from http://planet.openstreetmap.org.  \n",
    "\n",
    "The entire dump of the Planet.osm database is updated weekly, but regular \"diffs\" are produced which you can use to update your local copy of the Planet.osm database without having to download the entire database each time.  \n",
    "The daily diffs are approximately 40 MB when they have been compressed.  \n"
   ]
  },
  {
   "cell_type": "markdown",
   "metadata": {},
   "source": [
    "  \n",
    "### 4.1.2 TIGER  "
   ]
  },
  {
   "cell_type": "code",
   "execution_count": null,
   "metadata": {
    "collapsed": true
   },
   "outputs": [],
   "source": []
  },
  {
   "cell_type": "markdown",
   "metadata": {},
   "source": [
    "* Data format  \n",
    "* Obtaining and Using TIGER Data  \n",
    "\n",
    "### 4.1.3 Natural Earth  "
   ]
  },
  {
   "cell_type": "code",
   "execution_count": null,
   "metadata": {
    "collapsed": true
   },
   "outputs": [],
   "source": []
  },
  {
   "cell_type": "markdown",
   "metadata": {},
   "source": [
    "* Data format  \n",
    "* Obtaining and using Natural Earth vector data  \n",
    "\n",
    "### 4.1.4 Global self-consistent high-resolution shoreline database (GSHHS)  \n",
    "* Data format  \n",
    "* Obtaining the GSHHS database  \n",
    "\n",
    "### 4.1.5 World Borders Dataset  \n",
    "* Data format  \n",
    "* Obtaining the World Borders Dataset  \n",
    "\n",
    "## 4.2 Sources of geospatial data in raster format  \n",
    "### 4.2.1 Landsat  \n",
    "* Data format  \n",
    "* Obtaining Landsat imagery  \n",
    "\n",
    "### 4.2.2 Natural Earth  \n",
    "* Data format  \n",
    "* Obtaining and using Natural Earth raster data  \n",
    "\n",
    "### 4.2.3 Global Land One-kilometer Base Elevation (GLOBE)  \n",
    "* Data format  \n",
    "* Obtaining and using GLOBE data  \n",
    "\n",
    "### 4.2.4 National Elevation Dataset (NED  \n",
    "* Data format  \n",
    "* Obtaining and using NED data  \n",
    "\n",
    "## 4.3 Sources of other types of geospatial data  \n",
    "### 4.3.1 GEOnet Names Server  \n",
    "* Data format  \n",
    "* Obtaining and using GEOnet Names Server data  \n",
    "\n",
    "### 4.3.2 Geographic Names Information System (GNIS  \n",
    "* Data format  \n",
    "* Obtaining and using GNIS Data  \n",
    "\n",
    "## 4.4 Choosing your geospatial data source  \n",
    "## 4.5 Summary   "
   ]
  },
  {
   "cell_type": "code",
   "execution_count": null,
   "metadata": {
    "collapsed": true
   },
   "outputs": [],
   "source": []
  }
 ],
 "metadata": {
  "kernelspec": {
   "display_name": "Python 2",
   "language": "python",
   "name": "python2"
  },
  "language_info": {
   "codemirror_mode": {
    "name": "ipython",
    "version": 2
   },
   "file_extension": ".py",
   "mimetype": "text/x-python",
   "name": "python",
   "nbconvert_exporter": "python",
   "pygments_lexer": "ipython2",
   "version": "2.7.13"
  }
 },
 "nbformat": 4,
 "nbformat_minor": 2
}
