{
 "cells": [
  {
   "cell_type": "markdown",
   "metadata": {},
   "source": [
    "# Chapter 2: GIS"
   ]
  },
  {
   "cell_type": "markdown",
   "metadata": {},
   "source": [
    "## 2.1 Core GIS concepts"
   ]
  },
  {
   "cell_type": "markdown",
   "metadata": {},
   "source": [
    "### 2.1.1 Location"
   ]
  },
  {
   "cell_type": "markdown",
   "metadata": {},
   "source": [
    "### 2.1.2 Distance"
   ]
  },
  {
   "cell_type": "markdown",
   "metadata": {},
   "source": [
    "### 2.1.3 Units"
   ]
  },
  {
   "cell_type": "markdown",
   "metadata": {},
   "source": [
    "### 2.1.4 Projections"
   ]
  },
  {
   "cell_type": "markdown",
   "metadata": {},
   "source": [
    "* __Cylindrical projections__  "
   ]
  },
  {
   "cell_type": "markdown",
   "metadata": {},
   "source": [
    "* __Conic projections__  "
   ]
  },
  {
   "cell_type": "markdown",
   "metadata": {},
   "source": [
    "* __Azimuthal projections__  "
   ]
  },
  {
   "cell_type": "markdown",
   "metadata": {},
   "source": [
    "* __The nature of map projections__  "
   ]
  },
  {
   "cell_type": "markdown",
   "metadata": {},
   "source": [
    "### 2.1.5 Coordinate systems"
   ]
  },
  {
   "cell_type": "markdown",
   "metadata": {},
   "source": [
    "### 2.1.6 Datums"
   ]
  },
  {
   "cell_type": "markdown",
   "metadata": {},
   "source": [
    "Roughly speaking, a datum is a mathematical model of the earth used to describe locations on the earth's surface.  \n",
    "A datum consists of a set of reference points, often combined with a model of the shape of the earth.  \n",
    "The reference points are used to describe the location of other points on the earth's surface, while the model of the earth's shape is used when projecting the earth's surface onto a two-dimensional plane.  \n",
    "Thus, datums are used by both map projections and coordinate systems.  \n",
    "  \n",
    "While there are hundreds of different datums in use throughout the world, most of these only apply to a localized area.  \n",
    "There are three main reference datums which cover larger areas, and which you are likely to encounter when working with geospatial data:   \n",
    "  \n",
    "* __NAD 27__: This is the North American Datum of 1927. It includes a defiition of the earth's shape (using a model called the Clarke Spheroid of 1866), and a set of reference points centered around Meades Ranch in Kansas. NAD 27 can be thought of as a local datum covering North America.  \n",
    "* __NAD 83__: The North American Datum of 1983. This datum makes use of a more complex model of the earth's shape (the 1980 Geodetic Reference System, GRS 80). NAD 83 can be thought of as a local datum covering the United States, Canada, Mexico, and Central America.  \n",
    "* __WGS 84__: The World Geodetic System of 1984. This is a global datum covering the entire earth. It makes use of yet another model of the earth's shape (the Earth Gravitational Model of 1996, EGM 96) and uses reference points based on the IERS International Reference Meridian. WGS 84 is a very popular datum. When dealing with geospatial data covering the United States, WGS 84 is basically identical to NAD 83. WGS 84 also has the distinction of being used by Global Positioning System satellites, so all data captured by GPS units will use this datum.  \n",
    "  \n",
    "While WGS 84 is the most common datum in use today, a lot of geospatial data makes use of other datums.  \n",
    "Whenever you are dealing with a coordinate value, it is important to know which datum was used to calculate that coordinate.  \n",
    "A given point in NAD 27, for example, may be several hundred feet away from that same coordinate expressed in WGS 84.  \n",
    "Thus, it is vital that you know which datum is being used for a given set of geospatial data, and convert to a different datum where necessary.  \n",
    "  \n"
   ]
  },
  {
   "cell_type": "markdown",
   "metadata": {},
   "source": [
    "### 2.1.7 Shapes"
   ]
  },
  {
   "cell_type": "markdown",
   "metadata": {},
   "source": [
    "## 2.2 GIS data formats"
   ]
  },
  {
   "cell_type": "markdown",
   "metadata": {},
   "source": [
    "A GIS data format specifis how geospatial data is stored in a fie (or multiple fies) on disk.  \n",
    "The format describes the logical structure used to store geospatial data within the fie(s).  \n",
    "  \n",
    "A GIS data format will typically support:  \n",
    "* Geospatial data describing geographical features.  \n",
    "* Additional metadata describing this data, including the datum and projection used, the coordinate system and units that the data is in, the date this fie was last updated, and so on.  \n",
    "* Attributes providing additional information about the geographical features that are being described. For example, a city feature may have attributes such as \"name\", \"population\", \"average temperature\", and others.  \n",
    "* Display information such as the color or line style to use when a feature is displayed.  \n",
    "  \n",
    "There are two main types of GIS data: raster format data, and vector format data.  \n",
    "Raster formats are generally used to store bitmapped images, such as scanned paper maps or aerial photographs.  \n",
    "Vector formats, on the other hand, represent spatial data using points, lines, and polygons.  \n",
    "Vector formats are the most common type used by GIS applications as the data is smaller and easier to manipulate.  \n",
    "  \n",
    "Some of the more common __raster__ formats include:  \n",
    "* __Digital Raster Graphic (DRG)__: This format is used to store digital scans of paper maps  \n",
    "* __Digital Elevation Model (DEM)__: Used by the US Geological Survey to record elevation data  \n",
    "* __Band Interleaved by Line, Band Interleaved by Pixel, Band Sequential (BIL, BIP, BSQ)__: These data formats are typically used by remote sensing systems  \n",
    "  \n",
    "Some of the more common __vector__ formats include:  \n",
    "* __Shapefie__: An open specifiation, developed by ESRI, for storing and exchanging GIS data. A Shapefie actually consists of a collection of fies, all with the same base name, for example, hawaii.shp, hawaii.shx, hawaii.dbf, and so on.  \n",
    "* __Simple features__: An OpenGIS standard for storing geographical data (points, lines, polygons) along with associated attributes.  \n",
    "* __TIGER/Line__: A text-based format previously used by the US Census Bureau to describe geographic features such as roads, buildings, rivers, and coastlines. More recent data comes in the Shapefie format, so the TIGER/Line format is only used for earlier Census Bureau datasets.  \n",
    "* __Coverage__: A proprietary data format used by ESRI's ARC/INFO system.  \n",
    "  \n",
    "In addition to these \"major\" data formats, there are also so-called \"micro-formats\" which are often used to represent individual pieces of geospatial data.  \n",
    "These are often used to represent shapes within a running program, or to transfer shapes from one program to another, but aren't generally used to store data permanently.  \n",
    "As you work with geospatial data, you are likely to encounter the following micro-formats:   \n",
    "* __Well-known Text (WKT)__: This is a simple text-based format for representing a single geographic feature such as a polygon or linestring  \n",
    "* __Well-known Binary (WKB)__: This alternative to WKT uses binary data rather than text to represent a single geographic feature  \n",
    "* __GeoJSON__: An open format for encoding geographic data structures, based on the JSON data interchange format  \n",
    "* __Geography Markup Language (GML)__: An XML-based open standard for exchanging GIS data  \n",
    "  \n",
    "Whenever you work with geospatial data, you need to know which format the data is in, so that you can extract the information you need from the fie(s), and, where necessary, transform the data from one format to another.  \n",
    "  \n"
   ]
  },
  {
   "cell_type": "markdown",
   "metadata": {},
   "source": [
    "## 2.3 Working with GIS data manually"
   ]
  },
  {
   "cell_type": "markdown",
   "metadata": {},
   "source": [
    "Let's take a brief look at the process of working with GIS data manually.  \n",
    "Before we can begin, there are two things you need to do:  \n",
    "* Obtain some GIS data  \n",
    "* Install the GDAL Python library so that you can read the necessary data fies  \n",
    "  \n",
    "Let's use the US Census Bureau's website to download a set of vector maps for the various US states.  \n",
    "The main site for obtaining GIS data from the US Census Bureau can be found at:  \n",
    "http://www.census.gov/geo/www/tiger  \n",
    "To make things simpler though, let's bypass the website and directly download the fie we need from the following link:  \n",
    "http://www2.census.gov/geo/tiger/TIGER2012/STATE/tl_2012_us_state.zip  \n",
    "The resulting fie, tl_2009_us_state.zip, should be a ZIP-format archive.  \n",
    "After uncompressing the archive, you should have the following fies:  \n",
    "* tl_2012_us_state.dbf  \n",
    "* tl_2012_us_state.prj  \n",
    "* tl_2012_us_state.shp  \n",
    "* tl_2012_us_state.shp.xml  \n",
    "* tl_2012_us_state.shx  \n",
    "\n",
    "These fies make up a Shapefie containing the outlines of all the US states.  \n",
    "Place these fies together in a convenient directory.  \n",
    "  \n",
    "We next have to download the GDAL Python library.  \n",
    "The main website for GDAL can be found at:  \n",
    "http://gdal.org  \n",
    "The easiest way to install GDAL onto a Windows or Unix machine is to use the FWTools installer, which can be downloaded from the following site:   \n",
    "http://fwtools.maptools.org  \n",
    "If you are running Mac OS X, you can fid a complete installer for GDAL at:  \n",
    "http://www.kyngchaos.com/software/frameworks  \n",
    "After installing GDAL, you can check that it works by typing import osgeo into the Python command prompt; if the Python command prompt reappears with no error message, GDAL was successfully installed and you are all set to go:   \n",
    "```  \n",
    ">>> import osgeo  \n",
    ">>>  \n",
    "```  \n",
    "Now that we have some data to work with, let's take a look at it.  \n",
    "You can either type the following directly into the command prompt, or else save it as a Python script so that you can run it whenever you wish (let's call this __analyze.py__):   \n",
    "  \n"
   ]
  },
  {
   "cell_type": "code",
   "execution_count": null,
   "metadata": {
    "collapsed": true
   },
   "outputs": [],
   "source": [
    "import osgeo.ogr\n",
    "\n",
    "shapefile = osgeo.ogr.Open(\"tl_2012_us_state.shp\")\n",
    "numLayers = shapefile.GetLayerCount()\n",
    "\n",
    "print \"Shapefile contains %d layers\" % numLayers\n",
    "print\n",
    "\n",
    "for layerNum in range(numLayers):\n",
    "    layer = shapefile.GetLayer(layerNum)\n",
    "    spatialRef = layer.GetSpatialRef().ExportToProj4()\n",
    "    numFeatures = layer.GetFeatureCount()\n",
    "    print \"Layer %d has spatial reference %s\" % (layerNum, spatialRef)\n",
    "    print \"Layer %d has %d features:\" % (layerNum, numFeatures)\n",
    "    print\n",
    "\n",
    "    for featureNum in range(numFeatures):\n",
    "        feature = layer.GetFeature(featureNum)\n",
    "        featureName = feature.GetField(\"NAME\")\n",
    "        print \"Feature %d has name %s\" % (featureNum, featureName)"
   ]
  },
  {
   "cell_type": "markdown",
   "metadata": {},
   "source": [
    "> The previous example assumes you've placed this script in the same directory as the tl_2012_us_state.shp fie.  \n",
    "If you've put it in a different directory, change the osgeo.ogr.Open() command to include the path to your Shapefie.  \n",
    "If you are running MS Windows, don't forget to use double backslash characters (\\\\) as directory separators.  \n"
   ]
  },
  {
   "cell_type": "markdown",
   "metadata": {},
   "source": [
    "This shows us that the data we downloaded consists of one layer, with 56 individual features corresponding to the various states and protectorates in the USA.  \n",
    "It also tells us the \"spatial reference\" for this layer, which tells us that the coordinates are projected as latitude and longitude values using the NAD 83 datum.  \n",
    "As you can see from the previous example, using GDAL to extract data from Shapefies is quite straightforward.  \n",
    "Let's continue with another example.  \n",
    "This time, we'll look at the details for Feature 2, New Mexico:   \n"
   ]
  },
  {
   "cell_type": "code",
   "execution_count": null,
   "metadata": {
    "collapsed": true
   },
   "outputs": [],
   "source": [
    "import osgeo.ogr\n",
    "shapefile = osgeo.ogr.Open(\"tl_2012_us_state.shp\")\n",
    "layer = shapefile.GetLayer(0)\n",
    "feature = layer.GetFeature(2)\n",
    "print \"Feature 2 has the following attributes:\"\n",
    "print\n",
    "attributes = feature.items()\n",
    "for key,value in attributes.items():\n",
    "    print \" %s = %s\" % (key, value)\n",
    "geometry = feature.GetGeometryRef()\n",
    "geometryName = geometry.GetGeometryName()\n",
    "print\n",
    "print \"Feature's geometry data consists of a %s\" % geometryName"
   ]
  },
  {
   "cell_type": "markdown",
   "metadata": {},
   "source": [
    "The meaning of the various attributes is described on the US Census Bureau's website, but what interests us right now is the feature's geometry.  \n",
    "A geometry object is a complex structure that holds some geospatial data, often using nested geometry objects to reflct the way the geospatial data is organized.  \n",
    "So far, we've discovered that New Mexico's geometry consists of a polygon.  \n",
    "Let's now take a closer look at this polygon:   \n"
   ]
  },
  {
   "cell_type": "code",
   "execution_count": null,
   "metadata": {
    "collapsed": true
   },
   "outputs": [],
   "source": [
    "import osgeo.ogr\n",
    "def analyzeGeometry(geometry, indent=0):\n",
    "    s = []\n",
    "    s.append(\" \" * indent)\n",
    "    s.append(geometry.GetGeometryName())\n",
    "\n",
    "    if geometry.GetPointCount() > 0:\n",
    "        s.append(\" with %d data points\" % geometry.GetPointCount())\n",
    "    if geometry.GetGeometryCount() > 0:\n",
    "        s.append(\" containing:\")\n",
    "    print \"\".join(s)\n",
    "\n",
    "    for i in range(geometry.GetGeometryCount()):\n",
    "        analyzeGeometry(geometry.GetGeometryRef(i), indent+1)\n",
    "\n",
    "shapefile = osgeo.ogr.Open(\"tl_2012_us_state.shp\")\n",
    "layer = shapefile.GetLayer(0)\n",
    "feature = layer.GetFeature(2)\n",
    "geometry = feature.GetGeometryRef()\n",
    "\n",
    "analyzeGeometry(geometry)"
   ]
  },
  {
   "cell_type": "markdown",
   "metadata": {},
   "source": [
    "In GDAL (or more specifially the OGR Simple Feature library we are using here), polygons are defied as a single outer \"ring\" with optional inner rings that defie \"holes\" in the polygon (for example, to show the outline of a lake).  \n",
    "  \n",
    "New Mexico is a relatively simple feature in that it consists of only one polygon.  \n",
    "If we ran the same program over California (feature 55 in our Shapefie), the output would be somewhat more complicated:   \n"
   ]
  },
  {
   "cell_type": "code",
   "execution_count": null,
   "metadata": {
    "collapsed": true
   },
   "outputs": [],
   "source": []
  },
  {
   "cell_type": "markdown",
   "metadata": {},
   "source": [
    "As you can see, California is made up of seven distinct polygons, each defied by a single linear ring.  \n",
    "This is because California is on the coast, and includes six outlying islands as well as the main inland body of the state.  \n",
    "Let's fiish this analysis of the US state Shapefie by answering a simple question: what is the distance from the northernmost point to the southernmost point in California?  \n",
    "There are various ways we could answer this question, but for now we'll do it by hand.  \n",
    "Let's start by identifying the northernmost and southernmost points in California:   \n"
   ]
  },
  {
   "cell_type": "code",
   "execution_count": null,
   "metadata": {
    "collapsed": true
   },
   "outputs": [],
   "source": [
    "import math\n",
    "lat1 = 42.0095\n",
    "long1 = -122.3782\n",
    "lat2 = 32.5288\n",
    "long2 = -117.2049\n",
    "rLat1 = math.radians(lat1)\n",
    "\n",
    "rLong1 = math.radians(long1)\n",
    "rLat2 = math.radians(lat2)\n",
    "rLong2 = math.radians(long2)\n",
    "dLat = rLat2 - rLat1\n",
    "dLong = rLong2 - rLong1\n",
    "a = math.sin(dLat/2)**2 + math.cos(rLat1) * math.cos(rLat2) \\\n",
    "* math.sin(dLong/2)**2\n",
    "c = 2 * math.atan2(math.sqrt(a), math.sqrt(1-a))\n",
    "distance = 6371 * c\n",
    "print \"Great circle distance is %0.0f kilometres\" % distance"
   ]
  },
  {
   "cell_type": "markdown",
   "metadata": {},
   "source": [
    "Don't worry about the complex maths involved here; basically, we are converting the latitude and longitude values to radians, calculating the difference in latitude/ longitude values between the two points, and then passing the results through some trigonometric functions to obtain the great circle distance.  \n",
    "The value of 6371 is the radius of the earth, in kilometers.  \n",
    "  \n",
    "More details about the Haversine formula and how it is used in the previous example can be found at http://mathforum.org/library/drmath/view/51879.html.  \n",
    "  \n",
    "If you run the previous program, your computer will tell you the distance from the northernmost point to the southernmost point in California:  \n",
    "```  \n",
    "Great circle distance is 1149 kilometres  \n",
    "```  \n",
    "There are, of course, other ways of calculating this.  \n",
    "You wouldn't normally type the Haversine formula directly into your program, as there are libraries which will do this for you.  \n",
    "But we deliberately did the calculation this way to show just how it can be done.  \n",
    "  \n",
    "If you would like to explore this further, you might like to try writing programs to calculate the following:  \n",
    "• The easternmost and westernmost points in California.  \n",
    "• The midpoint in California. Hint: you can calculate the midpoint's longitude by taking the average of the easternmost and westernmost longitude.  \n",
    "• The midpoint in Arizona.  \n",
    "• The distance between the middle of California and the middle of Arizona.  \n",
    "  \n",
    "As you can see, working with GIS data manually isn't too onerous. While the data structures and maths involved can be rather complex, using tools such as GDAL makes your data accessible and easy to work with.  \n"
   ]
  },
  {
   "cell_type": "code",
   "execution_count": null,
   "metadata": {
    "collapsed": true
   },
   "outputs": [],
   "source": []
  },
  {
   "cell_type": "markdown",
   "metadata": {},
   "source": [
    "## 2.4 Summary "
   ]
  },
  {
   "cell_type": "markdown",
   "metadata": {},
   "source": [
    "In this chapter, we discussed many of the core concepts that underlie GIS development, looked briefl at the history of GIS, examined some of the more common GIS data formats, and got our hands dirty exploring US state maps downloaded from the US Census Bureau website.  \n",
    "We have learned the following:  \n",
    "  \n",
    "* Locations are often, but not always, represented using coordinates  \n",
    "* Calculating the distance between two points requires you to take into account the curvature of the earth's surface  \n",
    "* You must be aware of the units used in geospatial data  \n",
    "* Map projections represent the three-dimensional shape of the earth's surface as a two-dimensional map  \n",
    "* There are three main classes of map projections: cylindrical, conic and azimuthal  \n",
    "* Datums are mathematical models of the earth's shape  \n",
    "* The three most common datums in use are called NAD 27, NAD 83, and WGS 84  \n",
    "* Coordinate systems describe how coordinates relate to a given point on the earth's surface  \n",
    "* Unprojected coordinate systems directly represent points on the earth's surface  \n",
    "* Projected coordinate systems use a map projection to represent the earth as a two-dimensional Cartesian plane, onto which coordinates are then placed  \n",
    "* Geospatial data can represent shapes in the form of points, linestrings, and polygons  \n",
    "* There are a number of standard GIS data formats you might encounter. Some data formats work with raster data, while others use vector data  \n",
    "* Using Python to manually perform various geospatial calculations on Shapefie data  \n",
    "  \n",
    "In the next chapter, we will look in more detail at the various Python libraries which  \n",
    "can be used for working with geospatial data.  \n"
   ]
  },
  {
   "cell_type": "code",
   "execution_count": null,
   "metadata": {
    "collapsed": true
   },
   "outputs": [],
   "source": []
  }
 ],
 "metadata": {
  "kernelspec": {
   "display_name": "Python 2",
   "language": "python",
   "name": "python2"
  },
  "language_info": {
   "codemirror_mode": {
    "name": "ipython",
    "version": 2
   },
   "file_extension": ".py",
   "mimetype": "text/x-python",
   "name": "python",
   "nbconvert_exporter": "python",
   "pygments_lexer": "ipython2",
   "version": "2.7.13"
  }
 },
 "nbformat": 4,
 "nbformat_minor": 2
}
