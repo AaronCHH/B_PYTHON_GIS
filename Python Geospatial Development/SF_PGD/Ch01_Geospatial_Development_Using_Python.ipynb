{
 "cells": [
  {
   "cell_type": "markdown",
   "metadata": {},
   "source": [
    "# Chapter 1: Geospatial Development Using Python"
   ]
  },
  {
   "cell_type": "markdown",
   "metadata": {},
   "source": [
    "* What the Python programming language is, and how it differs from other languages  \n",
    "* An introduction to the Python Standard Library and the Python Package Index  \n",
    "* What the terms \"geospatial data\" and \"geospatial development\" refer to  \n",
    "* An overview of the process of accessing, manipulating, and displaying geospatial data  \n",
    "* Some of the major applications for geospatial development  \n",
    "* Some of the recent trends in the fild of geospatial development  "
   ]
  },
  {
   "cell_type": "markdown",
   "metadata": {},
   "source": [
    "## 1.1 Python"
   ]
  },
  {
   "cell_type": "markdown",
   "metadata": {},
   "source": [
    "## 1.2 Geospatial development"
   ]
  },
  {
   "cell_type": "markdown",
   "metadata": {},
   "source": [
    "## 1.3 Applications of geospatial development"
   ]
  },
  {
   "cell_type": "markdown",
   "metadata": {},
   "source": [
    "### 1.3.1 Analyzing geospatial data"
   ]
  },
  {
   "cell_type": "markdown",
   "metadata": {},
   "source": [
    "Imagine that you have a database containing a range of geospatial data for San Francisco.  \n",
    "This database might include geographical features, roads, the location of prominent buildings, and other man-made features such as bridges, airports, and so on.  \n",
    "Such a database can be a valuable resource for answering various questions.  \n",
    "For example:  \n",
    "* What's the longest road in Sausalito?  \n",
    "* How many bridges are there in Oakland?  \n",
    "* What is the total area of the Golden Gate Park?  \n",
    "* How far is it from the Pier 39 to the Moscone Center?  \n",
    "\n",
    "Many of these types of problems can be solved using tools such as the PostGIS  \n",
    "spatially-enabled database. For example, to calculate the total area of the Golden  \n",
    "Gate Park, you might use the following SQL query:  \n",
    "```  \n",
    "select ST_Area(geometry) from features  \n",
    "where name = \"Golden Gate Park\";  \n",
    "```  \n",
    "To calculate the distance between two places, you fist have to geocode the locations to obtain their latitude and longitude.  \n",
    "There are various ways to do this; one simple approach is to use a free geocoding web service, such as this:  \n",
    "[http://nominatim.openstreetmap.org/search?q=Pier 39, San Francisco,CA](http://nominatim.openstreetmap.org/search?q=Pier 39, San Francisco,CA)  \n",
    "This returns a latitude value of 37.82 and a longitude value of -122.42.  \n",
    "Similarly, we can fid the location of the Moscone Center using this query:  \n",
    "[http://nominatim.openstreetmap.org/search?q=Moscone Center, San Francisco,CA](http://nominatim.openstreetmap.org/search?q=Moscone Center, San Francisco,CA) This returns a latitude value of 37.80 and a longitude value of -122.44.  \n",
    "Now that we have the coordinates for the two desired locations, we can calculate the distance between them using the Proj Python library:   \n",
    "```  \n",
    "import pyproj  \n",
    "lat1,long1 = (37.82,-122.42)  \n",
    "lat2,long2 = (37.80,-122.44)  \n",
    "geod = pyproj.Geod(ellps=\"WGS84\")  \n",
    "angle1,angle2,distance = geod.inv(long1, lat1, long2, lat2)  \n",
    "print \"Distance is %0.2f meters\" % distance  \n",
    "```  \n",
    "This prints the distance between the two points:  \n",
    "Distance is 2833.64 meters  \n"
   ]
  },
  {
   "cell_type": "markdown",
   "metadata": {},
   "source": [
    "### 1.3.2 Visualizing geospatial data"
   ]
  },
  {
   "cell_type": "markdown",
   "metadata": {},
   "source": [
    "Imagine that you wanted to see which areas of a city are typically covered by a taxi during an average working day.  \n",
    "You might place a GPS recorder into a taxi and leave it to record the taxi's position over several days.  \n",
    "The results would be a series of timestamps, latitude and longitude values as follows:  \n",
    "```  \n",
    "2010-03-21 9:15:23 -38.16614499 176.2336626  \n",
    "2010-03-21 9:15:27 -38.16608632 176.2335635  \n",
    "2010-03-21 9:15:34 -38.16604198 176.2334771  \n",
    "2010-03-21 9:15:39 -38.16601507 176.2333958  \n",
    "...  \n",
    "```  \n",
    "By themselves, these raw numbers tell you almost nothing.  \n",
    "But when you display this data visually, the numbers start to make sense:   \n",
    "  \n",
    "You can immediately see that the taxi tends to go along the same streets again and again.  \n",
    "And if you draw this data as an overlay on top of a street map, you can see exactly where the taxi has been:   \n",
    "(Street map courtesy of http://openstreetmap.org).  \n",
    "While this is a very simple example, visualization is a crucial aspect of working with geospatial data.  \n",
    "How data is displayed visually, how different data sets are overlaid, and how the user can manipulate data directly in a visual format are all going to be major topics of this book.  \n"
   ]
  },
  {
   "cell_type": "markdown",
   "metadata": {},
   "source": [
    "### 1.3.3 Creating a geospatial mash-up"
   ]
  },
  {
   "cell_type": "markdown",
   "metadata": {},
   "source": [
    "The concept of a \"mash-up\" has become popular in recent years.  \n",
    "Mash-ups are applications that combine data and functionality from more than one source.  \n",
    "For example, a typical mash-up may combine details of houses for rent in a given city, and plot the location of each rental on a map, as follows:   \n",
    "  \n",
    "This example comes from http://housingmaps.com.  \n",
    "The Google Maps API has been immensely popular in creating these types of mash-ups.  \n",
    "However, Google Maps has some serious licensing and other limitations—as does Google's main competitor, Bing.  \n",
    "Fortunately, these are not the only options; tools such as Mapnik, Openlayers, and MapServer, to name a few, also allow you to create mash-ups that overlay your own data onto a map.  \n",
    "  \n",
    "Most of these mash-ups run as web applications across the Internet, running on a server that can be accessed by anyone who has a web browser.  \n",
    "Sometimes the mash ups are private, requiring password access, but usually they are publicly available and can be used by anyone.  \n",
    "Indeed, many businesses (such as the housing maps site shown in the previous image) are based on freely-available geospatial mash-ups.  \n"
   ]
  },
  {
   "cell_type": "markdown",
   "metadata": {},
   "source": [
    "## 1.4 Recent developments"
   ]
  },
  {
   "cell_type": "markdown",
   "metadata": {},
   "source": [
    "A decade ago, geospatial development was vastly more limited than it is today.  \n",
    "Professional (and hugely expensive) Geographical Information Systems were the norm for working with and visualizing geospatial data.  \n",
    "Open source tools, where they were available, were obscure and hard to use.  \n",
    "What is more, everything ran on the desktop—the concept of working with geospatial data across the Internet was no more than a distant dream.  \n",
    "  \n",
    "In 2005, Google released two products that completely changed the face of geospatial development.  \n",
    "Google Maps and Google Earth made it possible for anyone with a web browser or a desktop computer to view and work with geospatial data.  \n",
    "Instead of requiring expert knowledge and years of practice, even a four-year old could instantly view and manipulate interactive maps of the world.  \n",
    "  \n",
    "Google's products are not perfect: the map projections are deliberately simplifid, leading to errors and problems with displaying overlays; these products are only free for non-commercial use; and they include almost no ability to perform geospatial analysis.  \n",
    "Despite these limitations, they have had a huge effect on the fild of geospatial development.  \n",
    "People became aware of what was possible, and the use of maps and their underlying geospatial data has become so prevalent that even cell phones now commonly include built-in mapping tools.  \n",
    "  \n",
    "The Global Positioning System (GPS) has also had a major inflence on geospatial development.  \n",
    "Geospatial data for streets and other man-made and natural features used to be an expensive and tightly controlled resource, often created by scanning aerial photographs and then manually drawing an outline of a street or coastline over the top to digitize the required features.  \n",
    "With the advent of cheap and readily available portable GPS units, anyone who wishes to can now capture their own geospatial data.  \n",
    "Indeed, many people have made a hobby of recording, editing, and improving the accuracy of street and topological data, which are then freely shared across the Internet.  \n",
    "All this means that you're not limited to recording your own data, or purchasing data from a commercial organization; volunteered information is now often as accurate and useful as commercially-available data, and may well be suitable for your geospatial application.  \n",
    "  \n",
    "The open source software movement has also had a major inflence on geospatial development.  \n",
    "Instead of relying on commercial toolsets, it is now possible to build complex geospatial applications entirely out of freely-available tools and libraries.  \n",
    "Because the source code for these tools is often available, developers can improve and extend these toolkits, fiing problems and adding new features for the benefi of everyone.  \n",
    "Tools such as PROJ.4, PostGIS, OGR, and GDAL are all excellent geospatial toolkits which are benefactors of the open source movement.  \n",
    "We will be making use of all these tools throughout this book.  \n",
    "  \n",
    "As well as standalone tools and libraries, a number of geospatial Application Programming Interfaces (APIs) have become available.  \n",
    "Google have provided a number of APIs, which can be used to include maps and perform limited geospatial analysis within a website.  \n",
    "Other services, such as the OpenStreetMap geocoder we used earlier, allow you to perform various geospatial tasks that would be diffiult to do if you were limited to using your own data and programming resources.  \n",
    "  \n",
    "As more and more geospatial data becomes available, from an increasing number of sources, and as the number of tools and systems which can work with this data also increases, it has become increasingly important to defie standards for geospatial data.  \n",
    "The Open Geospatial Consortium, often abbreviated to OGC (http://www.opengeospatial.org) is an international standards organization which aims to do precisely this: to provide a set of standard formats and protocols for sharing and storing geospatial data.  \n",
    "These standards, including GML, KML, GeoRSS, WMS, WFS, and WCS, provide a shared \"language\" in which geospatial data can be expressed.  \n",
    "Tools such as commercial and open source GIS systems, Google Earth, web-based APIs, and specialized geospatial toolkits such as OGR are all able to work with these standards.  \n",
    "Indeed, an important aspect of a geospatial toolkit is the ability to understand and translate data between these various formats.  \n",
    "  \n",
    "As GPS units have become more ubiquitous, it has become possible to record your location data as you are performing another task.  \n",
    "Geolocation, the act of recording your location as you are doing something, is becoming increasingly common.  \n",
    "The Twitter social networking service, for example, now allows you to record and display your current location as you enter a status update.  \n",
    "As you approach your offie, sophisticated To-do list software can now automatically hide any tasks which can't be done at that location.  \n",
    "Your phone can also tell you which of your friends are nearby, and search results can be fitered to only show nearby businesses.  \n",
    "  \n",
    "All of this is simply the continuation of a trend that started when GIS systems were housed on mainframe computers and operated by specialists who spent years learning about them.  \n",
    "  \n",
    "Geospatial data and applications have been \"democratized\" over the years, making them available in more places, to more people.  \n",
    "What was possible only in a large organization can now be done by anyone using a handheld device.  \n",
    "As technology continues to improve, and the tools become more powerful, this trend is sure to continue.  \n",
    "  \n"
   ]
  },
  {
   "cell_type": "markdown",
   "metadata": {},
   "source": [
    "## 1.5 Summary "
   ]
  },
  {
   "cell_type": "markdown",
   "metadata": {},
   "source": [
    "In this chapter, we briefl introduced the Python programming language and the main concepts behind geospatial development.  \n",
    "We have seen:   \n",
    "* That Python is a very high-level language eminently suited to the task of geospatial development.  \n",
    "* That there are a number of libraries which can be downloaded to make it easier to perform geospatial development work in Python.  \n",
    "* That the term \"geospatial data\" refers to information that is located on the earth's surface using coordinates.  \n",
    "* That the term \"geospatial development\" refers to the process of writing computer programs that can access, manipulate, and display geospatial data.  \n",
    "* That the process of accessing geospatial data is non-trivial, thanks to differing fie formats and data standards.  \n",
    "* What types of questions can be answered by analyzing geospatial data.  \n",
    "* How geospatial data can be used for visualization.  \n",
    "* How mash-ups can be used to combine data (often geospatial data) in useful and interesting ways.  \n",
    "* How Google Maps, Google Earth, and the development of cheap and portable GPS units have \"democratized\" geospatial development.  \n",
    "* The inflence the open source software movement has had on the availability of high quality, freely-available tools for geospatial development.  \n",
    "* How various standards organizations have defied formats and protocols for sharing and storing geospatial data.  \n",
    "* The increasing use of geolocation to capture and work with geospatial data in surprising and useful ways.  \n"
   ]
  },
  {
   "cell_type": "code",
   "execution_count": null,
   "metadata": {
    "collapsed": true
   },
   "outputs": [],
   "source": []
  }
 ],
 "metadata": {
  "kernelspec": {
   "display_name": "Python 2",
   "language": "python",
   "name": "python2"
  },
  "language_info": {
   "codemirror_mode": {
    "name": "ipython",
    "version": 2
   },
   "file_extension": ".py",
   "mimetype": "text/x-python",
   "name": "python",
   "nbconvert_exporter": "python",
   "pygments_lexer": "ipython2",
   "version": "2.7.13"
  }
 },
 "nbformat": 4,
 "nbformat_minor": 2
}
