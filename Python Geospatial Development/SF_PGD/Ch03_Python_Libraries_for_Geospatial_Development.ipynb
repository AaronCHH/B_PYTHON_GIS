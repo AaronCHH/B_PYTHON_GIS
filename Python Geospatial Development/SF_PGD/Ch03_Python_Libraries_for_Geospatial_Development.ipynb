{
 "cells": [
  {
   "cell_type": "markdown",
   "metadata": {},
   "source": [
    "# Chapter 3: Python Libraries for Geospatial Development"
   ]
  },
  {
   "cell_type": "markdown",
   "metadata": {},
   "source": [
    "* Python libraries for reading and writing geospatial data  \n",
    "* Python libraries for dealing with map projections  \n",
    "* Libraries for analyzing and manipulating geospatial data directly within your Python programs  \n",
    "* Tools for visualizing geospatial data  "
   ]
  },
  {
   "cell_type": "markdown",
   "metadata": {},
   "source": [
    "## 3.1 Reading and writing geospatial data"
   ]
  },
  {
   "cell_type": "markdown",
   "metadata": {},
   "source": [
    "While you could in theory write your own parser to read a particular geospatial data\n",
    "format, it is much easier to use an existing Python library to do this. We will look at\n",
    "two popular libraries for reading and writing geospatial data: GDAL and OGR."
   ]
  },
  {
   "cell_type": "markdown",
   "metadata": {},
   "source": [
    "### 3.1.1 GDAL/OGR"
   ]
  },
  {
   "cell_type": "markdown",
   "metadata": {},
   "source": [
    "Unfortunately, the naming of these two libraries is rather confusing.  \n",
    "__Geospatial Data Abstraction Library (GDAL)__, was originally just a library for working with raster geospatial data, while the separate OGR library was intended to work with vector data.  \n",
    "However, the two libraries are now partially merged, and are generally downloaded and installed together under the combined name of \"GDAL\".  \n",
    "To avoid confusion, we will call this combined library __GDAL/OGR__ and use \"GDAL\" to refer to just the raster translation library.  \n",
    "  \n",
    "A default installation of GDAL supports reading 116 different raster fie formats, and writing to 58 different formats.  \n",
    "OGR by default supports reading 56 different vector fie formats, and writing to 30 formats.  \n",
    "This makes GDAL/OGR one of the most powerful geospatial data translators available, and certainly the most useful freely-available library for reading and writing geospatial data.  \n"
   ]
  },
  {
   "cell_type": "markdown",
   "metadata": {},
   "source": [
    "* __GDAL design__  "
   ]
  },
  {
   "cell_type": "markdown",
   "metadata": {},
   "source": [
    "* __GDAL example code__  "
   ]
  },
  {
   "cell_type": "markdown",
   "metadata": {},
   "source": [
    "* __OGR design__  "
   ]
  },
  {
   "cell_type": "markdown",
   "metadata": {},
   "source": [
    "* __OGR example code__  "
   ]
  },
  {
   "cell_type": "markdown",
   "metadata": {},
   "source": [
    "### 3.1.2 Documentation"
   ]
  },
  {
   "cell_type": "markdown",
   "metadata": {},
   "source": [
    "GDAL and OGR are well documented, but with a catch for Python programmers.\n",
    "The GDAL/OGR library and associated command-line tools are all written in C and C++.\n",
    "Bindings are available which allow access from a variety of other languages, including Python, but the documentation is all written for the C++ version of the libraries.\n",
    "This can make reading the documentation rather challenging—not only are all the method signatures written in C++, but the Python bindings have changed many of the method and class names to make them more \"pythonic\".\n",
    "\n",
    "Fortunately, the Python libraries are largely self-documenting, thanks to all the docstrings embedded in the Python bindings themselves.\n",
    "This means you can explore the documentation using tools such as Python's built-in pydoc utility, which can be run from the command line like this:  \n",
    "```\n",
    "% pydoc -g osgeo\n",
    "```\n",
    "This will open up a GUI window allowing you to read the documentation using a web browser.\n",
    "Alternatively, if you want to fid out about a single method or class, you can use Python's built-in help()  command from the Python command line, like this:\n",
    "```\n",
    ">>> import osgeo.ogr\n",
    ">>> help(osgeo.ogr.DataSource.CopyLayer)\n",
    "```\n",
    "Not all the methods are documented, so you may need to refer to the C++ docs on the GDAL website for more information, and some of the docstrings are copied directly from the C++ documentation—but in general the documentation for GDAL/OGR is excellent, and should allow you to quickly come up to speed using this library.\n"
   ]
  },
  {
   "cell_type": "markdown",
   "metadata": {},
   "source": [
    "### 3.1.3 Availability"
   ]
  },
  {
   "cell_type": "markdown",
   "metadata": {},
   "source": [
    "GDAL/OGR runs on modern Unix machines, including Linux and Mac OS X, as well as most versions of Microsoft Windows.  \n",
    "The main website for GDAL can be found at:  \n",
    "http://gdal.org  \n",
    "  \n",
    "The main website for OGR is at:  \n",
    "http://gdal.org/ogr  \n",
    "  \n",
    "To download GDAL/OGR, follow the Downloads link on the main GDAL website.  \n",
    "Windows users may fid the FWTools package useful, as it provides a wide range of geospatial software for win32 machines, including GDAL/OGR and its Python bindings.  \n",
    "FWTools can be found at:  \n",
    "http://fwtools.maptools.org  \n",
    "  \n",
    "For those running Mac OS X, prebuilt binaries can be obtained from:  \n",
    "http://www.kyngchaos.com/software/frameworks  \n",
    "  \n",
    "  \n",
    "Being an open source package, the complete source code for GDAL/OGR is available from the website, so you can compile it yourself.  \n",
    "Most people, however, will simply want to use a prebuilt binary version.  \n"
   ]
  },
  {
   "cell_type": "markdown",
   "metadata": {},
   "source": [
    "## 3.2 Dealing with projections"
   ]
  },
  {
   "cell_type": "code",
   "execution_count": null,
   "metadata": {
    "collapsed": true
   },
   "outputs": [],
   "source": []
  },
  {
   "cell_type": "markdown",
   "metadata": {},
   "source": [
    "### 3.2.1 pyproj"
   ]
  },
  {
   "cell_type": "code",
   "execution_count": null,
   "metadata": {
    "collapsed": true
   },
   "outputs": [],
   "source": []
  },
  {
   "cell_type": "markdown",
   "metadata": {},
   "source": [
    "### 3.2.2 Design"
   ]
  },
  {
   "cell_type": "markdown",
   "metadata": {},
   "source": [
    "* __Proj__  "
   ]
  },
  {
   "cell_type": "markdown",
   "metadata": {},
   "source": [
    "* __Geod__  "
   ]
  },
  {
   "cell_type": "markdown",
   "metadata": {},
   "source": [
    "### 3.2.3 Example code"
   ]
  },
  {
   "cell_type": "markdown",
   "metadata": {},
   "source": [
    "### 3.2.4 Documentation"
   ]
  },
  {
   "cell_type": "markdown",
   "metadata": {},
   "source": [
    "The documentation available on the pyproj  website, and in the docs directory provided with the source code, is excellent as far as it goes.  \n",
    "It describes how to use the various classes and methods, what they do and what parameters are required.  \n",
    "However, the documentation is rather sparse when it comes to the parameters used when creating a new Proj object.  \n",
    "As the documentation says:  \n",
    "  \n",
    "> A Proj class instance is initialized with proj map projection control parameter key/ value pairs.  \n",
    "The key/value pairs can either be passed in a dictionary, or as keyword arguments, or as a proj4 string (compatible with the proj command).  \n",
    "  \n",
    "The documentation does provide a link to a website listing a number of standard map projections and their associated parameters, but understanding what these parameters mean generally requires you to delve into the PROJ documentation itself.  \n",
    "The documentation for PROJ is dense and confusing, even more so because the main manual is written for PROJ Version 3, with addendums for later versions.  \n",
    "Attempting to make sense of all this can be quite challenging.  \n",
    "  \n",
    "Fortunately, in most cases you won't need to refer to the PROJ documentation at all.  \n",
    "When working with geospatial data using GDAL or OGR, you can easily extract the projection as a \"proj4 string\" which can be passed directly to the Proj  initializer.  \n",
    "If you want to hardwire the projection, you can generally choose a projection and ellipsoid using the proj=\"...  \n",
    "\" and ellps=\"...\"  parameters, respectively.  \n",
    "If you want to do more than this, though, you will need to refer to the PROJ documentation for more details.  \n",
    "  \n",
    "> To fid out more about PROJ, and to read the original documentation, you can fid everything you need at: http://trac.osgeo.org/proj  \n"
   ]
  },
  {
   "cell_type": "markdown",
   "metadata": {},
   "source": [
    "### 3.2.5 Availability"
   ]
  },
  {
   "cell_type": "markdown",
   "metadata": {},
   "source": [
    "Prebuild versions of pyproj are available for MS Windows, with source code distributions for other platforms.  \n",
    "The main web page for pyproj can be found at:  \n",
    "http://code.google.com/p/pyproj  \n",
    "  \n",
    "How you go about installing it depends on which operating system you are running.  \n",
    "* MS Windows  \n",
    "For computers running MS Windows, installation is easy: just go to the downloads page at the website mentioned earlier and and choose the appropriate installer for your version of Python.  \n",
    "The installer includes everything you need, including the PROJ framework.  \n",
    "* Linux  \n",
    "For computers running Linux, you have to download and install the PROJ framework separately, before installing pyproj .  \n",
    "For Linux machines, you can generally obtain PROJ.4 as an RPM or source tarball which you can then compile yourself.  \n",
    "Once this has been done, you can download the pyproj  source code from the above website, and compile and install it in the usual way:  \n",
    "```  \n",
    "python setup.py build  \n",
    "python setup.py install  \n",
    "```  \n",
    "* Macintosh  \n",
    "If your computer runs Mac OS X, you will also have to download and install PROJ separately.  \n",
    "You can install a compiled version of the PROJ framework either as part of a \"GDAL Complete\" installation, or by just installing the PROJ framework by itself.  \n",
    "Either are available at:  \n",
    "http://www.kyngchaos.com/software/frameworks  \n",
    "\n",
    "Once you have installed PROJ.4, you will have to download and build your own copy of the pyproj  library.  \n",
    "Before you can compile pyproj , you will need to have Apple's developer tools installed.  \n",
    "Doing this is a two-step process:  \n",
    "1. Download and install the latest version of XCode.  \n",
    "XCode is available for free from the App store, or if you are running an older version of OS X you can download it from: https://developer.apple.com/xcode  \n",
    "2. Run XCode, and choose the Preferences command.  \n",
    "Within the Downloads tab, click on the Install button beside the Command Line Tools item:  \n",
    "  \n",
    "Once you have the developer tools installed, download the source code to pyproj from the website mentioned earlier.  \n",
    "Then open up a Terminal window and cd into the main source code directory, then type the following commands:  \n",
    "```  \n",
    "python setup.py build  \n",
    "sudo python.setup.py install  \n",
    "```  \n",
    "Once this has fiished, you can check that it worked by running the Python  \n",
    "interpreter and typing the following command:  \n",
    "```  \n",
    "import pyproj  \n",
    "```  \n",
    "The Python prompt should reappear without any error messages being shown.  \n"
   ]
  },
  {
   "cell_type": "markdown",
   "metadata": {},
   "source": [
    "## 3.3 Analyzing and manipulating geospatial Data"
   ]
  },
  {
   "cell_type": "markdown",
   "metadata": {},
   "source": [
    "### 3.3.1 Shapely"
   ]
  },
  {
   "cell_type": "markdown",
   "metadata": {},
   "source": [
    "### 3.3.2 Design"
   ]
  },
  {
   "cell_type": "markdown",
   "metadata": {},
   "source": [
    "### 3.3.3 Example code"
   ]
  },
  {
   "cell_type": "markdown",
   "metadata": {},
   "source": [
    "### 3.3.4 Documentation"
   ]
  },
  {
   "cell_type": "markdown",
   "metadata": {},
   "source": [
    "Shapely comes with excellent documentation, with detailed descriptions, extended code samples, and many illustrations that clearly show how the various classes, methods, and attributes work.  \n",
    "  \n",
    "The Shapely documentation is entirely self-contained; there is no need to refer to the GEOS documentation, or to the Java Topology Suite it is based on, unless you particularly want to see how things are done in these libraries.  \n",
    "The only exception is that you may need to refer to the GEOS documentation if you are compiling GEOS from source and are having problems getting it to work.  \n",
    "   \n"
   ]
  },
  {
   "cell_type": "markdown",
   "metadata": {},
   "source": [
    "### 3.3.5 Availability"
   ]
  },
  {
   "cell_type": "markdown",
   "metadata": {},
   "source": [
    "Shapely will run on all major operating systems, including MS Windows, Mac OS X, and Linux.  \n",
    "Shapely's main website can be found at:   \n",
    "http://pypi.python.org/pypi/Shapely  \n",
    "  \n",
    "The website has everything you need, including the documentation and downloads for the Shapely library, in both source code form and prebuilt binaries for MS Windows.  \n",
    "  \n",
    "If you are installing Shapely on a Windows computer, the prebuilt binaries include the GEOS library built-in.  \n",
    "Otherwise, you will be responsible for installing GEOS before you can use Shapely.  \n",
    "  \n",
    "The GEOS library's website is at:   \n",
    "http://trac.osgeo.org/geos  \n",
    "  \n",
    "To install GEOS in a Unix-based computer, you can either download the source code from the GEOS website and compile it yourself, or you can install a suitable RPM or APT package which includes GEOS.  \n",
    "If you are running Mac OS X, you can either try to download and build GEOS yourself, or you can install the prebuild GEOS framework, which is available from the following website: http://www.kyngchaos.com/software/frameworks   \n",
    "  \n",
    "After installing GEOS, you need to download, compile, and install the Shapely library.  \n",
    "This can be slightly tricky on a Mac OS X computer, so you may fid the following blog post useful:   \n",
    "http://tumblr.pauladamsmith.com/post/17663153373  \n",
    "  \n"
   ]
  },
  {
   "cell_type": "markdown",
   "metadata": {},
   "source": [
    "## 3.4 Visualizing geospatial data"
   ]
  },
  {
   "cell_type": "markdown",
   "metadata": {},
   "source": [
    "It's very hard, if not impossible, to understand geospatial data unless it is turned into a visual form—that is, until it is rendered as an image of some sort.  \n",
    "Converting geospatial data into images requires a suitable toolkit.  \n",
    "While there are several such toolkits available, we will look at one in particular: Mapnik.  \n",
    "  \n"
   ]
  },
  {
   "cell_type": "markdown",
   "metadata": {},
   "source": [
    "### 3.4.1 Mapnik"
   ]
  },
  {
   "cell_type": "markdown",
   "metadata": {},
   "source": [
    "Mapnik is a freely-available toolkit for building mapping applications.  \n",
    "It takes geospatial data from a PostGIS database, shapefie, or any other format supported by GDAL/OGR, and turns it into clearly-rendered, good-looking images.  \n",
    "  \n",
    "There are a lot of complex issues involved in rendering maps well, and Mapnik does a good job of allowing the application developer to control the rendering process.  \n",
    "Rules control which features should appear on the map, while \"symbolizers\" control the visual appearance of these features.  \n",
    "  \n",
    "Mapnik allows developers to create XML stylesheets that control the map-creation process.  \n",
    "Just as with CSS stylesheets, Mapnik's stylesheets allow you complete control over the way geospatial data is rendered.  \n",
    "Alternatively, you can create your styles by hand if you prefer.  \n",
    "  \n",
    "Mapnik itself is written in C++, though bindings are included which allow access to almost all of the Mapnik functionality via Python.  \n",
    "Because these bindings are included in the main code base rather than being added by a third party developer, support for Python is built right into Mapnik.  \n",
    "This makes Python eminently suited to developing Mapnik-based applications.  \n",
    "  \n",
    "Mapnik is heavily used by OpenStreetMap (http://openstreetmap.org), EveryBlock (http://everyblock.com), among others.  \n",
    "Since the output of Mapnik is simply an image, it is easy to include Mapnik as part of a web-based application, or you can display the output directly in a window as part of a desktop-based application.  \n",
    "Mapnik works equally well on the desktop and on the web.  \n",
    "  \n"
   ]
  },
  {
   "cell_type": "markdown",
   "metadata": {},
   "source": [
    "### 3.4.2 Design"
   ]
  },
  {
   "cell_type": "markdown",
   "metadata": {},
   "source": [
    "### 3.4.3 Example code"
   ]
  },
  {
   "cell_type": "markdown",
   "metadata": {},
   "source": [
    "### 3.4.4 Documentation"
   ]
  },
  {
   "cell_type": "markdown",
   "metadata": {},
   "source": [
    "Mapnik's has reasonable documentation for an open source project: there are good installation guides and some excellent tutorials, but the API documentation is often confusing.  \n",
    "The Python documentation is derived from the C++ documentation, and concentrates on describing how the Python bindings are implemented rather than how an end user would work with Mapnik using Python—there's a lot of technical details that aren't relevant to the Python programmer, and many Python-specifi descriptions are missing.  \n",
    "  \n",
    "The best way to get started with Mapnik is to follow the installation instructions, and then to work your way through the supplied Python-specifi tutorial.  \n",
    "You can then check out the Learning Mapnik page on the Mapnik Wiki: http://trac.mapnik.org/wiki/LearningMapnik  \n",
    "\n",
    "http://mapnik.org/  \n",
    "https://github.com/mapnik/mapnik/wiki  \n",
    "https://github.com/mapnik/mapnik/wiki/LearningMapnik  \n",
    "https://en.wikipedia.org/wiki/Mapnik  \n",
    "\n",
    "It is well worth spending some time reading through the Mapnik Wiki, even though not all of it is Python-specifi.  \n",
    "It is also a good idea to look at the Python API documentation, despite its limitations.  \n",
    "The main page lists the various classes, which are available and a number of useful functions, many of which are documented.  \n",
    "The classes themselves list the methods and properties (attributes) you can access, and even though many of these lack Python-specifi documentation, you can generally guess what they do.  \n",
    "  \n"
   ]
  },
  {
   "cell_type": "markdown",
   "metadata": {},
   "source": [
    "### 3.4.5 Availability"
   ]
  },
  {
   "cell_type": "markdown",
   "metadata": {},
   "source": [
    "Mapnik runs on all major operating systems, including MS Windows, Mac OS X, and Linux.  \n",
    "The main Mapnik website can be found at:   \n",
    "http://mapnik.org  \n",
    "Download links are provided for downloading the Mapnik source code, which can be readily compiled if you are running on a Unix machine, and you can also download prebuilt binaries for Windows and Mac OS X.  \n"
   ]
  },
  {
   "cell_type": "markdown",
   "metadata": {},
   "source": [
    "## 3.5 Summary "
   ]
  },
  {
   "cell_type": "markdown",
   "metadata": {},
   "source": [
    "In this chapter, we looked at a number of important libraries for developing geospatial applications using Python. We learned the following:  \n",
    "* GDAL is a C++ library for reading (and sometimes writing) raster-based geospatial data.  \n",
    "* OGR is a C++ library for reading (and sometimes writing) vector-based geospatial data.  \n",
    "* GDAL and OGR include Python bindings that are easy to use, and support a large number of data formats.  \n",
    "* The PROJ.4 library, and its Pythonic pyproj  wrapper, allow you to convert between geographic coordinates (points on the Earth's surface) and cartographic coordinates (x,y coordinates on a two-dimensional plane) using any desired map projection and ellipsoid.  \n",
    "* The pyproj  Geod class allows you to perform various geodetic calculations based on points on the Earth's surface, a given distance, and a given angle (azimuth).  \n",
    "* A geospatial data manipulation library called the Java Topology Suite was originally developed for Java. This was then rewritten in C++ under the name GEOS, and there is now a Python interface to GEOS called Shapely.  \n",
    "* Shapely makes it easy to represent geospatial data in the form of Points, LineStrings, LinearRings, Polygons, MultiPoints, MultiLineStrings, MultiPolygons, and GeometryCollections.  \n",
    "* As well as representing geospatial data, these classes allow you to perform a variety of geospatial calculations.  \n",
    "* Mapnik is a tool for producing good-looking maps based on geospatial data.  \n",
    "* Mapnik can use an XML stylesheet to control the elements that appear on the map, and how they are formatted. Styles can also be created by hand if you prefer.  \n",
    "* Each Mapnik style has a list of Rules which are used to identify features to draw onto the map.  \n",
    "* Each Mapnik rule has a list of Symbolizers that control how the selected features are drawn.  \n"
   ]
  },
  {
   "cell_type": "code",
   "execution_count": null,
   "metadata": {
    "collapsed": true
   },
   "outputs": [],
   "source": []
  }
 ],
 "metadata": {
  "kernelspec": {
   "display_name": "Python 2",
   "language": "python",
   "name": "python2"
  },
  "language_info": {
   "codemirror_mode": {
    "name": "ipython",
    "version": 2
   },
   "file_extension": ".py",
   "mimetype": "text/x-python",
   "name": "python",
   "nbconvert_exporter": "python",
   "pygments_lexer": "ipython2",
   "version": "2.7.13"
  }
 },
 "nbformat": 4,
 "nbformat_minor": 2
}
