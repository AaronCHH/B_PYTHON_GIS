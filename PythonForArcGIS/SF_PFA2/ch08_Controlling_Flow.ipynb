{
 "cells": [
  {
   "cell_type": "markdown",
   "metadata": {},
   "source": [
    "# 8 Controlling Flow"
   ]
  },
  {
   "cell_type": "markdown",
   "metadata": {},
   "source": [
    "## 8.1 Outlining Workflow"
   ]
  },
  {
   "cell_type": "markdown",
   "metadata": {},
   "source": [
    "### Example 8.1: Pseudocode for processing dredging sediment data repeats steps 3–5 for each table."
   ]
  },
  {
   "cell_type": "markdown",
   "metadata": {},
   "source": [
    "```\n",
    "GET a list of the weekly data base tables.\n",
    "FOR each table in the list\n",
    "    Make a spatial layer from the table.\n",
    "    Clip the new layer on the disposal site extent.\n",
    "    Convert clipped vector data to raster format.\n",
    "ENDFOR\n",
    "Find weighted sum of output rasters.\n",
    "```"
   ]
  },
  {
   "cell_type": "markdown",
   "metadata": {},
   "source": [
    "### Example 8.2: Pseudocode for automatically fetching and uncompressing data files listed on a web site."
   ]
  },
  {
   "cell_type": "markdown",
   "metadata": {},
   "source": [
    "```\n",
    "GET the data center web page URL.\n",
    "READ the data center web page contents.\n",
    "GET a list of links to data in the page contents.\n",
    "FOR each data link\n",
    "    Fetch the data from the specified link.\n",
    "    Save the data.\n",
    "    IF the data is zip compressed THEN\n",
    "        Unzip data.\n",
    "        Delete zip file.\n",
    "    ELSE IF the data is tar compressed THEN\n",
    "        Untar data.\n",
    "        Delete tar file.\n",
    "    ENDIF\n",
    "ENDFOR\n",
    "```"
   ]
  },
  {
   "cell_type": "markdown",
   "metadata": {},
   "source": [
    "### Example 8.3: Pseudocode for preparing a table for ArcGIS import by deleting unneeded rows and columns and repairing fi eld names."
   ]
  },
  {
   "cell_type": "markdown",
   "metadata": {},
   "source": [
    "```\n",
    "FUNC preprocessTable (data table, field name row number, first\n",
    "invalid column number)\n",
    "    OPEN data table.\n",
    "    SET row number to 1.\n",
    "    WHILE row number < field name row number\n",
    "        Delete row.\n",
    "        INCREMENT row number.\n",
    "    ENDWHILE\n",
    "    SET column number to first invalid column number.\n",
    "    WHILE column number <= number of columns\n",
    "        Delete column.\n",
    "        INCREMENT column number.\n",
    "    ENDWHILE\n",
    "    GET a list of field names in the table.\n",
    "    FOR each field name in the list\n",
    "        Replace special characters in field name with underscore.\n",
    "    ENDFOR\n",
    "    Save the data table.\n",
    "    Close the data table.\n",
    "ENDFUNC\n",
    "```"
   ]
  },
  {
   "cell_type": "markdown",
   "metadata": {},
   "source": [
    "### Example 8.4: Pseudocode for preparing a set of tables for ArcGIS import; For each table, it deletes the fi rst 5 rows and the columns beyond column 50, and repairs the fi eld names."
   ]
  },
  {
   "cell_type": "markdown",
   "metadata": {},
   "source": [
    "```\n",
    "GET a list of table names.\n",
    "FOR each table name in the list\n",
    "    CALL preprocessTable(table name, 6, 51).\n",
    "ENDFOR\n",
    "```"
   ]
  },
  {
   "cell_type": "markdown",
   "metadata": {},
   "source": [
    "### Example 8.5: Pseudocode for correcting a misspelled fi eld name (vlue to value) in each of a set of tables that are distributed through a set of subdirectories."
   ]
  },
  {
   "cell_type": "markdown",
   "metadata": {},
   "source": [
    "```\n",
    "FOR each subdirectory of the current directory\n",
    "    FOR each table in this subdirectory\n",
    "        FOR each field in this table\n",
    "            GET the field name.\n",
    "            IF the field name is 'vlue' THEN\n",
    "                SET field name to 'value'.\n",
    "            ENDIF\n",
    "        ENDFOR\n",
    "    ENDFOR\n",
    "ENDFOR\n",
    "```"
   ]
  },
  {
   "cell_type": "markdown",
   "metadata": {},
   "source": [
    "## 8.2 Key Terms"
   ]
  },
  {
   "cell_type": "markdown",
   "metadata": {},
   "source": [
    "## 8.3 Exercises"
   ]
  },
  {
   "cell_type": "code",
   "execution_count": null,
   "metadata": {
    "collapsed": true
   },
   "outputs": [],
   "source": []
  }
 ],
 "metadata": {
  "kernelspec": {
   "display_name": "Python 2",
   "language": "python",
   "name": "python2"
  },
  "language_info": {
   "codemirror_mode": {
    "name": "ipython",
    "version": 2
   },
   "file_extension": ".py",
   "mimetype": "text/x-python",
   "name": "python",
   "nbconvert_exporter": "python",
   "pygments_lexer": "ipython2",
   "version": "2.7.2"
  }
 },
 "nbformat": 4,
 "nbformat_minor": 1
}
