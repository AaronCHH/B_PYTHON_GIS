{
 "cells": [
  {
   "cell_type": "markdown",
   "metadata": {},
   "source": [
    "# 17 Reading and Writing with Cursors"
   ]
  },
  {
   "cell_type": "code",
   "execution_count": 10,
   "metadata": {
    "collapsed": true
   },
   "outputs": [],
   "source": [
    "import os, sys, arcpy"
   ]
  },
  {
   "cell_type": "markdown",
   "metadata": {},
   "source": [
    "## 17.1 Introduction to Cursors"
   ]
  },
  {
   "cell_type": "markdown",
   "metadata": {},
   "source": [
    "## 17.2 Reading Rows"
   ]
  },
  {
   "cell_type": "code",
   "execution_count": null,
   "metadata": {
    "collapsed": true
   },
   "outputs": [],
   "source": [
    "import arcpy\n",
    "# Create a cursor\n",
    "fc = 'C:/gispy/data/ch17/ fires.shp'\n",
    "cursor = arcpy.da.SearchCursor fc, ['FID', 'FireId', 'FireName'])"
   ]
  },
  {
   "cell_type": "code",
   "execution_count": null,
   "metadata": {
    "collapsed": true
   },
   "outputs": [],
   "source": [
    "row = cursor.next() # Get an individual row.\n",
    "row"
   ]
  },
  {
   "cell_type": "code",
   "execution_count": null,
   "metadata": {
    "collapsed": true
   },
   "outputs": [],
   "source": [
    "row[0]# FID"
   ]
  },
  {
   "cell_type": "code",
   "execution_count": null,
   "metadata": {
    "collapsed": true
   },
   "outputs": [],
   "source": [
    "row[1]# FireId"
   ]
  },
  {
   "cell_type": "code",
   "execution_count": null,
   "metadata": {
    "collapsed": true
   },
   "outputs": [],
   "source": [
    "row[2]# FireName"
   ]
  },
  {
   "cell_type": "code",
   "execution_count": null,
   "metadata": {
    "collapsed": true
   },
   "outputs": [],
   "source": [
    "row = cursor.next()# Get the second row\n",
    "row"
   ]
  },
  {
   "cell_type": "code",
   "execution_count": null,
   "metadata": {
    "collapsed": true
   },
   "outputs": [],
   "source": [
    "row = cursor.next()# Get the third row\n",
    "row"
   ]
  },
  {
   "cell_type": "code",
   "execution_count": null,
   "metadata": {
    "collapsed": true
   },
   "outputs": [],
   "source": [
    "cursor.reset()\n",
    "row = cursor.next()\n",
    "row"
   ]
  },
  {
   "cell_type": "code",
   "execution_count": null,
   "metadata": {
    "collapsed": true
   },
   "outputs": [],
   "source": [
    "fds = cursor. fields\n",
    "fds"
   ]
  },
  {
   "cell_type": "code",
   "execution_count": null,
   "metadata": {
    "collapsed": true
   },
   "outputs": [],
   "source": [
    "row = sc.next# Missing parentheses!\n",
    "row"
   ]
  },
  {
   "cell_type": "code",
   "execution_count": null,
   "metadata": {
    "collapsed": true
   },
   "outputs": [],
   "source": [
    "row[0]"
   ]
  },
  {
   "cell_type": "markdown",
   "metadata": {},
   "source": [
    "## 17.3 The Field Names Parameter"
   ]
  },
  {
   "cell_type": "code",
   "execution_count": null,
   "metadata": {
    "collapsed": true
   },
   "outputs": [],
   "source": [
    "# Create a cursor\n",
    "fc = 'C:/gispy/data/ch17/ fires.shp'\n",
    "cursor = arcpy.da.SearchCursor(fc, ['FireName', 'FID'])\n",
    "row = cursor.next()\n",
    "row"
   ]
  },
  {
   "cell_type": "code",
   "execution_count": null,
   "metadata": {
    "collapsed": true
   },
   "outputs": [],
   "source": [
    "row[0]"
   ]
  },
  {
   "cell_type": "code",
   "execution_count": null,
   "metadata": {
    "collapsed": true
   },
   "outputs": [],
   "source": [
    "row[1]"
   ]
  },
  {
   "cell_type": "code",
   "execution_count": null,
   "metadata": {
    "collapsed": true
   },
   "outputs": [],
   "source": [
    "# Create a cursor with access to ALL the fields.\n",
    "cursor = arcpy.da.SearchCursor(fc, '*')\n",
    "cursor.fields"
   ]
  },
  {
   "cell_type": "markdown",
   "metadata": {},
   "source": [
    "### Example 17.1: Print data values with unknown field names"
   ]
  },
  {
   "cell_type": "code",
   "execution_count": null,
   "metadata": {
    "collapsed": false
   },
   "outputs": [],
   "source": [
    "# %load ch17/script2/printTableExclude.py\n",
    "# printTableExclude.py\n",
    "# Purpose: Print the names of the non-geometry non-OID type fields in the\n",
    "#     input file and the value of these fields for each record.\n",
    "# Usage: Full path file name\n",
    "# Example input: C:/gispy/data/ch17/fires.shp\n",
    "import arcpy, sys\n",
    "\n",
    "\n",
    "def excludeFields(table, types=[]):\n",
    "    '''Return a list of fields minus those with specified field types'''\n",
    "    fieldNames = []\n",
    "    fds = arcpy.ListFields(table)\n",
    "    for f in fds:\n",
    "        if f.type not in types:\n",
    "            fieldNames.append(f.name)\n",
    "    return fieldNames\n",
    "\n",
    "fc = sys.argv[1]\n",
    "excludeTypes = ['Geometry', 'OID']\n",
    "fields = excludeFields(fc, excludeTypes)\n",
    "\n",
    "with arcpy.da.SearchCursor(fc, fields) as cursor:\n",
    "    print cursor.fields\n",
    "    for row in cursor:\n",
    "        print row\n",
    "del cursor\n"
   ]
  },
  {
   "cell_type": "markdown",
   "metadata": {},
   "source": [
    "## 17.4 The Shape Field and Geometry Tokens"
   ]
  },
  {
   "cell_type": "code",
   "execution_count": null,
   "metadata": {
    "collapsed": true
   },
   "outputs": [],
   "source": [
    "fds = arcpy.ListFields('C:/gispy/data/ch17/park.shp')\n",
    "[f.name for f in fds]"
   ]
  },
  {
   "cell_type": "code",
   "execution_count": null,
   "metadata": {
    "collapsed": true
   },
   "outputs": [],
   "source": [
    "[f.type for f in fds]"
   ]
  },
  {
   "cell_type": "code",
   "execution_count": null,
   "metadata": {
    "collapsed": true
   },
   "outputs": [],
   "source": [
    "data = 'C:/gispy/data/ch17/special_regions.shp'\n",
    "fieldName = 'PolyArea'\n",
    "expr = '!shape.area!'\n",
    "arcpy.CalculateField_management(data, fieldName, expr, 'PYTHON')"
   ]
  },
  {
   "cell_type": "code",
   "execution_count": null,
   "metadata": {
    "collapsed": true
   },
   "outputs": [],
   "source": [
    "parkData = 'C:/gispy/data/ch17/parks.shp'\n",
    "cursor = arcpy.da.SearchCursor (parkData,['SHAPE@AREA'])\n",
    "row = cursor.next()\n",
    "row[0]"
   ]
  },
  {
   "cell_type": "code",
   "execution_count": null,
   "metadata": {
    "collapsed": true
   },
   "outputs": [],
   "source": [
    "cursor = arcpy.da.SearchCursor (parkData, ['SHAPE@'])\n",
    "row = cursor.next()\n",
    "row[0].type\n",
    "row[0].area\n",
    "row[0].centroid\n",
    "row[0].firstPoint\n",
    "row[0].area"
   ]
  },
  {
   "cell_type": "code",
   "execution_count": null,
   "metadata": {
    "collapsed": true
   },
   "outputs": [],
   "source": [
    "cursor = arcpy.da.SearchCursor (parkData, ['SHAPE'])\n",
    "row = cursor.next()\n",
    "row[0].centroid\n",
    "row[0]"
   ]
  },
  {
   "cell_type": "markdown",
   "metadata": {},
   "source": [
    "## 17.5 Looping with Cursors"
   ]
  },
  {
   "cell_type": "code",
   "execution_count": null,
   "metadata": {
    "collapsed": true
   },
   "outputs": [],
   "source": [
    "import arcpy\n",
    "fc = 'C:/gispy/data/ch17/ fires.shp'\n",
    "fields = ['FireName']\n",
    "cursor = arcpy.da.SearchCursor(fc, fields)\n",
    "for row in cursor:\n",
    "    printrow[0]\n",
    "del cursor"
   ]
  },
  {
   "cell_type": "markdown",
   "metadata": {},
   "source": [
    "## 17.6 Locking"
   ]
  },
  {
   "cell_type": "markdown",
   "metadata": {},
   "source": [
    "### 17.6.1 The del Statement"
   ]
  },
  {
   "cell_type": "code",
   "execution_count": null,
   "metadata": {
    "collapsed": true
   },
   "outputs": [],
   "source": [
    "del cursor"
   ]
  },
  {
   "cell_type": "code",
   "execution_count": null,
   "metadata": {
    "collapsed": true
   },
   "outputs": [],
   "source": [
    "fc = 'C:/gispy/data/ch17/fires.shp'\n",
    "cursor = arcpy.da.SearchCursor(fc,['FireName'])\n",
    "for row in cursor:\n",
    "    print row[0]"
   ]
  },
  {
   "cell_type": "code",
   "execution_count": null,
   "metadata": {
    "collapsed": true
   },
   "outputs": [],
   "source": [
    "del cursor"
   ]
  },
  {
   "cell_type": "code",
   "execution_count": null,
   "metadata": {
    "collapsed": true
   },
   "outputs": [],
   "source": [
    "cursor = arcpy.da.SearchCursor(fc, ['FireName'])\n",
    "for row in cursor:\n",
    "    # Try to index a second field, but there is none.\n",
    "    printrow[1]\n",
    "del cursor"
   ]
  },
  {
   "cell_type": "markdown",
   "metadata": {},
   "source": [
    "### Example 17.2: Using try/except blocks with cursor looping"
   ]
  },
  {
   "cell_type": "code",
   "execution_count": null,
   "metadata": {
    "collapsed": true
   },
   "outputs": [],
   "source": [
    "# %load ch17/script2/searchNprint.py\n",
    "# searchNprint.py\n",
    "# Purpose: Print each fire name in a file.\n",
    "# Usage: No script arguments needed.\n",
    "import arcpy, traceback\n",
    "try:\n",
    "    cursor = arcpy.da.SearchCursor('C:/gispy/data/ch17/fires.shp', ['FireName'])\n",
    "    for row in cursor:\n",
    "        print row[0]\n",
    "    del cursor\n",
    "except:\n",
    "    print 'An error occurred'\n",
    "    traceback.print_exc()\n",
    "    del cursor\n"
   ]
  },
  {
   "cell_type": "markdown",
   "metadata": {},
   "source": [
    "### 17.6.2 The with Statement"
   ]
  },
  {
   "cell_type": "markdown",
   "metadata": {},
   "source": [
    "```python\n",
    "with arcpy_cursor_function as cursor:\n",
    "    code statement(s) using the cursor\n",
    "```    "
   ]
  },
  {
   "cell_type": "markdown",
   "metadata": {},
   "source": [
    "## 17.7 Update Cursors"
   ]
  },
  {
   "cell_type": "markdown",
   "metadata": {},
   "source": [
    "### Example 17.3: Perform more than one update"
   ]
  },
  {
   "cell_type": "code",
   "execution_count": null,
   "metadata": {
    "collapsed": true
   },
   "outputs": [],
   "source": [
    "# %load ch17/script2/updateValues.py\n",
    "# updateValues.py\n",
    "# Purpose: Modify the fire type value and the fire name in each record.\n",
    "# Usage: Full path of file to copy and modify.\n",
    "# Example input: C:/gispy/data/ch17/fires.shp\n",
    "import arcpy, os, traceback, sys\n",
    "\n",
    "fcOrig = sys.argv[1]\n",
    "fc = 'scratch/' + os.path.basename(fcOrig)\n",
    "arcpy.Copy_management(fcOrig, fc)\n",
    "fields = ['FireType_P', 'FireName']\n",
    "cursor = arcpy.da.UpdateCursor(fc, fields)\n",
    "try:\n",
    "    for row in cursor:\n",
    "        # Make changes to the list of values in 'row'\n",
    "        row[0] = row[0] + 2      # Example: 13->15\n",
    "        row[1] = row[1].title()  # Example: LITTLE CRK->Little Crk\n",
    "        # Update the table (otherwise the changes won't be saved)\n",
    "        cursor.updateRow(row)\n",
    "        print 'Updated {0} and {1}'.format(row[0], row[1])\n",
    "    del cursor\n",
    "except:\n",
    "    print 'An error occurred'\n",
    "    traceback.print_exc()\n",
    "    del cursor\n"
   ]
  },
  {
   "cell_type": "markdown",
   "metadata": {},
   "source": [
    "### Example 17.4: Delete rows"
   ]
  },
  {
   "cell_type": "code",
   "execution_count": null,
   "metadata": {
    "collapsed": true
   },
   "outputs": [],
   "source": [
    "# %load ch17/script2/deleteRows.py\n",
    "# deleteRows.py\n",
    "# Purpose: Delete the first x rows.\n",
    "# Usage: Full path of file to copy and modify.\n",
    "# Example input: C:/gispy/data/ch17/fires.shp\n",
    "import arcpy, os, traceback, sys\n",
    "\n",
    "fcOrig = sys.argv[1]\n",
    "fc = 'C:/gispy/scratch/' + os.path.basename(fcOrig)\n",
    "arcpy.Copy_management(fcOrig, fc)\n",
    "\n",
    "field = 'FID'\n",
    "x = 7\n",
    "try:\n",
    "    cursor = arcpy.da.UpdateCursor(fc, [field])\n",
    "    # Delete the first x rows.\n",
    "    for row in cursor:\n",
    "        if row[0] < x:\n",
    "            # Delete this row.\n",
    "            cursor.deleteRow()\n",
    "            print 'Deleted row {0}'.format(row[0])\n",
    "    del cursor\n",
    "except:\n",
    "    print 'An error occurred.'\n",
    "    traceback.print_exc()\n",
    "    del cursor\n"
   ]
  },
  {
   "cell_type": "markdown",
   "metadata": {},
   "source": [
    "## 17.8 Insert Cursors"
   ]
  },
  {
   "cell_type": "markdown",
   "metadata": {},
   "source": [
    "### Example 17.5: Insert a row."
   ]
  },
  {
   "cell_type": "code",
   "execution_count": null,
   "metadata": {
    "collapsed": true
   },
   "outputs": [],
   "source": [
    "# %load ch17/script2/insertRow.py\n",
    "# insertRow.py\n",
    "# Purpose: Insert a new row without geometry.\n",
    "# Usage: Full path of file to copy and modify.\n",
    "# Example input: C:/gispy/data/ch17/fires.shp\n",
    "import arcpy, os, traceback, sys\n",
    "fcOrig = sys.argv[1]\n",
    "fc = '' + os.path.basename(fcOrig)\n",
    "arcpy.Copy_management(fcOrig, fc)\n",
    "fields = ['FireId', 'CalendarYe']\n",
    "# Create an insert cursor.\n",
    "try:\n",
    "    cursor = arcpy.da.InsertCursor(fc, fields)\n",
    "    # Create a list with FireId=513180 & CalendarYr=2009.\n",
    "    newRecord = [513180, 2009]\n",
    "    # Insert the row (otherwise no change would occur).\n",
    "    cursor.insertRow(newRecord)\n",
    "    print 'Point inserted.'\n",
    "    del cursor\n",
    "except:\n",
    "    print 'An error occurred.'\n",
    "    traceback.print_exc()\n",
    "    del cursor\n"
   ]
  },
  {
   "cell_type": "markdown",
   "metadata": {},
   "source": [
    "### Example 17.6: Find the maximum value of an attribute and insert multiple rows using this information"
   ]
  },
  {
   "cell_type": "code",
   "execution_count": null,
   "metadata": {
    "collapsed": true
   },
   "outputs": [],
   "source": [
    "# %load ch17/script2/insertRows.py\n",
    "# insertRows.py\n",
    "# Purpose: Insert multiple rows without geometry.\n",
    "# Usage: Full path of file to copy and modify.\n",
    "# Example input: C:/gispy/data/ch17/fires.shp\n",
    "import arcpy, os, sys, traceback\n",
    "fcOrig = sys.argv[1]\n",
    "fc = 'C:/gispy/scratch/' + os.path.basename(fcOrig)\n",
    "arcpy.Copy_management(fcOrig, fc)\n",
    "\n",
    "# Find the current fire numbers.\n",
    "try:\n",
    "    fields = ['FireNumber']\n",
    "    cursor = arcpy.da.SearchCursor(fc, fields)\n",
    "    fireNumbers = [row[0] for row in cursor]\n",
    "    print '{0} fire numbers found.'.format(len(fireNumbers))\n",
    "    del cursor\n",
    "except:\n",
    "    print 'An error occurred in the search.'\n",
    "    traceback.print_exc()\n",
    "    del cursor\n",
    "\n",
    "# Insert 5 new fires for year 2015.\n",
    "try:\n",
    "    fields.append('CalendarYe')\n",
    "    cursor = arcpy.da.InsertCursor(fc, fields)\n",
    "    # Find the max value in list and increment by 1.\n",
    "    fireNum = max(fireNumbers) + 1\n",
    "    for i in range(5):\n",
    "        # Create a row with unique fire number & year=2015.\n",
    "        newRow = [fireNum, 2015]\n",
    "        fireNum = fireNum + 1\n",
    "        # Insert the row.\n",
    "        cursor.insertRow(newRow)\n",
    "        print 'New row created with fire# {0} and year = {1}.'.format(\n",
    "                                newRow[0], newRow[1])\n",
    "    del cursor\n",
    "except:\n",
    "    print 'An error occurred in the insertion.'\n",
    "    traceback.print_exc()\n",
    "    del cursor\n"
   ]
  },
  {
   "cell_type": "markdown",
   "metadata": {},
   "source": [
    "### 17.8.1 Inserting Geometric Objects"
   ]
  },
  {
   "cell_type": "code",
   "execution_count": 11,
   "metadata": {
    "collapsed": false
   },
   "outputs": [
    {
     "data": {
      "text/plain": [
       "<Point (-70.1, 42.07, #, #)>"
      ]
     },
     "execution_count": 11,
     "metadata": {},
     "output_type": "execute_result"
    }
   ],
   "source": [
    "myPoint = arcpy.Point(-70.1, 42.07)\n",
    "myPoint"
   ]
  },
  {
   "cell_type": "markdown",
   "metadata": {},
   "source": [
    "### Create 2 polyline endpoints"
   ]
  },
  {
   "cell_type": "code",
   "execution_count": 12,
   "metadata": {
    "collapsed": false
   },
   "outputs": [
    {
     "data": {
      "text/plain": [
       "<Point (2134000.0, 179643.0, #, #)>"
      ]
     },
     "execution_count": 12,
     "metadata": {},
     "output_type": "execute_result"
    }
   ],
   "source": [
    "x = 2134000\n",
    "y = 179643\n",
    "a = arcpy.Point(x,y)\n",
    "x = 2147000\n",
    "y = 163267\n",
    "b = arcpy.Point(x,y)\n",
    "a"
   ]
  },
  {
   "cell_type": "code",
   "execution_count": 13,
   "metadata": {
    "collapsed": false
   },
   "outputs": [
    {
     "data": {
      "text/plain": [
       "<Point (2147000.0, 163267.0, #, #)>"
      ]
     },
     "execution_count": 13,
     "metadata": {},
     "output_type": "execute_result"
    }
   ],
   "source": [
    "b"
   ]
  },
  {
   "cell_type": "markdown",
   "metadata": {},
   "source": [
    "### Create an array with a Python list of Point objects."
   ]
  },
  {
   "cell_type": "code",
   "execution_count": 14,
   "metadata": {
    "collapsed": true
   },
   "outputs": [],
   "source": [
    "myArray = arcpy.Array([a,b])"
   ]
  },
  {
   "cell_type": "markdown",
   "metadata": {},
   "source": [
    "### Create a line with an Array object that has points."
   ]
  },
  {
   "cell_type": "code",
   "execution_count": 15,
   "metadata": {
    "collapsed": false
   },
   "outputs": [
    {
     "data": {
      "text/plain": [
       "20908.691398554813"
      ]
     },
     "execution_count": 15,
     "metadata": {},
     "output_type": "execute_result"
    }
   ],
   "source": [
    "line = arcpy.Polyline(myArray)\n",
    "line.length"
   ]
  },
  {
   "cell_type": "markdown",
   "metadata": {},
   "source": [
    "### Example 17.7: Insert a point"
   ]
  },
  {
   "cell_type": "code",
   "execution_count": null,
   "metadata": {
    "collapsed": true
   },
   "outputs": [],
   "source": [
    "# %load ch17/script2/insertPoint.py\n",
    "# insertPoint.py\n",
    "# Purpose: Insert a point with a Geometry object.\n",
    "# Usage: Full path of file to copy and modify.\n",
    "# Example input: C:/gispy/data/ch17/fires.shp\n",
    "\n",
    "import arcpy, os, traceback, sys\n",
    "\n",
    "# fcOrig = sys.argv[1]\n",
    "# fc = 'C:/gispy/scratch/' + os.path.basename(fcOrig)\n",
    "# arcpy.Copy_management(fcOrig, fc)\n",
    "fc = 'data/firesCopy.shp'\n",
    "\n",
    "try:\n",
    "    ic = arcpy.da.InsertCursor(fc, ['FireId', 'SHAPE@XY'])\n",
    "\n",
    "    # Create a point with x = -70.1 and y = 42.07 to be used for the Shape field.\n",
    "    myPoint = arcpy.Point(-70.1, 42.07)\n",
    "\n",
    "    # Create a row list with FireId=500000 and the new point\n",
    "    newRow = [500000, myPoint]\n",
    "\n",
    "    # Insert the new row.\n",
    "    ic.insertRow(newRow)\n",
    "    print 'New row inserted.'\n",
    "\n",
    "    del ic\n",
    "except:\n",
    "    print 'An error occurred.'\n",
    "    traceback.print_exc()\n",
    "    del cursor\n"
   ]
  },
  {
   "cell_type": "markdown",
   "metadata": {},
   "source": [
    "### Example 17.8: Insert a polygon"
   ]
  },
  {
   "cell_type": "code",
   "execution_count": null,
   "metadata": {
    "collapsed": true
   },
   "outputs": [],
   "source": [
    "# %load ch17/script2/insertPolygon.py\n",
    "# insertPolygon.py\n",
    "# Insert cursor polygon example\n",
    "# Usage: Full path of file to copy and modify.\n",
    "# Example input: C:/gispy/data/ch17/fires.shp\n",
    "import arcpy, os, traceback, sys\n",
    "\n",
    "# Create 3 point objects for the triangle.\n",
    "a = arcpy.Point(2134000, 179643)\n",
    "b = arcpy.Point(2147000, 163267)\n",
    "c = arcpy.Point(2131327, 167339)\n",
    "\n",
    "# Create an array, needed for creating a polygon.\n",
    "myArray = arcpy.Array([a, b, c])\n",
    "\n",
    "# Create a polygon.\n",
    "poly = arcpy.Polygon(myArray)\n",
    "\n",
    "fcOrig = sys.argv[1]\n",
    "fc = 'C:/gispy/scratch/' + os.path.basename(fcOrig)\n",
    "arcpy.Copy_management(fcOrig, fc)\n",
    "try:\n",
    "    # Create an insert cursor.\n",
    "    cursor = arcpy.da.InsertCursor(fc, ['SHAPE@', 'Id'])\n",
    "\n",
    "    # Create row list.\n",
    "    newRow = [poly, 333]\n",
    "\n",
    "    # Insert the new row.\n",
    "    # It's automatically given an FID one greater\n",
    "    # than the largest existing one.\n",
    "    cursor.insertRow(newRow)\n",
    "    print 'Polygon inserted.'\n",
    "    del cursor\n",
    "except:\n",
    "    print 'An error occurred.'\n",
    "    traceback.print_exc()\n",
    "    del cursor\n"
   ]
  },
  {
   "cell_type": "markdown",
   "metadata": {},
   "source": [
    "## 17.9 Selecting Rows with SQL"
   ]
  },
  {
   "cell_type": "code",
   "execution_count": 18,
   "metadata": {
    "collapsed": true
   },
   "outputs": [],
   "source": [
    "query1 = \"SizeClass = 'A'\"# Fires of size class A.\n",
    "query2 = \"FireName <> 'MEADOW'\"# Fires not named MEADOW.\n",
    "query3 = 'FID > 6'# Fires with ID greater than 6.\n",
    "query4 = \"StartTime = date '2000-01-06'\"# After Jan.6,2000"
   ]
  },
  {
   "cell_type": "markdown",
   "metadata": {},
   "source": [
    "### Example 17.9:Use awhere_clause with a cursor"
   ]
  },
  {
   "cell_type": "code",
   "execution_count": null,
   "metadata": {
    "collapsed": true
   },
   "outputs": [],
   "source": [
    "# %load ch17/script2/sqlQueryCursor.py\n",
    "# sqlQueryCursor.py\n",
    "# Purpose: Use a SQL query to select specific records.\n",
    "# Usage: No script arguments needed.\n",
    "import arcpy, traceback\n",
    "fc = 'data/fires.shp'\n",
    "\n",
    "# Create the where_clause.\n",
    "query = \"SizeClass = 'A'\"\n",
    "try:\n",
    "    sc = arcpy.da.SearchCursor(fc, ['CalendarYe'], query)\n",
    "\n",
    "    for row in sc:\n",
    "        print row[0],\n",
    "    del sc\n",
    "except:\n",
    "    print 'An error occurred.'\n",
    "    traceback.print_exc()\n",
    "    del cursor\n"
   ]
  },
  {
   "cell_type": "markdown",
   "metadata": {},
   "source": [
    "### Example 17.10: Use a cursorwhere_clause with a variable"
   ]
  },
  {
   "cell_type": "code",
   "execution_count": null,
   "metadata": {
    "collapsed": true
   },
   "outputs": [],
   "source": [
    "# %load ch17/script2/whereClauseWithVar.py\n",
    "# whereClauseWithVar.py\n",
    "# Purpose: Use a SQL query to select specific records based on user arguments.\n",
    "# Example: C:/gispy/data/ch17/fires.shp FID FireName\n",
    "import arcpy, sys, traceback\n",
    "\n",
    "fc = sys.argv[1]\n",
    "numericField = sys.argv[2]\n",
    "fieldToPrint = sys.argv[3]\n",
    "\n",
    "query = '{0} > 6'.format(numericField)  # String formatting.\n",
    "\n",
    "try:\n",
    "    with arcpy.da.SearchCursor(fc, [fieldToPrint], query) as cursor:\n",
    "        recordList = [row[0] for row in cursor]\n",
    "    del cursor\n",
    "\n",
    "    print recordList\n",
    "except:\n",
    "    print 'An error occurred.'\n",
    "    traceback.print_exc()\n",
    "    del cursor\n"
   ]
  },
  {
   "cell_type": "markdown",
   "metadata": {},
   "source": [
    "## 17.10 Key Terms"
   ]
  },
  {
   "cell_type": "markdown",
   "metadata": {},
   "source": [
    "## 17.11 Exercises"
   ]
  },
  {
   "cell_type": "code",
   "execution_count": null,
   "metadata": {
    "collapsed": true
   },
   "outputs": [],
   "source": []
  }
 ],
 "metadata": {
  "kernelspec": {
   "display_name": "Python 2",
   "language": "python",
   "name": "python2"
  },
  "language_info": {
   "codemirror_mode": {
    "name": "ipython",
    "version": 2
   },
   "file_extension": ".py",
   "mimetype": "text/x-python",
   "name": "python",
   "nbconvert_exporter": "python",
   "pygments_lexer": "ipython2",
   "version": "2.7.13"
  }
 },
 "nbformat": 4,
 "nbformat_minor": 1
}
