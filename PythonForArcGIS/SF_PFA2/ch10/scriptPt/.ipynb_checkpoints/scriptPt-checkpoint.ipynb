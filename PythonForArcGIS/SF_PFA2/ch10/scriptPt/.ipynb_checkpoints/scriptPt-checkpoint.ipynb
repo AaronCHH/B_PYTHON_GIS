{
 "cells": [
  {
   "cell_type": "code",
   "execution_count": 7,
   "metadata": {
    "collapsed": false
   },
   "outputs": [
    {
     "data": {
      "text/plain": [
       "['.ipynb_checkpoints',\n",
       " 'bufferLoopRange.py',\n",
       " 'copyLoop.py',\n",
       " 'emotaLoop.py',\n",
       " 'listingDir.py',\n",
       " 'normalRastsLoop.py',\n",
       " 'point2Line.py',\n",
       " 'printModTime.py',\n",
       " 'scatting.py',\n",
       " 'scriptPt.ipynb',\n",
       " 'simpleForLoop.py',\n",
       " 'simpleWhileLoop.py',\n",
       " 'tabNannyExample.py']"
      ]
     },
     "execution_count": 7,
     "metadata": {},
     "output_type": "execute_result"
    }
   ],
   "source": [
    "import arcpy, os\n",
    "os.listdir(os.curdir)\n"
   ]
  },
  {
   "cell_type": "code",
   "execution_count": 8,
   "metadata": {
    "collapsed": false
   },
   "outputs": [
    {
     "data": {
      "text/plain": [
       "'d:\\\\books\\\\gisen\\\\_python\\\\pythonforarcgis\\\\sf_pfa\\\\ch10\\\\scriptpt'"
      ]
     },
     "execution_count": 8,
     "metadata": {},
     "output_type": "execute_result"
    }
   ],
   "source": [
    "os.path.abspath(os.curdir)"
   ]
  },
  {
   "cell_type": "code",
   "execution_count": 3,
   "metadata": {
    "collapsed": false
   },
   "outputs": [
    {
     "name": "stdout",
     "output_type": "stream",
     "text": [
      "../scratch/out1 created.\n",
      "../scratch/out2 created.\n",
      "../scratch/out3 created.\n",
      "Normal raster creation complete.\n"
     ]
    }
   ],
   "source": [
    "# %load normalRastsLoop.py\n",
    "# normalRastsLoop.py\n",
    "# Purpose: Create 3 raster containing random values with a normal (gaussian) distribution.\n",
    "\n",
    "import arcpy\n",
    "arcpy.env.workspace = '../data/'\n",
    "outDir = '../scratch/'\n",
    "arcpy.env.overwriteOutput = True\n",
    "arcpy.CheckOutExtension('Spatial')\n",
    "\n",
    "n = 1\n",
    "while n < 4:\n",
    "  outputName = 'out{0}'.format(n)\n",
    "  tempRast = arcpy.sa.CreateNormalRaster()\n",
    "  tempRast.save(outDir + outputName)\n",
    "  print '{0}{1} created.'.format(outDir, outputName)\n",
    "  n = n + 1\n",
    "del tempRast\n",
    "print 'Normal raster creation complete.'\n"
   ]
  },
  {
   "cell_type": "code",
   "execution_count": null,
   "metadata": {
    "collapsed": true
   },
   "outputs": [],
   "source": []
  }
 ],
 "metadata": {
  "kernelspec": {
   "display_name": "Python 2",
   "language": "python",
   "name": "python2"
  },
  "language_info": {
   "codemirror_mode": {
    "name": "ipython",
    "version": 2
   },
   "file_extension": ".py",
   "mimetype": "text/x-python",
   "name": "python",
   "nbconvert_exporter": "python",
   "pygments_lexer": "ipython2",
   "version": "2.7.2"
  }
 },
 "nbformat": 4,
 "nbformat_minor": 0
}
