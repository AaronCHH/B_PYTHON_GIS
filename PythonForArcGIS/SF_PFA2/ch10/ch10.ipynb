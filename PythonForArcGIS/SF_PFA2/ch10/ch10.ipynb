{
 "cells": [
  {
   "cell_type": "markdown",
   "metadata": {},
   "source": [
    "## 10 Repetition: Looping for Geoprocessing\n",
    "* 10.1 Looping Syntax\n",
    "  * 10.1.1 WHILE-Loops\n",
    "  * 10.1.2 FOR-Loops\n",
    "* 10.2 Nested Code Blocks\n",
    "* 10.3 Directory Inventory\n",
    "* 10.4 Indentation and the TabNanny\n",
    "* 10.5 Key Terms\n",
    "* 10.6 Exercises"
   ]
  },
  {
   "cell_type": "markdown",
   "metadata": {},
   "source": [
    "---"
   ]
  },
  {
   "cell_type": "markdown",
   "metadata": {},
   "source": [
    "## 10.1 Looping Syntax"
   ]
  },
  {
   "cell_type": "markdown",
   "metadata": {},
   "source": [
    "## 10.1.1 WHILE-Loops"
   ]
  },
  {
   "cell_type": "code",
   "execution_count": null,
   "metadata": {
    "collapsed": true
   },
   "outputs": [],
   "source": [
    "# %load script/simpleWhileLoop.py\n",
    "# simpleWhileLoop.py\n",
    "x = 1\n",
    "while x <= 5:\n",
    "    print x\n",
    "    x = x + 1\n",
    "print \"I'm done!\"\n"
   ]
  },
  {
   "cell_type": "code",
   "execution_count": 7,
   "metadata": {
    "collapsed": false
   },
   "outputs": [
    {
     "name": "stdout",
     "output_type": "stream",
     "text": [
      "1\n",
      "2\n",
      "3\n",
      "4\n",
      "5\n",
      "I'm done!\n"
     ]
    }
   ],
   "source": [
    "%run scriptPt/simpleWhileLoop.py"
   ]
  },
  {
   "cell_type": "code",
   "execution_count": null,
   "metadata": {
    "collapsed": true
   },
   "outputs": [],
   "source": [
    "# %load script/normalRastsLoop.py\n",
    "# normalRastsLoop.py\n",
    "# Purpose: Create 3 raster containing random values with a normal (gaussian) distribution.\n",
    "\n",
    "import arcpy\n",
    "arcpy.env.workspace = 'C:/gispy/data/ch10'\n",
    "outDir = 'C:/gispy/scratch/'\n",
    "arcpy.env.overwriteOutput = True\n",
    "arcpy.CheckOutExtension('Spatial')\n",
    "\n",
    "n = 1\n",
    "while n < 4:\n",
    "        outputName = 'out{0}'.format(n)\n",
    "        tempRast = arcpy.sa.CreateNormalRaster()\n",
    "        tempRast.save(outDir + outputName)\n",
    "        print '{0}{1} created.'.format(outDir, outputName)\n",
    "        n = n + 1\n",
    "del tempRast\n",
    "print 'Normal raster creation complete.'\n"
   ]
  },
  {
   "cell_type": "code",
   "execution_count": 10,
   "metadata": {
    "collapsed": false
   },
   "outputs": [
    {
     "name": "stdout",
     "output_type": "stream",
     "text": [
      "scratch/out1 created.\n",
      "scratch/out2 created.\n",
      "scratch/out3 created.\n",
      "Normal raster creation complete.\n"
     ]
    }
   ],
   "source": [
    "%run scriptPt/normalRastsLoop.py"
   ]
  },
  {
   "cell_type": "markdown",
   "metadata": {},
   "source": [
    "## 10.1.2 FOR-Loops"
   ]
  },
  {
   "cell_type": "code",
   "execution_count": null,
   "metadata": {
    "collapsed": true
   },
   "outputs": [],
   "source": [
    "# %load script/simpleForLoop.py\n",
    "# simpleForLoop.py\n",
    "myFiles = ['data1.shp', 'data2.shp',  'data3.shp', 'data4.shp']\n",
    "for currentFile in myFiles:\n",
    "    print currentFile\n",
    "print \"I'm done!\"\n"
   ]
  },
  {
   "cell_type": "code",
   "execution_count": 12,
   "metadata": {
    "collapsed": false
   },
   "outputs": [
    {
     "name": "stdout",
     "output_type": "stream",
     "text": [
      "data1.shp\n",
      "data2.shp\n",
      "data3.shp\n",
      "data4.shp\n",
      "I'm done!\n"
     ]
    }
   ],
   "source": [
    "%run scriptPt/simpleForLoop.py"
   ]
  },
  {
   "cell_type": "code",
   "execution_count": null,
   "metadata": {
    "collapsed": true
   },
   "outputs": [],
   "source": [
    "# %load script/point2Line.py\n",
    "# point2Line.py\n",
    "# Purpose: Create a set of line features from a set of point features in a list.\n",
    "import arcpy\n",
    "arcpy.env.workspace = 'C:/gispy/data/ch10'\n",
    "outDir = 'C:/gispy/scratch/'\n",
    "arcpy.env.overwriteOutput = True\n",
    "\n",
    "theFiles = ['data1.shp', 'data2.shp', 'data3.shp', 'data4.shp']\n",
    "for currentFile in theFiles:\n",
    "    # Remove file extension from the current name.\n",
    "    baseName = currentFile[:-4]\n",
    "    # Create unique output name. E.g., 'data1Line.shp'.\n",
    "    outName = outDir + baseName + 'Line.shp'\n",
    "    arcpy.PointsToLine_management(currentFile, outName)\n",
    "    print '{0}{1} created.'.format(outDir, outName)\n"
   ]
  },
  {
   "cell_type": "code",
   "execution_count": null,
   "metadata": {
    "collapsed": false
   },
   "outputs": [
    {
     "name": "stdout",
     "output_type": "stream",
     "text": [
      "scratch/scratch/data1Line.shp created.\n",
      "scratch/scratch/data2Line.shp created.\n",
      "scratch/scratch/data3Line.shp created.\n",
      "scratch/scratch/data4Line.shp created.\n"
     ]
    }
   ],
   "source": [
    "%run scriptPt/point2Line.py"
   ]
  },
  {
   "cell_type": "code",
   "execution_count": null,
   "metadata": {
    "collapsed": true
   },
   "outputs": [],
   "source": [
    "# %load script/bufferLoopRange.py\n",
    "# bufferLoopRange.py\n",
    "# Purpose: Buffer a park varying buffer distances from 1 to 5 miles.\n",
    "\n",
    "import arcpy\n",
    "arcpy.env.workspace = 'C:/gispy/data/ch10'\n",
    "outDir = 'C:/gispy/scratch/'\n",
    "arcpy.env.overwriteOutput = True\n",
    "inName = 'park.shp'\n",
    "for num in range(1, 6):\n",
    "    # Set the buffer distance based on num ('1 miles', '2 miles', ...).\n",
    "    distance = '{0} miles'.format(num)\n",
    "    # Set the output name based on num ('buffer1.shp', 'buffer2.shp', ...)\n",
    "    outName = outDir + 'buffer{0}.shp'.format(num)\n",
    "    arcpy.Buffer_analysis(inName, outName, distance)\n",
    "    print '{0}{1} created.'.format(outDir, outName)\n"
   ]
  },
  {
   "cell_type": "code",
   "execution_count": 2,
   "metadata": {
    "collapsed": false
   },
   "outputs": [
    {
     "name": "stdout",
     "output_type": "stream",
     "text": [
      "scratch/scratch/buffer1.shp created.\n",
      "scratch/scratch/buffer2.shp created.\n",
      "scratch/scratch/buffer3.shp created.\n",
      "scratch/scratch/buffer4.shp created.\n",
      "scratch/scratch/buffer5.shp created.\n"
     ]
    }
   ],
   "source": [
    "%run scriptPt/bufferLoopRange.py"
   ]
  },
  {
   "cell_type": "markdown",
   "metadata": {},
   "source": [
    "## 10.2 Nested Code Blocks"
   ]
  },
  {
   "cell_type": "code",
   "execution_count": null,
   "metadata": {
    "collapsed": true
   },
   "outputs": [],
   "source": [
    "# %load script/emotaLoop.py\n",
    "# emotaLoop.py\n",
    "# Purpose: Nest conditions inside a loop to print an emoticon for each file name.\n",
    "myFiles = ['crops.csv', 'data1.shp', 'rast', 'xy1.txt']\n",
    "\n",
    "for f in myFiles:\n",
    "    if f.endswith('.shp'):\n",
    "        print '   ;]   ' + f\n",
    "    elif f.endswith('.txt'):\n",
    "        print '   :(   ' + f\n",
    "    else:\n",
    "        print '   :o   ' + f\n"
   ]
  },
  {
   "cell_type": "code",
   "execution_count": 4,
   "metadata": {
    "collapsed": false,
    "scrolled": false
   },
   "outputs": [
    {
     "name": "stdout",
     "output_type": "stream",
     "text": [
      "   :o   crops.csv\n",
      "   ;]   data1.shp\n",
      "   :o   rast\n",
      "   :(   xy1.txt\n"
     ]
    }
   ],
   "source": [
    "%run scriptPt/emotaLoop.py"
   ]
  },
  {
   "cell_type": "code",
   "execution_count": null,
   "metadata": {
    "collapsed": true
   },
   "outputs": [],
   "source": [
    "# %load script/scatting.py\n",
    "# scatting.py\n",
    "# Purpose: Use nested loops to scat.\n",
    "print '\\nskeep-de'\n",
    "for i in range(2):\n",
    "    print '    beep'\n",
    "    for j in range(3):\n",
    "        print '        bop'\n",
    "print 'ba-doop!'\n"
   ]
  },
  {
   "cell_type": "code",
   "execution_count": 7,
   "metadata": {
    "collapsed": false
   },
   "outputs": [
    {
     "name": "stdout",
     "output_type": "stream",
     "text": [
      "\n",
      "skeep-de\n",
      "    beep\n",
      "        bop\n",
      "        bop\n",
      "        bop\n",
      "    beep\n",
      "        bop\n",
      "        bop\n",
      "        bop\n",
      "ba-doop!\n"
     ]
    }
   ],
   "source": [
    "%run scriptPt/scatting.py"
   ]
  },
  {
   "cell_type": "markdown",
   "metadata": {},
   "source": [
    "## 10.3 Directory Inventory"
   ]
  },
  {
   "cell_type": "code",
   "execution_count": 6,
   "metadata": {
    "collapsed": false
   },
   "outputs": [
    {
     "data": {
      "text/plain": [
       "['istanbul.jpg',\n",
       " 'istanbul2.jpg',\n",
       " 'italy',\n",
       " 'jerusalem',\n",
       " 'marbleRoad.jpg',\n",
       " 'schema.ini',\n",
       " 'spice_market.jpg',\n",
       " 'stage.jpg']"
      ]
     },
     "execution_count": 6,
     "metadata": {},
     "output_type": "execute_result"
    }
   ],
   "source": [
    "import os\n",
    "theDir = 'data/pics'\n",
    "# os.listdir returns a list of the files\n",
    "theFiles = os.listdir(theDir)\n",
    "theFiles"
   ]
  },
  {
   "cell_type": "code",
   "execution_count": 7,
   "metadata": {
    "collapsed": false,
    "scrolled": true
   },
   "outputs": [
    {
     "name": "stdout",
     "output_type": "stream",
     "text": [
      "istanbul.jpg\n",
      "istanbul2.jpg\n",
      "italy\n",
      "jerusalem\n",
      "marbleRoad.jpg\n",
      "schema.ini\n",
      "spice_market.jpg\n",
      "stage.jpg\n"
     ]
    }
   ],
   "source": [
    "for fileName in theFiles:\n",
    "  print fileName"
   ]
  },
  {
   "cell_type": "code",
   "execution_count": 11,
   "metadata": {
    "collapsed": false
   },
   "outputs": [
    {
     "name": "stdout",
     "output_type": "stream",
     "text": [
      "istanbul.jpg\n",
      "istanbul2.jpg\n",
      "marbleRoad.jpg\n",
      "spice_market.jpg\n",
      "stage.jpg\n"
     ]
    }
   ],
   "source": [
    "for fileName in theFiles:\n",
    "  if fileName.endswith('.jpg'):\n",
    "    print fileName"
   ]
  },
  {
   "cell_type": "code",
   "execution_count": null,
   "metadata": {
    "collapsed": true
   },
   "outputs": [],
   "source": [
    "# %load script/copyLoop.py\n",
    "# copyLoop.py\n",
    "# Purpose: Make a copy of each ASCII .txt extension file.\n",
    "\n",
    "import arcpy, os\n",
    "\n",
    "arcpy.env.workspace = 'C:/gispy/data/ch10'\n",
    "outDir = 'C:/gispy/scratch/'\n",
    "theFiles = os.listdir(arcpy.env.workspace)\n",
    "for fileName in theFiles:\n",
    "    if fileName.endswith('.txt'):\n",
    "        outName = outDir + fileName[:-4] + 'V2.txt'\n",
    "        arcpy.Copy_management(fileName, outName)\n",
    "        print '{0} created.'.format(outName)\n"
   ]
  },
  {
   "cell_type": "code",
   "execution_count": 11,
   "metadata": {
    "collapsed": false,
    "scrolled": true
   },
   "outputs": [
    {
     "name": "stdout",
     "output_type": "stream",
     "text": [
      "scratch/dataV2.txt created.\n",
      "scratch/xy1V2.txt created.\n",
      "scratch/xy_currentV2.txt created.\n"
     ]
    }
   ],
   "source": [
    "%run scriptPt/copyLoop.py"
   ]
  },
  {
   "cell_type": "code",
   "execution_count": null,
   "metadata": {
    "collapsed": true
   },
   "outputs": [],
   "source": [
    "# %load script/printModTime.py\n",
    "# printModTime.py\n",
    "# Purpose: For each file, print the time of most recent modification.\n",
    "# Input:   No arguments required.\n",
    "\n",
    "import os, datetime\n",
    "\n",
    "theDir = \"C:/gispy/data/ch10/pics\"\n",
    "theFiles = os.listdir(theDir)\n",
    "for f in theFiles:\n",
    "    fullName = os.path.join(theDir, f)\n",
    "    # Get the modification time.\n",
    "    print os.path.getmtime(fullName)\n",
    "\n",
    "\n",
    "\n",
    "##import os, datetime  #(this version provides fancier formatting)\n",
    "##\n",
    "##theDir = \"C:/gispy/data/ch10/pics\"\n",
    "##theFiles = os.listdir(theDir)\n",
    "##for f in theFiles:\n",
    "##\tfullName = os.path.join(theDir, f)\n",
    "##\t# Get the modification time.\n",
    "##\tmodTime = os.path.getmtime(fullName)\n",
    "##\t# Convert Epoch time to a time stamp.\n",
    "##\ttheDate = datetime.datetime.fromtimestamp(modTime)\n",
    "##\t# Reformat the time stamp\n",
    "##\tprint theDate.strftime(\"%m/%d/%Y %H:%M:%S\")\n"
   ]
  },
  {
   "cell_type": "code",
   "execution_count": 13,
   "metadata": {
    "collapsed": false
   },
   "outputs": [
    {
     "name": "stdout",
     "output_type": "stream",
     "text": [
      "1455059926.0\n",
      "1455059926.0\n",
      "1460896476.08\n",
      "1460896476.08\n",
      "1455059926.0\n",
      "1455059926.0\n",
      "1455059926.0\n",
      "1455059926.0\n"
     ]
    }
   ],
   "source": [
    "%run scriptPt/printModTime.py"
   ]
  },
  {
   "cell_type": "markdown",
   "metadata": {},
   "source": [
    "## 10.4 Indentation and the TabNanny"
   ]
  },
  {
   "cell_type": "markdown",
   "metadata": {},
   "source": [
    "## 10.5 Key Terms"
   ]
  },
  {
   "cell_type": "markdown",
   "metadata": {
    "collapsed": true
   },
   "source": [
    "## 10.6 Exercises"
   ]
  },
  {
   "cell_type": "code",
   "execution_count": null,
   "metadata": {
    "collapsed": true
   },
   "outputs": [],
   "source": []
  }
 ],
 "metadata": {
  "kernelspec": {
   "display_name": "Python 2",
   "language": "python",
   "name": "python2"
  },
  "language_info": {
   "codemirror_mode": {
    "name": "ipython",
    "version": 2
   },
   "file_extension": ".py",
   "mimetype": "text/x-python",
   "name": "python",
   "nbconvert_exporter": "python",
   "pygments_lexer": "ipython2",
   "version": "2.7.2"
  }
 },
 "nbformat": 4,
 "nbformat_minor": 0
}
