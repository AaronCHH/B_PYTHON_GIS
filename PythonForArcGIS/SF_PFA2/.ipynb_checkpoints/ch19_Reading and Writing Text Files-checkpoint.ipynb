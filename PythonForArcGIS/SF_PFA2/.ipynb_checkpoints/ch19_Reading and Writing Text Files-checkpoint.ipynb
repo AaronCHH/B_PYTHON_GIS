{
 "cells": [
  {
   "cell_type": "markdown",
   "metadata": {},
   "source": [
    "# 19 Reading and Writing Text Files"
   ]
  },
  {
   "cell_type": "markdown",
   "metadata": {},
   "source": [
    "## 19.1 Working with file Objects"
   ]
  },
  {
   "cell_type": "code",
   "execution_count": 1,
   "metadata": {
    "collapsed": true
   },
   "outputs": [],
   "source": [
    "f = open('ch19/data/poem.txt', 'r')"
   ]
  },
  {
   "cell_type": "code",
   "execution_count": 2,
   "metadata": {
    "collapsed": false
   },
   "outputs": [
    {
     "data": {
      "text/plain": [
       "'Scripterwocky\\n`Twas brillig, and the Python lists\\nDid join and pop-le in the loop:\\nAll-splitsy were the string literals,\\nAnd the boolean values were true.\\t \\n'"
      ]
     },
     "execution_count": 2,
     "metadata": {},
     "output_type": "execute_result"
    }
   ],
   "source": [
    "f = open('ch19/data/poem.txt', 'r')\n",
    "f.read()"
   ]
  },
  {
   "cell_type": "code",
   "execution_count": 3,
   "metadata": {
    "collapsed": true
   },
   "outputs": [],
   "source": [
    "f.close()"
   ]
  },
  {
   "cell_type": "markdown",
   "metadata": {},
   "source": [
    "### 19.1.1 The WITH Statement"
   ]
  },
  {
   "cell_type": "code",
   "execution_count": null,
   "metadata": {
    "collapsed": true
   },
   "outputs": [],
   "source": [
    "with open('C:/gispy/data/ch19/poem.txt', 'r')as f:\n",
    "    print f.read()"
   ]
  },
  {
   "cell_type": "code",
   "execution_count": null,
   "metadata": {
    "collapsed": true
   },
   "outputs": [],
   "source": [
    "f = open('C:/gispy/data/ch19/poem.txt', 'r')\n",
    "f.read()\n",
    "f.close()"
   ]
  },
  {
   "cell_type": "code",
   "execution_count": null,
   "metadata": {
    "collapsed": true
   },
   "outputs": [],
   "source": [
    "with open('C:/gispy/data/ch19/poem.txt', 'r')as f:\n",
    "    print f.read()\n",
    "f.read()"
   ]
  },
  {
   "cell_type": "markdown",
   "metadata": {},
   "source": [
    "### 19.1.2 Writing Text Files"
   ]
  },
  {
   "cell_type": "code",
   "execution_count": null,
   "metadata": {
    "collapsed": true
   },
   "outputs": [],
   "source": [
    "f = open('C:/gispy/data/ch19/sneeze.txt', 'w')\n",
    "f.write('haa')\n",
    "f.write('choo')\n",
    "f.close()"
   ]
  },
  {
   "cell_type": "code",
   "execution_count": null,
   "metadata": {
    "collapsed": true
   },
   "outputs": [],
   "source": [
    "f = open('C:/gispy/data/ch19/sneeze.txt', 'w')\n",
    "f.write('snork\\nsnif fle\\n')\n",
    "f.write('haaack\\n')\n",
    "f.write('*sigh*')\n",
    "f.close()"
   ]
  },
  {
   "cell_type": "code",
   "execution_count": null,
   "metadata": {
    "collapsed": true
   },
   "outputs": [],
   "source": [
    "f = open('C:/gispy/data/ch19/sneeze.txt', 'w')\n",
    "f.close()"
   ]
  },
  {
   "cell_type": "code",
   "execution_count": null,
   "metadata": {
    "collapsed": true
   },
   "outputs": [],
   "source": [
    "f = open('C:/gispy/data/ch19/sneeze.txt', 'w')\n",
    "csv = ','.join(['glug', 'gulp', 'erp'])\n",
    "f.write(csv)\n",
    "f.write('\\n')\n",
    "lines = '\\n'.join(['ack', 'hmmm', 'sniff'])\n",
    "f.write(lines)\n",
    "f.close()"
   ]
  },
  {
   "cell_type": "code",
   "execution_count": null,
   "metadata": {
    "collapsed": true
   },
   "outputs": [],
   "source": [
    "f = open('C:/gispy/data/ch19/sneeze.txt', 'w')\n",
    "f.write(5000)"
   ]
  },
  {
   "cell_type": "code",
   "execution_count": null,
   "metadata": {
    "collapsed": true
   },
   "outputs": [],
   "source": [
    "f.write(str(5000))\n",
    "lament = 'I sneezed {0} times today.'.format(5000)\n",
    "f.write(lament)\n",
    "f.close()"
   ]
  },
  {
   "cell_type": "markdown",
   "metadata": {},
   "source": [
    "### 19.1.3 Safe File Reading"
   ]
  },
  {
   "cell_type": "code",
   "execution_count": null,
   "metadata": {
    "collapsed": true
   },
   "outputs": [],
   "source": [
    "f = open('C:/gispy/data/ch19/bogus.txt', 'r')"
   ]
  },
  {
   "cell_type": "code",
   "execution_count": null,
   "metadata": {
    "collapsed": true
   },
   "outputs": [],
   "source": [
    "# %load ch19/script2/safeFileRead.py\n",
    "import os, sys\n",
    "infile = sys.argv[1]\n",
    "try:\n",
    "    f = open(infile, 'r')\n",
    "    print f.read()\n",
    "    f.close()\n",
    "except IOError:\n",
    "    print\"{0} doesn't exist or can't be opened.\".format(infile)"
   ]
  },
  {
   "cell_type": "markdown",
   "metadata": {},
   "source": [
    "### 19.1.4 The os Working Directory vs. the arcpy workspace"
   ]
  },
  {
   "cell_type": "code",
   "execution_count": null,
   "metadata": {
    "collapsed": true
   },
   "outputs": [],
   "source": [
    "import arcpy\n",
    "arcpy.env.workspace = 'C:/gispy/data/ch19'\n",
    "f = open('poem.txt', 'r')"
   ]
  },
  {
   "cell_type": "code",
   "execution_count": null,
   "metadata": {
    "collapsed": true
   },
   "outputs": [],
   "source": [
    "import os\n",
    "os.path.is file('C:/gispy/data/ch19/poem.txt')"
   ]
  },
  {
   "cell_type": "code",
   "execution_count": null,
   "metadata": {
    "collapsed": true
   },
   "outputs": [],
   "source": [
    "os.getcwd()"
   ]
  },
  {
   "cell_type": "code",
   "execution_count": null,
   "metadata": {
    "collapsed": true
   },
   "outputs": [],
   "source": [
    "os.chdir('C:/gispy/data/ch19')\n",
    "os.getcwd()"
   ]
  },
  {
   "cell_type": "code",
   "execution_count": null,
   "metadata": {
    "collapsed": true
   },
   "outputs": [],
   "source": [
    "f = open('poem.txt', 'r')\n",
    "f.readline()"
   ]
  },
  {
   "cell_type": "code",
   "execution_count": null,
   "metadata": {
    "collapsed": true
   },
   "outputs": [],
   "source": [
    "f.close()"
   ]
  },
  {
   "cell_type": "markdown",
   "metadata": {},
   "source": [
    "### 19.1.5 Reading Text Files"
   ]
  },
  {
   "cell_type": "code",
   "execution_count": null,
   "metadata": {
    "collapsed": true
   },
   "outputs": [],
   "source": [
    "f = open('C:/gispy/data/ch19/poem.txt', 'r')\n",
    "f.readline()"
   ]
  },
  {
   "cell_type": "code",
   "execution_count": null,
   "metadata": {
    "collapsed": true
   },
   "outputs": [],
   "source": [
    "f.readline()"
   ]
  },
  {
   "cell_type": "code",
   "execution_count": null,
   "metadata": {
    "collapsed": true
   },
   "outputs": [],
   "source": [
    "f.readline()"
   ]
  },
  {
   "cell_type": "code",
   "execution_count": null,
   "metadata": {
    "collapsed": true
   },
   "outputs": [],
   "source": [
    "f.readline()"
   ]
  },
  {
   "cell_type": "code",
   "execution_count": null,
   "metadata": {
    "collapsed": true
   },
   "outputs": [],
   "source": [
    "f.readline()"
   ]
  },
  {
   "cell_type": "code",
   "execution_count": null,
   "metadata": {
    "collapsed": true
   },
   "outputs": [],
   "source": [
    "f.readline()"
   ]
  },
  {
   "cell_type": "code",
   "execution_count": null,
   "metadata": {
    "collapsed": true
   },
   "outputs": [],
   "source": [
    "f.close()"
   ]
  },
  {
   "cell_type": "code",
   "execution_count": null,
   "metadata": {
    "collapsed": true
   },
   "outputs": [],
   "source": [
    "for line in f:\n",
    "    print line"
   ]
  },
  {
   "cell_type": "code",
   "execution_count": null,
   "metadata": {
    "collapsed": true
   },
   "outputs": [],
   "source": [
    "f.readline()"
   ]
  },
  {
   "cell_type": "code",
   "execution_count": null,
   "metadata": {
    "collapsed": true
   },
   "outputs": [],
   "source": [
    "f.close()"
   ]
  },
  {
   "cell_type": "code",
   "execution_count": null,
   "metadata": {
    "collapsed": true
   },
   "outputs": [],
   "source": [
    "f = open('C:/gispy/data/ch19/poem.txt', 'r')\n",
    "f.readline()\n",
    "for line in f:\n",
    "    print line\n",
    "f.close()"
   ]
  },
  {
   "cell_type": "markdown",
   "metadata": {},
   "source": [
    "## 19.2 Parsing Line Contents"
   ]
  },
  {
   "cell_type": "code",
   "execution_count": 2,
   "metadata": {
    "collapsed": false
   },
   "outputs": [
    {
     "data": {
      "text/plain": [
       "'1\\t2.07\\t5.21\\t4.05\\t3.64\\t2.03\\t3.74\\n'"
      ]
     },
     "execution_count": 2,
     "metadata": {},
     "output_type": "execute_result"
    }
   ],
   "source": [
    "f = open('ch19/data/report.txt', 'r')\n",
    "f.readline()"
   ]
  },
  {
   "cell_type": "code",
   "execution_count": 3,
   "metadata": {
    "collapsed": false
   },
   "outputs": [
    {
     "data": {
      "text/plain": [
       "'2\\t3.51\\t7.29\\t4.2\\t4.44\\t3.67\\t4.46\\n'"
      ]
     },
     "execution_count": 3,
     "metadata": {},
     "output_type": "execute_result"
    }
   ],
   "source": [
    "line = f.readline()\n",
    "line"
   ]
  },
  {
   "cell_type": "code",
   "execution_count": 4,
   "metadata": {
    "collapsed": false
   },
   "outputs": [
    {
     "data": {
      "text/plain": [
       "['2', '3.51', '7.29', '4.2', '4.44', '3.67', '4.46']"
      ]
     },
     "execution_count": 4,
     "metadata": {},
     "output_type": "execute_result"
    }
   ],
   "source": [
    "lineList = line.split()\n",
    "lineList"
   ]
  },
  {
   "cell_type": "code",
   "execution_count": 5,
   "metadata": {
    "collapsed": false,
    "scrolled": true
   },
   "outputs": [
    {
     "data": {
      "text/plain": [
       "[2.0, 3.51, 7.29, 4.2, 4.44, 3.67, 4.46]"
      ]
     },
     "execution_count": 5,
     "metadata": {},
     "output_type": "execute_result"
    }
   ],
   "source": [
    "nums = [float(i) for i in lineList]\n",
    "nums"
   ]
  },
  {
   "cell_type": "code",
   "execution_count": 6,
   "metadata": {
    "collapsed": false
   },
   "outputs": [
    {
     "data": {
      "text/plain": [
       "[3.51, 7.29, 4.2, 4.44, 3.67, 4.46]"
      ]
     },
     "execution_count": 6,
     "metadata": {},
     "output_type": "execute_result"
    }
   ],
   "source": [
    "data = nums[1:]\n",
    "data"
   ]
  },
  {
   "cell_type": "code",
   "execution_count": 7,
   "metadata": {
    "collapsed": false,
    "scrolled": true
   },
   "outputs": [
    {
     "data": {
      "text/plain": [
       "27.57"
      ]
     },
     "execution_count": 7,
     "metadata": {},
     "output_type": "execute_result"
    }
   ],
   "source": [
    "sum(data)"
   ]
  },
  {
   "cell_type": "markdown",
   "metadata": {},
   "source": [
    "### Example 19.1 parseTable.py"
   ]
  },
  {
   "cell_type": "code",
   "execution_count": null,
   "metadata": {
    "collapsed": true
   },
   "outputs": [],
   "source": [
    "# %load ch19/script2/parseTable.py\n",
    "# parseTable.py\n",
    "# Purpose: Parse numeric values in a tabular text file.\n",
    "# Usage: No arguments required.  Input file hard-coded.\n",
    "# Output: Printed ID, sum, count, and data value list for each row of a table in the text file.\n",
    "\n",
    "cap = 5\n",
    "infile = 'data/report.txt'\n",
    "try:\n",
    "    with open(infile, 'r') as f:\n",
    "        for line in f:\n",
    "            # String to list of strings.\n",
    "            lineList = line.split()\n",
    "            # String items to float items.\n",
    "            nums = [float(i) for i in lineList]\n",
    "            # First col is ID, rest are data values.\n",
    "            ID = nums[0]\n",
    "            data = nums[1:]\n",
    "            # Cap the data values at 5.\n",
    "            for index, val in enumerate(data):\n",
    "                if val > cap:\n",
    "                    data[index] = cap\n",
    "            # Count and sum the values and report the results.\n",
    "            count = len(data)\n",
    "            total = sum(data)\n",
    "            print 'ID: {0}   Sum: {1}   Count {2}'.format(ID, total, count)\n",
    "            print 'Data: {0}'.format(data)\n",
    "except IOError:\n",
    "    print \"{0} doesn't exist or can't be opened.\".format(infile)\n"
   ]
  },
  {
   "cell_type": "markdown",
   "metadata": {},
   "source": [
    "### Example 19.2 cfactor.py"
   ]
  },
  {
   "cell_type": "code",
   "execution_count": null,
   "metadata": {
    "collapsed": false
   },
   "outputs": [],
   "source": [
    "# %load ch19/script2/cfactor.py\n",
    "# cfactor.py\n",
    "# Purpose: Read a text file contents into a dictionary.\n",
    "# Input: No arguments required.  Input file hard-coded.\n",
    "# Output: Printed cfactor:label dictionary.\n",
    "\n",
    "factorDict = {}\n",
    "infile = 'data/cfactors.txt'\n",
    "try:\n",
    "    with open(infile, 'r') as f:\n",
    "        f.readline()\n",
    "        for row in f:\n",
    "            row = row.split('=')\n",
    "            factor = int(row[0])\n",
    "            label = row[1].rstrip()\n",
    "            factorDict[factor] = label\n",
    "    print factorDict\n",
    "except IOError:\n",
    "    print \"{0} doesn't exist.\".format(infile)\n"
   ]
  },
  {
   "cell_type": "markdown",
   "metadata": {},
   "source": [
    "### 19.2.1 Parsing Field Names"
   ]
  },
  {
   "cell_type": "code",
   "execution_count": 15,
   "metadata": {
    "collapsed": false
   },
   "outputs": [
    {
     "data": {
      "text/plain": [
       "2"
      ]
     },
     "execution_count": 15,
     "metadata": {},
     "output_type": "execute_result"
    }
   ],
   "source": [
    "mylist = ['a','b','c','d']\n",
    "mylist.index('c')"
   ]
  },
  {
   "cell_type": "markdown",
   "metadata": {},
   "source": [
    "### Example 19.3 fieldIndex.py"
   ]
  },
  {
   "cell_type": "code",
   "execution_count": null,
   "metadata": {
    "collapsed": true
   },
   "outputs": [],
   "source": [
    "# %load ch19/script2/fieldIndex.py\n",
    "# fieldIndex.py\n",
    "# Purpose: Find the index of a field name in a text\n",
    "#         file with space separated fields in the first row.\n",
    "# Input: No arguments required.  Input file hard-coded.\n",
    "infile = 'data/cfactors.txt'\n",
    "fieldName = 'Label'\n",
    "\n",
    "\n",
    "def getIndex(delimString, delimiter, name):\n",
    "    '''Get position of item in a delimited string'''\n",
    "    delimString = delimString.strip()\n",
    "    rowList = delimString.split(delimiter)\n",
    "    index = rowList.index(name)\n",
    "    return index\n",
    "\n",
    "with open(infile, 'r') as f:\n",
    "    row = f.readline()\n",
    "    ind = getIndex(row, ' ', fieldName)\n",
    "    print '{0} has index {1}'.format(fieldName, ind)\n"
   ]
  },
  {
   "cell_type": "code",
   "execution_count": null,
   "metadata": {
    "collapsed": true
   },
   "outputs": [],
   "source": []
  },
  {
   "cell_type": "markdown",
   "metadata": {},
   "source": [
    "## 19.3 Modifying Text"
   ]
  },
  {
   "cell_type": "markdown",
   "metadata": {},
   "source": [
    "### Example 19.4 cfactorModify.py"
   ]
  },
  {
   "cell_type": "code",
   "execution_count": null,
   "metadata": {
    "collapsed": true
   },
   "outputs": [],
   "source": [
    "# %load ch19/script2/cfactorModify.py\n",
    "# cfactorModify.py\n",
    "# Purpose: Demonstrate reading and writing files.\n",
    "# IUsage: No arguments required.  Input file hard-coded.\n",
    "# Output: Modified text file *v2.txt\n",
    "\n",
    "import os\n",
    "\n",
    "infile = 'data/cfactors.txt'\n",
    "baseN = os.path.basename(infile)\n",
    "outfile = 'scratch/' + os.path.splitext(baseN)[0] + 'v2.txt'\n",
    "try:\n",
    "    # OPEN the input and output files.\n",
    "    with open(infile, 'r') as fin:\n",
    "        with open(outfile, 'w') as fout:\n",
    "            # READ/MODIFY/WRITE the first line.\n",
    "            line = fin.readline()\n",
    "            line = line.replace(' ', ',')\n",
    "            fout.write(line)\n",
    "\n",
    "            # FOR the remaining lines.\n",
    "            for line in fin:\n",
    "                # MODIFY the line.\n",
    "                line = line.replace('=', ',')\n",
    "                # WRITE to output.\n",
    "                fout.write(line)\n",
    "            print '{0} created.'.format(outfile)\n",
    "except IOError:\n",
    "    print \"{0} doesn't exist.\".format(infile)\n"
   ]
  },
  {
   "cell_type": "code",
   "execution_count": null,
   "metadata": {
    "collapsed": true
   },
   "outputs": [],
   "source": []
  },
  {
   "cell_type": "markdown",
   "metadata": {},
   "source": [
    "### 19.3.1 Pseudocode for Modifying Text Files"
   ]
  },
  {
   "cell_type": "markdown",
   "metadata": {},
   "source": [
    "```\n",
    "SET the input and output file name\n",
    "IF the input file exists:\n",
    "    OPEN the input and output files\n",
    "    FOR EACH line in the input file\n",
    "        MODIFY the line.\n",
    "        WRITE the modi fied line to the output file.\n",
    "    END FOR\n",
    "    CLOSE the input and output files (automatic if WITH block is used).\n",
    "    REPLACE original\n",
    "ENDIF\n",
    "```"
   ]
  },
  {
   "cell_type": "code",
   "execution_count": null,
   "metadata": {
    "collapsed": true
   },
   "outputs": [],
   "source": []
  },
  {
   "cell_type": "markdown",
   "metadata": {},
   "source": [
    "### 19.3.2 Working with Tabular Text"
   ]
  },
  {
   "cell_type": "markdown",
   "metadata": {},
   "source": [
    "### Example 19.5 removeHeader.py"
   ]
  },
  {
   "cell_type": "code",
   "execution_count": null,
   "metadata": {
    "collapsed": true
   },
   "outputs": [],
   "source": [
    "# %load ch19/script2/removeHeader.py\n",
    "# removeHeader.py\n",
    "# Purpose: Remove header rows.\n",
    "# Usage: No arguments required.  Input file hard-coded.\n",
    "# Output: Modified text file *v2.txt\n",
    "\n",
    "import os\n",
    "headers = 2\n",
    "infile = 'data/eyeTrack.csv'\n",
    "baseN = os.path.basename(infile)\n",
    "outfile = 'scratch/' + os.path.splitext(baseN)[0] \\\n",
    "          + 'v2.txt'\n",
    "try:\n",
    "    with open(infile, 'r') as fin:\n",
    "        with open(outfile, 'w') as fout:\n",
    "            # READ header lines, but don't write them.\n",
    "            for i in range(headers):\n",
    "                fin.readline()\n",
    "            # READ and WRITE the remaining lines.\n",
    "            for line in fin:\n",
    "                fout.write(line)\n",
    "            print '{0} created.'.format(outfile)\n",
    "except IOError:\n",
    "    print \"{0} doesn't exist.\".format(infile)\n"
   ]
  },
  {
   "cell_type": "markdown",
   "metadata": {},
   "source": [
    "```\n",
    "FOR each line in the input file:\n",
    "    SPLIT the line (string to list)\n",
    "    IF condition is TRUE THEN\n",
    "        WRITE the string line to the output file.\n",
    "    ENDIF\n",
    "ENDFOR\n",
    "```"
   ]
  },
  {
   "cell_type": "markdown",
   "metadata": {},
   "source": [
    "## 19.4 Pickling"
   ]
  },
  {
   "cell_type": "markdown",
   "metadata": {},
   "source": [
    "### Example 19.6 Excerpt from sample script 'removeRecords.py'"
   ]
  },
  {
   "cell_type": "code",
   "execution_count": 25,
   "metadata": {
    "collapsed": true
   },
   "outputs": [],
   "source": [
    "import pickle\n",
    "f = open('ch19/data/gherkin.txt', 'w')\n",
    "pickle.dump(2.71828,f)\n",
    "pickle.dump(['FireId', 'Org', 'FireType'],f)\n",
    "f.close()"
   ]
  },
  {
   "cell_type": "code",
   "execution_count": 26,
   "metadata": {
    "collapsed": false
   },
   "outputs": [
    {
     "data": {
      "text/plain": [
       "2.71828"
      ]
     },
     "execution_count": 26,
     "metadata": {},
     "output_type": "execute_result"
    }
   ],
   "source": [
    "f2 = open('ch19/data/gherkin.txt', 'r')\n",
    "thing1 = pickle.load(f2)\n",
    "thing1"
   ]
  },
  {
   "cell_type": "code",
   "execution_count": 27,
   "metadata": {
    "collapsed": false
   },
   "outputs": [
    {
     "data": {
      "text/plain": [
       "float"
      ]
     },
     "execution_count": 27,
     "metadata": {},
     "output_type": "execute_result"
    }
   ],
   "source": [
    "type(thing1)"
   ]
  },
  {
   "cell_type": "code",
   "execution_count": 28,
   "metadata": {
    "collapsed": false
   },
   "outputs": [
    {
     "data": {
      "text/plain": [
       "['FireId', 'Org', 'FireType']"
      ]
     },
     "execution_count": 28,
     "metadata": {},
     "output_type": "execute_result"
    }
   ],
   "source": [
    "thing2 = pickle.load(f2)\n",
    "thing2"
   ]
  },
  {
   "cell_type": "code",
   "execution_count": 29,
   "metadata": {
    "collapsed": false
   },
   "outputs": [
    {
     "data": {
      "text/plain": [
       "list"
      ]
     },
     "execution_count": 29,
     "metadata": {},
     "output_type": "execute_result"
    }
   ],
   "source": [
    "type(thing2)"
   ]
  },
  {
   "cell_type": "code",
   "execution_count": 30,
   "metadata": {
    "collapsed": true
   },
   "outputs": [],
   "source": [
    "f2.close()"
   ]
  },
  {
   "cell_type": "markdown",
   "metadata": {},
   "source": [
    "## 19.5 Discussion"
   ]
  },
  {
   "cell_type": "markdown",
   "metadata": {},
   "source": [
    "## 19.6 Key Terms"
   ]
  },
  {
   "cell_type": "markdown",
   "metadata": {},
   "source": [
    "## 19.7 Exercises"
   ]
  },
  {
   "cell_type": "code",
   "execution_count": null,
   "metadata": {
    "collapsed": true
   },
   "outputs": [],
   "source": []
  }
 ],
 "metadata": {
  "kernelspec": {
   "display_name": "Python 2",
   "language": "python",
   "name": "python2"
  },
  "language_info": {
   "codemirror_mode": {
    "name": "ipython",
    "version": 2
   },
   "file_extension": ".py",
   "mimetype": "text/x-python",
   "name": "python",
   "nbconvert_exporter": "python",
   "pygments_lexer": "ipython2",
   "version": "2.7.2"
  }
 },
 "nbformat": 4,
 "nbformat_minor": 1
}
