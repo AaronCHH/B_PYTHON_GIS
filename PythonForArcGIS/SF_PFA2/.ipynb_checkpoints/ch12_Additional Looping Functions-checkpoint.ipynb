{
 "cells": [
  {
   "cell_type": "markdown",
   "metadata": {},
   "source": [
    "# 12 Additional Looping Functions"
   ]
  },
  {
   "cell_type": "markdown",
   "metadata": {},
   "source": [
    "## 12.1 List Comprehension"
   ]
  },
  {
   "cell_type": "code",
   "execution_count": 1,
   "metadata": {
    "collapsed": false
   },
   "outputs": [
    {
     "name": "stdout",
     "output_type": "stream",
     "text": [
      " field = recno\n"
     ]
    }
   ],
   "source": [
    "# Mixed-case list of field names.\n",
    "listA = ['FID', 'Shape', 'COVER', 'RECNO']\n",
    "for field in listA:\n",
    "    field = field.lower()\n",
    "print' field =', field"
   ]
  },
  {
   "cell_type": "code",
   "execution_count": 2,
   "metadata": {
    "collapsed": false
   },
   "outputs": [
    {
     "data": {
      "text/plain": [
       "['FID', 'Shape', 'COVER', 'RECNO']"
      ]
     },
     "execution_count": 2,
     "metadata": {},
     "output_type": "execute_result"
    }
   ],
   "source": [
    "listA"
   ]
  },
  {
   "cell_type": "code",
   "execution_count": 3,
   "metadata": {
    "collapsed": false
   },
   "outputs": [
    {
     "data": {
      "text/plain": [
       "['fid', 'shape', 'cover', 'recno']"
      ]
     },
     "execution_count": 3,
     "metadata": {},
     "output_type": "execute_result"
    }
   ],
   "source": [
    "listA = ['FID', 'Shape', 'COVER', 'RECNO']\n",
    "listB = []\n",
    "for field in listA:\n",
    "    lowName = field.lower()\n",
    "    listB.append(lowName)\n",
    "listB"
   ]
  },
  {
   "cell_type": "code",
   "execution_count": 4,
   "metadata": {
    "collapsed": false
   },
   "outputs": [
    {
     "data": {
      "text/plain": [
       "['fid', 'shape', 'cover', 'recno']"
      ]
     },
     "execution_count": 4,
     "metadata": {},
     "output_type": "execute_result"
    }
   ],
   "source": [
    "listA = ['FID', 'Shape', 'COVER', 'RECNO']\n",
    "listB = [ field.lower() for field in listA] # List comprehension\n",
    "listB"
   ]
  },
  {
   "cell_type": "code",
   "execution_count": 5,
   "metadata": {
    "collapsed": false
   },
   "outputs": [
    {
     "data": {
      "text/plain": [
       "[1, 2, 3, 4, 5]"
      ]
     },
     "execution_count": 5,
     "metadata": {},
     "output_type": "execute_result"
    }
   ],
   "source": [
    "listA = range(1,6)\n",
    "listA"
   ]
  },
  {
   "cell_type": "code",
   "execution_count": 6,
   "metadata": {
    "collapsed": false
   },
   "outputs": [
    {
     "data": {
      "text/plain": [
       "[2, 4, 6, 8, 10]"
      ]
     },
     "execution_count": 6,
     "metadata": {},
     "output_type": "execute_result"
    }
   ],
   "source": [
    "listB = [i*2 for i in listA]\n",
    "listB"
   ]
  },
  {
   "cell_type": "code",
   "execution_count": 7,
   "metadata": {
    "collapsed": false
   },
   "outputs": [
    {
     "data": {
      "text/plain": [
       "[1, 2, 3, 4, 5]"
      ]
     },
     "execution_count": 7,
     "metadata": {},
     "output_type": "execute_result"
    }
   ],
   "source": [
    "listA"
   ]
  },
  {
   "cell_type": "code",
   "execution_count": 8,
   "metadata": {
    "collapsed": false
   },
   "outputs": [
    {
     "data": {
      "text/plain": [
       "[1, 4, 9, 16, 25]"
      ]
     },
     "execution_count": 8,
     "metadata": {},
     "output_type": "execute_result"
    }
   ],
   "source": [
    "listA = [i**2 for i in listA]\n",
    "listA"
   ]
  },
  {
   "cell_type": "code",
   "execution_count": 9,
   "metadata": {
    "collapsed": false
   },
   "outputs": [
    {
     "data": {
      "text/plain": [
       "['4', '345', '3000', '860']"
      ]
     },
     "execution_count": 9,
     "metadata": {},
     "output_type": "execute_result"
    }
   ],
   "source": [
    "IDlist = ['000004', '000345', '003000', '000860']\n",
    "IDlist = [ID.lstrip('0') for ID in IDlist]\n",
    "IDlist"
   ]
  },
  {
   "cell_type": "code",
   "execution_count": null,
   "metadata": {
    "collapsed": true
   },
   "outputs": [],
   "source": []
  },
  {
   "cell_type": "markdown",
   "metadata": {},
   "source": [
    "## 12.2 The Built-in enumerate Function"
   ]
  },
  {
   "cell_type": "code",
   "execution_count": 10,
   "metadata": {
    "collapsed": false
   },
   "outputs": [
    {
     "data": {
      "text/plain": [
       "[1, 4, 9, 16, 25]"
      ]
     },
     "execution_count": 10,
     "metadata": {},
     "output_type": "execute_result"
    }
   ],
   "source": [
    "listA"
   ]
  },
  {
   "cell_type": "code",
   "execution_count": 12,
   "metadata": {
    "collapsed": false,
    "scrolled": true
   },
   "outputs": [
    {
     "name": "stdout",
     "output_type": "stream",
     "text": [
      "0 1\n",
      "1 4\n",
      "2 9\n",
      "3 16\n",
      "4 25\n"
     ]
    }
   ],
   "source": [
    "for i, v in enumerate(listA):\n",
    "    print i, v"
   ]
  },
  {
   "cell_type": "markdown",
   "metadata": {},
   "source": [
    "### Example 12.1: Use the built-inenumerate function to print system arguments"
   ]
  },
  {
   "cell_type": "code",
   "execution_count": null,
   "metadata": {
    "collapsed": true
   },
   "outputs": [],
   "source": [
    "# %load ch12/script2/argPrint.py\n",
    "# argPrint.py\n",
    "# Purpose: Print args with built-in 'enumerate' function.\n",
    "# Usage: Any arguments.\n",
    "# Example input: 500 miles\n",
    "import sys\n",
    "for index, arg in enumerate(sys.argv):\n",
    "    print 'Argument {0}: {1}'.format(index, arg)\n"
   ]
  },
  {
   "cell_type": "code",
   "execution_count": 14,
   "metadata": {
    "collapsed": false
   },
   "outputs": [
    {
     "name": "stdout",
     "output_type": "stream",
     "text": [
      "Argument 0: ch12/script2/argPrint.py\n",
      "Argument 1: 500\n",
      "Argument 2: miles\n"
     ]
    }
   ],
   "source": [
    "%run ch12/script2/argPrint.py 500 miles"
   ]
  },
  {
   "cell_type": "markdown",
   "metadata": {},
   "source": [
    "### Example 12.2: Use enumerate to create unique output names"
   ]
  },
  {
   "cell_type": "code",
   "execution_count": null,
   "metadata": {
    "collapsed": true
   },
   "outputs": [],
   "source": [
    "# %load ch12/script2/point2LineV2.py\n",
    "# point2LineV2.py (a modification of 'points2Line.py' from Chapter 10.)\n",
    "# Purpose: V2 one uses the 'enumerate' function in the loop to\n",
    "#     create a unique output name based on a number.\n",
    "# Usage: No arguments needed.\n",
    "import arcpy\n",
    "arcpy.env.workspace = 'ch12/data'\n",
    "arcpy.env.overwriteOutput = True\n",
    "outDir = 'ch12/scratch/'\n",
    "\n",
    "myFiles = ['data1.shp', 'data2.shp', 'data3.shp', 'data4.shp']\n",
    "for index, currentFile in enumerate(myFiles):\n",
    "    # Create a unique output names, 'Line1.shp,', 'Line2.shp'...\n",
    "    outputName = 'Line{0}.shp'.format(index)\n",
    "    arcpy.PointsToLine_management(currentFile, outDir + outputName)\n",
    "    print outputName,\n"
   ]
  },
  {
   "cell_type": "code",
   "execution_count": null,
   "metadata": {
    "collapsed": false
   },
   "outputs": [
    {
     "name": "stdout",
     "output_type": "stream",
     "text": [
      "Line0.shp Line1.shp Line2.shp Line3.shp\n"
     ]
    }
   ],
   "source": [
    "%run ch12/script2/point2LineV2.py"
   ]
  },
  {
   "cell_type": "code",
   "execution_count": null,
   "metadata": {
    "collapsed": true
   },
   "outputs": [],
   "source": []
  },
  {
   "cell_type": "markdown",
   "metadata": {},
   "source": [
    "## 12.3 The Built-in zip Function"
   ]
  },
  {
   "cell_type": "code",
   "execution_count": 1,
   "metadata": {
    "collapsed": false
   },
   "outputs": [
    {
     "data": {
      "text/plain": [
       "[('FID', 'OID'), ('Shape', 'Geometry'), ('COVER', 'String')]"
      ]
     },
     "execution_count": 1,
     "metadata": {},
     "output_type": "execute_result"
    }
   ],
   "source": [
    "listA = ['FID', 'Shape', 'COVER', 'RECNO']\n",
    "listB = ['OID', 'Geometry', 'String']\n",
    "zip(listA,listB)"
   ]
  },
  {
   "cell_type": "code",
   "execution_count": 2,
   "metadata": {
    "collapsed": false
   },
   "outputs": [
    {
     "name": "stdout",
     "output_type": "stream",
     "text": [
      "a:  FID  b:  OID\n",
      "a:  Shape  b:  Geometry\n",
      "a:  COVER  b:  String\n"
     ]
    }
   ],
   "source": [
    "for a, b in zip(listA, listB):\n",
    "    print 'a: ', a ,' b: ', b"
   ]
  },
  {
   "cell_type": "markdown",
   "metadata": {},
   "source": [
    "## 12.4 Walking Through Subdirectories"
   ]
  },
  {
   "cell_type": "code",
   "execution_count": 4,
   "metadata": {
    "collapsed": true
   },
   "outputs": [],
   "source": [
    "root = 'ch12/data/pics'\n",
    "dirs = ['italy', 'jerusalem']\n",
    "files = ['istanbul.jpg', 'istanbul2.jpg', 'marbleRoad.jpg', 'spice_market.jpg', 'stage.jpg']"
   ]
  },
  {
   "cell_type": "code",
   "execution_count": 5,
   "metadata": {
    "collapsed": true
   },
   "outputs": [],
   "source": [
    "root = 'ch12/data/pics\\italy'\n",
    "dirs = ['venice']\n",
    "files = ['backSeat.jpg', 'bridge.jpg', 'ct.jpg', ' florence.jpg']"
   ]
  },
  {
   "cell_type": "code",
   "execution_count": 6,
   "metadata": {
    "collapsed": true
   },
   "outputs": [],
   "source": [
    "root = 'ch12/data/pics\\italy\\venice'\n",
    "dirs = []\n",
    "files = ['canal.jpg', 'fruitMarket.jpg']"
   ]
  },
  {
   "cell_type": "code",
   "execution_count": 7,
   "metadata": {
    "collapsed": true
   },
   "outputs": [],
   "source": [
    "root = 'ch12/data/pics\\jerusalem'\n",
    "dirs = []\n",
    "files = ['gate.jpg', 'old_city.jpg']"
   ]
  },
  {
   "cell_type": "markdown",
   "metadata": {},
   "source": [
    "### Example 12.3: Walk through subdirectories"
   ]
  },
  {
   "cell_type": "code",
   "execution_count": null,
   "metadata": {
    "collapsed": true
   },
   "outputs": [],
   "source": [
    "# %load ch12/script2/walkPics.py\n",
    "# walkPics.py\n",
    "# Purpose: Demostrate the 'os.walk' function.\n",
    "import os\n",
    "myDir = 'ch12/data/pics'\n",
    "for root, dirs, files in os.walk(myDir):\n",
    "    print 'root = {0}'.format(root)\n",
    "    print 'dirs = {0}'.format(dirs)\n",
    "    print 'files = {0}\\n'.format(files)\n"
   ]
  },
  {
   "cell_type": "code",
   "execution_count": 10,
   "metadata": {
    "collapsed": false
   },
   "outputs": [
    {
     "name": "stdout",
     "output_type": "stream",
     "text": [
      "root = ch12/data/pics\n",
      "dirs = ['italy', 'jerusalem']\n",
      "files = ['istanbul.jpg', 'istanbul2.jpg', 'marbleRoad.jpg', 'spice_market.jpg', 'stage.jpg']\n",
      "\n",
      "root = ch12/data/pics\\italy\n",
      "dirs = ['venice']\n",
      "files = ['backSeat.jpg', 'bridge.jpg', 'ct.jpg', 'florence.jpg']\n",
      "\n",
      "root = ch12/data/pics\\italy\\venice\n",
      "dirs = []\n",
      "files = ['canal.jpg', 'fruitMarket.jpg']\n",
      "\n",
      "root = ch12/data/pics\\jerusalem\n",
      "dirs = []\n",
      "files = ['gate.jpg', 'old_city.jpg']\n",
      "\n"
     ]
    }
   ],
   "source": [
    "%run ch12/script2/walkPics.py"
   ]
  },
  {
   "cell_type": "code",
   "execution_count": 12,
   "metadata": {
    "collapsed": false
   },
   "outputs": [
    {
     "name": "stdout",
     "output_type": "stream",
     "text": [
      "['istanbul.jpg', 'istanbul2.jpg', 'marbleRoad.jpg', 'spice_market.jpg', 'stage.jpg']\n",
      "['backSeat.jpg', 'bridge.jpg', 'ct.jpg', 'florence.jpg']\n",
      "['canal.jpg', 'fruitMarket.jpg']\n",
      "['gate.jpg', 'old_city.jpg']\n"
     ]
    }
   ],
   "source": [
    "import arcpy, os\n",
    "myDir = 'ch12/data/pics'\n",
    "for root, dirs, files in os.walk(myDir):\n",
    "    print files"
   ]
  },
  {
   "cell_type": "code",
   "execution_count": 14,
   "metadata": {
    "collapsed": false
   },
   "outputs": [
    {
     "name": "stdout",
     "output_type": "stream",
     "text": [
      "istanbul.jpg\n",
      "istanbul2.jpg\n",
      "marbleRoad.jpg\n",
      "spice_market.jpg\n",
      "stage.jpg\n",
      "backSeat.jpg\n",
      "bridge.jpg\n",
      "ct.jpg\n",
      "florence.jpg\n",
      "canal.jpg\n",
      "fruitMarket.jpg\n",
      "gate.jpg\n",
      "old_city.jpg\n"
     ]
    }
   ],
   "source": [
    "for root, dirs, files in os.walk(myDir):\n",
    "    for f in files:\n",
    "        print f"
   ]
  },
  {
   "cell_type": "code",
   "execution_count": 16,
   "metadata": {
    "collapsed": false
   },
   "outputs": [
    {
     "name": "stdout",
     "output_type": "stream",
     "text": [
      "False\n",
      "False\n",
      "False\n",
      "False\n",
      "False\n",
      "False\n",
      "False\n",
      "False\n",
      "False\n",
      "False\n",
      "False\n",
      "False\n",
      "False\n"
     ]
    }
   ],
   "source": [
    "for root, dirs, files in os.walk(myDir):\n",
    "    for f in files:\n",
    "        print arcpy.Exists(f)"
   ]
  },
  {
   "cell_type": "code",
   "execution_count": 19,
   "metadata": {
    "collapsed": false
   },
   "outputs": [
    {
     "name": "stdout",
     "output_type": "stream",
     "text": [
      "True\n",
      "True\n",
      "True\n",
      "True\n",
      "True\n",
      "True\n",
      "True\n",
      "True\n",
      "True\n",
      "True\n",
      "True\n",
      "True\n",
      "True\n"
     ]
    }
   ],
   "source": [
    "for root, dirs, files in os.walk(myDir):\n",
    "    arcpy.env.workspace = root\n",
    "    for f in files:\n",
    "        print arcpy.Exists(f)"
   ]
  },
  {
   "cell_type": "markdown",
   "metadata": {},
   "source": [
    "### Example 12.4: Walk and print the full path names of the fi les with 'txt' extensions"
   ]
  },
  {
   "cell_type": "code",
   "execution_count": null,
   "metadata": {
    "collapsed": true
   },
   "outputs": [],
   "source": [
    "# %load ch12/script2/walkTXT.py\n",
    "# walkTXT.py\n",
    "# Purpose: Walk and print the full path file names of\n",
    "#    'txt' extension files in the input directory.\n",
    "# Usage: input_directory\n",
    "# Example: C:/gispy/data/ch12/wTest\n",
    "import arcpy, os, sys\n",
    "mydir = sys.argv[1]\n",
    "for root, dirs, files in os.walk(mydir):\n",
    "    arcpy.env.workspace = root\n",
    "    for f in files:\n",
    "        if f.endswith('.shp'):\n",
    "            # Print the full path file name of f\n",
    "            print '{0}/{1}'.format(root, f)\n"
   ]
  },
  {
   "cell_type": "code",
   "execution_count": 26,
   "metadata": {
    "collapsed": false
   },
   "outputs": [
    {
     "name": "stdout",
     "output_type": "stream",
     "text": [
      "ch12/data/wTest/data1.shp\n",
      "ch12/data/wTest\\trains/regions1.shp\n",
      "ch12/data/wTest\\trains/s2.shp\n"
     ]
    }
   ],
   "source": [
    "%run ch12/script2/walkTXT.py ch12/data/wTest"
   ]
  },
  {
   "cell_type": "markdown",
   "metadata": {},
   "source": [
    "### Example 12.5: Walk through the directories and buffer each shapefile"
   ]
  },
  {
   "cell_type": "code",
   "execution_count": null,
   "metadata": {
    "collapsed": true
   },
   "outputs": [],
   "source": [
    "# %load ch12/script2/osWalkBuffer.py\n",
    "# osWalkBuffer.py\n",
    "# Purpose: Walk and buffer the point shapefiles.\n",
    "# Usage: input_directory output_directory\n",
    "# Example: C:/gispy/data/ch12/wTest C:/gispy/scratch\n",
    "import arcpy, os, sys\n",
    "rootDir = sys.argv[1]\n",
    "outDir = sys.argv[2]\n",
    "arcpy.env.overwriteOutput = True\n",
    "for root, dirs, files in os.walk(rootDir):\n",
    "    arcpy.env.workspace = root\n",
    "    fcs = arcpy.ListFeatureClasses('*', 'POINT')\n",
    "    for f in fcs:\n",
    "        # Set output name and perform geoprocessing on f\n",
    "        outfile = outDir + '/' + os.path.splitext(f)[0] + '_buffer.shp'\n",
    "        arcpy.Buffer_analysis(f, outfile, '1 mile')\n",
    "        print '{0}/{1}  buffer ouput: {2}'.format(root, f, outfile)\n"
   ]
  },
  {
   "cell_type": "code",
   "execution_count": 27,
   "metadata": {
    "collapsed": false
   },
   "outputs": [
    {
     "name": "stdout",
     "output_type": "stream",
     "text": [
      "ch12/data/wTest/data1.shp  buffer ouput: ch12/scratch/data1_buffer.shp\n",
      "ch12/data/wTest\\trains/s2.shp  buffer ouput: ch12/scratch/s2_buffer.shp\n",
      "ch12/data/wTest\\tSmall.gdb/c1  buffer ouput: ch12/scratch/c1_buffer.shp\n"
     ]
    }
   ],
   "source": [
    "%run ch12/script2/osWalkBuffer.py ch12/data/wTest ch12/scratch"
   ]
  },
  {
   "cell_type": "code",
   "execution_count": null,
   "metadata": {
    "collapsed": true
   },
   "outputs": [],
   "source": []
  },
  {
   "cell_type": "markdown",
   "metadata": {},
   "source": [
    "## 12.5 Key Terms"
   ]
  },
  {
   "cell_type": "markdown",
   "metadata": {},
   "source": [
    "```\n",
    "List comprehension\n",
    "The string lstrip method\n",
    "Built-inenumerate function\n",
    "Built-inzip function\n",
    "The os.walk function\n",
    "The arcpy.Exists function\n",
    "```"
   ]
  },
  {
   "cell_type": "markdown",
   "metadata": {},
   "source": [
    "## 12.6 Exercises"
   ]
  },
  {
   "cell_type": "code",
   "execution_count": null,
   "metadata": {
    "collapsed": true
   },
   "outputs": [],
   "source": []
  }
 ],
 "metadata": {
  "kernelspec": {
   "display_name": "Python 2",
   "language": "python",
   "name": "python2"
  },
  "language_info": {
   "codemirror_mode": {
    "name": "ipython",
    "version": 2
   },
   "file_extension": ".py",
   "mimetype": "text/x-python",
   "name": "python",
   "nbconvert_exporter": "python",
   "pygments_lexer": "ipython2",
   "version": "2.7.2"
  }
 },
 "nbformat": 4,
 "nbformat_minor": 1
}
