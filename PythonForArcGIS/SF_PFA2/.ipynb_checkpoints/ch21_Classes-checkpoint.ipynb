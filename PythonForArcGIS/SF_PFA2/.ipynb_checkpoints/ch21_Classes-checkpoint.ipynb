{
 "cells": [
  {
   "cell_type": "markdown",
   "metadata": {},
   "source": [
    "# 21 Classes"
   ]
  },
  {
   "cell_type": "markdown",
   "metadata": {},
   "source": [
    "## 21.1 Why Use OOP?"
   ]
  },
  {
   "cell_type": "code",
   "execution_count": null,
   "metadata": {
    "collapsed": true
   },
   "outputs": [],
   "source": [
    "trailList = [1, 2, 5, 10, 15]"
   ]
  },
  {
   "cell_type": "code",
   "execution_count": null,
   "metadata": {
    "collapsed": false
   },
   "outputs": [],
   "source": [
    "trailList.append(16)\n",
    "trailList"
   ]
  },
  {
   "cell_type": "code",
   "execution_count": null,
   "metadata": {
    "collapsed": false
   },
   "outputs": [],
   "source": [
    "trailList.remove(5)\n",
    "trailList"
   ]
  },
  {
   "cell_type": "code",
   "execution_count": null,
   "metadata": {
    "collapsed": true
   },
   "outputs": [],
   "source": [
    "trailVegetation = {1: 'barren', 2: 'some bare ground', 5: 'stunted vegetation', 10: 'barren', 15: 'over-grown'}"
   ]
  },
  {
   "cell_type": "markdown",
   "metadata": {},
   "source": [
    "### Example 21.1"
   ]
  },
  {
   "cell_type": "code",
   "execution_count": null,
   "metadata": {
    "collapsed": true
   },
   "outputs": [],
   "source": [
    "# %load ch21/script2/calculateCost.py\n",
    "def calculateCost(trail_ID, vegetation, length):\n",
    "    '''Calculate trail maintenance based on\n",
    "    vegetation and length.'''\n",
    "    rate = 1000\n",
    "    if vegetation[trail_ID] == 'barren':\n",
    "        rate = 800\n",
    "    elif vegetation[trail_ID] == 'some bare ground':\n",
    "        rate = 900\n",
    "    cost = length[trail_ID]*rate\n",
    "    return cost"
   ]
  },
  {
   "cell_type": "markdown",
   "metadata": {},
   "source": [
    "## 21.2 Defining a Class"
   ]
  },
  {
   "cell_type": "markdown",
   "metadata": {},
   "source": [
    "```python\n",
    "class ClassName:\n",
    "    '''Class docstring.\n",
    "    '''\n",
    "    code statement(s)\n",
    "```"
   ]
  },
  {
   "cell_type": "markdown",
   "metadata": {},
   "source": [
    "### Example 21.2: A Trail class, created using the class keyword and indenting all of the contents"
   ]
  },
  {
   "cell_type": "code",
   "execution_count": null,
   "metadata": {
    "collapsed": false
   },
   "outputs": [],
   "source": [
    "# %load ch21/script2/trailExample.py\n",
    "# trailExample.py\n",
    "# Purpose: Create a Trail class and use it to store and\n",
    "#          explore a land trail dataset ('trails.txt').\n",
    "# Usage: No arguments required.  Data full path is hard-coded.\n",
    "\n",
    "\n",
    "class Trail:\n",
    "    '''Pedestrian path.\n",
    "\n",
    "       Attributes:\n",
    "         ID      A unique identifier\n",
    "         length:  Estimated trail length\n",
    "         vegetation: Plant growth on the trail\n",
    "    '''\n",
    "    def __init__(self, tid, theLength, theVegetation):\n",
    "        '''Initialize trail properties.'''\n",
    "        self.ID = tid\n",
    "        self.length = theLength\n",
    "        self.vegetation = theVegetation\n",
    "\n",
    "    def calculateCost(self):\n",
    "        '''Calculate maintenance costs based on vegetation and length.'''\n",
    "        rate = 1000\n",
    "        if self.vegetation == 'barren':\n",
    "            rate = 800\n",
    "        elif self.vegetation == 'some bare ground':\n",
    "            rate = 900\n",
    "        cost = self.length*rate\n",
    "        return cost\n",
    "\n",
    "    def reportInfo(self):\n",
    "        '''Print trail properties'''\n",
    "        print 'ID: {0}'.format(self.ID)\n",
    "        print 'Length: {0}'.format(self.length)\n",
    "        print 'Vegetation: {0}'.format(self.vegetation)\n",
    "\n",
    "    def calculateCrowding(self, visits, track):\n",
    "        '''Calculate number of visitors/100 m (count double for narrow trails)'''\n",
    "        if track == 'single':\n",
    "            val = 2*visits/(self.length*10)\n",
    "        else:  # The default unit is square meters.\n",
    "            val = visits/(self.length*10)\n",
    "        return round(val, 2)\n",
    "\n",
    "data = 'ch21/data/trails.txt'\n",
    "\n",
    "trailDict = {}\n",
    "with open(data, 'r') as f:\n",
    "    # Read each line.\n",
    "    for line in f:\n",
    "        # Strip the \\n from the end and split the line.\n",
    "        line = line.strip()\n",
    "        lineList = line.split(',')\n",
    "        tID = int(lineList[0])\n",
    "        tLength = float(lineList[1])\n",
    "        tVeg = lineList[2]\n",
    "        # Create a trail object.\n",
    "        theTrail = Trail(tID, tLength, tVeg)\n",
    "        # Add the trail object to the dictionary.\n",
    "        trailDict[tID] = theTrail\n",
    "\n",
    "print 'The dictionary keys are trail ids:'\n",
    "print trailDict.keys()\n",
    "\n",
    "print '\\nThe dictionary values are objects:'\n",
    "print trailDict.values()\n",
    "\n",
    "print '\\nThe reportInfo method prints the object properties'\n",
    "for t in trailDict.values():\n",
    "    t.reportInfo()\n",
    "\n",
    "print '\\nDelete an entry based on its key:'\n",
    "del trailDict[5]\n",
    "for t in trailDict.values():\n",
    "    t.reportInfo()\n",
    "\n",
    "print '\\nModify entries based on a property:'\n",
    "# Increase trail length by 1.2km.\n",
    "for t in trailDict.values():\n",
    "    if t.vegetation == 'barren':\n",
    "        t.length = t.length + 1.2\n",
    "for t in trailDict.values():\n",
    "    t.reportInfo()\n",
    "print\n",
    "\n",
    "print 'Delete entries based on a property:'\n",
    "# Delete trails whose length exceeds 10 km.\n",
    "for t in trailDict.values():\n",
    "    if t.length > 10:\n",
    "        del trailDict[t.ID]\n",
    "for t in trailDict.values():\n",
    "    t.reportInfo()\n"
   ]
  },
  {
   "cell_type": "code",
   "execution_count": null,
   "metadata": {
    "collapsed": true
   },
   "outputs": [],
   "source": [
    "%run ch21/script2/trailExample.py"
   ]
  },
  {
   "cell_type": "markdown",
   "metadata": {},
   "source": [
    "## 21.3 Object Initialization and Self"
   ]
  },
  {
   "cell_type": "code",
   "execution_count": null,
   "metadata": {
    "collapsed": true
   },
   "outputs": [],
   "source": [
    "myTrail = Trail(1, 2.3, 'barren')"
   ]
  },
  {
   "cell_type": "markdown",
   "metadata": {},
   "source": [
    "## 21.4 Using Class Objects"
   ]
  },
  {
   "cell_type": "code",
   "execution_count": null,
   "metadata": {
    "collapsed": false
   },
   "outputs": [],
   "source": [
    "myTrail2 = Trail(2, 5.0, 'some bare ground')\n",
    "myTrail2.length"
   ]
  },
  {
   "cell_type": "code",
   "execution_count": null,
   "metadata": {
    "collapsed": false
   },
   "outputs": [],
   "source": [
    "myTrail2.vegetation"
   ]
  },
  {
   "cell_type": "code",
   "execution_count": null,
   "metadata": {
    "collapsed": false
   },
   "outputs": [],
   "source": [
    "myCost = myTrail2.calculateCost()\n",
    "myCost"
   ]
  },
  {
   "cell_type": "code",
   "execution_count": null,
   "metadata": {
    "collapsed": false
   },
   "outputs": [],
   "source": [
    "myTrail2.length = 2.1\n",
    "myTrail2.calculateCost()"
   ]
  },
  {
   "cell_type": "markdown",
   "metadata": {},
   "source": [
    "### Example 21.4: Read a dataset and createTrail objects"
   ]
  },
  {
   "cell_type": "code",
   "execution_count": null,
   "metadata": {
    "collapsed": true
   },
   "outputs": [],
   "source": [
    "# %load ch21/script2/trailExample.py\n",
    "# trailExample.py\n",
    "# Purpose: Create a Trail class and use it to store and\n",
    "#          explore a land trail dataset ('trails.txt').\n",
    "# Usage: No arguments required.  Data full path is hard-coded.\n",
    "\n",
    "\n",
    "class Trail:\n",
    "    '''Pedestrian path.\n",
    "\n",
    "       Attributes:\n",
    "         ID      A unique identifier\n",
    "         length:  Estimated trail length\n",
    "         vegetation: Plant growth on the trail\n",
    "    '''\n",
    "    def __init__(self, tid, theLength, theVegetation):\n",
    "        '''Initialize trail properties.'''\n",
    "        self.ID = tid\n",
    "        self.length = theLength\n",
    "        self.vegetation = theVegetation\n",
    "\n",
    "    def calculateCost(self):\n",
    "        '''Calculate maintenance costs based on vegetation and length.'''\n",
    "        rate = 1000\n",
    "        if self.vegetation == 'barren':\n",
    "            rate = 800\n",
    "        elif self.vegetation == 'some bare ground':\n",
    "            rate = 900\n",
    "        cost = self.length*rate\n",
    "        return cost\n",
    "\n",
    "    def reportInfo(self):\n",
    "        '''Print trail properties'''\n",
    "        print 'ID: {0}'.format(self.ID)\n",
    "        print 'Length: {0}'.format(self.length)\n",
    "        print 'Vegetation: {0}'.format(self.vegetation)\n",
    "\n",
    "    def calculateCrowding(self, visits, track):\n",
    "        '''Calculate number of visitors/100 m (count double for narrow trails)'''\n",
    "        if track == 'single':\n",
    "            val = 2*visits/(self.length*10)\n",
    "        else:  # The default unit is square meters.\n",
    "            val = visits/(self.length*10)\n",
    "        return round(val, 2)\n",
    "\n",
    "data = 'ch21/data/trails.txt'\n",
    "\n",
    "trailDict = {}\n",
    "with open(data, 'r') as f:\n",
    "    # Read each line.\n",
    "    for line in f:\n",
    "        # Strip the \\n from the end and split the line.\n",
    "        line = line.strip()\n",
    "        lineList = line.split(',')\n",
    "        tID = int(lineList[0])\n",
    "        tLength = float(lineList[1])\n",
    "        tVeg = lineList[2]\n",
    "        # Create a trail object.\n",
    "        theTrail = Trail(tID, tLength, tVeg)\n",
    "        # Add the trail object to the dictionary.\n",
    "        trailDict[tID] = theTrail\n",
    "\n",
    "print 'The dictionary keys are trail ids:'\n",
    "print trailDict.keys()\n",
    "\n",
    "print '\\nThe dictionary values are objects:'\n",
    "print trailDict.values()\n",
    "\n",
    "print '\\nThe reportInfo method prints the object properties'\n",
    "for t in trailDict.values():\n",
    "    t.reportInfo()\n",
    "\n",
    "print '\\nDelete an entry based on its key:'\n",
    "del trailDict[5]\n",
    "for t in trailDict.values():\n",
    "    t.reportInfo()\n",
    "\n",
    "print '\\nModify entries based on a property:'\n",
    "# Increase trail length by 1.2km.\n",
    "for t in trailDict.values():\n",
    "    if t.vegetation == 'barren':\n",
    "        t.length = t.length + 1.2\n",
    "for t in trailDict.values():\n",
    "    t.reportInfo()\n",
    "print\n",
    "\n",
    "print 'Delete entries based on a property:'\n",
    "# Delete trails whose length exceeds 10 km.\n",
    "for t in trailDict.values():\n",
    "    if t.length > 10:\n",
    "        del trailDict[t.ID]\n",
    "for t in trailDict.values():\n",
    "    t.reportInfo()\n"
   ]
  },
  {
   "cell_type": "code",
   "execution_count": null,
   "metadata": {
    "collapsed": false
   },
   "outputs": [],
   "source": [
    "trailDict.keys()"
   ]
  },
  {
   "cell_type": "code",
   "execution_count": null,
   "metadata": {
    "collapsed": false
   },
   "outputs": [],
   "source": [
    "trailDict.values()"
   ]
  },
  {
   "cell_type": "code",
   "execution_count": null,
   "metadata": {
    "collapsed": false
   },
   "outputs": [],
   "source": [
    "for t in trailDict.values():\n",
    "    t.reportInfo()"
   ]
  },
  {
   "cell_type": "code",
   "execution_count": null,
   "metadata": {
    "collapsed": false
   },
   "outputs": [],
   "source": [
    "del trailDict[5]"
   ]
  },
  {
   "cell_type": "code",
   "execution_count": null,
   "metadata": {
    "collapsed": true
   },
   "outputs": [],
   "source": [
    "# Delete trails whose length exceeds 10 km.\n",
    "for t in trailDict.values():\n",
    "    if t.length > 10:\n",
    "        del trailDict[t.ID]"
   ]
  },
  {
   "cell_type": "markdown",
   "metadata": {},
   "source": [
    "### functionalTrailDelete.py"
   ]
  },
  {
   "cell_type": "code",
   "execution_count": null,
   "metadata": {
    "collapsed": false
   },
   "outputs": [],
   "source": [
    "# %load ch21/script2/functionalParcelDelete.py\n",
    "# functionalParcelDelete.py\n",
    "parcelList = [1, 2, 5, 10, 15] \n",
    "parcelZoning = {1: 'residential', 2: 'commerial', 5: 'industrial', 10: 'residential', 15: 'agricultural'}\n",
    "parcelPricing = {1: 145000.0, 2: 400000.0, 15: 90005000.0, 10: 900000.0, 5: 8000000.0}\n",
    "\n",
    "# Determine which parcels to delete.\n",
    "highCost = []\n",
    "for k, v in parcelPricing.items():\n",
    "    if v > 1000000:\n",
    "        highCost.append(k)\n",
    "# Delete the high cost parcels and tcorresponding attributes.\n",
    "for i in highCost:\n",
    "    parcelList.remove(i)\n",
    "    del parcelPricing[i]\n",
    "    del parcelZoning[i]\n"
   ]
  },
  {
   "cell_type": "code",
   "execution_count": null,
   "metadata": {
    "collapsed": true
   },
   "outputs": [],
   "source": [
    "# Increase barren property lengths by $5000.\n",
    "for t in trailDict.values():\n",
    "    if t.vegetation == 'barren':\n",
    "        t.length = t.length + 1.2"
   ]
  },
  {
   "cell_type": "code",
   "execution_count": null,
   "metadata": {
    "collapsed": true
   },
   "outputs": [],
   "source": [
    "def calculateCrowding(self, visits, track):\n",
    "    '''Calculate number of visitors/100 m\n",
    "    (count double for narrow trails).'''\n",
    "    if track == 'single':\n",
    "        val = 2*visits/(self.length*10)\n",
    "    else:# default unit is square meters\n",
    "        val = visits/(self.length*10)\n",
    "    return round(val,2)"
   ]
  },
  {
   "cell_type": "code",
   "execution_count": null,
   "metadata": {
    "collapsed": true
   },
   "outputs": [],
   "source": [
    "t = Trail(11, 9.5, 'barren')\n",
    "t.calculateCrowding(20, 'single')"
   ]
  },
  {
   "cell_type": "code",
   "execution_count": null,
   "metadata": {
    "collapsed": true
   },
   "outputs": [],
   "source": [
    "class Trail:\n",
    "    def__init__(self, tid, length, vegetation, visits = 0):\n",
    "        '''Initialize trail properties.'''\n",
    "        self.ID = tid\n",
    "        self.length = length\n",
    "        self.vegetation = vegetation\n",
    "        self.visits = visits"
   ]
  },
  {
   "cell_type": "code",
   "execution_count": null,
   "metadata": {
    "collapsed": true
   },
   "outputs": [],
   "source": [
    "t1 = Trail(1, 14.5, 'over-grown')\n",
    "t2 = Trail(2, 3.4, 'some bare ground', 3.5)"
   ]
  },
  {
   "cell_type": "code",
   "execution_count": null,
   "metadata": {
    "collapsed": true
   },
   "outputs": [],
   "source": [
    "t1.visits\n",
    "t2.visits"
   ]
  },
  {
   "cell_type": "code",
   "execution_count": null,
   "metadata": {
    "collapsed": true
   },
   "outputs": [],
   "source": []
  },
  {
   "cell_type": "markdown",
   "metadata": {},
   "source": [
    "## 21.5 Where to Define a Class"
   ]
  },
  {
   "cell_type": "markdown",
   "metadata": {},
   "source": [
    "### Example 21.5: Defi ning a class, creating an object instance, and using the object properties and methods"
   ]
  },
  {
   "cell_type": "code",
   "execution_count": null,
   "metadata": {
    "collapsed": true
   },
   "outputs": [],
   "source": [
    "# %load ch21/script2/highwayInfo.py\n",
    "# highwayInfo.py\n",
    "# Purpose: Define a highway class to be used by other scripts.\n",
    "#          Demonstrate defining a class within a user-defined module to be\n",
    "#          called from another script.\n",
    "# Usage: No arguments required.\n",
    "\n",
    "\n",
    "class Highway:\n",
    "    '''Major road.\n",
    "    Attributes:\n",
    "        name        None-numerical road name.\n",
    "        length      Length based on a network dataset.\n",
    "        travelTime  Estimated time it takes to travel the full length of this highway.\n",
    "    '''\n",
    "    def __init__(self, name, length, tTime):\n",
    "        '''Initialize a Highway object.'''\n",
    "        self.name = name\n",
    "        self.length = length\n",
    "        self.travelTime = tTime\n",
    "\n",
    "    def calculateAvgSpeed(self):\n",
    "        '''Calculate the average speed.'''\n",
    "        avgSpeed = self.length/float(self.travelTime)\n",
    "        return avgSpeed\n",
    "\n",
    "    def getOrientation(self, number):\n",
    "        '''Determine highway orientation based on the hwy number.'''\n",
    "        if number % 2 == 1:  # If the number is odd...\n",
    "            orientation = 'NS'\n",
    "        else:  # Otherwise, the number is even.\n",
    "            orientation = 'EW'\n",
    "        return orientation\n",
    "\n",
    "    def report(self):\n",
    "        '''Print highway attributes.'''\n",
    "        print\n",
    "        print '''{0} Highway\n",
    "-----------\n",
    "{1} km long\n",
    "{2} hours travel time\n",
    "        '''.format(self.name, self.length, self.travelTime)\n",
    "\n",
    "if __name__ == \"__main__\":\n",
    "    hwy = Highway('Lincoln', 4946, 100)\n",
    "    spdLimit = hwy.calculateAvgSpeed()\n",
    "    print 'Avg speed limit: {0} km/hr'.format(spdLimit)\n",
    "    orient = hwy.getOrientation(30)\n",
    "    print 'Orientation: {0}'.format(orient)\n",
    "    hwy.report()\n",
    "\n",
    "# This code will be executed, even when this module is imported.\n",
    "favoriteHighway = Highway('Blue Ridge Parkway', 755, 19)\n",
    "favoriteHighway.report()\n"
   ]
  },
  {
   "cell_type": "code",
   "execution_count": null,
   "metadata": {
    "collapsed": false,
    "scrolled": true
   },
   "outputs": [],
   "source": [
    "%run ch21/script2/highwayInfo.py"
   ]
  },
  {
   "cell_type": "code",
   "execution_count": null,
   "metadata": {
    "collapsed": false,
    "scrolled": true
   },
   "outputs": [],
   "source": [
    "import highwayInfo\n",
    "myHwy = highwayInfo.Highway('Paci fic Highway', 496, 5)"
   ]
  },
  {
   "cell_type": "code",
   "execution_count": null,
   "metadata": {
    "collapsed": true
   },
   "outputs": [],
   "source": [
    "myHwy.report()"
   ]
  },
  {
   "cell_type": "markdown",
   "metadata": {},
   "source": [
    "### Example 21.6: Calling the Highway class in highwayInfo, from a separate script"
   ]
  },
  {
   "cell_type": "code",
   "execution_count": null,
   "metadata": {
    "collapsed": true
   },
   "outputs": [],
   "source": [
    "# %load ch21/script2/handleHighways.py\n",
    "# handleHighways.py\n",
    "# Purpose: Demonstrates using a class defined in a separate user-defined module.\n",
    "# Input:  No arguments needed, but highwayInfo.py must be in the same directory.\n",
    "import highwayInfo\n",
    "myHwy = highwayInfo.Highway('Pacific Highway', 496, 5)\n",
    "\n",
    "spdLimit = myHwy.calculateAvgSpeed()\n",
    "print 'Avg travel speed: {0} km/hr'.format(spdLimit)\n",
    "\n",
    "orient = myHwy.getOrientation(5)\n",
    "print 'Orientation: {0}'.format(orient)\n"
   ]
  },
  {
   "cell_type": "markdown",
   "metadata": {},
   "source": [
    "## 21.6 Classes Within a Separate User-Defined Module"
   ]
  },
  {
   "cell_type": "markdown",
   "metadata": {},
   "source": [
    "## 21.7 Discussion"
   ]
  },
  {
   "cell_type": "markdown",
   "metadata": {},
   "source": [
    "## 21.8 Key Terms"
   ]
  },
  {
   "cell_type": "markdown",
   "metadata": {},
   "source": [
    "## 21.9 Exercises"
   ]
  },
  {
   "cell_type": "code",
   "execution_count": null,
   "metadata": {
    "collapsed": true
   },
   "outputs": [],
   "source": []
  }
 ],
 "metadata": {
  "kernelspec": {
   "display_name": "Python 2",
   "language": "python",
   "name": "python2"
  },
  "language_info": {
   "codemirror_mode": {
    "name": "ipython",
    "version": 2
   },
   "file_extension": ".py",
   "mimetype": "text/x-python",
   "name": "python",
   "nbconvert_exporter": "python",
   "pygments_lexer": "ipython2",
   "version": "2.7.2"
  }
 },
 "nbformat": 4,
 "nbformat_minor": 1
}
