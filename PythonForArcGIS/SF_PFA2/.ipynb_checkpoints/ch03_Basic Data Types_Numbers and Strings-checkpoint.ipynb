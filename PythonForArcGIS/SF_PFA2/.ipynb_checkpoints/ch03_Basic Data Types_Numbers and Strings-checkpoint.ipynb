{
 "cells": [
  {
   "cell_type": "markdown",
   "metadata": {},
   "source": [
    "# 3 Basic Data Types: Numbers and Strings\n",
    "## 3.1 Numbers\n",
    "## 3.2 What Is a String?\n",
    "## 3.3 String Operations\n",
    "### 3.3.1 Find the Length of Strings\n",
    "### 3.3.2 Indexing into Strings\n",
    "### 3.3.3 Slice Strings\n",
    "### 3.3.4 Concatenate Strings\n",
    "### 3.3.5 Check for Substring Membership\n",
    "## 3.4 More Things with Strings (a.k.a. String Methods)\n",
    "## 3.5 File Paths and Raw Strings\n",
    "## 3.6 Unicode Strings\n",
    "## 3.7 Printing Strings and Numbers\n",
    "## 3.8 Key Terms\n",
    "## 3.9 Exercises\n",
    " "
   ]
  },
  {
   "cell_type": "code",
   "execution_count": null,
   "metadata": {
    "collapsed": true
   },
   "outputs": [],
   "source": []
  }
 ],
 "metadata": {
  "kernelspec": {
   "display_name": "Python 2",
   "language": "python",
   "name": "python2"
  },
  "language_info": {
   "codemirror_mode": {
    "name": "ipython",
    "version": 2
   },
   "file_extension": ".py",
   "mimetype": "text/x-python",
   "name": "python",
   "nbconvert_exporter": "python",
   "pygments_lexer": "ipython2",
   "version": "2.7.2"
  }
 },
 "nbformat": 4,
 "nbformat_minor": 1
}
