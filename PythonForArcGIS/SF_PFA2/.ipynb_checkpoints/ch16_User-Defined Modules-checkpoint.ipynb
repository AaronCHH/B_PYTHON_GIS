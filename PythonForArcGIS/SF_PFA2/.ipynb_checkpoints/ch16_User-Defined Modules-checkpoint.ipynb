{
 "cells": [
  {
   "cell_type": "markdown",
   "metadata": {},
   "source": [
    "# 16 User-Defined Modules"
   ]
  },
  {
   "cell_type": "markdown",
   "metadata": {},
   "source": [
    "## 16.1 Importing User-Defi ned Modules"
   ]
  },
  {
   "cell_type": "code",
   "execution_count": 1,
   "metadata": {
    "collapsed": true
   },
   "outputs": [],
   "source": [
    "import arcpy, os, sys"
   ]
  },
  {
   "cell_type": "markdown",
   "metadata": {},
   "source": [
    "### Example 16.1: A user-defined module"
   ]
  },
  {
   "cell_type": "code",
   "execution_count": null,
   "metadata": {
    "collapsed": true
   },
   "outputs": [],
   "source": [
    "# %load ch16/supportCode/listManager.py\n",
    "# listManager.py\n",
    "# Purpose: Provide list and delimited string manipulation functions.\n",
    "# Usage: No script arguments needed.\n",
    "\n",
    "\n",
    "def list2String(delimiter, L):\n",
    "    '''Take a list and return a delimited string.'''\n",
    "    # Join fails for non-string elements, so use list\n",
    "    # comprehension to cast each element to string.\n",
    "    stringL = [str(i) for i in L]\n",
    "    # Join the string elements of stringL\n",
    "    s = delimiter.join(stringL)\n",
    "    return s\n",
    "\n",
    "\n",
    "def string2List(delimiter, s):\n",
    "    '''Take a delimited string and return a list.'''\n",
    "    L = s.split(delimiter)\n",
    "    return L\n",
    "\n",
    "##def delimStrLen(delimiter, s):\n",
    "##    '''Return the number of items in a delimited string.'''\n",
    "##    theList = string2List(delimiter, s)\n",
    "##    return len(theList)\n",
    "\n",
    "##print '\\nIn listManager.py, test string2List: '\n",
    "##theString = 'z;x;y'\n",
    "##theList = string2List( ';' , theString )\n",
    "##print '{0} -> {1}'.format(theString,theList)\n"
   ]
  },
  {
   "cell_type": "code",
   "execution_count": null,
   "metadata": {
    "collapsed": false,
    "scrolled": true
   },
   "outputs": [],
   "source": [
    "import listManager"
   ]
  },
  {
   "cell_type": "code",
   "execution_count": 4,
   "metadata": {
    "collapsed": false
   },
   "outputs": [
    {
     "data": {
      "text/plain": [
       "['',\n",
       " 'C:\\\\Windows\\\\SYSTEM32\\\\python27.zip',\n",
       " 'c:\\\\python27\\\\arcgis10.1\\\\DLLs',\n",
       " 'c:\\\\python27\\\\arcgis10.1\\\\lib',\n",
       " 'c:\\\\python27\\\\arcgis10.1\\\\lib\\\\plat-win',\n",
       " 'c:\\\\python27\\\\arcgis10.1\\\\lib\\\\lib-tk',\n",
       " 'c:\\\\python27\\\\arcgis10.1',\n",
       " 'c:\\\\python27\\\\arcgis10.1\\\\lib\\\\site-packages',\n",
       " 'C:\\\\Program Files (x86)\\\\ESRI\\\\WaterUtils\\\\ArcHydro\\\\bin',\n",
       " 'C:\\\\Program Files (x86)\\\\ArcGIS\\\\Desktop10.1\\\\bin',\n",
       " 'C:\\\\Program Files (x86)\\\\ArcGIS\\\\Desktop10.1\\\\arcpy',\n",
       " 'C:\\\\Program Files (x86)\\\\ArcGIS\\\\Desktop10.1\\\\ArcToolbox\\\\Scripts',\n",
       " 'c:\\\\python27\\\\arcgis10.1\\\\lib\\\\site-packages\\\\IPython\\\\extensions',\n",
       " 'C:\\\\Users\\\\AaronHsu\\\\.ipython']"
      ]
     },
     "execution_count": 4,
     "metadata": {},
     "output_type": "execute_result"
    }
   ],
   "source": [
    "import sys\n",
    "sys.path"
   ]
  },
  {
   "cell_type": "code",
   "execution_count": 5,
   "metadata": {
    "collapsed": false,
    "scrolled": true
   },
   "outputs": [
    {
     "data": {
      "text/plain": [
       "['',\n",
       " 'C:\\\\Windows\\\\SYSTEM32\\\\python27.zip',\n",
       " 'c:\\\\python27\\\\arcgis10.1\\\\DLLs',\n",
       " 'c:\\\\python27\\\\arcgis10.1\\\\lib',\n",
       " 'c:\\\\python27\\\\arcgis10.1\\\\lib\\\\plat-win',\n",
       " 'c:\\\\python27\\\\arcgis10.1\\\\lib\\\\lib-tk',\n",
       " 'c:\\\\python27\\\\arcgis10.1',\n",
       " 'c:\\\\python27\\\\arcgis10.1\\\\lib\\\\site-packages',\n",
       " 'C:\\\\Program Files (x86)\\\\ESRI\\\\WaterUtils\\\\ArcHydro\\\\bin',\n",
       " 'C:\\\\Program Files (x86)\\\\ArcGIS\\\\Desktop10.1\\\\bin',\n",
       " 'C:\\\\Program Files (x86)\\\\ArcGIS\\\\Desktop10.1\\\\arcpy',\n",
       " 'C:\\\\Program Files (x86)\\\\ArcGIS\\\\Desktop10.1\\\\ArcToolbox\\\\Scripts',\n",
       " 'c:\\\\python27\\\\arcgis10.1\\\\lib\\\\site-packages\\\\IPython\\\\extensions',\n",
       " 'C:\\\\Users\\\\AaronHsu\\\\.ipython',\n",
       " 'ch16/supportCode']"
      ]
     },
     "execution_count": 5,
     "metadata": {},
     "output_type": "execute_result"
    }
   ],
   "source": [
    "sys.path.append('ch16/supportCode')\n",
    "sys.path"
   ]
  },
  {
   "cell_type": "code",
   "execution_count": 6,
   "metadata": {
    "collapsed": false,
    "scrolled": true
   },
   "outputs": [
    {
     "name": "stdout",
     "output_type": "stream",
     "text": [
      "Inside script4\n",
      "D:\\BOOKS\\GISen\\_PYTHON\\PythonForArcGIS\\SF_PFA2\\ch16\\otherCode\\script4.py\n"
     ]
    }
   ],
   "source": [
    "import sys\n",
    "sys.path.append('ch16/otherCode')\n",
    "import script4"
   ]
  },
  {
   "cell_type": "code",
   "execution_count": null,
   "metadata": {
    "collapsed": false
   },
   "outputs": [],
   "source": [
    "import sys, os\n",
    "scriptPath = os.path.abspath(__ file__)"
   ]
  },
  {
   "cell_type": "code",
   "execution_count": null,
   "metadata": {
    "collapsed": true
   },
   "outputs": [],
   "source": [
    "scriptDir = os.path.dirname(scriptPath)\n",
    "relativePath = 'otherCode'\n",
    "modulePath = os.path.join(scriptDir, relativePath)"
   ]
  },
  {
   "cell_type": "code",
   "execution_count": null,
   "metadata": {
    "collapsed": true
   },
   "outputs": [],
   "source": [
    "sys.path.append(modulePath)"
   ]
  },
  {
   "cell_type": "code",
   "execution_count": null,
   "metadata": {
    "collapsed": true
   },
   "outputs": [],
   "source": [
    "import script4"
   ]
  },
  {
   "cell_type": "code",
   "execution_count": null,
   "metadata": {
    "collapsed": true
   },
   "outputs": [],
   "source": [
    "import sys, os\n",
    "scriptPath = os.path.abspath(__ file__)\n",
    "scriptDir = os.path.dirname(scriptPath)\n",
    "relativePath = '../../ch15'\n",
    "modulePath = os.path.join(scriptDir, relativePath)\n",
    "sys.path.append(modulePath)\n",
    "import punctuationArt"
   ]
  },
  {
   "cell_type": "markdown",
   "metadata": {},
   "source": [
    "## 16.2 Using Functions in Another Module"
   ]
  },
  {
   "cell_type": "code",
   "execution_count": null,
   "metadata": {
    "collapsed": true
   },
   "outputs": [],
   "source": [
    "import listManager\n",
    "theString = 'z;x;y'\n",
    "theList = listManager.string2List(';' , theString)\n",
    "theList"
   ]
  },
  {
   "cell_type": "markdown",
   "metadata": {},
   "source": [
    "### Example 16.2:Using a user-defi ned module from a script excerpt from sortString.py"
   ]
  },
  {
   "cell_type": "code",
   "execution_count": null,
   "metadata": {
    "collapsed": true
   },
   "outputs": [],
   "source": [
    "# %load ch16/sortString.py\n",
    "# sortString.py\n",
    "# Purpose: Sort the items in a delimited string.\n",
    "\n",
    "import os, sys\n",
    "scriptPath = os.path.abspath(__file__)\n",
    "scriptDir = os.path.dirname(scriptPath)\n",
    "relativePath = 'supportCode'\n",
    "modulePath = os.path.join(scriptDir, relativePath)\n",
    "sys.path.append(modulePath)\n",
    "import listManager\n",
    "##reload(listManager)\n",
    "\n",
    "delimiter = '~'  # Set delimiter.\n",
    "theString = 'fireID~unit~shelter~alt~campgr'  # Set delimited string.\n",
    "\n",
    "# Get a list from the string. module.function(argv1, argv2,...) format.\n",
    "theList = listManager.string2List(delimiter, theString)\n",
    "\n",
    "# Sort the list. Sort is a native list method (not a method defined in listManager.\n",
    "# Notice the difference in how it is called. It's called with object.method format,\n",
    "# where the object is theList.\n",
    "theList.sort()\n",
    "\n",
    "# Get a string from the list. module.function(argv1, argv2,...) format.\n",
    "newString = listManager.list2String(delimiter, theList)\n",
    "\n",
    "print '\\nsortString.py results:'\n",
    "print '{0} -> {1}'.format(theString, newString)\n",
    "\n",
    "##num = listManager.delimStrLen(delimiter , theString )\n",
    "##print 'Number of items: {0}'.format(num)\n"
   ]
  },
  {
   "cell_type": "markdown",
   "metadata": {},
   "source": [
    "## 16.3 Modifying User-Defi ned Modules (Reload!)"
   ]
  },
  {
   "cell_type": "code",
   "execution_count": null,
   "metadata": {
    "collapsed": true
   },
   "outputs": [],
   "source": [
    "def delimStrLen(delimiter, s):\n",
    "    '''Return the number of items in a delimited string.'''\n",
    "    theList = string2List(delimiter, s)\n",
    "    return len(theList)"
   ]
  },
  {
   "cell_type": "code",
   "execution_count": null,
   "metadata": {
    "collapsed": true
   },
   "outputs": [],
   "source": [
    "num = listManager.delimStrLen(delimiter,theString)\n",
    "print 'Number of items: {0}'.format(num)"
   ]
  },
  {
   "cell_type": "code",
   "execution_count": null,
   "metadata": {
    "collapsed": true
   },
   "outputs": [],
   "source": [
    "import listManager\n",
    "reload(listManager)"
   ]
  },
  {
   "cell_type": "markdown",
   "metadata": {},
   "source": [
    "## 16.4 Am I the Main Module? What’s My Name?"
   ]
  },
  {
   "cell_type": "code",
   "execution_count": null,
   "metadata": {
    "collapsed": true
   },
   "outputs": [],
   "source": [
    "print '\\nIn listManager.py, test string2List: '\n",
    "theString = 'z;x;y'\n",
    "theList = string2List(';', theString)\n",
    "print '{0} -> {1}'.format(theString,theList)"
   ]
  },
  {
   "cell_type": "markdown",
   "metadata": {},
   "source": [
    "## 16.5 Time Handling Example"
   ]
  },
  {
   "cell_type": "code",
   "execution_count": null,
   "metadata": {
    "collapsed": true
   },
   "outputs": [],
   "source": [
    "import time\n",
    "time.ctime()"
   ]
  },
  {
   "cell_type": "code",
   "execution_count": null,
   "metadata": {
    "collapsed": true
   },
   "outputs": [],
   "source": [
    "time.sleep(10)"
   ]
  },
  {
   "cell_type": "code",
   "execution_count": null,
   "metadata": {
    "collapsed": true
   },
   "outputs": [],
   "source": [
    "import datetime\n",
    "dt = datetime.datetime(1999, 12 ,31, 23, 59)\n",
    "dt"
   ]
  },
  {
   "cell_type": "code",
   "execution_count": null,
   "metadata": {
    "collapsed": true
   },
   "outputs": [],
   "source": [
    "dt.hour"
   ]
  },
  {
   "cell_type": "code",
   "execution_count": null,
   "metadata": {
    "collapsed": true
   },
   "outputs": [],
   "source": [
    "dt.year"
   ]
  },
  {
   "cell_type": "code",
   "execution_count": null,
   "metadata": {
    "collapsed": true
   },
   "outputs": [],
   "source": [
    "dt.weekday()"
   ]
  },
  {
   "cell_type": "code",
   "execution_count": null,
   "metadata": {
    "collapsed": false,
    "scrolled": true
   },
   "outputs": [],
   "source": [
    "dt2 = datetime.datetime(1999,12,31, 11, 59)\n",
    "timeDiff = dt - dt2\n",
    "timeDiff"
   ]
  },
  {
   "cell_type": "code",
   "execution_count": null,
   "metadata": {
    "collapsed": true
   },
   "outputs": [],
   "source": [
    "timeDiff.days"
   ]
  },
  {
   "cell_type": "code",
   "execution_count": null,
   "metadata": {
    "collapsed": true
   },
   "outputs": [],
   "source": [
    " timeDiff.total_seconds()"
   ]
  },
  {
   "cell_type": "code",
   "execution_count": null,
   "metadata": {
    "collapsed": true
   },
   "outputs": [],
   "source": [
    "hrs = timeDiff.total_seconds()/3600\n",
    "hrs"
   ]
  },
  {
   "cell_type": "code",
   "execution_count": null,
   "metadata": {
    "collapsed": true
   },
   "outputs": [],
   "source": [
    " dt2 < dt"
   ]
  },
  {
   "cell_type": "code",
   "execution_count": null,
   "metadata": {
    "collapsed": true
   },
   "outputs": [],
   "source": [
    "datetime.datetime.now() < dt"
   ]
  },
  {
   "cell_type": "markdown",
   "metadata": {},
   "source": [
    "### Example 16.3:A user-defi ned module timeReport.py"
   ]
  },
  {
   "cell_type": "code",
   "execution_count": null,
   "metadata": {
    "collapsed": true
   },
   "outputs": [],
   "source": [
    "# %load ch16/supportCode/timeReport.py\n",
    "# timeReport.py\n",
    "# Purpose: Provide time-related functions.\n",
    "# Usage: No script arguments needed for module testing.\n",
    "import datetime, time\n",
    "\n",
    "\n",
    "def getDay(theDate):\n",
    "    '''Given a date, return the day of the week'''\n",
    "    index = theDate.weekday()\n",
    "    wDict = {0: 'Monday', 1: 'Tuesday', 2: 'Wednesday',\n",
    "             3: 'Thursday', 4: 'Friday', 5: 'Saturday',\n",
    "             6: 'Sunday'}\n",
    "    return wDict[index]\n",
    "\n",
    "\n",
    "def getTime():\n",
    "    '''Report the current time'''\n",
    "    t = datetime.datetime.now()\n",
    "    return t\n",
    "\n",
    "\n",
    "def reportDiffTime(start, end, message='Time elapsed'):\n",
    "    '''Print the number of seconds that passed\n",
    "    between \"start\" and \"end\".'''\n",
    "    difference = end - start\n",
    "    seconds = difference.total_seconds()\n",
    "    print '{0}: {1} seconds.'.format(message, seconds)\n",
    "\n",
    "\n",
    "def reportTime(message='The current date and time is'):\n",
    "    '''Print the current time'''\n",
    "    now = time.ctime()\n",
    "    print '{0}: {1}'.format(message, now)\n",
    "\n",
    "\n",
    "if __name__ == '__main__':\n",
    "    reportTime('Script began running at')\n",
    "    # Get current time.\n",
    "    beforeSleep = getTime()\n",
    "    time.sleep(5)\n",
    "    # Get current time.\n",
    "    afterSleep = getTime()\n",
    "\n",
    "    message = 'Time elapsed for sleeping'\n",
    "    # Print the time difference.\n",
    "    reportDiffTime(beforeSleep, afterSleep, message)\n",
    "    reportTime('Script completed at')\n",
    "    print 'Hurray! I like {0}s.'.format(getDay(afterSleep))\n"
   ]
  },
  {
   "cell_type": "markdown",
   "metadata": {},
   "source": [
    "## 16.6 Summary"
   ]
  },
  {
   "cell_type": "markdown",
   "metadata": {},
   "source": [
    "## 16.7 Key Terms"
   ]
  },
  {
   "cell_type": "markdown",
   "metadata": {},
   "source": [
    "```\n",
    "User-defined module\n",
    "sys.path variable\n",
    "Built-in__ file__ variable\n",
    "Absolute vs. relative paths\n",
    "Built-inreload function\n",
    "Built-in__name__ variable\n",
    "Built-intime anddatetime modules\n",
    "```"
   ]
  },
  {
   "cell_type": "markdown",
   "metadata": {},
   "source": [
    "## 16.8 Exercises"
   ]
  },
  {
   "cell_type": "code",
   "execution_count": null,
   "metadata": {
    "collapsed": true
   },
   "outputs": [],
   "source": []
  }
 ],
 "metadata": {
  "kernelspec": {
   "display_name": "Python 2",
   "language": "python",
   "name": "python2"
  },
  "language_info": {
   "codemirror_mode": {
    "name": "ipython",
    "version": 2
   },
   "file_extension": ".py",
   "mimetype": "text/x-python",
   "name": "python",
   "nbconvert_exporter": "python",
   "pygments_lexer": "ipython2",
   "version": "2.7.2"
  }
 },
 "nbformat": 4,
 "nbformat_minor": 1
}
