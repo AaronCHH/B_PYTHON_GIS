{
 "cells": [
  {
   "cell_type": "markdown",
   "metadata": {},
   "source": [
    "# 20 Working with HTML and KML"
   ]
  },
  {
   "cell_type": "markdown",
   "metadata": {},
   "source": [
    "## 20.1 Working with HTML"
   ]
  },
  {
   "cell_type": "markdown",
   "metadata": {},
   "source": [
    "### Example 20.1: HTML code from the file elephant1.html"
   ]
  },
  {
   "cell_type": "code",
   "execution_count": null,
   "metadata": {
    "collapsed": true
   },
   "outputs": [],
   "source": [
    "# %load ch20/data/htmlExamplePages/elephant1.html\n",
    "<!DOCTYPE html>\n",
    "<html>\n",
    "<body bgcolor=\"Aquamarine\"> \n",
    "<!-- blablabla -->\n",
    "<h1>Elephants Say</h1>\n",
    "<p> We <b>like</b> HTML.</p>\n",
    "We <i>love</i> Python <br /> and GIS.\n",
    "</body>\n",
    "</html> "
   ]
  },
  {
   "cell_type": "markdown",
   "metadata": {},
   "source": [
    "### 20.1.1 Specifying Links"
   ]
  },
  {
   "cell_type": "markdown",
   "metadata": {},
   "source": [
    "```html\n",
    "<a href=\"elephant1.html\">A link</a>\n",
    "```"
   ]
  },
  {
   "cell_type": "markdown",
   "metadata": {},
   "source": [
    "### 20.1.2 Embedding Images"
   ]
  },
  {
   "cell_type": "markdown",
   "metadata": {},
   "source": [
    "```html\n",
    "<img src=\"../pics/lakshmi.jpg\" width=\"32\" height=\"32\">\n",
    "```"
   ]
  },
  {
   "cell_type": "markdown",
   "metadata": {},
   "source": [
    "### 20.1.3 HTML Lists"
   ]
  },
  {
   "cell_type": "markdown",
   "metadata": {},
   "source": [
    "```html\n",
    "<ol>\n",
    "    <li>Savannah</li>\n",
    "    <li>Bush</li>\n",
    "    <li>African</li>\n",
    "</ol>\n",
    "```"
   ]
  },
  {
   "cell_type": "markdown",
   "metadata": {},
   "source": [
    "### 20.1.4 HTML Tables"
   ]
  },
  {
   "cell_type": "markdown",
   "metadata": {},
   "source": [
    "```html\n",
    "<table border=\"3\">\n",
    "    <tr>\n",
    "        <th>Species</th>\n",
    "        <th>2011 Population</th>\n",
    "    </tr>\n",
    "    <tr>\n",
    "        <td>African</td>\n",
    "        <td>Less than 690000</td>\n",
    "    </tr>\n",
    "    <tr>\n",
    "        <td>Asian</td>\n",
    "        <td>Less than 32700</td>\n",
    "    </tr>\n",
    "</table>\n",
    "```"
   ]
  },
  {
   "cell_type": "markdown",
   "metadata": {},
   "source": [
    "### 20.1.5 Writing HTML with Python"
   ]
  },
  {
   "cell_type": "markdown",
   "metadata": {},
   "source": [
    "### Example 20.2 writeSimpleHTML.py"
   ]
  },
  {
   "cell_type": "code",
   "execution_count": null,
   "metadata": {
    "collapsed": true
   },
   "outputs": [],
   "source": [
    "# %load ch20/script2/writeSimpleHTML.py\n",
    "# writeSimpleHTML.py\n",
    "# Purpose: Write HTML page from hard-coded string.\n",
    "# Usage: No arguments needed.\n",
    "\n",
    "mystr = '''<!DOCTYPE html>\n",
    "<html>\n",
    "    <body>\n",
    "        <h1>Asian Elephant</h1>\n",
    "        <img src=\"../data/ch20/pics/lakshmi.jpg\" alt=\"elephant\">\n",
    "    </body>\n",
    "</html>\n",
    "'''\n",
    "htmlFile = 'scratch/output.html'\n",
    "outf = open(htmlFile, 'w')\n",
    "outf.write(mystr)\n",
    "outf.close()\n",
    "print '{0} created.'.format(htmlFile)\n"
   ]
  },
  {
   "cell_type": "markdown",
   "metadata": {},
   "source": [
    "### Example 20.3 writeSimpleHTML2.py"
   ]
  },
  {
   "cell_type": "code",
   "execution_count": null,
   "metadata": {
    "collapsed": true
   },
   "outputs": [],
   "source": [
    "# %load ch20/script2/writeSimpleHTML2.py\n",
    "# writeSimpleHTML2.py\n",
    "# Purpose: Write HTML page in 3 parts.\n",
    "# Usage: workspace title image_path\n",
    "# Example input: C:/gispy/scratch \"Asian Elephant\" ../data/ch20/pics/lakshmi.jpg\n",
    "import sys\n",
    "workspace = sys.argv[1]\n",
    "title = sys.argv[2]\n",
    "image = sys.argv[3]\n",
    "\n",
    "beginning = '''<!DOCTYPE html>\n",
    "<html>\n",
    "    <body>'''\n",
    "\n",
    "middle = '''\n",
    "        <h1>{0}</h1>\n",
    "        <img src='{1}' >\\n'''.format(title, image)\n",
    "\n",
    "end = '''   </body>\n",
    "</html>\n",
    "'''\n",
    "\n",
    "htmlfile = workspace + '/output2.html'\n",
    "with open(htmlfile, 'w') as outf:\n",
    "    outf.write(beginning)\n",
    "    outf.write(middle)\n",
    "    outf.write(end)\n",
    "\n",
    "print '{0} created.'.format(htmlfile)\n"
   ]
  },
  {
   "cell_type": "markdown",
   "metadata": {},
   "source": [
    "### Example 20.4 excerpt from printHTMLList.py"
   ]
  },
  {
   "cell_type": "code",
   "execution_count": null,
   "metadata": {
    "collapsed": true
   },
   "outputs": [],
   "source": [
    "# %load ch20/script2/printHTMLList.py\n",
    "# printHTMLList.py\n",
    "# Purpose: Call a function that converts\n",
    "#           a Python list to an HTML list.\n",
    "\n",
    "\n",
    "def python2htmlList(myList, listType, attrs=''):\n",
    "    '''Convert a Python list to HTML list.\n",
    "    For example, convert [rast1,rast2] to:\n",
    "    <ul>\n",
    "       <li>rast1</li>\n",
    "       <li>rast2</li>\n",
    "    </ul>\n",
    "    '''\n",
    "    # Wrap items in item tags.\n",
    "    htmlItems = ['<li>' + str(item) + '</li>' for item in myList]\n",
    "\n",
    "    # Join the item list into a string with a line break after each item.\n",
    "    itemsString = '''\\n        '''.join(htmlItems)\n",
    "\n",
    "    # Wrap the string of items in the list tag.\n",
    "    htmlList = '''\n",
    "    <{0} {1}>\n",
    "        {2}\n",
    "    </{0}>\n",
    "    '''.format(listType, attrs, itemsString)\n",
    "    return htmlList\n",
    "\n",
    "rasts = [u'elev', u'landcov', u'soilsid', u'getty_cover']\n",
    "htmlList = python2htmlList(rasts, 'ul')\n",
    "print htmlList\n",
    "\n",
    "htmlList2 = python2htmlList(rasts, 'ol')\n",
    "print htmlList2\n",
    "\n",
    "htmlList3 = python2htmlList(rasts, 'ol', 'type=\"a\"')\n",
    "print htmlList3\n"
   ]
  },
  {
   "cell_type": "code",
   "execution_count": null,
   "metadata": {
    "collapsed": true
   },
   "outputs": [],
   "source": []
  },
  {
   "cell_type": "markdown",
   "metadata": {},
   "source": [
    "### 20.1.6 Parsing HTML with BeautifulSoup"
   ]
  },
  {
   "cell_type": "markdown",
   "metadata": {},
   "source": [
    "```python\n",
    "import sys\n",
    "sys.path.append('ch20/sample_scripts')\n",
    "import BeautifulSoup\n",
    "```"
   ]
  },
  {
   "cell_type": "code",
   "execution_count": 12,
   "metadata": {
    "collapsed": false
   },
   "outputs": [],
   "source": [
    "import BeautifulSoup\n",
    "mystr = '<!DOCTYPE html><html><body><h1>Asian Elephant</h1><img src=\"lakshmi.jpg\" alt=\"elephant\"></body></html>'"
   ]
  },
  {
   "cell_type": "code",
   "execution_count": 13,
   "metadata": {
    "collapsed": false
   },
   "outputs": [],
   "source": [
    "soup = BeautifulSoup.BeautifulSoup(mystr)"
   ]
  },
  {
   "cell_type": "code",
   "execution_count": 14,
   "metadata": {
    "collapsed": false
   },
   "outputs": [
    {
     "name": "stdout",
     "output_type": "stream",
     "text": [
      "<!DOCTYPE html>\n",
      "<html>\n",
      " <body>\n",
      "  <h1>\n",
      "   Asian Elephant\n",
      "  </h1>\n",
      "  <img src=\"lakshmi.jpg\" alt=\"elephant\" />\n",
      " </body>\n",
      "</html>\n"
     ]
    }
   ],
   "source": [
    "h = soup.prettify()\n",
    "print h"
   ]
  },
  {
   "cell_type": "code",
   "execution_count": 15,
   "metadata": {
    "collapsed": false
   },
   "outputs": [
    {
     "data": {
      "text/plain": [
       "<h1>Asian Elephant</h1>"
      ]
     },
     "execution_count": 15,
     "metadata": {},
     "output_type": "execute_result"
    }
   ],
   "source": [
    "t = soup. find('h1')\n",
    "t"
   ]
  },
  {
   "cell_type": "code",
   "execution_count": null,
   "metadata": {
    "collapsed": true
   },
   "outputs": [],
   "source": [
    "t = soup.find('h1')\n",
    "t"
   ]
  },
  {
   "cell_type": "code",
   "execution_count": null,
   "metadata": {
    "collapsed": true
   },
   "outputs": [],
   "source": [
    "type(t)"
   ]
  },
  {
   "cell_type": "code",
   "execution_count": null,
   "metadata": {
    "collapsed": true
   },
   "outputs": [],
   "source": [
    "t.name"
   ]
  },
  {
   "cell_type": "code",
   "execution_count": null,
   "metadata": {
    "collapsed": true
   },
   "outputs": [],
   "source": [
    "t.attrs"
   ]
  },
  {
   "cell_type": "code",
   "execution_count": null,
   "metadata": {
    "collapsed": true
   },
   "outputs": [],
   "source": [
    "t.contents"
   ]
  },
  {
   "cell_type": "code",
   "execution_count": null,
   "metadata": {
    "collapsed": true
   },
   "outputs": [],
   "source": [
    "t.contents[0]"
   ]
  },
  {
   "cell_type": "code",
   "execution_count": null,
   "metadata": {
    "collapsed": true
   },
   "outputs": [],
   "source": [
    "t2 = soup.find('img')\n",
    "t2"
   ]
  },
  {
   "cell_type": "code",
   "execution_count": null,
   "metadata": {
    "collapsed": true
   },
   "outputs": [],
   "source": [
    "t2.attrs"
   ]
  },
  {
   "cell_type": "code",
   "execution_count": null,
   "metadata": {
    "collapsed": true
   },
   "outputs": [],
   "source": [
    "t2['src']"
   ]
  },
  {
   "cell_type": "code",
   "execution_count": null,
   "metadata": {
    "collapsed": true
   },
   "outputs": [],
   "source": [
    "t2['alt']"
   ]
  },
  {
   "cell_type": "code",
   "execution_count": null,
   "metadata": {
    "collapsed": true
   },
   "outputs": [],
   "source": [
    "for name, value in t2.attrs:\n",
    "    print 'Name: ' + name + ' Value: ' + value"
   ]
  },
  {
   "cell_type": "code",
   "execution_count": 20,
   "metadata": {
    "collapsed": false
   },
   "outputs": [
    {
     "data": {
      "text/plain": [
       "[<li>elev</li>, <li>landcov</li>, <li>soilsid</li>, <li>getty_cover</li>]"
      ]
     },
     "execution_count": 20,
     "metadata": {},
     "output_type": "execute_result"
    }
   ],
   "source": [
    "htmlList = '\\n <ul>\\n <li>elev</li>\\n <li>landcov</li>\\n<li>soilsid</li>\\n <li>getty_cover</li>\\n </ul>\\n'\n",
    "soup2 = BeautifulSoup.BeautifulSoup(htmlList)\n",
    "tags = soup2.findAll('li')\n",
    "tags"
   ]
  },
  {
   "cell_type": "code",
   "execution_count": 21,
   "metadata": {
    "collapsed": false,
    "scrolled": true
   },
   "outputs": [
    {
     "name": "stdout",
     "output_type": "stream",
     "text": [
      "elev\n",
      "landcov\n",
      "soilsid\n",
      "getty_cover\n"
     ]
    }
   ],
   "source": [
    "for t in tags:\n",
    "    print t.contents[0]"
   ]
  },
  {
   "cell_type": "markdown",
   "metadata": {},
   "source": [
    "### Example 20.5 getLinks.py"
   ]
  },
  {
   "cell_type": "code",
   "execution_count": null,
   "metadata": {
    "collapsed": true
   },
   "outputs": [],
   "source": [
    "# %load ch20/script2/getLinks.py\n",
    "# getLinks.py\n",
    "# Purpose: Read and print the links in an html file.\n",
    "\n",
    "import sys\n",
    "basedir = ''\n",
    "sys.path.append(basedir + 'data/script')\n",
    "import BeautifulSoup\n",
    "\n",
    "# Read the HTML file contents.\n",
    "with open(basedir + 'data/htmlExamplePages/elephant2.html', 'r') as infile:\n",
    "\n",
    "    # Create a soup object and find all the hyperlinks.\n",
    "    soup = BeautifulSoup.BeautifulSoup(infile)\n",
    "    linkTags = soup.findAll('a')\n",
    "\n",
    "    # Print each hyperlink reference.\n",
    "    for linkTag in linkTags:\n",
    "        print 'Link: {0}'.format(linkTag['href'])\n"
   ]
  },
  {
   "cell_type": "markdown",
   "metadata": {},
   "source": [
    "## 20.2 Fetching and Uncompressing Data"
   ]
  },
  {
   "cell_type": "code",
   "execution_count": null,
   "metadata": {
    "collapsed": true
   },
   "outputs": [],
   "source": []
  },
  {
   "cell_type": "markdown",
   "metadata": {},
   "source": [
    "### 20.2.1 Fetching HTML"
   ]
  },
  {
   "cell_type": "markdown",
   "metadata": {},
   "source": [
    "### fetchHTML.py import urllib2"
   ]
  },
  {
   "cell_type": "code",
   "execution_count": null,
   "metadata": {
    "collapsed": false
   },
   "outputs": [],
   "source": [
    "# %load ch20/script2/fetchHTML.py\n",
    "# fetchHTML.py\n",
    "# Fetch HTML from a site and print the number of lines in the HTML\n",
    "import urllib2\n",
    "\n",
    "url = 'http://www.google.com'\n",
    "response = urllib2.urlopen(url)\n",
    "contents = response.read()\n",
    "response.close()\n",
    "print 'This page has {0} characters.'.format(len(contents))\n"
   ]
  },
  {
   "cell_type": "code",
   "execution_count": 26,
   "metadata": {
    "collapsed": false
   },
   "outputs": [
    {
     "name": "stdout",
     "output_type": "stream",
     "text": [
      "This page has 10410 characters.\n"
     ]
    }
   ],
   "source": [
    "%run ch20/script2/fetchHTML.py"
   ]
  },
  {
   "cell_type": "code",
   "execution_count": 27,
   "metadata": {
    "collapsed": true
   },
   "outputs": [],
   "source": [
    "pics = soup.findAll('img')"
   ]
  },
  {
   "cell_type": "code",
   "execution_count": 28,
   "metadata": {
    "collapsed": false
   },
   "outputs": [
    {
     "data": {
      "text/plain": [
       "[<img src=\"lakshmi.jpg\" alt=\"elephant\" />]"
      ]
     },
     "execution_count": 28,
     "metadata": {},
     "output_type": "execute_result"
    }
   ],
   "source": [
    "pics"
   ]
  },
  {
   "cell_type": "markdown",
   "metadata": {},
   "source": [
    "### 20.2.2 Fetching Compressed Data"
   ]
  },
  {
   "cell_type": "markdown",
   "metadata": {},
   "source": [
    "### Example 20.6 fetchZip.py"
   ]
  },
  {
   "cell_type": "code",
   "execution_count": null,
   "metadata": {
    "collapsed": true
   },
   "outputs": [],
   "source": [
    "# %load ch20/script2/fetchZip.py\n",
    "# fetchZip.py\n",
    "# Purpose: Fetch a zip file and place it in an output directory.\n",
    "import os, urllib2\n",
    "\n",
    "\n",
    "def fetchZip(url, outputDir):\n",
    "    '''Fetch binary web content located at 'url'\n",
    "    and write it in the output directory'''\n",
    "    response = urllib2.urlopen(url)\n",
    "    binContents = response.read()\n",
    "    response.close()\n",
    "\n",
    "    # Save zip file to output dir (write it in 'wb' mode).\n",
    "    outFileName = outputDir + os.path.basename(url)\n",
    "    with open(outFileName, 'wb') as outf:\n",
    "        outf.write(binContents)\n",
    "\n",
    "outputDir = 'scratch/'\n",
    "theURL = 'file:///D:/BOOKS/GISen/_PYTHON/PythonForArcGIS/SF_PFA/ch20/data/getty.zip'\n",
    "fetchZip(theURL, outputDir)\n",
    "print '{0}{1} created.'.format(outputDir, os.path.basename(theURL))\n"
   ]
  },
  {
   "cell_type": "markdown",
   "metadata": {},
   "source": [
    "### 20.2.3 Expanding Compressed Data"
   ]
  },
  {
   "cell_type": "markdown",
   "metadata": {},
   "source": [
    "### Example 20.7 extractFiles.py"
   ]
  },
  {
   "cell_type": "code",
   "execution_count": null,
   "metadata": {
    "collapsed": true
   },
   "outputs": [],
   "source": [
    "# %load ch20/script2/extractFiles.py\n",
    "# extractFiles.py\n",
    "# Purpose: Extract files from an archive;\n",
    "#     Place the files into an output directory.\n",
    "# Usage: No script arguments\n",
    "\n",
    "import os, zipfile\n",
    "\n",
    "\n",
    "def unzipArchive(archiveName, dest):\n",
    "    '''Extract files from an archive\n",
    "    and save them in the destination directory'''\n",
    "    print 'Unzip {0} to {1}'.format(archiveName, dest)\n",
    "    # Get a Zipfile object.\n",
    "    with zipfile.ZipFile(archiveName, 'r') as zipObj:\n",
    "        zipObj.extractall(dest)\n",
    "        # Report the list of files extracted from the archive.\n",
    "        archiveList = zipObj.namelist()\n",
    "        for fileName in archiveList:\n",
    "            print ' Extract file: {0} ...'.format(fileName)\n",
    "    print 'Extraction complete.'\n",
    "\n",
    "archive = 'park.zip'\n",
    "baseDir = ''\n",
    "archiveFullName = baseDir + 'data/' + archive\n",
    "destination = baseDir + 'scratch/' + os.path.splitext(archive)[0] + '/'\n",
    "if not os.path.exists(destination):\n",
    "    os.makedirs(destination)\n",
    "unzipArchive(archiveFullName, destination)\n"
   ]
  },
  {
   "cell_type": "markdown",
   "metadata": {},
   "source": [
    "```\n",
    "FETCH the data download page.\n",
    "CREATE a soup object.\n",
    "GET a list of the links in the data download page.\n",
    "FOR each link\n",
    "    IF the link references a Zip file THEN\n",
    "        CALL fetchZip to fetch the Zip file, saving it locally.\n",
    "        CALL unzipArchive to extract the compressed files.\n",
    "    ENDIF\n",
    "ENDFOR\n",
    "```"
   ]
  },
  {
   "cell_type": "markdown",
   "metadata": {},
   "source": [
    "## 20.3 Working with KML"
   ]
  },
  {
   "cell_type": "code",
   "execution_count": null,
   "metadata": {
    "collapsed": true
   },
   "outputs": [],
   "source": []
  },
  {
   "cell_type": "markdown",
   "metadata": {},
   "source": [
    "### 20.3.1 The Structure of KML"
   ]
  },
  {
   "cell_type": "markdown",
   "metadata": {},
   "source": [
    "### Example 20.8: KML code from the restaurants.kml file"
   ]
  },
  {
   "cell_type": "markdown",
   "metadata": {},
   "source": [
    "```html\n",
    "<?xml version=\"1.0\" encoding=\"UTF-8\"?>\n",
    "\n",
    "<kml xmlns=\"http://www.opengis.net/kml/2.2\">\n",
    "    <Document>\n",
    "    <Placemark>\n",
    "       <name>Bubba's Tofu Gumbo</name>\n",
    "       <description>Tofu Gumbo and Zydeco!<br />Score: 97</description>\n",
    "       <Point>\n",
    "          <coordinates>-90,30,0</coordinates>\n",
    "       </Point>\n",
    "    </Placemark>\n",
    "\n",
    "    <Placemark>\n",
    "       <name>Joe Bob's Good Cookin'</name>\n",
    "       <description>The best tree top grits n' greens restaurant south of the Mason-Dixon line.<br />Score: 94</description>\n",
    "       <Point>\n",
    "          <coordinates>-78,35,0</coordinates>\n",
    "       </Point>\n",
    "    </Placemark>\n",
    "    </Document>\n",
    "</kml>  \n",
    "```"
   ]
  },
  {
   "cell_type": "markdown",
   "metadata": {},
   "source": [
    "### 20.3.2 Parsing KML"
   ]
  },
  {
   "cell_type": "markdown",
   "metadata": {},
   "source": [
    "### Example 20.9 parseKMLrestaurants.py"
   ]
  },
  {
   "cell_type": "code",
   "execution_count": null,
   "metadata": {
    "collapsed": true
   },
   "outputs": [],
   "source": [
    "# %load ch20/script2/parseKMLrestaurants.py\n",
    "# parseKMLrestaurants.py\n",
    "# Purpose: Print kml placemark names and descriptions.\n",
    "import sys\n",
    "\n",
    "baseDir = ''\n",
    "sys.path.append(baseDir + 'script')\n",
    "import BeautifulSoup\n",
    "\n",
    "fileName = baseDir + 'data/restaurants.kml'\n",
    "\n",
    "# Get the KML soup.\n",
    "with open(fileName, 'r') as kmlCode:\n",
    "    soup = BeautifulSoup.BeautifulSoup(kmlCode)\n",
    "\n",
    "# Print the names and descriptions.\n",
    "names = soup.findAll('name')\n",
    "descriptions = soup.findAll('description')\n",
    "for name, description in zip(names, descriptions):\n",
    "    print name.contents[0]\n",
    "    print '\\t{0}'.format(description.contents)\n"
   ]
  },
  {
   "cell_type": "markdown",
   "metadata": {},
   "source": [
    "### 20.3.3 Converting KML to Shapefile"
   ]
  },
  {
   "cell_type": "markdown",
   "metadata": {},
   "source": [
    "```\n",
    "CALL the Create Feature Class (Data Management) tool\n",
    "SET the field names and types\n",
    "FOR each field name\n",
    "    CALL the Add Field (Data Management) tool\n",
    "ENDFOR\n",
    "CREATE a soup object from the KML file contents\n",
    "GET tag lists from the soup ( findAll)\n",
    "CREATE an insert cursor\n",
    "FOR each item in the tag lists\n",
    "    GET the value for each field\n",
    "    PUT field values in a list\n",
    "    INSERT the new row into the shape file\n",
    "ENDFOR\n",
    "```"
   ]
  },
  {
   "cell_type": "markdown",
   "metadata": {},
   "source": [
    "### Example 20.10 Excerpt from restaurantKML2shp.py"
   ]
  },
  {
   "cell_type": "code",
   "execution_count": null,
   "metadata": {
    "collapsed": true
   },
   "outputs": [],
   "source": [
    "# %load ch20/script2/restaurantKML2shp.py\n",
    "# restaurantKML2shp.py\n",
    "# Purpose: Create a shapefile from a kml file using an insert cursor.\n",
    "# Usage: kml_directory output_directory\n",
    "# Example input: C:/gispy/data/ch20 C:/gispy/scratch/\n",
    "\n",
    "import arcpy, os, sys, BeautifulSoup\n",
    "\n",
    "dataDir = sys.argv[1]\n",
    "outDir = sys.argv[2]\n",
    "arcpy.env.workspace = outDir\n",
    "kmlFile = 'restaurants.kml'\n",
    "kmlPath = os.path.join(dataDir, kmlFile)\n",
    "baseName = os.path.splitext(kmlFile)[0]\n",
    "fc = baseName + '.shp'\n",
    "\n",
    "fieldNames = ['name', 'blurb', 'score']\n",
    "fieldTypes = ['TEXT', 'TEXT', 'FLOAT']\n",
    "\n",
    "# If the shapefile already been created, delete it.\n",
    "if arcpy.Exists(fc):\n",
    "    arcpy.Delete_management(fc)\n",
    "\n",
    "sr = arcpy.SpatialReference('NAD 1983 UTM Zone 17N')\n",
    "arcpy.CreateFeatureclass_management(outDir, fc, 'POINT', '#', '#', '#', sr)\n",
    "for field, type in zip(fieldNames, fieldTypes):\n",
    "    arcpy.AddField_management(fc, field, type)\n",
    "\n",
    "# Get the tag soup.\n",
    "with open(kmlPath, 'r') as kmlCode:\n",
    "    soup = BeautifulSoup.BeautifulSoup(kmlCode)\n",
    "coordinates = soup.findAll('coordinates')\n",
    "names = soup.findAll('name')\n",
    "descriptions = soup.findAll('description')\n",
    "\n",
    "# Populate the shapefile.\n",
    "with arcpy.da.InsertCursor(fc, ['SHAPE@XY'] + fieldNames) as ic:\n",
    "    for c, n, d in zip(coordinates, names, descriptions):\n",
    "        # Get field values.\n",
    "        [x, y, z] = c.contents[0].split(',')\n",
    "        myPoint = arcpy.Point(x, y)\n",
    "        name = n.contents[0]\n",
    "        blurb = d.contents[0]\n",
    "        scoreString = d.contents[2]\n",
    "        scoreList = scoreString.split(':')\n",
    "        score = float(scoreList[1])\n",
    "        # Put row values in a list & insert the new row.\n",
    "        newRow = [myPoint, name, blurb, score]\n",
    "        ic.insertRow(newRow)\n",
    "print '{0}{1} created.'.format(outDir, fc)\n",
    "if ic:\n",
    "    del ic"
   ]
  },
  {
   "cell_type": "markdown",
   "metadata": {},
   "source": [
    "## 20.4 Discussion "
   ]
  },
  {
   "cell_type": "markdown",
   "metadata": {},
   "source": [
    "## 20.5 Key Terms"
   ]
  },
  {
   "cell_type": "markdown",
   "metadata": {},
   "source": [
    "## 20.6 Exercises"
   ]
  },
  {
   "cell_type": "code",
   "execution_count": null,
   "metadata": {
    "collapsed": true
   },
   "outputs": [],
   "source": []
  }
 ],
 "metadata": {
  "kernelspec": {
   "display_name": "Python 2",
   "language": "python",
   "name": "python2"
  },
  "language_info": {
   "codemirror_mode": {
    "name": "ipython",
    "version": 2
   },
   "file_extension": ".py",
   "mimetype": "text/x-python",
   "name": "python",
   "nbconvert_exporter": "python",
   "pygments_lexer": "ipython2",
   "version": "2.7.2"
  }
 },
 "nbformat": 4,
 "nbformat_minor": 1
}
