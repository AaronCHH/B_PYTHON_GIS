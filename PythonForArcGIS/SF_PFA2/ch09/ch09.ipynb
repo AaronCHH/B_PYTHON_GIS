{
 "cells": [
  {
   "cell_type": "markdown",
   "metadata": {},
   "source": [
    "## 9.1 Conditional Expressions  "
   ]
  },
  {
   "cell_type": "markdown",
   "metadata": {},
   "source": [
    "### 9.1.1 Comparison Operators  "
   ]
  },
  {
   "cell_type": "markdown",
   "metadata": {},
   "source": [
    "### 9.1.2 Equality vs. Assignment  "
   ]
  },
  {
   "cell_type": "markdown",
   "metadata": {},
   "source": [
    "### 9.1.3 Logical Operators  "
   ]
  },
  {
   "cell_type": "code",
   "execution_count": 5,
   "metadata": {
    "collapsed": false
   },
   "outputs": [
    {
     "name": "stdout",
     "output_type": "stream",
     "text": [
      "park.shp\n"
     ]
    }
   ],
   "source": [
    "import arcpy, os\n",
    "fileName = 'park.shp'\n",
    "if fileName.endswith('.shp') or fileName.endswith('.txt'):  \n",
    "  print fileName"
   ]
  },
  {
   "cell_type": "code",
   "execution_count": 7,
   "metadata": {
    "collapsed": false
   },
   "outputs": [
    {
     "name": "stdout",
     "output_type": "stream",
     "text": [
      "park.shp\n"
     ]
    }
   ],
   "source": [
    "import arcpy, os\n",
    "fileName = 'park.shp'\n",
    "if not fileName.endswith('csv'):\n",
    "  print fileName"
   ]
  },
  {
   "cell_type": "markdown",
   "metadata": {},
   "source": [
    "### 9.1.4 Membership Operators  "
   ]
  },
  {
   "cell_type": "markdown",
   "metadata": {},
   "source": [
    "## 9.2 ArcGIS Tools That Make Selections  "
   ]
  },
  {
   "cell_type": "code",
   "execution_count": 9,
   "metadata": {
    "collapsed": false
   },
   "outputs": [
    {
     "data": {
      "text/plain": [
       "str"
      ]
     },
     "execution_count": 9,
     "metadata": {},
     "output_type": "execute_result"
    }
   ],
   "source": [
    "whereClause1 = 'RECNO >= 400'\n",
    "type(whereClause1)"
   ]
  },
  {
   "cell_type": "code",
   "execution_count": 12,
   "metadata": {
    "collapsed": false
   },
   "outputs": [
    {
     "data": {
      "text/plain": [
       "<Result 'scratch\\\\out.shp'>"
      ]
     },
     "execution_count": 12,
     "metadata": {},
     "output_type": "execute_result"
    }
   ],
   "source": [
    "# %load script/where_clause1.py\n",
    "# where_clause1.py\n",
    "# Purpose: Select features with high reclassification numbers.\n",
    "# Usage: No arguments needed.\n",
    "\n",
    "import arcpy\n",
    "arcpy.env.workspace = 'data'\n",
    "inputFile = 'park.shp'\n",
    "whereClause = 'RECNO >= 400'\n",
    "arcpy.Select_analysis(inputFile, 'scratch/out.shp', whereClause)\n"
   ]
  },
  {
   "cell_type": "code",
   "execution_count": null,
   "metadata": {
    "collapsed": true
   },
   "outputs": [],
   "source": [
    "# %load script/where_clause2.py\n",
    "# where_clause2.py\n",
    "# Purpose: Extract raster features by attributes based on user input.\n",
    "# Usage: fieldName fieldValue\n",
    "# Example: COUNT 6000\n",
    "\n",
    "import arcpy, sys\n",
    "\n",
    "arcpy.env.workspace = './data'\n",
    "arcpy.CheckOutExtension('Spatial')\n",
    "\n",
    "inputRast = 'getty_rast'\n",
    "\n",
    "fieldName = sys.argv[1]\n",
    "fieldValue = sys.argv[2]\n",
    "\n",
    "whereClause = '{0} > {1}'.format(fieldName, fieldValue)\n",
    "\n",
    "outputRast = arcpy.sa.ExtractByAttributes(inputRast, whereClause)\n",
    "outputRast.save('./scratch')\n",
    "del outputRast\n"
   ]
  },
  {
   "cell_type": "code",
   "execution_count": 15,
   "metadata": {
    "collapsed": true
   },
   "outputs": [
    {
     "ename": "ExecuteError",
     "evalue": "ERROR 010416: Error in setting raster table filter for D:\\BOOKS\\GISen\\_PYTHON\\PythonForArcGIS\\SF_PFA\\ch09\\data\\getty_rast.\nERROR 010213: Error in reading raster getty_rast\\getty_rast.\nERROR 010325: Run-time error - ***.\nERROR 010067: Error in executing grid expression.\nFailed to execute (ExtractByAttributes).\n",
     "output_type": "error",
     "traceback": [
      "\u001b[1;31m---------------------------------------------------------------------------\u001b[0m",
      "\u001b[1;31mExecuteError\u001b[0m                              Traceback (most recent call last)",
      "\u001b[1;32md:\\books\\gisen\\_python\\pythonforarcgis\\sf_pfa\\ch09\\scriptPt\\where_clause2.py\u001b[0m in \u001b[0;36m<module>\u001b[1;34m()\u001b[0m\n\u001b[0;32m     16\u001b[0m \u001b[0mwhereClause\u001b[0m \u001b[1;33m=\u001b[0m \u001b[1;34m'{0} > {1}'\u001b[0m\u001b[1;33m.\u001b[0m\u001b[0mformat\u001b[0m\u001b[1;33m(\u001b[0m\u001b[0mfieldName\u001b[0m\u001b[1;33m,\u001b[0m \u001b[0mfieldValue\u001b[0m\u001b[1;33m)\u001b[0m\u001b[1;33m\u001b[0m\u001b[0m\n\u001b[0;32m     17\u001b[0m \u001b[1;33m\u001b[0m\u001b[0m\n\u001b[1;32m---> 18\u001b[1;33m \u001b[0moutputRast\u001b[0m \u001b[1;33m=\u001b[0m \u001b[0marcpy\u001b[0m\u001b[1;33m.\u001b[0m\u001b[0msa\u001b[0m\u001b[1;33m.\u001b[0m\u001b[0mExtractByAttributes\u001b[0m\u001b[1;33m(\u001b[0m\u001b[0minputRast\u001b[0m\u001b[1;33m,\u001b[0m \u001b[0mwhereClause\u001b[0m\u001b[1;33m)\u001b[0m\u001b[1;33m\u001b[0m\u001b[0m\n\u001b[0m\u001b[0;32m     19\u001b[0m \u001b[0moutputRast\u001b[0m\u001b[1;33m.\u001b[0m\u001b[0msave\u001b[0m\u001b[1;33m(\u001b[0m\u001b[1;34m'./scratch'\u001b[0m\u001b[1;33m)\u001b[0m\u001b[1;33m\u001b[0m\u001b[0m\n\u001b[0;32m     20\u001b[0m \u001b[1;32mdel\u001b[0m \u001b[0moutputRast\u001b[0m\u001b[1;33m\u001b[0m\u001b[0m\n",
      "\u001b[1;32mC:\\Program Files (x86)\\ArcGIS\\Desktop10.1\\arcpy\\arcpy\\sa\\Functions.py\u001b[0m in \u001b[0;36mExtractByAttributes\u001b[1;34m(in_raster, where_clause)\u001b[0m\n\u001b[0;32m   1110\u001b[0m   return wrapper(\n\u001b[0;32m   1111\u001b[0m          \u001b[0min_raster\u001b[0m\u001b[1;33m,\u001b[0m\u001b[1;33m\u001b[0m\u001b[0m\n\u001b[1;32m-> 1112\u001b[1;33m          where_clause)\n\u001b[0m\u001b[0;32m   1113\u001b[0m \u001b[0mExtractByAttributes\u001b[0m\u001b[1;33m.\u001b[0m\u001b[0m__esri_toolname__\u001b[0m \u001b[1;33m=\u001b[0m \u001b[1;34m\"ExtractByAttributes_sa\"\u001b[0m\u001b[1;33m\u001b[0m\u001b[0m\n\u001b[0;32m   1114\u001b[0m ExtractByAttributes.__esri_toolinfo__ = [\n",
      "\u001b[1;32mC:\\Program Files (x86)\\ArcGIS\\Desktop10.1\\arcpy\\arcpy\\sa\\Utils.py\u001b[0m in \u001b[0;36mswapper\u001b[1;34m(*args, **kwargs)\u001b[0m\n\u001b[0;32m     45\u001b[0m \u001b[1;33m\u001b[0m\u001b[0m\n\u001b[0;32m     46\u001b[0m       \u001b[1;32mtry\u001b[0m\u001b[1;33m:\u001b[0m\u001b[1;33m\u001b[0m\u001b[0m\n\u001b[1;32m---> 47\u001b[1;33m         \u001b[0mresult\u001b[0m \u001b[1;33m=\u001b[0m \u001b[0mwrapper\u001b[0m\u001b[1;33m(\u001b[0m\u001b[1;33m*\u001b[0m\u001b[0margs\u001b[0m\u001b[1;33m,\u001b[0m \u001b[1;33m**\u001b[0m\u001b[0mkwargs\u001b[0m\u001b[1;33m)\u001b[0m\u001b[1;33m\u001b[0m\u001b[0m\n\u001b[0m\u001b[0;32m     48\u001b[0m       \u001b[1;32mfinally\u001b[0m\u001b[1;33m:\u001b[0m\u001b[1;33m\u001b[0m\u001b[0m\n\u001b[0;32m     49\u001b[0m         \u001b[1;31m# Reset the geoprocessor state to the original setting.\u001b[0m\u001b[1;33m\u001b[0m\u001b[1;33m\u001b[0m\u001b[0m\n",
      "\u001b[1;32mC:\\Program Files (x86)\\ArcGIS\\Desktop10.1\\arcpy\\arcpy\\sa\\Functions.py\u001b[0m in \u001b[0;36mwrapper\u001b[1;34m(in_raster, where_clause)\u001b[0m\n\u001b[0;32m   1106\u001b[0m          \u001b[0min_raster\u001b[0m\u001b[1;33m,\u001b[0m\u001b[1;33m\u001b[0m\u001b[0m\n\u001b[0;32m   1107\u001b[0m          \u001b[0mwhere_clause\u001b[0m\u001b[1;33m,\u001b[0m\u001b[1;33m\u001b[0m\u001b[0m\n\u001b[1;32m-> 1108\u001b[1;33m          out_raster)\n\u001b[0m\u001b[0;32m   1109\u001b[0m     \u001b[1;32mreturn\u001b[0m \u001b[0m_wrapToolRaster\u001b[0m\u001b[1;33m(\u001b[0m\u001b[1;34mu\"ExtractByAttributes_sa\"\u001b[0m\u001b[1;33m,\u001b[0m \u001b[0municode\u001b[0m\u001b[1;33m(\u001b[0m\u001b[0mresult\u001b[0m\u001b[1;33m.\u001b[0m\u001b[0mgetOutput\u001b[0m\u001b[1;33m(\u001b[0m\u001b[1;36m0\u001b[0m\u001b[1;33m)\u001b[0m\u001b[1;33m)\u001b[0m\u001b[1;33m)\u001b[0m\u001b[1;33m\u001b[0m\u001b[0m\n\u001b[0;32m   1110\u001b[0m   return wrapper(\n",
      "\u001b[1;32mC:\\Program Files (x86)\\ArcGIS\\Desktop10.1\\arcpy\\arcpy\\geoprocessing\\_base.py\u001b[0m in \u001b[0;36m<lambda>\u001b[1;34m(*args)\u001b[0m\n\u001b[0;32m    496\u001b[0m         \u001b[0mval\u001b[0m \u001b[1;33m=\u001b[0m \u001b[0mgetattr\u001b[0m\u001b[1;33m(\u001b[0m\u001b[0mself\u001b[0m\u001b[1;33m.\u001b[0m\u001b[0m_gp\u001b[0m\u001b[1;33m,\u001b[0m \u001b[0mattr\u001b[0m\u001b[1;33m)\u001b[0m\u001b[1;33m\u001b[0m\u001b[0m\n\u001b[0;32m    497\u001b[0m         \u001b[1;32mif\u001b[0m \u001b[0mcallable\u001b[0m\u001b[1;33m(\u001b[0m\u001b[0mval\u001b[0m\u001b[1;33m)\u001b[0m\u001b[1;33m:\u001b[0m\u001b[1;33m\u001b[0m\u001b[0m\n\u001b[1;32m--> 498\u001b[1;33m             \u001b[1;32mreturn\u001b[0m \u001b[1;32mlambda\u001b[0m \u001b[1;33m*\u001b[0m\u001b[0margs\u001b[0m\u001b[1;33m:\u001b[0m \u001b[0mval\u001b[0m\u001b[1;33m(\u001b[0m\u001b[1;33m*\u001b[0m\u001b[0mgp_fixargs\u001b[0m\u001b[1;33m(\u001b[0m\u001b[0margs\u001b[0m\u001b[1;33m,\u001b[0m \u001b[0mTrue\u001b[0m\u001b[1;33m)\u001b[0m\u001b[1;33m)\u001b[0m\u001b[1;33m\u001b[0m\u001b[0m\n\u001b[0m\u001b[0;32m    499\u001b[0m         \u001b[1;32melse\u001b[0m\u001b[1;33m:\u001b[0m\u001b[1;33m\u001b[0m\u001b[0m\n\u001b[0;32m    500\u001b[0m             \u001b[1;32mreturn\u001b[0m \u001b[0mconvertArcObjectToPythonObject\u001b[0m\u001b[1;33m(\u001b[0m\u001b[0mval\u001b[0m\u001b[1;33m)\u001b[0m\u001b[1;33m\u001b[0m\u001b[0m\n",
      "\u001b[1;31mExecuteError\u001b[0m: ERROR 010416: Error in setting raster table filter for D:\\BOOKS\\GISen\\_PYTHON\\PythonForArcGIS\\SF_PFA\\ch09\\data\\getty_rast.\nERROR 010213: Error in reading raster getty_rast\\getty_rast.\nERROR 010325: Run-time error - ***.\nERROR 010067: Error in executing grid expression.\nFailed to execute (ExtractByAttributes).\n"
     ]
    }
   ],
   "source": [
    "%run scriptPt/where_clause2.py COUNT 6000"
   ]
  },
  {
   "cell_type": "markdown",
   "metadata": {},
   "source": [
    "### 9.2.1 Select by Attributes and Temporary Feature Layers  "
   ]
  },
  {
   "cell_type": "code",
   "execution_count": 21,
   "metadata": {
    "collapsed": false,
    "scrolled": true
   },
   "outputs": [
    {
     "data": {
      "text/plain": [
       "<Result 'tmpLayer'>"
      ]
     },
     "execution_count": 21,
     "metadata": {},
     "output_type": "execute_result"
    }
   ],
   "source": [
    "import arcpy\n",
    "arcpy.env.workspace = 'data/tester.gdb'\n",
    "tmp = 'tmpLayer'\n",
    "arcpy.MakeFeatureLayer_management('park', tmp)"
   ]
  },
  {
   "cell_type": "code",
   "execution_count": 23,
   "metadata": {
    "collapsed": false
   },
   "outputs": [
    {
     "data": {
      "text/plain": [
       "<Result 'tmpLayer'>"
      ]
     },
     "execution_count": 23,
     "metadata": {},
     "output_type": "execute_result"
    }
   ],
   "source": [
    "maxArea = 20000\n",
    "coverType = 'woods'\n",
    "whereClause = \"Shape_area < {0} AND COVER ='{1}'\".format(maxArea,coverType)\n",
    "arcpy.SelectLayerByAttribute_management(tmp, 'NEW_SELECTION', whereClause)"
   ]
  },
  {
   "cell_type": "code",
   "execution_count": 24,
   "metadata": {
    "collapsed": false
   },
   "outputs": [
    {
     "data": {
      "text/plain": [
       "<Result 'data/tester.gdb\\\\smallWoods'>"
      ]
     },
     "execution_count": 24,
     "metadata": {},
     "output_type": "execute_result"
    }
   ],
   "source": [
    "output = 'smallWoods'\n",
    "arcpy.CopyFeatures_management(tmp, output)"
   ]
  },
  {
   "cell_type": "markdown",
   "metadata": {},
   "source": [
    "## 9.3 Getting a Description of the Data  "
   ]
  },
  {
   "cell_type": "code",
   "execution_count": 1,
   "metadata": {
    "collapsed": true
   },
   "outputs": [],
   "source": [
    "import arcpy\n",
    "arcpy.env.workspace = './data'\n",
    "rastFile = 'getty_rast'"
   ]
  },
  {
   "cell_type": "code",
   "execution_count": 2,
   "metadata": {
    "collapsed": false
   },
   "outputs": [
    {
     "data": {
      "text/plain": [
       "<geoprocessing describe data object at 0x31c2fe0>"
      ]
     },
     "execution_count": 2,
     "metadata": {},
     "output_type": "execute_result"
    }
   ],
   "source": [
    "desc = arcpy.Describe(rastFile)\n",
    "desc"
   ]
  },
  {
   "cell_type": "markdown",
   "metadata": {},
   "source": [
    "### 9.3.1 Describe Object Properties  "
   ]
  },
  {
   "cell_type": "code",
   "execution_count": 3,
   "metadata": {
    "collapsed": false
   },
   "outputs": [
    {
     "data": {
      "text/plain": [
       "u'RasterDataset'"
      ]
     },
     "execution_count": 3,
     "metadata": {},
     "output_type": "execute_result"
    }
   ],
   "source": [
    "desc.dataType"
   ]
  },
  {
   "cell_type": "code",
   "execution_count": 4,
   "metadata": {
    "collapsed": false
   },
   "outputs": [
    {
     "data": {
      "text/plain": [
       "u'getty_rast'"
      ]
     },
     "execution_count": 4,
     "metadata": {},
     "output_type": "execute_result"
    }
   ],
   "source": [
    "desc.baseName"
   ]
  },
  {
   "cell_type": "code",
   "execution_count": 5,
   "metadata": {
    "collapsed": false
   },
   "outputs": [
    {
     "data": {
      "text/plain": [
       "u''"
      ]
     },
     "execution_count": 5,
     "metadata": {},
     "output_type": "execute_result"
    }
   ],
   "source": [
    "desc.extension"
   ]
  },
  {
   "cell_type": "code",
   "execution_count": 6,
   "metadata": {
    "collapsed": false,
    "scrolled": true
   },
   "outputs": [
    {
     "data": {
      "text/plain": [
       "u'./data\\\\getty_rast'"
      ]
     },
     "execution_count": 6,
     "metadata": {},
     "output_type": "execute_result"
    }
   ],
   "source": [
    "desc.catalogPath"
   ]
  },
  {
   "cell_type": "code",
   "execution_count": 7,
   "metadata": {
    "collapsed": false
   },
   "outputs": [
    {
     "data": {
      "text/plain": [
       "1"
      ]
     },
     "execution_count": 7,
     "metadata": {},
     "output_type": "execute_result"
    }
   ],
   "source": [
    "desc.bandCount"
   ]
  },
  {
   "cell_type": "code",
   "execution_count": 8,
   "metadata": {
    "collapsed": false
   },
   "outputs": [
    {
     "data": {
      "text/plain": [
       "u'RLE'"
      ]
     },
     "execution_count": 8,
     "metadata": {},
     "output_type": "execute_result"
    }
   ],
   "source": [
    "desc.compressionType"
   ]
  },
  {
   "cell_type": "code",
   "execution_count": 9,
   "metadata": {
    "collapsed": false,
    "scrolled": true
   },
   "outputs": [
    {
     "data": {
      "text/plain": [
       "u'GRID'"
      ]
     },
     "execution_count": 9,
     "metadata": {},
     "output_type": "execute_result"
    }
   ],
   "source": [
    "desc.format"
   ]
  },
  {
   "cell_type": "code",
   "execution_count": 10,
   "metadata": {
    "collapsed": true
   },
   "outputs": [],
   "source": [
    "bounds = desc.extent"
   ]
  },
  {
   "cell_type": "code",
   "execution_count": 11,
   "metadata": {
    "collapsed": false
   },
   "outputs": [
    {
     "data": {
      "text/plain": [
       "<Extent object at 0x163f1ab0[0x3357d70]>"
      ]
     },
     "execution_count": 11,
     "metadata": {},
     "output_type": "execute_result"
    }
   ],
   "source": [
    "bounds"
   ]
  },
  {
   "cell_type": "code",
   "execution_count": 12,
   "metadata": {
    "collapsed": false
   },
   "outputs": [
    {
     "data": {
      "text/plain": [
       "2167608.390378157"
      ]
     },
     "execution_count": 12,
     "metadata": {},
     "output_type": "execute_result"
    }
   ],
   "source": [
    "bounds.XMax"
   ]
  },
  {
   "cell_type": "code",
   "execution_count": null,
   "metadata": {
    "collapsed": true
   },
   "outputs": [],
   "source": []
  },
  {
   "cell_type": "markdown",
   "metadata": {},
   "source": [
    "### 9.3.2 Lists of  "
   ]
  },
  {
   "cell_type": "code",
   "execution_count": null,
   "metadata": {
    "collapsed": true
   },
   "outputs": [],
   "source": []
  },
  {
   "cell_type": "markdown",
   "metadata": {},
   "source": [
    "### 9.3.3 Using Specialized Properties  "
   ]
  },
  {
   "cell_type": "code",
   "execution_count": 20,
   "metadata": {
    "collapsed": false
   },
   "outputs": [
    {
     "data": {
      "text/plain": [
       "u'ShapeFile'"
      ]
     },
     "execution_count": 20,
     "metadata": {},
     "output_type": "execute_result"
    }
   ],
   "source": [
    "fcFile = './data/park.shp'\n",
    "desc2 = arcpy.Describe(fcFile)\n",
    "desc2.dataType"
   ]
  },
  {
   "cell_type": "code",
   "execution_count": 19,
   "metadata": {
    "collapsed": false,
    "scrolled": true
   },
   "outputs": [
    {
     "ename": "AttributeError",
     "evalue": "DescribeData: Method format does not exist",
     "output_type": "error",
     "traceback": [
      "\u001b[1;31m---------------------------------------------------------------------------\u001b[0m",
      "\u001b[1;31mAttributeError\u001b[0m                            Traceback (most recent call last)",
      "\u001b[1;32m<ipython-input-19-837c7cc141ae>\u001b[0m in \u001b[0;36m<module>\u001b[1;34m()\u001b[0m\n\u001b[0;32m      2\u001b[0m \u001b[0mdesc2\u001b[0m \u001b[1;33m=\u001b[0m \u001b[0marcpy\u001b[0m\u001b[1;33m.\u001b[0m\u001b[0mDescribe\u001b[0m\u001b[1;33m(\u001b[0m\u001b[0mfcFile\u001b[0m\u001b[1;33m)\u001b[0m\u001b[1;33m\u001b[0m\u001b[0m\n\u001b[0;32m      3\u001b[0m \u001b[0mdesc2\u001b[0m\u001b[1;33m.\u001b[0m\u001b[0mdataType\u001b[0m\u001b[1;33m\u001b[0m\u001b[0m\n\u001b[1;32m----> 4\u001b[1;33m \u001b[0mdesc2\u001b[0m\u001b[1;33m.\u001b[0m\u001b[0mformat\u001b[0m\u001b[1;33m\u001b[0m\u001b[0m\n\u001b[0m",
      "\u001b[1;31mAttributeError\u001b[0m: DescribeData: Method format does not exist"
     ]
    }
   ],
   "source": [
    "desc2.format"
   ]
  },
  {
   "cell_type": "code",
   "execution_count": null,
   "metadata": {
    "collapsed": true
   },
   "outputs": [],
   "source": [
    "# %load scriptPt/describeRaster.py\n",
    "# describeRaster.py\n",
    "# Purpose: Report the format of raster input file.\n",
    "# Usage: workspace, raster_dataset\n",
    "# Example: C:/gispy/data/ch09 getty.tif\n",
    "\n",
    "import arcpy\n",
    "arcpy.env.workspace = arcpy.GetParameterAsText(0)\n",
    "data = arcpy.GetParameterAsText(1)\n",
    "desc = arcpy.Describe(data)\n",
    "if desc.dataType == 'RasterDataset':\n",
    "    print 'Image format: {0}'.format(desc.format)\n"
   ]
  },
  {
   "cell_type": "code",
   "execution_count": 22,
   "metadata": {
    "collapsed": false
   },
   "outputs": [
    {
     "name": "stdout",
     "output_type": "stream",
     "text": [
      "Image format: TIFF\n"
     ]
    }
   ],
   "source": [
    "%run script/describeRaster.py \"./data\" getty.tif"
   ]
  },
  {
   "cell_type": "markdown",
   "metadata": {},
   "source": [
    " ### 9.3.4 Compound vs. Nested Conditions  "
   ]
  },
  {
   "cell_type": "code",
   "execution_count": 5,
   "metadata": {
    "collapsed": false
   },
   "outputs": [
    {
     "data": {
      "text/plain": [
       "u'RasterDataset'"
      ]
     },
     "execution_count": 5,
     "metadata": {},
     "output_type": "execute_result"
    }
   ],
   "source": [
    "import arcpy\n",
    "desc = arcpy.Describe('./data/getty.tif')\n",
    "desc.dataType"
   ]
  },
  {
   "cell_type": "code",
   "execution_count": 6,
   "metadata": {
    "collapsed": false
   },
   "outputs": [
    {
     "ename": "AttributeError",
     "evalue": "DescribeData: Method shapeType does not exist",
     "output_type": "error",
     "traceback": [
      "\u001b[1;31m---------------------------------------------------------------------------\u001b[0m",
      "\u001b[1;31mAttributeError\u001b[0m                            Traceback (most recent call last)",
      "\u001b[1;32m<ipython-input-6-780666b0df5f>\u001b[0m in \u001b[0;36m<module>\u001b[1;34m()\u001b[0m\n\u001b[1;32m----> 1\u001b[1;33m \u001b[1;32mif\u001b[0m \u001b[0mdesc\u001b[0m\u001b[1;33m.\u001b[0m\u001b[0mshapeType\u001b[0m \u001b[1;33m==\u001b[0m \u001b[1;34m'Polyline'\u001b[0m \u001b[1;32mand\u001b[0m \u001b[0mdsc\u001b[0m\u001b[1;33m.\u001b[0m\u001b[0mdataType\u001b[0m \u001b[1;32min\u001b[0m \u001b[1;33m[\u001b[0m\u001b[1;34m'FeatureClass'\u001b[0m\u001b[1;33m,\u001b[0m\u001b[1;34m'Shapefile'\u001b[0m\u001b[1;33m]\u001b[0m\u001b[1;33m:\u001b[0m\u001b[1;33m\u001b[0m\u001b[0m\n\u001b[0m\u001b[0;32m      2\u001b[0m   \u001b[1;32mprint\u001b[0m\u001b[1;34m'Smoothline'\u001b[0m\u001b[1;33m\u001b[0m\u001b[0m\n",
      "\u001b[1;31mAttributeError\u001b[0m: DescribeData: Method shapeType does not exist"
     ]
    }
   ],
   "source": [
    "if desc.shapeType == 'Polyline' and dsc.dataType in ['FeatureClass','Shapefile']:\n",
    "  print'Smooth line'"
   ]
  },
  {
   "cell_type": "code",
   "execution_count": null,
   "metadata": {
    "collapsed": true
   },
   "outputs": [],
   "source": [
    "# %load scriptPt/smoothLineCompound.py\n",
    "# smoothLineCompound.py\n",
    "# Usage: workspace, features_with_line_geometry\n",
    "# Example 1: C:/gispy/data/ch09 trails.shp\n",
    "# Example 2: C:/gispy/data/ch09 park.shp\n",
    "\n",
    "import arcpy\n",
    "\n",
    "arcpy.env.overwriteOutput = True\n",
    "arcpy.env.workspace = arcpy.GetParameterAsText(0)\n",
    "data = arcpy.GetParameterAsText(1)\n",
    "outFile = 'C:/gispy/scratch/smoothOut'\n",
    "desc = arcpy.Describe(data)\n",
    "if desc.dataType in ['FeatureClass', 'ShapeFile'] and desc.shapeType == 'Polyline':\n",
    "    result = arcpy.SmoothLine_cartography(data, outFile, \\\n",
    "                                          'BEZIER_INTERPOLATION')\n",
    "    print 'Smooth line created {0}.'.format(result.getOutput(0))\n"
   ]
  },
  {
   "cell_type": "code",
   "execution_count": 21,
   "metadata": {
    "collapsed": false
   },
   "outputs": [
    {
     "name": "stdout",
     "output_type": "stream",
     "text": [
      "Smooth line created .\\scratch\\smoothOut.shp.\n"
     ]
    }
   ],
   "source": [
    "%run scriptPt/smoothLineCompound.py \"./data\" trails.shp"
   ]
  },
  {
   "cell_type": "code",
   "execution_count": 20,
   "metadata": {
    "collapsed": false
   },
   "outputs": [],
   "source": [
    "%run scriptPt/smoothLineCompound.py \"./data\" park.shp"
   ]
  },
  {
   "cell_type": "code",
   "execution_count": null,
   "metadata": {
    "collapsed": true
   },
   "outputs": [],
   "source": [
    "# %load scriptPt/smoothLineNested.py\n",
    "# smoothLineNested.py\n",
    "# Usage: workspace, features_with_line_geometry\n",
    "# Example 1: C:/gispy/data/ch09 trails.shp\n",
    "# Example 2: C:/gispy/data/ch09 park.shp\n",
    "# Example 3: C:/gispy/data/ch09 getty.tif\n",
    "import arcpy\n",
    "\n",
    "arcpy.env.overwriteOutput = True\n",
    "\n",
    "arcpy.env.workspace = arcpy.GetParameterAsText(0)\n",
    "data = arcpy.GetParameterAsText(1)\n",
    "outFile = 'scratch/output'\n",
    "desc = arcpy.Describe(data)\n",
    "\n",
    "if desc.dataType in ['FeatureClass', 'ShapeFile']:\n",
    "    if desc.shapeType == 'Polyline':\n",
    "        result = arcpy.SmoothLine_cartography(data, outFile,\n",
    "                                              'BEZIER_INTERPOLATION')\n",
    "        print 'Smooth line created {0}.'.format(result.getOutput(0))\n",
    "    else:\n",
    "        print 'Warning: shape type is {0}. Smooth Line only works on Polyline \\\n",
    "shape types. '.format(desc.shapeType)\n",
    "else:\n",
    "    print \"Warning: Input data type must be 'FeatureClass' or 'ShapeFile'.\"\n",
    "    print 'Input dataType:', desc.dataType\n"
   ]
  },
  {
   "cell_type": "code",
   "execution_count": 23,
   "metadata": {
    "collapsed": false
   },
   "outputs": [
    {
     "name": "stdout",
     "output_type": "stream",
     "text": [
      "Smooth line created scratch\\output.shp.\n"
     ]
    }
   ],
   "source": [
    "%run scriptPt/smoothLineNested.py \"./data\" trails.shp"
   ]
  },
  {
   "cell_type": "code",
   "execution_count": 24,
   "metadata": {
    "collapsed": false
   },
   "outputs": [
    {
     "name": "stdout",
     "output_type": "stream",
     "text": [
      "Warning: shape type is Polygon. Smooth Line only works on Polyline shape types. \n"
     ]
    }
   ],
   "source": [
    "%run scriptPt/smoothLineNested.py \"./data\" park.shp"
   ]
  },
  {
   "cell_type": "code",
   "execution_count": 26,
   "metadata": {
    "collapsed": false,
    "scrolled": true
   },
   "outputs": [
    {
     "name": "stdout",
     "output_type": "stream",
     "text": [
      "Warning: Input data type must be 'FeatureClass' or 'ShapeFile'.\n",
      "Input dataType: RasterDataset\n"
     ]
    }
   ],
   "source": [
    "%run scriptPt/smoothLineNested.py \"./data\" getty.tif"
   ]
  },
  {
   "cell_type": "markdown",
   "metadata": {},
   "source": [
    "### 9.3.5 Testing Conditions  "
   ]
  },
  {
   "cell_type": "markdown",
   "metadata": {},
   "source": [
    "## 9.4 Required and Optional Script Input  "
   ]
  },
  {
   "cell_type": "code",
   "execution_count": 28,
   "metadata": {
    "collapsed": false
   },
   "outputs": [
    {
     "data": {
      "text/plain": [
       "'-f'"
      ]
     },
     "execution_count": 28,
     "metadata": {},
     "output_type": "execute_result"
    }
   ],
   "source": [
    "import sys\n",
    "sys.argv[1]"
   ]
  },
  {
   "cell_type": "code",
   "execution_count": 29,
   "metadata": {
    "collapsed": false
   },
   "outputs": [
    {
     "data": {
      "text/plain": [
       "'c:\\\\python27\\\\arcgis10.1\\\\lib\\\\site-packages\\\\ipykernel\\\\__main__.py'"
      ]
     },
     "execution_count": 29,
     "metadata": {},
     "output_type": "execute_result"
    }
   ],
   "source": [
    "sys.argv[0]"
   ]
  },
  {
   "cell_type": "code",
   "execution_count": 14,
   "metadata": {
    "collapsed": false
   },
   "outputs": [
    {
     "name": "stdout",
     "output_type": "stream",
     "text": [
      "./ contains the following files:\n",
      "['.ipynb_checkpoints', 'ch09.ipynb', 'ch09.md', 'ch09.mxd', 'conditionalSoundExercise', 'data', 'data.gdb', 'ipython.exe - Shortcut.lnk', 'jupyter-notebook.exe - Shortcut.lnk', 'scratch', 'script', 'scriptPt']\n"
     ]
    }
   ],
   "source": [
    "%run script/scriptPathOptionalv1.py ./"
   ]
  },
  {
   "cell_type": "code",
   "execution_count": 16,
   "metadata": {
    "collapsed": false
   },
   "outputs": [
    {
     "ename": "NameError",
     "evalue": "name '__file__' is not defined",
     "output_type": "error",
     "traceback": [
      "\u001b[1;31m---------------------------------------------------------------------------\u001b[0m",
      "\u001b[1;31mNameError\u001b[0m                                 Traceback (most recent call last)",
      "\u001b[1;32m<ipython-input-16-b81f43380c75>\u001b[0m in \u001b[0;36m<module>\u001b[1;34m()\u001b[0m\n\u001b[1;32m----> 1\u001b[1;33m \u001b[0mos\u001b[0m\u001b[1;33m.\u001b[0m\u001b[0mpath\u001b[0m\u001b[1;33m.\u001b[0m\u001b[0mabspath\u001b[0m\u001b[1;33m(\u001b[0m\u001b[0m__file__\u001b[0m\u001b[1;33m)\u001b[0m\u001b[1;33m\u001b[0m\u001b[0m\n\u001b[0m",
      "\u001b[1;31mNameError\u001b[0m: name '__file__' is not defined"
     ]
    }
   ],
   "source": []
  },
  {
   "cell_type": "markdown",
   "metadata": {},
   "source": [
    "## 9.5 Creating Output Directories  "
   ]
  },
  {
   "cell_type": "markdown",
   "metadata": {},
   "source": [
    "## 9.6 Key Terms  "
   ]
  },
  {
   "cell_type": "markdown",
   "metadata": {},
   "source": [
    "## 9.7 Exercises  "
   ]
  },
  {
   "cell_type": "code",
   "execution_count": null,
   "metadata": {
    "collapsed": true
   },
   "outputs": [],
   "source": []
  }
 ],
 "metadata": {
  "kernelspec": {
   "display_name": "Python 2",
   "language": "python",
   "name": "python2"
  },
  "language_info": {
   "codemirror_mode": {
    "name": "ipython",
    "version": 2
   },
   "file_extension": ".py",
   "mimetype": "text/x-python",
   "name": "python",
   "nbconvert_exporter": "python",
   "pygments_lexer": "ipython2",
   "version": "2.7.2"
  }
 },
 "nbformat": 4,
 "nbformat_minor": 0
}
