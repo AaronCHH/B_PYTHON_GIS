{
 "cells": [
  {
   "cell_type": "markdown",
   "metadata": {},
   "source": [
    "## 11 Batch Geoprocessing \n",
    "* 11.1 List GIS Data \n",
    "* 11.2 Specify Data Name and Type\n",
    "* 11.3 List Fields \n",
    "* 11.4 Administrative Lists \n",
    "* 11.5 Batch Geoprocess Lists of Data \n",
    "* 11.6 Debug: Step Through Code \n",
    "* 11.7 Key Terms \n",
    "* 11.8 Exercises "
   ]
  },
  {
   "cell_type": "markdown",
   "metadata": {},
   "source": [
    "## 11.1 List GIS Data "
   ]
  },
  {
   "cell_type": "code",
   "execution_count": 1,
   "metadata": {
    "collapsed": false
   },
   "outputs": [],
   "source": [
    "import arcpy\n",
    "arcpy.env.workspace = 'data'\n",
    "# The ListFeatureClasses method returns a Python list of strings.\n",
    "fcs = arcpy.ListFeatureClasses()"
   ]
  },
  {
   "cell_type": "code",
   "execution_count": 2,
   "metadata": {
    "collapsed": false
   },
   "outputs": [
    {
     "data": {
      "text/plain": [
       "[u'data1.shp',\n",
       " u'data1Buffer.shp',\n",
       " u'park.shp',\n",
       " u'parkBuffer.shp',\n",
       " u'USA.shp',\n",
       " u'USABuffer.shp']"
      ]
     },
     "execution_count": 2,
     "metadata": {},
     "output_type": "execute_result"
    }
   ],
   "source": [
    "fcs"
   ]
  },
  {
   "cell_type": "code",
   "execution_count": 3,
   "metadata": {
    "collapsed": false
   },
   "outputs": [
    {
     "data": {
      "text/plain": [
       "u'data1.shp'"
      ]
     },
     "execution_count": 3,
     "metadata": {},
     "output_type": "execute_result"
    }
   ],
   "source": [
    "fcs[0]"
   ]
  },
  {
   "cell_type": "code",
   "execution_count": 4,
   "metadata": {
    "collapsed": false
   },
   "outputs": [
    {
     "data": {
      "text/plain": [
       "unicode"
      ]
     },
     "execution_count": 4,
     "metadata": {},
     "output_type": "execute_result"
    }
   ],
   "source": [
    "type(fcs[0])"
   ]
  },
  {
   "cell_type": "code",
   "execution_count": 5,
   "metadata": {
    "collapsed": false,
    "scrolled": true
   },
   "outputs": [
    {
     "name": "stdout",
     "output_type": "stream",
     "text": [
      "data1.shp\n",
      "data1Buffer.shp\n",
      "park.shp\n",
      "parkBuffer.shp\n",
      "USA.shp\n",
      "USABuffer.shp\n"
     ]
    }
   ],
   "source": [
    "for fc in fcs:\n",
    "  print fc"
   ]
  },
  {
   "cell_type": "code",
   "execution_count": null,
   "metadata": {
    "collapsed": true
   },
   "outputs": [],
   "source": [
    "# %load script/listStuff.py\n",
    "# listStuff.py\n",
    "# Purpose: Use arcpy to list workspaces and tables.\n",
    "import arcpy\n",
    "\n",
    "arcpy.env.workspace = 'C:/gispy/data/ch11'\n",
    "\n",
    "print '---Workspaces---'\n",
    "workspaces = arcpy.ListWorkspaces()\n",
    "for wspace in workspaces:\n",
    "    print wspace\n",
    "\n",
    "print '\\n---Tables---'\n",
    "\n",
    "tables = arcpy.ListTables()\n",
    "for table in tables:\n",
    "    print table\n"
   ]
  },
  {
   "cell_type": "code",
   "execution_count": 9,
   "metadata": {
    "collapsed": false,
    "scrolled": true
   },
   "outputs": [
    {
     "name": "stdout",
     "output_type": "stream",
     "text": [
      "---Workspaces---\n",
      "data\\pics\n",
      "data\\rastTester.gdb\n",
      "data\\tester.gdb\n",
      "data\\trains\n",
      "\n",
      "---Tables---\n",
      "䥍啎当䅒⹓乂d\n",
      "䥍啎当䅒⹓呓aᗦ띸ᗦ뜈ᗦ롈ᗦ뚘ᗦx\n",
      "䥍啎当䅒⹓䅖t\n",
      "coords.csv\n",
      "loveLetter.txt\n",
      "xy1.txt\n",
      "xy_current.txt\n",
      "summary.dbf\n"
     ]
    }
   ],
   "source": [
    "%run scriptPt/listStuff.py"
   ]
  },
  {
   "cell_type": "code",
   "execution_count": 13,
   "metadata": {
    "collapsed": false
   },
   "outputs": [
    {
     "name": "stdout",
     "output_type": "stream",
     "text": [
      "---Workspaces---\n",
      "data\\pics\n",
      "data\\rastTester.gdb\n",
      "data\\tester.gdb\n",
      "data\\trains\n",
      "\n",
      "---Tables---\n",
      "loveLetter.txt\n",
      "xy1.txt\n",
      "xy_current.txt\n",
      "\n",
      "---shp---\n",
      "data1.shp\n",
      "data1Buffer.shp\n",
      "park.shp\n",
      "parkBuffer.shp\n",
      "USA.shp\n",
      "USABuffer.shp\n",
      "\n",
      "---datasets---\n",
      "jack.jpg\n",
      "minus_ras\n",
      "tree.gif\n",
      "tree.jpg\n",
      "tree.png\n",
      "tree.tif\n",
      "tree2.gif\n",
      "tree2.jpg\n",
      "window.jpg\n"
     ]
    }
   ],
   "source": [
    "# %load scriptPt/listStuff.py\n",
    "# listStuff.py\n",
    "# Purpose: Use arcpy to list workspaces and tables.\n",
    "import arcpy\n",
    "\n",
    "arcpy.env.workspace = 'data'\n",
    "\n",
    "print '---Workspaces---'\n",
    "workspaces = arcpy.ListWorkspaces()\n",
    "for wspace in workspaces:\n",
    "    print wspace\n",
    "\n",
    "print '\\n---Tables---'\n",
    "\n",
    "tables = arcpy.ListTables('*.txt')\n",
    "for table in tables:\n",
    "    print table\n",
    "\n",
    "print '\\n---shp---'\n",
    "\n",
    "shp = arcpy.ListFeatureClasses('*.shp')\n",
    "for item in shp:\n",
    "    print item    \n",
    "    \n",
    "print '\\n---datasets---'\n",
    "\n",
    "dataset = arcpy.ListDatasets()\n",
    "for ds in dataset:\n",
    "    print ds       "
   ]
  },
  {
   "cell_type": "markdown",
   "metadata": {},
   "source": [
    "## 11.2 Specify Data Name and Type"
   ]
  },
  {
   "cell_type": "code",
   "execution_count": null,
   "metadata": {
    "collapsed": true
   },
   "outputs": [],
   "source": [
    "# %load script/wildcards.py\n",
    "# wildcards.py\n",
    "# Purpose: Use a wildcard to selectively list files.\n",
    "\n",
    "import arcpy\n",
    "arcpy.env.workspace = 'C:/gispy/data/ch11/rastTester.gdb'\n",
    "\n",
    "# a. Use '*' or empty parentheses to list ALL the rasters in the workspace.\n",
    "rasts = arcpy.ListRasters('*')\n",
    "print 'a. All the rasters:'\n",
    "print rasts\n",
    "print\n",
    "\n",
    "# b. List the rasters whose names START with 'elev'.\n",
    "rasts = arcpy.ListRasters('elev*')\n",
    "print 'b. elev* rasters:'\n",
    "print rasts\n",
    "print\n",
    "\n",
    "# c. List a raster whose name is exactly 'elev'.\n",
    "rasts = arcpy.ListRasters('elev')\n",
    "print 'c. elev raster:'\n",
    "print rasts\n"
   ]
  },
  {
   "cell_type": "code",
   "execution_count": 11,
   "metadata": {
    "collapsed": false,
    "scrolled": true
   },
   "outputs": [
    {
     "name": "stdout",
     "output_type": "stream",
     "text": [
      "a. All the rasters:\n",
      "[u'elev', u'landcov', u'soilsid', u'getty_cover', u'landc197', u'landuse', u'aspect', u'soils_kf', u'plus_ras', u'CoverMinus', u'elev_srt', u'elev_sh', u'elev_ned', u'Int_rand1', u'Int_rand2', u'landc196', u'TimesCOVER']\n",
      "\n",
      "b. elev* rasters:\n",
      "[u'elev', u'elev_srt', u'elev_sh', u'elev_ned']\n",
      "\n",
      "c. elev raster:\n",
      "[u'elev']\n"
     ]
    }
   ],
   "source": [
    "%run scriptPt/wildcards.py"
   ]
  },
  {
   "cell_type": "code",
   "execution_count": null,
   "metadata": {
    "collapsed": true
   },
   "outputs": [],
   "source": [
    "# %load script/rasterTypes.py\n",
    "# rasterTypes.py\n",
    "# Purpose: Use a wildcard to selectively list files.\n",
    "import arcpy\n",
    "arcpy.env.workspace = 'C:/gispy/data/ch11/'\n",
    "\n",
    "# a. Use empty parenthesis to list ALL the rasters in the current workspace.\n",
    "rasts = arcpy.ListRasters()\n",
    "print 'a. All the rasters:'\n",
    "print rasts\n",
    "print\n",
    "\n",
    "# b. List ALL the GIF type rasters.\n",
    "rasts = arcpy.ListRasters('*', 'GIF')\n",
    "print 'b. GIF rasters:'\n",
    "print rasts\n",
    "print\n",
    "\n",
    "# c. List the raster whose name is GIF\n",
    "rasts = arcpy.ListRasters('GIF')\n",
    "print 'c. raster named GIF:'\n",
    "print rasts\n",
    "print\n",
    "\n",
    "# d. List the rasters whose names start with 'tree'.\n",
    "rasts = arcpy.ListRasters('tree*')\n",
    "print 'd. tree* rasters:'\n",
    "print rasts\n",
    "print\n",
    "\n",
    "# e. List the rasters whose names start with 'tree' which are GIF type files.\n",
    "rasts = arcpy.ListRasters('tree*', 'GIF')\n",
    "print 'e. tree* GIF type rasters:'\n",
    "print rasts\n",
    "print\n"
   ]
  },
  {
   "cell_type": "code",
   "execution_count": 13,
   "metadata": {
    "collapsed": false
   },
   "outputs": [
    {
     "name": "stdout",
     "output_type": "stream",
     "text": [
      "a. All the rasters:\n",
      "[u'jack.jpg', u'minus_ras', u'tree.gif', u'tree.jpg', u'tree.png', u'tree.tif', u'tree2.gif', u'tree2.jpg', u'window.jpg']\n",
      "\n",
      "b. GIF rasters:\n",
      "[u'tree.gif', u'tree2.gif']\n",
      "\n",
      "c. raster named GIF:\n",
      "[]\n",
      "\n",
      "d. tree* rasters:\n",
      "[u'tree.gif', u'tree.jpg', u'tree.png', u'tree.tif', u'tree2.gif', u'tree2.jpg']\n",
      "\n",
      "e. tree* GIF type rasters:\n",
      "[u'tree.gif', u'tree2.gif']\n",
      "\n"
     ]
    }
   ],
   "source": [
    "%run scriptPt/rasterTypes.py"
   ]
  },
  {
   "cell_type": "markdown",
   "metadata": {},
   "source": [
    "## 11.3 List Fields "
   ]
  },
  {
   "cell_type": "code",
   "execution_count": 14,
   "metadata": {
    "collapsed": false,
    "scrolled": true
   },
   "outputs": [
    {
     "data": {
      "text/plain": [
       "[<Field object at 0x15e8d1f0[0x3086d10]>,\n",
       " <Field object at 0x15e8d2b0[0x3086f08]>,\n",
       " <Field object at 0x15e8d1b0[0x3086bf0]>,\n",
       " <Field object at 0x15e8d190[0x3086fe0]>]"
      ]
     },
     "execution_count": 14,
     "metadata": {},
     "output_type": "execute_result"
    }
   ],
   "source": [
    "# List the Field objects for this dataset.\n",
    "fields = arcpy.ListFields('data/park.shp')\n",
    "fields"
   ]
  },
  {
   "cell_type": "code",
   "execution_count": 16,
   "metadata": {
    "collapsed": false
   },
   "outputs": [
    {
     "name": "stdout",
     "output_type": "stream",
     "text": [
      "FID\n",
      "Shape\n",
      "COVER\n",
      "RECNO\n"
     ]
    }
   ],
   "source": [
    "for fieldObject in fields:\n",
    "  print fieldObject.name"
   ]
  },
  {
   "cell_type": "code",
   "execution_count": null,
   "metadata": {
    "collapsed": true
   },
   "outputs": [],
   "source": [
    "# %load script/listFields.py\n",
    "# listFields.py\n",
    "# Purpose: List attribute table field properties.\n",
    "import arcpy\n",
    "arcpy.env.workspace = 'C:/gispy/data/ch11/'\n",
    "\n",
    "fields = arcpy.ListFields('park.shp')\n",
    "for fieldObject in fields:\n",
    "    print 'Name: {0}'.format(fieldObject.name)\n",
    "    print 'Length: {0}'.format(fieldObject.length)\n",
    "    print 'Type: {0}'.format(fieldObject.type)\n",
    "    print 'Editable: {0}'.format(fieldObject.editable)\n",
    "    print 'Required: {0}\\n'.format(fieldObject.required)\n"
   ]
  },
  {
   "cell_type": "code",
   "execution_count": 18,
   "metadata": {
    "collapsed": false
   },
   "outputs": [
    {
     "name": "stdout",
     "output_type": "stream",
     "text": [
      "Name: FID\n",
      "Length: 4\n",
      "Type: OID\n",
      "Editable: False\n",
      "Required: True\n",
      "\n",
      "Name: Shape\n",
      "Length: 0\n",
      "Type: Geometry\n",
      "Editable: True\n",
      "Required: True\n",
      "\n",
      "Name: COVER\n",
      "Length: 5\n",
      "Type: String\n",
      "Editable: True\n",
      "Required: False\n",
      "\n",
      "Name: RECNO\n",
      "Length: 11\n",
      "Type: Double\n",
      "Editable: True\n",
      "Required: False\n",
      "\n"
     ]
    }
   ],
   "source": [
    "%run scriptPt/listFields.py"
   ]
  },
  {
   "cell_type": "markdown",
   "metadata": {},
   "source": [
    "## 11.4 Administrative Lists "
   ]
  },
  {
   "cell_type": "markdown",
   "metadata": {},
   "source": [
    "## 11.5 Batch Geoprocess Lists of Data "
   ]
  },
  {
   "cell_type": "code",
   "execution_count": 14,
   "metadata": {
    "collapsed": true
   },
   "outputs": [
    {
     "ename": "RuntimeError",
     "evalue": "ERROR 999999: Error executing function.\nDataset type is invalid",
     "output_type": "error",
     "traceback": [
      "\u001b[1;31m---------------------------------------------------------------------------\u001b[0m",
      "\u001b[1;31mRuntimeError\u001b[0m                              Traceback (most recent call last)",
      "\u001b[1;32m<ipython-input-14-9b82a5e5d911>\u001b[0m in \u001b[0;36m<module>\u001b[1;34m()\u001b[0m\n\u001b[0;32m      1\u001b[0m \u001b[1;31m# List all coverage, geodatabase, TIN, Raster, and CAD datasets.\u001b[0m\u001b[1;33m\u001b[0m\u001b[1;33m\u001b[0m\u001b[0m\n\u001b[1;32m----> 2\u001b[1;33m \u001b[0mdatasets\u001b[0m \u001b[1;33m=\u001b[0m \u001b[0marcpy\u001b[0m\u001b[1;33m.\u001b[0m\u001b[0mListDatasets\u001b[0m\u001b[1;33m(\u001b[0m\u001b[1;34m'out*'\u001b[0m\u001b[1;33m,\u001b[0m \u001b[1;34m'GRID'\u001b[0m\u001b[1;33m)\u001b[0m\u001b[1;33m\u001b[0m\u001b[0m\n\u001b[0m\u001b[0;32m      3\u001b[0m \u001b[1;32mfor\u001b[0m \u001b[0mdata\u001b[0m \u001b[1;32min\u001b[0m \u001b[0mdatasets\u001b[0m\u001b[1;33m:\u001b[0m\u001b[1;33m\u001b[0m\u001b[0m\n\u001b[0;32m      4\u001b[0m   \u001b[0marcpy\u001b[0m\u001b[1;33m.\u001b[0m\u001b[0mDelete_management\u001b[0m\u001b[1;33m(\u001b[0m\u001b[0mdata\u001b[0m\u001b[1;33m)\u001b[0m\u001b[1;33m\u001b[0m\u001b[0m\n",
      "\u001b[1;32mC:\\Program Files (x86)\\ArcGIS\\Desktop10.1\\arcpy\\arcpy\\__init__.py\u001b[0m in \u001b[0;36mListDatasets\u001b[1;34m(wild_card, feature_type)\u001b[0m\n\u001b[0;32m    902\u001b[0m \u001b[1;33m\u001b[0m\u001b[0m\n\u001b[0;32m    903\u001b[0m         * All:   All datasets in the workspace. This is the default value.\"\"\"\n\u001b[1;32m--> 904\u001b[1;33m     \u001b[1;32mreturn\u001b[0m \u001b[0mgp\u001b[0m\u001b[1;33m.\u001b[0m\u001b[0mlistDatasets\u001b[0m\u001b[1;33m(\u001b[0m\u001b[0mwild_card\u001b[0m\u001b[1;33m,\u001b[0m \u001b[0mfeature_type\u001b[0m\u001b[1;33m)\u001b[0m\u001b[1;33m\u001b[0m\u001b[0m\n\u001b[0m\u001b[0;32m    905\u001b[0m \u001b[1;33m\u001b[0m\u001b[0m\n\u001b[0;32m    906\u001b[0m \u001b[1;32mdef\u001b[0m \u001b[0mListTables\u001b[0m\u001b[1;33m(\u001b[0m\u001b[0mwild_card\u001b[0m\u001b[1;33m=\u001b[0m\u001b[0mNone\u001b[0m\u001b[1;33m,\u001b[0m \u001b[0mtable_type\u001b[0m\u001b[1;33m=\u001b[0m\u001b[0mNone\u001b[0m\u001b[1;33m)\u001b[0m\u001b[1;33m:\u001b[0m\u001b[1;33m\u001b[0m\u001b[0m\n",
      "\u001b[1;32mC:\\Program Files (x86)\\ArcGIS\\Desktop10.1\\arcpy\\arcpy\\geoprocessing\\_base.py\u001b[0m in \u001b[0;36mlistDatasets\u001b[1;34m(self, *args)\u001b[0m\n\u001b[0;32m    317\u001b[0m         \u001b[1;32mfrom\u001b[0m \u001b[1;33m.\u001b[0m\u001b[1;33m.\u001b[0m\u001b[0marcobjects\u001b[0m\u001b[1;33m.\u001b[0m\u001b[0marcobjectconversion\u001b[0m \u001b[1;32mimport\u001b[0m \u001b[0mconvertArcObjectToPythonObject\u001b[0m\u001b[1;33m\u001b[0m\u001b[0m\n\u001b[0;32m    318\u001b[0m         return convertArcObjectToPythonObject(\n\u001b[1;32m--> 319\u001b[1;33m                     self._gp.ListDatasets(*gp_fixargs(args, True)))\n\u001b[0m\u001b[0;32m    320\u001b[0m     \u001b[1;32mdef\u001b[0m \u001b[0mlistTables\u001b[0m\u001b[1;33m(\u001b[0m\u001b[0mself\u001b[0m\u001b[1;33m,\u001b[0m \u001b[1;33m*\u001b[0m\u001b[0margs\u001b[0m\u001b[1;33m)\u001b[0m\u001b[1;33m:\u001b[0m\u001b[1;33m\u001b[0m\u001b[0m\n\u001b[0;32m    321\u001b[0m         \u001b[1;34m\"\"\"GP function ListTables\"\"\"\u001b[0m\u001b[1;33m\u001b[0m\u001b[0m\n",
      "\u001b[1;31mRuntimeError\u001b[0m: ERROR 999999: Error executing function.\nDataset type is invalid"
     ]
    }
   ],
   "source": [
    "# List all coverage, geodatabase, TIN, Raster, and CAD datasets.\n",
    "datasets = arcpy.ListDatasets('out*', 'GRID')\n",
    "for data in datasets:\n",
    "  arcpy.Delete_management(data)"
   ]
  },
  {
   "cell_type": "code",
   "execution_count": null,
   "metadata": {
    "collapsed": true
   },
   "outputs": [],
   "source": [
    "# %load script/batchBuffer.py\n",
    "# batchBuffer.py\n",
    "# Purpose: Buffer each feature class in the workspace.\n",
    "# Usage: No arguments required.\n",
    "\n",
    "import arcpy, os\n",
    "arcpy.env.overwriteOutput = True\n",
    "arcpy.env.workspace = 'C:/gispy/data/ch11/'\n",
    "\n",
    "# GET a list of feature classes.\n",
    "fcs = arcpy.ListFeatureClasses()\n",
    "for fc in fcs:\n",
    "    # SET the output variable. \n",
    "    fcBuffer = os.path.splitext(fc)[0] + 'Buffer.shp'\n",
    "    # Call Buffer (Analysis) tool.\n",
    "    arcpy.Buffer_analysis(fc, fcBuffer, '1 mile')\n",
    "    print '{0} created.'.format(fcBuffer)\n"
   ]
  },
  {
   "cell_type": "code",
   "execution_count": 21,
   "metadata": {
    "collapsed": false,
    "scrolled": true
   },
   "outputs": [
    {
     "name": "stdout",
     "output_type": "stream",
     "text": [
      "data1Buffer.shp created.\n",
      "parkBuffer.shp created.\n",
      "USABuffer.shp created.\n"
     ]
    }
   ],
   "source": [
    "%run scriptPt/batchBuffer.py"
   ]
  },
  {
   "cell_type": "code",
   "execution_count": null,
   "metadata": {
    "collapsed": true
   },
   "outputs": [],
   "source": [
    "# %load script/batchBufferv2.py\n",
    "# batchBufferv2.py\n",
    "# Purpose: Buffer each feature class in the workspace and\n",
    "#          place output in a different workspace.\n",
    "import arcpy, os\n",
    "arcpy.env.overwriteOutput = True\n",
    "# SET workspaces\n",
    "arcpy.env.workspace = 'C:/gispy/data/ch11/'\n",
    "outDir = 'C:/gispy/scratch/buffers/'\n",
    "if not os.path.exists(outDir):\n",
    "    os.mkdir(outDir)\n",
    "# GET a list of feature classes\n",
    "fcs = arcpy.ListFeatureClasses()\n",
    "for fc in fcs:\n",
    "    # SET the output variable\n",
    "    outName = os.path.splitext(fc)[0] + '_buffer.shp'\n",
    "    fcBuffer = os.path.join(outDir, outName)\n",
    "    # Call buffer tool\n",
    "    arcpy.Buffer_analysis(fc, fcBuffer, '1 mile')\n",
    "    print '{0} created in {1}.'.format(fcBuffer, outDir)\n"
   ]
  },
  {
   "cell_type": "code",
   "execution_count": 24,
   "metadata": {
    "collapsed": false,
    "scrolled": true
   },
   "outputs": [
    {
     "name": "stdout",
     "output_type": "stream",
     "text": [
      "scratch\\data1_buffer.shp created in scratch.\n",
      "scratch\\data1Buffer_buffer.shp created in scratch.\n",
      "scratch\\park_buffer.shp created in scratch.\n",
      "scratch\\parkBuffer_buffer.shp created in scratch.\n",
      "scratch\\USA_buffer.shp created in scratch.\n",
      "scratch\\USABuffer_buffer.shp created in scratch.\n"
     ]
    }
   ],
   "source": [
    "%run scriptPt/batchBufferv2.py"
   ]
  },
  {
   "cell_type": "code",
   "execution_count": null,
   "metadata": {
    "collapsed": true
   },
   "outputs": [],
   "source": [
    "# %load script/tableLister.py\n",
    "# tableLister.py\n",
    "# Purpose: Create shapefiles from 'stations*' xy tables, connect the points,\n",
    "#          and then find then intersection of the lines.\n",
    "# Usage:  workspace_containing_tables\n",
    "# Example: C:/gispy/data/ch11/trains\n",
    "import arcpy, os, sys\n",
    "arcpy.env.workspace = sys.argv[1]\n",
    "arcpy.env.overwriteOutput = True\n",
    "tables = arcpy.ListTables('stations*', 'dBASE')\n",
    "\n",
    "tempPoints = 'temporaryPointLayer'\n",
    "\n",
    "for table in tables:\n",
    "    # SET the output variable.\n",
    "    lineFile = os.path.splitext(table)[0] + 'Line'\n",
    "    # CALL geoprocessing tools.\n",
    "    arcpy.MakeXYEventLayer_management(table, 'POINT_X', 'POINT_Y', tempPoints)\n",
    "    arcpy.PointsToLine_management(tempPoints, lineFile)\n",
    "    print '\\t{0}/{1} created.'.format(arcpy.env.workspace, lineFile)\n",
    "\n",
    "# GET the list of lines and intersect the lines.\n",
    "lineList = arcpy.ListFeatureClasses('stations*Line*')\n",
    "arcpy.Intersect_analysis(lineList, 'hubs', '#', '0.5 mile', 'POINT')\n",
    "print '{0}/hubs created.'.format(arcpy.env.workspace)\n"
   ]
  },
  {
   "cell_type": "code",
   "execution_count": null,
   "metadata": {
    "collapsed": false,
    "scrolled": true
   },
   "outputs": [
    {
     "name": "stdout",
     "output_type": "stream",
     "text": [
      "\tdata/trains/stations1Line created.\n",
      "\tdata/trains/stations2Line created.\n",
      "\tdata/trains/stations3Line created.\n",
      "\tdata/trains/stations4Line created.\n",
      "data/trains/hubs created.\n"
     ]
    }
   ],
   "source": [
    "%run scriptPt/tableLister.py data/trains"
   ]
  },
  {
   "cell_type": "markdown",
   "metadata": {},
   "source": [
    "## 11.6 Debug: Step Through Code "
   ]
  },
  {
   "cell_type": "markdown",
   "metadata": {},
   "source": [
    "## 11.7 Key Terms "
   ]
  },
  {
   "cell_type": "markdown",
   "metadata": {},
   "source": [
    "## 11.8 Exercises "
   ]
  },
  {
   "cell_type": "code",
   "execution_count": null,
   "metadata": {
    "collapsed": true
   },
   "outputs": [],
   "source": []
  }
 ],
 "metadata": {
  "kernelspec": {
   "display_name": "Python 2",
   "language": "python",
   "name": "python2"
  },
  "language_info": {
   "codemirror_mode": {
    "name": "ipython",
    "version": 2
   },
   "file_extension": ".py",
   "mimetype": "text/x-python",
   "name": "python",
   "nbconvert_exporter": "python",
   "pygments_lexer": "ipython2",
   "version": "2.7.2"
  }
 },
 "nbformat": 4,
 "nbformat_minor": 0
}
