{
 "cells": [
  {
   "cell_type": "markdown",
   "metadata": {},
   "source": [
    "## 15 User-Defined Functions \n",
    "* 15.1 A Word About Function Words \n",
    "* 15.1.1 How It Works \n",
    "* 15.1.2 The Docstring \n",
    "* 15.2 Custom Functions with Arguments \n",
    "* 15.2.1 Script Arguments vs. Functions Arguments \n",
    "* 15.2.2 Optional Arguments \n",
    "* 15.3 Returning Values \n",
    "* 15.3.1 A Common Mistake: Where Did the None Come from? \n",
    "* 15.3.2 Returning Multiple Values \n",
    "* 15.4 When to Write Functions \n",
    "* 15.4.1 Where to Defi ne \n",
    "* 15.5 Variables Inside and Outside of Functions \n",
    "* 15.5.1 Mutable Arguments Can Change \n",
    "* 15.5.2 Pass in Outside Variables \n",
    "* 15.6 Key Terms \n",
    "* 15.7 Exercises "
   ]
  },
  {
   "cell_type": "markdown",
   "metadata": {},
   "source": [
    "## 15 User-Defined Functions "
   ]
  },
  {
   "cell_type": "markdown",
   "metadata": {},
   "source": [
    "## 15.1 A Word About Function Words "
   ]
  },
  {
   "cell_type": "code",
   "execution_count": 7,
   "metadata": {
    "collapsed": false
   },
   "outputs": [],
   "source": [
    "def printBird():\n",
    "  print \"\"\"\n",
    "    ,,, ::.\n",
    "  <*~) ;;\n",
    "  ( @}//\n",
    "   ''\n",
    "  \"\"\""
   ]
  },
  {
   "cell_type": "code",
   "execution_count": 8,
   "metadata": {
    "collapsed": false
   },
   "outputs": [
    {
     "name": "stdout",
     "output_type": "stream",
     "text": [
      "\n",
      "    ,,, ::.\n",
      "  <*~) ;;\n",
      "  ( @}//\n",
      "   ''\n",
      "  \n"
     ]
    }
   ],
   "source": [
    " printBird()"
   ]
  },
  {
   "cell_type": "code",
   "execution_count": 11,
   "metadata": {
    "collapsed": false
   },
   "outputs": [
    {
     "name": "stdout",
     "output_type": "stream",
     "text": [
      "Argument 0: c:\\python27\\arcgis10.1\\lib\\site-packages\\ipykernel\\__main__.py\n",
      "Argument 1: -f\n",
      "Argument 2: C:\\Users\\AaronHsu\\AppData\\Roaming\\jupyter\\runtime\\kernel-be20fe5a-5a64-4c59-a03f-d1cf81685f8a.json\n"
     ]
    }
   ],
   "source": [
    "# %load script/reportArgs.py\n",
    "# reportArgs.py\n",
    "# Purpose: Print the script arguments.\n",
    "import sys\n",
    "\n",
    "\n",
    "def printArgs():\n",
    "    '''Print user arguments.'''\n",
    "    for index, arg in enumerate(sys.argv):\n",
    "        print 'Argument {0}: {1}'.format(index, arg)\n",
    "\n",
    "printArgs()\n"
   ]
  },
  {
   "cell_type": "code",
   "execution_count": null,
   "metadata": {
    "collapsed": true
   },
   "outputs": [],
   "source": []
  },
  {
   "cell_type": "markdown",
   "metadata": {},
   "source": [
    "### 15.1.1 How It Works "
   ]
  },
  {
   "cell_type": "markdown",
   "metadata": {},
   "source": [
    "### 15.1.2 The Docstring "
   ]
  },
  {
   "cell_type": "code",
   "execution_count": 12,
   "metadata": {
    "collapsed": false
   },
   "outputs": [
    {
     "name": "stdout",
     "output_type": "stream",
     "text": [
      "Help on function printArgs in module __main__:\n",
      "\n",
      "printArgs()\n",
      "    Print user arguments.\n",
      "\n"
     ]
    }
   ],
   "source": [
    "help(printArgs)"
   ]
  },
  {
   "cell_type": "markdown",
   "metadata": {},
   "source": [
    "## 15.2 Custom Functions with Arguments "
   ]
  },
  {
   "cell_type": "code",
   "execution_count": null,
   "metadata": {
    "collapsed": true
   },
   "outputs": [],
   "source": [
    "# %load script/deleteFCS.py\n",
    "# deleteFCS.py\n",
    "# Purpose: Clear workspace of unwanted files.\n",
    "# Usage: No arguments needed.\n",
    "import arcpy\n",
    "\n",
    "arcpy.env.workspace = 'C:/gispy/data/ch15/scratch'\n",
    "\n",
    "\n",
    "def delBuffFCS():\n",
    "    '''Delete feature classes with names containing \"Buff\".'''\n",
    "    fcs = arcpy.ListFeatureClasses('*Buff*')\n",
    "    for fc in fcs:\n",
    "        arcpy.Delete_management(fc)\n",
    "        print '{0} deleted.'.format(fc)\n",
    "\n",
    "\n",
    "def delNamedFCS(delString):\n",
    "    '''Delete feature classes with names containing delString.'''\n",
    "    wildcard = '*{0}*'.format(delString)\n",
    "    fcs = arcpy.ListFeatureClasses(wildcard)\n",
    "    for fc in fcs:\n",
    "        arcpy.Delete_management(fc)\n",
    "        print '{0} deleted.'.format(fc)\n",
    "\n",
    "delBuffFCS()\n",
    "delNamedFCS('Out')\n"
   ]
  },
  {
   "cell_type": "code",
   "execution_count": 18,
   "metadata": {
    "collapsed": false,
    "scrolled": true
   },
   "outputs": [
    {
     "name": "stdout",
     "output_type": "stream",
     "text": [
      "buffer.shp deleted.\n",
      "bufferBuff.shp deleted.\n",
      "bufferOut.shp deleted.\n",
      "coverBuff.shp deleted.\n",
      "firesBuff.shp deleted.\n",
      "no_damageBuff.shp deleted.\n",
      "parkLinesBuff.shp deleted.\n",
      "coverOut.shp deleted.\n",
      "firesOut.shp deleted.\n",
      "no_damageOut.shp deleted.\n",
      "parkLinesOut.shp deleted.\n"
     ]
    }
   ],
   "source": [
    "%run scriptPt/deleteFCS.py"
   ]
  },
  {
   "cell_type": "code",
   "execution_count": 24,
   "metadata": {
    "collapsed": false
   },
   "outputs": [
    {
     "ename": "SyntaxError",
     "evalue": "invalid syntax (<ipython-input-24-e70a29cda315>, line 1)",
     "output_type": "error",
     "traceback": [
      "\u001b[1;36m  File \u001b[1;32m\"<ipython-input-24-e70a29cda315>\"\u001b[1;36m, line \u001b[1;32m1\u001b[0m\n\u001b[1;33m    import ./scriptPt/batchBuff.py\u001b[0m\n\u001b[1;37m           ^\u001b[0m\n\u001b[1;31mSyntaxError\u001b[0m\u001b[1;31m:\u001b[0m invalid syntax\n"
     ]
    }
   ],
   "source": [
    "import scriptPt/batchBuff.py"
   ]
  },
  {
   "cell_type": "code",
   "execution_count": 25,
   "metadata": {
    "collapsed": false
   },
   "outputs": [
    {
     "name": "stdout",
     "output_type": "stream",
     "text": [
      "parkBuff.shp created.\n"
     ]
    }
   ],
   "source": [
    "batchBuffer('data', 'Polygon', 'Buff', '1 mile')"
   ]
  },
  {
   "cell_type": "code",
   "execution_count": 27,
   "metadata": {
    "collapsed": false
   },
   "outputs": [
    {
     "name": "stdout",
     "output_type": "stream",
     "text": [
      "c1Ring created.\n",
      "c2Ring created.\n",
      "data1Ring created.\n",
      "data2Ring created.\n",
      "data3Ring created.\n",
      "fireStationsRing created.\n",
      "ptdata4Ring created.\n",
      "sampleRing created.\n",
      "scatterRing created.\n",
      "schoolsRing created.\n",
      "shpRing created.\n"
     ]
    }
   ],
   "source": [
    "wSpace = 'data/tester.gdb'\n",
    "featureType = 'Point'\n",
    "outputSuffix = 'Ring'\n",
    "distance = '0.5 kilometers'\n",
    "batchBuffer(wSpace, featureType, outputSuffix, distance)"
   ]
  },
  {
   "cell_type": "markdown",
   "metadata": {},
   "source": [
    "### 15.2.1 Script Arguments vs. Functions Arguments "
   ]
  },
  {
   "cell_type": "code",
   "execution_count": null,
   "metadata": {
    "collapsed": true
   },
   "outputs": [],
   "source": [
    "# %load script/setEnv1.py\n",
    "# setEnv1.py\n",
    "# Purpose: Set arcpy environment properties.\n",
    "# Usage: No script arguments needed.\n",
    "import arcpy\n",
    "\n",
    "\n",
    "def setEnviron1():\n",
    "    '''Set arcpy workspace and overwriteOutput properties\n",
    "    to hard-coded values.'''\n",
    "    arcpy.env.workspace = 'C:/gispy/data/ch15'\n",
    "    arcpy.env.overwriteOutput = True\n",
    "setEnviron1()\n"
   ]
  },
  {
   "cell_type": "code",
   "execution_count": null,
   "metadata": {
    "collapsed": true
   },
   "outputs": [],
   "source": [
    "# %load script/setEnv2.py\n",
    "# setEnv2.py\n",
    "# Purpose: Set arcpy environment properties.\n",
    "# Usage: No script arguments needed.\n",
    "import arcpy\n",
    "\n",
    "\n",
    "def setEnviron2(workspace, overwriteVal):\n",
    "    '''Set arcpy workspace and overwriteOutput properties\n",
    "    based on function arguments.'''\n",
    "    arcpy.env.workspace = workspace\n",
    "    arcpy.env.overwriteOutput = overwriteVal\n",
    "\n",
    "wSpace = 'C:/gispy/data/ch15/tester.gdb'\n",
    "overwrite = False\n",
    "setEnviron2(wSpace, overwrite)\n"
   ]
  },
  {
   "cell_type": "code",
   "execution_count": null,
   "metadata": {
    "collapsed": true
   },
   "outputs": [],
   "source": [
    "# %load script/setEnv3.py\n",
    "# setEnv3.py\n",
    "# Purpose: Set arcpy environment properties.\n",
    "# Usage: workspace overwrite_output_value\n",
    "# Example input: C:/gispy/data/ch15/scratch True\n",
    "import arcpy, sys\n",
    "\n",
    "wSpace = sys.argv[1]\n",
    "overwrite = sys.argv[2]\n",
    "\n",
    "\n",
    "def setEnviron3(workspace, overwriteVal):\n",
    "    '''Set arcpy workspace and overwriteOutput properties\n",
    "    based on function arguments.'''\n",
    "    arcpy.env.workspace = workspace\n",
    "    arcpy.env.overwriteOutput = overwriteVal\n",
    "\n",
    "setEnviron3(wSpace, overwrite)\n"
   ]
  },
  {
   "cell_type": "markdown",
   "metadata": {},
   "source": [
    "### 15.2.2 Optional Arguments "
   ]
  },
  {
   "cell_type": "code",
   "execution_count": 32,
   "metadata": {
    "collapsed": false
   },
   "outputs": [],
   "source": [
    "def setEnviron4(workspace, overwriteVal = True):\n",
    "  arcpy.env.workspace = workspace\n",
    "  arcpy.env.overwriteOutput = overwriteVal"
   ]
  },
  {
   "cell_type": "code",
   "execution_count": 33,
   "metadata": {
    "collapsed": true
   },
   "outputs": [],
   "source": [
    "setEnviron4('C:/gispy/data/ch15', False)"
   ]
  },
  {
   "cell_type": "code",
   "execution_count": 34,
   "metadata": {
    "collapsed": true
   },
   "outputs": [],
   "source": [
    "setEnviron4('C:/gispy/data/ch15')"
   ]
  },
  {
   "cell_type": "markdown",
   "metadata": {},
   "source": [
    "## 15.3 Returning Values "
   ]
  },
  {
   "cell_type": "code",
   "execution_count": 36,
   "metadata": {
    "collapsed": true
   },
   "outputs": [],
   "source": [
    "# %load scriptPt/fieldHandler.py\n",
    "# fieldHandler.py\n",
    "# Purpose: Work with field names.\n",
    "# Usage: No script arguments need.\n",
    "import arcpy\n",
    "\n",
    "\n",
    "def getFieldNames(data):\n",
    "    '''Get a list of field names.'''\n",
    "    fields = arcpy.ListFields(data)\n",
    "    fnames = [f.name for f in fields]\n",
    "    return fnames\n",
    "\n",
    "\n",
    "def fieldExists(data, name):\n",
    "    '''Check if a given field name already exists.'''\n",
    "    fieldNames = getFieldNames(data)\n",
    "    isThere = name in fieldNames\n",
    "    return isThere"
   ]
  },
  {
   "cell_type": "code",
   "execution_count": null,
   "metadata": {
    "collapsed": true
   },
   "outputs": [],
   "source": [
    "inputF = 'C:/gispy/data/ch15/park.shp'\n",
    "names = getFieldNames(inputF)\n",
    "fieldName = 'COVER'\n",
    "result = fieldExists(inputF, fieldName)\n",
    "print 'Does field \"{0}\" exist? {1}'.format(fieldName, result)\n",
    "result = fieldExists(inputF, 'Value')\n",
    "print 'Does field \"Value\" exist? {0}'.format(result)"
   ]
  },
  {
   "cell_type": "code",
   "execution_count": 38,
   "metadata": {
    "collapsed": false
   },
   "outputs": [
    {
     "data": {
      "text/plain": [
       "[u'FID', u'Shape', u'COVER', u'RECNO']"
      ]
     },
     "execution_count": 38,
     "metadata": {},
     "output_type": "execute_result"
    }
   ],
   "source": [
    "names = getFieldNames('data/park.shp')\n",
    "names"
   ]
  },
  {
   "cell_type": "code",
   "execution_count": 40,
   "metadata": {
    "collapsed": false
   },
   "outputs": [
    {
     "data": {
      "text/plain": [
       "True"
      ]
     },
     "execution_count": 40,
     "metadata": {},
     "output_type": "execute_result"
    }
   ],
   "source": [
    "result = fieldExists('data/park.shp', 'COVER')\n",
    "result"
   ]
  },
  {
   "cell_type": "code",
   "execution_count": null,
   "metadata": {
    "collapsed": true
   },
   "outputs": [],
   "source": [
    "# %load script/oops.py\n",
    "# oops.py\n",
    "# Purpose: Count the number records in an intersections\n",
    "#             between two datasets and delete the intersection file \n",
    "#             (but the intersection output is not deleted since this line\n",
    "#              of code is placed after the 'return' statement).\n",
    "import arcpy\n",
    "arcpy.env.workspace = 'C:/gispy/data/ch15/tester.gdb'\n",
    "arcpy.env.overwriteOutput = True\n",
    "\n",
    "\n",
    "def countIntersection(dataList):\n",
    "    '''Calculate the number of features in the intersection.'''\n",
    "    tempData = 'intersectOut'\n",
    "    arcpy.Intersect_analysis(dataList, tempData)\n",
    "    res = arcpy.GetCount_management(tempData)\n",
    "    print '{0} created.'.format(tempData)\n",
    "    return int(res.getOutput(0))\n",
    "    # uh-oh! The delection is not going to happen.\n",
    "    arcpy.Delete_management(tempData)\n",
    "    print '{0} deleted.'.format(tempData)\n",
    "\n",
    "inputData = ['schools', 'workzones']\n",
    "count = countIntersection(inputData)\n",
    "print 'There are {0} intersections.'.format(count)\n"
   ]
  },
  {
   "cell_type": "code",
   "execution_count": 44,
   "metadata": {
    "collapsed": false
   },
   "outputs": [
    {
     "name": "stdout",
     "output_type": "stream",
     "text": [
      "intersectOut created.\n",
      "There are 3 intersections.\n"
     ]
    }
   ],
   "source": [
    "%run scriptPt/oops.py"
   ]
  },
  {
   "cell_type": "code",
   "execution_count": null,
   "metadata": {
    "collapsed": true
   },
   "outputs": [],
   "source": [
    "# %load script/age.py\n",
    "# age.py\n",
    "# Purpose: Calculate age.\n",
    "# Usage: No script arguments needed.\n",
    "import datetime\n",
    "\n",
    "\n",
    "def calculateAge(yr, mo, day):\n",
    "    '''Calculate age based on the given birth date.'''\n",
    "    # Get datetime objects for birth date and today\n",
    "    born = datetime.date(yr, mo, day)\n",
    "    today = datetime.date.today()\n",
    "    # Get this year's birthday and handle leap year exceptions\n",
    "    try:\n",
    "        birthday = born.replace(year=today.year)\n",
    "    except ValueError:\n",
    "        birthday = born.replace(year=today.year, day=born.day-1)\n",
    "    # Return age\n",
    "    if birthday < today:\n",
    "        return today.year - born.year\n",
    "    else:\n",
    "        return today.year - born.year - 1\n",
    "\n",
    "print calculateAge(2012, 4, 20)\n"
   ]
  },
  {
   "cell_type": "code",
   "execution_count": 46,
   "metadata": {
    "collapsed": false
   },
   "outputs": [
    {
     "name": "stdout",
     "output_type": "stream",
     "text": [
      "4\n"
     ]
    }
   ],
   "source": [
    " %run scriptPt/age.py"
   ]
  },
  {
   "cell_type": "markdown",
   "metadata": {},
   "source": [
    "### 15.3.1 A Common Mistake: Where Did the None Come from? "
   ]
  },
  {
   "cell_type": "code",
   "execution_count": 49,
   "metadata": {
    "collapsed": true
   },
   "outputs": [
    {
     "name": "stdout",
     "output_type": "stream",
     "text": [
      "Run function 1...\n",
      "Min positive number = 0\n",
      "positiveMinV1 returned: None\n",
      "Run function 2...\n",
      "positiveMinV2 returned: 0\n"
     ]
    }
   ],
   "source": [
    "# %load script/returnVSprint.py\n",
    "# returnVSprint.py\n",
    "# Purpose: Demonstrate that the default return value is 'None'.\n",
    "# Usage: No script arguments needed.\n",
    "\n",
    "\n",
    "def positiveMinV1(numList):\n",
    "    '''Find the minimum positive number in the list'''\n",
    "    pos = []\n",
    "    for val in numList:\n",
    "        if val >= 0:\n",
    "            pos.append(val)\n",
    "    positiveMin = min(pos)\n",
    "    print 'Min positive number = {0}'.format(positiveMin)\n",
    "\n",
    "theList = [8, 2.5, 0, 12, 5]\n",
    "print 'Run function 1...'\n",
    "value = positiveMinV1(theList)\n",
    "print 'positiveMinV1 returned: {0}'.format(value)\n",
    "\n",
    "\n",
    "def positiveMinV2(numList):\n",
    "    pos = []\n",
    "    for val in numList:\n",
    "        if val >= 0:\n",
    "            pos.append(val)\n",
    "    return min(pos)\n",
    "  \n",
    "print 'Run function 2...'\n",
    "value = positiveMinV2(theList)\n",
    "print 'positiveMinV2 returned: {0}'.format(value)\n"
   ]
  },
  {
   "cell_type": "code",
   "execution_count": 52,
   "metadata": {
    "collapsed": false
   },
   "outputs": [
    {
     "name": "stdout",
     "output_type": "stream",
     "text": [
      "Run function 1...\n",
      "Min positive number = 0\n",
      "positiveMinV1 returned: None\n",
      "Run function 2...\n",
      "positiveMinV2 returned: 0\n"
     ]
    }
   ],
   "source": [
    "%run scriptPt/returnVSprint.py"
   ]
  },
  {
   "cell_type": "markdown",
   "metadata": {},
   "source": [
    "### 15.3.2 Returning Multiple Values "
   ]
  },
  {
   "cell_type": "code",
   "execution_count": null,
   "metadata": {
    "collapsed": true
   },
   "outputs": [],
   "source": [
    "# %load script/returnMultVals.py\n",
    "# returnMultVals.py\n",
    "# Purpose: Find the midpoints of two line segments.\n",
    "# Usage: No arguments needed.\n",
    "\n",
    "\n",
    "def midPoint(x1, y1, x2, y2):\n",
    "    '''Calculate the midpoint of line segment (x1,y1), (x2,y2).'''\n",
    "    xVal = (x1 + x2)/2.0\n",
    "    yVal = (y1 + y2)/2.0\n",
    "    return xVal, yVal\n",
    "# Find the midpoint of the line from (3,5) to (2,1).\n",
    "# Capture the return values with two variables.\n",
    "x, y = midPoint(3, 5, 2, 1)\n",
    "print 'Midpoint of line segment (3,5),(2,1):'\n",
    "print 'x = {0}'.format(x)\n",
    "print 'y = {0}'.format(y)\n",
    "\n",
    "# Find the midpoint of the line from (1,1) to (3,5).\n",
    "# Capture the return values with one variable.\n",
    "t = midPoint(1, 1, 3, 5)\n",
    "print 'Midpoint of line segment (1,1),(3,5):'\n",
    "print 'x = {0}'.format(t[0])\n",
    "print 'y = {0}'.format(t[1])\n"
   ]
  },
  {
   "cell_type": "code",
   "execution_count": 54,
   "metadata": {
    "collapsed": false
   },
   "outputs": [
    {
     "name": "stdout",
     "output_type": "stream",
     "text": [
      "Midpoint of line segment (3,5),(2,1):\n",
      "x = 2.5\n",
      "y = 3.0\n",
      "Midpoint of line segment (1,1),(3,5):\n",
      "x = 2.0\n",
      "y = 3.0\n"
     ]
    }
   ],
   "source": [
    "%run scriptPt/returnMultVals.py"
   ]
  },
  {
   "cell_type": "code",
   "execution_count": null,
   "metadata": {
    "collapsed": true
   },
   "outputs": [],
   "source": [
    "# %load script/walkCount.py\n",
    "# walkCount.py\n",
    "# Purpose: Walk and get the record count for each file, where possible.\n",
    "# Usage: input_directory\n",
    "# Example input: C:/gispy/data/ch15\n",
    "import arcpy, datetime, sys\n",
    "mydir = sys.argv[1]\n",
    "\n",
    "\n",
    "def diffTime(start, end):\n",
    "    '''Calculate the difference between two datetime objects'''\n",
    "    difference = end - start\n",
    "    weeks, days = divmod(difference.days, 7)\n",
    "    minutes, seconds = divmod(difference.seconds, 60)\n",
    "    hours, minutes = divmod(minutes, 60)\n",
    "    return weeks, days, hours, minutes, seconds\n",
    "\n",
    "before = datetime.datetime.now()\n",
    "for root, dirs, files in arcpy.da.Walk(mydir):\n",
    "    for f in files:\n",
    "        try:\n",
    "            count = arcpy.GetCount_management(root + \"/\" + f)\n",
    "            print '{0}/{1}  Count = {2}'.format(root, f, count)\n",
    "        except arcpy.ExecuteError:\n",
    "            print arcpy.GetMessages()\n",
    "\n",
    "after = datetime.datetime.now()\n",
    "\n",
    "t = diffTime(before, after)\n",
    "\n",
    "print 'Time elapsed: {0} weeks, {1} days, {2}:{3}:{4}'.format(t[0], t[1], t[2], t[3], t[4])\n"
   ]
  },
  {
   "cell_type": "code",
   "execution_count": 57,
   "metadata": {
    "collapsed": false
   },
   "outputs": [
    {
     "name": "stdout",
     "output_type": "stream",
     "text": [
      "data/park.shp  Count = 426\n",
      "data/parkBuff.shp  Count = 426\n",
      "data/parkBuffBuff.shp  Count = 426\n",
      "D:\\BOOKS\\GISen\\_PYTHON\\PythonForArcGIS\\SF_PFA\\ch15\\data\\scratch/buffer.shp  Count = 426\n",
      "D:\\BOOKS\\GISen\\_PYTHON\\PythonForArcGIS\\SF_PFA\\ch15\\data\\scratch/bufferBuff.shp  Count = 426\n",
      "D:\\BOOKS\\GISen\\_PYTHON\\PythonForArcGIS\\SF_PFA\\ch15\\data\\scratch/bufferOut.shp  Count = 426\n",
      "D:\\BOOKS\\GISen\\_PYTHON\\PythonForArcGIS\\SF_PFA\\ch15\\data\\scratch/cover.shp  Count = 426\n",
      "D:\\BOOKS\\GISen\\_PYTHON\\PythonForArcGIS\\SF_PFA\\ch15\\data\\scratch/coverBuff.shp  Count = 426\n",
      "D:\\BOOKS\\GISen\\_PYTHON\\PythonForArcGIS\\SF_PFA\\ch15\\data\\scratch/coverOut.shp  Count = 426\n",
      "D:\\BOOKS\\GISen\\_PYTHON\\PythonForArcGIS\\SF_PFA\\ch15\\data\\scratch/fires.shp  Count = 6\n",
      "D:\\BOOKS\\GISen\\_PYTHON\\PythonForArcGIS\\SF_PFA\\ch15\\data\\scratch/firesBuff.shp  Count = 5\n",
      "D:\\BOOKS\\GISen\\_PYTHON\\PythonForArcGIS\\SF_PFA\\ch15\\data\\scratch/firesOut.shp  Count = 5\n",
      "D:\\BOOKS\\GISen\\_PYTHON\\PythonForArcGIS\\SF_PFA\\ch15\\data\\scratch/no_damage.shp  Count = 435\n",
      "D:\\BOOKS\\GISen\\_PYTHON\\PythonForArcGIS\\SF_PFA\\ch15\\data\\scratch/no_damageBuff.shp  Count = 425\n",
      "D:\\BOOKS\\GISen\\_PYTHON\\PythonForArcGIS\\SF_PFA\\ch15\\data\\scratch/no_damageOut.shp  Count = 425\n",
      "D:\\BOOKS\\GISen\\_PYTHON\\PythonForArcGIS\\SF_PFA\\ch15\\data\\scratch/parkLines.shp  Count = 530\n",
      "D:\\BOOKS\\GISen\\_PYTHON\\PythonForArcGIS\\SF_PFA\\ch15\\data\\scratch/parkLinesBuff.shp  Count = 530\n",
      "D:\\BOOKS\\GISen\\_PYTHON\\PythonForArcGIS\\SF_PFA\\ch15\\data\\scratch/parkLinesOut.shp  Count = 530\n",
      "D:\\BOOKS\\GISen\\_PYTHON\\PythonForArcGIS\\SF_PFA\\ch15\\data\\tester.gdb/c1  Count = 100\n",
      "D:\\BOOKS\\GISen\\_PYTHON\\PythonForArcGIS\\SF_PFA\\ch15\\data\\tester.gdb/c2  Count = 100\n",
      "D:\\BOOKS\\GISen\\_PYTHON\\PythonForArcGIS\\SF_PFA\\ch15\\data\\tester.gdb/data1  Count = 100\n",
      "D:\\BOOKS\\GISen\\_PYTHON\\PythonForArcGIS\\SF_PFA\\ch15\\data\\tester.gdb/data2  Count = 100\n",
      "D:\\BOOKS\\GISen\\_PYTHON\\PythonForArcGIS\\SF_PFA\\ch15\\data\\tester.gdb/data3  Count = 100\n",
      "D:\\BOOKS\\GISen\\_PYTHON\\PythonForArcGIS\\SF_PFA\\ch15\\data\\tester.gdb/fireStations  Count = 4\n",
      "D:\\BOOKS\\GISen\\_PYTHON\\PythonForArcGIS\\SF_PFA\\ch15\\data\\tester.gdb/Line0  Count = 1\n",
      "D:\\BOOKS\\GISen\\_PYTHON\\PythonForArcGIS\\SF_PFA\\ch15\\data\\tester.gdb/Line1  Count = 1\n",
      "D:\\BOOKS\\GISen\\_PYTHON\\PythonForArcGIS\\SF_PFA\\ch15\\data\\tester.gdb/Line2  Count = 1\n",
      "D:\\BOOKS\\GISen\\_PYTHON\\PythonForArcGIS\\SF_PFA\\ch15\\data\\tester.gdb/park  Count = 426\n",
      "D:\\BOOKS\\GISen\\_PYTHON\\PythonForArcGIS\\SF_PFA\\ch15\\data\\tester.gdb/ptdata4  Count = 100\n",
      "D:\\BOOKS\\GISen\\_PYTHON\\PythonForArcGIS\\SF_PFA\\ch15\\data\\tester.gdb/sample  Count = 14\n",
      "D:\\BOOKS\\GISen\\_PYTHON\\PythonForArcGIS\\SF_PFA\\ch15\\data\\tester.gdb/scatter  Count = 100\n",
      "D:\\BOOKS\\GISen\\_PYTHON\\PythonForArcGIS\\SF_PFA\\ch15\\data\\tester.gdb/schools  Count = 8\n",
      "D:\\BOOKS\\GISen\\_PYTHON\\PythonForArcGIS\\SF_PFA\\ch15\\data\\tester.gdb/trail  Count = 1\n",
      "Executing: GetCount D:\\BOOKS\\GISen\\_PYTHON\\PythonForArcGIS\\SF_PFA\\ch15\\data\\tester.gdb/aspect\n",
      "Start Time: Tue Apr 26 12:30:21 2016\n",
      "ERROR 000229: Cannot open D:\\BOOKS\\GISen\\_PYTHON\\PythonForArcGIS\\SF_PFA\\ch15\\data\\tester.gdb/aspect\n",
      "Failed to execute (GetCount).\n",
      "Failed at Tue Apr 26 12:30:21 2016 (Elapsed Time: 0.00 seconds)\n",
      "D:\\BOOKS\\GISen\\_PYTHON\\PythonForArcGIS\\SF_PFA\\ch15\\data\\tester.gdb/regions2  Count = 426\n",
      "D:\\BOOKS\\GISen\\_PYTHON\\PythonForArcGIS\\SF_PFA\\ch15\\data\\tester.gdb/workzones  Count = 7\n",
      "D:\\BOOKS\\GISen\\_PYTHON\\PythonForArcGIS\\SF_PFA\\ch15\\data\\tester.gdb/regions1  Count = 1\n",
      "D:\\BOOKS\\GISen\\_PYTHON\\PythonForArcGIS\\SF_PFA\\ch15\\data\\tester.gdb/shp  Count = 3\n",
      "D:\\BOOKS\\GISen\\_PYTHON\\PythonForArcGIS\\SF_PFA\\ch15\\data\\tester.gdb/smallWoods2  Count = 55\n",
      "D:\\BOOKS\\GISen\\_PYTHON\\PythonForArcGIS\\SF_PFA\\ch15\\data\\tester.gdb/c1Ring  Count = 100\n",
      "D:\\BOOKS\\GISen\\_PYTHON\\PythonForArcGIS\\SF_PFA\\ch15\\data\\tester.gdb/c2Ring  Count = 100\n",
      "D:\\BOOKS\\GISen\\_PYTHON\\PythonForArcGIS\\SF_PFA\\ch15\\data\\tester.gdb/data1Ring  Count = 100\n",
      "D:\\BOOKS\\GISen\\_PYTHON\\PythonForArcGIS\\SF_PFA\\ch15\\data\\tester.gdb/data2Ring  Count = 100\n",
      "D:\\BOOKS\\GISen\\_PYTHON\\PythonForArcGIS\\SF_PFA\\ch15\\data\\tester.gdb/data3Ring  Count = 100\n",
      "D:\\BOOKS\\GISen\\_PYTHON\\PythonForArcGIS\\SF_PFA\\ch15\\data\\tester.gdb/fireStationsRing  Count = 4\n",
      "D:\\BOOKS\\GISen\\_PYTHON\\PythonForArcGIS\\SF_PFA\\ch15\\data\\tester.gdb/ptdata4Ring  Count = 100\n",
      "D:\\BOOKS\\GISen\\_PYTHON\\PythonForArcGIS\\SF_PFA\\ch15\\data\\tester.gdb/sampleRing  Count = 14\n",
      "D:\\BOOKS\\GISen\\_PYTHON\\PythonForArcGIS\\SF_PFA\\ch15\\data\\tester.gdb/scatterRing  Count = 100\n",
      "D:\\BOOKS\\GISen\\_PYTHON\\PythonForArcGIS\\SF_PFA\\ch15\\data\\tester.gdb/schoolsRing  Count = 8\n",
      "D:\\BOOKS\\GISen\\_PYTHON\\PythonForArcGIS\\SF_PFA\\ch15\\data\\tester.gdb/shpRing  Count = 3\n",
      "D:\\BOOKS\\GISen\\_PYTHON\\PythonForArcGIS\\SF_PFA\\ch15\\data\\tester.gdb/intersectOut  Count = 3\n",
      "Time elapsed: 0 weeks, 0 days, 0:0:13\n"
     ]
    }
   ],
   "source": [
    " %run scriptPt/walkCount.py data"
   ]
  },
  {
   "cell_type": "markdown",
   "metadata": {},
   "source": [
    "## 15.4 When to Write Functions "
   ]
  },
  {
   "cell_type": "code",
   "execution_count": null,
   "metadata": {
    "collapsed": true
   },
   "outputs": [],
   "source": [
    "# %load script/scriptWithOutFunction.py\n",
    "# scriptWithFunction.py\n",
    "# Purpose: Call three tools (to find avg. nearest neighbor, intersection, and get count)\n",
    "#          Print the results from avg. nearest neighbor and get count without using a function.\n",
    "# Usage: No script arguments needed.\n",
    "\n",
    "import arcpy\n",
    "arcpy.env.workspace = 'C:/gispy/data/ch15/tester.gdb'\n",
    "arcpy.env.overwriteOutput = True\n",
    "\n",
    "res = arcpy.AverageNearestNeighbor_stats('schools')\n",
    "resList = res.getMessages().split('\\n')\n",
    "for message in resList:\n",
    "    if '...' not in message and 'Time:' not in message:\n",
    "        print message\n",
    "\n",
    "arcpy.Intersect_analysis(['schools', 'workzones'], 'intersectOutput')\n",
    "\n",
    "res = arcpy.GetCount_management('intersectOutput')\n",
    "resList = res.getMessages().split('\\n')\n",
    "for message in resList:\n",
    "    if '...' not in message and 'Time:' not in message:\n",
    "        print message\n"
   ]
  },
  {
   "cell_type": "code",
   "execution_count": null,
   "metadata": {
    "collapsed": false
   },
   "outputs": [
    {
     "name": "stdout",
     "output_type": "stream",
     "text": [
      "Executing: AverageNearestNeighbor data/tester.gdb\\schools EUCLIDEAN_DISTANCE NO_REPORT #\n",
      "\n",
      "  Average Nearest Neighbor Summary \n",
      "Observed Mean Distance:  9372.382897\n",
      "Expected Mean Distance:  4836.913036\n",
      "Nearest Neighbor Ratio:  1.937679   \n",
      "z-score:                 5.073760   \n",
      "p-value:                 0.000000   \n",
      "\n",
      "Distance measured in US_Feet\n",
      "\n",
      "Executing: GetCount data/tester.gdb\\intersectOutput\n",
      "Row Count = 3\n"
     ]
    }
   ],
   "source": [
    "%run scriptpt/scriptWithOutFunction.py"
   ]
  },
  {
   "cell_type": "code",
   "execution_count": null,
   "metadata": {
    "collapsed": true
   },
   "outputs": [],
   "source": [
    "# %load script/scriptWithFunction.py\n",
    "# scriptWithFunction.py (compare to scriptWithoutFunction.py)\n",
    "# Purpose: Call three tools (to find avg. nearest neighbor, intersection, and get count)\n",
    "#          Print the results from avg. nearest neighbor and get count using a function.\n",
    "# Usage: No script arguments needed.\n",
    "import arcpy\n",
    "arcpy.env.workspace = 'C:/gispy/data/ch15/tester.gdb'\n",
    "arcpy.env.overwriteOutput = True\n",
    "\n",
    "\n",
    "def reportResults(resultObj):\n",
    "    '''Print selected result messages.'''\n",
    "    resList = resultObj.getMessages().split('\\n')\n",
    "    arcpy.env.overwriteOutput = True\n",
    "    for message in resList:\n",
    "        if '...' not in message and 'Time:' not in message:\n",
    "            print message\n",
    "\n",
    "res = arcpy.AverageNearestNeighbor_stats('schools')\n",
    "reportResults(res)  # Call the function.\n",
    "\n",
    "arcpy.Intersect_analysis(['schools', 'workzones'], 'intersectOutput')\n",
    "\n",
    "res = arcpy.GetCount_management('intersectOutput')\n",
    "reportResults(res)  # Call the function.\n"
   ]
  },
  {
   "cell_type": "code",
   "execution_count": null,
   "metadata": {
    "collapsed": false
   },
   "outputs": [
    {
     "name": "stdout",
     "output_type": "stream",
     "text": [
      "Executing: AverageNearestNeighbor data/tester.gdb\\schools EUCLIDEAN_DISTANCE NO_REPORT #\n",
      "\n",
      "  Average Nearest Neighbor Summary \n",
      "Observed Mean Distance:  9372.382897\n",
      "Expected Mean Distance:  4836.913036\n",
      "Nearest Neighbor Ratio:  1.937679   \n",
      "z-score:                 5.073760   \n",
      "p-value:                 0.000000   \n",
      "\n",
      "Distance measured in US_Feet\n",
      "\n",
      "Executing: GetCount data/tester.gdb\\intersectOutput\n",
      "Row Count = 3\n"
     ]
    }
   ],
   "source": [
    "%run scriptPt/scriptWithFunction.py"
   ]
  },
  {
   "cell_type": "markdown",
   "metadata": {},
   "source": [
    "## 15.4.1 Where to Define "
   ]
  },
  {
   "cell_type": "code",
   "execution_count": null,
   "metadata": {
    "collapsed": true
   },
   "outputs": [],
   "source": []
  },
  {
   "cell_type": "markdown",
   "metadata": {},
   "source": [
    "## 15.5 Variables Inside and Outside of Functions "
   ]
  },
  {
   "cell_type": "code",
   "execution_count": null,
   "metadata": {
    "collapsed": true
   },
   "outputs": [],
   "source": []
  },
  {
   "cell_type": "markdown",
   "metadata": {},
   "source": [
    "## 15.5.1 Mutable Arguments Can Change "
   ]
  },
  {
   "cell_type": "code",
   "execution_count": 2,
   "metadata": {
    "collapsed": false
   },
   "outputs": [
    {
     "data": {
      "text/plain": [
       "['z', 'b', 'c']"
      ]
     },
     "execution_count": 2,
     "metadata": {},
     "output_type": "execute_result"
    }
   ],
   "source": [
    "myList = ['a','b','c']\n",
    "myList[0] = 'z'\n",
    "myList"
   ]
  },
  {
   "cell_type": "code",
   "execution_count": 3,
   "metadata": {
    "collapsed": false
   },
   "outputs": [],
   "source": [
    "myList.sort()"
   ]
  },
  {
   "cell_type": "code",
   "execution_count": 4,
   "metadata": {
    "collapsed": false,
    "scrolled": true
   },
   "outputs": [
    {
     "data": {
      "text/plain": [
       "['b', 'c', 'z']"
      ]
     },
     "execution_count": 4,
     "metadata": {},
     "output_type": "execute_result"
    }
   ],
   "source": [
    "myList"
   ]
  },
  {
   "cell_type": "code",
   "execution_count": 5,
   "metadata": {
    "collapsed": false
   },
   "outputs": [
    {
     "ename": "TypeError",
     "evalue": "'str' object does not support item assignment",
     "output_type": "error",
     "traceback": [
      "\u001b[1;31m---------------------------------------------------------------------------\u001b[0m",
      "\u001b[1;31mTypeError\u001b[0m                                 Traceback (most recent call last)",
      "\u001b[1;32m<ipython-input-5-018bf378477a>\u001b[0m in \u001b[0;36m<module>\u001b[1;34m()\u001b[0m\n\u001b[0;32m      1\u001b[0m \u001b[0mmyStr\u001b[0m \u001b[1;33m=\u001b[0m \u001b[1;34m'abc'\u001b[0m\u001b[1;33m\u001b[0m\u001b[0m\n\u001b[1;32m----> 2\u001b[1;33m \u001b[0mmyStr\u001b[0m\u001b[1;33m[\u001b[0m\u001b[1;36m0\u001b[0m\u001b[1;33m]\u001b[0m \u001b[1;33m=\u001b[0m \u001b[1;34m'z'\u001b[0m\u001b[1;33m\u001b[0m\u001b[0m\n\u001b[0m",
      "\u001b[1;31mTypeError\u001b[0m: 'str' object does not support item assignment"
     ]
    }
   ],
   "source": [
    "myStr = 'abc'\n",
    "myStr[0] = 'z'"
   ]
  },
  {
   "cell_type": "code",
   "execution_count": 6,
   "metadata": {
    "collapsed": false
   },
   "outputs": [
    {
     "data": {
      "text/plain": [
       "'zbc'"
      ]
     },
     "execution_count": 6,
     "metadata": {},
     "output_type": "execute_result"
    }
   ],
   "source": [
    "myStr.replace('a','z')"
   ]
  },
  {
   "cell_type": "code",
   "execution_count": 8,
   "metadata": {
    "collapsed": false
   },
   "outputs": [],
   "source": [
    "def augment(myList, myInt):\n",
    "  myList.append('some value')\n",
    "  myInt = myInt + 1"
   ]
  },
  {
   "cell_type": "code",
   "execution_count": 10,
   "metadata": {
    "collapsed": false
   },
   "outputs": [
    {
     "name": "stdout",
     "output_type": "stream",
     "text": [
      "['first entry']\n"
     ]
    }
   ],
   "source": [
    "aList = ['first entry']\n",
    "num = 5\n",
    "print aList"
   ]
  },
  {
   "cell_type": "code",
   "execution_count": 12,
   "metadata": {
    "collapsed": false
   },
   "outputs": [
    {
     "name": "stdout",
     "output_type": "stream",
     "text": [
      "5\n"
     ]
    }
   ],
   "source": [
    "print num"
   ]
  },
  {
   "cell_type": "code",
   "execution_count": 13,
   "metadata": {
    "collapsed": true
   },
   "outputs": [],
   "source": [
    "augment(aList, num)"
   ]
  },
  {
   "cell_type": "code",
   "execution_count": 15,
   "metadata": {
    "collapsed": false
   },
   "outputs": [
    {
     "name": "stdout",
     "output_type": "stream",
     "text": [
      "['first entry', 'some value']\n"
     ]
    }
   ],
   "source": [
    "print aList"
   ]
  },
  {
   "cell_type": "code",
   "execution_count": 16,
   "metadata": {
    "collapsed": false
   },
   "outputs": [
    {
     "name": "stdout",
     "output_type": "stream",
     "text": [
      "5\n"
     ]
    }
   ],
   "source": [
    "print num"
   ]
  },
  {
   "cell_type": "code",
   "execution_count": 18,
   "metadata": {
    "collapsed": false
   },
   "outputs": [],
   "source": [
    "def augmentList(list1):\n",
    "  list2 = list(list1)\n",
    "  list2.append('some value')\n",
    "  return list2\n",
    "aList = ['first entry']\n",
    "result = augmentList(aList)"
   ]
  },
  {
   "cell_type": "code",
   "execution_count": 19,
   "metadata": {
    "collapsed": false
   },
   "outputs": [
    {
     "name": "stdout",
     "output_type": "stream",
     "text": [
      "['first entry']\n"
     ]
    }
   ],
   "source": [
    "print aList"
   ]
  },
  {
   "cell_type": "code",
   "execution_count": 20,
   "metadata": {
    "collapsed": false
   },
   "outputs": [
    {
     "name": "stdout",
     "output_type": "stream",
     "text": [
      "['first entry', 'some value']\n"
     ]
    }
   ],
   "source": [
    "print result"
   ]
  },
  {
   "cell_type": "markdown",
   "metadata": {},
   "source": [
    "## 15.5.2 Pass in Outside Variables "
   ]
  },
  {
   "cell_type": "code",
   "execution_count": null,
   "metadata": {
    "collapsed": true
   },
   "outputs": [],
   "source": [
    "# %load script/passArgs.py\n",
    "# passVars.py\n",
    "# Purpose: Demonstrate 'UnboundLocalError'.\n",
    "# Usage: No script arguments needed.\n",
    "x = 5\n",
    "\n",
    "\n",
    "def addOne():\n",
    "    '''Add one to x and print x.'''\n",
    "    x = x + 1\n",
    "    print 'In here', x\n",
    "\n",
    "print 'Out here', x\n",
    "addOne()"
   ]
  },
  {
   "cell_type": "code",
   "execution_count": 23,
   "metadata": {
    "collapsed": false
   },
   "outputs": [
    {
     "name": "stdout",
     "output_type": "stream",
     "text": [
      "Out here 5\n"
     ]
    },
    {
     "ename": "UnboundLocalError",
     "evalue": "local variable 'x' referenced before assignment",
     "output_type": "error",
     "traceback": [
      "\u001b[1;31m---------------------------------------------------------------------------\u001b[0m",
      "\u001b[1;31mUnboundLocalError\u001b[0m                         Traceback (most recent call last)",
      "\u001b[1;32mD:\\BOOKS\\GISen\\_PYTHON\\PythonForArcGIS\\SF_PFA\\ch15\\scriptPt\\passArgs.py\u001b[0m in \u001b[0;36m<module>\u001b[1;34m()\u001b[0m\n\u001b[0;32m     11\u001b[0m \u001b[1;33m\u001b[0m\u001b[0m\n\u001b[0;32m     12\u001b[0m \u001b[1;32mprint\u001b[0m \u001b[1;34m'Out here'\u001b[0m\u001b[1;33m,\u001b[0m \u001b[0mx\u001b[0m\u001b[1;33m\u001b[0m\u001b[0m\n\u001b[1;32m---> 13\u001b[1;33m \u001b[0maddOne\u001b[0m\u001b[1;33m(\u001b[0m\u001b[1;33m)\u001b[0m\u001b[1;33m\u001b[0m\u001b[0m\n\u001b[0m",
      "\u001b[1;32mD:\\BOOKS\\GISen\\_PYTHON\\PythonForArcGIS\\SF_PFA\\ch15\\scriptPt\\passArgs.py\u001b[0m in \u001b[0;36maddOne\u001b[1;34m()\u001b[0m\n\u001b[0;32m      7\u001b[0m \u001b[1;32mdef\u001b[0m \u001b[0maddOne\u001b[0m\u001b[1;33m(\u001b[0m\u001b[1;33m)\u001b[0m\u001b[1;33m:\u001b[0m\u001b[1;33m\u001b[0m\u001b[0m\n\u001b[0;32m      8\u001b[0m     \u001b[1;34m'''Add one to x and print x.'''\u001b[0m\u001b[1;33m\u001b[0m\u001b[0m\n\u001b[1;32m----> 9\u001b[1;33m     \u001b[0mx\u001b[0m \u001b[1;33m=\u001b[0m \u001b[0mx\u001b[0m \u001b[1;33m+\u001b[0m \u001b[1;36m1\u001b[0m\u001b[1;33m\u001b[0m\u001b[0m\n\u001b[0m\u001b[0;32m     10\u001b[0m     \u001b[1;32mprint\u001b[0m \u001b[1;34m'In here'\u001b[0m\u001b[1;33m,\u001b[0m \u001b[0mx\u001b[0m\u001b[1;33m\u001b[0m\u001b[0m\n\u001b[0;32m     11\u001b[0m \u001b[1;33m\u001b[0m\u001b[0m\n",
      "\u001b[1;31mUnboundLocalError\u001b[0m: local variable 'x' referenced before assignment"
     ]
    }
   ],
   "source": [
    "%run scriptPt/passArgs.py"
   ]
  },
  {
   "cell_type": "code",
   "execution_count": 24,
   "metadata": {
    "collapsed": true
   },
   "outputs": [],
   "source": [
    "def appendNext():\n",
    "  maxVal = max(myList)\n",
    "  maxVal = maxVal + 1\n",
    "  myList.append(maxVal)\n",
    "myList = [1,2,3]\n",
    "appendNext()"
   ]
  },
  {
   "cell_type": "code",
   "execution_count": 25,
   "metadata": {
    "collapsed": false
   },
   "outputs": [
    {
     "data": {
      "text/plain": [
       "[1, 2, 3, 4]"
      ]
     },
     "execution_count": 25,
     "metadata": {},
     "output_type": "execute_result"
    }
   ],
   "source": [
    "myList"
   ]
  },
  {
   "cell_type": "markdown",
   "metadata": {},
   "source": [
    "## 15.6 Key Terms "
   ]
  },
  {
   "cell_type": "code",
   "execution_count": null,
   "metadata": {
    "collapsed": true
   },
   "outputs": [],
   "source": []
  },
  {
   "cell_type": "markdown",
   "metadata": {},
   "source": [
    "## 15.7 Exercises "
   ]
  },
  {
   "cell_type": "code",
   "execution_count": null,
   "metadata": {
    "collapsed": true
   },
   "outputs": [],
   "source": []
  }
 ],
 "metadata": {
  "kernelspec": {
   "display_name": "Python 2",
   "language": "python",
   "name": "python2"
  },
  "language_info": {
   "codemirror_mode": {
    "name": "ipython",
    "version": 2
   },
   "file_extension": ".py",
   "mimetype": "text/x-python",
   "name": "python",
   "nbconvert_exporter": "python",
   "pygments_lexer": "ipython2",
   "version": "2.7.2"
  }
 },
 "nbformat": 4,
 "nbformat_minor": 0
}
