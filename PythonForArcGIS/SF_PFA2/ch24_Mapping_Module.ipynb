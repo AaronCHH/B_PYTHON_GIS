{
 "cells": [
  {
   "cell_type": "markdown",
   "metadata": {},
   "source": [
    "# 24 Mapping Module"
   ]
  },
  {
   "cell_type": "markdown",
   "metadata": {},
   "source": [
    "## 24.1 Map Documents"
   ]
  },
  {
   "cell_type": "code",
   "execution_count": 1,
   "metadata": {
    "collapsed": false
   },
   "outputs": [
    {
     "data": {
      "text/plain": [
       "<MapDocument object at 0x40dae30[0x41ae640]>"
      ]
     },
     "execution_count": 1,
     "metadata": {},
     "output_type": "execute_result"
    }
   ],
   "source": [
    "import arcpy\n",
    "myMap = 'ch24/data/maps/dataSourceExample.mxd'\n",
    "mxd = arcpy.mapping.MapDocument(myMap)\n",
    "mxd"
   ]
  },
  {
   "cell_type": "code",
   "execution_count": 2,
   "metadata": {
    "collapsed": false
   },
   "outputs": [
    {
     "data": {
      "text/plain": [
       "[<map layer u'potHoles'>, <map layer u'township'>]"
      ]
     },
     "execution_count": 2,
     "metadata": {},
     "output_type": "execute_result"
    }
   ],
   "source": [
    "arcpy.mapping.ListBrokenDataSources(mxd)"
   ]
  },
  {
   "cell_type": "code",
   "execution_count": 3,
   "metadata": {
    "collapsed": false
   },
   "outputs": [],
   "source": [
    "del mxd"
   ]
  },
  {
   "cell_type": "markdown",
   "metadata": {},
   "source": [
    "### Example 24.1:Export the layout view of a map document to a PNG image (Figure24.2)"
   ]
  },
  {
   "cell_type": "code",
   "execution_count": 4,
   "metadata": {
    "collapsed": false,
    "scrolled": false
   },
   "outputs": [
    {
     "ename": "AssertionError",
     "evalue": "Invalid MXD filename.",
     "output_type": "error",
     "traceback": [
      "\u001b[0;31m---------------------------------------------------------------------------\u001b[0m",
      "\u001b[0;31mAssertionError\u001b[0m                            Traceback (most recent call last)",
      "\u001b[0;32m<ipython-input-4-b9e12210457c>\u001b[0m in \u001b[0;36m<module>\u001b[0;34m()\u001b[0m\n\u001b[1;32m     14\u001b[0m \u001b[1;33m\u001b[0m\u001b[0m\n\u001b[1;32m     15\u001b[0m \u001b[1;31m# Create a mapDocument object.\u001b[0m\u001b[1;33m\u001b[0m\u001b[1;33m\u001b[0m\u001b[0m\n\u001b[0;32m---> 16\u001b[0;31m \u001b[0mmxd\u001b[0m \u001b[1;33m=\u001b[0m \u001b[0marcpy\u001b[0m\u001b[1;33m.\u001b[0m\u001b[0mmapping\u001b[0m\u001b[1;33m.\u001b[0m\u001b[0mMapDocument\u001b[0m\u001b[1;33m(\u001b[0m\u001b[0mmapName\u001b[0m\u001b[1;33m)\u001b[0m\u001b[1;33m\u001b[0m\u001b[0m\n\u001b[0m\u001b[1;32m     17\u001b[0m \u001b[1;33m\u001b[0m\u001b[0m\n\u001b[1;32m     18\u001b[0m \u001b[1;31m# Create an image of the map in 'Layout view'\u001b[0m\u001b[1;33m\u001b[0m\u001b[1;33m\u001b[0m\u001b[0m\n",
      "\u001b[0;32mC:\\Program Files (x86)\\ArcGIS\\Desktop10.1\\arcpy\\arcpy\\arcobjects\\mixins.py\u001b[0m in \u001b[0;36m__init__\u001b[0;34m(self, mxd)\u001b[0m\n\u001b[1;32m    607\u001b[0m            \u001b[0mA\u001b[0m \u001b[0mstring\u001b[0m \u001b[0mthat\u001b[0m \u001b[0mincludes\u001b[0m \u001b[0mthe\u001b[0m \u001b[0mfull\u001b[0m \u001b[0mpath\u001b[0m \u001b[1;32mand\u001b[0m \u001b[0mfile\u001b[0m \u001b[0mname\u001b[0m \u001b[0mof\u001b[0m \u001b[0man\u001b[0m \u001b[0mexisting\u001b[0m \u001b[0mmap\u001b[0m\u001b[1;33m\u001b[0m\u001b[0m\n\u001b[1;32m    608\u001b[0m            document ( .mxd ) or a string that contains the keyword CURRENT.\"\"\"\n\u001b[0;32m--> 609\u001b[0;31m         \u001b[1;32massert\u001b[0m \u001b[1;33m(\u001b[0m\u001b[0mos\u001b[0m\u001b[1;33m.\u001b[0m\u001b[0mpath\u001b[0m\u001b[1;33m.\u001b[0m\u001b[0misfile\u001b[0m\u001b[1;33m(\u001b[0m\u001b[0mmxd\u001b[0m\u001b[1;33m)\u001b[0m \u001b[1;32mor\u001b[0m \u001b[1;33m(\u001b[0m\u001b[0mmxd\u001b[0m\u001b[1;33m.\u001b[0m\u001b[0mlower\u001b[0m\u001b[1;33m(\u001b[0m\u001b[1;33m)\u001b[0m \u001b[1;33m==\u001b[0m \u001b[1;34m\"current\"\u001b[0m\u001b[1;33m)\u001b[0m\u001b[1;33m)\u001b[0m\u001b[1;33m,\u001b[0m \u001b[0mgp\u001b[0m\u001b[1;33m.\u001b[0m\u001b[0mgetIDMessage\u001b[0m\u001b[1;33m(\u001b[0m\u001b[1;36m89004\u001b[0m\u001b[1;33m,\u001b[0m \u001b[1;34m\"Invalid MXD filename\"\u001b[0m\u001b[1;33m)\u001b[0m\u001b[1;33m\u001b[0m\u001b[0m\n\u001b[0m\u001b[1;32m    610\u001b[0m         \u001b[0msuper\u001b[0m\u001b[1;33m(\u001b[0m\u001b[0mMapDocumentMethods\u001b[0m\u001b[1;33m,\u001b[0m \u001b[0mself\u001b[0m\u001b[1;33m)\u001b[0m\u001b[1;33m.\u001b[0m\u001b[0m__init__\u001b[0m\u001b[1;33m(\u001b[0m\u001b[0mmxd\u001b[0m\u001b[1;33m)\u001b[0m\u001b[1;33m\u001b[0m\u001b[0m\n\u001b[1;32m    611\u001b[0m     \u001b[1;33m@\u001b[0m\u001b[0mproperty\u001b[0m\u001b[1;33m\u001b[0m\u001b[0m\n",
      "\u001b[0;31mAssertionError\u001b[0m: Invalid MXD filename."
     ]
    }
   ],
   "source": [
    "# %load ch24/script2/mapToPhoto.py\n",
    "# mapToPhoto.py\n",
    "# Purpose: Export the 'Layout view' of a map as a PNG image.\n",
    "# Usage: fullpath_mxd_filename fullpath_output_png_filename\n",
    "# Sample input: C:/gispy/data/ch24/maps/landCover.mxd C:/gispy/scratch/getty_map.png\n",
    "# Note: Portable Network Graphic (PNG) is an image format used for Internet content.\n",
    "# Many other map export formats are available.\n",
    "\n",
    "import arcpy, sys\n",
    "\n",
    "# Full path names of an existing map and an image to create.\n",
    "mapName = sys.argv[1]\n",
    "imageName = sys.argv[2]\n",
    "\n",
    "# Create a mapDocument object.\n",
    "mxd = arcpy.mapping.MapDocument(mapName)\n",
    "\n",
    "# Create an image of the map in 'Layout view'\n",
    "arcpy.mapping.ExportToPNG(mxd, imageName)\n",
    "\n",
    "print '{0} created.'.format(imageName)\n",
    "\n",
    "# Delete the MapDocument object.\n",
    "del mxd\n"
   ]
  },
  {
   "cell_type": "markdown",
   "metadata": {},
   "source": [
    "### 24.1.1 Map Name or 'CURRENT'  Map"
   ]
  },
  {
   "cell_type": "code",
   "execution_count": null,
   "metadata": {
    "collapsed": true
   },
   "outputs": [],
   "source": [
    "mxd = arcpy.mapping.MapDocument('CURRENT')"
   ]
  },
  {
   "cell_type": "code",
   "execution_count": null,
   "metadata": {
    "collapsed": true
   },
   "outputs": [],
   "source": [
    "arcpy.env.workspace = 'C:/gispy/data/ch24/maps/'\n",
    "mapName = 'landCover.mxd'\n",
    "mxd = arcpy.mapping.MapDocument(mapName)"
   ]
  },
  {
   "cell_type": "code",
   "execution_count": null,
   "metadata": {
    "collapsed": true
   },
   "outputs": [],
   "source": [
    "# File name of an existing map\n",
    "mapName = arcpy.env.workspace + '/landCover.mxd'\n",
    "# Create a MapDocument object.\n",
    "mxd = arcpy.mapping.MapDocument(mapName)"
   ]
  },
  {
   "cell_type": "markdown",
   "metadata": {},
   "source": [
    "### 24.1.2 MapDocument Properties"
   ]
  },
  {
   "cell_type": "code",
   "execution_count": null,
   "metadata": {
    "collapsed": true
   },
   "outputs": [],
   "source": [
    "mxd = arcpy.mapping.MapDocument('CURRENT')"
   ]
  },
  {
   "cell_type": "code",
   "execution_count": null,
   "metadata": {
    "collapsed": true
   },
   "outputs": [],
   "source": [
    "mxd.author\n",
    "mxd.author = 'Wonderful me!'\n",
    "mxd.author"
   ]
  },
  {
   "cell_type": "code",
   "execution_count": null,
   "metadata": {
    "collapsed": true
   },
   "outputs": [],
   "source": [
    "mxd.activeView\n",
    "mxd.activeView = 'PAGE_LAYOUT'"
   ]
  },
  {
   "cell_type": "code",
   "execution_count": null,
   "metadata": {
    "collapsed": true
   },
   "outputs": [],
   "source": [
    "mxd.title\n",
    "mxd.title = 'Eastern US'\n",
    "arcpy.RefreshActiveView()"
   ]
  },
  {
   "cell_type": "code",
   "execution_count": null,
   "metadata": {
    "collapsed": true
   },
   "outputs": [],
   "source": [
    "mxd.relativePaths\n",
    "mxd.relativePaths = False"
   ]
  },
  {
   "cell_type": "code",
   "execution_count": null,
   "metadata": {
    "collapsed": true
   },
   "outputs": [],
   "source": [
    "mxd.filePath\n",
    "mxd.filePath = 'C:\\\\gispy\\\\data\\\\ch24\\\\maps\\\\US.mxd'"
   ]
  },
  {
   "cell_type": "markdown",
   "metadata": {},
   "source": [
    "### 24.1.3 Saving Map Documents"
   ]
  },
  {
   "cell_type": "code",
   "execution_count": null,
   "metadata": {
    "collapsed": true
   },
   "outputs": [],
   "source": [
    "mxd.saveACopy('modi fiedMap.mxd')"
   ]
  },
  {
   "cell_type": "code",
   "execution_count": null,
   "metadata": {
    "collapsed": true
   },
   "outputs": [],
   "source": [
    "import os\n",
    "os.startfile('C:/gispy/data/ch24/maps/landCover.mxd')"
   ]
  },
  {
   "cell_type": "code",
   "execution_count": null,
   "metadata": {
    "collapsed": true
   },
   "outputs": [],
   "source": [
    "mxd.save()"
   ]
  },
  {
   "cell_type": "code",
   "execution_count": null,
   "metadata": {
    "collapsed": true
   },
   "outputs": [],
   "source": []
  },
  {
   "cell_type": "markdown",
   "metadata": {},
   "source": [
    "## 24.2 Working with Data Frames"
   ]
  },
  {
   "cell_type": "code",
   "execution_count": null,
   "metadata": {
    "collapsed": true
   },
   "outputs": [],
   "source": [
    "dfs = arcpy.mapping.ListDataFrames(mxd)\n",
    "dfs"
   ]
  },
  {
   "cell_type": "code",
   "execution_count": null,
   "metadata": {
    "collapsed": true
   },
   "outputs": [],
   "source": [
    "# Get the first data frame.\n",
    "df = dfs[0]\n",
    "df.name\n",
    "# Get the second data frame.\n",
    "df2 = dfs[1]\n",
    "df2.name\n",
    "df.description\n",
    "df2.description = \"My very cool data frame\"\n",
    "df2.description\n",
    "df2.displayUnits"
   ]
  },
  {
   "cell_type": "code",
   "execution_count": null,
   "metadata": {
    "collapsed": true
   },
   "outputs": [],
   "source": [
    "ext = df2.extent\n",
    "ext.YMin"
   ]
  },
  {
   "cell_type": "code",
   "execution_count": null,
   "metadata": {
    "collapsed": true
   },
   "outputs": [],
   "source": [
    "arcpy.SelectLayerByAttribute_management('VA')\n",
    "df2.zoomToSelectedFeatures()"
   ]
  },
  {
   "cell_type": "code",
   "execution_count": null,
   "metadata": {
    "collapsed": true
   },
   "outputs": [],
   "source": [
    "for df in dfs:\n",
    "    # Print the name of the current data frame.\n",
    "    print df.name"
   ]
  },
  {
   "cell_type": "code",
   "execution_count": null,
   "metadata": {
    "collapsed": true
   },
   "outputs": [],
   "source": []
  },
  {
   "cell_type": "markdown",
   "metadata": {},
   "source": [
    "## 24.3 Working with Layers"
   ]
  },
  {
   "cell_type": "code",
   "execution_count": null,
   "metadata": {
    "collapsed": true
   },
   "outputs": [],
   "source": [
    "layers = arcpy.mapping.ListLayers(mxd)\n",
    "myLayer = layers[0]\n",
    "myLayer.dataSource"
   ]
  },
  {
   "cell_type": "code",
   "execution_count": null,
   "metadata": {
    "collapsed": true
   },
   "outputs": [],
   "source": [
    "myLayer.isFeatureLayer"
   ]
  },
  {
   "cell_type": "code",
   "execution_count": null,
   "metadata": {
    "collapsed": true
   },
   "outputs": [],
   "source": [
    "myLayer.isRasterLayer"
   ]
  },
  {
   "cell_type": "code",
   "execution_count": null,
   "metadata": {
    "collapsed": true
   },
   "outputs": [],
   "source": [
    "e = myLayer.getExtent()\n",
    "e"
   ]
  },
  {
   "cell_type": "code",
   "execution_count": null,
   "metadata": {
    "collapsed": true
   },
   "outputs": [],
   "source": [
    "e.YMin"
   ]
  },
  {
   "cell_type": "code",
   "execution_count": null,
   "metadata": {
    "collapsed": true
   },
   "outputs": [],
   "source": [
    "df.extent = myLayer.getExtent()"
   ]
  },
  {
   "cell_type": "code",
   "execution_count": null,
   "metadata": {
    "collapsed": true
   },
   "outputs": [],
   "source": [
    "layers = arcpy.mapping.ListLayers(mxd)\n",
    "for myLayer in layers:\n",
    "    print myLayer.name"
   ]
  },
  {
   "cell_type": "code",
   "execution_count": null,
   "metadata": {
    "collapsed": true
   },
   "outputs": [],
   "source": [
    "# Get a list of DataFrame objects.\n",
    "dfs = arcpy.mapping.ListDataFrames(mxd)\n",
    "# Get the first DataFrame object.\n",
    "df = dfs[0]\n",
    "# Get a list of Layer objects in this data frame.\n",
    "layers = arcpy.mapping.ListLayers(mxd, '*', df)\n",
    "for myLayer in layers:\n",
    "    print myLayer.name"
   ]
  },
  {
   "cell_type": "markdown",
   "metadata": {},
   "source": [
    "### 24.3.1 Moving, Removing, and Adding Layers"
   ]
  },
  {
   "cell_type": "code",
   "execution_count": null,
   "metadata": {
    "collapsed": true
   },
   "outputs": [],
   "source": [
    "mxd = arcpy.mapping.MapDocument('CURRENT')\n",
    "dfs = arcpy.mapping.ListDataFrames(mxd)\n",
    "df = dfs[0]\n",
    "lyrs = arcpy.mapping.ListLayers(mxd)"
   ]
  },
  {
   "cell_type": "code",
   "execution_count": null,
   "metadata": {
    "collapsed": true
   },
   "outputs": [],
   "source": [
    "layerToMove = lyrs[2]\n",
    "layerToMove.name\n",
    "referenceLayer = lyrs[0]\n",
    "referenceLayer.name"
   ]
  },
  {
   "cell_type": "code",
   "execution_count": null,
   "metadata": {
    "collapsed": true
   },
   "outputs": [],
   "source": [
    "arcpy.mapping.MoveLayer(df, referenceLayer, layerToMove, 'BEFORE')"
   ]
  },
  {
   "cell_type": "markdown",
   "metadata": {},
   "source": [
    "### Example 24.2:Remove the first layer from a map removeLayers.py"
   ]
  },
  {
   "cell_type": "code",
   "execution_count": null,
   "metadata": {
    "collapsed": true
   },
   "outputs": [],
   "source": [
    "# %load ch24/script2/removeLayers.py\n",
    "# removeLayers.py\n",
    "# Purpose: Remove the first layer in the table of contents.\n",
    "# Input: No arguments required.\n",
    "\n",
    "import arcpy\n",
    "\n",
    "# Get a MapDocument object.\n",
    "mxdName = 'layerManipExample2.mxd'\n",
    "mapPath = 'C:/gispy/data/ch24/maps/'\n",
    "mxd = arcpy.mapping.MapDocument(mapPath + mxdName)\n",
    "\n",
    "# Get a list of the DataFrame objects.\n",
    "dfs = arcpy.mapping.ListDataFrames(mxd)\n",
    "\n",
    "# Get the first DataFrame object.\n",
    "df = dfs[0]\n",
    "\n",
    "# Get a list of Layer objects in this data frame.\n",
    "lyrs = arcpy.mapping.ListLayers(mxd, '', df)\n",
    "\n",
    "# Get the first Layer object.\n",
    "layerToRemove = lyrs[0]\n",
    "\n",
    "# Remove the layer.\n",
    "arcpy.mapping.RemoveLayer(df, layerToRemove)\n",
    "\n",
    "# Save a copy of the map.\n",
    "copyName = 'C:/gispy/scratch/' + mxdName[:-4] + '_V2.mxd'\n",
    "mxd.saveACopy(copyName)\n",
    "print '{0} created.'.format(copyName)\n",
    "\n",
    "# Delete the <code>MapDocument</code> object to release the map.\n",
    "del mxd\n"
   ]
  },
  {
   "cell_type": "markdown",
   "metadata": {},
   "source": [
    "### Example 24.3:Adding a shapefile layer to a map addLayer.py"
   ]
  },
  {
   "cell_type": "code",
   "execution_count": null,
   "metadata": {
    "collapsed": true
   },
   "outputs": [],
   "source": [
    "# %load ch24/script2/addLayers.py\n",
    "# addLayer.py\n",
    "# Purpose: Add a data layer to a map.\n",
    "# Input: No arguments required.\n",
    "import arcpy\n",
    "\n",
    "# Initialize data variables.\n",
    "arcpy.env.workspace = 'C:/gispy/data/ch24/maps/'\n",
    "fileName = '../USstates/MA.shp'\n",
    "mapName = 'layerManipExample3.mxd'\n",
    "\n",
    "# Instantiate MapDocument and DataFrame objects.\n",
    "mxd = arcpy.mapping.MapDocument(arcpy.env.workspace + '/' +\n",
    "                                mapName)\n",
    "dfs = arcpy.mapping.ListDataFrames(mxd)\n",
    "\n",
    "# Get the first data frame.\n",
    "df = dfs[0]\n",
    "\n",
    "# Instantiate a Layer object.\n",
    "layerObj = arcpy.mapping.Layer(fileName)\n",
    "\n",
    "# Add the new layer to the map.\n",
    "arcpy.mapping.AddLayer(df, layerObj)\n",
    "\n",
    "# Save a copy of the map.\n",
    "copyName = 'C:/gispy/scratch/' + mapName[:-4] + '_V2.mxd'\n",
    "mxd.saveACopy(copyName)\n",
    "print '{0} created.'.format(copyName)\n",
    "\n",
    "# Delete the MapDocument object to release the map.\n",
    "del mxd\n"
   ]
  },
  {
   "cell_type": "markdown",
   "metadata": {},
   "source": [
    "### 24.3.2 Working with Symbology"
   ]
  },
  {
   "cell_type": "code",
   "execution_count": null,
   "metadata": {
    "collapsed": true
   },
   "outputs": [],
   "source": [
    "mxd = arcpy.mapping.MapDocument('CURRENT')\n",
    "dfs = arcpy.mapping.ListDataFrames(mxd)\n",
    "df = dfs[0]\n",
    "lyrs = arcpy.mapping.ListLayers(mxd)\n",
    "layerToModify = lyrs[0]\n",
    "layerToModify.symbologyType"
   ]
  },
  {
   "cell_type": "code",
   "execution_count": null,
   "metadata": {
    "collapsed": true
   },
   "outputs": [],
   "source": [
    "layerToModify.symbology"
   ]
  },
  {
   "cell_type": "code",
   "execution_count": null,
   "metadata": {
    "collapsed": true
   },
   "outputs": [],
   "source": [
    "layerToModify.symbologyType = 'GRADUATED_COLORS'"
   ]
  },
  {
   "cell_type": "code",
   "execution_count": null,
   "metadata": {
    "collapsed": true
   },
   "outputs": [],
   "source": [
    "srcLay = 'C:/gispy/data/ch24/symbolTraining/gradColorsNE.lyr'\n",
    "srcLayObj = arcpy.mapping.Layer(srcLay)\n",
    "arcpy.mapping.UpdateLayer(df, layerToModify, srcLayObj)\n",
    "layerToModify.symbologyType"
   ]
  },
  {
   "cell_type": "code",
   "execution_count": null,
   "metadata": {
    "collapsed": true
   },
   "outputs": [],
   "source": [
    "layerToModify.symbology.valueField\n",
    "layerToModify.symbology.valueField = 'AVE_FAM_SZ'\n",
    "arcpy.RefreshActiveView()\n",
    "layerToModify.symbology.numClasses\n",
    "layerToModify.symbology.numClasses = 3\n",
    "arcpy.RefreshActiveView()"
   ]
  },
  {
   "cell_type": "markdown",
   "metadata": {},
   "source": [
    "## 24.4 Managing Layout Elements"
   ]
  },
  {
   "cell_type": "code",
   "execution_count": null,
   "metadata": {
    "collapsed": true
   },
   "outputs": [],
   "source": [
    "mxd = arcpy.mapping.MapDocument('CURRENT')\n",
    "elems = arcpy.mapping.ListLayoutElements(mxd)\n",
    "for e in elems:\n",
    "    printe.name"
   ]
  },
  {
   "cell_type": "code",
   "execution_count": null,
   "metadata": {
    "collapsed": true
   },
   "outputs": [],
   "source": [
    "for e in elems:\n",
    "    if 'Title' in e.name:\n",
    "        title = e\n",
    "title"
   ]
  },
  {
   "cell_type": "code",
   "execution_count": null,
   "metadata": {
    "collapsed": true
   },
   "outputs": [],
   "source": [
    "arrow = arcpy.mapping.ListLayoutElements(mxd,'MAPSURROUND_ELEMENT', '*Arrow*')[0]\n",
    "arrow.name"
   ]
  },
  {
   "cell_type": "code",
   "execution_count": null,
   "metadata": {
    "collapsed": true
   },
   "outputs": [],
   "source": [
    "title.text\n",
    "title.text = 'USA'\n",
    "arcpy.RefreshActiveView()\n",
    "title.fontSize\n",
    "title.fontSize = 72\n",
    "arcpy.RefreshActiveView()"
   ]
  },
  {
   "cell_type": "code",
   "execution_count": null,
   "metadata": {
    "collapsed": true
   },
   "outputs": [],
   "source": [
    "dfs = arcpy.mapping.ListDataFrames(mxd)\n",
    "df = dfs[0]\n",
    "title.elementPositionX = df.elementPositionX + (df.elementWidth*0.5) - (title.elementWidth*0.5)\n",
    "arcpy.RefreshActiveView()"
   ]
  },
  {
   "cell_type": "code",
   "execution_count": null,
   "metadata": {
    "collapsed": true
   },
   "outputs": [],
   "source": [
    "title.elementPositionY = df.elementPositionY + df.elementHeight - title.elementHeight\n",
    "arcpy.RefreshActiveView()"
   ]
  },
  {
   "cell_type": "code",
   "execution_count": null,
   "metadata": {
    "collapsed": true
   },
   "outputs": [],
   "source": [
    "myExport = 'C:/gispy/scratch/noSurrounds.pdf'\n",
    "arcpy.mapping.ExportToPDF(mxd, myExport)"
   ]
  },
  {
   "cell_type": "markdown",
   "metadata": {},
   "source": [
    "## 24.5 Discussion"
   ]
  },
  {
   "cell_type": "markdown",
   "metadata": {},
   "source": [
    "## 24.6 Key Terms"
   ]
  },
  {
   "cell_type": "markdown",
   "metadata": {},
   "source": [
    "## 24.7 Exercises"
   ]
  },
  {
   "cell_type": "markdown",
   "metadata": {},
   "source": [
    "## Index"
   ]
  }
 ],
 "metadata": {
  "kernelspec": {
   "display_name": "Python 2",
   "language": "python",
   "name": "python2"
  },
  "language_info": {
   "codemirror_mode": {
    "name": "ipython",
    "version": 2
   },
   "file_extension": ".py",
   "mimetype": "text/x-python",
   "name": "python",
   "nbconvert_exporter": "python",
   "pygments_lexer": "ipython2",
   "version": "2.7.2"
  }
 },
 "nbformat": 4,
 "nbformat_minor": 1
}
