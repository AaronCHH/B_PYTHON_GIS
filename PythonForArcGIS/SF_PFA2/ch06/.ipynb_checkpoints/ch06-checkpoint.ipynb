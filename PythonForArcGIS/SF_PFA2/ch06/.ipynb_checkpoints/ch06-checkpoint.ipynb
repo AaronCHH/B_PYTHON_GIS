{
 "cells": [
  {
   "cell_type": "markdown",
   "metadata": {},
   "source": [
    "## 6.1 Calling Tools  "
   ]
  },
  {
   "cell_type": "code",
   "execution_count": 14,
   "metadata": {
    "collapsed": false
   },
   "outputs": [
    {
     "data": {
      "text/plain": [
       "'D:\\\\BOOKS\\\\GISen\\\\_PYTHON\\\\Python For ArcGIS\\\\SF_PFA\\\\ch06'"
      ]
     },
     "execution_count": 14,
     "metadata": {},
     "output_type": "execute_result"
    }
   ],
   "source": [
    "import os\n",
    "os.getcwd()"
   ]
  },
  {
   "cell_type": "markdown",
   "metadata": {},
   "source": [
    "```\n",
    "arcpy.env.workspace = 'C:/gispy/data/ch06/'\n",
    "inputRaster = 'getty_rast'\n",
    "outputFile = 'output.txt'\n",
    "arcpy.RasterToASCII_conversion(inputRaster, outputFile)\n",
    "```"
   ]
  },
  {
   "cell_type": "code",
   "execution_count": 15,
   "metadata": {
    "collapsed": true
   },
   "outputs": [],
   "source": [
    "import arcpy\n",
    "arcpy.env.workspace = './ws'\n",
    "inputRaster = './data.gdb/getty_rast'\n",
    "outputFile = 'output.txt'"
   ]
  },
  {
   "cell_type": "code",
   "execution_count": 16,
   "metadata": {
    "collapsed": false,
    "scrolled": true
   },
   "outputs": [
    {
     "ename": "ExecuteError",
     "evalue": "ERROR 010328: Syntax error at or near symbol SPACE.\nERROR 010267: Syntax error in parsing grid expression.\nFailed to execute (RasterToASCII).\n",
     "output_type": "error",
     "traceback": [
      "\u001b[1;31m---------------------------------------------------------------------------\u001b[0m",
      "\u001b[1;31mExecuteError\u001b[0m                              Traceback (most recent call last)",
      "\u001b[1;32m<ipython-input-16-161717a3a06f>\u001b[0m in \u001b[0;36m<module>\u001b[1;34m()\u001b[0m\n\u001b[1;32m----> 1\u001b[1;33m \u001b[0marcpy\u001b[0m\u001b[1;33m.\u001b[0m\u001b[0mRasterToASCII_conversion\u001b[0m\u001b[1;33m(\u001b[0m\u001b[0minputRaster\u001b[0m\u001b[1;33m,\u001b[0m \u001b[0moutputFile\u001b[0m\u001b[1;33m)\u001b[0m\u001b[1;33m\u001b[0m\u001b[0m\n\u001b[0m",
      "\u001b[1;32mC:\\Program Files (x86)\\ArcGIS\\Desktop10.1\\arcpy\\arcpy\\conversion.py\u001b[0m in \u001b[0;36mRasterToASCII\u001b[1;34m(in_raster, out_ascii_file)\u001b[0m\n\u001b[0;32m     97\u001b[0m         \u001b[1;32mreturn\u001b[0m \u001b[0mretval\u001b[0m\u001b[1;33m\u001b[0m\u001b[0m\n\u001b[0;32m     98\u001b[0m     \u001b[1;32mexcept\u001b[0m \u001b[0mException\u001b[0m\u001b[1;33m,\u001b[0m \u001b[0me\u001b[0m\u001b[1;33m:\u001b[0m\u001b[1;33m\u001b[0m\u001b[0m\n\u001b[1;32m---> 99\u001b[1;33m         \u001b[1;32mraise\u001b[0m \u001b[0me\u001b[0m\u001b[1;33m\u001b[0m\u001b[0m\n\u001b[0m\u001b[0;32m    100\u001b[0m \u001b[1;33m\u001b[0m\u001b[0m\n\u001b[0;32m    101\u001b[0m \u001b[1;33m@\u001b[0m\u001b[0mgptooldoc\u001b[0m\u001b[1;33m(\u001b[0m\u001b[1;34m'RasterToFloat_conversion'\u001b[0m\u001b[1;33m,\u001b[0m \u001b[0mNone\u001b[0m\u001b[1;33m)\u001b[0m\u001b[1;33m\u001b[0m\u001b[0m\n",
      "\u001b[1;31mExecuteError\u001b[0m: ERROR 010328: Syntax error at or near symbol SPACE.\nERROR 010267: Syntax error in parsing grid expression.\nFailed to execute (RasterToASCII).\n"
     ]
    }
   ],
   "source": [
    "arcpy.RasterToASCII_conversion(inputRaster, outputFile)"
   ]
  },
  {
   "cell_type": "code",
   "execution_count": 28,
   "metadata": {
    "collapsed": false
   },
   "outputs": [
    {
     "data": {
      "text/plain": [
       "<Result './scratch\\\\parkBuffer.shp'>"
      ]
     },
     "execution_count": 28,
     "metadata": {},
     "output_type": "execute_result"
    }
   ],
   "source": [
    "import arcpy\n",
    "arcpy.env.workspace = './scratch'\n",
    "arcpy.env.overwriteOutput = True\n",
    "arcpy.Buffer_analysis('data/park.shp', 'parkBuffer.shp', '0.25 miles')"
   ]
  },
  {
   "cell_type": "code",
   "execution_count": 34,
   "metadata": {
    "collapsed": false
   },
   "outputs": [
    {
     "ename": "NameError",
     "evalue": "name 'park' is not defined",
     "output_type": "error",
     "traceback": [
      "\u001b[1;31m---------------------------------------------------------------------------\u001b[0m",
      "\u001b[1;31mNameError\u001b[0m                                 Traceback (most recent call last)",
      "\u001b[1;32m<ipython-input-34-b8cbf1860551>\u001b[0m in \u001b[0;36m<module>\u001b[1;34m()\u001b[0m\n\u001b[0;32m      1\u001b[0m \u001b[0marcpy\u001b[0m\u001b[1;33m.\u001b[0m\u001b[0menv\u001b[0m\u001b[1;33m.\u001b[0m\u001b[0mworkspace\u001b[0m \u001b[1;33m=\u001b[0m \u001b[1;34m'./scratch'\u001b[0m\u001b[1;33m\u001b[0m\u001b[0m\n\u001b[1;32m----> 2\u001b[1;33m \u001b[0marcpy\u001b[0m\u001b[1;33m.\u001b[0m\u001b[0mBuffer_analysis\u001b[0m\u001b[1;33m(\u001b[0m\u001b[0mpark\u001b[0m\u001b[1;33m,\u001b[0m \u001b[1;34m'parkBuffer2.shp'\u001b[0m\u001b[1;33m,\u001b[0m \u001b[1;34m'0.25 miles'\u001b[0m\u001b[1;33m)\u001b[0m\u001b[1;33m\u001b[0m\u001b[0m\n\u001b[0m",
      "\u001b[1;31mNameError\u001b[0m: name 'park' is not defined"
     ]
    }
   ],
   "source": [
    "arcpy.env.workspace = './scratch'\n",
    "arcpy.Buffer_analysis('data/park.shp', 'parkBuffer2.shp', '0.25 miles')"
   ]
  },
  {
   "cell_type": "markdown",
   "metadata": {},
   "source": [
    "## 6.2 Help Resources  \n",
    "\n",
    "### 6.2.1 Tool Help  \n",
    "\n",
    "### 6.2.2 Code Snippets  \n",
    "\n",
    "## 6.3 Tool Parameters  \n",
    "\n",
    "### 6.3.1 Linear Units  \n",
    "\n",
    "### 6.3.2 Python Expressions as Input  "
   ]
  },
  {
   "cell_type": "code",
   "execution_count": 1,
   "metadata": {
    "collapsed": true
   },
   "outputs": [],
   "source": [
    "import arcpy"
   ]
  },
  {
   "cell_type": "code",
   "execution_count": null,
   "metadata": {
    "collapsed": false
   },
   "outputs": [],
   "source": [
    "data = './data/data2.shp'\n",
    "fieldName = 'result'\n",
    "expr = 5\n",
    "arcpy.CalculateField_management(data, fieldName, expr, 'PYTHON')"
   ]
  },
  {
   "cell_type": "code",
   "execution_count": null,
   "metadata": {
    "collapsed": false
   },
   "outputs": [],
   "source": [
    "data = './data/data2.shp'\n",
    "fieldName = 'result'\n",
    "expr = '2*!measure! - !value!'\n",
    "arcpy.CalculateField_management(data, fieldName, expr,'PYTHON')"
   ]
  },
  {
   "cell_type": "code",
   "execution_count": null,
   "metadata": {
    "collapsed": true
   },
   "outputs": [],
   "source": [
    "data = './data/special_regions.shp'\n",
    "fieldName = 'PolyArea'\n",
    "expr = '!shape.area!'\n",
    "arcpy.CalculateField_management(data, fieldName, expr,'PYTHON')"
   ]
  },
  {
   "cell_type": "markdown",
   "metadata": {},
   "source": [
    "### 6.3.3 Multivalue Inputs  "
   ]
  },
  {
   "cell_type": "code",
   "execution_count": null,
   "metadata": {
    "collapsed": true
   },
   "outputs": [],
   "source": [
    "inputFiles = ['park.shp', 'special_regions.shp', 'workzones.shp']\n",
    "arcpy.Merge_management(inputFiles, 'mergedData.shp')"
   ]
  },
  {
   "cell_type": "code",
   "execution_count": null,
   "metadata": {
    "collapsed": true
   },
   "outputs": [],
   "source": [
    "inputFiles = 'park.shp;special_regions.shp;workzones.shp'\n",
    "arcpy.Merge_management(inputFiles, 'mergedData2.shp')"
   ]
  },
  {
   "cell_type": "code",
   "execution_count": null,
   "metadata": {
    "collapsed": true
   },
   "outputs": [],
   "source": [
    "vt = arcpy.ValueTable()\n",
    "vt.addRow('park.shp')\n",
    "vt.addRow('special_regions.shp')\n",
    "vt.addRow('workzones.shp')\n",
    "arcpy.Merge_management(vt, 'mergedData3.shp')"
   ]
  },
  {
   "cell_type": "code",
   "execution_count": null,
   "metadata": {
    "collapsed": true
   },
   "outputs": [],
   "source": [
    "inputFiles = [['park.shp', 2], ['special_regions.shp', 2], ['workzones.shp',1]]\n",
    "arcpy.Intersect_analysis(inputFiles, 'intersectData.shp')"
   ]
  },
  {
   "cell_type": "code",
   "execution_count": null,
   "metadata": {
    "collapsed": true
   },
   "outputs": [],
   "source": [
    "vt = arcpy.ValueTable()\n",
    "vt.addRow('park.shp 2')\n",
    "vt.addRow('special_regions.shp 2')\n",
    "vt.addRow('workzones.shp 1')\n",
    "arcpy.Intersect_analysis(vt, 'intersectData.shp')"
   ]
  },
  {
   "cell_type": "code",
   "execution_count": null,
   "metadata": {
    "collapsed": true
   },
   "outputs": [],
   "source": []
  },
  {
   "cell_type": "markdown",
   "metadata": {},
   "source": [
    "### 6.3.4 Optional Parameters  "
   ]
  },
  {
   "cell_type": "code",
   "execution_count": null,
   "metadata": {
    "collapsed": true
   },
   "outputs": [],
   "source": [
    "arcpy.env.workspace = 'C:/gispy/data/ch06/'\n",
    "arcpy.env.overwriteOutput = True\n",
    "# Use default values for the last 6 args.\n",
    "arcpy.PolygonNeighbors_analysis('park.shp', 'PN.dbf')\n",
    "# Another way to use default values for the last 6 args.\n",
    "arcpy.PolygonNeighbors_analysis('park.shp', 'PN.dbf', '#', '#','#', '#','#', '#')"
   ]
  },
  {
   "cell_type": "code",
   "execution_count": null,
   "metadata": {
    "collapsed": true
   },
   "outputs": [],
   "source": [
    "# Use default values for the last 5 parameters.\n",
    "arcpy.PolygonNeighbors_analysis('park.shp', 'PN.dbf', 'COVER')"
   ]
  },
  {
   "cell_type": "code",
   "execution_count": null,
   "metadata": {
    "collapsed": true
   },
   "outputs": [],
   "source": [
    "# Use default value for in_fields,but set the value for area_overlap.\n",
    "arcpy.PolygonNeighbors_analysis('park.shp','PN.dbf','#','AREA_OVERLAP')"
   ]
  },
  {
   "cell_type": "code",
   "execution_count": null,
   "metadata": {
    "collapsed": true
   },
   "outputs": [],
   "source": []
  },
  {
   "cell_type": "markdown",
   "metadata": {},
   "source": [
    "## 6.4 Return Values and Result Objects  "
   ]
  },
  {
   "cell_type": "code",
   "execution_count": 1,
   "metadata": {
    "collapsed": true
   },
   "outputs": [],
   "source": [
    "import arcpy\n",
    "arcpy.env.workspace = './data'"
   ]
  },
  {
   "cell_type": "code",
   "execution_count": 2,
   "metadata": {
    "collapsed": true
   },
   "outputs": [],
   "source": [
    "pnResult = arcpy.PolygonNeighbors_analysis('park.shp', 'PN.dbf')"
   ]
  },
  {
   "cell_type": "code",
   "execution_count": 3,
   "metadata": {
    "collapsed": false
   },
   "outputs": [
    {
     "data": {
      "text/plain": [
       "arcpy.arcobjects.arcobjects.Result"
      ]
     },
     "execution_count": 3,
     "metadata": {},
     "output_type": "execute_result"
    }
   ],
   "source": [
    "type(pnResult)"
   ]
  },
  {
   "cell_type": "code",
   "execution_count": 4,
   "metadata": {
    "collapsed": false
   },
   "outputs": [
    {
     "name": "stdout",
     "output_type": "stream",
     "text": [
      "./data\\PN.dbf\n"
     ]
    }
   ],
   "source": [
    "print pnResult"
   ]
  },
  {
   "cell_type": "code",
   "execution_count": 6,
   "metadata": {
    "collapsed": false
   },
   "outputs": [
    {
     "data": {
      "text/plain": [
       "1"
      ]
     },
     "execution_count": 6,
     "metadata": {},
     "output_type": "execute_result"
    }
   ],
   "source": [
    " pnResult.outputCount"
   ]
  },
  {
   "cell_type": "code",
   "execution_count": 7,
   "metadata": {
    "collapsed": false
   },
   "outputs": [
    {
     "data": {
      "text/plain": [
       "<bound method Result.getOutput of <Result './data\\\\PN.dbf'>>"
      ]
     },
     "execution_count": 7,
     "metadata": {},
     "output_type": "execute_result"
    }
   ],
   "source": [
    "pnResult.getOutput"
   ]
  },
  {
   "cell_type": "code",
   "execution_count": 8,
   "metadata": {
    "collapsed": false
   },
   "outputs": [
    {
     "data": {
      "text/plain": [
       "u'./data\\\\PN.dbf'"
      ]
     },
     "execution_count": 8,
     "metadata": {},
     "output_type": "execute_result"
    }
   ],
   "source": [
    "pnResult.getOutput(0)"
   ]
  },
  {
   "cell_type": "code",
   "execution_count": 10,
   "metadata": {
    "collapsed": false
   },
   "outputs": [
    {
     "name": "stdout",
     "output_type": "stream",
     "text": [
      "./data\\outBuff.shp\n"
     ]
    }
   ],
   "source": [
    "res = arcpy.Buffer_analysis('park.shp', 'outBuff.shp', '4 miles')\n",
    "print res"
   ]
  },
  {
   "cell_type": "code",
   "execution_count": 11,
   "metadata": {
    "collapsed": false
   },
   "outputs": [
    {
     "name": "stdout",
     "output_type": "stream",
     "text": [
      "426\n"
     ]
    }
   ],
   "source": [
    "resGC = arcpy.GetCount_management('park.shp')\n",
    "print resGC"
   ]
  },
  {
   "cell_type": "code",
   "execution_count": 12,
   "metadata": {
    "collapsed": false,
    "scrolled": true
   },
   "outputs": [
    {
     "ename": "TypeError",
     "evalue": "unsupported operand type(s) for +: 'Result' and 'int'",
     "output_type": "error",
     "traceback": [
      "\u001b[1;31m---------------------------------------------------------------------------\u001b[0m",
      "\u001b[1;31mTypeError\u001b[0m                                 Traceback (most recent call last)",
      "\u001b[1;32m<ipython-input-12-af93c4d4198d>\u001b[0m in \u001b[0;36m<module>\u001b[1;34m()\u001b[0m\n\u001b[1;32m----> 1\u001b[1;33m \u001b[0mresGC\u001b[0m \u001b[1;33m+\u001b[0m \u001b[1;36m25\u001b[0m\u001b[1;33m\u001b[0m\u001b[0m\n\u001b[0m",
      "\u001b[1;31mTypeError\u001b[0m: unsupported operand type(s) for +: 'Result' and 'int'"
     ]
    }
   ],
   "source": [
    "resGC + 25"
   ]
  },
  {
   "cell_type": "code",
   "execution_count": 13,
   "metadata": {
    "collapsed": false
   },
   "outputs": [
    {
     "data": {
      "text/plain": [
       "u'426'"
      ]
     },
     "execution_count": 13,
     "metadata": {},
     "output_type": "execute_result"
    }
   ],
   "source": [
    "count = resGC.getOutput(0)\n",
    "count"
   ]
  },
  {
   "cell_type": "code",
   "execution_count": 14,
   "metadata": {
    "collapsed": false
   },
   "outputs": [
    {
     "ename": "TypeError",
     "evalue": "coercing to Unicode: need string or buffer, int found",
     "output_type": "error",
     "traceback": [
      "\u001b[1;31m---------------------------------------------------------------------------\u001b[0m",
      "\u001b[1;31mTypeError\u001b[0m                                 Traceback (most recent call last)",
      "\u001b[1;32m<ipython-input-14-06942de725ed>\u001b[0m in \u001b[0;36m<module>\u001b[1;34m()\u001b[0m\n\u001b[1;32m----> 1\u001b[1;33m \u001b[0mcount\u001b[0m \u001b[1;33m+\u001b[0m \u001b[1;36m25\u001b[0m\u001b[1;33m\u001b[0m\u001b[0m\n\u001b[0m",
      "\u001b[1;31mTypeError\u001b[0m: coercing to Unicode: need string or buffer, int found"
     ]
    }
   ],
   "source": [
    "count + 25"
   ]
  },
  {
   "cell_type": "code",
   "execution_count": 15,
   "metadata": {
    "collapsed": false
   },
   "outputs": [
    {
     "data": {
      "text/plain": [
       "451"
      ]
     },
     "execution_count": 15,
     "metadata": {},
     "output_type": "execute_result"
    }
   ],
   "source": [
    "int(count) + 25"
   ]
  },
  {
   "cell_type": "code",
   "execution_count": null,
   "metadata": {
    "collapsed": true
   },
   "outputs": [],
   "source": [
    "# %load avgNearNeighbor.py\n",
    "# Name: avgNearNeighbor.py\n",
    "# Purpose: Analyze crime data to determine if spatial patterns are\n",
    "#         statistically significant.\n",
    "\n",
    "import arcpy\n",
    "\n",
    "arcpy.env.workspace = 'C:/gispy/data/ch06'\n",
    "\n",
    "annResult = arcpy.AverageNearestNeighbor_stats('points.shp', 'Euclidean Distance')\n",
    "\n",
    "print 'Average Nearest Neighbor Output'\n",
    "print 'Nearest neighbor ratio: {0}'.format(annResult.getOutput(0))\n",
    "print 'z-score: {0}'.format(annResult.getOutput(1))\n",
    "print 'p-value: {0}'.format(annResult.getOutput(2))\n",
    "print 'Expected Mean Distance: {0}'.format(annResult.getOutput(3))\n",
    "print 'Observed Mean Distance: {0}'.format(annResult.getOutput(4))\n"
   ]
  },
  {
   "cell_type": "code",
   "execution_count": null,
   "metadata": {
    "collapsed": false
   },
   "outputs": [
    {
     "name": "stdout",
     "output_type": "stream",
     "text": [
      "Average Nearest Neighbor Output\n",
      "Nearest neighbor ratio: 0.853047\n",
      "z-score: -5.802495\n",
      "p-value: 0\n",
      "Expected Mean Distance: 753.825013\n",
      "Observed Mean Distance: 643.048013\n"
     ]
    }
   ],
   "source": [
    "%run avgNearNeighbor2.py"
   ]
  },
  {
   "cell_type": "markdown",
   "metadata": {},
   "source": [
    "## 6.5 Spatial Analyst Toolbox  "
   ]
  },
  {
   "cell_type": "markdown",
   "metadata": {},
   "source": [
    "### 6.5.1 Calling Spatial Analyst tools  "
   ]
  },
  {
   "cell_type": "code",
   "execution_count": 1,
   "metadata": {
    "collapsed": true
   },
   "outputs": [],
   "source": [
    "import arcpy"
   ]
  },
  {
   "cell_type": "code",
   "execution_count": 2,
   "metadata": {
    "collapsed": false
   },
   "outputs": [
    {
     "data": {
      "text/plain": [
       "u'CheckedOut'"
      ]
     },
     "execution_count": 2,
     "metadata": {},
     "output_type": "execute_result"
    }
   ],
   "source": [
    "arcpy.env.workspace = './data'\n",
    "arcpy.env.overwriteOutput = True\n",
    "inRast = 'getty_rast'\n",
    "arcpy.CheckOutExtension('Spatial')"
   ]
  },
  {
   "cell_type": "code",
   "execution_count": 3,
   "metadata": {
    "collapsed": false
   },
   "outputs": [],
   "source": [
    "outputRast = arcpy.sa.SquareRoot(inRast)"
   ]
  },
  {
   "cell_type": "code",
   "execution_count": 4,
   "metadata": {
    "collapsed": false
   },
   "outputs": [
    {
     "name": "stdout",
     "output_type": "stream",
     "text": [
      "D:\\BOOKS\\GISen\\_PYTHON\\PythonForArcGIS\\SF_PFA\\ch06\\data\\squar_ras1\n"
     ]
    }
   ],
   "source": [
    "print outputRast"
   ]
  },
  {
   "cell_type": "code",
   "execution_count": 5,
   "metadata": {
    "collapsed": false,
    "scrolled": true
   },
   "outputs": [
    {
     "data": {
      "text/plain": [
       "D:\\BOOKS\\GISen\\_PYTHON\\PythonForArcGIS\\SF_PFA\\ch06\\data\\squar_ras1"
      ]
     },
     "execution_count": 5,
     "metadata": {},
     "output_type": "execute_result"
    }
   ],
   "source": [
    "outputRast.save()\n",
    "outputRast"
   ]
  },
  {
   "cell_type": "code",
   "execution_count": 7,
   "metadata": {
    "collapsed": false
   },
   "outputs": [],
   "source": [
    "outputRast.save('./scratch/getty_sq')"
   ]
  },
  {
   "cell_type": "markdown",
   "metadata": {},
   "source": [
    "### 6.5.2 Importing spatial analyst  "
   ]
  },
  {
   "cell_type": "code",
   "execution_count": null,
   "metadata": {
    "collapsed": true
   },
   "outputs": [],
   "source": [
    "from arcpy.sa import *\n",
    "outputRast = arcpy.sa.SquareRoot(inRast)\n",
    "outputRast = SquareRoot(inRast)\n",
    "outputRast = Int(inRast)\n",
    "outputNum = int(myNum)"
   ]
  },
  {
   "cell_type": "markdown",
   "metadata": {},
   "source": [
    "### 6.5.3 Raster Calculator  "
   ]
  },
  {
   "cell_type": "code",
   "execution_count": 8,
   "metadata": {
    "collapsed": false
   },
   "outputs": [
    {
     "name": "stdout",
     "output_type": "stream",
     "text": [
      "Output raster written in ./data/rastSmall.gdb\n"
     ]
    }
   ],
   "source": [
    "import arcpy\n",
    "\n",
    "arcpy.env.overwriteOutput = True\n",
    "arcpy.env.workspace = './data/rastSmall.gdb'\n",
    "arcpy.CheckOutExtension('Spatial')\n",
    "\n",
    "outRast1 = arcpy.sa.Times(5, 'dataRast')\n",
    "outRast2 = arcpy.sa.Minus(outRast1, 2)\n",
    "outRast2.save('equationRast')\n",
    "\n",
    "print 'Output raster written in {0}'.format(arcpy.env.workspace)\n",
    "del outRast1, outRast2"
   ]
  },
  {
   "cell_type": "code",
   "execution_count": 9,
   "metadata": {
    "collapsed": true
   },
   "outputs": [],
   "source": [
    "rastObj = arcpy.Raster('dataRast')\n",
    "outRast = 5*rastObj - 2\n",
    "outRast.save('equationRast2')\n",
    "del outRast"
   ]
  },
  {
   "cell_type": "code",
   "execution_count": 10,
   "metadata": {
    "collapsed": true
   },
   "outputs": [],
   "source": [
    "r1 = arcpy.Raster('out1')\n",
    "r2 = arcpy.Raster('out2')\n",
    "r3 = arcpy.Raster('out3')\n",
    "outRast = (5*r1*r2*r3)/2\n",
    "outRast.save('output')\n",
    "del outRast"
   ]
  },
  {
   "cell_type": "markdown",
   "metadata": {},
   "source": [
    "## 6.6 Temporary Feature Layers  "
   ]
  },
  {
   "cell_type": "code",
   "execution_count": 1,
   "metadata": {
    "collapsed": true
   },
   "outputs": [],
   "source": [
    "import arcpy\n",
    "arcpy.env.workspace = './data'"
   ]
  },
  {
   "cell_type": "code",
   "execution_count": 2,
   "metadata": {
    "collapsed": false
   },
   "outputs": [
    {
     "data": {
      "text/plain": [
       "<Result 'tmpLayer'>"
      ]
     },
     "execution_count": 2,
     "metadata": {},
     "output_type": "execute_result"
    }
   ],
   "source": [
    "myData = 'xyData2.csv'\n",
    "arcpy.MakeXYEventLayer_management(myData,'x','y','tmpLayer')"
   ]
  },
  {
   "cell_type": "code",
   "execution_count": 3,
   "metadata": {
    "collapsed": false
   },
   "outputs": [
    {
     "data": {
      "text/plain": [
       "<Result './data\\\\butter flies.shp'>"
      ]
     },
     "execution_count": 3,
     "metadata": {},
     "output_type": "execute_result"
    }
   ],
   "source": [
    "countRes = arcpy.GetCount_management('tmpLayer')\n",
    "countRes.getOutput(0)\n",
    "arcpy.CopyFeatures_management('tmpLayer', 'butter flies.shp')"
   ]
  },
  {
   "cell_type": "markdown",
   "metadata": {},
   "source": [
    "## 6.7 Using Variables for Multiple Tool Calls  "
   ]
  },
  {
   "cell_type": "code",
   "execution_count": 4,
   "metadata": {
    "collapsed": false
   },
   "outputs": [
    {
     "data": {
      "text/plain": [
       "'special_regionsBuffer.shp'"
      ]
     },
     "execution_count": 4,
     "metadata": {},
     "output_type": "execute_result"
    }
   ],
   "source": [
    "fireDamage = 'special_regions.shp'\n",
    "fireBuffer = fireDamage[:-4] + 'Buffer.shp'\n",
    "fireBuffer"
   ]
  },
  {
   "cell_type": "code",
   "execution_count": 8,
   "metadata": {
    "collapsed": false,
    "scrolled": true
   },
   "outputs": [
    {
     "name": "stdout",
     "output_type": "stream",
     "text": [
      "./scratch/special_regionsBuffer.shp created.\n",
      "./scratch/parkDamageBuffer.shp created.\n"
     ]
    }
   ],
   "source": [
    "# %load buffer_clip.py\n",
    "# buffer_clip.py (hard-coded version)\n",
    "# Purpose: Buffer a zone and use it to clip another file\n",
    "# Input: No arguments needed.\n",
    "\n",
    "import arcpy\n",
    "\n",
    "arcpy.env.overwriteOutput = True\n",
    "arcpy.env.workspace = './data/'\n",
    "outDir = './scratch/'\n",
    "\n",
    "# Set buffer params\n",
    "fireDamage = 'special_regions.shp'\n",
    "fireBuffer = outDir + fireDamage[:-4] + 'Buffer.shp'\n",
    "bufferDist = '1 mile'\n",
    "\n",
    "# Set clip params\n",
    "park = 'park.shp'\n",
    "clipOutput = outDir + park[:-4] + 'DamageBuffer.shp'\n",
    "\n",
    "arcpy.Buffer_analysis(fireDamage, fireBuffer, bufferDist)\n",
    "print '{0} created.'.format(fireBuffer)\n",
    "arcpy.Clip_analysis(park, fireBuffer, clipOutput)\n",
    "print '{0} created.'.format(clipOutput)\n"
   ]
  },
  {
   "cell_type": "code",
   "execution_count": null,
   "metadata": {
    "collapsed": false
   },
   "outputs": [],
   "source": [
    "# %load addLengthField.py\n",
    "# addLengthField.py\n",
    "# Purpose: Add a field containing polygon lengths to the shapefile.\n",
    "# Usage: No arguments needed.\n",
    "import arcpy\n",
    "arcpy.env.workspace = './data/'\n",
    "\n",
    "inputFile = 'special_regions2.shp'\n",
    "fieldName = 'Length'\n",
    "\n",
    "arcpy.AddField_management(inputFile, fieldName, 'FLOAT')\n",
    "arcpy.CalculateField_management(inputFile, fieldName, '!shape.length!', 'PYTHON')\n"
   ]
  },
  {
   "cell_type": "markdown",
   "metadata": {},
   "source": [
    "## 6.8 Calling Custom Tools  "
   ]
  },
  {
   "cell_type": "code",
   "execution_count": null,
   "metadata": {
    "collapsed": false
   },
   "outputs": [
    {
     "name": "stdout",
     "output_type": "stream",
     "text": [
      "Summary text summaryFile.txt created in ./data/\n"
     ]
    }
   ],
   "source": [
    "# %load callInventory.py\n",
    "# callInventory.py\n",
    "# Purpose: Call the inventory tool.\n",
    "import arcpy\n",
    "\n",
    "arcpy.env.workspace = './scratch/'\n",
    "inputDir = \"./data/\"\n",
    "summary = 'summaryFile.txt'\n",
    "arcpy.ImportToolbox('customTools.tbx')\n",
    "arcpy.Inventory_custom(inputDir, 'SUMMARY_ONLY', summary)\n",
    "print 'Summary text {0} created in {1}'.format(summary, inputDir)\n"
   ]
  },
  {
   "cell_type": "markdown",
   "metadata": {},
   "source": [
    "## 6.9 A Word About Old Scripts  "
   ]
  },
  {
   "cell_type": "markdown",
   "metadata": {},
   "source": [
    "### 6.10 Discussion  "
   ]
  },
  {
   "cell_type": "markdown",
   "metadata": {},
   "source": [
    "### 6.11 Key Terms  "
   ]
  },
  {
   "cell_type": "markdown",
   "metadata": {},
   "source": [
    "### 6.12 Exercises "
   ]
  },
  {
   "cell_type": "code",
   "execution_count": null,
   "metadata": {
    "collapsed": true
   },
   "outputs": [],
   "source": []
  }
 ],
 "metadata": {
  "kernelspec": {
   "display_name": "Python 2",
   "language": "python",
   "name": "python2"
  },
  "language_info": {
   "codemirror_mode": {
    "name": "ipython",
    "version": 2
   },
   "file_extension": ".py",
   "mimetype": "text/x-python",
   "name": "python",
   "nbconvert_exporter": "python",
   "pygments_lexer": "ipython2",
   "version": "2.7.2"
  }
 },
 "nbformat": 4,
 "nbformat_minor": 0
}
