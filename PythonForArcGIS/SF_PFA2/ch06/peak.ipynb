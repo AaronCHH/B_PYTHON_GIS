{
 "cells": [
  {
   "cell_type": "code",
   "execution_count": null,
   "metadata": {
    "collapsed": true
   },
   "outputs": [],
   "source": [
    "# %load script/addLengthField.py\n",
    "# addLengthField.py\n",
    "# Purpose: Add a field containing polygon lengths to the shapefile.\n",
    "# Usage: No arguments needed.\n",
    "import arcpy\n",
    "arcpy.env.workspace = 'C:/gispy/data/ch06'\n",
    "\n",
    "inputFile = 'special_regionsCopy.shp'\n",
    "fieldName = 'Length'\n",
    "arcpy.AddField_management(inputFile, fieldName, 'FLOAT')\n",
    "arcpy.CalculateField_management(inputFile, fieldName, '!shape.length!', 'PYTHON')\n"
   ]
  },
  {
   "cell_type": "code",
   "execution_count": null,
   "metadata": {
    "collapsed": true
   },
   "outputs": [],
   "source": [
    "# %load script/avgNearNeighbor.py\n",
    "# Name: avgNearNeighbor.py\n",
    "# Purpose: Analyze crime data to determine if spatial patterns are\n",
    "#         statistically significant.\n",
    "\n",
    "import arcpy\n",
    "\n",
    "arcpy.env.workspace = 'C:/gispy/data/ch06'\n",
    "\n",
    "annResult = arcpy.AverageNearestNeighbor_stats('points.shp', 'Euclidean Distance')\n",
    "\n",
    "print 'Average Nearest Neighbor Output'\n",
    "print 'Nearest neighbor ratio: {0}'.format(annResult.getOutput(0))\n",
    "print 'z-score: {0}'.format(annResult.getOutput(1))\n",
    "print 'p-value: {0}'.format(annResult.getOutput(2))\n",
    "print 'Expected Mean Distance: {0}'.format(annResult.getOutput(3))\n",
    "print 'Observed Mean Distance: {0}'.format(annResult.getOutput(4))\n"
   ]
  },
  {
   "cell_type": "code",
   "execution_count": null,
   "metadata": {
    "collapsed": true
   },
   "outputs": [],
   "source": [
    "# %load script/avgNearNeighbor2.py\n",
    "# Name: avgNearNeighbor.py\n",
    "# Purpose: Analyze crime data to determine if spatial patterns are\n",
    "#         statistically significant.\n",
    "\n",
    "import arcpy\n",
    "\n",
    "arcpy.env.workspace = './data'\n",
    "\n",
    "annResult = arcpy.AverageNearestNeighbor_stats('points.shp', 'Euclidean Distance')\n",
    "\n",
    "print 'Average Nearest Neighbor Output'\n",
    "print 'Nearest neighbor ratio: {0}'.format(annResult.getOutput(0))\n",
    "print 'z-score: {0}'.format(annResult.getOutput(1))\n",
    "print 'p-value: {0}'.format(annResult.getOutput(2))\n",
    "print 'Expected Mean Distance: {0}'.format(annResult.getOutput(3))\n",
    "print 'Observed Mean Distance: {0}'.format(annResult.getOutput(4))\n"
   ]
  },
  {
   "cell_type": "code",
   "execution_count": null,
   "metadata": {
    "collapsed": true
   },
   "outputs": [],
   "source": [
    "# %load script/buffer_clip.py\n",
    "# buffer_clip.py (hard-coded version)\n",
    "# Purpose: Buffer a zone and use it to clip another file\n",
    "# Input: No arguments needed.\n",
    "\n",
    "import arcpy\n",
    "\n",
    "arcpy.env.overwriteOutput = True\n",
    "arcpy.env.workspace = 'C:/gispy/data/ch06'\n",
    "outDir = 'C:/gispy/scratch/'\n",
    "\n",
    "# Set buffer params\n",
    "fireDamage = 'special_regions.shp'\n",
    "fireBuffer = outDir + fireDamage[:-4] + 'Buffer.shp'\n",
    "bufferDist = '1 mile'\n",
    "\n",
    "# Set clip params\n",
    "park = 'park.shp'\n",
    "clipOutput = outDir + park[:-4] + 'DamageBuffer.shp'\n",
    "\n",
    "arcpy.Buffer_analysis(fireDamage, fireBuffer, bufferDist)\n",
    "print '{0} created.'.format(fireBuffer)\n",
    "arcpy.Clip_analysis(park, fireBuffer, clipOutput)\n",
    "print '{0} created.'.format(clipOutput)\n"
   ]
  },
  {
   "cell_type": "code",
   "execution_count": null,
   "metadata": {
    "collapsed": true
   },
   "outputs": [],
   "source": [
    "# %load script/callInventory.py\n",
    "# callInventory.py\n",
    "# Purpose: Call the inventory tool.\n",
    "import arcpy\n",
    "\n",
    "arcpy.env.workspace = 'C:/gispy/sample_scripts/ch06'\n",
    "inputDir = \"C:/gispy/data/ch06/\"\n",
    "summary = 'summaryFile.txt'\n",
    "arcpy.ImportToolbox('customTools.tbx')\n",
    "arcpy.Inventory_custom(inputDir, 'SUMMARY_ONLY', summary)\n",
    "print 'Summary text {0} created in {1}'.format(summary, inputDir)\n"
   ]
  },
  {
   "cell_type": "code",
   "execution_count": null,
   "metadata": {
    "collapsed": true
   },
   "outputs": [],
   "source": [
    "# %load script/computeRastEquation.py\n",
    "# computeRastEquation.py\n",
    "# Purpose: Calculate 5 * 'getty_rast' - 2\n",
    "\n",
    "import arcpy\n",
    "\n",
    "arcpy.env.overwriteOutput = True\n",
    "arcpy.env.workspace = 'C:/gispy/data/ch06/rastSmall.gdb'\n",
    "arcpy.CheckOutExtension('Spatial')\n",
    "\n",
    "outRast1 = arcpy.sa.Times(5, 'dataRast')\n",
    "outRast2 = arcpy.sa.Minus(outRast1, 2)\n",
    "outRast2.save('equationRast')\n",
    "\n",
    "print 'Output raster written in {0}'.format(arcpy.env.workspace)\n",
    "del outRast1, outRast2\n"
   ]
  },
  {
   "cell_type": "code",
   "execution_count": null,
   "metadata": {
    "collapsed": true
   },
   "outputs": [],
   "source": [
    "# %load script/inventory.py\n",
    "# inventory.py\n",
    "# Purpose: Summarize the file content of a directory, listing the number\n",
    "#   of each file type and more detail if requested.\n",
    "# Usage: workspace, level of detail (SUMMARY_ONLY or DETAILED_INVENTORY)\n",
    "# Example: C:/gispy/data/ch06 SUMMARY_ONLY summary.txt\n",
    "\n",
    "import arcpy, sys, os, traceback\n",
    "\n",
    "debug = 1\n",
    "if debug:\n",
    "    for i, v in enumerate(sys.argv):\n",
    "        print 'Input {0}: {1}'.format(i, v)\n",
    "\n",
    "\n",
    "def printMessages(message):\n",
    "    '''Print in both the Geoprocessing Window and the Interpreter Window'''\n",
    "    arcpy.AddMessage(message)\n",
    "    print message\n",
    "\n",
    "\n",
    "def printSummary(title, listDict):\n",
    "    '''Report the summary'''\n",
    "    message = '''\\nSummary of {0}\n",
    "-------------------------------------\\n'''.format(title)\n",
    "    for key in listDict:\n",
    "        listLen = len(listDict[key])\n",
    "        message = message + '{0} {1}s\\n'.format(listLen, key)\n",
    "    printMessages(message)\n",
    "    return message\n",
    "\n",
    "\n",
    "def printDetails(title, listDict):\n",
    "    '''Report the directory contents'''\n",
    "    message = '''\\nFile types in {0}\n",
    "-------------------------------------\\n'''.format(title)\n",
    "    for key in listDict:\n",
    "        message = message + '{0}s: {1}\\n'.format(key, listDict[key])\n",
    "    printMessages(message)\n",
    "    return message\n",
    "\n",
    "outfile = os.path.join(sys.argv[1], sys.argv[3])\n",
    "with open(outfile, 'w') as outf:\n",
    "    try:\n",
    "        arcpy.env.workspace = sys.argv[1]\n",
    "        fcs = arcpy.ListFeatureClasses()\n",
    "\n",
    "        if os.path.isdir(arcpy.env.workspace):\n",
    "            fs = os.listdir(arcpy.env.workspace)\n",
    "            fDict = {}\n",
    "            for f in fs:\n",
    "                desc = arcpy.Describe(f)\n",
    "                fType = desc.dataType\n",
    "                if fType in fDict:\n",
    "                    fDict[fType].append(f)\n",
    "                else:\n",
    "                    fDict[fType] = [f]\n",
    "            m = printSummary(arcpy.env.workspace, fDict)\n",
    "            outf.write(m)\n",
    "            if sys.argv[2] == 'DETAILED_INVENTORY':\n",
    "                m = printDetails(arcpy.env.workspace, fDict)\n",
    "                outf.write(m)\n",
    "        else:\n",
    "            m = 'Not a valid directory {0}'.format(arcpy.env.workspace)\n",
    "            printMessages(m)\n",
    "            outf.write(m)\n",
    "    except IndexError:\n",
    "        m = 'Not enough arguments.  Usage: workspace level of detail \\\n",
    "            (SUMMARY_ONLY or DETAILED_INVENTORY)'\n",
    "        printMessages(m)\n",
    "        outf.write(m)\n",
    "    except:\n",
    "        traceback.print_exc()\n",
    "        printMessages('The file that broke it is named {0}'.format(f))\n",
    "        outf.write(m)\n"
   ]
  },
  {
   "cell_type": "code",
   "execution_count": null,
   "metadata": {
    "collapsed": true
   },
   "outputs": [],
   "source": [
    "# %load script/script6_6.py\n",
    "import arcpy\n",
    "arcpy.env.workspace = './data'\n",
    "myData = 'xyData.txt'\n",
    "arcpy.MakeXYEventLayer_management(myData,'x','y','tmpLayer')\n",
    "countRes = arcpy.GetCount_management('tmpLayer')\n",
    "countRes.getOutput(0)\n",
    "arcpy.CopyFeatures_management('tmpLayer', 'butter flies.shp')"
   ]
  },
  {
   "cell_type": "code",
   "execution_count": null,
   "metadata": {
    "collapsed": true
   },
   "outputs": [],
   "source": []
  }
 ],
 "metadata": {
  "kernelspec": {
   "display_name": "Python 2",
   "language": "python",
   "name": "python2"
  },
  "language_info": {
   "codemirror_mode": {
    "name": "ipython",
    "version": 2
   },
   "file_extension": ".py",
   "mimetype": "text/x-python",
   "name": "python",
   "nbconvert_exporter": "python",
   "pygments_lexer": "ipython2",
   "version": "2.7.2"
  }
 },
 "nbformat": 4,
 "nbformat_minor": 0
}
