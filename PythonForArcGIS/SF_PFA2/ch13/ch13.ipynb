{
 "cells": [
  {
   "cell_type": "markdown",
   "metadata": {
    "collapsed": true
   },
   "source": [
    "## 13 Debugging\n",
    "* 13.1 Syntax Errors\n",
    "* 13.2 Exceptions\n",
    "* 13.3 Logic Errors\n",
    "* 13.4 PythonWin Debugging Toolbar\n",
    "* 13.4.1 Using Breakpoints\n",
    "* 13.5 Running in Debug Mode\n",
    "* 13.6 PyScripter Debugging Toolbar\n",
    "* 13.7 Debugging Tips\n",
    "* 13.8 Key Terms\n",
    "* 13.9 Exercises"
   ]
  },
  {
   "cell_type": "markdown",
   "metadata": {},
   "source": [
    "## 13 Debugging"
   ]
  },
  {
   "cell_type": "markdown",
   "metadata": {},
   "source": [
    "## 13.1 Syntax Errors"
   ]
  },
  {
   "cell_type": "code",
   "execution_count": null,
   "metadata": {
    "collapsed": false
   },
   "outputs": [],
   "source": [
    "# %load script/buggyCode1.py\n",
    "# buggyCode1.py\n",
    "import os, sys\n",
    "outputDir = os.path.dirname(sys.argv[1]) + '\\outputFiles/\n",
    "if not os.path.exists(outputDir :\n",
    "    os.mkdir(outputDir)\n"
   ]
  },
  {
   "cell_type": "code",
   "execution_count": 4,
   "metadata": {
    "collapsed": false,
    "scrolled": true
   },
   "outputs": [
    {
     "ename": "SyntaxError",
     "evalue": "EOL while scanning string literal (buggyCode1.py, line 3)",
     "output_type": "error",
     "traceback": [
      "\u001b[1;36m  File \u001b[1;32m\"D:\\BOOKS\\GISen\\_PYTHON\\PythonForArcGIS\\SF_PFA\\ch13\\script\\buggyCode1.py\"\u001b[1;36m, line \u001b[1;32m3\u001b[0m\n\u001b[1;33m    outputDir = os.path.dirname(sys.argv[1]) + '\\outputFiles/\u001b[0m\n\u001b[1;37m                                                            ^\u001b[0m\n\u001b[1;31mSyntaxError\u001b[0m\u001b[1;31m:\u001b[0m EOL while scanning string literal\n"
     ]
    }
   ],
   "source": [
    "%run script/buggyCode1.py scratch"
   ]
  },
  {
   "cell_type": "markdown",
   "metadata": {},
   "source": [
    "## 13.2 Exceptions"
   ]
  },
  {
   "cell_type": "code",
   "execution_count": null,
   "metadata": {
    "collapsed": true
   },
   "outputs": [],
   "source": [
    "# %load script/buggyCode2.py\n",
    "# buggyCode2.py\n",
    "import arcpy, sys, os\n",
    "arcpy.env.workspace = sys.argv[1]\n",
    "fc = arcpy.ListFeatureClasses()\n",
    "for fc in fcs:\n",
    "    # Append Buffer to the output name?\n",
    "    fcBuffer = os.path.splitext(fc)[0] + 'Buffer.shp'\n",
    "    # Call buffer tool with required input, output, and distance arguments.\n",
    "    arcpy.Buffer_analysis(fc, fcBuffer, '1 elephant')\n"
   ]
  },
  {
   "cell_type": "code",
   "execution_count": 7,
   "metadata": {
    "collapsed": false
   },
   "outputs": [
    {
     "ename": "NameError",
     "evalue": "name 'fcs' is not defined",
     "output_type": "error",
     "traceback": [
      "\u001b[1;31m---------------------------------------------------------------------------\u001b[0m",
      "\u001b[1;31mNameError\u001b[0m                                 Traceback (most recent call last)",
      "\u001b[1;32mD:\\BOOKS\\GISen\\_PYTHON\\PythonForArcGIS\\SF_PFA\\ch13\\scriptPt\\buggyCode2.py\u001b[0m in \u001b[0;36m<module>\u001b[1;34m()\u001b[0m\n\u001b[0;32m      3\u001b[0m \u001b[0marcpy\u001b[0m\u001b[1;33m.\u001b[0m\u001b[0menv\u001b[0m\u001b[1;33m.\u001b[0m\u001b[0mworkspace\u001b[0m \u001b[1;33m=\u001b[0m \u001b[0msys\u001b[0m\u001b[1;33m.\u001b[0m\u001b[0margv\u001b[0m\u001b[1;33m[\u001b[0m\u001b[1;36m1\u001b[0m\u001b[1;33m]\u001b[0m\u001b[1;33m\u001b[0m\u001b[0m\n\u001b[0;32m      4\u001b[0m \u001b[0mfc\u001b[0m \u001b[1;33m=\u001b[0m \u001b[0marcpy\u001b[0m\u001b[1;33m.\u001b[0m\u001b[0mListFeatureClasses\u001b[0m\u001b[1;33m(\u001b[0m\u001b[1;33m)\u001b[0m\u001b[1;33m\u001b[0m\u001b[0m\n\u001b[1;32m----> 5\u001b[1;33m \u001b[1;32mfor\u001b[0m \u001b[0mfc\u001b[0m \u001b[1;32min\u001b[0m \u001b[0mfcs\u001b[0m\u001b[1;33m:\u001b[0m\u001b[1;33m\u001b[0m\u001b[0m\n\u001b[0m\u001b[0;32m      6\u001b[0m     \u001b[1;31m# Append Buffer to the output name?\u001b[0m\u001b[1;33m\u001b[0m\u001b[1;33m\u001b[0m\u001b[0m\n\u001b[0;32m      7\u001b[0m     \u001b[0mfcBuffer\u001b[0m \u001b[1;33m=\u001b[0m \u001b[0mos\u001b[0m\u001b[1;33m.\u001b[0m\u001b[0mpath\u001b[0m\u001b[1;33m.\u001b[0m\u001b[0msplitext\u001b[0m\u001b[1;33m(\u001b[0m\u001b[0mfc\u001b[0m\u001b[1;33m)\u001b[0m\u001b[1;33m[\u001b[0m\u001b[1;36m0\u001b[0m\u001b[1;33m]\u001b[0m \u001b[1;33m+\u001b[0m \u001b[1;34m'Buffer.shp'\u001b[0m\u001b[1;33m\u001b[0m\u001b[0m\n",
      "\u001b[1;31mNameError\u001b[0m: name 'fcs' is not defined"
     ]
    }
   ],
   "source": [
    "%run scriptPt/buggyCode2.py scratch"
   ]
  },
  {
   "cell_type": "markdown",
   "metadata": {},
   "source": [
    "## 13.3 Logic Errors"
   ]
  },
  {
   "cell_type": "code",
   "execution_count": 16,
   "metadata": {
    "collapsed": false
   },
   "outputs": [
    {
     "name": "stdout",
     "output_type": "stream",
     "text": [
      "[1, 0, 0, 0, 0, 0, 0, 0]\n"
     ]
    }
   ],
   "source": [
    "# %load script/buggyCode3.py\n",
    "# buggyCode3.py\n",
    "# Purpose: Normalize data time steps.\n",
    "timeSteps = [2011, 2009, 2008, 2005, 2004, 2003, 2001, 1999]\n",
    "# Normalize to values between 0 and 1.\n",
    "maxv = max(timeSteps)\n",
    "minv = min(timeSteps)\n",
    "r = maxv - minv\n",
    "normalizedList = [(v - minv)/r for v in timeSteps]\n",
    "print normalizedList\n"
   ]
  },
  {
   "cell_type": "code",
   "execution_count": 15,
   "metadata": {
    "collapsed": false
   },
   "outputs": [
    {
     "name": "stdout",
     "output_type": "stream",
     "text": [
      "[1.0, 0.8333333333333334, 0.75, 0.5, 0.4166666666666667, 0.3333333333333333, 0.16666666666666666, 0.0]\n"
     ]
    }
   ],
   "source": [
    "# %load scriptPt/buggyCode3.py\n",
    "# buggyCode3.py\n",
    "# Purpose: Normalize data time steps.\n",
    "timeSteps = [2011, 2009, 2008, 2005, 2004, 2003, 2001, 1999]\n",
    "# Normalize to values between 0 and 1.\n",
    "maxv = max(timeSteps)\n",
    "minv = min(timeSteps)\n",
    "r = maxv - minv\n",
    "normalizedList = [(v - minv)/float(r) for v in timeSteps]\n",
    "print normalizedList\n"
   ]
  },
  {
   "cell_type": "code",
   "execution_count": null,
   "metadata": {
    "collapsed": true
   },
   "outputs": [],
   "source": [
    "# %load script/buggyLoop.py\n",
    "# buggyLoop.py\n",
    "# Remove feature classes whose names do not contain the given tag\n",
    "tag = 'zones'  #'data'\n",
    "fcs = [u'data1', u'data2', u'data3', u'fireStations',\n",
    "       u'park_data', u'PTdata4', u'schoolzones',\n",
    "       u'regions1', u'regions2', u'workzones']\n",
    "\n",
    "print 'Before loop: {0}'.format(fcs)\n",
    "for fcName in fcs:\n",
    "    if tag in fcName:\n",
    "        fcs.remove(fcName)\n",
    "print 'After loop: {0}'.format(fcs)\n",
    "\n",
    "\n",
    "##print 'Before loop: {0}'.format(fcs)\n",
    "##fcsOut = []\n",
    "##for fcName in fcs:\n",
    "##\tif tag not in fcName:\n",
    "##\t\tfcsOut.append(fcName)\n",
    "##print 'After loop: {0}'.format(fcsOut)\n"
   ]
  },
  {
   "cell_type": "code",
   "execution_count": 18,
   "metadata": {
    "collapsed": false
   },
   "outputs": [
    {
     "name": "stdout",
     "output_type": "stream",
     "text": [
      "Before loop: [u'data1', u'data2', u'data3', u'fireStations', u'park_data', u'PTdata4', u'schoolzones', u'regions1', u'regions2', u'workzones']\n",
      "After loop: [u'data1', u'data2', u'data3', u'fireStations', u'park_data', u'PTdata4', u'regions1', u'regions2']\n"
     ]
    }
   ],
   "source": [
    "%run scriptPt/buggyLoop.py"
   ]
  },
  {
   "cell_type": "markdown",
   "metadata": {},
   "source": [
    "## 13.4 PythonWin Debugging Toolbar"
   ]
  },
  {
   "cell_type": "code",
   "execution_count": null,
   "metadata": {
    "collapsed": true
   },
   "outputs": [],
   "source": []
  },
  {
   "cell_type": "markdown",
   "metadata": {},
   "source": [
    "## 13.4.1 Using Breakpoints"
   ]
  },
  {
   "cell_type": "code",
   "execution_count": 20,
   "metadata": {
    "collapsed": false
   },
   "outputs": [
    {
     "name": "stdout",
     "output_type": "stream",
     "text": [
      "Output table created: coverCOVERfreq\n",
      "Output table created: firesAuthoriz_1freq\n"
     ]
    },
    {
     "ename": "ExecuteError",
     "evalue": "Failed to execute. Parameters are not valid.\nERROR 000728: Field Authoriz_1 does not exist within table\nFailed to execute (Frequency).\n",
     "output_type": "error",
     "traceback": [
      "\u001b[1;31m---------------------------------------------------------------------------\u001b[0m",
      "\u001b[1;31mExecuteError\u001b[0m                              Traceback (most recent call last)",
      "\u001b[1;32m<ipython-input-20-59409765c5e1>\u001b[0m in \u001b[0;36m<module>\u001b[1;34m()\u001b[0m\n\u001b[0;32m     13\u001b[0m         \u001b[0mfieldName\u001b[0m \u001b[1;33m=\u001b[0m \u001b[0mfield\u001b[0m\u001b[1;33m.\u001b[0m\u001b[0mname\u001b[0m\u001b[1;33m\u001b[0m\u001b[0m\n\u001b[0;32m     14\u001b[0m     \u001b[0moutTable\u001b[0m \u001b[1;33m=\u001b[0m \u001b[0minputFile\u001b[0m \u001b[1;33m+\u001b[0m \u001b[0mfieldName\u001b[0m \u001b[1;33m+\u001b[0m \u001b[1;34m'freq'\u001b[0m\u001b[1;33m\u001b[0m\u001b[0m\n\u001b[1;32m---> 15\u001b[1;33m     \u001b[0marcpy\u001b[0m\u001b[1;33m.\u001b[0m\u001b[0mFrequency_analysis\u001b[0m\u001b[1;33m(\u001b[0m\u001b[0minputFile\u001b[0m\u001b[1;33m,\u001b[0m \u001b[0moutTable\u001b[0m\u001b[1;33m,\u001b[0m \u001b[0mfieldName\u001b[0m\u001b[1;33m)\u001b[0m\u001b[1;33m\u001b[0m\u001b[0m\n\u001b[0m\u001b[0;32m     16\u001b[0m     \u001b[1;32mprint\u001b[0m \u001b[1;34m'Output table created: {0}'\u001b[0m\u001b[1;33m.\u001b[0m\u001b[0mformat\u001b[0m\u001b[1;33m(\u001b[0m\u001b[0moutTable\u001b[0m\u001b[1;33m)\u001b[0m\u001b[1;33m\u001b[0m\u001b[0m\n",
      "\u001b[1;32mC:\\Program Files (x86)\\ArcGIS\\Desktop10.1\\arcpy\\arcpy\\analysis.py\u001b[0m in \u001b[0;36mFrequency\u001b[1;34m(in_table, out_table, frequency_fields, summary_fields)\u001b[0m\n\u001b[0;32m   1024\u001b[0m         \u001b[1;32mreturn\u001b[0m \u001b[0mretval\u001b[0m\u001b[1;33m\u001b[0m\u001b[0m\n\u001b[0;32m   1025\u001b[0m     \u001b[1;32mexcept\u001b[0m \u001b[0mException\u001b[0m\u001b[1;33m,\u001b[0m \u001b[0me\u001b[0m\u001b[1;33m:\u001b[0m\u001b[1;33m\u001b[0m\u001b[0m\n\u001b[1;32m-> 1026\u001b[1;33m         \u001b[1;32mraise\u001b[0m \u001b[0me\u001b[0m\u001b[1;33m\u001b[0m\u001b[0m\n\u001b[0m\u001b[0;32m   1027\u001b[0m \u001b[1;33m\u001b[0m\u001b[0m\n\u001b[0;32m   1028\u001b[0m \u001b[1;33m@\u001b[0m\u001b[0mgptooldoc\u001b[0m\u001b[1;33m(\u001b[0m\u001b[1;34m'Statistics_analysis'\u001b[0m\u001b[1;33m,\u001b[0m \u001b[0mNone\u001b[0m\u001b[1;33m)\u001b[0m\u001b[1;33m\u001b[0m\u001b[0m\n",
      "\u001b[1;31mExecuteError\u001b[0m: Failed to execute. Parameters are not valid.\nERROR 000728: Field Authoriz_1 does not exist within table\nFailed to execute (Frequency).\n"
     ]
    }
   ],
   "source": [
    "# %load script/buggyFreq.py\n",
    "# buggyFreq.py\n",
    "# Purpose: Find frequency of each value in each string field\n",
    "\n",
    "import arcpy\n",
    "arcpy.env.overwriteOutput = True\n",
    "arcpy.env.workspace = 'data/smallTest.gdb'\n",
    "featureList = arcpy.ListFeatureClasses()\n",
    "\n",
    "for inputFile in featureList:\n",
    "    fields = arcpy.ListFields(inputFile, '*', 'String')\n",
    "    for field in fields:\n",
    "        fieldName = field.name\n",
    "    outTable = inputFile + fieldName + 'freq'\n",
    "    arcpy.Frequency_analysis(inputFile, outTable, fieldName)\n",
    "    print 'Output table created: {0}'.format(outTable)\n"
   ]
  },
  {
   "cell_type": "code",
   "execution_count": null,
   "metadata": {
    "collapsed": true
   },
   "outputs": [],
   "source": [
    "# %load scriptPt/buggyFreq.py\n",
    "# buggyFreq.py\n",
    "# Purpose: Find frequency of each value in each string field\n",
    "\n",
    "import arcpy\n",
    "arcpy.env.overwriteOutput = True\n",
    "arcpy.env.workspace = 'data/smallTest.gdb'\n",
    "featureList = arcpy.ListFeatureClasses()\n",
    "\n",
    "for inputFile in featureList:\n",
    "    fields = arcpy.ListFields(inputFile, '*', 'String')\n",
    "    for field in fields:\n",
    "        fieldName = field.name\n",
    "        outTable = inputFile + fieldName + 'freq'\n",
    "        arcpy.Frequency_analysis(inputFile, outTable, fieldName)\n",
    "        print 'Output table created: {0}'.format(outTable)\n"
   ]
  },
  {
   "cell_type": "code",
   "execution_count": 24,
   "metadata": {
    "collapsed": false,
    "scrolled": true
   },
   "outputs": [
    {
     "name": "stdout",
     "output_type": "stream",
     "text": [
      "Output table created: coverCOVERfreq\n",
      "Output table created: firesFireNamefreq\n",
      "Output table created: firesSizeClassfreq\n",
      "Output table created: firesAuthoriz_1freq\n"
     ]
    }
   ],
   "source": [
    "%run scriptPt/buggyFreq.py"
   ]
  },
  {
   "cell_type": "markdown",
   "metadata": {},
   "source": [
    "## 13.5 Running in Debug Mode"
   ]
  },
  {
   "cell_type": "markdown",
   "metadata": {},
   "source": [
    "## 13.6 PyScripter Debugging Toolbar"
   ]
  },
  {
   "cell_type": "markdown",
   "metadata": {},
   "source": [
    "## 13.7 Debugging Tips"
   ]
  },
  {
   "cell_type": "markdown",
   "metadata": {},
   "source": [
    "## 13.8 Key Terms"
   ]
  },
  {
   "cell_type": "markdown",
   "metadata": {},
   "source": [
    "## 13.9 Exercises"
   ]
  },
  {
   "cell_type": "code",
   "execution_count": null,
   "metadata": {
    "collapsed": true
   },
   "outputs": [],
   "source": []
  }
 ],
 "metadata": {
  "kernelspec": {
   "display_name": "Python 2",
   "language": "python",
   "name": "python2"
  },
  "language_info": {
   "codemirror_mode": {
    "name": "ipython",
    "version": 2
   },
   "file_extension": ".py",
   "mimetype": "text/x-python",
   "name": "python",
   "nbconvert_exporter": "python",
   "pygments_lexer": "ipython2",
   "version": "2.7.2"
  }
 },
 "nbformat": 4,
 "nbformat_minor": 0
}
