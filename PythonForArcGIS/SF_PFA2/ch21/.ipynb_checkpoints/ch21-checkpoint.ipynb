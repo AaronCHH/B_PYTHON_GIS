{
 "cells": [
  {
   "cell_type": "markdown",
   "metadata": {},
   "source": [
    "## 21 Classes\n",
    "* 21.1 Why Use OOP?\n",
    "* 21.2 Defi ning a Class\n",
    "* 21.3 Object Initialization and Self\n",
    "* 21.4 Using Class Objects\n",
    "* 21.5 Where to Defi ne a Class\n",
    "* 21.6 Classes Within a Separate User-Defined Module\n",
    "* 21.7 Discussion\n",
    "* 21.8 Key Terms\n",
    "* 21.9 Exercises"
   ]
  },
  {
   "cell_type": "markdown",
   "metadata": {},
   "source": [
    "## 21 Classes"
   ]
  },
  {
   "cell_type": "code",
   "execution_count": 4,
   "metadata": {
    "collapsed": true
   },
   "outputs": [],
   "source": [
    "trailList = [1, 2, 5, 10, 15]"
   ]
  },
  {
   "cell_type": "code",
   "execution_count": 9,
   "metadata": {
    "collapsed": false
   },
   "outputs": [
    {
     "data": {
      "text/plain": [
       "[1, 2, 5, 10, 15]"
      ]
     },
     "execution_count": 9,
     "metadata": {},
     "output_type": "execute_result"
    }
   ],
   "source": [
    "trailList"
   ]
  },
  {
   "cell_type": "code",
   "execution_count": 10,
   "metadata": {
    "collapsed": true
   },
   "outputs": [],
   "source": [
    "trailList.append(16)"
   ]
  },
  {
   "cell_type": "code",
   "execution_count": 11,
   "metadata": {
    "collapsed": false
   },
   "outputs": [
    {
     "data": {
      "text/plain": [
       "[1, 2, 5, 10, 15, 16]"
      ]
     },
     "execution_count": 11,
     "metadata": {},
     "output_type": "execute_result"
    }
   ],
   "source": [
    "trailList"
   ]
  },
  {
   "cell_type": "code",
   "execution_count": 12,
   "metadata": {
    "collapsed": true
   },
   "outputs": [],
   "source": [
    "trailList.remove(5)"
   ]
  },
  {
   "cell_type": "code",
   "execution_count": 13,
   "metadata": {
    "collapsed": false
   },
   "outputs": [
    {
     "data": {
      "text/plain": [
       "[1, 2, 10, 15, 16]"
      ]
     },
     "execution_count": 13,
     "metadata": {},
     "output_type": "execute_result"
    }
   ],
   "source": [
    "trailList"
   ]
  },
  {
   "cell_type": "code",
   "execution_count": 14,
   "metadata": {
    "collapsed": true
   },
   "outputs": [],
   "source": [
    "trailVegetation = {1: 'barren', 2: 'some bare ground',\n",
    "5: 'stunted vegetation', 10: 'barren', 15: 'over-grown'}"
   ]
  },
  {
   "cell_type": "code",
   "execution_count": 15,
   "metadata": {
    "collapsed": false
   },
   "outputs": [
    {
     "data": {
      "text/plain": [
       "{1: 'barren',\n",
       " 2: 'some bare ground',\n",
       " 5: 'stunted vegetation',\n",
       " 10: 'barren',\n",
       " 15: 'over-grown'}"
      ]
     },
     "execution_count": 15,
     "metadata": {},
     "output_type": "execute_result"
    }
   ],
   "source": [
    "trailVegetation"
   ]
  },
  {
   "cell_type": "code",
   "execution_count": 16,
   "metadata": {
    "collapsed": true
   },
   "outputs": [],
   "source": [
    "def calculateCost(trail_ID, vegetation, length):\n",
    "  '''Calculate trail maintenance based on\n",
    "  vegetation and length.'''\n",
    "  rate = 1000\n",
    "  if vegetation[trail_ID] == 'barren':\n",
    "    rate = 800\n",
    "  elif vegetation[trail_ID] == 'some bare ground':\n",
    "    rate = 900\n",
    "    cost = length[trail_ID]*rate\n",
    "  return cost"
   ]
  },
  {
   "cell_type": "code",
   "execution_count": null,
   "metadata": {
    "collapsed": true
   },
   "outputs": [],
   "source": []
  },
  {
   "cell_type": "markdown",
   "metadata": {},
   "source": [
    "## 21.1 Why Use OOP?"
   ]
  },
  {
   "cell_type": "code",
   "execution_count": 1,
   "metadata": {
    "collapsed": true
   },
   "outputs": [],
   "source": [
    "trailList = [1, 2, 5, 10, 15]"
   ]
  },
  {
   "cell_type": "code",
   "execution_count": 2,
   "metadata": {
    "collapsed": false
   },
   "outputs": [
    {
     "data": {
      "text/plain": [
       "[1, 2, 5, 10, 15, 16]"
      ]
     },
     "execution_count": 2,
     "metadata": {},
     "output_type": "execute_result"
    }
   ],
   "source": [
    "trailList.append(16)\n",
    "trailList"
   ]
  },
  {
   "cell_type": "code",
   "execution_count": 3,
   "metadata": {
    "collapsed": false
   },
   "outputs": [
    {
     "data": {
      "text/plain": [
       "[1, 2, 10, 15, 16]"
      ]
     },
     "execution_count": 3,
     "metadata": {},
     "output_type": "execute_result"
    }
   ],
   "source": [
    "trailList.remove(5)\n",
    "trailList"
   ]
  },
  {
   "cell_type": "code",
   "execution_count": 5,
   "metadata": {
    "collapsed": false
   },
   "outputs": [
    {
     "data": {
      "text/plain": [
       "{1: 'barren',\n",
       " 2: 'some bare ground',\n",
       " 5: 'stunted vegetation',\n",
       " 10: 'barren',\n",
       " 15: 'over-grown'}"
      ]
     },
     "execution_count": 5,
     "metadata": {},
     "output_type": "execute_result"
    }
   ],
   "source": [
    "trailVegetation = {1: 'barren', 2: 'some bare ground',\n",
    "5: 'stunted vegetation', 10: 'barren', 15: 'over-grown'}\n",
    "trailVegetation"
   ]
  },
  {
   "cell_type": "code",
   "execution_count": null,
   "metadata": {
    "collapsed": true
   },
   "outputs": [],
   "source": []
  },
  {
   "cell_type": "markdown",
   "metadata": {},
   "source": [
    "## 21.2 Defi ning a Class"
   ]
  },
  {
   "cell_type": "code",
   "execution_count": null,
   "metadata": {
    "collapsed": true
   },
   "outputs": [],
   "source": [
    "# %load script/trailExample.py\n",
    "# trailExample.py\n",
    "# Purpose: Create a Trail class and use it to store and\n",
    "#          explore a land trail dataset ('trails.txt').\n",
    "# Usage: No arguments required.  Data full path is hard-coded.\n",
    "\n",
    "\n",
    "class Trail:\n",
    "    '''Pedestrian path.\n",
    "\n",
    "       Attributes:\n",
    "         ID      A unique identifier\n",
    "         length:  Estimated trail length\n",
    "         vegetation: Plant growth on the trail\n",
    "    '''\n",
    "    def __init__(self, tid, theLength, theVegetation):\n",
    "        '''Initialize trail properties.'''\n",
    "        self.ID = tid\n",
    "        self.length = theLength\n",
    "        self.vegetation = theVegetation\n",
    "\n",
    "    def calculateCost(self):\n",
    "        '''Calculate maintenance costs based on vegetation and length.'''\n",
    "        rate = 1000\n",
    "        if self.vegetation == 'barren':\n",
    "            rate = 800\n",
    "        elif self.vegetation == 'some bare ground':\n",
    "            rate = 900\n",
    "        cost = self.length*rate\n",
    "        return cost\n",
    "\n",
    "    def reportInfo(self):\n",
    "        '''Print trail properties'''\n",
    "        print 'ID: {0}'.format(self.ID)\n",
    "        print 'Length: {0}'.format(self.length)\n",
    "        print 'Vegetation: {0}'.format(self.vegetation)\n",
    "\n",
    "    def calculateCrowding(self, visits, track):\n",
    "        '''Calculate number of visitors/100 m (count double for narrow trails)'''\n",
    "        if track == 'single':\n",
    "            val = 2*visits/(self.length*10)\n",
    "        else:  # The default unit is square meters.\n",
    "            val = visits/(self.length*10)\n",
    "        return round(val, 2)\n",
    "\n",
    "data = 'C:/gispy/data/ch21/trails.txt'\n",
    "\n",
    "trailDict = {}\n",
    "with open(data, 'r') as f:\n",
    "    # Read each line.\n",
    "    for line in f:\n",
    "        # Strip the \\n from the end and split the line.\n",
    "        line = line.strip()\n",
    "        lineList = line.split(',')\n",
    "        tID = int(lineList[0])\n",
    "        tLength = float(lineList[1])\n",
    "        tVeg = lineList[2]\n",
    "        # Create a trail object.\n",
    "        theTrail = Trail(tID, tLength, tVeg)\n",
    "        # Add the trail object to the dictionary.\n",
    "        trailDict[tID] = theTrail\n",
    "\n",
    "print 'The dictionary keys are trail ids:'\n",
    "print trailDict.keys()\n",
    "\n",
    "print '\\nThe dictionary values are objects:'\n",
    "print trailDict.values()\n",
    "\n",
    "print '\\nThe reportInfo method prints the object properties'\n",
    "for t in trailDict.values():\n",
    "    t.reportInfo()\n",
    "\n",
    "print '\\nDelete an entry based on its key:'\n",
    "del trailDict[5]\n",
    "for t in trailDict.values():\n",
    "    t.reportInfo()\n",
    "\n",
    "print '\\nModify entries based on a property:'\n",
    "# Increase trail length by 1.2km.\n",
    "for t in trailDict.values():\n",
    "    if t.vegetation == 'barren':\n",
    "        t.length = t.length + 1.2\n",
    "for t in trailDict.values():\n",
    "    t.reportInfo()\n",
    "print\n",
    "\n",
    "print 'Delete entries based on a property:'\n",
    "# Delete trails whose length exceeds 10 km.\n",
    "for t in trailDict.values():\n",
    "    if t.length > 10:\n",
    "        del trailDict[t.ID]\n",
    "for t in trailDict.values():\n",
    "    t.reportInfo()\n"
   ]
  },
  {
   "cell_type": "code",
   "execution_count": 8,
   "metadata": {
    "collapsed": false,
    "scrolled": true
   },
   "outputs": [
    {
     "name": "stdout",
     "output_type": "stream",
     "text": [
      "The dictionary keys are trail ids:\n",
      "[1, 2, 10, 5, 15]\n",
      "\n",
      "The dictionary values are objects:\n",
      "[<__main__.Trail instance at 0x02DDAB20>, <__main__.Trail instance at 0x02DDAB48>, <__main__.Trail instance at 0x02DDAD00>, <__main__.Trail instance at 0x02DDA170>, <__main__.Trail instance at 0x02DDAD28>]\n",
      "\n",
      "The reportInfo method prints the object properties\n",
      "ID: 1\n",
      "Length: 2.3\n",
      "Vegetation: barren\n",
      "ID: 2\n",
      "Length: 5.0\n",
      "Vegetation: some bare ground\n",
      "ID: 10\n",
      "Length: 1.6\n",
      "Vegetation: barren\n",
      "ID: 5\n",
      "Length: 4.2\n",
      "Vegetation: stunted vegetation\n",
      "ID: 15\n",
      "Length: 20.0\n",
      "Vegetation: over-grown\n",
      "\n",
      "Delete an entry based on its key:\n",
      "ID: 1\n",
      "Length: 2.3\n",
      "Vegetation: barren\n",
      "ID: 2\n",
      "Length: 5.0\n",
      "Vegetation: some bare ground\n",
      "ID: 10\n",
      "Length: 1.6\n",
      "Vegetation: barren\n",
      "ID: 15\n",
      "Length: 20.0\n",
      "Vegetation: over-grown\n",
      "\n",
      "Modify entries based on a property:\n",
      "ID: 1\n",
      "Length: 3.5\n",
      "Vegetation: barren\n",
      "ID: 2\n",
      "Length: 5.0\n",
      "Vegetation: some bare ground\n",
      "ID: 10\n",
      "Length: 2.8\n",
      "Vegetation: barren\n",
      "ID: 15\n",
      "Length: 20.0\n",
      "Vegetation: over-grown\n",
      "\n",
      "Delete entries based on a property:\n",
      "ID: 1\n",
      "Length: 3.5\n",
      "Vegetation: barren\n",
      "ID: 2\n",
      "Length: 5.0\n",
      "Vegetation: some bare ground\n",
      "ID: 10\n",
      "Length: 2.8\n",
      "Vegetation: barren\n"
     ]
    }
   ],
   "source": [
    "%run script2/trailExample.py"
   ]
  },
  {
   "cell_type": "markdown",
   "metadata": {},
   "source": [
    "## 21.3 Object Initialization and Self"
   ]
  },
  {
   "cell_type": "code",
   "execution_count": 11,
   "metadata": {
    "collapsed": false
   },
   "outputs": [
    {
     "data": {
      "text/plain": [
       "<__main__.Trail instance at 0x02DDAF08>"
      ]
     },
     "execution_count": 11,
     "metadata": {},
     "output_type": "execute_result"
    }
   ],
   "source": [
    "myTrail = Trail(1, 2.3, 'barren')\n",
    "myTrail"
   ]
  },
  {
   "cell_type": "markdown",
   "metadata": {},
   "source": [
    "## 21.4 Using Class Objects"
   ]
  },
  {
   "cell_type": "code",
   "execution_count": 12,
   "metadata": {
    "collapsed": false
   },
   "outputs": [
    {
     "data": {
      "text/plain": [
       "5.0"
      ]
     },
     "execution_count": 12,
     "metadata": {},
     "output_type": "execute_result"
    }
   ],
   "source": [
    "myTrail2 = Trail(2, 5.0, 'some bare ground')\n",
    "myTrail2.length"
   ]
  },
  {
   "cell_type": "code",
   "execution_count": 13,
   "metadata": {
    "collapsed": false
   },
   "outputs": [
    {
     "data": {
      "text/plain": [
       "'some bare ground'"
      ]
     },
     "execution_count": 13,
     "metadata": {},
     "output_type": "execute_result"
    }
   ],
   "source": [
    "myTrail2.vegetation"
   ]
  },
  {
   "cell_type": "code",
   "execution_count": 14,
   "metadata": {
    "collapsed": false
   },
   "outputs": [
    {
     "data": {
      "text/plain": [
       "4500.0"
      ]
     },
     "execution_count": 14,
     "metadata": {},
     "output_type": "execute_result"
    }
   ],
   "source": [
    "myCost = myTrail2.calculateCost()\n",
    "myCost"
   ]
  },
  {
   "cell_type": "code",
   "execution_count": 15,
   "metadata": {
    "collapsed": false
   },
   "outputs": [
    {
     "data": {
      "text/plain": [
       "1890.0"
      ]
     },
     "execution_count": 15,
     "metadata": {},
     "output_type": "execute_result"
    }
   ],
   "source": [
    "myTrail2.length = 2.1\n",
    "myTrail2.calculateCost()"
   ]
  },
  {
   "cell_type": "code",
   "execution_count": 16,
   "metadata": {
    "collapsed": false
   },
   "outputs": [
    {
     "data": {
      "text/plain": [
       "[1, 2, 10]"
      ]
     },
     "execution_count": 16,
     "metadata": {},
     "output_type": "execute_result"
    }
   ],
   "source": [
    "trailDict.keys()"
   ]
  },
  {
   "cell_type": "code",
   "execution_count": 17,
   "metadata": {
    "collapsed": false
   },
   "outputs": [
    {
     "data": {
      "text/plain": [
       "[<__main__.Trail instance at 0x02DDAB20>,\n",
       " <__main__.Trail instance at 0x02DDAB48>,\n",
       " <__main__.Trail instance at 0x02DDAD00>]"
      ]
     },
     "execution_count": 17,
     "metadata": {},
     "output_type": "execute_result"
    }
   ],
   "source": [
    " trailDict.values()"
   ]
  },
  {
   "cell_type": "code",
   "execution_count": 19,
   "metadata": {
    "collapsed": false
   },
   "outputs": [
    {
     "name": "stdout",
     "output_type": "stream",
     "text": [
      "ID: 1\n",
      "Length: 3.5\n",
      "Vegetation: barren\n",
      "ID: 2\n",
      "Length: 5.0\n",
      "Vegetation: some bare ground\n",
      "ID: 10\n",
      "Length: 2.8\n",
      "Vegetation: barren\n"
     ]
    }
   ],
   "source": [
    "for t in trailDict.values():\n",
    "  t.reportInfo()"
   ]
  },
  {
   "cell_type": "code",
   "execution_count": null,
   "metadata": {
    "collapsed": true
   },
   "outputs": [],
   "source": []
  },
  {
   "cell_type": "code",
   "execution_count": null,
   "metadata": {
    "collapsed": true
   },
   "outputs": [],
   "source": []
  },
  {
   "cell_type": "markdown",
   "metadata": {},
   "source": [
    "## 21.5 Where to Define a Class"
   ]
  },
  {
   "cell_type": "code",
   "execution_count": null,
   "metadata": {
    "collapsed": true
   },
   "outputs": [],
   "source": [
    "# %load script/highwayInfo.py\n",
    "# highwayInfo.py\n",
    "# Purpose: Define a highway class to be used by other scripts.\n",
    "#          Demonstrate defining a class within a user-defined module to be\n",
    "#          called from another script.\n",
    "# Usage: No arguments required.\n",
    "\n",
    "\n",
    "class Highway:\n",
    "    '''Major road.\n",
    "    Attributes:\n",
    "        name        None-numerical road name.\n",
    "        length      Length based on a network dataset.\n",
    "        travelTime  Estimated time it takes to travel the full length of this highway.\n",
    "    '''\n",
    "    def __init__(self, name, length, tTime):\n",
    "        '''Initialize a Highway object.'''\n",
    "        self.name = name\n",
    "        self.length = length\n",
    "        self.travelTime = tTime\n",
    "\n",
    "    def calculateAvgSpeed(self):\n",
    "        '''Calculate the average speed.'''\n",
    "        avgSpeed = self.length/float(self.travelTime)\n",
    "        return avgSpeed\n",
    "\n",
    "    def getOrientation(self, number):\n",
    "        '''Determine highway orientation based on the hwy number.'''\n",
    "        if number % 2 == 1:  # If the number is odd...\n",
    "            orientation = 'NS'\n",
    "        else:  # Otherwise, the number is even.\n",
    "            orientation = 'EW'\n",
    "        return orientation\n",
    "\n",
    "    def report(self):\n",
    "        '''Print highway attributes.'''\n",
    "        print\n",
    "        print '''{0} Highway\n",
    "-----------\n",
    "{1} km long\n",
    "{2} hours travel time\n",
    "        '''.format(self.name, self.length, self.travelTime)\n",
    "\n",
    "if __name__ == \"__main__\":\n",
    "    hwy = Highway('Lincoln', 4946, 100)\n",
    "    spdLimit = hwy.calculateAvgSpeed()\n",
    "    print 'Avg speed limit: {0} km/hr'.format(spdLimit)\n",
    "    orient = hwy.getOrientation(30)\n",
    "    print 'Orientation: {0}'.format(orient)\n",
    "    hwy.report()\n",
    "\n",
    "# This code will be executed, even when this module is imported.\n",
    "favoriteHighway = Highway('Blue Ridge Parkway', 755, 19)\n",
    "favoriteHighway.report()\n"
   ]
  },
  {
   "cell_type": "code",
   "execution_count": 21,
   "metadata": {
    "collapsed": false
   },
   "outputs": [
    {
     "name": "stdout",
     "output_type": "stream",
     "text": [
      "Avg speed limit: 49.46 km/hr\n",
      "Orientation: EW\n",
      "\n",
      "Lincoln Highway\n",
      "-----------\n",
      "4946 km long\n",
      "100 hours travel time\n",
      "        \n",
      "\n",
      "Blue Ridge Parkway Highway\n",
      "-----------\n",
      "755 km long\n",
      "19 hours travel time\n",
      "        \n"
     ]
    }
   ],
   "source": [
    "%run script2/highwayInfo.py"
   ]
  },
  {
   "cell_type": "code",
   "execution_count": 30,
   "metadata": {
    "collapsed": false
   },
   "outputs": [
    {
     "ename": "SyntaxError",
     "evalue": "invalid syntax (<ipython-input-30-c9728903f1f1>, line 1)",
     "output_type": "error",
     "traceback": [
      "\u001b[1;36m  File \u001b[1;32m\"<ipython-input-30-c9728903f1f1>\"\u001b[1;36m, line \u001b[1;32m1\u001b[0m\n\u001b[1;33m    Lincoln Highway\u001b[0m\n\u001b[1;37m                  ^\u001b[0m\n\u001b[1;31mSyntaxError\u001b[0m\u001b[1;31m:\u001b[0m invalid syntax\n"
     ]
    }
   ],
   "source": [
    "Lincoln Highway"
   ]
  },
  {
   "cell_type": "code",
   "execution_count": 31,
   "metadata": {
    "collapsed": true
   },
   "outputs": [],
   "source": [
    "import sys\n",
    "sys.path.append(\"./script\")"
   ]
  },
  {
   "cell_type": "code",
   "execution_count": 32,
   "metadata": {
    "collapsed": false
   },
   "outputs": [],
   "source": [
    "import highwayInfo"
   ]
  },
  {
   "cell_type": "code",
   "execution_count": null,
   "metadata": {
    "collapsed": true
   },
   "outputs": [],
   "source": []
  },
  {
   "cell_type": "markdown",
   "metadata": {},
   "source": [
    "## 21.6 Classes Within a Separate User-Defined Module"
   ]
  },
  {
   "cell_type": "code",
   "execution_count": null,
   "metadata": {
    "collapsed": true
   },
   "outputs": [],
   "source": [
    "# %load script/handleHighways.py\n",
    "# handleHighways.py\n",
    "# Purpose: Demonstrates using a class defined in a separate user-defined module.\n",
    "# Input:  No arguments needed, but highwayInfo.py must be in the same directory.\n",
    "import highwayInfo\n",
    "myHwy = highwayInfo.Highway('Pacific Highway', 496, 5)\n",
    "\n",
    "spdLimit = myHwy.calculateAvgSpeed()\n",
    "print 'Avg travel speed: {0} km/hr'.format(spdLimit)\n",
    "\n",
    "orient = myHwy.getOrientation(5)\n",
    "print 'Orientation: {0}'.format(orient)\n"
   ]
  },
  {
   "cell_type": "code",
   "execution_count": 25,
   "metadata": {
    "collapsed": false
   },
   "outputs": [
    {
     "name": "stdout",
     "output_type": "stream",
     "text": [
      "\n",
      "Blue Ridge Parkway Highway\n",
      "-----------\n",
      "755 km long\n",
      "19 hours travel time\n",
      "        \n",
      "Avg travel speed: 99.2 km/hr\n",
      "Orientation: NS\n"
     ]
    }
   ],
   "source": [
    "%run script2/handleHighways.py"
   ]
  },
  {
   "cell_type": "code",
   "execution_count": null,
   "metadata": {
    "collapsed": true
   },
   "outputs": [],
   "source": []
  },
  {
   "cell_type": "markdown",
   "metadata": {},
   "source": [
    "## 21.7 Discussion"
   ]
  },
  {
   "cell_type": "markdown",
   "metadata": {},
   "source": [
    "## 21.8 Key Terms"
   ]
  },
  {
   "cell_type": "markdown",
   "metadata": {},
   "source": [
    "## 21.9 Exercises"
   ]
  },
  {
   "cell_type": "code",
   "execution_count": null,
   "metadata": {
    "collapsed": true
   },
   "outputs": [],
   "source": []
  }
 ],
 "metadata": {
  "kernelspec": {
   "display_name": "Python 2",
   "language": "python",
   "name": "python2"
  },
  "language_info": {
   "codemirror_mode": {
    "name": "ipython",
    "version": 2
   },
   "file_extension": ".py",
   "mimetype": "text/x-python",
   "name": "python",
   "nbconvert_exporter": "python",
   "pygments_lexer": "ipython2",
   "version": "2.7.2"
  }
 },
 "nbformat": 4,
 "nbformat_minor": 0
}
