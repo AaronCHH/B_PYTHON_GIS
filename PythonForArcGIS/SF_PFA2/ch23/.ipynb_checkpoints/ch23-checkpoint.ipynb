{
 "cells": [
  {
   "cell_type": "markdown",
   "metadata": {},
   "source": [
    "# 23 ArcGIS Python GUIs\n",
    "* 23.1 Creating a Script Tool\n",
    "  * 23.1.1 Printing from a Script Tool\n",
    "  * 23.1.2 Making a Script Tool Button\n",
    "  * 23.1.3 Pointing to a Script\n",
    "* 23.2 Creating a GUI\n",
    "  * 23.2.1 Using Parameter Data Types\n",
    "  * 23.2.2 Using Parameter Properties\n",
    "* 23.3 Showing\n",
    "* 23.4 Validating\n",
    "  * 23.4.1 The ToolValidator Class\n",
    "* 23.5 Python Toolboxes\n",
    "  * 23.5.1 Setting Up Parameters (getParameterInfo)\n",
    "  * 23.5.2 Checking for Licenses (isLicensed)\n",
    "  * 23.5.3 Validation (updateParameters and updateMessages)\n",
    "  * 23.5.4 Running the Code (execute)\n",
    "  * 23.5.5 Comparing Tools\n",
    "* 23.6 Discussion\n",
    "* 23.7 Key Terms\n",
    "* 23.8 Exercises"
   ]
  },
  {
   "cell_type": "markdown",
   "metadata": {},
   "source": [
    "## 23.1 Creating a Script Tool"
   ]
  },
  {
   "cell_type": "code",
   "execution_count": null,
   "metadata": {
    "collapsed": true
   },
   "outputs": [],
   "source": [
    "# %load scripts/textLister.py\n",
    "# textLister.py\n",
    "# Purpose: Print the text file (.txt) names in the directory.\n",
    "# Usage: No arguments required.\n",
    "import arcpy, os\n",
    "myDir = r'C:\\gispy\\data\\ch23\\smallDir'\n",
    "\n",
    "fileList = os.listdir(myDir)\n",
    "for f in fileList:\n",
    "    if f.endswith(\".txt\"):\n",
    "        print f\n",
    "arcpy.AddMessage('And I like pie!')\n"
   ]
  },
  {
   "cell_type": "code",
   "execution_count": 2,
   "metadata": {
    "collapsed": false
   },
   "outputs": [
    {
     "name": "stdout",
     "output_type": "stream",
     "text": [
      "cfactors.txt\n",
      "crop_yield.txt\n",
      "poem.txt\n",
      "RDUforest.txt\n",
      "report.txt\n",
      "wheatYield.txt\n",
      "xyData2.txt\n"
     ]
    }
   ],
   "source": [
    "%run scripts2/textLister.py"
   ]
  },
  {
   "cell_type": "markdown",
   "metadata": {},
   "source": [
    "## 23.1.1 Printing from a Script Tool"
   ]
  },
  {
   "cell_type": "code",
   "execution_count": null,
   "metadata": {
    "collapsed": true
   },
   "outputs": [],
   "source": [
    "# %load scripts/print4ScriptTools.py\n",
    "# print4ScriptTools.py\n",
    "# Purpose: Prints a directory's file count using\n",
    "#          both 'print' and 'AddMessage'\n",
    "# Usage: No arguments required.\n",
    "\n",
    "import arcpy, os\n",
    "\n",
    "\n",
    "def printArc(message):\n",
    "    '''Print message for script tool and standard output.'''\n",
    "    print message\n",
    "    arcpy.AddMessage(message)\n",
    "\n",
    "myDir = r'C:\\gispy\\data\\ch23\\smallDir'\n",
    "\n",
    "# Lists all the files in the directory.\n",
    "fileList = os.listdir(myDir)\n",
    "\n",
    "myMessage = 'Directory {0} contains {1} files.'.format(myDir, len(fileList))\n",
    "\n",
    "printArc(myMessage)\n"
   ]
  },
  {
   "cell_type": "code",
   "execution_count": 5,
   "metadata": {
    "collapsed": false
   },
   "outputs": [
    {
     "name": "stdout",
     "output_type": "stream",
     "text": [
      "Directory .\\data\\smallDir contains 30 files.\n"
     ]
    }
   ],
   "source": [
    "%run scripts2/print4ScriptTools.py"
   ]
  },
  {
   "cell_type": "markdown",
   "metadata": {},
   "source": [
    "## 23.1.2 Making a Script Tool Button"
   ]
  },
  {
   "cell_type": "markdown",
   "metadata": {},
   "source": [
    "## 23.1.3 Pointing to a Script"
   ]
  },
  {
   "cell_type": "markdown",
   "metadata": {},
   "source": [
    "## 23.2 Creating a GUI"
   ]
  },
  {
   "cell_type": "code",
   "execution_count": null,
   "metadata": {
    "collapsed": true
   },
   "outputs": [],
   "source": [
    "# %load scripts/deleter.py\n",
    "# deleter.py\n",
    "# Purpose: Delete files from a workspace based on their type and name.\n",
    "# Usage: workspace datatype(raster, feature class, or other) wildcard\n",
    "# Sample input: C:/gispy/data/ch23/rastTester.gdb raster _out\n",
    "\n",
    "import arcpy, os, sys\n",
    "\n",
    "\n",
    "def printArc(message):\n",
    "    '''Print message for script tool and standard output.'''\n",
    "    print message\n",
    "    arcpy.AddMessage(message)\n",
    "\n",
    "arcpy.env.workspace = sys.argv[1]\n",
    "fType = sys.argv[2]\n",
    "wildcard = sys.argv[3]\n",
    "substring = '*{0}*'.format(wildcard)\n",
    "\n",
    "if fType == 'raster':\n",
    "    data = arcpy.ListRasters(substring)\n",
    "elif fType == 'feature class':\n",
    "    data = arcpy.ListFeatureClasses(substring)\n",
    "else:\n",
    "    entireDir = os.listdir(arcpy.env.workspace)\n",
    "    data = []\n",
    "    for d in entireDir:\n",
    "        if d.endswith(wildcard):\n",
    "            data.append(d)\n",
    "for d in data:\n",
    "    try:\n",
    "        arcpy.Delete_management(d)\n",
    "        printArc('{0}/{1} deleted.'.format(arcpy.env.workspace, d))\n",
    "    except arcpy.ExecuteError:\n",
    "        printArc(arcpy.GetMessages())\n"
   ]
  },
  {
   "cell_type": "code",
   "execution_count": 7,
   "metadata": {
    "collapsed": false
   },
   "outputs": [
    {
     "ename": "IndexError",
     "evalue": "list index out of range",
     "output_type": "error",
     "traceback": [
      "\u001b[1;31m---------------------------------------------------------------------------\u001b[0m",
      "\u001b[1;31mIndexError\u001b[0m                                Traceback (most recent call last)",
      "\u001b[1;32mD:\\BOOKS\\GISen\\_PYTHON\\PythonForArcGIS\\SF_PFA\\ch23\\scripts\\deleter.py\u001b[0m in \u001b[0;36m<module>\u001b[1;34m()\u001b[0m\n\u001b[0;32m     12\u001b[0m     \u001b[0marcpy\u001b[0m\u001b[1;33m.\u001b[0m\u001b[0mAddMessage\u001b[0m\u001b[1;33m(\u001b[0m\u001b[0mmessage\u001b[0m\u001b[1;33m)\u001b[0m\u001b[1;33m\u001b[0m\u001b[0m\n\u001b[0;32m     13\u001b[0m \u001b[1;33m\u001b[0m\u001b[0m\n\u001b[1;32m---> 14\u001b[1;33m \u001b[0marcpy\u001b[0m\u001b[1;33m.\u001b[0m\u001b[0menv\u001b[0m\u001b[1;33m.\u001b[0m\u001b[0mworkspace\u001b[0m \u001b[1;33m=\u001b[0m \u001b[0msys\u001b[0m\u001b[1;33m.\u001b[0m\u001b[0margv\u001b[0m\u001b[1;33m[\u001b[0m\u001b[1;36m1\u001b[0m\u001b[1;33m]\u001b[0m\u001b[1;33m\u001b[0m\u001b[0m\n\u001b[0m\u001b[0;32m     15\u001b[0m \u001b[0mfType\u001b[0m \u001b[1;33m=\u001b[0m \u001b[0msys\u001b[0m\u001b[1;33m.\u001b[0m\u001b[0margv\u001b[0m\u001b[1;33m[\u001b[0m\u001b[1;36m2\u001b[0m\u001b[1;33m]\u001b[0m\u001b[1;33m\u001b[0m\u001b[0m\n\u001b[0;32m     16\u001b[0m \u001b[0mwildcard\u001b[0m \u001b[1;33m=\u001b[0m \u001b[0msys\u001b[0m\u001b[1;33m.\u001b[0m\u001b[0margv\u001b[0m\u001b[1;33m[\u001b[0m\u001b[1;36m3\u001b[0m\u001b[1;33m]\u001b[0m\u001b[1;33m\u001b[0m\u001b[0m\n",
      "\u001b[1;31mIndexError\u001b[0m: list index out of range"
     ]
    }
   ],
   "source": [
    "%run scripts/deleter.py "
   ]
  },
  {
   "cell_type": "markdown",
   "metadata": {},
   "source": [
    "## 23.2.1 Using Parameter Data Types"
   ]
  },
  {
   "cell_type": "markdown",
   "metadata": {},
   "source": [
    "## 23.2.2 Using Parameter Properties"
   ]
  },
  {
   "cell_type": "code",
   "execution_count": null,
   "metadata": {
    "collapsed": true
   },
   "outputs": [],
   "source": [
    "# %load scripts/buffer1.py\n",
    "# buffer1.py\n",
    "# Purpose:  Buffer a file and send the result to a script tool.\n",
    "\n",
    "import arcpy\n",
    "arcpy.env.overwriteOutput = True\n",
    "\n",
    "fileToBuffer = 'C:/gispy/data/ch23/smallDir/randpts.shp'\n",
    "distance = '500 meters'\n",
    "outputFile = 'C:/gispy/scratch/randptsBuffer.shp'\n",
    "\n",
    "arcpy.Buffer_analysis(fileToBuffer, outputFile, distance)\n",
    "\n",
    "arcpy.SetParameterAsText(0, outputFile)\n"
   ]
  },
  {
   "cell_type": "code",
   "execution_count": 9,
   "metadata": {
    "collapsed": true
   },
   "outputs": [],
   "source": [
    "%run scripts2/buffer1.py"
   ]
  },
  {
   "cell_type": "code",
   "execution_count": null,
   "metadata": {
    "collapsed": false
   },
   "outputs": [],
   "source": [
    "# %load scripts/buffer2.py\n",
    "# buffer2.py\n",
    "# Purpose:  Buffer an input file by an input distance\n",
    "#           and send the result to a script tool.\n",
    "\n",
    "import arcpy, os, sys\n",
    "arcpy.env.overwriteOutput = True\n",
    "\n",
    "fileToBuffer = sys.argv[1]\n",
    "distance = sys.argv[2]\n",
    "arcpy.env.workspace = os.path.dirname(fileToBuffer)\n",
    "outputFile = 'C:/gispy/scratch/Buff'\n",
    "\n",
    "arcpy.Buffer_analysis(fileToBuffer, outputFile, distance)\n",
    "\n",
    "arcpy.SetParameterAsText(2, outputFile)"
   ]
  },
  {
   "cell_type": "code",
   "execution_count": 16,
   "metadata": {
    "collapsed": false
   },
   "outputs": [],
   "source": [
    "%run scripts2/buffer2.py data/smallDir/randpts.shp '500 meters'"
   ]
  },
  {
   "cell_type": "code",
   "execution_count": null,
   "metadata": {
    "collapsed": true
   },
   "outputs": [],
   "source": [
    "# %load scripts/multiIn.py\n",
    "# multiIn.py\n",
    "# Purpose: Parse a semicolon delimited input string.\n",
    "import reportSTargs, sys\n",
    "\n",
    "inputString = sys.argv[1]\n",
    "\n",
    "reportSTargs.printArc('Input string: {0}'.format(inputString))\n",
    "\n",
    "inputList = inputString.split(';')\n",
    "\n",
    "for i in inputList:\n",
    "    reportSTargs.printArc('Input file: {0}'.format(i))\n"
   ]
  },
  {
   "cell_type": "code",
   "execution_count": null,
   "metadata": {
    "collapsed": true
   },
   "outputs": [],
   "source": [
    "# %load scripts/bufferAll.py\n",
    "# bufferAll.py\n",
    "# Purpose: Buffer all the feature classes in an input folder by the input distance and\n",
    "#          send the output file names to script tool.\n",
    "# Arguments: working_directory linear_unit\n",
    "# Sample input: C:/gispy/data/ch23/smallDir \"0.2 miles\"\n",
    "\n",
    "import arcpy, reportSTargs, sys\n",
    "\n",
    "arcpy.env.overwriteOutput = True\n",
    "arcpy.env.workspace = sys.argv[1]\n",
    "distance = sys.argv[2]\n",
    "\n",
    "fcs = arcpy.ListFeatureClasses()\n",
    "outList = []\n",
    "for fc in fcs:\n",
    "    reportSTargs.printArc('Processing: {0}'.format(fc))\n",
    "    outputFile = 'C:/gispy/scratch/' + fc[:-4] + 'Out.shp'\n",
    "    try:\n",
    "        arcpy.Buffer_analysis(fc, outputFile, distance)\n",
    "        reportSTargs.printArc('Created {0}'.format(outputFile))\n",
    "        outList.append(outputFile)\n",
    "    except arcpy.ExecuteError:\n",
    "        reportSTargs.printArc(arcpy.GetMessages())\n",
    "\n",
    "results = \";\".join(outList)\n",
    "\n",
    "reportSTargs.printArc(results)\n",
    "\n",
    "arcpy.SetParameterAsText(2, results)\n"
   ]
  },
  {
   "cell_type": "code",
   "execution_count": null,
   "metadata": {
    "collapsed": true
   },
   "outputs": [],
   "source": [
    "# %load scripts/getFeatures.py\n",
    "# getFeatures.py\n",
    "# Purpose: Copy the digitized feature set input into a shapefile\n",
    "#          and send this to the script tool as output.\n",
    "\n",
    "import arcpy, sys\n",
    "arcpy.env.overwriteOutput = True\n",
    "fs = sys.argv[1]\n",
    "outputFeat = 'C:/gispy/scratch/getFeaturesOutput.shp'\n",
    "arcpy.CopyFeatures_management(fs, outputFeat)\n",
    "arcpy.SetParameterAsText(1, outputFeat)\n"
   ]
  },
  {
   "cell_type": "code",
   "execution_count": null,
   "metadata": {
    "collapsed": true
   },
   "outputs": [],
   "source": [
    "# %load scripts/regional.py\n",
    "# regional.py\n",
    "# Purpose: Print the names of states in the input region.\n",
    "# Usage: region\n",
    "# Example input: Mountain\n",
    "\n",
    "import arcpy, reportSTargs, sys\n",
    "\n",
    "region = sys.argv[1]\n",
    "\n",
    "inf = 'C:/gispy/data/ch23/USA/USA_States_Generalized.shp'\n",
    "\n",
    "fields = ['SUB_REGION', 'STATE_NAME']\n",
    "\n",
    "sc = arcpy.da.SearchCursor(inf, fields)\n",
    "\n",
    "reportSTargs.printArc('\\n--States in {0}--'.format(region))\n",
    "\n",
    "for row in sc:\n",
    "    if row[0] == region:\n",
    "        reportSTargs.printArc(row[1])\n",
    "\n",
    "reportSTargs.printArc('\\n')\n",
    "del sc\n"
   ]
  },
  {
   "cell_type": "code",
   "execution_count": null,
   "metadata": {
    "collapsed": true
   },
   "outputs": [],
   "source": [
    "# %load scripts/combineFields.py\n",
    "# combineFields.py\n",
    "# Purpose: Create a new field that is the sum of two existing fields.\n",
    "import arcpy, sys\n",
    "\n",
    "dataset = sys.argv[1]\n",
    "field1 = sys.argv[2]\n",
    "field2 = sys.argv[3]\n",
    "newfield = sys.argv[4]\n",
    "\n",
    "arcpy.AddField_management(dataset, newfield)\n",
    "expression = '!{0}!+!{1}!'.format(field1, field2)\n",
    "arcpy.CalculateField_management(dataset, newfield, expression, 'PYTHON')\n",
    "\n",
    "arcpy.SetParameterAsText(4, dataset)\n"
   ]
  },
  {
   "cell_type": "code",
   "execution_count": null,
   "metadata": {
    "collapsed": true
   },
   "outputs": [],
   "source": [
    "# %load scripts/feature2point.py\n",
    "# feature2point.py\n",
    "# Purpose: Find the centroids of the input polygons.\n",
    "\n",
    "import arcpy, sys\n",
    "\n",
    "arcpy.env.overwriteOutput = True\n",
    "inputFile = sys.argv[1]\n",
    "outputFile = 'C:/gispy/scratch/Points.shp'\n",
    "\n",
    "# Find points based on the input.\n",
    "arcpy.FeatureToPoint_management(inputFile, outputFile)\n",
    "\n",
    "# Return the results to the tool.\n",
    "arcpy.SetParameterAsText(1, outputFile)\n"
   ]
  },
  {
   "cell_type": "markdown",
   "metadata": {},
   "source": [
    "## 23.3 Showing Progress"
   ]
  },
  {
   "cell_type": "code",
   "execution_count": null,
   "metadata": {
    "collapsed": true
   },
   "outputs": [],
   "source": [
    "# %load scripts/defaultProgressor.py\n",
    "# defaultProgressor.py\n",
    "# Purpose: Delete files from a workspace based on their type and name and\n",
    "#          use the default progressor to show progress.\n",
    "# Arguments: workspace datatype(raster, feature class, or other) wildcard\n",
    "# Sample input: C:/gispy/data/ch23/rastTester.gdb raster _out\n",
    "\n",
    "import arcpy, os, sys, time\n",
    "\n",
    "\n",
    "def printArc(message):\n",
    "    '''Print message for script tool and standard output.'''\n",
    "    print message\n",
    "    arcpy.AddMessage(message)\n",
    "\n",
    "arcpy.env.workspace = sys.argv[1]\n",
    "fType = sys.argv[2]\n",
    "wildcard = sys.argv[3]\n",
    "substring = '*{0}*'.format(wildcard)\n",
    "\n",
    "if fType == 'raster':\n",
    "    data = arcpy.ListRasters(substring)\n",
    "elif fType == 'feature class':\n",
    "    data = arcpy.ListFeatureClasses(substring)\n",
    "else:\n",
    "    entireDir = os.listdir(arcpy.env.workspace)\n",
    "    data = []\n",
    "    for d in entireDir:\n",
    "        if d.endswith(wildcard):\n",
    "            data.append(d)\n",
    "\n",
    "message = \"Delete '{0}' files from {1}\".format(wildcard, arcpy.env.workspace)\n",
    "arcpy.SetProgressor('default', message)\n",
    "time.sleep(1)\n",
    "printArc(message)\n",
    "for d in data:\n",
    "    try:\n",
    "        arcpy.SetProgressorLabel('Deleting {0}'.format(d))\n",
    "        arcpy.Delete_management(d)\n",
    "        printArc('{0}/{1} deleted'.format(arcpy.env.workspace, d))\n",
    "        time.sleep(3)\n",
    "    except arcpy.ExecuteError:\n",
    "        printArc(arcpy.GetMessages())\n"
   ]
  },
  {
   "cell_type": "code",
   "execution_count": null,
   "metadata": {
    "collapsed": true
   },
   "outputs": [],
   "source": [
    "# %load scripts/stepProgressor.py\n",
    "# stepProgressor.py\n",
    "# Purpose: Delete files from a workspace based on their type and name and\n",
    "#          use the step progressor to show progress.\n",
    "# Arguments: workspace datatype(raster, feature class, or other) wildcard\n",
    "# Sample input: C:/gispy/data/ch23/rastTester.gdb raster _out\n",
    "\n",
    "import arcpy, os, sys, time\n",
    "\n",
    "\n",
    "def printArc(message):\n",
    "    '''Print message for script tool and standard output.'''\n",
    "    print message\n",
    "    arcpy.AddMessage(message)\n",
    "\n",
    "arcpy.env.workspace = sys.argv[1]\n",
    "fType = sys.argv[2]\n",
    "wildcard = sys.argv[3]\n",
    "substring = '*{0}*'.format(wildcard)\n",
    "\n",
    "if fType == 'raster':\n",
    "    data = arcpy.ListRasters(substring)\n",
    "elif fType == 'feature class':\n",
    "    data = arcpy.ListFeatureClasses(substring)\n",
    "else:\n",
    "    entireDir = os.listdir(arcpy.env.workspace)\n",
    "    data = []\n",
    "    for d in entireDir:\n",
    "        if d.endswith(wildcard):\n",
    "            data.append(d)\n",
    "\n",
    "# Initialize progressor.\n",
    "message = \"Preparing to delete '{0}' files from {1}\".format(wildcard, arcpy.env.workspace)\n",
    "arcpy.SetProgressor('step', message, 0, len(data))\n",
    "time.sleep(3)\n",
    "printArc(message)\n",
    "for d in data:\n",
    "    try:\n",
    "        # Update progress label\n",
    "        arcpy.SetProgressorLabel('Deleting {0}'.format(d))\n",
    "        arcpy.Delete_management(d)\n",
    "        printArc('{0}/{1} deleted'.format(arcpy.env.workspace, d))\n",
    "        time.sleep(3)\n",
    "    except arcpy.ExecuteError:\n",
    "        printArc(arcpy.GetMessages())\n",
    "    # Update progress bar percent.\n",
    "    arcpy.SetProgressorPosition()\n"
   ]
  },
  {
   "cell_type": "code",
   "execution_count": null,
   "metadata": {
    "collapsed": true
   },
   "outputs": [],
   "source": []
  },
  {
   "cell_type": "code",
   "execution_count": null,
   "metadata": {
    "collapsed": true
   },
   "outputs": [],
   "source": []
  },
  {
   "cell_type": "markdown",
   "metadata": {},
   "source": [
    "## 23.4 Validating"
   ]
  },
  {
   "cell_type": "code",
   "execution_count": null,
   "metadata": {
    "collapsed": true
   },
   "outputs": [],
   "source": [
    "%load scripts/"
   ]
  },
  {
   "cell_type": "markdown",
   "metadata": {},
   "source": [
    "## 23.4.1 The ToolValidator Class"
   ]
  },
  {
   "cell_type": "code",
   "execution_count": null,
   "metadata": {
    "collapsed": true
   },
   "outputs": [],
   "source": []
  },
  {
   "cell_type": "markdown",
   "metadata": {},
   "source": [
    "## 23.5 Python Toolboxes"
   ]
  },
  {
   "cell_type": "markdown",
   "metadata": {},
   "source": [
    "## 23.5.1 Setting Up Parameters (getParameterInfo)"
   ]
  },
  {
   "cell_type": "markdown",
   "metadata": {},
   "source": [
    "## 23.5.2 Checking for Licenses (isLicensed)"
   ]
  },
  {
   "cell_type": "markdown",
   "metadata": {},
   "source": [
    "## 23.5.3 Validation (updateParameters and updateMessages)"
   ]
  },
  {
   "cell_type": "markdown",
   "metadata": {},
   "source": [
    "## 23.5.4 Running the Code (execute)"
   ]
  },
  {
   "cell_type": "markdown",
   "metadata": {},
   "source": [
    "## 23.5.5 Comparing Tools"
   ]
  },
  {
   "cell_type": "markdown",
   "metadata": {},
   "source": [
    "## 23.6 Discussion"
   ]
  },
  {
   "cell_type": "markdown",
   "metadata": {},
   "source": [
    "## 23.7 Key Terms"
   ]
  },
  {
   "cell_type": "markdown",
   "metadata": {},
   "source": [
    "## 23.8 Exercises"
   ]
  },
  {
   "cell_type": "code",
   "execution_count": null,
   "metadata": {
    "collapsed": true
   },
   "outputs": [],
   "source": []
  }
 ],
 "metadata": {
  "kernelspec": {
   "display_name": "Python 2",
   "language": "python",
   "name": "python2"
  },
  "language_info": {
   "codemirror_mode": {
    "name": "ipython",
    "version": 2
   },
   "file_extension": ".py",
   "mimetype": "text/x-python",
   "name": "python",
   "nbconvert_exporter": "python",
   "pygments_lexer": "ipython2",
   "version": "2.7.2"
  }
 },
 "nbformat": 4,
 "nbformat_minor": 0
}
