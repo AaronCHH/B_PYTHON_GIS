{
 "cells": [
  {
   "cell_type": "markdown",
   "metadata": {},
   "source": [
    "# 13 Debugging"
   ]
  },
  {
   "cell_type": "markdown",
   "metadata": {},
   "source": [
    "## 13.1 Syntax Errors"
   ]
  },
  {
   "cell_type": "markdown",
   "metadata": {},
   "source": [
    "### buggyCode1.py"
   ]
  },
  {
   "cell_type": "code",
   "execution_count": null,
   "metadata": {
    "collapsed": true
   },
   "outputs": [],
   "source": [
    "# %load ch13/script2/buggyCode1.py\n",
    "# buggyCode1.py\n",
    "import os, sys\n",
    "outputDir = os.path.dirname(sys.argv[1]) + '\\outputFiles/\n",
    "if not os.path.exists(outputDir :\n",
    "    os.mkdir(outputDir)\n"
   ]
  },
  {
   "cell_type": "markdown",
   "metadata": {},
   "source": [
    "## 13.2 Exceptions"
   ]
  },
  {
   "cell_type": "markdown",
   "metadata": {},
   "source": [
    "### buggyCode2.py"
   ]
  },
  {
   "cell_type": "code",
   "execution_count": null,
   "metadata": {
    "collapsed": true
   },
   "outputs": [],
   "source": [
    "# %load ch13/script2/buggyCode2.py\n",
    "# buggyCode2.py\n",
    "import arcpy, sys, os\n",
    "arcpy.env.workspace = sys.argv[1]\n",
    "fc = arcpy.ListFeatureClasses()\n",
    "for fc in fcs:\n",
    "    # Append Buffer to the output name?\n",
    "    fcBuffer = os.path.splitext(fc)[0] + 'Buffer.shp'\n",
    "    # Call buffer tool with required input, output, and distance arguments.\n",
    "    arcpy.Buffer_analysis(fc, fcBuffer, '1 elephant')\n"
   ]
  },
  {
   "cell_type": "markdown",
   "metadata": {},
   "source": [
    "## 13.3 Logic Errors"
   ]
  },
  {
   "cell_type": "markdown",
   "metadata": {},
   "source": [
    "### buggyCode3.py"
   ]
  },
  {
   "cell_type": "code",
   "execution_count": 13,
   "metadata": {
    "collapsed": false
   },
   "outputs": [
    {
     "name": "stdout",
     "output_type": "stream",
     "text": [
      "[1845, 1843, 1842, 1839, 1838, 1837, 1835, 1833]\n"
     ]
    }
   ],
   "source": [
    "# %load ch13/script2/buggyCode3.py\n",
    "# buggyCode3.py\n",
    "# Purpose: Normalize data time steps.\n",
    "timeSteps = [2011, 2009, 2008, 2005, 2004, 2003, 2001, 1999]\n",
    "# Normalize to values between 0 and 1.\n",
    "maxv = max(timeSteps)\n",
    "minv = min(timeSteps)\n",
    "r = maxv - minv\n",
    "normalizedList = [v - minv/r for v in timeSteps]\n",
    "print normalizedList"
   ]
  },
  {
   "cell_type": "code",
   "execution_count": 15,
   "metadata": {
    "collapsed": false,
    "scrolled": true
   },
   "outputs": [
    {
     "name": "stdout",
     "output_type": "stream",
     "text": [
      "[1845, 1843, 1842, 1839, 1838, 1837, 1835, 1833]\n"
     ]
    }
   ],
   "source": [
    "%run ch13/script2/buggyCode3.py"
   ]
  },
  {
   "cell_type": "code",
   "execution_count": 18,
   "metadata": {
    "collapsed": false,
    "scrolled": false
   },
   "outputs": [
    {
     "data": {
      "text/plain": [
       "[1, 0, 0, 0, 0, 0, 0, 0]"
      ]
     },
     "execution_count": 18,
     "metadata": {},
     "output_type": "execute_result"
    }
   ],
   "source": [
    "normalizedList = [(v - minv)/r for v in timeSteps]\n",
    "normalizedList"
   ]
  },
  {
   "cell_type": "code",
   "execution_count": 20,
   "metadata": {
    "collapsed": false,
    "scrolled": true
   },
   "outputs": [
    {
     "data": {
      "text/plain": [
       "[1.0,\n",
       " 0.8333333333333334,\n",
       " 0.75,\n",
       " 0.5,\n",
       " 0.4166666666666667,\n",
       " 0.3333333333333333,\n",
       " 0.16666666666666666,\n",
       " 0.0]"
      ]
     },
     "execution_count": 20,
     "metadata": {},
     "output_type": "execute_result"
    }
   ],
   "source": [
    "normalizedList = [(v - minv)/float(r) for v in timeSteps]\n",
    "normalizedList"
   ]
  },
  {
   "cell_type": "markdown",
   "metadata": {},
   "source": [
    "### buggyLoop.py"
   ]
  },
  {
   "cell_type": "code",
   "execution_count": null,
   "metadata": {
    "collapsed": true
   },
   "outputs": [],
   "source": [
    "# %load ch13/script2/buggyLoop.py\n",
    "# buggyLoop.py\n",
    "# Remove feature classes whose names do not contain the given tag\n",
    "tag = 'zones'  #'data'\n",
    "fcs = [u'data1', u'data2', u'data3', u'fireStations',\n",
    "       u'park_data', u'PTdata4', u'schoolzones',\n",
    "       u'regions1', u'regions2', u'workzones']\n",
    "\n",
    "print 'Before loop: {0}'.format(fcs)\n",
    "for fcName in fcs:\n",
    "    if tag in fcName:\n",
    "        fcs.remove(fcName)\n",
    "print 'After loop: {0}'.format(fcs)\n",
    "\n",
    "\n",
    "##print 'Before loop: {0}'.format(fcs)\n",
    "##fcsOut = []\n",
    "##for fcName in fcs:\n",
    "##\tif tag not in fcName:\n",
    "##\t\tfcsOut.append(fcName)\n",
    "##print 'After loop: {0}'.format(fcsOut)\n"
   ]
  },
  {
   "cell_type": "code",
   "execution_count": 22,
   "metadata": {
    "collapsed": false
   },
   "outputs": [
    {
     "name": "stdout",
     "output_type": "stream",
     "text": [
      "Before loop: [u'data1', u'data2', u'data3', u'fireStations', u'park_data', u'PTdata4', u'schoolzones', u'regions1', u'regions2', u'workzones']\n",
      "After loop: [u'data1', u'data2', u'data3', u'fireStations', u'park_data', u'PTdata4', u'regions1', u'regions2']\n"
     ]
    }
   ],
   "source": [
    "%run ch13/script2/buggyLoop.py"
   ]
  },
  {
   "cell_type": "markdown",
   "metadata": {},
   "source": [
    "### buggyFreq.py"
   ]
  },
  {
   "cell_type": "code",
   "execution_count": null,
   "metadata": {
    "collapsed": true
   },
   "outputs": [],
   "source": [
    "# %load ch13/script2/buggyFreq.py\n",
    "# buggyFreq.py\n",
    "# Purpose: Find frequency of each value in each string field\n",
    "\n",
    "import arcpy\n",
    "arcpy.env.overwriteOutput = True\n",
    "arcpy.env.workspace = 'C:/gispy/data/ch13/smallTest.gdb'\n",
    "featureList = arcpy.ListFeatureClasses()\n",
    "\n",
    "for inputFile in featureList:\n",
    "    fields = arcpy.ListFields(inputFile, '*', 'String')\n",
    "    for field in fields:\n",
    "        fieldName = field.name\n",
    "    outTable = inputFile + fieldName + 'freq'\n",
    "    arcpy.Frequency_analysis(inputFile, outTable, fieldName)\n",
    "    print 'Output table created: {0}'.format(outTable)\n"
   ]
  },
  {
   "cell_type": "code",
   "execution_count": null,
   "metadata": {
    "collapsed": true
   },
   "outputs": [],
   "source": []
  },
  {
   "cell_type": "code",
   "execution_count": null,
   "metadata": {
    "collapsed": true
   },
   "outputs": [],
   "source": []
  },
  {
   "cell_type": "markdown",
   "metadata": {},
   "source": [
    "## 13.4 PythonWin Debugging Toolbar"
   ]
  },
  {
   "cell_type": "markdown",
   "metadata": {},
   "source": [
    "### 13.4.1 Using Breakpoints"
   ]
  },
  {
   "cell_type": "markdown",
   "metadata": {},
   "source": [
    "## 13.5 Running in Debug Mode"
   ]
  },
  {
   "cell_type": "markdown",
   "metadata": {},
   "source": [
    "## 13.6 PyScripter Debugging Toolbar"
   ]
  },
  {
   "cell_type": "markdown",
   "metadata": {},
   "source": [
    "## 13.7 Debugging Tips"
   ]
  },
  {
   "cell_type": "markdown",
   "metadata": {},
   "source": [
    "## 13.8 Key Terms"
   ]
  },
  {
   "cell_type": "markdown",
   "metadata": {},
   "source": [
    "## 13.9 Exercises "
   ]
  },
  {
   "cell_type": "code",
   "execution_count": null,
   "metadata": {
    "collapsed": true
   },
   "outputs": [],
   "source": []
  }
 ],
 "metadata": {
  "kernelspec": {
   "display_name": "Python 2",
   "language": "python",
   "name": "python2"
  },
  "language_info": {
   "codemirror_mode": {
    "name": "ipython",
    "version": 2
   },
   "file_extension": ".py",
   "mimetype": "text/x-python",
   "name": "python",
   "nbconvert_exporter": "python",
   "pygments_lexer": "ipython2",
   "version": "2.7.13"
  }
 },
 "nbformat": 4,
 "nbformat_minor": 1
}
