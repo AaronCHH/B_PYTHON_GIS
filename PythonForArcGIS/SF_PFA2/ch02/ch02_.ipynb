{
 "cells": [
  {
   "cell_type": "code",
   "execution_count": null,
   "metadata": {
    "collapsed": true
   },
   "outputs": [],
   "source": [
    "# %load add_version1.py\n",
    "# add_version1.py adds two numbers.\n",
    "a = 2\n",
    "b = 3\n",
    "c = a + b\n",
    "# format(c) substitutes the value of c for {0} in the print statement.\n",
    "print 'The sum is {0}.'.format(c)\n"
   ]
  },
  {
   "cell_type": "code",
   "execution_count": 5,
   "metadata": {
    "collapsed": false,
    "scrolled": true
   },
   "outputs": [
    {
     "name": "stdout",
     "output_type": "stream",
     "text": [
      "The sum is 5.\n"
     ]
    }
   ],
   "source": [
    "%run add_version1.py"
   ]
  },
  {
   "cell_type": "markdown",
   "metadata": {},
   "source": [
    "---"
   ]
  },
  {
   "cell_type": "code",
   "execution_count": null,
   "metadata": {
    "collapsed": true
   },
   "outputs": [],
   "source": [
    "# %load add_version2.py\n",
    "# add_version2.py adds two numbers given as arguments.\n",
    "\n",
    "import sys  # Now the script can use the built-in Python system module.\n",
    "\n",
    "# sys.argv is the system argument vector.\n",
    "# int changes the input to an integer number.\n",
    "a = int(sys.argv[1])\n",
    "b = int(sys.argv[2])\n",
    "\n",
    "c = a + b\n",
    "# format(c) substitutes the value of c for {0} in the print statement.\n",
    "print 'The sum is {0}.'.format(c)\n"
   ]
  },
  {
   "cell_type": "code",
   "execution_count": 4,
   "metadata": {
    "collapsed": false,
    "scrolled": true
   },
   "outputs": [
    {
     "name": "stdout",
     "output_type": "stream",
     "text": [
      "The sum is 5.\n"
     ]
    }
   ],
   "source": [
    "%run add_version2.py 2 3"
   ]
  },
  {
   "cell_type": "markdown",
   "metadata": {},
   "source": [
    "---"
   ]
  },
  {
   "cell_type": "code",
   "execution_count": null,
   "metadata": {
    "collapsed": false
   },
   "outputs": [],
   "source": [
    "# %load describe_fc.py\n",
    "# describe_fc.py\n",
    "# Purpose: Print information about each feature class in a workspace.\n",
    "# Usage: Workspace\n",
    "# Example input: C:/gispy/data/ch02\n",
    "# Output: A list of basic information about each feature class.\n",
    "# Author: Lou Lou Who 7/20/2055\n",
    "\n",
    "import arcpy, sys\n",
    "\n",
    "# GET the input workspace from the user.\n",
    "# arcpy.env.workspace = sys.argv[1]\n",
    "arcpy.env.workspace = \"./\"\n",
    "\n",
    "# GET a list of the feature classes in the workspace.\n",
    "fcs = arcpy.ListFeatureClasses()\n",
    "\n",
    "# PRINT basic information about each feature class in the folder.\n",
    "print 'Feature classes in folder {0}:'.format(arcpy.env.workspace)\n",
    "for fc in fcs:\n",
    "    desc = arcpy.Describe(fc)\n",
    "    print 'Name:        {0}'.format(fc)\n",
    "    print 'Data type:   {0}'.format(desc.dataType)\n",
    "    print 'Data class:  {0}'.format(desc.dataSetType)\n",
    "    print 'Type:        {0}'.format(desc.featureType)\n",
    "    print 'Shape type:  {0}'.format(desc.shapeType)\n",
    "    print 'Has M:       {0}'.format(desc.hasM)\n",
    "    print 'Has Z:       {0}'.format(desc.hasZ)\n",
    "    print\n",
    "print 'Feature class list complete.'\n"
   ]
  },
  {
   "cell_type": "code",
   "execution_count": 9,
   "metadata": {
    "collapsed": false,
    "scrolled": true
   },
   "outputs": [
    {
     "name": "stdout",
     "output_type": "stream",
     "text": [
      "Feature classes in folder ./data:\n",
      "Name:        fires.shp\n",
      "Data type:   ShapeFile\n",
      "Data class:  FeatureClass\n",
      "Type:        Simple\n",
      "Shape type:  Point\n",
      "Has M:       False\n",
      "Has Z:       False\n",
      "\n",
      "Name:        park.shp\n",
      "Data type:   ShapeFile\n",
      "Data class:  FeatureClass\n",
      "Type:        Simple\n",
      "Shape type:  Polygon\n",
      "Has M:       False\n",
      "Has Z:       False\n",
      "\n",
      "Feature class list complete.\n"
     ]
    }
   ],
   "source": [
    "%run describe_fc.py \"./data\""
   ]
  },
  {
   "cell_type": "code",
   "execution_count": null,
   "metadata": {
    "collapsed": true
   },
   "outputs": [],
   "source": []
  }
 ],
 "metadata": {
  "kernelspec": {
   "display_name": "Python 2",
   "language": "python",
   "name": "python2"
  },
  "language_info": {
   "codemirror_mode": {
    "name": "ipython",
    "version": 2
   },
   "file_extension": ".py",
   "mimetype": "text/x-python",
   "name": "python",
   "nbconvert_exporter": "python",
   "pygments_lexer": "ipython2",
   "version": "2.7.2"
  }
 },
 "nbformat": 4,
 "nbformat_minor": 0
}
