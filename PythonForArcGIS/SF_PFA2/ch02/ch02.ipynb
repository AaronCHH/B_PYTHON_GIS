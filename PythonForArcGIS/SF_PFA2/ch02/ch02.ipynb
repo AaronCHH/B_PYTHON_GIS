{
 "cells": [
  {
   "cell_type": "markdown",
   "metadata": {},
   "source": [
    "# 2 Beginning Python"
   ]
  },
  {
   "cell_type": "markdown",
   "metadata": {},
   "source": [
    "## 2.1 Where to Write Code\n",
    "## 2.2 How to Run Code in PythonWin and PyScripter\n",
    "## 2.3 How to Pass Input to a Script"
   ]
  },
  {
   "cell_type": "markdown",
   "metadata": {},
   "source": [
    "## 2.4 Python Components"
   ]
  },
  {
   "cell_type": "markdown",
   "metadata": {},
   "source": [
    "### 2.4.1 Comments\n",
    "### 2.4.2 Keywords\n",
    "### 2.4.3 Indentation\n",
    "### 2.4.4 Built-in Functions\n",
    "### 2.4.5 Variables, Assignment Statements, and Dynamic\n",
    "### 2.4.6 Variables Names and Tracebacks\n",
    "### 2.4.7 Built-in Constants and Exceptions\n",
    "### 2.4.8 Standard (Built-in) Modules"
   ]
  },
  {
   "cell_type": "markdown",
   "metadata": {},
   "source": [
    "## 2.5 Key Terms\n",
    "## 2.6 Exercises"
   ]
  },
  {
   "cell_type": "code",
   "execution_count": null,
   "metadata": {
    "collapsed": true
   },
   "outputs": [],
   "source": []
  }
 ],
 "metadata": {
  "kernelspec": {
   "display_name": "Python 2",
   "language": "python",
   "name": "python2"
  },
  "language_info": {
   "codemirror_mode": {
    "name": "ipython",
    "version": 2
   },
   "file_extension": ".py",
   "mimetype": "text/x-python",
   "name": "python",
   "nbconvert_exporter": "python",
   "pygments_lexer": "ipython2",
   "version": "2.7.2"
  }
 },
 "nbformat": 4,
 "nbformat_minor": 1
}
