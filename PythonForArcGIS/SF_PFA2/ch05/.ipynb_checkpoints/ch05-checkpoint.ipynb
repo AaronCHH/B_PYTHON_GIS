{
 "cells": [
  {
   "cell_type": "code",
   "execution_count": 1,
   "metadata": {
    "collapsed": false
   },
   "outputs": [
    {
     "data": {
      "text/plain": [
       "u'Available'"
      ]
     },
     "execution_count": 1,
     "metadata": {},
     "output_type": "execute_result"
    }
   ],
   "source": [
    "import arcpy\n",
    "arcpy.CheckExtension('3D')"
   ]
  },
  {
   "cell_type": "code",
   "execution_count": 3,
   "metadata": {
    "collapsed": false
   },
   "outputs": [
    {
     "name": "stdout",
     "output_type": "stream",
     "text": [
      "Available\n"
     ]
    }
   ],
   "source": [
    "print arcpy.CheckExtension('3D')"
   ]
  },
  {
   "cell_type": "code",
   "execution_count": 4,
   "metadata": {
    "collapsed": false
   },
   "outputs": [
    {
     "data": {
      "text/plain": [
       "[u'Send To OneNote 2013',\n",
       " u'Print to Evernote',\n",
       " u'Microsoft XPS Document Writer',\n",
       " u'HP LJ300-400 color M351-M451 PCL6 Class Driver',\n",
       " u'HP LaserJet Professional P 1102w',\n",
       " u'HP LaserJet Enterprise 600 M601 M602 M603 PCL6 Class Driver',\n",
       " u'Gestetner MP 2001 PCL 6',\n",
       " u'Foxit PhantomPDF Printer',\n",
       " u'Fax',\n",
       " u'Adobe PDF']"
      ]
     },
     "execution_count": 4,
     "metadata": {},
     "output_type": "execute_result"
    }
   ],
   "source": [
    "arcpy.ListPrinterNames()"
   ]
  },
  {
   "cell_type": "code",
   "execution_count": 6,
   "metadata": {
    "collapsed": false
   },
   "outputs": [
    {
     "data": {
      "text/plain": [
       "<Point (0.0, 0.0, #, #)>"
      ]
     },
     "execution_count": 6,
     "metadata": {},
     "output_type": "execute_result"
    }
   ],
   "source": [
    "pt = arcpy.CreateObject('Point')\n",
    "pt  "
   ]
  },
  {
   "cell_type": "code",
   "execution_count": null,
   "metadata": {
    "collapsed": true
   },
   "outputs": [],
   "source": [
    "arcpy.Exists('./data/park.shp')"
   ]
  },
  {
   "cell_type": "markdown",
   "metadata": {},
   "source": [
    "## 5.7 Environment Settings"
   ]
  },
  {
   "cell_type": "code",
   "execution_count": 2,
   "metadata": {
    "collapsed": false
   },
   "outputs": [
    {
     "data": {
      "text/plain": [
       "u'./data/forestry'"
      ]
     },
     "execution_count": 2,
     "metadata": {},
     "output_type": "execute_result"
    }
   ],
   "source": [
    "# Setting the current workspace path\n",
    "arcpy.env.workspace = './data/forestry'\n",
    "# Getting the current workspace path\n",
    "mydir = arcpy.env.workspace\n",
    "mydir"
   ]
  },
  {
   "cell_type": "code",
   "execution_count": 3,
   "metadata": {
    "collapsed": false
   },
   "outputs": [
    {
     "data": {
      "text/plain": [
       "False"
      ]
     },
     "execution_count": 3,
     "metadata": {},
     "output_type": "execute_result"
    }
   ],
   "source": [
    "arcpy.env.overwriteOutput"
   ]
  },
  {
   "cell_type": "code",
   "execution_count": 4,
   "metadata": {
    "collapsed": true
   },
   "outputs": [],
   "source": [
    "arcpy.env.overwriteOutput = True"
   ]
  },
  {
   "cell_type": "code",
   "execution_count": 5,
   "metadata": {
    "collapsed": false
   },
   "outputs": [
    {
     "data": {
      "text/plain": [
       "True"
      ]
     },
     "execution_count": 5,
     "metadata": {},
     "output_type": "execute_result"
    }
   ],
   "source": [
    "arcpy.env.overwriteoutput = False\n",
    "arcpy.env.overwriteOutput"
   ]
  },
  {
   "cell_type": "code",
   "execution_count": 6,
   "metadata": {
    "collapsed": false
   },
   "outputs": [
    {
     "data": {
      "text/plain": [
       "u'128 128'"
      ]
     },
     "execution_count": 6,
     "metadata": {},
     "output_type": "execute_result"
    }
   ],
   "source": [
    "arcpy.env.tileSize"
   ]
  },
  {
   "cell_type": "code",
   "execution_count": 7,
   "metadata": {
    "collapsed": true
   },
   "outputs": [
    {
     "data": {
      "text/plain": [
       "[u'newPrecision',\n",
       " u'autoCommit',\n",
       " u'XYResolution',\n",
       " u'XYDomain',\n",
       " u'scratchWorkspace',\n",
       " u'cartographicPartitions',\n",
       " u'terrainMemoryUsage',\n",
       " u'MTolerance',\n",
       " u'compression',\n",
       " u'coincidentPoints',\n",
       " u'randomGenerator',\n",
       " u'outputCoordinateSystem',\n",
       " u'rasterStatistics',\n",
       " u'ZDomain',\n",
       " u'transferDomains',\n",
       " u'resamplingMethod',\n",
       " u'snapRaster',\n",
       " u'projectCompare',\n",
       " u'cartographicCoordinateSystem',\n",
       " u'configKeyword',\n",
       " u'outputZFlag',\n",
       " u'qualifiedFieldNames',\n",
       " u'tileSize',\n",
       " u'parallelProcessingFactor',\n",
       " u'pyramid',\n",
       " u'referenceScale',\n",
       " u'extent',\n",
       " u'XYTolerance',\n",
       " u'tinSaveVersion',\n",
       " u'nodata',\n",
       " u'MDomain',\n",
       " u'spatialGrid1',\n",
       " u'cellSize',\n",
       " u'outputZValue',\n",
       " u'outputMFlag',\n",
       " u'geographicTransformations',\n",
       " u'spatialGrid2',\n",
       " u'ZResolution',\n",
       " u'mask',\n",
       " u'spatialGrid3',\n",
       " u'maintainSpatialIndex',\n",
       " u'workspace',\n",
       " u'MResolution',\n",
       " u'derivedPrecision',\n",
       " u'ZTolerance',\n",
       " u'scratchGDB',\n",
       " u'scratchFolder',\n",
       " u'packageWorkspace',\n",
       " u'addOutputsToMap']"
      ]
     },
     "execution_count": 7,
     "metadata": {},
     "output_type": "execute_result"
    }
   ],
   "source": [
    "arcpy.ListEnvironments()"
   ]
  },
  {
   "cell_type": "code",
   "execution_count": null,
   "metadata": {
    "collapsed": true
   },
   "outputs": [],
   "source": []
  }
 ],
 "metadata": {
  "kernelspec": {
   "display_name": "Python 2",
   "language": "python",
   "name": "python2"
  },
  "language_info": {
   "codemirror_mode": {
    "name": "ipython",
    "version": 2
   },
   "file_extension": ".py",
   "mimetype": "text/x-python",
   "name": "python",
   "nbconvert_exporter": "python",
   "pygments_lexer": "ipython2",
   "version": "2.7.2"
  }
 },
 "nbformat": 4,
 "nbformat_minor": 0
}
