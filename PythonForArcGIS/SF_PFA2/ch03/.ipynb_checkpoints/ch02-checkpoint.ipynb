{
 "cells": [
  {
   "cell_type": "code",
   "execution_count": null,
   "metadata": {
    "collapsed": true
   },
   "outputs": [],
   "source": [
    "# %load printPractice.py\n",
    "# printPractice.py\n",
    "# Correct the mistakes in this script so that it prints\n",
    "#    the same statement 4 times, using 4 different methods:\n",
    "#    1) hard-coding 2) commas 3) concatenation 4) string formatting\n",
    "trafficLightsCount = 12\n",
    "bufferDist = '5 mi.'\n",
    "intersectionCount = 20\n",
    "\n",
    "# 1) Entirely hard-coded statement.  Don't change this one.\n",
    "#      Make the other print statements match this output.\n",
    "print 'Found 12 lights in the 5 mi. buffer and 20 intersections.'\n",
    "\n",
    "# 2) Modify the code to correctly use the three variables\n",
    "#      and use commas to join expression components.\n",
    "print 'Found', trafficLightCount, lights in the intersectionCount buffer and, ' buffereDist 'intersections.'\n",
    "\n",
    "# 3) Modify the code to correctly use the three variables\n",
    "#      and use concatenation to join expression components.\n",
    "print 'Found' + trafficLightCount + lights in the buffereDist buffer and intersectionCount intersections.'\n",
    "\n",
    "# 4) Modify the code to correctly use ALL three variables\n",
    "#      and use the string 'format' method.\n",
    "print 'Found {1} lights in the {0} buffer and 30 intersections.'format(trafficLightsCount, bufferDist)\n"
   ]
  },
  {
   "cell_type": "code",
   "execution_count": 2,
   "metadata": {
    "collapsed": false
   },
   "outputs": [
    {
     "ename": "SyntaxError",
     "evalue": "invalid syntax (printPractice.py, line 15)",
     "output_type": "error",
     "traceback": [
      "\u001b[1;36m  File \u001b[1;32m\"D:\\BOOKS\\GISen\\_PYTHON\\Python For ArcGIS\\SF_PFA\\ch03\\printPractice.py\"\u001b[1;36m, line \u001b[1;32m15\u001b[0m\n\u001b[1;33m    print 'Found', trafficLightCount, lights in the intersectionCount buffer and, ' buffereDist 'intersections.'\u001b[0m\n\u001b[1;37m                                                                    ^\u001b[0m\n\u001b[1;31mSyntaxError\u001b[0m\u001b[1;31m:\u001b[0m invalid syntax\n"
     ]
    }
   ],
   "source": [
    "%run printPractice.py"
   ]
  },
  {
   "cell_type": "code",
   "execution_count": null,
   "metadata": {
    "collapsed": true
   },
   "outputs": [],
   "source": []
  }
 ],
 "metadata": {
  "kernelspec": {
   "display_name": "Python 2",
   "language": "python",
   "name": "python2"
  },
  "language_info": {
   "codemirror_mode": {
    "name": "ipython",
    "version": 2
   },
   "file_extension": ".py",
   "mimetype": "text/x-python",
   "name": "python",
   "nbconvert_exporter": "python",
   "pygments_lexer": "ipython2",
   "version": "2.7.2"
  }
 },
 "nbformat": 4,
 "nbformat_minor": 0
}
