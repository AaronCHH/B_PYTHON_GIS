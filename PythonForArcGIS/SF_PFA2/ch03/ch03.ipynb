{
 "cells": [
  {
   "cell_type": "code",
   "execution_count": null,
   "metadata": {
    "collapsed": false
   },
   "outputs": [],
   "source": [
    "# %load printPractice2.py\n",
    "# printPractice.py\n",
    "# Correct the mistakes in this script so that it prints\n",
    "#    the same statement 4 times, using 4 different methods:\n",
    "#    1) hard-coding 2) commas 3) concatenation 4) string formatting\n",
    "trafficLightsCount = 12\n",
    "bufferDist = '5 mi.'\n",
    "intersectionCount = 20\n",
    "\n",
    "# 1) Entirely hard-coded statement.  Don't change this one.\n",
    "#      Make the other print statements match this output.\n",
    "print 'Found 12 lights in the 5 mi. buffer and 20 intersections.'\n",
    "\n",
    "# 2) Modify the code to correctly use the three variables\n",
    "#      and use commas to join expression components.\n",
    "print 'Found', trafficLightsCount, 'lights in the', bufferDist, 'buffer and', intersectionCount, 'intersections.'\n",
    "\n",
    "# 3) Modify the code to correctly use the three variables\n",
    "#      and use concatenation to join expression components.\n",
    "print 'Found ' + str(trafficLightsCount) + ' lights in the ' + str(bufferDist) + ' buffer and ' + str(intersectionCount) + ' intersections.'\n",
    "\n",
    "# 4) Modify the code to correctly use ALL three variables\n",
    "#      and use the string 'format' method.\n",
    "print 'Found {0} lights in the {1} buffer and 30 intersections.'.format(trafficLightsCount, bufferDist)\n"
   ]
  },
  {
   "cell_type": "code",
   "execution_count": 25,
   "metadata": {
    "collapsed": false
   },
   "outputs": [
    {
     "name": "stdout",
     "output_type": "stream",
     "text": [
      "Found 12 lights in the 5 mi. buffer and 20 intersections.\n",
      "Found 12 lights in the 5 mi. buffer and 20 intersections.\n",
      "Found 12 lights in the 5 mi. buffer and 20 intersections.\n",
      "Found 12 lights in the 5 mi. buffer and 30 intersections.\n"
     ]
    }
   ],
   "source": [
    "%run printPractice2.py"
   ]
  },
  {
   "cell_type": "code",
   "execution_count": null,
   "metadata": {
    "collapsed": true
   },
   "outputs": [],
   "source": []
  }
 ],
 "metadata": {
  "kernelspec": {
   "display_name": "Python 2",
   "language": "python",
   "name": "python2"
  },
  "language_info": {
   "codemirror_mode": {
    "name": "ipython",
    "version": 2
   },
   "file_extension": ".py",
   "mimetype": "text/x-python",
   "name": "python",
   "nbconvert_exporter": "python",
   "pygments_lexer": "ipython2",
   "version": "2.7.2"
  }
 },
 "nbformat": 4,
 "nbformat_minor": 0
}
