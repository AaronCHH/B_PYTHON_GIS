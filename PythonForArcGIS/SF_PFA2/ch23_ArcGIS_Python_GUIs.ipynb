{
 "cells": [
  {
   "cell_type": "markdown",
   "metadata": {},
   "source": [
    "# 23 ArcGIS Python GUIs"
   ]
  },
  {
   "cell_type": "markdown",
   "metadata": {},
   "source": [
    "## 23.1 Creating a Script Tool"
   ]
  },
  {
   "cell_type": "markdown",
   "metadata": {},
   "source": [
    "### Example 23.1:Simple script for illustrating Script Tools textLister.py"
   ]
  },
  {
   "cell_type": "code",
   "execution_count": null,
   "metadata": {
    "collapsed": true
   },
   "outputs": [],
   "source": [
    "# %load ch23/scripts2/textLister.py\n",
    "# textLister.py\n",
    "# Purpose: Print the text file (.txt) names in the directory.\n",
    "# Usage: No arguments required.\n",
    "import arcpy, os\n",
    "myDir = r'..\\data\\smallDir'\n",
    "\n",
    "fileList = os.listdir(myDir)\n",
    "for f in fileList:\n",
    "    if f.endswith(\".txt\"):\n",
    "        print f\n",
    "arcpy.AddMessage('And I like pie!')\n"
   ]
  },
  {
   "cell_type": "code",
   "execution_count": null,
   "metadata": {
    "collapsed": true
   },
   "outputs": [],
   "source": [
    "import arcpy\n",
    "message = 'And I like pie!'\n",
    "print message\n",
    "arcpy.AddMessage(message)"
   ]
  },
  {
   "cell_type": "code",
   "execution_count": null,
   "metadata": {
    "collapsed": true
   },
   "outputs": [],
   "source": [
    "def printArc(message):\n",
    "'''Print message for Script Tool and standard output.'''\n",
    "print message\n",
    "arcpy.AddMessage(message)"
   ]
  },
  {
   "cell_type": "code",
   "execution_count": null,
   "metadata": {
    "collapsed": true
   },
   "outputs": [],
   "source": [
    "print 5, 'miles'"
   ]
  },
  {
   "cell_type": "code",
   "execution_count": null,
   "metadata": {
    "collapsed": true
   },
   "outputs": [],
   "source": [
    "arcpy.AddMessage(5,'miles')"
   ]
  },
  {
   "cell_type": "markdown",
   "metadata": {},
   "source": [
    "### Example 23.2:Print and AddMessage print4ScriptTools.py"
   ]
  },
  {
   "cell_type": "code",
   "execution_count": null,
   "metadata": {
    "collapsed": true
   },
   "outputs": [],
   "source": [
    "# %load ch23/scripts2/print4ScriptTools.py\n",
    "# print4ScriptTools.py\n",
    "# Purpose: Prints a directory's file count using\n",
    "#          both 'print' and 'AddMessage'\n",
    "# Usage: No arguments required.\n",
    "\n",
    "import arcpy, os\n",
    "\n",
    "\n",
    "def printArc(message):\n",
    "    '''Print message for script tool and standard output.'''\n",
    "    print message\n",
    "    arcpy.AddMessage(message)\n",
    "\n",
    "myDir = r'..\\data\\smallDir'\n",
    "\n",
    "# Lists all the files in the directory.\n",
    "fileList = os.listdir(myDir)\n",
    "\n",
    "myMessage = 'Directory {0} contains {1} files.'.format(myDir, len(fileList))\n",
    "\n",
    "printArc(myMessage)\n"
   ]
  },
  {
   "cell_type": "code",
   "execution_count": null,
   "metadata": {
    "collapsed": true
   },
   "outputs": [],
   "source": []
  },
  {
   "cell_type": "markdown",
   "metadata": {},
   "source": [
    "### 23.1.1 Printing from a Script Tool"
   ]
  },
  {
   "cell_type": "markdown",
   "metadata": {},
   "source": [
    "### 23.1.2 Making a Script Tool Button"
   ]
  },
  {
   "cell_type": "markdown",
   "metadata": {},
   "source": [
    "### 23.1.3 Pointing to a Script"
   ]
  },
  {
   "cell_type": "markdown",
   "metadata": {},
   "source": [
    "## 23.2 Creating a GUI"
   ]
  },
  {
   "cell_type": "markdown",
   "metadata": {},
   "source": [
    "### Example 23.3 deleter.py"
   ]
  },
  {
   "cell_type": "code",
   "execution_count": null,
   "metadata": {
    "collapsed": true
   },
   "outputs": [],
   "source": [
    "# %load ch23/scripts2/deleter.py\n",
    "# deleter.py\n",
    "# Purpose: Delete files from a workspace based on their type and name.\n",
    "# Usage: workspace datatype(raster, feature class, or other) wildcard\n",
    "# Sample input: C:/gispy/data/ch23/rastTester.gdb raster _out\n",
    "\n",
    "import arcpy, os, sys\n",
    "\n",
    "\n",
    "def printArc(message):\n",
    "    '''Print message for script tool and standard output.'''\n",
    "    print message\n",
    "    arcpy.AddMessage(message)\n",
    "\n",
    "arcpy.env.workspace = sys.argv[1]\n",
    "fType = sys.argv[2]\n",
    "wildcard = sys.argv[3]\n",
    "substring = '*{0}*'.format(wildcard)\n",
    "\n",
    "if fType == 'raster':\n",
    "    data = arcpy.ListRasters(substring)\n",
    "elif fType == 'feature class':\n",
    "    data = arcpy.ListFeatureClasses(substring)\n",
    "else:\n",
    "    entireDir = os.listdir(arcpy.env.workspace)\n",
    "    data = []\n",
    "    for d in entireDir:\n",
    "        if d.endswith(wildcard):\n",
    "            data.append(d)\n",
    "for d in data:\n",
    "    try:\n",
    "        arcpy.Delete_management(d)\n",
    "        printArc('{0}/{1} deleted.'.format(arcpy.env.workspace, d))\n",
    "    except arcpy.ExecuteError:\n",
    "        printArc(arcpy.GetMessages())\n"
   ]
  },
  {
   "cell_type": "markdown",
   "metadata": {},
   "source": [
    "### 23.2.1 Using Parameter Data Types"
   ]
  },
  {
   "cell_type": "markdown",
   "metadata": {},
   "source": [
    "### 23.2.2 Using Parameter Properties"
   ]
  },
  {
   "cell_type": "markdown",
   "metadata": {},
   "source": [
    "#### 23.2.2.1 Type"
   ]
  },
  {
   "cell_type": "code",
   "execution_count": null,
   "metadata": {
    "collapsed": true
   },
   "outputs": [],
   "source": [
    "if sys.argv[2] == '#':\n",
    "    power = 1\n",
    "    reportSTargs.printArc('No exponent provided. Using default power of 1.')\n",
    "else:\n",
    "    power = float(sys.argv[2])"
   ]
  },
  {
   "cell_type": "markdown",
   "metadata": {},
   "source": [
    "#### 23.2.2.2 Direction"
   ]
  },
  {
   "cell_type": "code",
   "execution_count": null,
   "metadata": {
    "collapsed": true
   },
   "outputs": [],
   "source": [
    "arcpy.Copy_management(sys.argv[1], sys.argv[2])"
   ]
  },
  {
   "cell_type": "code",
   "execution_count": null,
   "metadata": {
    "collapsed": true
   },
   "outputs": [],
   "source": [
    "arcpy.SetParameterAsText(0, outputFile)"
   ]
  },
  {
   "cell_type": "markdown",
   "metadata": {},
   "source": [
    "### Example 23.4 buffer1.py"
   ]
  },
  {
   "cell_type": "code",
   "execution_count": null,
   "metadata": {
    "collapsed": true
   },
   "outputs": [],
   "source": [
    "# %load ch23/scripts2/buffer1.py\n",
    "# buffer1.py\n",
    "# Purpose:  Buffer a file and send the result to a script tool.\n",
    "\n",
    "import arcpy\n",
    "arcpy.env.overwriteOutput = True\n",
    "\n",
    "fileToBuffer = 'data/smallDir/randpts.shp'\n",
    "distance = '500 meters'\n",
    "outputFile = 'scratch/randptsBuffer.shp'\n",
    "\n",
    "arcpy.Buffer_analysis(fileToBuffer, outputFile, distance)\n",
    "\n",
    "arcpy.SetParameterAsText(0, outputFile)\n"
   ]
  },
  {
   "cell_type": "code",
   "execution_count": null,
   "metadata": {
    "collapsed": true
   },
   "outputs": [],
   "source": []
  },
  {
   "cell_type": "markdown",
   "metadata": {},
   "source": [
    "### Example 23.5 buffer2.py"
   ]
  },
  {
   "cell_type": "code",
   "execution_count": null,
   "metadata": {
    "collapsed": true
   },
   "outputs": [],
   "source": [
    "# %load ch23/scripts2/buffer2.py\n",
    "# buffer2.py\n",
    "# Purpose:  Buffer an input file by an input distance\n",
    "#           and send the result to a script tool.\n",
    "\n",
    "import arcpy, os, sys\n",
    "arcpy.env.overwriteOutput = True\n",
    "\n",
    "fileToBuffer = sys.argv[1]\n",
    "distance = sys.argv[2]\n",
    "arcpy.env.workspace = os.path.dirname(fileToBuffer)\n",
    "outputFile = 'scratch/Buff'\n",
    "\n",
    "arcpy.Buffer_analysis(fileToBuffer, outputFile, distance)\n",
    "\n",
    "arcpy.SetParameterAsText(2, outputFile)\n"
   ]
  },
  {
   "cell_type": "markdown",
   "metadata": {},
   "source": [
    "#### 23.2.2.3 Multivalue"
   ]
  },
  {
   "cell_type": "markdown",
   "metadata": {},
   "source": [
    "### Example 23.6 multiIn.py"
   ]
  },
  {
   "cell_type": "code",
   "execution_count": null,
   "metadata": {
    "collapsed": true
   },
   "outputs": [],
   "source": [
    "# %load ch23/scripts2/multiIn.py\n",
    "# multiIn.py\n",
    "# Purpose: Parse a semicolon delimited input string.\n",
    "import reportSTargs, sys\n",
    "\n",
    "inputString = sys.argv[1]\n",
    "\n",
    "reportSTargs.printArc('Input string: {0}'.format(inputString))\n",
    "\n",
    "inputList = inputString.split(';')\n",
    "\n",
    "for i in inputList:\n",
    "    reportSTargs.printArc('Input file: {0}'.format(i))\n"
   ]
  },
  {
   "cell_type": "code",
   "execution_count": null,
   "metadata": {
    "collapsed": true
   },
   "outputs": [],
   "source": []
  },
  {
   "cell_type": "markdown",
   "metadata": {},
   "source": [
    "### Example 23.7 bufferAll.py"
   ]
  },
  {
   "cell_type": "code",
   "execution_count": null,
   "metadata": {
    "collapsed": true
   },
   "outputs": [],
   "source": [
    "# %load ch23/scripts2/bufferAll.py\n",
    "# bufferAll.py\n",
    "# Purpose: Buffer all the feature classes in an input folder by the input distance and\n",
    "#          send the output file names to script tool.\n",
    "# Arguments: working_directory linear_unit\n",
    "# Sample input: C:/gispy/data/ch23/smallDir \"0.2 miles\"\n",
    "\n",
    "import arcpy, reportSTargs, sys\n",
    "\n",
    "arcpy.env.overwriteOutput = True\n",
    "arcpy.env.workspace = sys.argv[1]\n",
    "distance = sys.argv[2]\n",
    "\n",
    "fcs = arcpy.ListFeatureClasses()\n",
    "outList = []\n",
    "for fc in fcs:\n",
    "    reportSTargs.printArc('Processing: {0}'.format(fc))\n",
    "    outputFile = 'C:/gispy/scratch/' + fc[:-4] + 'Out.shp'\n",
    "    try:\n",
    "        arcpy.Buffer_analysis(fc, outputFile, distance)\n",
    "        reportSTargs.printArc('Created {0}'.format(outputFile))\n",
    "        outList.append(outputFile)\n",
    "    except arcpy.ExecuteError:\n",
    "        reportSTargs.printArc(arcpy.GetMessages())\n",
    "\n",
    "results = \";\".join(outList)\n",
    "\n",
    "reportSTargs.printArc(results)\n",
    "\n",
    "arcpy.SetParameterAsText(2, results)\n"
   ]
  },
  {
   "cell_type": "markdown",
   "metadata": {},
   "source": [
    "#### 23.2.2.4 Default or Schema"
   ]
  },
  {
   "cell_type": "markdown",
   "metadata": {},
   "source": [
    "### Example 23.8 getFeatures.py"
   ]
  },
  {
   "cell_type": "code",
   "execution_count": null,
   "metadata": {
    "collapsed": true
   },
   "outputs": [],
   "source": [
    "# %load ch23/scripts2/getFeatures.py\n",
    "# getFeatures.py\n",
    "# Purpose: Copy the digitized feature set input into a shapefile\n",
    "#          and send this to the script tool as output.\n",
    "\n",
    "import arcpy, sys\n",
    "arcpy.env.overwriteOutput = True\n",
    "fs = sys.argv[1]\n",
    "outputFeat = 'C:/gispy/scratch/getFeaturesOutput.shp'\n",
    "arcpy.CopyFeatures_management(fs, outputFeat)\n",
    "arcpy.SetParameterAsText(1, outputFeat)\n"
   ]
  },
  {
   "cell_type": "markdown",
   "metadata": {},
   "source": [
    "#### 23.2.2.5 Environment"
   ]
  },
  {
   "cell_type": "markdown",
   "metadata": {},
   "source": [
    "#### 23.2.2.6 Filter"
   ]
  },
  {
   "cell_type": "markdown",
   "metadata": {},
   "source": [
    "### Example 23.9 regional.py"
   ]
  },
  {
   "cell_type": "code",
   "execution_count": null,
   "metadata": {
    "collapsed": false
   },
   "outputs": [],
   "source": [
    "# %load ch23/scripts2/regional.py\n",
    "# regional.py\n",
    "# Purpose: Print the names of states in the input region.\n",
    "# Usage: region\n",
    "# Example input: Mountain\n",
    "\n",
    "import arcpy, reportSTargs, sys\n",
    "\n",
    "region = sys.argv[1]\n",
    "\n",
    "inf = 'C:/gispy/data/ch23/USA/USA_States_Generalized.shp'\n",
    "\n",
    "fields = ['SUB_REGION', 'STATE_NAME']\n",
    "\n",
    "sc = arcpy.da.SearchCursor(inf, fields)\n",
    "\n",
    "reportSTargs.printArc('\\n--States in {0}--'.format(region))\n",
    "\n",
    "for row in sc:\n",
    "    if row[0] == region:\n",
    "        reportSTargs.printArc(row[1])\n",
    "\n",
    "reportSTargs.printArc('\\n')\n",
    "del sc\n"
   ]
  },
  {
   "cell_type": "markdown",
   "metadata": {},
   "source": [
    "#### 23.2.2.7 Obtained from"
   ]
  },
  {
   "cell_type": "markdown",
   "metadata": {},
   "source": [
    "### Example 23.10 combineFields.py"
   ]
  },
  {
   "cell_type": "code",
   "execution_count": null,
   "metadata": {
    "collapsed": true
   },
   "outputs": [],
   "source": [
    "# %load ch23/scripts2/combineFields.py\n",
    "# combineFields.py\n",
    "# Purpose: Create a new field that is the sum of two existing fields.\n",
    "import arcpy, sys\n",
    "\n",
    "dataset = sys.argv[1]\n",
    "field1 = sys.argv[2]\n",
    "field2 = sys.argv[3]\n",
    "newfield = sys.argv[4]\n",
    "\n",
    "arcpy.AddField_management(dataset, newfield)\n",
    "expression = '!{0}!+!{1}!'.format(field1, field2)\n",
    "arcpy.CalculateField_management(dataset, newfield, expression, 'PYTHON')\n",
    "\n",
    "arcpy.SetParameterAsText(4, dataset)\n"
   ]
  },
  {
   "cell_type": "markdown",
   "metadata": {},
   "source": [
    "### Example 23.11 feature2point.py"
   ]
  },
  {
   "cell_type": "code",
   "execution_count": null,
   "metadata": {
    "collapsed": true
   },
   "outputs": [],
   "source": [
    "# %load ch23/scripts2/feature2point.py\n",
    "# feature2point.py\n",
    "# Purpose: Find the centroids of the input polygons.\n",
    "\n",
    "import arcpy, sys\n",
    "\n",
    "arcpy.env.overwriteOutput = True\n",
    "inputFile = sys.argv[1]\n",
    "outputFile = sys.argv[2]\n",
    "\n",
    "# Find points based on the input.\n",
    "arcpy.FeatureToPoint_management(inputFile, outputFile)\n",
    "\n",
    "# Return the results to the tool.\n",
    "arcpy.SetParameterAsText(1, outputFile)\n",
    "\n",
    "\n"
   ]
  },
  {
   "cell_type": "code",
   "execution_count": null,
   "metadata": {
    "collapsed": true
   },
   "outputs": [],
   "source": []
  },
  {
   "cell_type": "markdown",
   "metadata": {},
   "source": [
    "## 23.3 Showing"
   ]
  },
  {
   "cell_type": "markdown",
   "metadata": {},
   "source": [
    "### Example 23.12 Excerpt from defaultProgressor.py"
   ]
  },
  {
   "cell_type": "code",
   "execution_count": null,
   "metadata": {
    "collapsed": true
   },
   "outputs": [],
   "source": [
    "# %load ch23/scripts2/defaultProgressor.py\n",
    "# defaultProgressor.py\n",
    "# Purpose: Delete files from a workspace based on their type and name and\n",
    "#          use the default progressor to show progress.\n",
    "# Arguments: workspace datatype(raster, feature class, or other) wildcard\n",
    "# Sample input: C:/gispy/data/ch23/rastTester.gdb raster _out\n",
    "\n",
    "import arcpy, os, sys, time\n",
    "\n",
    "\n",
    "def printArc(message):\n",
    "    '''Print message for script tool and standard output.'''\n",
    "    print message\n",
    "    arcpy.AddMessage(message)\n",
    "\n",
    "arcpy.env.workspace = sys.argv[1]\n",
    "fType = sys.argv[2]\n",
    "wildcard = sys.argv[3]\n",
    "substring = '*{0}*'.format(wildcard)\n",
    "\n",
    "if fType == 'raster':\n",
    "    data = arcpy.ListRasters(substring)\n",
    "elif fType == 'feature class':\n",
    "    data = arcpy.ListFeatureClasses(substring)\n",
    "else:\n",
    "    entireDir = os.listdir(arcpy.env.workspace)\n",
    "    data = []\n",
    "    for d in entireDir:\n",
    "        if d.endswith(wildcard):\n",
    "            data.append(d)\n",
    "\n",
    "message = \"Delete '{0}' files from {1}\".format(wildcard, arcpy.env.workspace)\n",
    "arcpy.SetProgressor('default', message)\n",
    "time.sleep(1)\n",
    "printArc(message)\n",
    "for d in data:\n",
    "    try:\n",
    "        arcpy.SetProgressorLabel('Deleting {0}'.format(d))\n",
    "        arcpy.Delete_management(d)\n",
    "        printArc('{0}/{1} deleted'.format(arcpy.env.workspace, d))\n",
    "        time.sleep(3)\n",
    "    except arcpy.ExecuteError:\n",
    "        printArc(arcpy.GetMessages())\n"
   ]
  },
  {
   "cell_type": "markdown",
   "metadata": {},
   "source": [
    "### Example 23.13 Excerpt from stepProgressor.py"
   ]
  },
  {
   "cell_type": "code",
   "execution_count": null,
   "metadata": {
    "collapsed": true
   },
   "outputs": [],
   "source": [
    "# %load ch23/scripts2/stepProgressor.py\n",
    "# stepProgressor.py\n",
    "# Purpose: Delete files from a workspace based on their type and name and\n",
    "#          use the step progressor to show progress.\n",
    "# Arguments: workspace datatype(raster, feature class, or other) wildcard\n",
    "# Sample input: C:/gispy/data/ch23/rastTester.gdb raster _out\n",
    "\n",
    "import arcpy, os, sys, time\n",
    "\n",
    "\n",
    "def printArc(message):\n",
    "    '''Print message for script tool and standard output.'''\n",
    "    print message\n",
    "    arcpy.AddMessage(message)\n",
    "\n",
    "arcpy.env.workspace = sys.argv[1]\n",
    "fType = sys.argv[2]\n",
    "wildcard = sys.argv[3]\n",
    "substring = '*{0}*'.format(wildcard)\n",
    "\n",
    "if fType == 'raster':\n",
    "    data = arcpy.ListRasters(substring)\n",
    "elif fType == 'feature class':\n",
    "    data = arcpy.ListFeatureClasses(substring)\n",
    "else:\n",
    "    entireDir = os.listdir(arcpy.env.workspace)\n",
    "    data = []\n",
    "    for d in entireDir:\n",
    "        if d.endswith(wildcard):\n",
    "            data.append(d)\n",
    "\n",
    "# Initialize progressor.\n",
    "message = \"Preparing to delete '{0}' files from {1}\".format(wildcard, arcpy.env.workspace)\n",
    "arcpy.SetProgressor('step', message, 0, len(data))\n",
    "time.sleep(3)\n",
    "printArc(message)\n",
    "for d in data:\n",
    "    try:\n",
    "        # Update progress label\n",
    "        arcpy.SetProgressorLabel('Deleting {0}'.format(d))\n",
    "        arcpy.Delete_management(d)\n",
    "        printArc('{0}/{1} deleted'.format(arcpy.env.workspace, d))\n",
    "        time.sleep(3)\n",
    "    except arcpy.ExecuteError:\n",
    "        printArc(arcpy.GetMessages())\n",
    "    # Update progress bar percent.\n",
    "    arcpy.SetProgressorPosition()\n"
   ]
  },
  {
   "cell_type": "code",
   "execution_count": null,
   "metadata": {
    "collapsed": true
   },
   "outputs": [],
   "source": []
  },
  {
   "cell_type": "markdown",
   "metadata": {},
   "source": [
    "## 23.4 Validating"
   ]
  },
  {
   "cell_type": "markdown",
   "metadata": {},
   "source": [
    "### Example 23.14:ToolValidator code from Script Tool, '01_favorites_um', in validatorExamples.tbx"
   ]
  },
  {
   "cell_type": "code",
   "execution_count": null,
   "metadata": {
    "collapsed": true
   },
   "outputs": [],
   "source": [
    "# Setting an error message\n",
    "def updateMessages(self):\n",
    "    \"\"\"Modify the messages created by internal validation for\n",
    "    each tool parameter. This method is called after\n",
    "    internal validation.\"\"\"\n",
    "    if self.params[0].altered:\n",
    "        ifself.params[0].value <= 0:\n",
    "            self.params[0].setErrorMessage(\"Please specify \\\n",
    "                                           a positive number.\")\n",
    "return"
   ]
  },
  {
   "cell_type": "code",
   "execution_count": null,
   "metadata": {
    "collapsed": true
   },
   "outputs": [],
   "source": []
  },
  {
   "cell_type": "markdown",
   "metadata": {},
   "source": [
    "### 23.4.1 The ToolValidator Class"
   ]
  },
  {
   "cell_type": "markdown",
   "metadata": {},
   "source": [
    "### Example 23.15"
   ]
  },
  {
   "cell_type": "code",
   "execution_count": null,
   "metadata": {
    "collapsed": true
   },
   "outputs": [],
   "source": [
    "class ToolValidator(object):\n",
    "    \"\"\"Class for validating a tool's parameter values and\n",
    "    controlling the behavior of the tool's dialog.\"\"\"\n",
    "    def __init__(self):\n",
    "        \"\"\"Setup arcpy and the list of tool parameters.\"\"\"\n",
    "        self.params = arcpy.GetParameterInfo()\n",
    "    def initializeParameters(self):\n",
    "        \"\"\"Re fine the properties of a tool's parameters. This method is\n",
    "        called when the tool is opened.\"\"\"\n",
    "        return\n",
    "    def updateParameters(self):\n",
    "        \"\"\"Modify the values and properties of parameters before\n",
    "        internal validation is performed. This method is called\n",
    "        whenever a parameter has been changed.\"\"\"\n",
    "        return\n",
    "    def updateMessages(self):\n",
    "        \"\"\"Modify the messages created by internal validation\n",
    "        for each tool parameter. This method is called after\n",
    "        internal validation.\"\"\"\n",
    "        return"
   ]
  },
  {
   "cell_type": "markdown",
   "metadata": {},
   "source": [
    "#### 23.4.1.1 Initializing Parameter Objects"
   ]
  },
  {
   "cell_type": "code",
   "execution_count": null,
   "metadata": {
    "collapsed": true
   },
   "outputs": [],
   "source": [
    "def __init__ (self):\n",
    "    self.params = arcpy.GetParameterInfo()"
   ]
  },
  {
   "cell_type": "markdown",
   "metadata": {},
   "source": [
    "#### 23.4.1.2 AnupdateMessages Example"
   ]
  },
  {
   "cell_type": "code",
   "execution_count": null,
   "metadata": {
    "collapsed": true
   },
   "outputs": [],
   "source": [
    "if self.params[0].altered:"
   ]
  },
  {
   "cell_type": "code",
   "execution_count": null,
   "metadata": {
    "collapsed": true
   },
   "outputs": [],
   "source": [
    "if self.params[0].value <= 0:"
   ]
  },
  {
   "cell_type": "code",
   "execution_count": null,
   "metadata": {
    "collapsed": true
   },
   "outputs": [],
   "source": [
    "if self.params[0].altered:\n",
    "    if self.params[0].value <= 0:\n",
    "        self.params[0].setErrorMessage('Please specify a positive number.')"
   ]
  },
  {
   "cell_type": "markdown",
   "metadata": {},
   "source": [
    "#### 23.4.1.3 AninitializeParameters Example"
   ]
  },
  {
   "cell_type": "markdown",
   "metadata": {},
   "source": [
    "#### Example 23.16:Code in the 'validatorExamples.tbx/02_categories_ip'ToolValidator"
   ]
  },
  {
   "cell_type": "code",
   "execution_count": null,
   "metadata": {
    "collapsed": true
   },
   "outputs": [],
   "source": [
    "def initializeParameters(self):\n",
    "    \"\"\"Assign parameter categories.\"\"\"\n",
    "    numParams = len(self.params)\n",
    "    for index in range(numParams):\n",
    "        if index < numParams/3.0:\n",
    "            self.params[index].category = 'A. Really important!'\n",
    "        elif index < (2*numParams)/3.0:\n",
    "            self.params[index].category = 'B. If you have time.'\n",
    "        else:\n",
    "            self.params[index].category = \"C. Meh. Don't bother.\"\n",
    "    return"
   ]
  },
  {
   "cell_type": "markdown",
   "metadata": {},
   "source": [
    "#### 23.4.1.4 AnupdateParameters Example"
   ]
  },
  {
   "cell_type": "markdown",
   "metadata": {},
   "source": [
    "#### Example 23.17:ToolValidator code from Script Tool, 'validatorExamples.tbx 03_rasters_up'."
   ]
  },
  {
   "cell_type": "code",
   "execution_count": null,
   "metadata": {
    "collapsed": true
   },
   "outputs": [],
   "source": [
    "defupdateParameters(self):\n",
    "    '''Initialize raster list.'''\n",
    "    if self.params[0].altered:\n",
    "        arcpy.env.workspace = self.params[0].value\n",
    "        rasts = arcpy.ListRasters()\n",
    "        if rasts:\n",
    "            self.params[1]. filter.list = rasts\n",
    "        else:\n",
    "            self.params[1]. filter.list = []\n",
    "    return\n",
    "\n",
    "def updateMessages(self):\n",
    "    '''Check for rasters.'''\n",
    "    if self.params[0].altered:\n",
    "        if not self.params[1].filter.list:\n",
    "            self.params[0].setErrorMessage('This directory does not contain any rasters.')\n",
    "    return"
   ]
  },
  {
   "cell_type": "code",
   "execution_count": null,
   "metadata": {
    "collapsed": true
   },
   "outputs": [],
   "source": []
  },
  {
   "cell_type": "markdown",
   "metadata": {},
   "source": [
    "## 23.5 Python Toolboxes"
   ]
  },
  {
   "cell_type": "markdown",
   "metadata": {},
   "source": [
    "### Example 23.18:Python toolbox template"
   ]
  },
  {
   "cell_type": "code",
   "execution_count": null,
   "metadata": {
    "collapsed": true
   },
   "outputs": [],
   "source": [
    "import arcpy\n",
    "\n",
    "class Toolbox(object):\n",
    "    def__init__(self):\n",
    "        '''De fine the toolbox (name of the toolbox is the\n",
    "        name of the '.pyt' file).'''\n",
    "        self.label = 'Toolbox'\n",
    "        self.alias = ''\n",
    "        # List of tool classes associated with this toolbox\n",
    "        self.tools = [Tool]\n",
    "        \n",
    "class Tool(object):\n",
    "    def__init__(self):\n",
    "    '''De fine the tool (tool name is the name of the class).'''\n",
    "    self.label = 'Tool'\n",
    "    self.description = ''\n",
    "    self.canRunInBackground = False\n",
    "    \n",
    "    def getParameterInfo(self):\n",
    "        '''De fine parameter de finitions'''\n",
    "        params = None\n",
    "    return params\n",
    "\n",
    "    def isLicensed(self):\n",
    "        '''Set whether tool is licensed to execute.'''\n",
    "    return True\n",
    "\n",
    "    def updateParameters(self, parameters):\n",
    "        '''Modify parameters before internal validation. Called\n",
    "        whenever a parameter has been changed.'''\n",
    "    return\n",
    "\n",
    "    def updateMessages(self, parameters):\n",
    "        '''Modify messages created by internal validation. Called\n",
    "        after internal validation.'''\n",
    "    return\n",
    "\n",
    "    def execute(self, parameters, messages):\n",
    "        '''The source code of the tool.'''\n",
    "    return"
   ]
  },
  {
   "cell_type": "markdown",
   "metadata": {},
   "source": [
    "### 23.5.1 Setting Up Parameters (getParameterInfo)"
   ]
  },
  {
   "cell_type": "code",
   "execution_count": null,
   "metadata": {
    "collapsed": true
   },
   "outputs": [],
   "source": [
    "myParam = arcpy.Parameter()"
   ]
  },
  {
   "cell_type": "code",
   "execution_count": null,
   "metadata": {
    "collapsed": true
   },
   "outputs": [],
   "source": [
    "myParam.name = 'My_precious'"
   ]
  },
  {
   "cell_type": "code",
   "execution_count": null,
   "metadata": {
    "collapsed": true
   },
   "outputs": [],
   "source": [
    "return[param1, param2]"
   ]
  },
  {
   "cell_type": "markdown",
   "metadata": {},
   "source": [
    "### Example 23.19"
   ]
  },
  {
   "cell_type": "code",
   "execution_count": null,
   "metadata": {
    "collapsed": true
   },
   "outputs": [],
   "source": [
    "def getParameterInfo(self):\n",
    "    '''Set up the parameters and return\n",
    "    the list of Parameter objects.'''\n",
    "    # 1_Select_a_workspace_containing_rasters\n",
    "    param1 = arcpy.Parameter()\n",
    "    param1.name = '1_Select_a_workspace_containing_rasters'\n",
    "    param1.displayName = '1. Select a workspace containing rasters:'\n",
    "    param1.parameterType = 'Required'\n",
    "    param1.direction = 'Input'\n",
    "    param1.datatype = 'Workspace'\n",
    "    param1. filter.list = [\"Local Database\"]\n",
    "    # 2_Select_rasters_within_the_workspace\n",
    "    param2 = arcpy.Parameter()\n",
    "    param2.name = '2_Select_rasters_within_the_workspace'\n",
    "    param2.displayName = '2. Select rasters within the workspace:'\n",
    "    param2.parameterType = 'Required'\n",
    "    param2.direction = 'Input'\n",
    "    param2.datatype = 'String'\n",
    "    param2.multiValue = True\n",
    "    param2.filter.list = []\n",
    "    return[param1, param2]"
   ]
  },
  {
   "cell_type": "markdown",
   "metadata": {},
   "source": [
    "### 23.5.2 Checking for Licenses (isLicensed)"
   ]
  },
  {
   "cell_type": "markdown",
   "metadata": {},
   "source": [
    "### Example 23.20"
   ]
  },
  {
   "cell_type": "code",
   "execution_count": null,
   "metadata": {
    "collapsed": true
   },
   "outputs": [],
   "source": [
    "def isLicensed(self):\n",
    "    \"\"\"Prevent the tool from running if the Spatial Analyst extension\n",
    "    is not available.\"\"\"\n",
    "    if arcpy.CheckExtension('Spatial') == 'Available':\n",
    "        returnTrue# tool can be executed\n",
    "    else:\n",
    "        return False# tool can not be executed"
   ]
  },
  {
   "cell_type": "markdown",
   "metadata": {},
   "source": [
    "### 23.5.3 Validation (updateParameters and updateMessages)"
   ]
  },
  {
   "cell_type": "markdown",
   "metadata": {},
   "source": [
    "### Example 23.21"
   ]
  },
  {
   "cell_type": "code",
   "execution_count": null,
   "metadata": {
    "collapsed": true
   },
   "outputs": [],
   "source": [
    "def updateParameters(self, parameters):\n",
    "    '''Initialize raster list.'''\n",
    "    if parameters[0].altered:\n",
    "        arcpy.env.workspace = parameters[0].value\n",
    "        rasts = arcpy.ListRasters()\n",
    "    if rasts:\n",
    "        parameters[1].filter.list = rasts\n",
    "    else:\n",
    "        parameters[1].filter.list = []\n",
    "    return\n",
    "\n",
    "def updateMessages(self, parameters):\n",
    "    '''Check for rasters.'''\n",
    "    if parameters[0].altered:\n",
    "        if not parameters[1]. filter.list:\n",
    "            parameters[0].setErrorMessage('This directory does not contain any rasters.')\n",
    "    return        "
   ]
  },
  {
   "cell_type": "markdown",
   "metadata": {},
   "source": [
    "### 23.5.4 Running the Code (execute)"
   ]
  },
  {
   "cell_type": "markdown",
   "metadata": {},
   "source": [
    "### Example 23.22"
   ]
  },
  {
   "cell_type": "code",
   "execution_count": null,
   "metadata": {
    "collapsed": true
   },
   "outputs": [],
   "source": [
    "def execute(self, parameters, messages):\n",
    "    '''Calculate the Sine of each input raster.'''\n",
    "    arcpy.CheckOutExtension('Spatial')\n",
    "    arcpy.env.overwriteOutput = True\n",
    "    arcpy.env.workspace = parameters[0].value# Set the workspace\n",
    "    forrast in parameters[1].values:\n",
    "    try:\n",
    "        outSin = arcpy.sa.Sin(rast)\n",
    "        outSin.save(rast + '_Sin')\n",
    "        message = '{0}_Sin created in {1}.'.format(rast,\n",
    "        arcpy.env.workspace)\n",
    "        arcpy.AddMessage(message)\n",
    "    except:\n",
    "        message = '{0}_Sin could not be created.'.format(rast)\n",
    "        arcpy.AddMessage(message)"
   ]
  },
  {
   "cell_type": "code",
   "execution_count": null,
   "metadata": {
    "collapsed": true
   },
   "outputs": [],
   "source": [
    "def execute(self, parameters, messages):\n",
    "    '''Calculate the Sine of each input raster.'''\n",
    "    import rastModule\n",
    "    wkspace = parameters[0].value\n",
    "    rasters = parameters[1].values\n",
    "    rastModule.batchSine(wkspace, rasters)"
   ]
  },
  {
   "cell_type": "markdown",
   "metadata": {},
   "source": [
    "### Example 23.23 rastModule.py"
   ]
  },
  {
   "cell_type": "code",
   "execution_count": null,
   "metadata": {
    "collapsed": true
   },
   "outputs": [],
   "source": [
    "# rastModule.py\n",
    "import arcpy\n",
    "def batchSine(workspace, rastList):\n",
    "    '''Calculate the Sine of each raster in the list.'''\n",
    "    arcpy.CheckOutExtension('Spatial')\n",
    "    arcpy.env.overwriteOutput = True\n",
    "    arcpy.env.workspace = workspace# Set the workspace\n",
    "    for rast in rastList:\n",
    "        try:\n",
    "            outSin = arcpy.sa.Sin(rast)\n",
    "            outSin.save(rast+'_Sin')\n",
    "            message = '{0}_Sin created in {1}.'.format(rast,\n",
    "            arcpy.env.workspace)\n",
    "            arcpy.AddMessage(message)\n",
    "        except:\n",
    "            message = '{0}_Sin could not be created.'.format(rast)\n",
    "            arcpy.AddMessage(message)"
   ]
  },
  {
   "cell_type": "markdown",
   "metadata": {},
   "source": [
    "### 23.5.5 Comparing Tools"
   ]
  },
  {
   "cell_type": "markdown",
   "metadata": {},
   "source": [
    "### Example 23.24"
   ]
  },
  {
   "cell_type": "code",
   "execution_count": null,
   "metadata": {
    "collapsed": true
   },
   "outputs": [],
   "source": [
    "def execute(self, parameters, messages):\n",
    "    # From combineFields.py\n",
    "    # Purpose: Create a new field that is the sum\n",
    "    # of two existing fields.\n",
    "    dataset = parameters[0].value.value\n",
    "    field1 = parameters[1].value\n",
    "    field2 = parameters[2].value\n",
    "    new field = parameters[3].value\n",
    "    arcpy.AddField_management(dataset, new field)\n",
    "    expression = '!{0}!+!{1}!'.format( field1, field2)\n",
    "    arcpy.CalculateField_management(dataset, new field,\n",
    "    expression, 'PYTHON')\n",
    "    arcpy.SetParameterAsText(4,dataset)"
   ]
  },
  {
   "cell_type": "markdown",
   "metadata": {},
   "source": [
    "### Example 23.25:TheparametersDependencies Parameter property is equivalent to the 'Obtained from' Script Tool property"
   ]
  },
  {
   "cell_type": "code",
   "execution_count": null,
   "metadata": {
    "collapsed": true
   },
   "outputs": [],
   "source": [
    "def getParameterInfo(self):\n",
    "    '''Create parameters and set their properties'''\n",
    "    # Input_ file\n",
    "    param1 = arcpy.Parameter()\n",
    "    param1.name = 'Input_ file'\n",
    "    param1.displayName = 'Input file'\n",
    "    param1.parameterType = 'Required'\n",
    "    param1.direction = 'Input'\n",
    "    param1.datatype = 'Feature Class'\n",
    "    # Field1\n",
    "    param2 = arcpy.Parameter()\n",
    "    param2.name = 'Field1'\n",
    "    param2.displayName = 'Field 1'\n",
    "    param2.parameterType = 'Required'\n",
    "    param2.direction = 'Input'\n",
    "    param2.datatype = 'Field'\n",
    "    param2.parameterDependencies = [param1.name]"
   ]
  },
  {
   "cell_type": "markdown",
   "metadata": {},
   "source": [
    "### Example 23.26"
   ]
  },
  {
   "cell_type": "code",
   "execution_count": null,
   "metadata": {
    "collapsed": true
   },
   "outputs": [],
   "source": []
  },
  {
   "cell_type": "code",
   "execution_count": null,
   "metadata": {
    "collapsed": true
   },
   "outputs": [],
   "source": [
    "def getAbsPath(relativePath):\n",
    "    '''Return the absolute path given a relative path to this file'''\n",
    "    tbxPath = os.path.abspath( file\n",
    "    tbxDir = os.path.dirname(tbxPath)\n",
    "    fullPath = os.path.join(tbxDir, relativePath)\n",
    "    returnos.path.abspath(fullPath)"
   ]
  },
  {
   "cell_type": "code",
   "execution_count": null,
   "metadata": {
    "collapsed": true
   },
   "outputs": [],
   "source": []
  },
  {
   "cell_type": "markdown",
   "metadata": {},
   "source": [
    "## 23.6 Discussion"
   ]
  },
  {
   "cell_type": "markdown",
   "metadata": {},
   "source": [
    "## 23.7 Key Terms"
   ]
  },
  {
   "cell_type": "markdown",
   "metadata": {},
   "source": [
    "## 23.8 Exercises"
   ]
  }
 ],
 "metadata": {
  "kernelspec": {
   "display_name": "Python 2",
   "language": "python",
   "name": "python2"
  },
  "language_info": {
   "codemirror_mode": {
    "name": "ipython",
    "version": 2
   },
   "file_extension": ".py",
   "mimetype": "text/x-python",
   "name": "python",
   "nbconvert_exporter": "python",
   "pygments_lexer": "ipython2",
   "version": "2.7.2"
  }
 },
 "nbformat": 4,
 "nbformat_minor": 1
}
