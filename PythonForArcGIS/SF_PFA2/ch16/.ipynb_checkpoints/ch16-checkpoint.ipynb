{
 "cells": [
  {
   "cell_type": "markdown",
   "metadata": {},
   "source": [
    "# 16 User-Defined Modules\n",
    "* 16.1 Importing User-Defi ned Modules\n",
    "* 16.2 Using Functions in Another Module\n",
    "* 16.3 Modifying User-Defi ned Modules (Reload!)\n",
    "* 16.4 Am I the Main Module? What’s My Name?\n",
    "* 16.5 Time Handling Example\n",
    "* 16.6 Summary\n",
    "* 16.7 Key Terms\n",
    "* 16.8 Exercises"
   ]
  },
  {
   "cell_type": "markdown",
   "metadata": {},
   "source": [
    "## 16.1 Importing User-Defined Modules"
   ]
  },
  {
   "cell_type": "markdown",
   "metadata": {},
   "source": [
    "## 16.2 Using Functions in Another Module"
   ]
  },
  {
   "cell_type": "code",
   "execution_count": null,
   "metadata": {
    "collapsed": false
   },
   "outputs": [],
   "source": [
    "# %load supportCode/listManager\n",
    "# listManager.py\n",
    "# Purpose: Provide list and delimited string manipulation functions.\n",
    "# Usage: No script arguments needed.\n",
    "\n",
    "\n",
    "def list2String(delimiter, L):\n",
    "    '''Take a list and return a delimited string.'''\n",
    "    # Join fails for non-string elements, so use list\n",
    "    # comprehension to cast each element to string.\n",
    "    stringL = [str(i) for i in L]\n",
    "    # Join the string elements of stringL\n",
    "    s = delimiter.join(stringL)\n",
    "    return s\n",
    "\n",
    "\n",
    "def string2List(delimiter, s):\n",
    "    '''Take a delimited string and return a list.'''\n",
    "    L = s.split(delimiter)\n",
    "    return L\n",
    "\n",
    "##def delimStrLen(delimiter, s):\n",
    "##    '''Return the number of items in a delimited string.'''\n",
    "##    theList = string2List(delimiter, s)\n",
    "##    return len(theList)\n",
    "\n",
    "##print '\\nIn listManager.py, test string2List: '\n",
    "##theString = 'z;x;y'\n",
    "##theList = string2List( ';' , theString )\n",
    "##print '{0} -> {1}'.format(theString,theList)\n"
   ]
  },
  {
   "cell_type": "code",
   "execution_count": 5,
   "metadata": {
    "collapsed": true
   },
   "outputs": [],
   "source": [
    "%run supportCode/listManager.py"
   ]
  },
  {
   "cell_type": "code",
   "execution_count": 8,
   "metadata": {
    "collapsed": false
   },
   "outputs": [
    {
     "ename": "ImportError",
     "evalue": "No module named listManager",
     "output_type": "error",
     "traceback": [
      "\u001b[1;31m---------------------------------------------------------------------------\u001b[0m",
      "\u001b[1;31mImportError\u001b[0m                               Traceback (most recent call last)",
      "\u001b[1;32m<ipython-input-8-bf8d979c006a>\u001b[0m in \u001b[0;36m<module>\u001b[1;34m()\u001b[0m\n\u001b[1;32m----> 1\u001b[1;33m \u001b[1;32mimport\u001b[0m \u001b[0mlistManager\u001b[0m\u001b[1;33m\u001b[0m\u001b[0m\n\u001b[0m\u001b[0;32m      2\u001b[0m \u001b[0mtheString\u001b[0m \u001b[1;33m=\u001b[0m \u001b[1;34m'z;x;y'\u001b[0m\u001b[1;33m\u001b[0m\u001b[0m\n\u001b[0;32m      3\u001b[0m \u001b[0mtheList\u001b[0m \u001b[1;33m=\u001b[0m \u001b[0mlistManager\u001b[0m\u001b[1;33m.\u001b[0m\u001b[0mstring2List\u001b[0m\u001b[1;33m(\u001b[0m\u001b[1;34m';'\u001b[0m \u001b[1;33m,\u001b[0m \u001b[0mtheString\u001b[0m\u001b[1;33m)\u001b[0m\u001b[1;33m\u001b[0m\u001b[0m\n\u001b[0;32m      4\u001b[0m \u001b[0mtheList\u001b[0m\u001b[1;33m\u001b[0m\u001b[0m\n",
      "\u001b[1;31mImportError\u001b[0m: No module named listManager"
     ]
    }
   ],
   "source": [
    "import listManager\n",
    "theString = 'z;x;y'\n",
    "theList = listManager.string2List(';' , theString)\n",
    "theList"
   ]
  },
  {
   "cell_type": "code",
   "execution_count": 9,
   "metadata": {
    "collapsed": false
   },
   "outputs": [
    {
     "ename": "SyntaxError",
     "evalue": "invalid syntax (<ipython-input-9-99e3277d87a0>, line 1)",
     "output_type": "error",
     "traceback": [
      "\u001b[1;36m  File \u001b[1;32m\"<ipython-input-9-99e3277d87a0>\"\u001b[1;36m, line \u001b[1;32m1\u001b[0m\n\u001b[1;33m    sortString.py results:\u001b[0m\n\u001b[1;37m                        ^\u001b[0m\n\u001b[1;31mSyntaxError\u001b[0m\u001b[1;31m:\u001b[0m invalid syntax\n"
     ]
    }
   ],
   "source": [
    "sortString.py results:"
   ]
  },
  {
   "cell_type": "code",
   "execution_count": null,
   "metadata": {
    "collapsed": true
   },
   "outputs": [],
   "source": [
    "# %load sortString.py\n",
    "# sortString.py\n",
    "# Purpose: Sort the items in a delimited string.\n",
    "\n",
    "import os, sys\n",
    "scriptPath = os.path.abspath(__file__)\n",
    "scriptDir = os.path.dirname(scriptPath)\n",
    "relativePath = 'supportCode'\n",
    "modulePath = os.path.join(scriptDir, relativePath)\n",
    "sys.path.append(modulePath)\n",
    "import listManager\n",
    "##reload(listManager)\n",
    "\n",
    "delimiter = '~'  # Set delimiter.\n",
    "theString = 'fireID~unit~shelter~alt~campgr'  # Set delimited string.\n",
    "\n",
    "# Get a list from the string. module.function(argv1, argv2,...) format.\n",
    "theList = listManager.string2List(delimiter, theString)\n",
    "\n",
    "# Sort the list. Sort is a native list method (not a method defined in listManager.\n",
    "# Notice the difference in how it is called. It's called with object.method format,\n",
    "# where the object is theList.\n",
    "theList.sort()\n",
    "\n",
    "# Get a string from the list. module.function(argv1, argv2,...) format.\n",
    "newString = listManager.list2String(delimiter, theList)\n",
    "\n",
    "print '\\nsortString.py results:'\n",
    "print '{0} -> {1}'.format(theString, newString)\n",
    "\n",
    "##num = listManager.delimStrLen(delimiter , theString )\n",
    "##print 'Number of items: {0}'.format(num)\n"
   ]
  },
  {
   "cell_type": "markdown",
   "metadata": {},
   "source": [
    "## 16.3 Modifying User-Defi ned Modules (Reload!)"
   ]
  },
  {
   "cell_type": "markdown",
   "metadata": {},
   "source": [
    "## 16.4 Am I the Main Module? What’s My Name?"
   ]
  },
  {
   "cell_type": "markdown",
   "metadata": {},
   "source": [
    "## 16.5 Time Handling Example"
   ]
  },
  {
   "cell_type": "code",
   "execution_count": 12,
   "metadata": {
    "collapsed": false
   },
   "outputs": [
    {
     "data": {
      "text/plain": [
       "'Tue Apr 26 17:28:05 2016'"
      ]
     },
     "execution_count": 12,
     "metadata": {},
     "output_type": "execute_result"
    }
   ],
   "source": [
    "import time\n",
    "time.ctime()"
   ]
  },
  {
   "cell_type": "code",
   "execution_count": 13,
   "metadata": {
    "collapsed": true
   },
   "outputs": [],
   "source": [
    "time.sleep(10)"
   ]
  },
  {
   "cell_type": "code",
   "execution_count": 15,
   "metadata": {
    "collapsed": false
   },
   "outputs": [
    {
     "data": {
      "text/plain": [
       "datetime.datetime(1999, 12, 31, 23, 59)"
      ]
     },
     "execution_count": 15,
     "metadata": {},
     "output_type": "execute_result"
    }
   ],
   "source": [
    "import datetime\n",
    "dt = datetime.datetime(1999, 12 ,31, 23, 59)\n",
    "dt"
   ]
  },
  {
   "cell_type": "code",
   "execution_count": 17,
   "metadata": {
    "collapsed": false
   },
   "outputs": [
    {
     "data": {
      "text/plain": [
       "23"
      ]
     },
     "execution_count": 17,
     "metadata": {},
     "output_type": "execute_result"
    }
   ],
   "source": [
    "dt.hour"
   ]
  },
  {
   "cell_type": "code",
   "execution_count": 18,
   "metadata": {
    "collapsed": false
   },
   "outputs": [
    {
     "data": {
      "text/plain": [
       "1999"
      ]
     },
     "execution_count": 18,
     "metadata": {},
     "output_type": "execute_result"
    }
   ],
   "source": [
    "dt.year"
   ]
  },
  {
   "cell_type": "code",
   "execution_count": 19,
   "metadata": {
    "collapsed": false
   },
   "outputs": [
    {
     "data": {
      "text/plain": [
       "4"
      ]
     },
     "execution_count": 19,
     "metadata": {},
     "output_type": "execute_result"
    }
   ],
   "source": [
    "dt.weekday()"
   ]
  },
  {
   "cell_type": "code",
   "execution_count": 20,
   "metadata": {
    "collapsed": false
   },
   "outputs": [
    {
     "data": {
      "text/plain": [
       "datetime.timedelta(0, 43200)"
      ]
     },
     "execution_count": 20,
     "metadata": {},
     "output_type": "execute_result"
    }
   ],
   "source": [
    "dt2 = datetime.datetime(1999,12,31, 11, 59)\n",
    "timeDiff = dt - dt2\n",
    "timeDiff"
   ]
  },
  {
   "cell_type": "code",
   "execution_count": 21,
   "metadata": {
    "collapsed": false
   },
   "outputs": [
    {
     "data": {
      "text/plain": [
       "0"
      ]
     },
     "execution_count": 21,
     "metadata": {},
     "output_type": "execute_result"
    }
   ],
   "source": [
    "timeDiff.days"
   ]
  },
  {
   "cell_type": "code",
   "execution_count": 22,
   "metadata": {
    "collapsed": false
   },
   "outputs": [
    {
     "data": {
      "text/plain": [
       "43200.0"
      ]
     },
     "execution_count": 22,
     "metadata": {},
     "output_type": "execute_result"
    }
   ],
   "source": [
    "timeDiff.total_seconds()"
   ]
  },
  {
   "cell_type": "code",
   "execution_count": 23,
   "metadata": {
    "collapsed": false
   },
   "outputs": [
    {
     "data": {
      "text/plain": [
       "12.0"
      ]
     },
     "execution_count": 23,
     "metadata": {},
     "output_type": "execute_result"
    }
   ],
   "source": [
    "hrs = timeDiff.total_seconds()/3600\n",
    "hrs"
   ]
  },
  {
   "cell_type": "code",
   "execution_count": 24,
   "metadata": {
    "collapsed": false
   },
   "outputs": [
    {
     "data": {
      "text/plain": [
       "True"
      ]
     },
     "execution_count": 24,
     "metadata": {},
     "output_type": "execute_result"
    }
   ],
   "source": [
    "dt2 < dt"
   ]
  },
  {
   "cell_type": "code",
   "execution_count": 25,
   "metadata": {
    "collapsed": false
   },
   "outputs": [
    {
     "data": {
      "text/plain": [
       "False"
      ]
     },
     "execution_count": 25,
     "metadata": {},
     "output_type": "execute_result"
    }
   ],
   "source": [
    "datetime.datetime.now() < dt"
   ]
  },
  {
   "cell_type": "code",
   "execution_count": null,
   "metadata": {
    "collapsed": true
   },
   "outputs": [],
   "source": [
    "# %load exercises/exerSupportCode/timeReport.py\n",
    "# timeReport.py\n",
    "# Purpose: Provide time-related functions.\n",
    "# Usage: No script arguments needed for module testing.\n",
    "import datetime, time\n",
    "\n",
    "\n",
    "def getDay(theDate):\n",
    "    '''Given a date, return the day of the week'''\n",
    "    index = theDate.weekday()\n",
    "    wDict = {0: 'Monday', 1: 'Tuesday', 2: 'Wednesday',\n",
    "             3: 'Thursday', 4: 'Friday', 5: 'Saturday',\n",
    "             6: 'Sunday'}\n",
    "    return wDict[index]\n",
    "\n",
    "\n",
    "def getTime():\n",
    "    '''Report the current time'''\n",
    "    t = datetime.datetime.now()\n",
    "    return t\n",
    "\n",
    "\n",
    "def reportDiffTime(start, end, message='Time elapsed'):\n",
    "    '''Print the number of seconds that passed\n",
    "    between \"start\" and \"end\".'''\n",
    "    difference = end - start\n",
    "    seconds = difference.total_seconds()\n",
    "    print '{0}: {1} seconds.'.format(message, seconds)\n",
    "\n",
    "\n",
    "def reportTime(message='The current date and time is'):\n",
    "    '''Print the current time'''\n",
    "    now = time.ctime()\n",
    "    print '{0}: {1}'.format(message, now)\n",
    "\n",
    "if __name__ == '__main__':\n",
    "    reportTime('Script began running at')\n",
    "    # Get current time.\n",
    "    beforeSleep = getTime()\n",
    "    time.sleep(5)\n",
    "    # Get current time.\n",
    "    afterSleep = getTime()\n",
    "\n",
    "    message = 'Time elapsed for sleeping'\n",
    "    # Print the time difference.\n",
    "    reportDiffTime(beforeSleep, afterSleep, message)\n",
    "    reportTime('Script completed at')\n",
    "    print 'Hurray! I like {0}s.'.format(getDay(afterSleep))\n"
   ]
  },
  {
   "cell_type": "markdown",
   "metadata": {},
   "source": [
    "## 16.6 Summary"
   ]
  },
  {
   "cell_type": "markdown",
   "metadata": {},
   "source": [
    "## 16.7 Key Terms"
   ]
  },
  {
   "cell_type": "markdown",
   "metadata": {},
   "source": [
    "## 16.8 Exercises"
   ]
  },
  {
   "cell_type": "code",
   "execution_count": null,
   "metadata": {
    "collapsed": true
   },
   "outputs": [],
   "source": []
  }
 ],
 "metadata": {
  "kernelspec": {
   "display_name": "Python 2",
   "language": "python",
   "name": "python2"
  },
  "language_info": {
   "codemirror_mode": {
    "name": "ipython",
    "version": 2
   },
   "file_extension": ".py",
   "mimetype": "text/x-python",
   "name": "python",
   "nbconvert_exporter": "python",
   "pygments_lexer": "ipython2",
   "version": "2.7.2"
  }
 },
 "nbformat": 4,
 "nbformat_minor": 0
}
