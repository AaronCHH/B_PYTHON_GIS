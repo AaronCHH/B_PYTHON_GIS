{
 "cells": [
  {
   "cell_type": "markdown",
   "metadata": {},
   "source": [
    "# 17 Reading and Writing with Cursors\n",
    "* 17.1 Introduction to Cursors\n",
    "* 17.2 Reading Rows\n",
    "* 17.3 The Field Names Parameter\n",
    "* 17.4 The Shape Field and Geometry Tokens\n",
    "* 17.5 Looping with Cursors\n",
    "* 17.6 Locking\n",
    "* 17.6.1 The del Statement\n",
    "* 17.6.2 The with Statement\n",
    "* 17.7 Update Cursors\n",
    "* 17.8 Insert Cursors\n",
    "* 17.8.1 Inserting Geometric Objects\n",
    "* 17.9 Selecting Rows with SQL\n",
    "* 17.10 Key Terms\n",
    "* 17.11 Exercises"
   ]
  },
  {
   "cell_type": "markdown",
   "metadata": {},
   "source": [
    "## 17 Reading and Writing with Cursors"
   ]
  },
  {
   "cell_type": "markdown",
   "metadata": {},
   "source": [
    "## 17.1 Introduction to Cursors"
   ]
  },
  {
   "cell_type": "markdown",
   "metadata": {},
   "source": [
    "## 17.2 Reading Rows"
   ]
  },
  {
   "cell_type": "code",
   "execution_count": 19,
   "metadata": {
    "collapsed": false
   },
   "outputs": [],
   "source": [
    "import arcpy\n",
    "# Create a cursor\n",
    "fc = 'data/fires.shp'\n",
    "cursor = arcpy.da.SearchCursor(fc, ['FID', 'FireId', 'FireName'])"
   ]
  },
  {
   "cell_type": "code",
   "execution_count": 20,
   "metadata": {
    "collapsed": false
   },
   "outputs": [
    {
     "data": {
      "text/plain": [
       "(0, 239008.0, u'MEADOW')"
      ]
     },
     "execution_count": 20,
     "metadata": {},
     "output_type": "execute_result"
    }
   ],
   "source": [
    "row = cursor.next() # Get an individual row.\n",
    "row"
   ]
  },
  {
   "cell_type": "code",
   "execution_count": 21,
   "metadata": {
    "collapsed": false
   },
   "outputs": [
    {
     "data": {
      "text/plain": [
       "0"
      ]
     },
     "execution_count": 21,
     "metadata": {},
     "output_type": "execute_result"
    }
   ],
   "source": [
    "row[0]# FID"
   ]
  },
  {
   "cell_type": "code",
   "execution_count": 22,
   "metadata": {
    "collapsed": false
   },
   "outputs": [
    {
     "data": {
      "text/plain": [
       "239008.0"
      ]
     },
     "execution_count": 22,
     "metadata": {},
     "output_type": "execute_result"
    }
   ],
   "source": [
    "row[1]# FireId"
   ]
  },
  {
   "cell_type": "code",
   "execution_count": 23,
   "metadata": {
    "collapsed": false
   },
   "outputs": [
    {
     "data": {
      "text/plain": [
       "u'MEADOW'"
      ]
     },
     "execution_count": 23,
     "metadata": {},
     "output_type": "execute_result"
    }
   ],
   "source": [
    "row[2]# FireName"
   ]
  },
  {
   "cell_type": "code",
   "execution_count": 24,
   "metadata": {
    "collapsed": false
   },
   "outputs": [
    {
     "data": {
      "text/plain": [
       "(1, 239009.0, u'LITTLE CRK')"
      ]
     },
     "execution_count": 24,
     "metadata": {},
     "output_type": "execute_result"
    }
   ],
   "source": [
    "row = cursor.next()# Get the second row\n",
    "row"
   ]
  },
  {
   "cell_type": "code",
   "execution_count": 25,
   "metadata": {
    "collapsed": false
   },
   "outputs": [
    {
     "data": {
      "text/plain": [
       "(2, 239016.0, u'T.Calvin')"
      ]
     },
     "execution_count": 25,
     "metadata": {},
     "output_type": "execute_result"
    }
   ],
   "source": [
    "row = cursor.next()# Get the third row\n",
    "row"
   ]
  },
  {
   "cell_type": "code",
   "execution_count": 26,
   "metadata": {
    "collapsed": false
   },
   "outputs": [
    {
     "data": {
      "text/plain": [
       "(0, 239008.0, u'MEADOW')"
      ]
     },
     "execution_count": 26,
     "metadata": {},
     "output_type": "execute_result"
    }
   ],
   "source": [
    "cursor.reset()\n",
    "row = cursor.next()\n",
    "row"
   ]
  },
  {
   "cell_type": "code",
   "execution_count": 27,
   "metadata": {
    "collapsed": false
   },
   "outputs": [
    {
     "data": {
      "text/plain": [
       "(u'FID', u'FireId', u'FireName')"
      ]
     },
     "execution_count": 27,
     "metadata": {},
     "output_type": "execute_result"
    }
   ],
   "source": [
    "fds = cursor.fields\n",
    "fds"
   ]
  },
  {
   "cell_type": "code",
   "execution_count": 29,
   "metadata": {
    "collapsed": false
   },
   "outputs": [
    {
     "ename": "NameError",
     "evalue": "name 'sc' is not defined",
     "output_type": "error",
     "traceback": [
      "\u001b[1;31m---------------------------------------------------------------------------\u001b[0m",
      "\u001b[1;31mNameError\u001b[0m                                 Traceback (most recent call last)",
      "\u001b[1;32m<ipython-input-29-bd0538da31a4>\u001b[0m in \u001b[0;36m<module>\u001b[1;34m()\u001b[0m\n\u001b[1;32m----> 1\u001b[1;33m \u001b[0mrow\u001b[0m \u001b[1;33m=\u001b[0m \u001b[0msc\u001b[0m\u001b[1;33m.\u001b[0m\u001b[0mnext\u001b[0m \u001b[1;31m# Missing parentheses!\u001b[0m\u001b[1;33m\u001b[0m\u001b[0m\n\u001b[0m\u001b[0;32m      2\u001b[0m \u001b[0mrow\u001b[0m\u001b[1;33m\u001b[0m\u001b[0m\n",
      "\u001b[1;31mNameError\u001b[0m: name 'sc' is not defined"
     ]
    }
   ],
   "source": [
    "row = sc.next # Missing parentheses!\n",
    "row"
   ]
  },
  {
   "cell_type": "code",
   "execution_count": 30,
   "metadata": {
    "collapsed": false
   },
   "outputs": [
    {
     "data": {
      "text/plain": [
       "0"
      ]
     },
     "execution_count": 30,
     "metadata": {},
     "output_type": "execute_result"
    }
   ],
   "source": [
    "row[0]"
   ]
  },
  {
   "cell_type": "markdown",
   "metadata": {},
   "source": [
    "## 17.3 The Field Names Parameter"
   ]
  },
  {
   "cell_type": "code",
   "execution_count": 31,
   "metadata": {
    "collapsed": false
   },
   "outputs": [
    {
     "data": {
      "text/plain": [
       "(u'MEADOW', 0)"
      ]
     },
     "execution_count": 31,
     "metadata": {},
     "output_type": "execute_result"
    }
   ],
   "source": [
    "# Create a cursor\n",
    "fc = 'data/fires.shp'\n",
    "cursor = arcpy.da.SearchCursor(fc, ['FireName', 'FID'])\n",
    "row = cursor.next()\n",
    "row"
   ]
  },
  {
   "cell_type": "code",
   "execution_count": 32,
   "metadata": {
    "collapsed": false
   },
   "outputs": [
    {
     "data": {
      "text/plain": [
       "u'MEADOW'"
      ]
     },
     "execution_count": 32,
     "metadata": {},
     "output_type": "execute_result"
    }
   ],
   "source": [
    "row[0]"
   ]
  },
  {
   "cell_type": "code",
   "execution_count": 33,
   "metadata": {
    "collapsed": false
   },
   "outputs": [
    {
     "data": {
      "text/plain": [
       "0"
      ]
     },
     "execution_count": 33,
     "metadata": {},
     "output_type": "execute_result"
    }
   ],
   "source": [
    "row[1]"
   ]
  },
  {
   "cell_type": "code",
   "execution_count": 34,
   "metadata": {
    "collapsed": false
   },
   "outputs": [
    {
     "data": {
      "text/plain": [
       "(u'FID',\n",
       " u'Shape',\n",
       " u'FireId',\n",
       " u'CalendarYe',\n",
       " u'FireNumber',\n",
       " u'FireName',\n",
       " u'FireType_P',\n",
       " u'SizeClass',\n",
       " u'StartTime',\n",
       " u'Authoriz_1')"
      ]
     },
     "execution_count": 34,
     "metadata": {},
     "output_type": "execute_result"
    }
   ],
   "source": [
    "# Create a cursor with access to ALL the fields.\n",
    "cursor = arcpy.da.SearchCursor(fc, '*')\n",
    "cursor.fields"
   ]
  },
  {
   "cell_type": "code",
   "execution_count": null,
   "metadata": {
    "collapsed": true
   },
   "outputs": [],
   "source": [
    "# %load script/printTableExclude.py\n",
    "# printTableExclude.py\n",
    "# Purpose: Print the names of the non-geometry non-OID type fields in the\n",
    "#     input file and the value of these fields for each record.\n",
    "# Usage: Full path file name\n",
    "# Example input: C:/gispy/data/ch17/fires.shp\n",
    "import arcpy, sys\n",
    "\n",
    "\n",
    "def excludeFields(table, types=[]):\n",
    "    '''Return a list of fields minus those with specified field types'''\n",
    "    fieldNames = []\n",
    "    fds = arcpy.ListFields(table)\n",
    "    for f in fds:\n",
    "        if f.type not in types:\n",
    "            fieldNames.append(f.name)\n",
    "    return fieldNames\n",
    "\n",
    "fc = sys.argv[1]\n",
    "excludeTypes = ['Geometry', 'OID']\n",
    "fields = excludeFields(fc, excludeTypes)\n",
    "\n",
    "with arcpy.da.SearchCursor(fc, fields) as cursor:\n",
    "    print cursor.fields\n",
    "    for row in cursor:\n",
    "        print row\n",
    "del cursor\n"
   ]
  },
  {
   "cell_type": "code",
   "execution_count": 37,
   "metadata": {
    "collapsed": false
   },
   "outputs": [
    {
     "name": "stdout",
     "output_type": "stream",
     "text": [
      "(u'FireId', u'CalendarYe', u'FireNumber', u'FireName', u'FireType_P', u'SizeClass', u'StartTime', u'Authoriz_1')\n",
      "(239008.0, 1997.0, 9702.0, u'MEADOW', 11.0, u'A', datetime.datetime(1997, 6, 9, 0, 0), u'Fire Technician')\n",
      "(239009.0, 1997.0, 9703.0, u'LITTLE CRK', 11.0, u'A', datetime.datetime(1997, 7, 20, 0, 0), u'ND Fire Techn')\n",
      "(239016.0, 1997.0, 9710.0, u'T.Calvin', 11.0, u'B', datetime.datetime(1997, 10, 9, 0, 0), u'Fire Technician')\n",
      "(239017.0, 1997.0, 9711.0, u'VISITORC', 11.0, u'A', datetime.datetime(1997, 10, 11, 0, 0), u'Park Ranger')\n",
      "(239031.0, 1998.0, 9810.0, u'PILGRIM HT', 12.0, u'B', datetime.datetime(1998, 9, 6, 0, 0), u'fmo')\n",
      "(239036.0, 1999.0, 9905.0, u'DUMP', 13.0, u'A', datetime.datetime(1999, 6, 24, 0, 0), u'Engine Foreman')\n",
      "(239039.0, 1999.0, 9908.0, u'PETRELEIF', 13.0, u'A', datetime.datetime(1999, 7, 11, 0, 0), u'Engine Foreman')\n",
      "(239042.0, 1999.0, 9911.0, u'COCONUT', 11.0, u'B', datetime.datetime(1999, 7, 18, 0, 0), u'FMO')\n",
      "(239060.0, 2000.0, 10.0, u'HIGHHEAD', 11.0, u'B', datetime.datetime(2000, 12, 19, 0, 0), u'FMO')\n",
      "(239127.0, 2004.0, 424.0, u'HRCOVEDUNE', 11.0, u'A', datetime.datetime(2004, 7, 26, 0, 0), u'CACO FMO')\n",
      "(513169.0, 2005.0, 506.0, u'Beech Fost', 13.0, u'A', datetime.datetime(2005, 3, 22, 0, 0), u'CACO FMO')\n",
      "(513179.0, 2005.0, 507.0, u'Pilg. Hgts', 13.0, u'B', datetime.datetime(2005, 3, 23, 0, 0), u'CACO FMO')\n"
     ]
    }
   ],
   "source": [
    "%run script2/printTableExclude.py data/fires.shp"
   ]
  },
  {
   "cell_type": "code",
   "execution_count": null,
   "metadata": {
    "collapsed": true
   },
   "outputs": [],
   "source": []
  },
  {
   "cell_type": "markdown",
   "metadata": {},
   "source": [
    "## 17.4 The Shape Field and Geometry Tokens"
   ]
  },
  {
   "cell_type": "code",
   "execution_count": 9,
   "metadata": {
    "collapsed": false
   },
   "outputs": [
    {
     "data": {
      "text/plain": [
       "[u'FID', u'Shape', u'COVER', u'RECNO']"
      ]
     },
     "execution_count": 9,
     "metadata": {},
     "output_type": "execute_result"
    }
   ],
   "source": [
    "fds = arcpy.ListFields('data/park.shp')\n",
    "[f.name for f in fds]"
   ]
  },
  {
   "cell_type": "code",
   "execution_count": 10,
   "metadata": {
    "collapsed": false
   },
   "outputs": [
    {
     "data": {
      "text/plain": [
       "[u'OID', u'Geometry', u'String', u'Double']"
      ]
     },
     "execution_count": 10,
     "metadata": {},
     "output_type": "execute_result"
    }
   ],
   "source": [
    "[f.type for f in fds]"
   ]
  },
  {
   "cell_type": "code",
   "execution_count": null,
   "metadata": {
    "collapsed": false
   },
   "outputs": [],
   "source": [
    "import arcpy\n",
    "data = 'data/special_regions.shp'\n",
    "fieldName = 'PolyArea'\n",
    "expr = '!shape.area!'\n",
    "arcpy.CalculateField_management(data, fieldName, expr, 'PYTHON')"
   ]
  },
  {
   "cell_type": "code",
   "execution_count": null,
   "metadata": {
    "collapsed": false
   },
   "outputs": [],
   "source": [
    "import arcpy\n",
    "parkData = 'data/parks.shp'\n",
    "cursor = arcpy.da.SearchCursor(parkData,['SHAPE@AREA'])\n",
    "row = cursor.next()\n",
    "row[0]"
   ]
  },
  {
   "cell_type": "code",
   "execution_count": null,
   "metadata": {
    "collapsed": false
   },
   "outputs": [],
   "source": [
    "import arcpy, os, sys\n",
    "parkData = 'data/parks.shp'\n",
    "cursor = arcpy.da.SearchCursor(parkData, ['SHAPE@'])\n",
    "row = cursor.next()"
   ]
  },
  {
   "cell_type": "code",
   "execution_count": null,
   "metadata": {
    "collapsed": false
   },
   "outputs": [],
   "source": [
    "row[0].type"
   ]
  },
  {
   "cell_type": "code",
   "execution_count": null,
   "metadata": {
    "collapsed": false
   },
   "outputs": [],
   "source": [
    "row[0].area"
   ]
  },
  {
   "cell_type": "code",
   "execution_count": null,
   "metadata": {
    "collapsed": false
   },
   "outputs": [],
   "source": [
    "row[0].centroid"
   ]
  },
  {
   "cell_type": "code",
   "execution_count": null,
   "metadata": {
    "collapsed": false
   },
   "outputs": [],
   "source": [
    "row[0].firstPoint"
   ]
  },
  {
   "cell_type": "code",
   "execution_count": null,
   "metadata": {
    "collapsed": false
   },
   "outputs": [],
   "source": [
    "row[0].area"
   ]
  },
  {
   "cell_type": "markdown",
   "metadata": {},
   "source": [
    "---"
   ]
  },
  {
   "cell_type": "code",
   "execution_count": null,
   "metadata": {
    "collapsed": true
   },
   "outputs": [],
   "source": [
    "cursor = arcpy.da.SearchCursor(parkData, ['SHAPE'])\n",
    "row = cursor.next()"
   ]
  },
  {
   "cell_type": "code",
   "execution_count": null,
   "metadata": {
    "collapsed": true
   },
   "outputs": [],
   "source": [
    "row[0].centroid"
   ]
  },
  {
   "cell_type": "code",
   "execution_count": null,
   "metadata": {
    "collapsed": true
   },
   "outputs": [],
   "source": [
    "row[0]"
   ]
  },
  {
   "cell_type": "markdown",
   "metadata": {},
   "source": [
    "## 17.5 Looping with Cursors"
   ]
  },
  {
   "cell_type": "code",
   "execution_count": 4,
   "metadata": {
    "collapsed": false
   },
   "outputs": [
    {
     "name": "stdout",
     "output_type": "stream",
     "text": [
      "MEADOW\n",
      "LITTLE CRK\n",
      "T.Calvin\n",
      "VISITORC\n",
      "PILGRIM HT\n",
      "DUMP\n",
      "PETRELEIF\n",
      "COCONUT\n",
      "HIGHHEAD\n",
      "HRCOVEDUNE\n",
      "Beech Fost\n",
      "Pilg. Hgts\n"
     ]
    }
   ],
   "source": [
    "import arcpy\n",
    "fc = 'data/fires.shp'\n",
    "fields = ['FireName']\n",
    "cursor = arcpy.da.SearchCursor(fc, fields)\n",
    "for row in cursor:\n",
    "  print row[0]\n",
    "del cursor"
   ]
  },
  {
   "cell_type": "markdown",
   "metadata": {},
   "source": [
    "## 17.6 Locking"
   ]
  },
  {
   "cell_type": "markdown",
   "metadata": {},
   "source": [
    "## 17.6.1 The del Statement"
   ]
  },
  {
   "cell_type": "code",
   "execution_count": 5,
   "metadata": {
    "collapsed": true
   },
   "outputs": [],
   "source": [
    "fc = 'data/fires.shp'\n",
    "cursor = arcpy.da.SearchCursor(fc,['FireName'])\n",
    "del cursor"
   ]
  },
  {
   "cell_type": "code",
   "execution_count": 6,
   "metadata": {
    "collapsed": false
   },
   "outputs": [
    {
     "ename": "IndexError",
     "evalue": "tuple index out of range",
     "output_type": "error",
     "traceback": [
      "\u001b[1;31m---------------------------------------------------------------------------\u001b[0m",
      "\u001b[1;31mIndexError\u001b[0m                                Traceback (most recent call last)",
      "\u001b[1;32m<ipython-input-6-d7c89961e5d1>\u001b[0m in \u001b[0;36m<module>\u001b[1;34m()\u001b[0m\n\u001b[0;32m      2\u001b[0m \u001b[1;32mfor\u001b[0m \u001b[0mrow\u001b[0m \u001b[1;32min\u001b[0m \u001b[0mcursor\u001b[0m\u001b[1;33m:\u001b[0m\u001b[1;33m\u001b[0m\u001b[0m\n\u001b[0;32m      3\u001b[0m   \u001b[1;31m# Try to index a second field, but there is none.\u001b[0m\u001b[1;33m\u001b[0m\u001b[1;33m\u001b[0m\u001b[0m\n\u001b[1;32m----> 4\u001b[1;33m   \u001b[1;32mprint\u001b[0m \u001b[0mrow\u001b[0m\u001b[1;33m[\u001b[0m\u001b[1;36m1\u001b[0m\u001b[1;33m]\u001b[0m\u001b[1;33m\u001b[0m\u001b[0m\n\u001b[0m\u001b[0;32m      5\u001b[0m \u001b[1;32mdel\u001b[0m \u001b[0mcursor\u001b[0m\u001b[1;33m\u001b[0m\u001b[0m\n",
      "\u001b[1;31mIndexError\u001b[0m: tuple index out of range"
     ]
    }
   ],
   "source": [
    "cursor = arcpy.da.SearchCursor(fc, ['FireName'])\n",
    "for row in cursor:\n",
    "  # Try to index a second field, but there is none.\n",
    "  print row[1]\n",
    "del cursor"
   ]
  },
  {
   "cell_type": "code",
   "execution_count": 9,
   "metadata": {
    "collapsed": true
   },
   "outputs": [
    {
     "name": "stdout",
     "output_type": "stream",
     "text": [
      "An error occurred\n"
     ]
    },
    {
     "name": "stderr",
     "output_type": "stream",
     "text": [
      "Traceback (most recent call last):\n",
      "  File \"<ipython-input-9-f5a5dd43a07f>\", line 7, in <module>\n",
      "    cursor = arcpy.da.SearchCursor('C:/gispy/data/ch17/fires.shp', ['FireName'])\n",
      "RuntimeError: cannot open 'C:/gispy/data/ch17/fires.shp'\n"
     ]
    },
    {
     "ename": "NameError",
     "evalue": "name 'cursor' is not defined",
     "output_type": "error",
     "traceback": [
      "\u001b[1;31m---------------------------------------------------------------------------\u001b[0m",
      "\u001b[1;31mNameError\u001b[0m                                 Traceback (most recent call last)",
      "\u001b[1;32m<ipython-input-9-f5a5dd43a07f>\u001b[0m in \u001b[0;36m<module>\u001b[1;34m()\u001b[0m\n\u001b[0;32m     12\u001b[0m     \u001b[1;32mprint\u001b[0m \u001b[1;34m'An error occurred'\u001b[0m\u001b[1;33m\u001b[0m\u001b[0m\n\u001b[0;32m     13\u001b[0m     \u001b[0mtraceback\u001b[0m\u001b[1;33m.\u001b[0m\u001b[0mprint_exc\u001b[0m\u001b[1;33m(\u001b[0m\u001b[1;33m)\u001b[0m\u001b[1;33m\u001b[0m\u001b[0m\n\u001b[1;32m---> 14\u001b[1;33m     \u001b[1;32mdel\u001b[0m \u001b[0mcursor\u001b[0m\u001b[1;33m\u001b[0m\u001b[0m\n\u001b[0m",
      "\u001b[1;31mNameError\u001b[0m: name 'cursor' is not defined"
     ]
    }
   ],
   "source": [
    "# %load script/searchNprint.py\n",
    "# searchNprint.py\n",
    "# Purpose: Print each fire name in a file.\n",
    "# Usage: No script arguments needed.\n",
    "import arcpy, traceback\n",
    "try:\n",
    "    cursor = arcpy.da.SearchCursor('C:/gispy/data/ch17/fires.shp', ['FireName'])\n",
    "    for row in cursor:\n",
    "        print row[0]\n",
    "    del cursor\n",
    "except:\n",
    "    print 'An error occurred'\n",
    "    traceback.print_exc()\n",
    "    del cursor\n"
   ]
  },
  {
   "cell_type": "markdown",
   "metadata": {},
   "source": [
    "## 17.6.2 The with Statement"
   ]
  },
  {
   "cell_type": "code",
   "execution_count": null,
   "metadata": {
    "collapsed": true
   },
   "outputs": [],
   "source": []
  },
  {
   "cell_type": "markdown",
   "metadata": {},
   "source": [
    "## 17.7 Update Cursors"
   ]
  },
  {
   "cell_type": "code",
   "execution_count": null,
   "metadata": {
    "collapsed": true
   },
   "outputs": [],
   "source": [
    "# %load script/updateValues.py\n",
    "# updateValues.py\n",
    "# Purpose: Modify the fire type value and the fire name in each record.\n",
    "# Usage: Full path of file to copy and modify.\n",
    "# Example input: C:/gispy/data/ch17/fires.shp\n",
    "import arcpy, os, traceback, sys\n",
    "\n",
    "fcOrig = sys.argv[1]\n",
    "fc = 'C:/gispy/scratch/' + os.path.basename(fcOrig)\n",
    "arcpy.Copy_management(fcOrig, fc)\n",
    "fields = ['FireType_P', 'FireName']\n",
    "cursor = arcpy.da.UpdateCursor(fc, fields)\n",
    "try:\n",
    "    for row in cursor:\n",
    "        # Make changes to the list of values in 'row'\n",
    "        row[0] = row[0] + 2      # Example: 13->15\n",
    "        row[1] = row[1].title()  # Example: LITTLE CRK->Little Crk\n",
    "        # Update the table (otherwise the changes won't be saved)\n",
    "        cursor.updateRow(row)\n",
    "        print 'Updated {0} and {1}'.format(row[0], row[1])\n",
    "    del cursor\n",
    "except:\n",
    "    print 'An error occurred'\n",
    "    traceback.print_exc()\n",
    "    del cursor\n"
   ]
  },
  {
   "cell_type": "code",
   "execution_count": 16,
   "metadata": {
    "collapsed": true
   },
   "outputs": [
    {
     "ename": "ExecuteError",
     "evalue": "Failed to execute. Parameters are not valid.\nERROR 000732: Input Data: Dataset fires.shp does not exist or is not supported\nFailed to execute (Copy).\n",
     "output_type": "error",
     "traceback": [
      "\u001b[1;31m---------------------------------------------------------------------------\u001b[0m",
      "\u001b[1;31mExecuteError\u001b[0m                              Traceback (most recent call last)",
      "\u001b[1;32mD:\\BOOKS\\GISen\\_PYTHON\\PythonForArcGIS\\SF_PFA\\ch17\\script2\\updateValues.py\u001b[0m in \u001b[0;36m<module>\u001b[1;34m()\u001b[0m\n\u001b[0;32m      7\u001b[0m \u001b[0mfcOrig\u001b[0m \u001b[1;33m=\u001b[0m \u001b[0msys\u001b[0m\u001b[1;33m.\u001b[0m\u001b[0margv\u001b[0m\u001b[1;33m[\u001b[0m\u001b[1;36m1\u001b[0m\u001b[1;33m]\u001b[0m\u001b[1;33m\u001b[0m\u001b[0m\n\u001b[0;32m      8\u001b[0m \u001b[0mfc\u001b[0m \u001b[1;33m=\u001b[0m \u001b[1;34m'scratch/'\u001b[0m \u001b[1;33m+\u001b[0m \u001b[0mos\u001b[0m\u001b[1;33m.\u001b[0m\u001b[0mpath\u001b[0m\u001b[1;33m.\u001b[0m\u001b[0mbasename\u001b[0m\u001b[1;33m(\u001b[0m\u001b[0mfcOrig\u001b[0m\u001b[1;33m)\u001b[0m\u001b[1;33m\u001b[0m\u001b[0m\n\u001b[1;32m----> 9\u001b[1;33m \u001b[0marcpy\u001b[0m\u001b[1;33m.\u001b[0m\u001b[0mCopy_management\u001b[0m\u001b[1;33m(\u001b[0m\u001b[0mfcOrig\u001b[0m\u001b[1;33m,\u001b[0m \u001b[0mfc\u001b[0m\u001b[1;33m)\u001b[0m\u001b[1;33m\u001b[0m\u001b[0m\n\u001b[0m\u001b[0;32m     10\u001b[0m \u001b[0mfields\u001b[0m \u001b[1;33m=\u001b[0m \u001b[1;33m[\u001b[0m\u001b[1;34m'FireType_P'\u001b[0m\u001b[1;33m,\u001b[0m \u001b[1;34m'FireName'\u001b[0m\u001b[1;33m]\u001b[0m\u001b[1;33m\u001b[0m\u001b[0m\n\u001b[0;32m     11\u001b[0m \u001b[0mcursor\u001b[0m \u001b[1;33m=\u001b[0m \u001b[0marcpy\u001b[0m\u001b[1;33m.\u001b[0m\u001b[0mda\u001b[0m\u001b[1;33m.\u001b[0m\u001b[0mUpdateCursor\u001b[0m\u001b[1;33m(\u001b[0m\u001b[0mfc\u001b[0m\u001b[1;33m,\u001b[0m \u001b[0mfields\u001b[0m\u001b[1;33m)\u001b[0m\u001b[1;33m\u001b[0m\u001b[0m\n",
      "\u001b[1;32mC:\\Program Files (x86)\\ArcGIS\\Desktop10.1\\arcpy\\arcpy\\management.py\u001b[0m in \u001b[0;36mCopy\u001b[1;34m(in_data, out_data, data_type)\u001b[0m\n\u001b[0;32m   3611\u001b[0m         \u001b[1;32mreturn\u001b[0m \u001b[0mretval\u001b[0m\u001b[1;33m\u001b[0m\u001b[0m\n\u001b[0;32m   3612\u001b[0m     \u001b[1;32mexcept\u001b[0m \u001b[0mException\u001b[0m\u001b[1;33m,\u001b[0m \u001b[0me\u001b[0m\u001b[1;33m:\u001b[0m\u001b[1;33m\u001b[0m\u001b[0m\n\u001b[1;32m-> 3613\u001b[1;33m         \u001b[1;32mraise\u001b[0m \u001b[0me\u001b[0m\u001b[1;33m\u001b[0m\u001b[0m\n\u001b[0m\u001b[0;32m   3614\u001b[0m \u001b[1;33m\u001b[0m\u001b[0m\n\u001b[0;32m   3615\u001b[0m \u001b[1;33m@\u001b[0m\u001b[0mgptooldoc\u001b[0m\u001b[1;33m(\u001b[0m\u001b[1;34m'CreateDatabaseView_management'\u001b[0m\u001b[1;33m,\u001b[0m \u001b[0mNone\u001b[0m\u001b[1;33m)\u001b[0m\u001b[1;33m\u001b[0m\u001b[0m\n",
      "\u001b[1;31mExecuteError\u001b[0m: Failed to execute. Parameters are not valid.\nERROR 000732: Input Data: Dataset fires.shp does not exist or is not supported\nFailed to execute (Copy).\n"
     ]
    }
   ],
   "source": [
    "%run script2/updateValues.py fires.shp"
   ]
  },
  {
   "cell_type": "code",
   "execution_count": 17,
   "metadata": {
    "collapsed": false
   },
   "outputs": [
    {
     "name": "stdout",
     "output_type": "stream",
     "text": [
      "Updated 13.0 and Meadow\n",
      "Updated 13.0 and Little Crk\n",
      "Updated 13.0 and T.Calvin\n",
      "Updated 13.0 and Visitorc\n",
      "Updated 14.0 and Pilgrim Ht\n",
      "Updated 15.0 and Dump\n",
      "Updated 15.0 and Petreleif\n",
      "Updated 13.0 and Coconut\n",
      "Updated 13.0 and Highhead\n",
      "Updated 13.0 and Hrcovedune\n",
      "Updated 15.0 and Beech Fost\n",
      "Updated 15.0 and Pilg. Hgts\n"
     ]
    }
   ],
   "source": [
    "# updateValues.py\n",
    "# Purpose: Modify the fire type value and the fire\n",
    "# name in each record.\n",
    "# Usage: No script arguments needed.\n",
    "import arcpy, traceback\n",
    "fc = 'data/firesCopy.shp'\n",
    "fields = ['FireType_P', 'FireName']\n",
    "cursor = arcpy.da.UpdateCursor(fc, fields)\n",
    "try:\n",
    "  for row in cursor:\n",
    "    # Make changes to the list of values in 'row'\n",
    "    # Example: 13->15\n",
    "    row[0] = row[0] + 2\n",
    "    # Example: LITTLE CRK->Little Crk\n",
    "    row[1] = row[1].title()\n",
    "    # Update the table (otherwise changes won't be saved)\n",
    "    cursor.updateRow(row)\n",
    "    print'Updated {0} and {1}'.format(row[0], row[1])\n",
    "except:\n",
    "  print 'An error occurred'\n",
    "  traceback.print_exc()\n",
    "del cursor"
   ]
  },
  {
   "cell_type": "markdown",
   "metadata": {},
   "source": [
    "## 17.8 Insert Cursors"
   ]
  },
  {
   "cell_type": "code",
   "execution_count": null,
   "metadata": {
    "collapsed": true
   },
   "outputs": [],
   "source": [
    "# %load script/insertRow.py\n",
    "# insertRow.py\n",
    "# Purpose: Insert a new row without geometry.\n",
    "# Usage: Full path of file to copy and modify.\n",
    "# Example input: C:/gispy/data/ch17/fires.shp\n",
    "import arcpy, os, traceback, sys\n",
    "fcOrig = sys.argv[1]\n",
    "fc = 'C:/gispy/scratch/' + os.path.basename(fcOrig)\n",
    "arcpy.Copy_management(fcOrig, fc)\n",
    "fields = ['FireId', 'CalendarYe']\n",
    "# Create an insert cursor.\n",
    "try:\n",
    "    cursor = arcpy.da.InsertCursor(fc, fields)\n",
    "    # Create a list with FireId=513180 & CalendarYr=2009.\n",
    "    newRecord = [513180, 2009]\n",
    "    # Insert the row (otherwise no change would occur).\n",
    "    cursor.insertRow(newRecord)\n",
    "    print 'Point inserted.'\n",
    "    del cursor\n",
    "except:\n",
    "    print 'An error occurred.'\n",
    "    traceback.print_exc()\n",
    "    del cursor\n"
   ]
  },
  {
   "cell_type": "code",
   "execution_count": 21,
   "metadata": {
    "collapsed": false
   },
   "outputs": [
    {
     "ename": "ExecuteError",
     "evalue": "ERROR 000110:  does not exist\nFailed to execute (Copy).\n",
     "output_type": "error",
     "traceback": [
      "\u001b[1;31m---------------------------------------------------------------------------\u001b[0m",
      "\u001b[1;31mExecuteError\u001b[0m                              Traceback (most recent call last)",
      "\u001b[1;32mD:\\BOOKS\\GISen\\_PYTHON\\PythonForArcGIS\\SF_PFA\\ch17\\script2\\insertRow.py\u001b[0m in \u001b[0;36m<module>\u001b[1;34m()\u001b[0m\n\u001b[0;32m      6\u001b[0m \u001b[0mfcOrig\u001b[0m \u001b[1;33m=\u001b[0m \u001b[0msys\u001b[0m\u001b[1;33m.\u001b[0m\u001b[0margv\u001b[0m\u001b[1;33m[\u001b[0m\u001b[1;36m1\u001b[0m\u001b[1;33m]\u001b[0m\u001b[1;33m\u001b[0m\u001b[0m\n\u001b[0;32m      7\u001b[0m \u001b[0mfc\u001b[0m \u001b[1;33m=\u001b[0m \u001b[1;34m''\u001b[0m \u001b[1;33m+\u001b[0m \u001b[0mos\u001b[0m\u001b[1;33m.\u001b[0m\u001b[0mpath\u001b[0m\u001b[1;33m.\u001b[0m\u001b[0mbasename\u001b[0m\u001b[1;33m(\u001b[0m\u001b[0mfcOrig\u001b[0m\u001b[1;33m)\u001b[0m\u001b[1;33m\u001b[0m\u001b[0m\n\u001b[1;32m----> 8\u001b[1;33m \u001b[0marcpy\u001b[0m\u001b[1;33m.\u001b[0m\u001b[0mCopy_management\u001b[0m\u001b[1;33m(\u001b[0m\u001b[0mfcOrig\u001b[0m\u001b[1;33m,\u001b[0m \u001b[0mfc\u001b[0m\u001b[1;33m)\u001b[0m\u001b[1;33m\u001b[0m\u001b[0m\n\u001b[0m\u001b[0;32m      9\u001b[0m \u001b[0mfields\u001b[0m \u001b[1;33m=\u001b[0m \u001b[1;33m[\u001b[0m\u001b[1;34m'FireId'\u001b[0m\u001b[1;33m,\u001b[0m \u001b[1;34m'CalendarYe'\u001b[0m\u001b[1;33m]\u001b[0m\u001b[1;33m\u001b[0m\u001b[0m\n\u001b[0;32m     10\u001b[0m \u001b[1;31m# Create an insert cursor.\u001b[0m\u001b[1;33m\u001b[0m\u001b[1;33m\u001b[0m\u001b[0m\n",
      "\u001b[1;32mC:\\Program Files (x86)\\ArcGIS\\Desktop10.1\\arcpy\\arcpy\\management.py\u001b[0m in \u001b[0;36mCopy\u001b[1;34m(in_data, out_data, data_type)\u001b[0m\n\u001b[0;32m   3611\u001b[0m         \u001b[1;32mreturn\u001b[0m \u001b[0mretval\u001b[0m\u001b[1;33m\u001b[0m\u001b[0m\n\u001b[0;32m   3612\u001b[0m     \u001b[1;32mexcept\u001b[0m \u001b[0mException\u001b[0m\u001b[1;33m,\u001b[0m \u001b[0me\u001b[0m\u001b[1;33m:\u001b[0m\u001b[1;33m\u001b[0m\u001b[0m\n\u001b[1;32m-> 3613\u001b[1;33m         \u001b[1;32mraise\u001b[0m \u001b[0me\u001b[0m\u001b[1;33m\u001b[0m\u001b[0m\n\u001b[0m\u001b[0;32m   3614\u001b[0m \u001b[1;33m\u001b[0m\u001b[0m\n\u001b[0;32m   3615\u001b[0m \u001b[1;33m@\u001b[0m\u001b[0mgptooldoc\u001b[0m\u001b[1;33m(\u001b[0m\u001b[1;34m'CreateDatabaseView_management'\u001b[0m\u001b[1;33m,\u001b[0m \u001b[0mNone\u001b[0m\u001b[1;33m)\u001b[0m\u001b[1;33m\u001b[0m\u001b[0m\n",
      "\u001b[1;31mExecuteError\u001b[0m: ERROR 000110:  does not exist\nFailed to execute (Copy).\n"
     ]
    }
   ],
   "source": [
    "%run script2/insertRow.py data/firesCopy.shp"
   ]
  },
  {
   "cell_type": "code",
   "execution_count": 19,
   "metadata": {
    "collapsed": false
   },
   "outputs": [
    {
     "name": "stdout",
     "output_type": "stream",
     "text": [
      "Record inserted.\n"
     ]
    }
   ],
   "source": [
    "# insertRow.py\n",
    "# Purpose: Insert a new row without geometry.\n",
    "# Usage: No script arguments needed.\n",
    "import arcpy, traceback\n",
    "# Create an insert cursor\n",
    "fc = 'data/firesCopy.shp'\n",
    "fields = ['FireId','CalendarYe']\n",
    "try:\n",
    "  cursor = arcpy.da.InsertCursor(fc, fields)\n",
    "  # Create a list with FireId=513180&CalendarYr=2009\n",
    "  newRecord =[513180, 2009]\n",
    "  # Insert the row (otherwise no change would occur)\n",
    "  cursor.insertRow(newRecord)\n",
    "  print 'Record inserted.'\n",
    "  del cursor\n",
    "except:\n",
    "  print 'An error occurred.'\n",
    "  traceback.print_exc()\n",
    "  del cursor"
   ]
  },
  {
   "cell_type": "code",
   "execution_count": null,
   "metadata": {
    "collapsed": true
   },
   "outputs": [],
   "source": [
    "# %load script/insertRows.py\n",
    "# insertRows.py\n",
    "# Purpose: Insert multiple rows without geometry.\n",
    "# Usage: Full path of file to copy and modify.\n",
    "# Example input: C:/gispy/data/ch17/fires.shp\n",
    "import arcpy, os, sys, traceback\n",
    "fcOrig = sys.argv[1]\n",
    "fc = 'C:/gispy/scratch/' + os.path.basename(fcOrig)\n",
    "arcpy.Copy_management(fcOrig, fc)\n",
    "\n",
    "# Find the current fire numbers.\n",
    "try:\n",
    "    fields = ['FireNumber']\n",
    "    cursor = arcpy.da.SearchCursor(fc, fields)\n",
    "    fireNumbers = [row[0] for row in cursor]\n",
    "    print '{0} fire numbers found.'.format(len(fireNumbers))\n",
    "    del cursor\n",
    "except:\n",
    "    print 'An error occurred in the search.'\n",
    "    traceback.print_exc()\n",
    "    del cursor\n",
    "\n",
    "# Insert 5 new fires for year 2015.\n",
    "try:\n",
    "    fields.append('CalendarYe')\n",
    "    cursor = arcpy.da.InsertCursor(fc, fields)\n",
    "    # Find the max value in list and increment by 1.\n",
    "    fireNum = max(fireNumbers) + 1\n",
    "    for i in range(5):\n",
    "        # Create a row with unique fire number & year=2015.\n",
    "        newRow = [fireNum, 2015]\n",
    "        fireNum = fireNum + 1\n",
    "        # Insert the row.\n",
    "        cursor.insertRow(newRow)\n",
    "        print 'New row created with fire# {0} and year = {1}.'.format(\n",
    "                                newRow[0], newRow[1])\n",
    "    del cursor\n",
    "except:\n",
    "    print 'An error occurred in the insertion.'\n",
    "    traceback.print_exc()\n",
    "    del cursor\n"
   ]
  },
  {
   "cell_type": "code",
   "execution_count": 28,
   "metadata": {
    "collapsed": false
   },
   "outputs": [
    {
     "name": "stdout",
     "output_type": "stream",
     "text": [
      "23 fire numbers found.\n",
      "New row created with     fire 9922.0 and year = 2015.\n",
      "New row created with     fire 9923.0 and year = 2015.\n",
      "New row created with     fire 9924.0 and year = 2015.\n",
      "New row created with     fire 9925.0 and year = 2015.\n",
      "New row created with     fire 9926.0 and year = 2015.\n"
     ]
    }
   ],
   "source": [
    "# insertRows.py\n",
    "# Purpose: Insert multiple rows without geometry.\n",
    "# Usage: No script arguments needed.\n",
    "import arcpy, traceback\n",
    "fc = 'data/firesCopy.shp'\n",
    "# Find the current fire numbers.\n",
    "try:\n",
    "  fields = ['FireNumber']\n",
    "  cursor = arcpy.da.SearchCursor(fc, fields)\n",
    "  fireNumbers = [row[0]for row in cursor]\n",
    "  print'{0} fire numbers found.'.format(len( fireNumbers))\n",
    "  del cursor\n",
    "except:\n",
    "  print'An error occurred in the search.'\n",
    "  traceback.print_exc()\n",
    "  del cursor\n",
    "  \n",
    "# Insert 5 new fires for year 2015.\n",
    "try:\n",
    "  fields.append('CalendarYe')\n",
    "  cursor = arcpy.da.InsertCursor(fc, fields)\n",
    "  # Find the max value in list and increment by 1\n",
    "  fireNum = max( fireNumbers) + 1\n",
    "  for i in range(5):\n",
    "    # Create a row with unique fire number&year=2015\n",
    "    newRow = [ fireNum, 2015]\n",
    "    fireNum = fireNum + 1\n",
    "    # Insert the row.\n",
    "    cursor.insertRow(newRow)\n",
    "    print '''New row created with \\\n",
    "    fire {0} and year = {1}.'''.format(\n",
    "    newRow[0], newRow[1])\n",
    "  del cursor\n",
    "except:\n",
    "  print 'An error occurred in the insertion.'\n",
    "  traceback.print_exc()\n",
    "  del cursor"
   ]
  },
  {
   "cell_type": "code",
   "execution_count": null,
   "metadata": {
    "collapsed": true
   },
   "outputs": [],
   "source": []
  },
  {
   "cell_type": "markdown",
   "metadata": {},
   "source": [
    "## 17.8.1 Inserting Geometric Objects"
   ]
  },
  {
   "cell_type": "code",
   "execution_count": 29,
   "metadata": {
    "collapsed": false
   },
   "outputs": [
    {
     "data": {
      "text/plain": [
       "<Point (-70.1, 42.07, #, #)>"
      ]
     },
     "execution_count": 29,
     "metadata": {},
     "output_type": "execute_result"
    }
   ],
   "source": [
    "myPoint = arcpy.Point(-70.1, 42.07)\n",
    "myPoint"
   ]
  },
  {
   "cell_type": "code",
   "execution_count": 30,
   "metadata": {
    "collapsed": true
   },
   "outputs": [],
   "source": [
    "x = 2134000\n",
    "y = 179643\n",
    "a = arcpy.Point(x,y)\n",
    "x = 2147000\n",
    "y = 163267\n",
    "b = arcpy.Point(x,y)"
   ]
  },
  {
   "cell_type": "code",
   "execution_count": 31,
   "metadata": {
    "collapsed": false
   },
   "outputs": [
    {
     "data": {
      "text/plain": [
       "<Point (2134000.0, 179643.0, #, #)>"
      ]
     },
     "execution_count": 31,
     "metadata": {},
     "output_type": "execute_result"
    }
   ],
   "source": [
    "a"
   ]
  },
  {
   "cell_type": "code",
   "execution_count": 32,
   "metadata": {
    "collapsed": false
   },
   "outputs": [
    {
     "data": {
      "text/plain": [
       "<Point (2147000.0, 163267.0, #, #)>"
      ]
     },
     "execution_count": 32,
     "metadata": {},
     "output_type": "execute_result"
    }
   ],
   "source": [
    "b"
   ]
  },
  {
   "cell_type": "code",
   "execution_count": 33,
   "metadata": {
    "collapsed": false
   },
   "outputs": [
    {
     "data": {
      "text/plain": [
       "20908.691398554813"
      ]
     },
     "execution_count": 33,
     "metadata": {},
     "output_type": "execute_result"
    }
   ],
   "source": [
    "myArray = arcpy.Array([a,b])\n",
    "line = arcpy.Polyline(myArray)\n",
    "line.length"
   ]
  },
  {
   "cell_type": "code",
   "execution_count": null,
   "metadata": {
    "collapsed": true
   },
   "outputs": [],
   "source": [
    "# %load script/insertPoint.py\n",
    "# insertPoint.py\n",
    "# Purpose: Insert a point with a Geometry object.\n",
    "# Usage: Full path of file to copy and modify.\n",
    "# Example input: C:/gispy/data/ch17/fires.shp\n",
    "\n",
    "import arcpy, os, traceback, sys\n",
    "\n",
    "fcOrig = sys.argv[1]\n",
    "fc = 'C:/gispy/scratch/' + os.path.basename(fcOrig)\n",
    "arcpy.Copy_management(fcOrig, fc)\n",
    "\n",
    "try:\n",
    "    ic = arcpy.da.InsertCursor(fc, ['FireId', 'SHAPE@XY'])\n",
    "\n",
    "    # Create a point with x = -70.1 and y = 42.07 to be used for the Shape field.\n",
    "    myPoint = arcpy.Point(-70.1, 42.07)\n",
    "\n",
    "    # Create a row list with FireId=500000 and the new point\n",
    "    newRow = [500000, myPoint]\n",
    "\n",
    "    # Insert the new row.\n",
    "    ic.insertRow(newRow)\n",
    "    print 'New row inserted.'\n",
    "\n",
    "    del ic\n",
    "except:\n",
    "    print 'An error occurred.'\n",
    "    traceback.print_exc()\n",
    "    del cursor\n"
   ]
  },
  {
   "cell_type": "code",
   "execution_count": 35,
   "metadata": {
    "collapsed": false
   },
   "outputs": [
    {
     "name": "stdout",
     "output_type": "stream",
     "text": [
      "New row inserted.\n"
     ]
    }
   ],
   "source": [
    "%run script2/insertPoint.py"
   ]
  },
  {
   "cell_type": "code",
   "execution_count": null,
   "metadata": {
    "collapsed": true
   },
   "outputs": [],
   "source": []
  },
  {
   "cell_type": "code",
   "execution_count": null,
   "metadata": {
    "collapsed": true
   },
   "outputs": [],
   "source": []
  },
  {
   "cell_type": "markdown",
   "metadata": {},
   "source": [
    "## 17.9 Selecting Rows with SQL"
   ]
  },
  {
   "cell_type": "code",
   "execution_count": null,
   "metadata": {
    "collapsed": true
   },
   "outputs": [],
   "source": [
    "# %load script/sqlQueryCursor.py\n",
    "# sqlQueryCursor.py\n",
    "# Purpose: Use a SQL query to select specific records.\n",
    "# Usage: No script arguments needed.\n",
    "import arcpy, traceback\n",
    "fc = 'C:/gispy/data/ch17/fires.shp'\n",
    "\n",
    "# Create the where_clause.\n",
    "query = \"SizeClass = 'A'\"\n",
    "try:\n",
    "    sc = arcpy.da.SearchCursor(fc, ['CalendarYe'], query)\n",
    "\n",
    "    for row in sc:\n",
    "        print row[0],\n",
    "    del sc\n",
    "except:\n",
    "    print 'An error occurred.'\n",
    "    traceback.print_exc()\n",
    "    del cursor\n"
   ]
  },
  {
   "cell_type": "code",
   "execution_count": 37,
   "metadata": {
    "collapsed": false,
    "scrolled": true
   },
   "outputs": [
    {
     "name": "stdout",
     "output_type": "stream",
     "text": [
      "1997.0 1997.0 1997.0 1999.0 1999.0 2004.0 2005.0\n"
     ]
    }
   ],
   "source": [
    "%run script2/sqlQueryCursor.py"
   ]
  },
  {
   "cell_type": "code",
   "execution_count": null,
   "metadata": {
    "collapsed": true
   },
   "outputs": [],
   "source": [
    "# %load script/whereClauseWithVar.py\n",
    "# whereClauseWithVar.py\n",
    "# Purpose: Use a SQL query to select specific records based on user arguments.\n",
    "# Example: C:/gispy/data/ch17/fires.shp FID FireName\n",
    "import arcpy, sys, traceback\n",
    "\n",
    "fc = sys.argv[1]\n",
    "numericField = sys.argv[2]\n",
    "fieldToPrint = sys.argv[3]\n",
    "\n",
    "query = '{0} > 6'.format(numericField)  # String formatting.\n",
    "\n",
    "try:\n",
    "    with arcpy.da.SearchCursor(fc, [fieldToPrint], query) as cursor:\n",
    "        recordList = [row[0] for row in cursor]\n",
    "    del cursor\n",
    "\n",
    "    print recordList\n",
    "except:\n",
    "    print 'An error occurred.'\n",
    "    traceback.print_exc()\n",
    "    del cursor\n"
   ]
  },
  {
   "cell_type": "code",
   "execution_count": 39,
   "metadata": {
    "collapsed": false
   },
   "outputs": [
    {
     "name": "stdout",
     "output_type": "stream",
     "text": [
      "[u'COCONUT', u'HIGHHEAD', u'HRCOVEDUNE', u'Beech Fost', u'Pilg. Hgts']\n"
     ]
    }
   ],
   "source": [
    "%run script2/whereClauseWithVar.py data/fires.shp FID FireName"
   ]
  },
  {
   "cell_type": "markdown",
   "metadata": {},
   "source": [
    "## 17.10 Key Terms"
   ]
  },
  {
   "cell_type": "markdown",
   "metadata": {},
   "source": [
    "## 17.11 Exercises"
   ]
  },
  {
   "cell_type": "code",
   "execution_count": null,
   "metadata": {
    "collapsed": true
   },
   "outputs": [],
   "source": []
  }
 ],
 "metadata": {
  "kernelspec": {
   "display_name": "Python 2",
   "language": "python",
   "name": "python2"
  },
  "language_info": {
   "codemirror_mode": {
    "name": "ipython",
    "version": 2
   },
   "file_extension": ".py",
   "mimetype": "text/x-python",
   "name": "python",
   "nbconvert_exporter": "python",
   "pygments_lexer": "ipython2",
   "version": "2.7.2"
  }
 },
 "nbformat": 4,
 "nbformat_minor": 0
}
