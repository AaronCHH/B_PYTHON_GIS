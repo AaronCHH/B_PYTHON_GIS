{
 "cells": [
  {
   "cell_type": "markdown",
   "metadata": {},
   "source": [
    "# 18 Dictionaries\n",
    "* 18.1 Dictionary Terms and Syntax\n",
    "* 18.1.1 Access by Key, Not by Index\n",
    "* 18.1.2 Conditional Construct vs. Dictionary\n",
    "* 18.1.3 How to Modify: Update/Add/Delete Items\n",
    "* 18.2 Dictionary Operations and Methods\n",
    "* 18.2.1 Does It Have That Key?\n",
    "* 18.2.2 Listing Keys, Values, and Items\n",
    "* 18.2.3 Looping Through Dictionaries\n",
    "* 18.3 Populating a Dictionary\n",
    "* 18.3.1 Dictionaries and Cursors\n",
    "* 18.4 Discussion\n",
    "* 18.5 Key Terms\n",
    "* 18.6 Exercises"
   ]
  },
  {
   "cell_type": "markdown",
   "metadata": {},
   "source": [
    "## 18.1 Dictionary Terms and Syntax"
   ]
  },
  {
   "cell_type": "code",
   "execution_count": 3,
   "metadata": {
    "collapsed": false
   },
   "outputs": [
    {
     "data": {
      "text/plain": [
       "{27511: 'Wake',\n",
       " 27522: 'Granville',\n",
       " 27607: 'Wake',\n",
       " 27953: 'Dare',\n",
       " 28736: 'Jackson'}"
      ]
     },
     "execution_count": 3,
     "metadata": {},
     "output_type": "execute_result"
    }
   ],
   "source": [
    "zipcodeDictionary = {27522 : 'Granville', 28736 : 'Jackson', 27953:'Dare', 27511: 'Wake', 27607: 'Wake'}\n",
    "zipcodeDictionary"
   ]
  },
  {
   "cell_type": "code",
   "execution_count": 4,
   "metadata": {
    "collapsed": false
   },
   "outputs": [
    {
     "data": {
      "text/plain": [
       "{8.5: 1963, 'oceans': [11, 12], 'up': 'dog'}"
      ]
     },
     "execution_count": 4,
     "metadata": {},
     "output_type": "execute_result"
    }
   ],
   "source": [
    "flickDict = {8.5:1963, 'oceans':[11,12], 'up' : 'dog'}\n",
    "flickDict"
   ]
  },
  {
   "cell_type": "code",
   "execution_count": 12,
   "metadata": {
    "collapsed": false
   },
   "outputs": [
    {
     "data": {
      "text/plain": [
       "{'himbo': 'an attractive but vacuous man',\n",
       " 'mouse potato': 'a frequent computer user',\n",
       " 'wasband': 'former husband'}"
      ]
     },
     "execution_count": 12,
     "metadata": {},
     "output_type": "execute_result"
    }
   ],
   "source": [
    "newVocab = {'mouse potato': 'a frequent computer user', \n",
    "            'wasband' : 'former husband', \n",
    "            'himbo': 'an attractive but vacuous man'}\n",
    "newVocab"
   ]
  },
  {
   "cell_type": "code",
   "execution_count": 8,
   "metadata": {
    "collapsed": false
   },
   "outputs": [
    {
     "data": {
      "text/plain": [
       "dict"
      ]
     },
     "execution_count": 8,
     "metadata": {},
     "output_type": "execute_result"
    }
   ],
   "source": [
    "type(newVocab)"
   ]
  },
  {
   "cell_type": "markdown",
   "metadata": {},
   "source": [
    "### 18.1.1 Access by Key, Not by Index"
   ]
  },
  {
   "cell_type": "code",
   "execution_count": 9,
   "metadata": {
    "collapsed": true
   },
   "outputs": [],
   "source": [
    "roomDict = {'cslewis': 4139, 'emforste': 4118,\n",
    "'jkrowlin': 4098, 'jrtolkie': 4259, 'pgwodeho': 4118,\n",
    "'jrtolkie': 4259, 'vmhugo': 2121, 'vwoolf': 3145}"
   ]
  },
  {
   "cell_type": "code",
   "execution_count": 11,
   "metadata": {
    "collapsed": false
   },
   "outputs": [
    {
     "data": {
      "text/plain": [
       "4118"
      ]
     },
     "execution_count": 11,
     "metadata": {},
     "output_type": "execute_result"
    }
   ],
   "source": [
    "roomDict['emforste']"
   ]
  },
  {
   "cell_type": "code",
   "execution_count": 13,
   "metadata": {
    "collapsed": false
   },
   "outputs": [
    {
     "ename": "KeyError",
     "evalue": "1",
     "output_type": "error",
     "traceback": [
      "\u001b[1;31m---------------------------------------------------------------------------\u001b[0m",
      "\u001b[1;31mKeyError\u001b[0m                                  Traceback (most recent call last)",
      "\u001b[1;32m<ipython-input-13-9af2b3fb97ec>\u001b[0m in \u001b[0;36m<module>\u001b[1;34m()\u001b[0m\n\u001b[1;32m----> 1\u001b[1;33m \u001b[0mroomDict\u001b[0m\u001b[1;33m[\u001b[0m\u001b[1;36m1\u001b[0m\u001b[1;33m]\u001b[0m\u001b[1;33m\u001b[0m\u001b[0m\n\u001b[0m",
      "\u001b[1;31mKeyError\u001b[0m: 1"
     ]
    }
   ],
   "source": [
    "roomDict[1]"
   ]
  },
  {
   "cell_type": "markdown",
   "metadata": {},
   "source": [
    "### 18.1.2 Conditional Construct vs. Dictionary"
   ]
  },
  {
   "cell_type": "code",
   "execution_count": 15,
   "metadata": {
    "collapsed": true
   },
   "outputs": [
    {
     "ename": "NameError",
     "evalue": "name 'num' is not defined",
     "output_type": "error",
     "traceback": [
      "\u001b[1;31m---------------------------------------------------------------------------\u001b[0m",
      "\u001b[1;31mNameError\u001b[0m                                 Traceback (most recent call last)",
      "\u001b[1;32m<ipython-input-15-2fa96f460e12>\u001b[0m in \u001b[0;36m<module>\u001b[1;34m()\u001b[0m\n\u001b[1;32m----> 1\u001b[1;33m \u001b[1;32mif\u001b[0m \u001b[0mnum\u001b[0m \u001b[1;33m==\u001b[0m \u001b[1;36m0\u001b[0m\u001b[1;33m:\u001b[0m\u001b[1;33m\u001b[0m\u001b[0m\n\u001b[0m\u001b[0;32m      2\u001b[0m   \u001b[0mday\u001b[0m \u001b[1;33m=\u001b[0m \u001b[1;34m'Monday'\u001b[0m\u001b[1;33m\u001b[0m\u001b[0m\n\u001b[0;32m      3\u001b[0m   \u001b[1;32mprint\u001b[0m \u001b[1;34m'Weekday: {0}'\u001b[0m\u001b[1;33m.\u001b[0m\u001b[0mformat\u001b[0m\u001b[1;33m(\u001b[0m\u001b[0mday\u001b[0m\u001b[1;33m)\u001b[0m\u001b[1;33m\u001b[0m\u001b[0m\n\u001b[0;32m      4\u001b[0m \u001b[1;32melif\u001b[0m \u001b[0mnum\u001b[0m \u001b[1;33m==\u001b[0m \u001b[1;36m1\u001b[0m\u001b[1;33m:\u001b[0m\u001b[1;33m\u001b[0m\u001b[0m\n\u001b[0;32m      5\u001b[0m   \u001b[0mday\u001b[0m \u001b[1;33m=\u001b[0m \u001b[1;34m'Tuesday'\u001b[0m\u001b[1;33m\u001b[0m\u001b[0m\n",
      "\u001b[1;31mNameError\u001b[0m: name 'num' is not defined"
     ]
    }
   ],
   "source": [
    "if num == 0:\n",
    "  day = 'Monday'\n",
    "  print 'Weekday: {0}'.format(day)\n",
    "elif num == 1:\n",
    "  day = 'Tuesday'\n",
    "  print 'Weekday: {0}'.format(day)\n",
    "elif num == 2:\n",
    "  day = 'Wednesday'\n",
    "  print 'Weekday: {0}'.format(day)\n",
    "elif num == 3:\n",
    "  day = 'Thursday'\n",
    "  print 'Weekday: {0}'.format(day)\n",
    "elif num == 4:\n",
    "  day = 'Friday'\n",
    "  print 'Weekday: {0}'.format(day)"
   ]
  },
  {
   "cell_type": "code",
   "execution_count": null,
   "metadata": {
    "collapsed": true
   },
   "outputs": [],
   "source": [
    "# %load script/weekdays.py\n",
    "# weekdays.py\n",
    "# Purpose: Print the day of the week, based on a number.\n",
    "#          Contrast using ELIF branching (15 lines of code)\n",
    "#          with using a dictionary (3 lines of code)\n",
    "# Usage: Integer between 0 and 4.\n",
    "# Example 3\n",
    "\n",
    "\n",
    "import sys\n",
    "code = int(sys.argv[1])\n",
    "if code == 0:\n",
    "    day = 'Monday'\n",
    "    print 'Weekday: {0}'.format(day)\n",
    "elif code == 1:\n",
    "    day = 'Tuesday'\n",
    "    print 'Weekday: {0}'.format(day)\n",
    "elif code == 2:\n",
    "    day = 'Wednesday'\n",
    "    print 'Weekday: {0}'.format(day)\n",
    "elif code == 3:\n",
    "    day = 'Thursday'\n",
    "    print 'Weekday: {0}'.format(day)\n",
    "elif code == 4:\n",
    "    day = 'Friday'\n",
    "    print 'Weekday: {0}'.format(day)\n",
    "\n",
    "#################################### Dictionary equivalent\n",
    "\n",
    "weekdayDict = {0: 'Monday', 1: 'Tuesday', 2: 'Wednesday', 3: 'Thursday', 4: 'Friday'}\n",
    "\n",
    "day = weekdayDict[code]\n",
    "print 'Weekday: {0}'.format(day)\n"
   ]
  },
  {
   "cell_type": "code",
   "execution_count": 17,
   "metadata": {
    "collapsed": false
   },
   "outputs": [
    {
     "name": "stdout",
     "output_type": "stream",
     "text": [
      "Weekday: Thursday\n",
      "Weekday: Thursday\n"
     ]
    }
   ],
   "source": [
    "%run script2/weekdays.py 3"
   ]
  },
  {
   "cell_type": "markdown",
   "metadata": {},
   "source": [
    "### 18.1.3 How to Modify: Update/Add/Delete Items"
   ]
  },
  {
   "cell_type": "code",
   "execution_count": 18,
   "metadata": {
    "collapsed": false
   },
   "outputs": [
    {
     "data": {
      "text/plain": [
       "7"
      ]
     },
     "execution_count": 18,
     "metadata": {},
     "output_type": "execute_result"
    }
   ],
   "source": [
    "# Modify the room number for 'emforste'.\n",
    "roomDict['emforste'] = 4139\n",
    "roomDict # The dictionary is updated.\n",
    "len(roomDict)"
   ]
  },
  {
   "cell_type": "code",
   "execution_count": 19,
   "metadata": {
    "collapsed": false
   },
   "outputs": [
    {
     "data": {
      "text/plain": [
       "8"
      ]
     },
     "execution_count": 19,
     "metadata": {},
     "output_type": "execute_result"
    }
   ],
   "source": [
    "# Add 'lcarroll' in room 2121 to the dictionary.\n",
    "roomDict['lcarroll'] = 2121\n",
    "roomDict # A new item is added to the dictionary.\n",
    "len(roomDict) # The length of the dictionary becomes 8."
   ]
  },
  {
   "cell_type": "code",
   "execution_count": 20,
   "metadata": {
    "collapsed": true
   },
   "outputs": [],
   "source": [
    "weather = {'S1' : [15,20],'S2' : [25,30,40]}"
   ]
  },
  {
   "cell_type": "code",
   "execution_count": 21,
   "metadata": {
    "collapsed": false
   },
   "outputs": [
    {
     "data": {
      "text/plain": [
       "{'S1': [15, 20], 'S2': [25, 30, 40], 'S3': [33, 40]}"
      ]
     },
     "execution_count": 21,
     "metadata": {},
     "output_type": "execute_result"
    }
   ],
   "source": [
    "weather['S3'] = [33,40]\n",
    "weather"
   ]
  },
  {
   "cell_type": "code",
   "execution_count": 22,
   "metadata": {
    "collapsed": false
   },
   "outputs": [
    {
     "data": {
      "text/plain": [
       "{'S1': [15, 20], 'S2': [25, 30, 40, 36], 'S3': [33, 40]}"
      ]
     },
     "execution_count": 22,
     "metadata": {},
     "output_type": "execute_result"
    }
   ],
   "source": [
    "weather['S2'].append(36)\n",
    "weather"
   ]
  },
  {
   "cell_type": "code",
   "execution_count": 24,
   "metadata": {
    "collapsed": false
   },
   "outputs": [
    {
     "data": {
      "text/plain": [
       "{'S1': [17, 22], 'S2': [25, 30, 40, 36], 'S3': [33, 40]}"
      ]
     },
     "execution_count": 24,
     "metadata": {},
     "output_type": "execute_result"
    }
   ],
   "source": [
    "update = [i + 1 for i in weather['S1']]\n",
    "weather['S1'] = update\n",
    "weather"
   ]
  },
  {
   "cell_type": "code",
   "execution_count": 26,
   "metadata": {
    "collapsed": false
   },
   "outputs": [
    {
     "data": {
      "text/plain": [
       "{'cslewis': 4139,\n",
       " 'emforste': 4139,\n",
       " 'jkrowlin': 4098,\n",
       " 'lcarroll': 2121,\n",
       " 'pgwodeho': 4118,\n",
       " 'vmhugo': 2121,\n",
       " 'vwoolf': 3145}"
      ]
     },
     "execution_count": 26,
     "metadata": {},
     "output_type": "execute_result"
    }
   ],
   "source": [
    "del roomDict['jrtolkie']\n",
    "roomDict"
   ]
  },
  {
   "cell_type": "code",
   "execution_count": 27,
   "metadata": {
    "collapsed": false
   },
   "outputs": [
    {
     "ename": "KeyError",
     "evalue": "'cslouis'",
     "output_type": "error",
     "traceback": [
      "\u001b[1;31m---------------------------------------------------------------------------\u001b[0m",
      "\u001b[1;31mKeyError\u001b[0m                                  Traceback (most recent call last)",
      "\u001b[1;32m<ipython-input-27-abc1d2d0c9e2>\u001b[0m in \u001b[0;36m<module>\u001b[1;34m()\u001b[0m\n\u001b[1;32m----> 1\u001b[1;33m \u001b[1;32mdel\u001b[0m \u001b[0mroomDict\u001b[0m\u001b[1;33m[\u001b[0m\u001b[1;34m'cslouis'\u001b[0m\u001b[1;33m]\u001b[0m\u001b[1;33m\u001b[0m\u001b[0m\n\u001b[0m",
      "\u001b[1;31mKeyError\u001b[0m: 'cslouis'"
     ]
    }
   ],
   "source": [
    "del roomDict['cslouis']"
   ]
  },
  {
   "cell_type": "code",
   "execution_count": null,
   "metadata": {
    "collapsed": true
   },
   "outputs": [],
   "source": []
  },
  {
   "cell_type": "code",
   "execution_count": null,
   "metadata": {
    "collapsed": true
   },
   "outputs": [],
   "source": []
  },
  {
   "cell_type": "markdown",
   "metadata": {},
   "source": [
    "## 18.2 Dictionary Operations and Methods"
   ]
  },
  {
   "cell_type": "markdown",
   "metadata": {},
   "source": [
    "### 18.2.1 Does It Have That Key?"
   ]
  },
  {
   "cell_type": "code",
   "execution_count": 28,
   "metadata": {
    "collapsed": false
   },
   "outputs": [
    {
     "data": {
      "text/plain": [
       "True"
      ]
     },
     "execution_count": 28,
     "metadata": {},
     "output_type": "execute_result"
    }
   ],
   "source": [
    "'cslewis' in roomDict"
   ]
  },
  {
   "cell_type": "code",
   "execution_count": 29,
   "metadata": {
    "collapsed": false
   },
   "outputs": [
    {
     "data": {
      "text/plain": [
       "False"
      ]
     },
     "execution_count": 29,
     "metadata": {},
     "output_type": "execute_result"
    }
   ],
   "source": [
    "'cslouis' in roomDict"
   ]
  },
  {
   "cell_type": "code",
   "execution_count": 31,
   "metadata": {
    "collapsed": false
   },
   "outputs": [
    {
     "name": "stdout",
     "output_type": "stream",
     "text": [
      "No cslouis key found.\n"
     ]
    }
   ],
   "source": [
    "key = 'cslouis'\n",
    "if key in roomDict:\n",
    "  print roomDict[key]\n",
    "else:\n",
    "  print 'No {0} key found.'.format(key)"
   ]
  },
  {
   "cell_type": "markdown",
   "metadata": {},
   "source": [
    "### 18.2.2 Listing Keys, Values, and Items"
   ]
  },
  {
   "cell_type": "code",
   "execution_count": 32,
   "metadata": {
    "collapsed": false
   },
   "outputs": [
    {
     "data": {
      "text/plain": [
       "['vmhugo', 'vwoolf', 'emforste', 'jkrowlin', 'pgwodeho', 'cslewis', 'lcarroll']"
      ]
     },
     "execution_count": 32,
     "metadata": {},
     "output_type": "execute_result"
    }
   ],
   "source": [
    "roomDict.keys()"
   ]
  },
  {
   "cell_type": "code",
   "execution_count": 33,
   "metadata": {
    "collapsed": false
   },
   "outputs": [
    {
     "data": {
      "text/plain": [
       "[2121, 3145, 4139, 4098, 4118, 4139, 2121]"
      ]
     },
     "execution_count": 33,
     "metadata": {},
     "output_type": "execute_result"
    }
   ],
   "source": [
    "roomDict.values()"
   ]
  },
  {
   "cell_type": "code",
   "execution_count": 34,
   "metadata": {
    "collapsed": false
   },
   "outputs": [
    {
     "data": {
      "text/plain": [
       "[('vmhugo', 2121),\n",
       " ('vwoolf', 3145),\n",
       " ('emforste', 4139),\n",
       " ('jkrowlin', 4098),\n",
       " ('pgwodeho', 4118),\n",
       " ('cslewis', 4139),\n",
       " ('lcarroll', 2121)]"
      ]
     },
     "execution_count": 34,
     "metadata": {},
     "output_type": "execute_result"
    }
   ],
   "source": [
    "roomDict.items()"
   ]
  },
  {
   "cell_type": "code",
   "execution_count": null,
   "metadata": {
    "collapsed": true
   },
   "outputs": [],
   "source": []
  },
  {
   "cell_type": "markdown",
   "metadata": {},
   "source": [
    "### 18.2.3 Looping Through Dictionaries"
   ]
  },
  {
   "cell_type": "code",
   "execution_count": 35,
   "metadata": {
    "collapsed": false
   },
   "outputs": [
    {
     "name": "stdout",
     "output_type": "stream",
     "text": [
      "himbo\n",
      "wasband\n",
      "mouse potato\n"
     ]
    }
   ],
   "source": [
    "for k in newVocab.keys():\n",
    "  print k"
   ]
  },
  {
   "cell_type": "code",
   "execution_count": 37,
   "metadata": {
    "collapsed": false
   },
   "outputs": [
    {
     "name": "stdout",
     "output_type": "stream",
     "text": [
      "an attractive but vacuous man\n",
      "former husband\n",
      "a frequent computer user\n"
     ]
    }
   ],
   "source": [
    "for v in newVocab.values():\n",
    "  print v"
   ]
  },
  {
   "cell_type": "code",
   "execution_count": 39,
   "metadata": {
    "collapsed": false
   },
   "outputs": [
    {
     "name": "stdout",
     "output_type": "stream",
     "text": [
      "himbo : an attractive but vacuous man\n",
      "wasband : former husband\n",
      "mouse potato : a frequent computer user\n"
     ]
    }
   ],
   "source": [
    "for k, v in newVocab.items():\n",
    "  print k, ':', v"
   ]
  },
  {
   "cell_type": "code",
   "execution_count": 36,
   "metadata": {
    "collapsed": false
   },
   "outputs": [
    {
     "data": {
      "text/plain": [
       "{'S1': [17, 22, 0], 'S2': [25, 30, 40, 36, 0], 'S3': [33, 40, 0]}"
      ]
     },
     "execution_count": 36,
     "metadata": {},
     "output_type": "execute_result"
    }
   ],
   "source": [
    "for k in weather.keys():\n",
    "  weather[k].append(0)\n",
    "weather  "
   ]
  },
  {
   "cell_type": "code",
   "execution_count": 42,
   "metadata": {
    "collapsed": false
   },
   "outputs": [
    {
     "name": "stdout",
     "output_type": "stream",
     "text": [
      "24 26 13\n"
     ]
    }
   ],
   "source": [
    "for v in weather.values():\n",
    "  print sum(v)/len(v),"
   ]
  },
  {
   "cell_type": "code",
   "execution_count": 44,
   "metadata": {
    "collapsed": false
   },
   "outputs": [
    {
     "name": "stdout",
     "output_type": "stream",
     "text": [
      "emforste, room 4139\n",
      "jkrowlin, room 4098\n",
      "pgwodeho, room 4118\n",
      "cslewis, room 4139\n"
     ]
    }
   ],
   "source": [
    "for k, v in roomDict.items():\n",
    "  room = str(v)\n",
    "  if room.startswith('4'):\n",
    "    print'{0}, room {1}'.format(k,v)"
   ]
  },
  {
   "cell_type": "code",
   "execution_count": null,
   "metadata": {
    "collapsed": true
   },
   "outputs": [],
   "source": []
  },
  {
   "cell_type": "markdown",
   "metadata": {},
   "source": [
    "## 18.3 Populating a Dictionary"
   ]
  },
  {
   "cell_type": "code",
   "execution_count": null,
   "metadata": {
    "collapsed": true
   },
   "outputs": [],
   "source": [
    "# %load script/healthyLiving.py\n",
    "# healthyLiving.py\n",
    "# Purpose: Populate a dictionary based on user responses.\n",
    "#          Inquires about fruit and veg multiple times to\n",
    "#          but only keeps the last response.\n",
    "# Usage: No arguments required to start the script running.\n",
    "choiceList = ['fruit', 'fruit', 'fruit', 'veg', 'veg', 'veg', 'exercise', 'park']\n",
    "favDict = {}  # Create empty dictionary\n",
    "for c in choiceList:\n",
    "    question = \"What is your favorite {0}?\".format(c)\n",
    "    answer = raw_input(question)\n",
    "    favDict[c] = answer  # Add or update item\n",
    "print 'favDict {0}'.format(favDict)\n"
   ]
  },
  {
   "cell_type": "code",
   "execution_count": 46,
   "metadata": {
    "collapsed": false
   },
   "outputs": [
    {
     "name": "stdout",
     "output_type": "stream",
     "text": [
      "What is your favorite fruit?veg\n",
      "What is your favorite fruit?exercises\n",
      "What is your favorite fruit?park\n",
      "What is your favorite veg?park\n",
      "What is your favorite veg?veg\n",
      "What is your favorite veg?veg\n",
      "What is your favorite exercise?basketball\n",
      "What is your favorite park?abc\n",
      "favDict {'veg': 'veg', 'fruit': 'park', 'park': 'abc', 'exercise': 'basketball'}\n"
     ]
    }
   ],
   "source": [
    "%run script2/healthyLiving.py"
   ]
  },
  {
   "cell_type": "code",
   "execution_count": null,
   "metadata": {
    "collapsed": true
   },
   "outputs": [],
   "source": [
    "# %load script/healthyLivingV2.py\n",
    "# healthyLivingV2.py\n",
    "# Purpose: Populate a dictionary based on user responses.\n",
    "#          Inquires about fruit and veg multiple times to\n",
    "#          and collects ALL of the responses.\n",
    "# Usage: No arguments required to start the script running.\n",
    "choiceList = ['fruit', 'fruit', 'fruit', 'veg', 'veg', 'veg', 'exercise', 'park']\n",
    "topDict = {}  # Create empty dictionary\n",
    "for c in choiceList:\n",
    "    question = \"What is your favorite {0}?\".format(c)\n",
    "    answer = raw_input(question)\n",
    "    if not c in topDict:\n",
    "        topDict[c] = [answer]  # Add a new item to the dictionary.\n",
    "    else:\n",
    "        topDict[c].append(answer)  # Update an item by adding to an item's list.\n",
    "\n",
    "print 'topDict {0}'.format(topDict)\n"
   ]
  },
  {
   "cell_type": "code",
   "execution_count": 49,
   "metadata": {
    "collapsed": false
   },
   "outputs": [
    {
     "name": "stdout",
     "output_type": "stream",
     "text": [
      "What is your favorite fruit?a\n",
      "What is your favorite fruit?b\n",
      "What is your favorite fruit?c\n",
      "What is your favorite veg?d\n",
      "What is your favorite veg?e\n",
      "What is your favorite veg?f\n",
      "What is your favorite exercise?g\n",
      "What is your favorite park?h\n",
      "topDict {'veg': ['d', 'e', 'f'], 'fruit': ['a', 'b', 'c'], 'park': ['h'], 'exercise': ['g']}\n"
     ]
    }
   ],
   "source": [
    "%run script2/healthyLivingV2.py"
   ]
  },
  {
   "cell_type": "code",
   "execution_count": 50,
   "metadata": {
    "collapsed": false
   },
   "outputs": [
    {
     "data": {
      "text/plain": [
       "{'exercise': ['g'],\n",
       " 'fruit': ['a', 'b', 'c'],\n",
       " 'park': ['h'],\n",
       " 'veg': ['d', 'e', 'f']}"
      ]
     },
     "execution_count": 50,
     "metadata": {},
     "output_type": "execute_result"
    }
   ],
   "source": [
    "topDict"
   ]
  },
  {
   "cell_type": "code",
   "execution_count": null,
   "metadata": {
    "collapsed": true
   },
   "outputs": [],
   "source": [
    "# %load script/fileDates.py\n",
    "# fileDates.py\n",
    "# Purpose: Collect filenames and modification dates in a dictionary.\n",
    "# Usage: No arguments needed.\n",
    "import os, time\n",
    "\n",
    "inputDir = 'C:/gispy/data/ch18/smallDir'\n",
    "\n",
    "fileList = os.listdir(inputDir)\n",
    "\n",
    "fileDict = {}\n",
    "for f in fileList:\n",
    "    epochNum = os.path.getmtime(inputDir + '/' + f)\n",
    "    modTime = time.ctime(epochNum)\n",
    "    fileDict[f] = modTime\n",
    "\n",
    "print fileDict\n"
   ]
  },
  {
   "cell_type": "code",
   "execution_count": 53,
   "metadata": {
    "collapsed": false
   },
   "outputs": [
    {
     "name": "stdout",
     "output_type": "stream",
     "text": [
      "{'a.shx': 'Wed Feb 10 07:19:30 2016', 'a.dbf': 'Wed Feb 10 07:19:30 2016', 'dog.JPG': 'Wed Feb 10 07:19:30 2016', 'pines.JPG': 'Wed Feb 10 07:19:30 2016', 'a.shp': 'Wed Feb 10 07:19:30 2016', 'a.prj': 'Wed Feb 10 07:19:30 2016', 'a1.lyr': 'Wed Feb 10 07:19:30 2016', 'cluck.wav': 'Wed Feb 10 07:19:30 2016', 'a.kml': 'Wed Feb 10 07:19:30 2016', 'xyData2.txt': 'Wed Feb 10 07:19:30 2016', 'a.shp.xml': 'Wed Feb 10 07:19:30 2016', 'abc.dbf': 'Wed Feb 10 07:19:30 2016'}\n"
     ]
    }
   ],
   "source": [
    "%run script2/fileDates.py"
   ]
  },
  {
   "cell_type": "markdown",
   "metadata": {},
   "source": [
    "### 18.3.1 Dictionaries and Cursors"
   ]
  },
  {
   "cell_type": "code",
   "execution_count": null,
   "metadata": {
    "collapsed": true
   },
   "outputs": [],
   "source": [
    "# %load script/areaMedian.py\n",
    "# areaMedian.py\n",
    "# Purpose: Find the polygon median area and identify polygons\n",
    "#          with areas in this range.\n",
    "# Usage: No arguments needed.\n",
    "import arcpy, numpy\n",
    "\n",
    "fc = 'C:/gispy/data/ch18/parkAreas.shp'\n",
    "idField = 'FID'\n",
    "areaField = 'F_AREA' \n",
    "areasDict = {}\n",
    "\n",
    "# User search cursor to populate id:area dictionary items.\n",
    "sc = arcpy.da.SearchCursor(fc, [idField, areaField])\n",
    "for row in sc:\n",
    "    id = row[0]\n",
    "    area = row[1]\n",
    "    areasDict[id] = area\n",
    "del sc\n",
    "\n",
    "# Find the median area.\n",
    "areas = areasDict.values()\n",
    "medianArea = numpy.median(areas)\n",
    "print 'Median area: {0}'.format(medianArea)\n",
    "\n",
    "# Find the polygons with values close to median.\n",
    "sqft = 400\n",
    "print 'Polygons close to median:'\n",
    "for k, v in areasDict.items():\n",
    "    if medianArea - sqft < v < medianArea + sqft:\n",
    "        print '{0}: {1}, {2}: {3}'.format(idField, k, areaField, v)\n"
   ]
  },
  {
   "cell_type": "code",
   "execution_count": 55,
   "metadata": {
    "collapsed": false,
    "scrolled": true
   },
   "outputs": [
    {
     "name": "stdout",
     "output_type": "stream",
     "text": [
      "Median area: 79081.8883557\n",
      "Polygons close to median:\n",
      "FID: 42, F_AREA: 79325.9329639\n",
      "FID: 68, F_AREA: 78936.0333595\n",
      "FID: 121, F_AREA: 79227.7433518\n"
     ]
    }
   ],
   "source": [
    "%run script2/areaMedian.py"
   ]
  },
  {
   "cell_type": "code",
   "execution_count": null,
   "metadata": {
    "collapsed": true
   },
   "outputs": [],
   "source": [
    "# %load script/coverMedianArea.py\n",
    "# coverMedianArea.py\n",
    "# Purpose: Find the median area of polygons of each cover type.\n",
    "# Usage: No arguments needed.\n",
    "import arcpy, numpy\n",
    "\n",
    "arcpy.env.workspace = 'C:/gispy/data/ch18'\n",
    "fc = 'parkAreas.shp'\n",
    "\n",
    "# Populate the dictionary,\n",
    "# accumulate a list of areas for each cover type.\n",
    "d = {}\n",
    "sc = arcpy.da.SearchCursor(fc, ['COVER', 'F_AREA'])\n",
    "for row in sc:\n",
    "    cover = row[0]\n",
    "    area = row[1]\n",
    "    if cover in d:\n",
    "        d[cover].append(area)\n",
    "    else:\n",
    "        d[cover] = [area]\n",
    "del sc\n",
    "\n",
    "#Calculate the median area for each cover type.\n",
    "for k, v in d.items():\n",
    "    median = numpy.median(v)\n",
    "    print \"Polygons with cover '{0}' have median area {1}\".format(k, median)\n",
    "\n",
    "\n",
    "##>>> Polygons with cover woods have median area 83095.3479504\n",
    "##Polygons with cover other have median area 55491.6260843\n",
    "##Polygons with cover orch have median area 83477.7527484\n"
   ]
  },
  {
   "cell_type": "code",
   "execution_count": 57,
   "metadata": {
    "collapsed": false
   },
   "outputs": [
    {
     "name": "stdout",
     "output_type": "stream",
     "text": [
      "Polygons with cover 'woods' have median area 83095.3479504\n",
      "Polygons with cover 'other' have median area 55491.6260843\n",
      "Polygons with cover 'orch' have median area 83477.7527484\n"
     ]
    }
   ],
   "source": [
    "%run script2/coverMedianArea.py"
   ]
  },
  {
   "cell_type": "markdown",
   "metadata": {},
   "source": [
    "## 18.4 Discussion"
   ]
  },
  {
   "cell_type": "code",
   "execution_count": null,
   "metadata": {
    "collapsed": true
   },
   "outputs": [],
   "source": []
  },
  {
   "cell_type": "code",
   "execution_count": null,
   "metadata": {
    "collapsed": true
   },
   "outputs": [],
   "source": []
  },
  {
   "cell_type": "markdown",
   "metadata": {},
   "source": [
    "## 18.5 Key Terms"
   ]
  },
  {
   "cell_type": "markdown",
   "metadata": {},
   "source": [
    "## 18.6 Exercises"
   ]
  },
  {
   "cell_type": "code",
   "execution_count": null,
   "metadata": {
    "collapsed": true
   },
   "outputs": [],
   "source": []
  }
 ],
 "metadata": {
  "kernelspec": {
   "display_name": "Python 2",
   "language": "python",
   "name": "python2"
  },
  "language_info": {
   "codemirror_mode": {
    "name": "ipython",
    "version": 2
   },
   "file_extension": ".py",
   "mimetype": "text/x-python",
   "name": "python",
   "nbconvert_exporter": "python",
   "pygments_lexer": "ipython2",
   "version": "2.7.2"
  }
 },
 "nbformat": 4,
 "nbformat_minor": 0
}
