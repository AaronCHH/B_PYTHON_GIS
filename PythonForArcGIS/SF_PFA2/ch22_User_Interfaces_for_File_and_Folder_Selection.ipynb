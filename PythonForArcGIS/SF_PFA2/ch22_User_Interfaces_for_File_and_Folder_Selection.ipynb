{
 "cells": [
  {
   "cell_type": "markdown",
   "metadata": {},
   "source": [
    "# 22 User Interfaces for File and Folder Selection"
   ]
  },
  {
   "cell_type": "markdown",
   "metadata": {},
   "source": [
    "## 22.1 A Simple Interface with raw_input"
   ]
  },
  {
   "cell_type": "markdown",
   "metadata": {},
   "source": [
    "### Example 22.1 askWorkspaceRaw.py"
   ]
  },
  {
   "cell_type": "code",
   "execution_count": null,
   "metadata": {
    "collapsed": true
   },
   "outputs": [],
   "source": [
    "# %load ch22/script2/askWorkspaceRaw.py\n",
    "# askWorkspaceRaw.py\n",
    "# Purpose: Get a workspace with the raw_input function.\n",
    "# Usage: No script arguments needed.\n",
    "# raw_input DOES NOT restrict the user to valid workspaces.\n",
    "# Use tkFileDialog askDirectory or a script tool instead.\n",
    "import arcpy\n",
    "arcpy.env.workspace = raw_input('Enter a workspace:')\n",
    "print arcpy.env.workspace\n"
   ]
  },
  {
   "cell_type": "markdown",
   "metadata": {},
   "source": [
    "## 22.2 File Handling with tkFileDialog"
   ]
  },
  {
   "cell_type": "code",
   "execution_count": null,
   "metadata": {
    "collapsed": true
   },
   "outputs": [],
   "source": []
  },
  {
   "cell_type": "markdown",
   "metadata": {},
   "source": [
    "### 22.2.1 Getting File and Directory Names"
   ]
  },
  {
   "cell_type": "markdown",
   "metadata": {},
   "source": [
    "### Example 22.2 getFileName.py"
   ]
  },
  {
   "cell_type": "code",
   "execution_count": null,
   "metadata": {
    "collapsed": true
   },
   "outputs": [],
   "source": [
    "# %load ch22/script2/getFileName.py\n",
    "# getFileName.py\n",
    "# Purpose: Get a shapefile name from the user and print the shapeType.\n",
    "# Usage: No script arguments required.\n",
    "import tkFileDialog, arcpy, Tkinter\n",
    "fatherWilliam = Tkinter.Tk()\n",
    "fatherWilliam.withdraw()\n",
    "fc = tkFileDialog.askopenfilename(\n",
    "    filetypes=[(\"shapefiles\", \"*.shp\")],\n",
    "    title='Choose a SHAPEFILE that defines the STATISTICAL ZONES',\n",
    "    parent=fatherWilliam)\n",
    "print 'fc = {0}'.format(fc)\n",
    "desc = arcpy.Describe(fc)\n",
    "print 'Shape type = {0}'.format(desc.ShapeType)\n",
    "fatherWilliam.destroy()\n"
   ]
  },
  {
   "cell_type": "markdown",
   "metadata": {},
   "source": [
    "### Example 22.3: askdirectory askDirectory.py"
   ]
  },
  {
   "cell_type": "code",
   "execution_count": null,
   "metadata": {
    "collapsed": true
   },
   "outputs": [],
   "source": [
    "# %load ch22/script2/askdirectory.py\n",
    "# askDirectory.py\n",
    "# Purpose: Get a directory from the user and set the workspace.\n",
    "# Usage: No script arguments required.\n",
    "import tkFileDialog, arcpy\n",
    "\n",
    "arcpy.env.workspace = tkFileDialog.askdirectory(initialdir=\"./\",\n",
    "                                                title='Select the FOLDER containing Landuse RASTERS')\n",
    "\n",
    "print 'Workspace = {0}'.format(arcpy.env.workspace)\n"
   ]
  },
  {
   "cell_type": "code",
   "execution_count": null,
   "metadata": {
    "collapsed": true
   },
   "outputs": [],
   "source": []
  },
  {
   "cell_type": "markdown",
   "metadata": {},
   "source": [
    "### 22.2.2 Options"
   ]
  },
  {
   "cell_type": "markdown",
   "metadata": {},
   "source": [
    "#### 22.2.2.1 File-Handling Options"
   ]
  },
  {
   "cell_type": "markdown",
   "metadata": {},
   "source": [
    "**File Types**"
   ]
  },
  {
   "cell_type": "code",
   "execution_count": null,
   "metadata": {
    "collapsed": false,
    "scrolled": true
   },
   "outputs": [],
   "source": [
    "t = ('shape files','*.shp')\n",
    "fname1 = tkFileDialog.askopenfilename(filetypes=[t])"
   ]
  },
  {
   "cell_type": "code",
   "execution_count": null,
   "metadata": {
    "collapsed": true
   },
   "outputs": [],
   "source": [
    "fname2 = tkFileDialog.askopen filename(\n",
    "    filetypes=[('csv (Comma delimited)','*.csv'),\n",
    "               ('Text Files','*.txt')])"
   ]
  },
  {
   "cell_type": "markdown",
   "metadata": {},
   "source": [
    "**Initial Directory**"
   ]
  },
  {
   "cell_type": "code",
   "execution_count": 6,
   "metadata": {
    "collapsed": false,
    "scrolled": true
   },
   "outputs": [
    {
     "ename": "SyntaxError",
     "evalue": "invalid syntax (<ipython-input-6-5dccb1b52486>, line 1)",
     "output_type": "error",
     "traceback": [
      "\u001b[0;36m  File \u001b[0;32m\"<ipython-input-6-5dccb1b52486>\"\u001b[0;36m, line \u001b[0;32m1\u001b[0m\n\u001b[0;31m    fname3 = tkFileDialog.askopen filename(initialdir = 'C:/gispy')\u001b[0m\n\u001b[0m                                         ^\u001b[0m\n\u001b[0;31mSyntaxError\u001b[0m\u001b[0;31m:\u001b[0m invalid syntax\n"
     ]
    }
   ],
   "source": [
    "fname3 = tkFileDialog.askopen filename(initialdir = 'C:/gispy')"
   ]
  },
  {
   "cell_type": "markdown",
   "metadata": {},
   "source": [
    "**Initial File**"
   ]
  },
  {
   "cell_type": "code",
   "execution_count": null,
   "metadata": {
    "collapsed": true
   },
   "outputs": [],
   "source": [
    "fname4 = tkFileDialog.askopen filename(initial file = 'bogus.shp')"
   ]
  },
  {
   "cell_type": "markdown",
   "metadata": {},
   "source": [
    "**Multiple Files**"
   ]
  },
  {
   "cell_type": "markdown",
   "metadata": {},
   "source": [
    "### Example 22.4 excerpt from fileDialogOptions.py"
   ]
  },
  {
   "cell_type": "code",
   "execution_count": null,
   "metadata": {
    "collapsed": true
   },
   "outputs": [],
   "source": [
    "# %load ch22/script2/fileDialogOptions.py\n",
    "# fileDialogOptions.py\n",
    "# Purpose: Vary file dialog options to get file and directory\n",
    "#          names from user and print the results.\n",
    "# Usage: No script arguments required.\n",
    "import tkFileDialog\n",
    "\n",
    "t = (\"shapefiles \", \"*.shp\")\n",
    "print 'Type = {0}'.format(type(t))\n",
    "\n",
    "fname1 = tkFileDialog.askopenfilename(filetypes=[t])\n",
    "print 'fname1 = {0}'.format(fname1)\n",
    "\n",
    "fname2 = tkFileDialog.askopenfilename(title='Test 2 filetypes',\n",
    "                                      filetypes=[(\"csv (Comma delimited) \", \"*.csv\"),(\"Text Files \", \"*.txt\")])\n",
    "print 'fname2 = {0}'.format(fname2)\n",
    "\n",
    "fname3 = tkFileDialog.askopenfilename(title='Test initialdir', initialdir='C:/gispy')\n",
    "\n",
    "print 'fname3 = {0}'.format(fname3)\n",
    "\n",
    "fname4 = tkFileDialog.askopenfilename(title='Test initialfile', initialfile='bogus.shp')\n",
    "\n",
    "print 'fname4 = {0}'.format(fname4)\n",
    "\n",
    "fnames = tkFileDialog.askopenfilename(title='Test multiple selections allowed', multiple=True)\n",
    "files = fnames.split()\n",
    "print 'Name list:'\n",
    "for fname in files:  # For each file selected by the user,...\n",
    "    print '   {0}'.format(fname)\n",
    "\n",
    "inputDir = tkFileDialog.askdirectory(title='Test mustexist =True', mustexist=True)\n",
    "print 'inputDir = {0}'.format(inputDir)\n"
   ]
  },
  {
   "cell_type": "code",
   "execution_count": null,
   "metadata": {
    "collapsed": true
   },
   "outputs": [],
   "source": [
    "inputDir = tkFileDialog.askdirectory(mustexist = True)"
   ]
  },
  {
   "cell_type": "markdown",
   "metadata": {},
   "source": [
    "#### 22.2.2.2 Close the Tk Window"
   ]
  },
  {
   "cell_type": "code",
   "execution_count": 8,
   "metadata": {
    "collapsed": true
   },
   "outputs": [],
   "source": [
    "import tkFileDialog, Tkinter\n",
    "tkObj = Tkinter.Tk()\n",
    "inputDir = tkFileDialog.askdirectory(parent=tkObj)\n",
    "tkObj.destroy()"
   ]
  },
  {
   "cell_type": "markdown",
   "metadata": {},
   "source": [
    "### askAndDestroy.py"
   ]
  },
  {
   "cell_type": "code",
   "execution_count": null,
   "metadata": {
    "collapsed": true
   },
   "outputs": [],
   "source": [
    "# %load ch22/script2/askAndDestroy.py\n",
    "# askAndDestroy.py\n",
    "# Purpose: Get a directory from the user and suppress the root Tk window.\n",
    "# Usage: No script arguments required\n",
    "\n",
    "import tkFileDialog, Tkinter\n",
    "# Get a tk object.\n",
    "fatherWilliam = Tkinter.Tk()\n",
    "\n",
    "# Hide the tk window.\n",
    "fatherWilliam.withdraw()\n",
    "\n",
    "inputDir = tkFileDialog.askopenfilename(parent=fatherWilliam)\n",
    "\n",
    "# Destroy the tk window.\n",
    "fatherWilliam.destroy()\n"
   ]
  },
  {
   "cell_type": "code",
   "execution_count": null,
   "metadata": {
    "collapsed": true
   },
   "outputs": [],
   "source": []
  },
  {
   "cell_type": "markdown",
   "metadata": {},
   "source": [
    "### 22.2.3 Opening Files for Reading and Writing"
   ]
  },
  {
   "cell_type": "code",
   "execution_count": null,
   "metadata": {
    "collapsed": true
   },
   "outputs": [],
   "source": [
    "fobject = tkFileDialog.askopen file(\n",
    "    filetypes=[('shape files','*.shp')],\n",
    "    initial file='data.txt', title='Open a data file...')\n",
    "firstLine = fobject.readline()\n",
    "fobject.close()"
   ]
  },
  {
   "cell_type": "code",
   "execution_count": null,
   "metadata": {
    "collapsed": true
   },
   "outputs": [],
   "source": [
    "myTitle = 'Select an output file name'\n",
    "with tkFileDialog.asksaveas file(title=myTitle)aso file:\n",
    "    o file.write('I like tkFileDialog')"
   ]
  },
  {
   "cell_type": "markdown",
   "metadata": {},
   "source": [
    "## 22.3 Discussion"
   ]
  },
  {
   "cell_type": "code",
   "execution_count": null,
   "metadata": {
    "collapsed": true
   },
   "outputs": [],
   "source": []
  },
  {
   "cell_type": "markdown",
   "metadata": {},
   "source": [
    "## 22.4 Key Terms"
   ]
  },
  {
   "cell_type": "markdown",
   "metadata": {},
   "source": [
    "## 22.5 Exercises"
   ]
  }
 ],
 "metadata": {
  "kernelspec": {
   "display_name": "Python 2",
   "language": "python",
   "name": "python2"
  },
  "language_info": {
   "codemirror_mode": {
    "name": "ipython",
    "version": 2
   },
   "file_extension": ".py",
   "mimetype": "text/x-python",
   "name": "python",
   "nbconvert_exporter": "python",
   "pygments_lexer": "ipython2",
   "version": "2.7.2"
  }
 },
 "nbformat": 4,
 "nbformat_minor": 1
}
