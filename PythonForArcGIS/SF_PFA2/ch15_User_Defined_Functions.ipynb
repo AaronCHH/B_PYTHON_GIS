{
 "cells": [
  {
   "cell_type": "markdown",
   "metadata": {},
   "source": [
    "# 15 User-Defined Functions "
   ]
  },
  {
   "cell_type": "markdown",
   "metadata": {},
   "source": [
    "## 15.1 A Word About Function Words "
   ]
  },
  {
   "cell_type": "code",
   "execution_count": 1,
   "metadata": {
    "collapsed": true
   },
   "outputs": [],
   "source": [
    "def printBird():\n",
    "    print\"\"\"\n",
    "    ,,, ::.\n",
    "    <*~) ;;\n",
    "    ( @}//\n",
    "    ''\n",
    "    \"\"\""
   ]
  },
  {
   "cell_type": "code",
   "execution_count": 2,
   "metadata": {
    "collapsed": false,
    "scrolled": true
   },
   "outputs": [
    {
     "name": "stdout",
     "output_type": "stream",
     "text": [
      "\n",
      "    ,,, ::.\n",
      "    <*~) ;;\n",
      "    ( @}//\n",
      "    ''\n",
      "    \n"
     ]
    }
   ],
   "source": [
    "printBird()"
   ]
  },
  {
   "cell_type": "markdown",
   "metadata": {},
   "source": [
    "### Example 15.1 reportArgs.py"
   ]
  },
  {
   "cell_type": "code",
   "execution_count": null,
   "metadata": {
    "collapsed": true
   },
   "outputs": [],
   "source": [
    "# %load ch15/script2/reportArgs.py\n",
    "# reportArgs.py\n",
    "# Purpose: Print the script arguments.\n",
    "import sys\n",
    "\n",
    "\n",
    "def printArgs():\n",
    "    '''Print user arguments.'''\n",
    "    for index, arg in enumerate(sys.argv):\n",
    "        print 'Argument {0}: {1}'.format(index, arg)\n",
    "\n",
    "printArgs()\n"
   ]
  },
  {
   "cell_type": "code",
   "execution_count": 4,
   "metadata": {
    "collapsed": false
   },
   "outputs": [
    {
     "name": "stdout",
     "output_type": "stream",
     "text": [
      "Argument 0: ch15/script2/reportArgs.py\n"
     ]
    }
   ],
   "source": [
    "%run ch15/script2/reportArgs.py"
   ]
  },
  {
   "cell_type": "markdown",
   "metadata": {},
   "source": [
    "### 15.1.1 How It Works "
   ]
  },
  {
   "cell_type": "markdown",
   "metadata": {},
   "source": [
    "### 15.1.2 The Docstring "
   ]
  },
  {
   "cell_type": "code",
   "execution_count": 5,
   "metadata": {
    "collapsed": false
   },
   "outputs": [
    {
     "name": "stdout",
     "output_type": "stream",
     "text": [
      "Help on function printArgs in module __main__:\n",
      "\n",
      "printArgs()\n",
      "    Print user arguments.\n",
      "\n"
     ]
    }
   ],
   "source": [
    "help(printArgs)"
   ]
  },
  {
   "cell_type": "markdown",
   "metadata": {},
   "source": [
    "## 15.2 Custom Functions with Arguments "
   ]
  },
  {
   "cell_type": "markdown",
   "metadata": {},
   "source": [
    "### Example 15.2 deleteFCS.py"
   ]
  },
  {
   "cell_type": "code",
   "execution_count": null,
   "metadata": {
    "collapsed": true
   },
   "outputs": [],
   "source": [
    "# %load ch15/script2/deleteFCS.py\n",
    "# deleteFCS.py\n",
    "# Purpose: Clear workspace of unwanted files.\n",
    "# Usage: No arguments needed.\n",
    "import arcpy\n",
    "\n",
    "arcpy.env.workspace = 'ch15/scratch'\n",
    "\n",
    "\n",
    "def delBuffFCS():\n",
    "    '''Delete feature classes with names containing \"Buff\".'''\n",
    "    fcs = arcpy.ListFeatureClasses('*Buff*')\n",
    "    for fc in fcs:\n",
    "        arcpy.Delete_management(fc)\n",
    "        print '{0} deleted.'.format(fc)\n",
    "\n",
    "\n",
    "def delNamedFCS(delString):\n",
    "    '''Delete feature classes with names containing delString.'''\n",
    "    wildcard = '*{0}*'.format(delString)\n",
    "    fcs = arcpy.ListFeatureClasses(wildcard)\n",
    "    for fc in fcs:\n",
    "        arcpy.Delete_management(fc)\n",
    "        print '{0} deleted.'.format(fc)\n",
    "\n",
    "delBuffFCS()\n",
    "delNamedFCS('Out')\n"
   ]
  },
  {
   "cell_type": "code",
   "execution_count": 8,
   "metadata": {
    "collapsed": true
   },
   "outputs": [],
   "source": [
    "%run ch15/script2/deleteFCS.py"
   ]
  },
  {
   "cell_type": "markdown",
   "metadata": {
    "collapsed": true
   },
   "source": [
    "### excerpt from batchBuff.py"
   ]
  },
  {
   "cell_type": "code",
   "execution_count": null,
   "metadata": {
    "collapsed": true
   },
   "outputs": [],
   "source": [
    "# %load ch15/script2/batchBuff.py\n",
    "# batchBuff.py\n",
    "# Purpose: Buffer specific sets of feature classes in a workspace.\n",
    "# Usage: No script arguments needed.\n",
    "import arcpy, os\n",
    "\n",
    "\n",
    "# Define the function.\n",
    "def batchBuffer(workspace, featType, outSuffix, buffDistance):\n",
    "    '''For a given workspace, buffer each feature class of a given feature type.'''\n",
    "    arcpy.env.workspace = workspace\n",
    "    fcs = arcpy.ListFeatureClasses('*', featType)\n",
    "    for fc in fcs:\n",
    "        fcParts = os.path.splitext(fc)\n",
    "        outputName = fcParts[0] + outSuffix + fcParts[1]\n",
    "        try:\n",
    "            arcpy.Buffer_analysis(fc, outputName, buffDistance)\n",
    "            print '{0} created.'.format(outputName)\n",
    "        except:\n",
    "            print 'Buffering {0} failed.'.format(fc)\n",
    "\n",
    "# Call the function.\n",
    "batchBuffer('ch15/data', 'Polygon', 'Buff', '1 mile')\n",
    "\n",
    "# Set argument variables.\n",
    "wSpace = 'ch15/data/tester.gdb'\n",
    "featureType = 'Point'\n",
    "outputSuffix = 'Ring'\n",
    "distance = '0.5 kilometers'\n",
    "\n",
    "# Call the function again.\n",
    "batchBuffer(wSpace, featureType, outputSuffix, distance)\n",
    "\n",
    "# Call the function and get TypeError.\n",
    "batchBuffer('C:/gispy/data/ch15', 'Polygon', 5, '1 mile')\n"
   ]
  },
  {
   "cell_type": "code",
   "execution_count": null,
   "metadata": {
    "collapsed": false,
    "scrolled": true
   },
   "outputs": [],
   "source": [
    "%run ch15/script2/batchBuff.py"
   ]
  },
  {
   "cell_type": "code",
   "execution_count": 15,
   "metadata": {
    "collapsed": false,
    "scrolled": true
   },
   "outputs": [
    {
     "name": "stdout",
     "output_type": "stream",
     "text": [
      "Buffering park.shp failed.\n",
      "Buffering parkBuff.shp failed.\n",
      "Buffering parkBuffBuff.shp failed.\n",
      "parkBuffBuffBuffBuff.shp created.\n"
     ]
    }
   ],
   "source": [
    "batchBuffer('ch15/data', 'Polygon', 'Buff', '1 mile')"
   ]
  },
  {
   "cell_type": "code",
   "execution_count": null,
   "metadata": {
    "collapsed": false
   },
   "outputs": [],
   "source": [
    "batchBuffer('ch15/data', 'Polygon', 'Buff')"
   ]
  },
  {
   "cell_type": "code",
   "execution_count": 17,
   "metadata": {
    "collapsed": false
   },
   "outputs": [
    {
     "name": "stdout",
     "output_type": "stream",
     "text": [
      "Buffering c1 failed.\n",
      "Buffering c2 failed.\n",
      "Buffering data1 failed.\n",
      "Buffering data2 failed.\n",
      "Buffering data3 failed.\n",
      "Buffering fireStations failed.\n",
      "Buffering ptdata4 failed.\n",
      "Buffering sample failed.\n",
      "Buffering scatter failed.\n",
      "Buffering schools failed.\n",
      "Buffering shp failed.\n",
      "Buffering intersectOut failed.\n",
      "Buffering intersectOutput failed.\n"
     ]
    }
   ],
   "source": [
    "wSpace = 'ch15/data/tester.gdb'\n",
    "featureType = 'Point'\n",
    "outputSuffix = 'Ring'\n",
    "distance = '0.5 kilometers'\n",
    "batchBuffer(wSpace, featureType, outputSuffix, distance)"
   ]
  },
  {
   "cell_type": "code",
   "execution_count": null,
   "metadata": {
    "collapsed": true
   },
   "outputs": [],
   "source": []
  },
  {
   "cell_type": "markdown",
   "metadata": {},
   "source": [
    "### 15.2.1 Script Arguments vs. Functions Arguments "
   ]
  },
  {
   "cell_type": "markdown",
   "metadata": {},
   "source": [
    "### Example 15.3 setEnv1.py"
   ]
  },
  {
   "cell_type": "code",
   "execution_count": null,
   "metadata": {
    "collapsed": true
   },
   "outputs": [],
   "source": [
    "# %load ch15/script2/setEnv1.py\n",
    "# setEnv1.py\n",
    "# Purpose: Set arcpy environment properties.\n",
    "# Usage: No script arguments needed.\n",
    "import arcpy\n",
    "\n",
    "\n",
    "def setEnviron1():\n",
    "    '''Set arcpy workspace and overwriteOutput properties\n",
    "    to hard-coded values.'''\n",
    "    arcpy.env.workspace = 'C:/gispy/data/ch15'\n",
    "    arcpy.env.overwriteOutput = True\n",
    "setEnviron1()\n"
   ]
  },
  {
   "cell_type": "code",
   "execution_count": null,
   "metadata": {
    "collapsed": true
   },
   "outputs": [],
   "source": [
    "# %load ch15/script2/setEnv2.py\n",
    "# setEnv2.py\n",
    "# Purpose: Set arcpy environment properties.\n",
    "# Usage: No script arguments needed.\n",
    "import arcpy\n",
    "\n",
    "\n",
    "def setEnviron2(workspace, overwriteVal):\n",
    "    '''Set arcpy workspace and overwriteOutput properties\n",
    "    based on function arguments.'''\n",
    "    arcpy.env.workspace = workspace\n",
    "    arcpy.env.overwriteOutput = overwriteVal\n",
    "\n",
    "wSpace = 'C:/gispy/data/ch15/tester.gdb'\n",
    "overwrite = False\n",
    "setEnviron2(wSpace, overwrite)\n"
   ]
  },
  {
   "cell_type": "code",
   "execution_count": null,
   "metadata": {
    "collapsed": true
   },
   "outputs": [],
   "source": [
    "# %load ch15/script2/setEnv3.py\n",
    "# setEnv3.py\n",
    "# Purpose: Set arcpy environment properties.\n",
    "# Usage: workspace overwrite_output_value\n",
    "# Example input: C:/gispy/data/ch15/scratch True\n",
    "import arcpy, sys\n",
    "\n",
    "wSpace = sys.argv[1]\n",
    "overwrite = sys.argv[2]\n",
    "\n",
    "\n",
    "def setEnviron3(workspace, overwriteVal):\n",
    "    '''Set arcpy workspace and overwriteOutput properties\n",
    "    based on function arguments.'''\n",
    "    arcpy.env.workspace = workspace\n",
    "    arcpy.env.overwriteOutput = overwriteVal\n",
    "\n",
    "setEnviron3(wSpace, overwrite)\n"
   ]
  },
  {
   "cell_type": "markdown",
   "metadata": {},
   "source": [
    "### 15.2.2 Optional Arguments "
   ]
  },
  {
   "cell_type": "code",
   "execution_count": 21,
   "metadata": {
    "collapsed": true
   },
   "outputs": [],
   "source": [
    "def setEnviron4(workspace, overwriteVal = True):\n",
    "    arcpy.env.workspace = workspace\n",
    "    arcpy.env.overwriteOutput = overwriteVal"
   ]
  },
  {
   "cell_type": "code",
   "execution_count": 22,
   "metadata": {
    "collapsed": true
   },
   "outputs": [],
   "source": [
    "setEnviron4('ch15/data', False)"
   ]
  },
  {
   "cell_type": "code",
   "execution_count": 23,
   "metadata": {
    "collapsed": true
   },
   "outputs": [],
   "source": [
    "setEnviron4('ch15/data')"
   ]
  },
  {
   "cell_type": "code",
   "execution_count": null,
   "metadata": {
    "collapsed": true
   },
   "outputs": [],
   "source": []
  },
  {
   "cell_type": "markdown",
   "metadata": {},
   "source": [
    "## 15.3 Returning Values "
   ]
  },
  {
   "cell_type": "markdown",
   "metadata": {},
   "source": [
    "### excerpt from fieldHandler.py"
   ]
  },
  {
   "cell_type": "code",
   "execution_count": null,
   "metadata": {
    "collapsed": true
   },
   "outputs": [],
   "source": [
    "# %load ch15/script2/fieldHandler.py\n",
    "# fieldHandler.py\n",
    "# Purpose: Work with field names.\n",
    "# Usage: No script arguments need.\n",
    "import arcpy\n",
    "\n",
    "\n",
    "def getFieldNames(data):\n",
    "    '''Get a list of field names.'''\n",
    "    fields = arcpy.ListFields(data)\n",
    "    fnames = [f.name for f in fields]\n",
    "    return fnames\n",
    "\n",
    "\n",
    "def fieldExists(data, name):\n",
    "    '''Check if a given field name already exists.'''\n",
    "    fieldNames = getFieldNames(data)\n",
    "    isThere = name in fieldNames\n",
    "    return isThere\n",
    "\n",
    "inputF = 'C:/gispy/data/ch15/park.shp'\n",
    "names = getFieldNames(inputF)\n",
    "fieldName = 'COVER'\n",
    "result = fieldExists(inputF, fieldName)\n",
    "print 'Does field \"{0}\" exist? {1}'.format(fieldName, result)\n",
    "result = fieldExists(inputF, 'Value')\n",
    "print 'Does field \"Value\" exist? {0}'.format(result)\n"
   ]
  },
  {
   "cell_type": "code",
   "execution_count": null,
   "metadata": {
    "collapsed": true
   },
   "outputs": [],
   "source": [
    "names = getFieldNames('C:/gispy/data/ch15/park.shp')"
   ]
  },
  {
   "cell_type": "code",
   "execution_count": null,
   "metadata": {
    "collapsed": true
   },
   "outputs": [],
   "source": [
    "names"
   ]
  },
  {
   "cell_type": "code",
   "execution_count": null,
   "metadata": {
    "collapsed": true
   },
   "outputs": [],
   "source": [
    "def fieldExists(data, name):\n",
    "    '''Check if a given field name already exists.'''\n",
    "    fieldNames = getFieldNames(data)\n",
    "    isThere = name in fieldNames\n",
    "    return isThere"
   ]
  },
  {
   "cell_type": "code",
   "execution_count": null,
   "metadata": {
    "collapsed": true
   },
   "outputs": [],
   "source": [
    "result = fieldExists('C:/gispy/data/ch15/park.shp', 'COVER')\n",
    "result"
   ]
  },
  {
   "cell_type": "markdown",
   "metadata": {},
   "source": [
    "### Example 15.4 oops.py"
   ]
  },
  {
   "cell_type": "code",
   "execution_count": null,
   "metadata": {
    "collapsed": true
   },
   "outputs": [],
   "source": [
    "# %load ch15/script2/oops.py\n",
    "# oops.py\n",
    "# Purpose: Count the number records in an intersections\n",
    "#             between two datasets and delete the intersection file \n",
    "#             (but the intersection output is not deleted since this line\n",
    "#              of code is placed after the 'return' statement).\n",
    "import arcpy\n",
    "arcpy.env.workspace = 'C:/gispy/data/ch15/tester.gdb'\n",
    "arcpy.env.overwriteOutput = True\n",
    "\n",
    "\n",
    "def countIntersection(dataList):\n",
    "    '''Calculate the number of features in the intersection.'''\n",
    "    tempData = 'intersectOut'\n",
    "    arcpy.Intersect_analysis(dataList, tempData)\n",
    "    res = arcpy.GetCount_management(tempData)\n",
    "    print '{0} created.'.format(tempData)\n",
    "    return int(res.getOutput(0))\n",
    "    # uh-oh! The delection is not going to happen.\n",
    "    arcpy.Delete_management(tempData)\n",
    "    print '{0} deleted.'.format(tempData)\n",
    "\n",
    "inputData = ['schools', 'workzones']\n",
    "count = countIntersection(inputData)\n",
    "print 'There are {0} intersections.'.format(count)\n"
   ]
  },
  {
   "cell_type": "markdown",
   "metadata": {},
   "source": [
    "### Example 15.5 age.py"
   ]
  },
  {
   "cell_type": "code",
   "execution_count": null,
   "metadata": {
    "collapsed": true
   },
   "outputs": [],
   "source": [
    "# %load ch15/script2/age.py\n",
    "# age.py\n",
    "# Purpose: Calculate age.\n",
    "# Usage: No script arguments needed.\n",
    "import datetime\n",
    "\n",
    "\n",
    "def calculateAge(yr, mo, day):\n",
    "    '''Calculate age based on the given birth date.'''\n",
    "    # Get datetime objects for birth date and today\n",
    "    born = datetime.date(yr, mo, day)\n",
    "    today = datetime.date.today()\n",
    "    # Get this year's birthday and handle leap year exceptions\n",
    "    try:\n",
    "        birthday = born.replace(year=today.year)\n",
    "    except ValueError:\n",
    "        birthday = born.replace(year=today.year, day=born.day-1)\n",
    "    # Return age\n",
    "    if birthday < today:\n",
    "        return today.year - born.year\n",
    "    else:\n",
    "        return today.year - born.year - 1\n",
    "\n",
    "print calculateAge(2012, 4, 20)\n"
   ]
  },
  {
   "cell_type": "code",
   "execution_count": null,
   "metadata": {
    "collapsed": true
   },
   "outputs": [],
   "source": [
    "# Return age\n",
    "if birthday < today:\n",
    "    age = today.year - born.year\n",
    "else:\n",
    "    age = today.year - born.year - 1\n",
    "return age"
   ]
  },
  {
   "cell_type": "markdown",
   "metadata": {},
   "source": [
    "### 15.3.1 A Common Mistake: Where Did the None Come from? "
   ]
  },
  {
   "cell_type": "markdown",
   "metadata": {},
   "source": [
    "### except from returnVSprint.py"
   ]
  },
  {
   "cell_type": "code",
   "execution_count": null,
   "metadata": {
    "collapsed": true
   },
   "outputs": [],
   "source": [
    "# %load ch15/script2/returnVSprint.py\n",
    "# returnVSprint.py\n",
    "# Purpose: Demonstrate that the default return value is 'None'.\n",
    "# Usage: No script arguments needed.\n",
    "\n",
    "\n",
    "def positiveMinV1(numList):\n",
    "    '''Find the minimum positive number in the list'''\n",
    "    pos = []\n",
    "    for val in numList:\n",
    "        if val >= 0:\n",
    "            pos.append(val)\n",
    "    positiveMin = min(pos)\n",
    "    print 'Min positive number = {0}'.format(positiveMin)\n",
    "\n",
    "theList = [8, 2.5, 0, 12, 5]\n",
    "print 'Run function 1...'\n",
    "value = positiveMinV1(theList)\n",
    "print 'positiveMinV1 returned: {0}'.format(value)\n",
    "\n",
    "\n",
    "def positiveMinV2(numList):\n",
    "    pos = []\n",
    "    for val in numList:\n",
    "        if val >= 0:\n",
    "            pos.append(val)\n",
    "    return min(pos)\n",
    "print 'Run function 2...'\n",
    "value = positiveMin(theList)\n",
    "print 'positiveMinV2 returned: {0}'.format(value)\n"
   ]
  },
  {
   "cell_type": "code",
   "execution_count": null,
   "metadata": {
    "collapsed": true
   },
   "outputs": [],
   "source": [
    "def positiveMinV2(numList):\n",
    "    '''Find the minimum positive number in the list'''\n",
    "    pos = []\n",
    "    for val in numList:\n",
    "        if val >= 0:\n",
    "            pos.append(val)\n",
    "            return min(pos)"
   ]
  },
  {
   "cell_type": "markdown",
   "metadata": {},
   "source": [
    "### 15.3.2 Returning Multiple Values "
   ]
  },
  {
   "cell_type": "markdown",
   "metadata": {},
   "source": [
    "### excerpt from returnMultVals.py"
   ]
  },
  {
   "cell_type": "code",
   "execution_count": null,
   "metadata": {
    "collapsed": true
   },
   "outputs": [],
   "source": [
    "# %load ch15/script2/returnMultVals.py\n",
    "# returnMultVals.py\n",
    "# Purpose: Find the midpoints of two line segments.\n",
    "# Usage: No arguments needed.\n",
    "\n",
    "\n",
    "def midPoint(x1, y1, x2, y2):\n",
    "    '''Calculate the midpoint of line segment (x1,y1), (x2,y2).'''\n",
    "    xVal = (x1 + x2)/2.0\n",
    "    yVal = (y1 + y2)/2.0\n",
    "    return xVal, yVal\n",
    "# Find the midpoint of the line from (3,5) to (2,1).\n",
    "# Capture the return values with two variables.\n",
    "x, y = midPoint(3, 5, 2, 1)\n",
    "print 'Midpoint of line segment (3,5),(2,1):'\n",
    "print 'x = {0}'.format(x)\n",
    "print 'y = {0}'.format(y)\n",
    "\n",
    "# Find the midpoint of the line from (1,1) to (3,5).\n",
    "# Capture the return values with one variable.\n",
    "t = midPoint(1, 1, 3, 5)\n",
    "print 'Midpoint of line segment (1,1),(3,5):'\n",
    "print 'x = {0}'.format(t[0])\n",
    "print 'y = {0}'.format(t[1])\n"
   ]
  },
  {
   "cell_type": "markdown",
   "metadata": {},
   "source": [
    "### Example 15.6 walkCount.py"
   ]
  },
  {
   "cell_type": "code",
   "execution_count": null,
   "metadata": {
    "collapsed": true
   },
   "outputs": [],
   "source": [
    "# %load ch15/script2/walkCount.py\n",
    "# walkCount.py\n",
    "# Purpose: Walk and get the record count for each file, where possible.\n",
    "# Usage: input_directory\n",
    "# Example input: C:/gispy/data/ch15\n",
    "import arcpy, datetime, sys\n",
    "mydir = sys.argv[1]\n",
    "\n",
    "\n",
    "def diffTime(start, end):\n",
    "    '''Calculate the difference between two datetime objects'''\n",
    "    difference = end - start\n",
    "    weeks, days = divmod(difference.days, 7)\n",
    "    minutes, seconds = divmod(difference.seconds, 60)\n",
    "    hours, minutes = divmod(minutes, 60)\n",
    "    return weeks, days, hours, minutes, seconds\n",
    "\n",
    "before = datetime.datetime.now()\n",
    "for root, dirs, files in arcpy.da.Walk(mydir):\n",
    "    for f in files:\n",
    "        try:\n",
    "            count = arcpy.GetCount_management(root + \"/\" + f)\n",
    "            print '{0}/{1}  Count = {2}'.format(root, f, count)\n",
    "        except arcpy.ExecuteError:\n",
    "            print arcpy.GetMessages()\n",
    "\n",
    "after = datetime.datetime.now()\n",
    "\n",
    "t = diffTime(before, after)\n",
    "\n",
    "print 'Time elapsed: {0} weeks, {1} days, {2}:{3}:{4}'.format(t[0], t[1], t[2], t[3], t[4])\n"
   ]
  },
  {
   "cell_type": "markdown",
   "metadata": {},
   "source": [
    "## 15.4 When to Write Functions "
   ]
  },
  {
   "cell_type": "markdown",
   "metadata": {},
   "source": [
    "### scriptWithoutFunction.py"
   ]
  },
  {
   "cell_type": "code",
   "execution_count": null,
   "metadata": {
    "collapsed": true
   },
   "outputs": [],
   "source": [
    "# %load ch15/script2/scriptWithOutFunction.py\n",
    "# scriptWithFunction.py\n",
    "# Purpose: Call three tools (to find avg. nearest neighbor, intersection, and get count)\n",
    "#          Print the results from avg. nearest neighbor and get count without using a function.\n",
    "# Usage: No script arguments needed.\n",
    "\n",
    "import arcpy\n",
    "arcpy.env.workspace = 'C:/gispy/data/ch15/tester.gdb'\n",
    "arcpy.env.overwriteOutput = True\n",
    "\n",
    "res = arcpy.AverageNearestNeighbor_stats('schools')\n",
    "resList = res.getMessages().split('\\n')\n",
    "for message in resList:\n",
    "    if '...' not in message and 'Time:' not in message:\n",
    "        print message\n",
    "\n",
    "arcpy.Intersect_analysis(['schools', 'workzones'], 'intersectOutput')\n",
    "\n",
    "res = arcpy.GetCount_management('intersectOutput')\n",
    "resList = res.getMessages().split('\\n')\n",
    "for message in resList:\n",
    "    if '...' not in message and 'Time:' not in message:\n",
    "        print message\n"
   ]
  },
  {
   "cell_type": "markdown",
   "metadata": {},
   "source": [
    "### Example 15.7 scriptWithFunction.py"
   ]
  },
  {
   "cell_type": "code",
   "execution_count": null,
   "metadata": {
    "collapsed": true
   },
   "outputs": [],
   "source": [
    "# %load ch15/script2/scriptWithFunction.py\n",
    "# scriptWithFunction.py (compare to scriptWithoutFunction.py)\n",
    "# Purpose: Call three tools (to find avg. nearest neighbor, intersection, and get count)\n",
    "#          Print the results from avg. nearest neighbor and get count using a function.\n",
    "# Usage: No script arguments needed.\n",
    "import arcpy\n",
    "arcpy.env.workspace = 'C:/gispy/data/ch15/tester.gdb'\n",
    "arcpy.env.overwriteOutput = True\n",
    "\n",
    "\n",
    "def reportResults(resultObj):\n",
    "    '''Print selected result messages.'''\n",
    "    resList = resultObj.getMessages().split('\\n')\n",
    "    arcpy.env.overwriteOutput = True\n",
    "    for message in resList:\n",
    "        if '...' not in message and 'Time:' not in message:\n",
    "            print message\n",
    "\n",
    "res = arcpy.AverageNearestNeighbor_stats('schools')\n",
    "reportResults(res)  # Call the function.\n",
    "\n",
    "arcpy.Intersect_analysis(['schools', 'workzones'], 'intersectOutput')\n",
    "\n",
    "res = arcpy.GetCount_management('intersectOutput')\n",
    "reportResults(res)  # Call the function.\n"
   ]
  },
  {
   "cell_type": "code",
   "execution_count": null,
   "metadata": {
    "collapsed": true
   },
   "outputs": [],
   "source": []
  },
  {
   "cell_type": "markdown",
   "metadata": {},
   "source": [
    "### 15.4.1 Where to Defi ne "
   ]
  },
  {
   "cell_type": "markdown",
   "metadata": {},
   "source": [
    "## 15.5 Variables Inside and Outside of Functions "
   ]
  },
  {
   "cell_type": "markdown",
   "metadata": {},
   "source": [
    "### 15.5.1 Mutable Arguments Can Change "
   ]
  },
  {
   "cell_type": "code",
   "execution_count": 32,
   "metadata": {
    "collapsed": false
   },
   "outputs": [
    {
     "data": {
      "text/plain": [
       "['z', 'b', 'c']"
      ]
     },
     "execution_count": 32,
     "metadata": {},
     "output_type": "execute_result"
    }
   ],
   "source": [
    "myList = ['a','b','c']\n",
    "myList[0] = 'z'\n",
    "myList"
   ]
  },
  {
   "cell_type": "code",
   "execution_count": 33,
   "metadata": {
    "collapsed": true
   },
   "outputs": [],
   "source": [
    "myList.sort()"
   ]
  },
  {
   "cell_type": "code",
   "execution_count": 34,
   "metadata": {
    "collapsed": false
   },
   "outputs": [
    {
     "ename": "TypeError",
     "evalue": "'str' object does not support item assignment",
     "output_type": "error",
     "traceback": [
      "\u001b[0;31m---------------------------------------------------------------------------\u001b[0m",
      "\u001b[0;31mTypeError\u001b[0m                                 Traceback (most recent call last)",
      "\u001b[0;32m<ipython-input-34-018bf378477a>\u001b[0m in \u001b[0;36m<module>\u001b[0;34m()\u001b[0m\n\u001b[1;32m      1\u001b[0m \u001b[0mmyStr\u001b[0m \u001b[1;33m=\u001b[0m \u001b[1;34m'abc'\u001b[0m\u001b[1;33m\u001b[0m\u001b[0m\n\u001b[0;32m----> 2\u001b[0;31m \u001b[0mmyStr\u001b[0m\u001b[1;33m[\u001b[0m\u001b[1;36m0\u001b[0m\u001b[1;33m]\u001b[0m \u001b[1;33m=\u001b[0m \u001b[1;34m'z'\u001b[0m\u001b[1;33m\u001b[0m\u001b[0m\n\u001b[0m",
      "\u001b[0;31mTypeError\u001b[0m: 'str' object does not support item assignment"
     ]
    }
   ],
   "source": [
    "myStr = 'abc'\n",
    "myStr[0] = 'z'"
   ]
  },
  {
   "cell_type": "code",
   "execution_count": 35,
   "metadata": {
    "collapsed": false
   },
   "outputs": [
    {
     "data": {
      "text/plain": [
       "'zbc'"
      ]
     },
     "execution_count": 35,
     "metadata": {},
     "output_type": "execute_result"
    }
   ],
   "source": [
    "myStr.replace('a','z')"
   ]
  },
  {
   "cell_type": "code",
   "execution_count": 36,
   "metadata": {
    "collapsed": false,
    "scrolled": true
   },
   "outputs": [
    {
     "data": {
      "text/plain": [
       "'abc'"
      ]
     },
     "execution_count": 36,
     "metadata": {},
     "output_type": "execute_result"
    }
   ],
   "source": [
    "myStr"
   ]
  },
  {
   "cell_type": "code",
   "execution_count": 37,
   "metadata": {
    "collapsed": true
   },
   "outputs": [],
   "source": [
    "def augment(myList, myInt):\n",
    "    myList.append('some value')\n",
    "    myInt = myInt + 1"
   ]
  },
  {
   "cell_type": "code",
   "execution_count": 39,
   "metadata": {
    "collapsed": false
   },
   "outputs": [
    {
     "name": "stdout",
     "output_type": "stream",
     "text": [
      "['first entry']\n"
     ]
    }
   ],
   "source": [
    "aList = ['first entry']\n",
    "num = 5\n",
    "print aList"
   ]
  },
  {
   "cell_type": "code",
   "execution_count": 40,
   "metadata": {
    "collapsed": false
   },
   "outputs": [
    {
     "name": "stdout",
     "output_type": "stream",
     "text": [
      "5\n"
     ]
    }
   ],
   "source": [
    "print num"
   ]
  },
  {
   "cell_type": "code",
   "execution_count": 41,
   "metadata": {
    "collapsed": true
   },
   "outputs": [],
   "source": [
    "augment(aList, num)"
   ]
  },
  {
   "cell_type": "code",
   "execution_count": 42,
   "metadata": {
    "collapsed": false
   },
   "outputs": [
    {
     "name": "stdout",
     "output_type": "stream",
     "text": [
      "['first entry', 'some value']\n"
     ]
    }
   ],
   "source": [
    "print aList"
   ]
  },
  {
   "cell_type": "code",
   "execution_count": 43,
   "metadata": {
    "collapsed": false
   },
   "outputs": [
    {
     "name": "stdout",
     "output_type": "stream",
     "text": [
      "5\n"
     ]
    }
   ],
   "source": [
    "print num"
   ]
  },
  {
   "cell_type": "code",
   "execution_count": 44,
   "metadata": {
    "collapsed": true
   },
   "outputs": [],
   "source": [
    "def augmentList(list1):\n",
    "    list2 = list(list1)\n",
    "    list2.append('some value')\n",
    "    return list2"
   ]
  },
  {
   "cell_type": "code",
   "execution_count": 45,
   "metadata": {
    "collapsed": true
   },
   "outputs": [],
   "source": [
    "aList = ['first entry']\n",
    "result = augmentList(aList)"
   ]
  },
  {
   "cell_type": "code",
   "execution_count": 47,
   "metadata": {
    "collapsed": false
   },
   "outputs": [
    {
     "name": "stdout",
     "output_type": "stream",
     "text": [
      "['first entry']\n"
     ]
    }
   ],
   "source": [
    "print aList"
   ]
  },
  {
   "cell_type": "code",
   "execution_count": 48,
   "metadata": {
    "collapsed": false
   },
   "outputs": [
    {
     "name": "stdout",
     "output_type": "stream",
     "text": [
      "['first entry', 'some value']\n"
     ]
    }
   ],
   "source": [
    "print result"
   ]
  },
  {
   "cell_type": "markdown",
   "metadata": {},
   "source": [
    "### 15.5.2 Pass in Outside Variables "
   ]
  },
  {
   "cell_type": "markdown",
   "metadata": {},
   "source": [
    "### Example 15.8 passVars.py"
   ]
  },
  {
   "cell_type": "code",
   "execution_count": null,
   "metadata": {
    "collapsed": false
   },
   "outputs": [],
   "source": [
    "# %load ch15/script2/passVars.py\n",
    "# passVars.py\n",
    "# Purpose: Demonstrate 'UnboundLocalError'.\n",
    "# Usage: No script arguments needed.\n",
    "x = 5\n",
    "\n",
    "\n",
    "def addOne():\n",
    "    '''Add one to x and print x.'''\n",
    "    x = x + 1\n",
    "    print 'In here', x\n",
    "\n",
    "print 'Out here', x\n",
    "addOne()"
   ]
  },
  {
   "cell_type": "code",
   "execution_count": 51,
   "metadata": {
    "collapsed": true
   },
   "outputs": [],
   "source": [
    "def appendNext():\n",
    "    maxVal = max(myList)\n",
    "    maxVal = maxVal + 1\n",
    "    myList.append(maxVal)\n",
    "    myList = [1,2,3]\n",
    "    appendNext()"
   ]
  },
  {
   "cell_type": "code",
   "execution_count": 52,
   "metadata": {
    "collapsed": false
   },
   "outputs": [
    {
     "data": {
      "text/plain": [
       "['b', 'c', 'z']"
      ]
     },
     "execution_count": 52,
     "metadata": {},
     "output_type": "execute_result"
    }
   ],
   "source": [
    "myList"
   ]
  },
  {
   "cell_type": "markdown",
   "metadata": {},
   "source": [
    "## 15.6 Key Terms "
   ]
  },
  {
   "cell_type": "markdown",
   "metadata": {},
   "source": [
    "## 15.7 Exercises "
   ]
  },
  {
   "cell_type": "code",
   "execution_count": null,
   "metadata": {
    "collapsed": true
   },
   "outputs": [],
   "source": []
  }
 ],
 "metadata": {
  "kernelspec": {
   "display_name": "Python 2",
   "language": "python",
   "name": "python2"
  },
  "language_info": {
   "codemirror_mode": {
    "name": "ipython",
    "version": 2
   },
   "file_extension": ".py",
   "mimetype": "text/x-python",
   "name": "python",
   "nbconvert_exporter": "python",
   "pygments_lexer": "ipython2",
   "version": "2.7.2"
  }
 },
 "nbformat": 4,
 "nbformat_minor": 1
}
