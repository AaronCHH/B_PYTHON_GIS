{
 "cells": [
  {
   "cell_type": "markdown",
   "metadata": {},
   "source": [
    "## 14 Error Handling\n",
    "* 14.1 try/except Structures\n",
    "* 14.1.1 Using Named Exceptions\n",
    "* 14.1.2 Multiple except Blocks\n",
    "* 14.1.3 Error Handling Gotcha\n",
    "* 14.2 Geoprocessing and Error Handling\n",
    "* 14.2.1 Getting Geoprocessing Messages\n",
    "* 14.2.2 The arcpy Named Exception\n",
    "* 14.3 Catching Exceptions in Loops\n",
    "* 14.4 Discussion\n",
    "* 14.5 Key Terms\n",
    "* 14.6 Exercises"
   ]
  },
  {
   "cell_type": "code",
   "execution_count": null,
   "metadata": {
    "collapsed": true
   },
   "outputs": [],
   "source": [
    "# %load script/multRasts.py\n",
    "# multRast.py\n",
    "# Purpose: Multiply each raster in a database by an input factor.\n",
    "# Usage: numeric_value\n",
    "# Example input: 5\n",
    "import arcpy, sys\n",
    "\n",
    "# Set multiplication factor\n",
    "factor = float(sys.argv[1])\n",
    "\n",
    "arcpy.env.overwriteOutput = True\n",
    "arcpy.env.worspace = 'C:/gispy/data/ch14/rastTester.gdb'\n",
    "arcpy.CheckOutExtension('Spatial')\n",
    "outDir = 'C:/gispy/scratch/'\n",
    "\n",
    "# Get raster list & multiply each by a factor\n",
    "rasterList = arcpy.ListRasters()\n",
    "for rasterImage in rasterList:\n",
    "    rasterObj = arcpy.Raster(rasterImage)\n",
    "    rastMult = rasterObj * factor\n",
    "    rastMult.save(outDir + rasterImage)\n",
    "    del rastMult\n"
   ]
  },
  {
   "cell_type": "code",
   "execution_count": 11,
   "metadata": {
    "collapsed": false
   },
   "outputs": [],
   "source": [
    "%run scriptPt/multRasts.py 5"
   ]
  },
  {
   "cell_type": "markdown",
   "metadata": {},
   "source": [
    "## 14.1 try/except Structures"
   ]
  },
  {
   "cell_type": "code",
   "execution_count": null,
   "metadata": {
    "collapsed": true
   },
   "outputs": [],
   "source": [
    "# %load script/doubleMyNumber.py\n",
    "# doubleMyNumber.py\n",
    "# Purpose: Multiply input by 2.\n",
    "# Usage: numeric_value\n",
    "# Example input: 5\n",
    "import sys\n",
    "\n",
    "try:\n",
    "    number = float(sys.argv[1])\n",
    "    product = 2*number\n",
    "    print 'The doubled number is {0}'.format(product)\n",
    "except:\n",
    "    print 'An error occurred.'\n",
    "    print 'Please enter a numerical argument.'\n",
    "\n",
    "print 'Good bye!'\n"
   ]
  },
  {
   "cell_type": "code",
   "execution_count": 13,
   "metadata": {
    "collapsed": false
   },
   "outputs": [
    {
     "name": "stdout",
     "output_type": "stream",
     "text": [
      "The doubled number is 10.0\n",
      "Good bye!\n"
     ]
    }
   ],
   "source": [
    "%run scriptPt/doubleMyNumber.py 5"
   ]
  },
  {
   "cell_type": "markdown",
   "metadata": {},
   "source": [
    "## 14.1.1 Using Named Exceptions"
   ]
  },
  {
   "cell_type": "code",
   "execution_count": null,
   "metadata": {
    "collapsed": true
   },
   "outputs": [],
   "source": [
    "# %load script/doubleMyNumberV2.py\n",
    "# doubleMyNumberV2.py\n",
    "# Purpose: Multiply input by 2\n",
    "#          or catch value error.\n",
    "# Usage: numeric_value\n",
    "# Example input: 5\n",
    "import sys\n",
    "\n",
    "try:\n",
    "    number = float(sys.argv[1])\n",
    "    product = 2*number\n",
    "    print 'The doubled number is {0}'.format(product)\n",
    "except ValueError:\n",
    "    print 'Input must be numerical.'\n",
    "print 'Good bye!'\n"
   ]
  },
  {
   "cell_type": "code",
   "execution_count": 15,
   "metadata": {
    "collapsed": false
   },
   "outputs": [
    {
     "name": "stdout",
     "output_type": "stream",
     "text": [
      "The doubled number is 10.0\n",
      "Good bye!\n"
     ]
    }
   ],
   "source": [
    "%run scriptPt/doubleMyNumberV2.py 5"
   ]
  },
  {
   "cell_type": "markdown",
   "metadata": {},
   "source": [
    "## 14.1.2 Multiple except Blocks"
   ]
  },
  {
   "cell_type": "code",
   "execution_count": null,
   "metadata": {
    "collapsed": true
   },
   "outputs": [],
   "source": [
    "# %load script/slopeTry.py\n",
    "# slopeTry.py\n",
    "# Purpose: Find the slope, given rise and run.\n",
    "# Usage: slope_rise slope_run\n",
    "# Example input: 1 3\n",
    "import sys\n",
    "\n",
    "rise = sys.argv[1]\n",
    "run = sys.argv[2]\n",
    "\n",
    "try:\n",
    "    print 'Rise: {0} Run: {1}'.format(rise, run)\n",
    "    slope = float(rise)/float(run)\n",
    "    print 'Slope = rise/run'\n",
    "except ZeroDivisionError:\n",
    "    slope = 'Undefined (line is vertical)'\n",
    "except ValueError:\n",
    "    print 'Usage: <numeric rise> <numeric run>'\n",
    "    slope = 'Not found'\n",
    "\n",
    "print 'Slope:', slope\n"
   ]
  },
  {
   "cell_type": "code",
   "execution_count": 17,
   "metadata": {
    "collapsed": false
   },
   "outputs": [
    {
     "name": "stdout",
     "output_type": "stream",
     "text": [
      "Rise: 1 Run: 3\n",
      "Slope = rise/run\n",
      "Slope: 0.333333333333\n"
     ]
    }
   ],
   "source": [
    "%run scriptPt/slopeTry.py 1 3"
   ]
  },
  {
   "cell_type": "markdown",
   "metadata": {},
   "source": [
    "## 14.1.3 Error Handling Gotcha"
   ]
  },
  {
   "cell_type": "code",
   "execution_count": null,
   "metadata": {
    "collapsed": true
   },
   "outputs": [],
   "source": [
    "# %load script/cubeMyNumber.py\n",
    "# cubeMyNumber.py\n",
    "# Purpose: Cube input value.\n",
    "# Usage: numeric_value\n",
    "# Example input: 5\n",
    "import sys\n",
    "try:\n",
    "    number = float(sys.argv[1])\n",
    "    cube = number**3\n",
    "    print 'The cubed number is {0}'.format()  # missing arg\n",
    "except:\n",
    "    print 'Input must be numerical.'\n",
    "print 'Good bye!'\n"
   ]
  },
  {
   "cell_type": "code",
   "execution_count": 19,
   "metadata": {
    "collapsed": false,
    "scrolled": true
   },
   "outputs": [
    {
     "name": "stdout",
     "output_type": "stream",
     "text": [
      "Input must be numerical.\n",
      "Good bye!\n"
     ]
    }
   ],
   "source": [
    "%run scriptPt/cubeMyNumber.py 5"
   ]
  },
  {
   "cell_type": "code",
   "execution_count": null,
   "metadata": {
    "collapsed": false
   },
   "outputs": [],
   "source": [
    "# %load script/cubeMyNumberV2.py\n",
    "# cubeMyNumberV2.py\n",
    "# Purpose: Cube input value\n",
    "#   or print traceback message.\n",
    "# Usage: numeric_value\n",
    "# Example input: 5\n",
    "import sys, traceback\n",
    "try:\n",
    "    number = float(sys.argv[1])\n",
    "    cube = number**3\n",
    "    print 'The cubed number is {0}'.format()  # missing arg\n",
    "except:\n",
    "    print 'Input must be numerical.'\n",
    "    traceback.print_exc()\n",
    "print 'Good bye!'\n"
   ]
  },
  {
   "cell_type": "code",
   "execution_count": 22,
   "metadata": {
    "collapsed": false
   },
   "outputs": [
    {
     "name": "stdout",
     "output_type": "stream",
     "text": [
      "Input must be numerical.\n",
      "Good bye!\n"
     ]
    },
    {
     "name": "stderr",
     "output_type": "stream",
     "text": [
      "Traceback (most recent call last):\n",
      "  File \"D:\\BOOKS\\GISen\\_PYTHON\\PythonForArcGIS\\SF_PFA\\ch14\\script\\cubeMyNumberV2.py\", line 10, in <module>\n",
      "    print 'The cubed number is {0}'.format()  # missing arg\n",
      "IndexError: tuple index out of range\n"
     ]
    }
   ],
   "source": [
    "%run script/cubeMyNumberV2.py 5"
   ]
  },
  {
   "cell_type": "markdown",
   "metadata": {},
   "source": [
    "## 14.2 Geoprocessing and Error Handling"
   ]
  },
  {
   "cell_type": "markdown",
   "metadata": {},
   "source": [
    "## 14.2.1 Getting Geoprocessing Messages"
   ]
  },
  {
   "cell_type": "code",
   "execution_count": 23,
   "metadata": {
    "collapsed": false
   },
   "outputs": [
    {
     "data": {
      "text/plain": [
       "''"
      ]
     },
     "execution_count": 23,
     "metadata": {},
     "output_type": "execute_result"
    }
   ],
   "source": [
    "arcpy.GetMessages()"
   ]
  },
  {
   "cell_type": "markdown",
   "metadata": {},
   "source": [
    "---"
   ]
  },
  {
   "cell_type": "code",
   "execution_count": 26,
   "metadata": {
    "collapsed": false
   },
   "outputs": [
    {
     "name": "stdout",
     "output_type": "stream",
     "text": [
      "Executing: GetCount data/cover.shp\n",
      "Start Time: Mon Apr 25 23:03:57 2016\n",
      "Row Count = 426\n",
      "Succeeded at Mon Apr 25 23:03:57 2016 (Elapsed Time: 0.00 seconds)\n"
     ]
    }
   ],
   "source": [
    "inputFile = 'data/cover.shp'\n",
    "count = arcpy.GetCount_management(inputFile)\n",
    "print arcpy.GetMessages()"
   ]
  },
  {
   "cell_type": "markdown",
   "metadata": {},
   "source": [
    "---"
   ]
  },
  {
   "cell_type": "code",
   "execution_count": 27,
   "metadata": {
    "collapsed": false
   },
   "outputs": [
    {
     "data": {
      "text/plain": [
       "<Result 'scratch\\\\buffer.shp'>"
      ]
     },
     "execution_count": 27,
     "metadata": {},
     "output_type": "execute_result"
    }
   ],
   "source": [
    "inputFile = 'data/parkLines.shp'\n",
    "outputFile = 'scratch/buffer.shp'\n",
    "arcpy.Buffer_analysis(inputFile, outputFile, '1 mile')"
   ]
  },
  {
   "cell_type": "code",
   "execution_count": 29,
   "metadata": {
    "collapsed": false
   },
   "outputs": [
    {
     "name": "stdout",
     "output_type": "stream",
     "text": [
      "Executing: Buffer data/parkLines.shp scratch\\buffer.shp \"1 Miles\" FULL ROUND NONE #\n",
      "Start Time: Mon Apr 25 23:04:31 2016\n",
      "Succeeded at Mon Apr 25 23:04:32 2016 (Elapsed Time: 1.00 seconds)\n"
     ]
    }
   ],
   "source": [
    "print arcpy.GetMessages()"
   ]
  },
  {
   "cell_type": "code",
   "execution_count": 30,
   "metadata": {
    "collapsed": false
   },
   "outputs": [
    {
     "name": "stdout",
     "output_type": "stream",
     "text": [
      "Executing: Buffer data/parkLines.shp scratch\\buffer.shp \"1 Miles\" FULL ROUND NONE #\n"
     ]
    }
   ],
   "source": [
    "print arcpy.GetMessage(0)"
   ]
  },
  {
   "cell_type": "code",
   "execution_count": 31,
   "metadata": {
    "collapsed": false
   },
   "outputs": [
    {
     "data": {
      "text/plain": [
       "3"
      ]
     },
     "execution_count": 31,
     "metadata": {},
     "output_type": "execute_result"
    }
   ],
   "source": [
    "arcpy.GetMessageCount()"
   ]
  },
  {
   "cell_type": "code",
   "execution_count": 32,
   "metadata": {
    "collapsed": false
   },
   "outputs": [
    {
     "name": "stdout",
     "output_type": "stream",
     "text": [
      "Succeeded at Mon Apr 25 23:04:32 2016 (Elapsed Time: 1.00 seconds)\n"
     ]
    }
   ],
   "source": [
    "print arcpy.GetMessage(arcpy.GetMessageCount() - 1)"
   ]
  },
  {
   "cell_type": "code",
   "execution_count": 34,
   "metadata": {
    "collapsed": false
   },
   "outputs": [
    {
     "ename": "ExecuteError",
     "evalue": "Failed to execute. Parameters are not valid.\nERROR 000735: Input Rows: Value is required\nFailed to execute (GetCount).\n",
     "output_type": "error",
     "traceback": [
      "\u001b[1;31m---------------------------------------------------------------------------\u001b[0m",
      "\u001b[1;31mExecuteError\u001b[0m                              Traceback (most recent call last)",
      "\u001b[1;32m<ipython-input-34-366bf9a63008>\u001b[0m in \u001b[0;36m<module>\u001b[1;34m()\u001b[0m\n\u001b[1;32m----> 1\u001b[1;33m \u001b[0mcount\u001b[0m \u001b[1;33m=\u001b[0m \u001b[0marcpy\u001b[0m\u001b[1;33m.\u001b[0m\u001b[0mGetCount_management\u001b[0m\u001b[1;33m(\u001b[0m\u001b[1;33m)\u001b[0m\u001b[1;33m\u001b[0m\u001b[0m\n\u001b[0m",
      "\u001b[1;32mC:\\Program Files (x86)\\ArcGIS\\Desktop10.1\\arcpy\\arcpy\\management.py\u001b[0m in \u001b[0;36mGetCount\u001b[1;34m(in_rows)\u001b[0m\n\u001b[0;32m  13635\u001b[0m         \u001b[1;32mreturn\u001b[0m \u001b[0mretval\u001b[0m\u001b[1;33m\u001b[0m\u001b[0m\n\u001b[0;32m  13636\u001b[0m     \u001b[1;32mexcept\u001b[0m \u001b[0mException\u001b[0m\u001b[1;33m,\u001b[0m \u001b[0me\u001b[0m\u001b[1;33m:\u001b[0m\u001b[1;33m\u001b[0m\u001b[0m\n\u001b[1;32m> 13637\u001b[1;33m         \u001b[1;32mraise\u001b[0m \u001b[0me\u001b[0m\u001b[1;33m\u001b[0m\u001b[0m\n\u001b[0m\u001b[0;32m  13638\u001b[0m \u001b[1;33m\u001b[0m\u001b[0m\n\u001b[0;32m  13639\u001b[0m \u001b[1;33m@\u001b[0m\u001b[0mgptooldoc\u001b[0m\u001b[1;33m(\u001b[0m\u001b[1;34m'PivotTable_management'\u001b[0m\u001b[1;33m,\u001b[0m \u001b[0mNone\u001b[0m\u001b[1;33m)\u001b[0m\u001b[1;33m\u001b[0m\u001b[0m\n",
      "\u001b[1;31mExecuteError\u001b[0m: Failed to execute. Parameters are not valid.\nERROR 000735: Input Rows: Value is required\nFailed to execute (GetCount).\n"
     ]
    }
   ],
   "source": [
    "count = arcpy.GetCount_management()"
   ]
  },
  {
   "cell_type": "code",
   "execution_count": 35,
   "metadata": {
    "collapsed": false
   },
   "outputs": [
    {
     "name": "stdout",
     "output_type": "stream",
     "text": [
      "Executing: GetCount #\n",
      "Start Time: Mon Apr 25 23:05:25 2016\n",
      "Failed to execute. Parameters are not valid.\n",
      "ERROR 000735: Input Rows: Value is required\n",
      "Failed to execute (GetCount).\n",
      "Failed at Mon Apr 25 23:05:25 2016 (Elapsed Time: 0.00 seconds)\n"
     ]
    }
   ],
   "source": [
    "print arcpy.GetMessages()"
   ]
  },
  {
   "cell_type": "markdown",
   "metadata": {},
   "source": [
    "## 14.2.2 The arcpy Named Exception"
   ]
  },
  {
   "cell_type": "code",
   "execution_count": null,
   "metadata": {
    "collapsed": true
   },
   "outputs": [],
   "source": [
    "# %load script/bufferTry.py\n",
    "# bufferTry.py\n",
    "# Purpose: Buffer the input dataset.\n",
    "# Usage: Fullpath_filename outDir\n",
    "# Example input: C:/gispy/data/ch14/parkLines.shp outputWorkspace\n",
    "import arcpy, sys, os\n",
    "arcpy.env.overwriteOutput = True\n",
    "try:\n",
    "    inFile = sys.argv[1]\n",
    "    outDir = sys.argv[2]\n",
    "    buffer = outDir + '/' + os.path.splitext(inFile)[0] + 'Buff.shp'\n",
    "    arcpy.Buffer_analysis(inFile, buffer, '1 mile')\n",
    "    print '{0} created.'.format(buffer)\n",
    "except arcpy.ExecuteError:\n",
    "    print arcpy.GetMessages()\n",
    "except IndexError:\n",
    "    print 'Usage: <full path shapefile name>'\n"
   ]
  },
  {
   "cell_type": "code",
   "execution_count": 41,
   "metadata": {
    "collapsed": false
   },
   "outputs": [
    {
     "name": "stdout",
     "output_type": "stream",
     "text": [
      "Executing: Buffer data/parkLines.shp scratch//data/parkLinesBuff.shp \"1 Miles\" FULL ROUND NONE #\n",
      "Start Time: Mon Apr 25 23:09:25 2016\n",
      "ERROR 000210: Cannot create output scratch//data/parkLinesBuff.shp\n",
      "Failed to execute (Buffer).\n",
      "Failed at Mon Apr 25 23:09:25 2016 (Elapsed Time: 0.00 seconds)\n"
     ]
    }
   ],
   "source": [
    "%run script/bufferTry.py data/parkLines.shp scratch/"
   ]
  },
  {
   "cell_type": "markdown",
   "metadata": {},
   "source": [
    "## 14.3 Catching Exceptions in Loops"
   ]
  },
  {
   "cell_type": "code",
   "execution_count": null,
   "metadata": {
    "collapsed": true
   },
   "outputs": [],
   "source": [
    "# %load script/buffeLoopTry.py\n",
    "# bufferLoopTry.py\n",
    "# Purpose: Buffer the feature classes in a workspace.\n",
    "# Usage: No arguments needed.\n",
    "import arcpy, os\n",
    "arcpy.env.overwriteOutput = True\n",
    "arcpy.env.workspace = 'C:/gispy/data/ch14'\n",
    "outDir = 'C:/gispy/scratch/'\n",
    "fcs = arcpy.ListFeatureClasses()\n",
    "distance = '500 meters'\n",
    "\n",
    "for fc in fcs:\n",
    "    outFile = outDir + os.path.splitext(fc)[0] + 'Buff.shp'\n",
    "    try:\n",
    "        arcpy.Buffer_analysis(fc, outFile, distance)\n",
    "        print 'Created: {0}'.format(outFile)\n",
    "    except arcpy.ExecuteError:\n",
    "        print arcpy.GetMessage(2)\n"
   ]
  },
  {
   "cell_type": "code",
   "execution_count": 38,
   "metadata": {
    "collapsed": false
   },
   "outputs": [
    {
     "name": "stdout",
     "output_type": "stream",
     "text": [
      "Created: scratch/bufferBuff.shp\n",
      "Created: scratch/coverBuff.shp\n",
      "ERROR 000229: Cannot open data\\dummyFile.shp\n",
      "Created: scratch/firesBuff.shp\n",
      "Created: scratch/no_damageBuff.shp\n",
      "Created: scratch/parkLinesBuff.shp\n"
     ]
    }
   ],
   "source": [
    "%run scriptPt/buffeLoopTry.py"
   ]
  },
  {
   "cell_type": "code",
   "execution_count": null,
   "metadata": {
    "collapsed": false
   },
   "outputs": [],
   "source": [
    "# %load script/bufferLoopDistTry.py\n",
    "# bufferLoopDistTry.py\n",
    "# Purpose: Buffer the input file by the given distance.\n",
    "# Usage: input_filename numeric_distance (using the default unit of measure)\n",
    "# Example input: C:/gispy/data/ch14/cover.shp 3\n",
    "\n",
    "import arcpy, sys, os\n",
    "arcpy.env.workspace = os.path.dirname(sys.argv[1])\n",
    "fc = os.path.basename(sys.argv[1])\n",
    "outDir = 'C:/gispy/scratch/'\n",
    "arcpy.env.overwriteOutput = False\n",
    "maxDist = float(sys.argv[2])\n",
    "i = 1\n",
    "while i <= maxDist:\n",
    "    try:\n",
    "        outFile = outDir + os.path.splitext(fc)[0] + str(i) + 'Buff.shp'\n",
    "        distance = str(i) + ' miles'\n",
    "        arcpy.Buffer_analysis(fc, outFile, distance)\n",
    "        print 'Created: ', outFile\n",
    "    except arcpy.ExecuteError:\n",
    "        print arcpy.GetMessage(3)\n",
    "    i = i + 1\n"
   ]
  },
  {
   "cell_type": "code",
   "execution_count": 3,
   "metadata": {
    "collapsed": false
   },
   "outputs": [
    {
     "name": "stdout",
     "output_type": "stream",
     "text": [
      "Created:  scratch/cover1Buff.shp\n",
      "Created:  scratch/cover2Buff.shp\n",
      "Created:  scratch/cover3Buff.shp\n"
     ]
    }
   ],
   "source": [
    "%run scriptPt/bufferLoopDistTry.py data/cover.shp 3"
   ]
  },
  {
   "cell_type": "markdown",
   "metadata": {},
   "source": [
    "## 14.4 Discussion"
   ]
  },
  {
   "cell_type": "markdown",
   "metadata": {},
   "source": [
    "## 14.5 Key Terms"
   ]
  },
  {
   "cell_type": "markdown",
   "metadata": {},
   "source": [
    "## 14.6 Exercises"
   ]
  },
  {
   "cell_type": "code",
   "execution_count": null,
   "metadata": {
    "collapsed": true
   },
   "outputs": [],
   "source": []
  }
 ],
 "metadata": {
  "kernelspec": {
   "display_name": "Python 2",
   "language": "python",
   "name": "python2"
  },
  "language_info": {
   "codemirror_mode": {
    "name": "ipython",
    "version": 2
   },
   "file_extension": ".py",
   "mimetype": "text/x-python",
   "name": "python",
   "nbconvert_exporter": "python",
   "pygments_lexer": "ipython2",
   "version": "2.7.2"
  }
 },
 "nbformat": 4,
 "nbformat_minor": 0
}
