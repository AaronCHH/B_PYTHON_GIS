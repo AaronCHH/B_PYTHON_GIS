{
 "cells": [
  {
   "cell_type": "markdown",
   "metadata": {},
   "source": [
    "## 22 User Interfaces for File and Folder Selection\n",
    "* 22.1 A Simple Interface with raw_input\n",
    "* 22.2 File Handling with tkFileDialog\n",
    "* 22.2.1 Getting File and Directory Names\n",
    "* 22.2.2 Options\n",
    "* 22.2.3 Opening Files for Reading and Writing\n",
    "* 22.3 Discussion\n",
    "* 22.4 Key Terms\n",
    "* 22.5 Exercises"
   ]
  },
  {
   "cell_type": "markdown",
   "metadata": {},
   "source": [
    "## 22.1 A Simple Interface with raw_input"
   ]
  },
  {
   "cell_type": "code",
   "execution_count": null,
   "metadata": {
    "collapsed": true
   },
   "outputs": [],
   "source": [
    "# %load script/askWorkspaceRaw.py\n",
    "# askWorkspaceRaw.py\n",
    "# Purpose: Get a workspace with the raw_input function.\n",
    "# Usage: No script arguments needed.\n",
    "# raw_input DOES NOT restrict the user to valid workspaces.\n",
    "# Use tkFileDialog askDirectory or a script tool instead.\n",
    "import arcpy\n",
    "arcpy.env.workspace = raw_input('Enter a workspace:')\n",
    "print arcpy.env.workspace\n"
   ]
  },
  {
   "cell_type": "code",
   "execution_count": 8,
   "metadata": {
    "collapsed": false
   },
   "outputs": [
    {
     "name": "stdout",
     "output_type": "stream",
     "text": [
      "Enter a workspace:./data\n",
      "./data\n"
     ]
    }
   ],
   "source": [
    "%run script2/askWorkspaceRaw.py"
   ]
  },
  {
   "cell_type": "code",
   "execution_count": null,
   "metadata": {
    "collapsed": true
   },
   "outputs": [],
   "source": []
  },
  {
   "cell_type": "markdown",
   "metadata": {},
   "source": [
    "# 22.2 File Handling with tkFileDialog"
   ]
  },
  {
   "cell_type": "markdown",
   "metadata": {},
   "source": [
    "## 22.2.1 Getting File and Directory Names"
   ]
  },
  {
   "cell_type": "code",
   "execution_count": null,
   "metadata": {
    "collapsed": true
   },
   "outputs": [],
   "source": [
    "# %load script/getFileName.py\n",
    "# getFileName.py\n",
    "# Purpose: Get a shapefile name from the user and print the shapeType.\n",
    "# Usage: No script arguments required.\n",
    "import tkFileDialog, arcpy, Tkinter\n",
    "fatherWilliam = Tkinter.Tk()\n",
    "fatherWilliam.withdraw()\n",
    "fc = tkFileDialog.askopenfilename(\n",
    "    filetypes=[(\"shapefiles\", \"*.shp\")],\n",
    "    title='Choose a SHAPEFILE that defines the STATISTICAL ZONES',\n",
    "    parent=fatherWilliam)\n",
    "print 'fc = {0}'.format(fc)\n",
    "desc = arcpy.Describe(fc)\n",
    "print 'Shape type = {0}'.format(desc.ShapeType)\n",
    "fatherWilliam.destroy()\n"
   ]
  },
  {
   "cell_type": "code",
   "execution_count": 12,
   "metadata": {
    "collapsed": false
   },
   "outputs": [
    {
     "name": "stdout",
     "output_type": "stream",
     "text": [
      "fc = D:/BOOKS/GISen/_PYTHON/PythonForArcGIS/SF_PFA/ch22/data/park.shp\n",
      "Shape type = Polygon\n"
     ]
    }
   ],
   "source": [
    "%run script2/getFileName.py"
   ]
  },
  {
   "cell_type": "code",
   "execution_count": null,
   "metadata": {
    "collapsed": true
   },
   "outputs": [],
   "source": [
    "# %load script/askdirectory.py\n",
    "# askDirectory.py\n",
    "# Purpose: Get a directory from the user and set the workspace.\n",
    "# Usage: No script arguments required.\n",
    "import tkFileDialog, arcpy\n",
    "\n",
    "arcpy.env.workspace = tkFileDialog.askdirectory(initialdir=\"./\",\n",
    "                                                title='Select the FOLDER containing Landuse RASTERS')\n",
    "\n",
    "print 'Workspace = {0}'.format(arcpy.env.workspace)\n"
   ]
  },
  {
   "cell_type": "code",
   "execution_count": 14,
   "metadata": {
    "collapsed": false
   },
   "outputs": [
    {
     "name": "stdout",
     "output_type": "stream",
     "text": [
      "Workspace = D:/BOOKS/GISen/_PYTHON/PythonForArcGIS/SF_PFA/ch22/data\n"
     ]
    }
   ],
   "source": [
    "%run script/askdirectory.py"
   ]
  },
  {
   "cell_type": "code",
   "execution_count": null,
   "metadata": {
    "collapsed": true
   },
   "outputs": [],
   "source": []
  },
  {
   "cell_type": "markdown",
   "metadata": {},
   "source": [
    "### 22.2.2 Options"
   ]
  },
  {
   "cell_type": "code",
   "execution_count": null,
   "metadata": {
    "collapsed": true
   },
   "outputs": [],
   "source": [
    "# %load script/fileDialogOptions.py\n",
    "# fileDialogOptions.py\n",
    "# Purpose: Vary file dialog options to get file and directory\n",
    "#          names from user and print the results.\n",
    "# Usage: No script arguments required.\n",
    "import tkFileDialog\n",
    "\n",
    "t = (\"shapefiles \", \"*.shp\")\n",
    "print 'Type = {0}'.format(type(t))\n",
    "\n",
    "fname1 = tkFileDialog.askopenfilename(filetypes=[t])\n",
    "print 'fname1 = {0}'.format(fname1)\n",
    "\n",
    "fname2 = tkFileDialog.askopenfilename(title='Test 2 filetypes',\n",
    "                                      filetypes=[(\"csv (Comma delimited) \", \"*.csv\"),(\"Text Files \", \"*.txt\")])\n",
    "print 'fname2 = {0}'.format(fname2)\n",
    "\n",
    "fname3 = tkFileDialog.askopenfilename(title='Test initialdir', initialdir='C:/gispy')\n",
    "\n",
    "print 'fname3 = {0}'.format(fname3)\n",
    "\n",
    "fname4 = tkFileDialog.askopenfilename(title='Test initialfile', initialfile='bogus.shp')\n",
    "\n",
    "print 'fname4 = {0}'.format(fname4)\n",
    "\n",
    "fnames = tkFileDialog.askopenfilename(title='Test multiple selections allowed', multiple=True)\n",
    "files = fnames.split()\n",
    "print 'Name list:'\n",
    "for fname in files:  # For each file selected by the user,...\n",
    "    print '   {0}'.format(fname)\n",
    "\n",
    "inputDir = tkFileDialog.askdirectory(title='Test mustexist =True', mustexist=True)\n",
    "print 'inputDir = {0}'.format(inputDir)\n"
   ]
  },
  {
   "cell_type": "code",
   "execution_count": 2,
   "metadata": {
    "collapsed": false
   },
   "outputs": [
    {
     "name": "stdout",
     "output_type": "stream",
     "text": [
      "Type = <type 'tuple'>\n",
      "fname1 = D:/BOOKS/GISen/_PYTHON/PythonForArcGIS/SF_PFA/ch22/data/park.shp\n",
      "fname2 = \n",
      "fname3 = \n",
      "fname4 = \n",
      "Name list:\n",
      "inputDir = \n"
     ]
    }
   ],
   "source": [
    "%run script/fileDialogOptions.py"
   ]
  },
  {
   "cell_type": "code",
   "execution_count": null,
   "metadata": {
    "collapsed": true
   },
   "outputs": [],
   "source": [
    "# %load script/askAndDestroy.py\n",
    "# askAndDestroy.py\n",
    "# Purpose: Get a directory from the user and suppress the root Tk window.\n",
    "# Usage: No script arguments required\n",
    "\n",
    "import tkFileDialog, Tkinter\n",
    "# Get a tk object.\n",
    "fatherWilliam = Tkinter.Tk()\n",
    "\n",
    "# Hide the tk window.\n",
    "fatherWilliam.withdraw()\n",
    "\n",
    "inputDir = tkFileDialog.askopenfilename(parent=fatherWilliam)\n",
    "\n",
    "# Destroy the tk window.\n",
    "fatherWilliam.destroy()\n"
   ]
  },
  {
   "cell_type": "code",
   "execution_count": 3,
   "metadata": {
    "collapsed": true
   },
   "outputs": [],
   "source": [
    "%run script2/askAndDestroy.py"
   ]
  },
  {
   "cell_type": "markdown",
   "metadata": {},
   "source": [
    "### 22.2.3 Opening Files for Reading and Writing"
   ]
  },
  {
   "cell_type": "code",
   "execution_count": 4,
   "metadata": {
    "collapsed": true
   },
   "outputs": [],
   "source": [
    "import arcpy"
   ]
  },
  {
   "cell_type": "code",
   "execution_count": 6,
   "metadata": {
    "collapsed": false
   },
   "outputs": [
    {
     "ename": "NameError",
     "evalue": "name 'tkFileDialog' is not defined",
     "output_type": "error",
     "traceback": [
      "\u001b[1;31m---------------------------------------------------------------------------\u001b[0m",
      "\u001b[1;31mNameError\u001b[0m                                 Traceback (most recent call last)",
      "\u001b[1;32m<ipython-input-6-0df49d2f3d7b>\u001b[0m in \u001b[0;36m<module>\u001b[1;34m()\u001b[0m\n\u001b[1;32m----> 1\u001b[1;33m fobject = tkFileDialog.askopenfile(\n\u001b[0m\u001b[0;32m      2\u001b[0m   \u001b[0mfiletypes\u001b[0m\u001b[1;33m=\u001b[0m\u001b[1;33m[\u001b[0m\u001b[1;33m(\u001b[0m\u001b[1;34m'shape files'\u001b[0m\u001b[1;33m,\u001b[0m\u001b[1;34m'*.shp'\u001b[0m\u001b[1;33m)\u001b[0m\u001b[1;33m]\u001b[0m\u001b[1;33m,\u001b[0m\u001b[1;33m\u001b[0m\u001b[0m\n\u001b[0;32m      3\u001b[0m   initialfile='data.txt', title='Open a data file...')\n\u001b[0;32m      4\u001b[0m \u001b[0mfirstLine\u001b[0m \u001b[1;33m=\u001b[0m \u001b[0mfobject\u001b[0m\u001b[1;33m.\u001b[0m\u001b[0mreadline\u001b[0m\u001b[1;33m(\u001b[0m\u001b[1;33m)\u001b[0m\u001b[1;33m\u001b[0m\u001b[0m\n\u001b[0;32m      5\u001b[0m \u001b[0mfobject\u001b[0m\u001b[1;33m.\u001b[0m\u001b[0mclose\u001b[0m\u001b[1;33m(\u001b[0m\u001b[1;33m)\u001b[0m\u001b[1;33m\u001b[0m\u001b[0m\n",
      "\u001b[1;31mNameError\u001b[0m: name 'tkFileDialog' is not defined"
     ]
    }
   ],
   "source": [
    "fobject = tkFileDialog.askopenfile(\n",
    "  filetypes=[('shape files','*.shp')],\n",
    "  initialfile='data.txt', title='Open a data file...')\n",
    "firstLine = fobject.readline()\n",
    "fobject.close()"
   ]
  },
  {
   "cell_type": "code",
   "execution_count": 7,
   "metadata": {
    "collapsed": false
   },
   "outputs": [
    {
     "ename": "NameError",
     "evalue": "name 'tkFileDialog' is not defined",
     "output_type": "error",
     "traceback": [
      "\u001b[1;31m---------------------------------------------------------------------------\u001b[0m",
      "\u001b[1;31mNameError\u001b[0m                                 Traceback (most recent call last)",
      "\u001b[1;32m<ipython-input-7-34e64c9b8050>\u001b[0m in \u001b[0;36m<module>\u001b[1;34m()\u001b[0m\n\u001b[0;32m      1\u001b[0m \u001b[0mmyTitle\u001b[0m \u001b[1;33m=\u001b[0m \u001b[1;34m'Select an output file name'\u001b[0m\u001b[1;33m\u001b[0m\u001b[0m\n\u001b[1;32m----> 2\u001b[1;33m \u001b[1;32mwith\u001b[0m \u001b[0mtkFileDialog\u001b[0m\u001b[1;33m.\u001b[0m\u001b[0masksaveasfile\u001b[0m\u001b[1;33m(\u001b[0m\u001b[0mtitle\u001b[0m\u001b[1;33m=\u001b[0m\u001b[0mmyTitle\u001b[0m\u001b[1;33m)\u001b[0m \u001b[1;32mas\u001b[0m \u001b[0mofile\u001b[0m\u001b[1;33m:\u001b[0m\u001b[1;33m\u001b[0m\u001b[0m\n\u001b[0m\u001b[0;32m      3\u001b[0m   \u001b[0mofile\u001b[0m\u001b[1;33m.\u001b[0m\u001b[0mwrite\u001b[0m\u001b[1;33m(\u001b[0m\u001b[1;34m'I like tkFileDialog'\u001b[0m\u001b[1;33m)\u001b[0m\u001b[1;33m\u001b[0m\u001b[0m\n",
      "\u001b[1;31mNameError\u001b[0m: name 'tkFileDialog' is not defined"
     ]
    }
   ],
   "source": [
    "myTitle = 'Select an output file name'\n",
    "with tkFileDialog.asksaveasfile(title=myTitle) as ofile:\n",
    "  ofile.write('I like tkFileDialog')"
   ]
  },
  {
   "cell_type": "markdown",
   "metadata": {},
   "source": [
    "## 22.3 Discussion"
   ]
  },
  {
   "cell_type": "markdown",
   "metadata": {},
   "source": [
    "## 22.4 Key Terms"
   ]
  },
  {
   "cell_type": "markdown",
   "metadata": {},
   "source": [
    "## 22.5 Exercises"
   ]
  },
  {
   "cell_type": "code",
   "execution_count": null,
   "metadata": {
    "collapsed": true
   },
   "outputs": [],
   "source": []
  }
 ],
 "metadata": {
  "kernelspec": {
   "display_name": "Python 2",
   "language": "python",
   "name": "python2"
  },
  "language_info": {
   "codemirror_mode": {
    "name": "ipython",
    "version": 2
   },
   "file_extension": ".py",
   "mimetype": "text/x-python",
   "name": "python",
   "nbconvert_exporter": "python",
   "pygments_lexer": "ipython2",
   "version": "2.7.2"
  }
 },
 "nbformat": 4,
 "nbformat_minor": 0
}
