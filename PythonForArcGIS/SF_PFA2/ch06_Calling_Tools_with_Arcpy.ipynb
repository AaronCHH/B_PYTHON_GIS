{
 "cells": [
  {
   "cell_type": "markdown",
   "metadata": {},
   "source": [
    "# 6 Calling Tools with Arcpy"
   ]
  },
  {
   "cell_type": "markdown",
   "metadata": {},
   "source": [
    "## 6.1 Calling Tools"
   ]
  },
  {
   "cell_type": "code",
   "execution_count": null,
   "metadata": {
    "collapsed": true
   },
   "outputs": [],
   "source": [
    "import os, sys, arcpy\n",
    "arcpy.env.overwriteOutput = True"
   ]
  },
  {
   "cell_type": "code",
   "execution_count": null,
   "metadata": {
    "collapsed": false
   },
   "outputs": [],
   "source": [
    "arcpy.env.workspace = 'ch06/data'\n",
    "inputRaster = 'getty_rast'\n",
    "outputFile = 'output.txt'\n",
    "arcpy.RasterToASCII_conversion(inputRaster, outputFile)"
   ]
  },
  {
   "cell_type": "code",
   "execution_count": null,
   "metadata": {
    "collapsed": false
   },
   "outputs": [],
   "source": [
    "arcpy.env.overwriteOutput = True\n",
    "arcpy.Buffer_analysis('ch06/data/park.shp',\n",
    "                      'parkBuffer.shp','0.25 miles')"
   ]
  },
  {
   "cell_type": "code",
   "execution_count": null,
   "metadata": {
    "collapsed": false
   },
   "outputs": [],
   "source": [
    "arcpy.env.workspace = 'ch06/data/'\n",
    "arcpy.Buffer_analysis('park.shp',\n",
    "                      'ch06/scratch/parkBuffer.shp',\n",
    "                      '0.25 miles')"
   ]
  },
  {
   "cell_type": "markdown",
   "metadata": {},
   "source": [
    "## 6.2 Help Resources"
   ]
  },
  {
   "cell_type": "markdown",
   "metadata": {},
   "source": [
    "### 6.2.1 Tool Help"
   ]
  },
  {
   "cell_type": "markdown",
   "metadata": {},
   "source": [
    "### 6.2.2 Code Snippets"
   ]
  },
  {
   "cell_type": "markdown",
   "metadata": {},
   "source": [
    "## 6.3 Tool Parameters"
   ]
  },
  {
   "cell_type": "markdown",
   "metadata": {},
   "source": [
    "### 6.3.1 Linear Units\n",
    "### 6.3.2 Python Expressions as Input"
   ]
  },
  {
   "cell_type": "code",
   "execution_count": null,
   "metadata": {
    "collapsed": true
   },
   "outputs": [],
   "source": [
    "data = 'ch06/data/data1.shp'\n",
    "fieldName = 'result'\n",
    "expr = 5\n",
    "arcpy.CalculateField_management(data, fieldName, expr, 'PYTHON')"
   ]
  },
  {
   "cell_type": "code",
   "execution_count": null,
   "metadata": {
    "collapsed": true
   },
   "outputs": [],
   "source": [
    "expr = '2*!measure! - !coverage!'\n",
    "arcpy.CalculateField_management(data, fieldName, expr,'PYTHON')"
   ]
  },
  {
   "cell_type": "code",
   "execution_count": null,
   "metadata": {
    "collapsed": true
   },
   "outputs": [],
   "source": [
    "data = 'ch06/data/special_regions.shp'\n",
    "fieldName = 'PolyArea'\n",
    "expr = '!shape.area!'\n",
    "arcpy.CalculateField_management(data, fieldName, expr,'PYTHON')"
   ]
  },
  {
   "cell_type": "markdown",
   "metadata": {},
   "source": [
    "### 6.3.3 Multivalue Inputs"
   ]
  },
  {
   "cell_type": "code",
   "execution_count": null,
   "metadata": {
    "collapsed": false
   },
   "outputs": [],
   "source": [
    "arcpy.env.workspace = 'ch06/data/'\n",
    "inputFiles = ['park.shp', 'special_regions.shp', 'workzones.shp']\n",
    "arcpy.Merge_management(inputFiles, 'mergedData.shp')"
   ]
  },
  {
   "cell_type": "code",
   "execution_count": null,
   "metadata": {
    "collapsed": false,
    "scrolled": true
   },
   "outputs": [],
   "source": [
    "inputFiles = 'park.shp;special_regions.shp;workzones.shp'\n",
    "arcpy.Merge_management(inputFiles, 'mergedData2.shp')"
   ]
  },
  {
   "cell_type": "code",
   "execution_count": null,
   "metadata": {
    "collapsed": false
   },
   "outputs": [],
   "source": [
    "vt = arcpy.ValueTable()\n",
    "vt.addRow('park.shp')\n",
    "vt.addRow('special_regions.shp')\n",
    "vt.addRow('workzones.shp')\n",
    "arcpy.Merge_management(vt, 'mergedData3.shp')"
   ]
  },
  {
   "cell_type": "code",
   "execution_count": null,
   "metadata": {
    "collapsed": false
   },
   "outputs": [],
   "source": [
    "inputFiles = [['park.shp', 2], ['special_regions.shp', 2],\n",
    "              ['workzones.shp',1]]\n",
    "arcpy.Intersect_analysis(inputFiles, 'intersectData.shp')"
   ]
  },
  {
   "cell_type": "code",
   "execution_count": null,
   "metadata": {
    "collapsed": true
   },
   "outputs": [],
   "source": [
    "arcpy.env.workspace = \"ch06/data/\"\n",
    "vt = arcpy.ValueTable()\n",
    "vt.addRow('park.shp 2')\n",
    "vt.addRow('special_regions.shp 2')\n",
    "vt.addRow('workzones.shp 1')\n",
    "arcpy.Intersect_analysis(vt, 'intersectData.shp')"
   ]
  },
  {
   "cell_type": "markdown",
   "metadata": {},
   "source": [
    "### 6.3.4 Optional Parameters"
   ]
  },
  {
   "cell_type": "code",
   "execution_count": null,
   "metadata": {
    "collapsed": false
   },
   "outputs": [],
   "source": [
    "arcpy.env.workspace = 'ch06/data'\n",
    "arcpy.env.overwriteOutput = True\n",
    "# Use default values for the last 6 args.\n",
    "arcpy.PolygonNeighbors_analysis('park.shp', 'PN.dbf')\n",
    "# Another way to use default values for the last 6 args.\n",
    "arcpy.PolygonNeighbors_analysis('park.shp', 'PN.dbf', '#','#','#', '#','#', '#')"
   ]
  },
  {
   "cell_type": "code",
   "execution_count": null,
   "metadata": {
    "collapsed": false
   },
   "outputs": [],
   "source": [
    "# Use default values for the last 5 parameters.\n",
    "arcpy.PolygonNeighbors_analysis('park.shp', 'PN.dbf', 'COVER')"
   ]
  },
  {
   "cell_type": "code",
   "execution_count": null,
   "metadata": {
    "collapsed": false
   },
   "outputs": [],
   "source": [
    "# Use default value for in_fields,but set the value for area_overlap.\n",
    "arcpy.PolygonNeighbors_analysis('park.shp','PN.dbf','#', 'AREA_OVERLAP')"
   ]
  },
  {
   "cell_type": "markdown",
   "metadata": {},
   "source": [
    "## 6.4 Return Values and Result Objects"
   ]
  },
  {
   "cell_type": "code",
   "execution_count": null,
   "metadata": {
    "collapsed": true
   },
   "outputs": [],
   "source": [
    "pnResult = arcpy.PolygonNeighbors_analysis('park.shp', 'PN.dbf')"
   ]
  },
  {
   "cell_type": "code",
   "execution_count": null,
   "metadata": {
    "collapsed": false
   },
   "outputs": [],
   "source": [
    "type(pnResult)"
   ]
  },
  {
   "cell_type": "code",
   "execution_count": null,
   "metadata": {
    "collapsed": false,
    "scrolled": true
   },
   "outputs": [],
   "source": [
    "print pnResult"
   ]
  },
  {
   "cell_type": "code",
   "execution_count": null,
   "metadata": {
    "collapsed": false
   },
   "outputs": [],
   "source": [
    "pnResult.outputCount"
   ]
  },
  {
   "cell_type": "code",
   "execution_count": null,
   "metadata": {
    "collapsed": false
   },
   "outputs": [],
   "source": [
    "pnResult.getOutput(0)"
   ]
  },
  {
   "cell_type": "code",
   "execution_count": null,
   "metadata": {
    "collapsed": false
   },
   "outputs": [],
   "source": [
    "res = arcpy.Buffer_analysis('park.shp', 'outBuff.shp', '4 miles')\n",
    "print res"
   ]
  },
  {
   "cell_type": "code",
   "execution_count": null,
   "metadata": {
    "collapsed": false
   },
   "outputs": [],
   "source": [
    "resGC = arcpy.GetCount_management('park.shp')\n",
    "print resGC"
   ]
  },
  {
   "cell_type": "code",
   "execution_count": null,
   "metadata": {
    "collapsed": false
   },
   "outputs": [],
   "source": [
    "resGC + 25"
   ]
  },
  {
   "cell_type": "code",
   "execution_count": null,
   "metadata": {
    "collapsed": false
   },
   "outputs": [],
   "source": [
    "count = resGC.getOutput(0)\n",
    "count"
   ]
  },
  {
   "cell_type": "code",
   "execution_count": null,
   "metadata": {
    "collapsed": false,
    "scrolled": false
   },
   "outputs": [],
   "source": [
    "count + 25"
   ]
  },
  {
   "cell_type": "code",
   "execution_count": null,
   "metadata": {
    "collapsed": false
   },
   "outputs": [],
   "source": [
    "int(count) + 25"
   ]
  },
  {
   "cell_type": "markdown",
   "metadata": {},
   "source": [
    "### Example 6.1 avgNearNeighbor.py"
   ]
  },
  {
   "cell_type": "code",
   "execution_count": null,
   "metadata": {
    "collapsed": false
   },
   "outputs": [],
   "source": [
    "# %load ch06/script2/avgNearNeighbor.py\n",
    "# Name: avgNearNeighbor.py\n",
    "# Purpose: Analyze crime data to determine if spatial patterns are\n",
    "#         statistically significant.\n",
    "\n",
    "import arcpy\n",
    "\n",
    "arcpy.env.workspace = 'ch06/data'\n",
    "\n",
    "annResult = arcpy.AverageNearestNeighbor_stats('points.shp', 'Euclidean Distance')\n",
    "\n",
    "print 'Average Nearest Neighbor Output'\n",
    "print 'Nearest neighbor ratio: {0}'.format(annResult.getOutput(0))\n",
    "print 'z-score: {0}'.format(annResult.getOutput(1))\n",
    "print 'p-value: {0}'.format(annResult.getOutput(2))\n",
    "print 'Expected Mean Distance: {0}'.format(annResult.getOutput(3))\n",
    "print 'Observed Mean Distance: {0}'.format(annResult.getOutput(4))\n"
   ]
  },
  {
   "cell_type": "code",
   "execution_count": null,
   "metadata": {
    "collapsed": false
   },
   "outputs": [],
   "source": [
    "%run ch06/script2/avgNearNeighbor.py"
   ]
  },
  {
   "cell_type": "markdown",
   "metadata": {},
   "source": [
    "## 6.5 Spatial Analyst Toolbox"
   ]
  },
  {
   "cell_type": "markdown",
   "metadata": {},
   "source": [
    "### 6.5.1 Calling Spatial Analyst tools"
   ]
  },
  {
   "cell_type": "code",
   "execution_count": null,
   "metadata": {
    "collapsed": false
   },
   "outputs": [],
   "source": [
    "import arcpy\n",
    "arcpy.env.workspace = 'ch06/data'\n",
    "arcpy.env.overwriteOutput = True\n",
    "inRast = 'getty_rast'\n",
    "arcpy.CheckOutExtension('Spatial')\n",
    "outputRast = arcpy.sa.SquareRoot(inRast)"
   ]
  },
  {
   "cell_type": "code",
   "execution_count": null,
   "metadata": {
    "collapsed": false
   },
   "outputs": [],
   "source": [
    "outputRast"
   ]
  },
  {
   "cell_type": "code",
   "execution_count": null,
   "metadata": {
    "collapsed": false
   },
   "outputs": [],
   "source": [
    "outputRast.save()\n",
    "outputRast"
   ]
  },
  {
   "cell_type": "code",
   "execution_count": null,
   "metadata": {
    "collapsed": true
   },
   "outputs": [],
   "source": [
    "outputRast.save('gettySqRoot')"
   ]
  },
  {
   "cell_type": "code",
   "execution_count": null,
   "metadata": {
    "collapsed": false
   },
   "outputs": [],
   "source": [
    "outputRast.save('gettySquareRoot')"
   ]
  },
  {
   "cell_type": "markdown",
   "metadata": {},
   "source": [
    "### 6.5.2 Importing spatial analyst"
   ]
  },
  {
   "cell_type": "code",
   "execution_count": null,
   "metadata": {
    "collapsed": false
   },
   "outputs": [],
   "source": [
    "from arcpy.sa import *"
   ]
  },
  {
   "cell_type": "code",
   "execution_count": null,
   "metadata": {
    "collapsed": true
   },
   "outputs": [],
   "source": [
    "outputRast = arcpy.sa.SquareRoot(inRast)"
   ]
  },
  {
   "cell_type": "code",
   "execution_count": null,
   "metadata": {
    "collapsed": true
   },
   "outputs": [],
   "source": [
    "outputRast = SquareRoot(inRast)"
   ]
  },
  {
   "cell_type": "code",
   "execution_count": null,
   "metadata": {
    "collapsed": true
   },
   "outputs": [],
   "source": [
    "outputRast = Int(inRast)"
   ]
  },
  {
   "cell_type": "code",
   "execution_count": null,
   "metadata": {
    "collapsed": false
   },
   "outputs": [],
   "source": [
    "outputNum = int(myNum)"
   ]
  },
  {
   "cell_type": "markdown",
   "metadata": {},
   "source": [
    "### 6.5.3 Raster Calculator"
   ]
  },
  {
   "cell_type": "markdown",
   "metadata": {},
   "source": [
    "### Example 6.2 computeRastEquation.py"
   ]
  },
  {
   "cell_type": "code",
   "execution_count": null,
   "metadata": {
    "collapsed": true
   },
   "outputs": [],
   "source": [
    "# %load ch06/script2/computeRastEquation.py\n",
    "# computeRastEquation.py\n",
    "# Purpose: Calculate 5 * 'getty_rast' - 2\n",
    "\n",
    "import arcpy\n",
    "\n",
    "arcpy.env.overwriteOutput = True\n",
    "arcpy.env.workspace = 'ch06/data/rastSmall.gdb'\n",
    "arcpy.CheckOutExtension('Spatial')\n",
    "\n",
    "outRast1 = arcpy.sa.Times(5, 'dataRast')\n",
    "outRast2 = arcpy.sa.Minus(outRast1, 2)\n",
    "outRast2.save('equationRast')\n",
    "\n",
    "print 'Output raster written in {0}'.format(arcpy.env.workspace)\n",
    "del outRast1, outRast2\n"
   ]
  },
  {
   "cell_type": "code",
   "execution_count": null,
   "metadata": {
    "collapsed": false,
    "scrolled": true
   },
   "outputs": [],
   "source": [
    "%run ch06/script2/computeRastEquation.py"
   ]
  },
  {
   "cell_type": "code",
   "execution_count": null,
   "metadata": {
    "collapsed": false
   },
   "outputs": [],
   "source": [
    "rastObj = arcpy.Raster('dataRast')\n",
    "outRast = 5*rastObj - 2\n",
    "outRast.save('equationRast2')\n",
    "del outRast"
   ]
  },
  {
   "cell_type": "code",
   "execution_count": null,
   "metadata": {
    "collapsed": false
   },
   "outputs": [],
   "source": [
    "r1 = arcpy.Raster('out1')\n",
    "r2 = arcpy.Raster('out2')\n",
    "r3 = arcpy.Raster('out3')\n",
    "outRast = (5*r1*r2*r3)/2\n",
    "outRast.save('output')\n",
    "del outRast"
   ]
  },
  {
   "cell_type": "markdown",
   "metadata": {},
   "source": [
    "## 6.6 Temporary Feature Layers"
   ]
  },
  {
   "cell_type": "code",
   "execution_count": 32,
   "metadata": {
    "collapsed": false,
    "scrolled": false
   },
   "outputs": [
    {
     "data": {
      "text/plain": [
       "<Result 'tmpLayer'>"
      ]
     },
     "execution_count": 32,
     "metadata": {},
     "output_type": "execute_result"
    }
   ],
   "source": [
    "import arcpy, os\n",
    "arcpy.env.overwriteOutput = True\n",
    "myData = './ch06/data/xyData.csv' # xyData.txt doesn't work (why?)\n",
    "arcpy.MakeXYEventLayer_management(myData, 'x', 'y', 'tmpLayer')"
   ]
  },
  {
   "cell_type": "code",
   "execution_count": 33,
   "metadata": {
    "collapsed": false
   },
   "outputs": [
    {
     "data": {
      "text/plain": [
       "u'8'"
      ]
     },
     "execution_count": 33,
     "metadata": {},
     "output_type": "execute_result"
    }
   ],
   "source": [
    "countRes = arcpy.GetCount_management('tmpLayer')\n",
    "countRes.getOutput(0)"
   ]
  },
  {
   "cell_type": "code",
   "execution_count": 39,
   "metadata": {
    "collapsed": false,
    "scrolled": false
   },
   "outputs": [
    {
     "data": {
      "text/plain": [
       "<Result '.\\\\ch06\\\\scratch\\\\bufferflies.shp'>"
      ]
     },
     "execution_count": 39,
     "metadata": {},
     "output_type": "execute_result"
    }
   ],
   "source": [
    "arcpy.CopyFeatures_management('tmpLayer', './ch06/scratch/bufferflies.shp')"
   ]
  },
  {
   "cell_type": "markdown",
   "metadata": {},
   "source": [
    "## 6.7 Using Variables for Multiple Tool Calls"
   ]
  },
  {
   "cell_type": "code",
   "execution_count": null,
   "metadata": {
    "collapsed": false
   },
   "outputs": [],
   "source": [
    "fireDamage = 'special_regions.shp'\n",
    "fireBuffer = fireDamage[:-4] + 'Buffer.shp'\n",
    "fireBuffer"
   ]
  },
  {
   "cell_type": "markdown",
   "metadata": {},
   "source": [
    "### Example 6.3 buffer_clip.py"
   ]
  },
  {
   "cell_type": "code",
   "execution_count": null,
   "metadata": {
    "collapsed": false
   },
   "outputs": [],
   "source": [
    "# %load ch06/script2/buffer_clip.py\n",
    "# buffer_clip.py (hard-coded version)\n",
    "# Purpose: Buffer a zone and use it to clip another file\n",
    "# Input: No arguments needed.\n",
    "\n",
    "import arcpy\n",
    "arcpy.env.overwriteOutput = True\n",
    "arcpy.env.workspace = 'ch06/data'\n",
    "\n",
    "outDir = 'ch06/scratch'\n",
    "\n",
    "# Set buffer params\n",
    "fireDamage = 'special_regions.shp'\n",
    "fireBuffer = outDir + fireDamage[:-4] + 'Buffer.shp'\n",
    "bufferDist = '1 mile'\n",
    "\n",
    "# Set clip params\n",
    "park = 'park.shp'\n",
    "clipOutput = outDir + park[:-4] + 'DamageBuffer.shp'\n",
    "\n",
    "arcpy.Buffer_analysis(fireDamage, fireBuffer, bufferDist)\n",
    "print '{0} created.'.format(fireBuffer)\n",
    "arcpy.Clip_analysis(park, fireBuffer, clipOutput)\n",
    "print '{0} created.'.format(clipOutput)\n"
   ]
  },
  {
   "cell_type": "code",
   "execution_count": 41,
   "metadata": {
    "collapsed": false,
    "scrolled": true
   },
   "outputs": [
    {
     "name": "stdout",
     "output_type": "stream",
     "text": [
      "ch06/scratchspecial_regionsBuffer.shp created.\n",
      "ch06/scratchparkDamageBuffer.shp created.\n"
     ]
    }
   ],
   "source": [
    "%run ch06/script2/buffer_clip.py"
   ]
  },
  {
   "cell_type": "markdown",
   "metadata": {},
   "source": [
    "## Example 6.4 addLengthField.py"
   ]
  },
  {
   "cell_type": "code",
   "execution_count": null,
   "metadata": {
    "collapsed": false
   },
   "outputs": [],
   "source": [
    "# %load ch06/script2/addLengthField.py\n",
    "# addLengthField.py\n",
    "# Purpose: Add a field containing polygon lengths to the shapefile.\n",
    "# Usage: No arguments needed.\n",
    "import arcpy\n",
    "arcpy.env.workspace = 'ch06/data'\n",
    "\n",
    "inputFile = 'special_regions.shp'\n",
    "fieldName = 'Length'\n",
    "arcpy.AddField_management(inputFile, fieldName, 'FLOAT')\n",
    "arcpy.CalculateField_management(inputFile, fieldName, '!shape.length!', 'PYTHON')\n"
   ]
  },
  {
   "cell_type": "code",
   "execution_count": null,
   "metadata": {
    "collapsed": false
   },
   "outputs": [
    {
     "name": "stdout",
     "output_type": "stream",
     "text": [
      "done!\n"
     ]
    }
   ],
   "source": [
    "%run ch06/script2/addLengthField.py"
   ]
  },
  {
   "cell_type": "markdown",
   "metadata": {},
   "source": [
    "## 6.8 Calling Custom Tools"
   ]
  },
  {
   "cell_type": "markdown",
   "metadata": {},
   "source": [
    "### Example 6.5 callInventory.py"
   ]
  },
  {
   "cell_type": "code",
   "execution_count": null,
   "metadata": {
    "collapsed": true
   },
   "outputs": [],
   "source": [
    "# %load ch06/script2/callInventory.py\n",
    "# callInventory.py\n",
    "# Purpose: Call the inventory tool.\n",
    "import arcpy\n",
    "\n",
    "arcpy.env.workspace = 'ch06/scratch'\n",
    "inputDir = \"ch06/data\"\n",
    "summary = 'summaryFile.txt'\n",
    "arcpy.ImportToolbox('ch06/customTools.tbx')\n",
    "arcpy.Inventory_custom(inputDir, 'SUMMARY_ONLY', summary)\n",
    "print 'Summary text {0} created in {1}'.format(summary, inputDir)\n"
   ]
  },
  {
   "cell_type": "code",
   "execution_count": null,
   "metadata": {
    "collapsed": false
   },
   "outputs": [
    {
     "name": "stdout",
     "output_type": "stream",
     "text": [
      "Summary text summaryFile.txt created in ch06/data\n"
     ]
    }
   ],
   "source": [
    "%run ch06/script2/callInventory.py"
   ]
  },
  {
   "cell_type": "markdown",
   "metadata": {},
   "source": [
    "## 6.9 A Word About Old Scripts"
   ]
  },
  {
   "cell_type": "markdown",
   "metadata": {},
   "source": [
    "## 6.10 Discussion"
   ]
  },
  {
   "cell_type": "markdown",
   "metadata": {},
   "source": [
    "## 6.11 Key Terms\n",
    "## 6.12 Exercises"
   ]
  },
  {
   "cell_type": "code",
   "execution_count": null,
   "metadata": {
    "collapsed": true
   },
   "outputs": [],
   "source": []
  }
 ],
 "metadata": {
  "kernelspec": {
   "display_name": "Python 2",
   "language": "python",
   "name": "python2"
  },
  "language_info": {
   "codemirror_mode": {
    "name": "ipython",
    "version": 2
   },
   "file_extension": ".py",
   "mimetype": "text/x-python",
   "name": "python",
   "nbconvert_exporter": "python",
   "pygments_lexer": "ipython2",
   "version": "2.7.2"
  }
 },
 "nbformat": 4,
 "nbformat_minor": 1
}
