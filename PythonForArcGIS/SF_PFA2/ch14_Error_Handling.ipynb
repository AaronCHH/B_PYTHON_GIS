{
 "cells": [
  {
   "cell_type": "markdown",
   "metadata": {},
   "source": [
    "# 14 Error Handling"
   ]
  },
  {
   "cell_type": "markdown",
   "metadata": {},
   "source": [
    "### multRast.py"
   ]
  },
  {
   "cell_type": "code",
   "execution_count": null,
   "metadata": {
    "collapsed": true
   },
   "outputs": [],
   "source": [
    "# %load ch14/script2/multRasts.py\n",
    "# multRast.py\n",
    "# Purpose: Multiply each raster in a database by an input factor.\n",
    "# Usage: numeric_value\n",
    "# Example input: 5\n",
    "import arcpy, sys\n",
    "\n",
    "# Set multiplication factor\n",
    "factor = float(sys.argv[1])\n",
    "\n",
    "arcpy.env.overwriteOutput = True\n",
    "arcpy.env.worspace = 'C:/gispy/data/ch14/rastTester.gdb'\n",
    "arcpy.CheckOutExtension('Spatial')\n",
    "outDir = 'C:/gispy/scratch/'\n",
    "\n",
    "# Get raster list & multiply each by a factor\n",
    "rasterList = arcpy.ListRasters()\n",
    "for rasterImage in rasterList:\n",
    "    rasterObj = arcpy.Raster(rasterImage)\n",
    "    rastMult = rasterObj * factor\n",
    "    rastMult.save(outDir + rasterImage)\n",
    "    del rastMult\n"
   ]
  },
  {
   "cell_type": "markdown",
   "metadata": {},
   "source": [
    "## 14.1 try/except Structures"
   ]
  },
  {
   "cell_type": "markdown",
   "metadata": {},
   "source": [
    "### doubleMyNumber.py"
   ]
  },
  {
   "cell_type": "code",
   "execution_count": null,
   "metadata": {
    "collapsed": true
   },
   "outputs": [],
   "source": [
    "# %load ch14/script2/doubleMyNumber.py\n",
    "# doubleMyNumber.py\n",
    "# Purpose: Multiply input by 2.\n",
    "# Usage: numeric_value\n",
    "# Example input: 5\n",
    "import sys\n",
    "\n",
    "try:\n",
    "    number = float(sys.argv[1])\n",
    "    product = 2*number\n",
    "    print 'The doubled number is {0}'.format(product)\n",
    "except:\n",
    "    print 'An error occurred.'\n",
    "    print 'Please enter a numerical argument.'\n",
    "\n",
    "print 'Good bye!'\n"
   ]
  },
  {
   "cell_type": "markdown",
   "metadata": {},
   "source": [
    "### 14.1.1 Using Named Exceptions"
   ]
  },
  {
   "cell_type": "markdown",
   "metadata": {},
   "source": [
    "### doubleMyNumberV2.py"
   ]
  },
  {
   "cell_type": "code",
   "execution_count": null,
   "metadata": {
    "collapsed": true
   },
   "outputs": [],
   "source": [
    "# %load ch14/script2/doubleMyNumberV2.py\n",
    "# doubleMyNumberV2.py\n",
    "# Purpose: Multiply input by 2\n",
    "#          or catch value error.\n",
    "# Usage: numeric_value\n",
    "# Example input: 5\n",
    "import sys\n",
    "\n",
    "try:\n",
    "    number = float(sys.argv[1])\n",
    "    product = 2*number\n",
    "    print 'The doubled number is {0}'.format(product)\n",
    "except ValueError:\n",
    "    print 'Input must be numerical.'\n",
    "print 'Good bye!'\n"
   ]
  },
  {
   "cell_type": "markdown",
   "metadata": {},
   "source": [
    "### 14.1.2 Multiple except Blocks"
   ]
  },
  {
   "cell_type": "markdown",
   "metadata": {},
   "source": [
    "### slopeTry.py"
   ]
  },
  {
   "cell_type": "code",
   "execution_count": null,
   "metadata": {
    "collapsed": true
   },
   "outputs": [],
   "source": [
    "# %load ch14/script2/slopeTry.py\n",
    "# slopeTry.py\n",
    "# Purpose: Find the slope, given rise and run.\n",
    "# Usage: slope_rise slope_run\n",
    "# Example input: 1 3\n",
    "import sys\n",
    "\n",
    "rise = sys.argv[1]\n",
    "run = sys.argv[2]\n",
    "\n",
    "try:\n",
    "    print 'Rise: {0} Run: {1}'.format(rise, run)\n",
    "    slope = float(rise)/float(run)\n",
    "    print 'Slope = rise/run'\n",
    "except ZeroDivisionError:\n",
    "    slope = 'Undefined (line is vertical)'\n",
    "except ValueError:\n",
    "    print 'Usage: <numeric rise> <numeric run>'\n",
    "    slope = 'Not found'\n",
    "\n",
    "print 'Slope:', slope\n"
   ]
  },
  {
   "cell_type": "markdown",
   "metadata": {},
   "source": [
    "### 14.1.3 Error Handling Gotcha"
   ]
  },
  {
   "cell_type": "markdown",
   "metadata": {},
   "source": [
    "### cubeMyNumber.py"
   ]
  },
  {
   "cell_type": "code",
   "execution_count": null,
   "metadata": {
    "collapsed": true
   },
   "outputs": [],
   "source": [
    "# %load ch14/script2/cubeMyNumber.py\n",
    "# cubeMyNumber.py\n",
    "# Purpose: Cube input value.\n",
    "# Usage: numeric_value\n",
    "# Example input: 5\n",
    "import sys\n",
    "try:\n",
    "    number = float(sys.argv[1])\n",
    "    cube = number**3\n",
    "    print 'The cubed number is {0}'.format()  # missing arg\n",
    "except:\n",
    "    print 'Input must be numerical.'\n",
    "print 'Good bye!'\n"
   ]
  },
  {
   "cell_type": "markdown",
   "metadata": {},
   "source": [
    "### cubeMyNumberV2.py"
   ]
  },
  {
   "cell_type": "code",
   "execution_count": null,
   "metadata": {
    "collapsed": true
   },
   "outputs": [],
   "source": [
    "# %load ch14/script2/cubeMyNumberV2.py\n",
    "# cubeMyNumberV2.py\n",
    "# Purpose: Cube input value\n",
    "#   or print traceback message.\n",
    "# Usage: numeric_value\n",
    "# Example input: 5\n",
    "import sys, traceback\n",
    "try:\n",
    "    number = float(sys.argv[1])\n",
    "    cube = number**3\n",
    "    print 'The cubed number is {0}'.format()  # missing arg\n",
    "except:\n",
    "    print 'Input must be numerical.'\n",
    "    traceback.print_exc()\n",
    "print 'Good bye!'\n"
   ]
  },
  {
   "cell_type": "markdown",
   "metadata": {},
   "source": [
    "## 14.2 Geoprocessing and Error Handling"
   ]
  },
  {
   "cell_type": "markdown",
   "metadata": {},
   "source": [
    "### 14.2.1 Getting Geoprocessing Messages"
   ]
  },
  {
   "cell_type": "code",
   "execution_count": 11,
   "metadata": {
    "collapsed": false
   },
   "outputs": [
    {
     "data": {
      "text/plain": [
       "u'Executing: Buffer ch14/data/parkLines.shp ch14\\\\scratch\\\\buffer.shp \"1 Miles\" FULL ROUND NONE #\\nStart Time: Fri Nov 25 00:34:00 2016\\nFailed to execute. Parameters are not valid.\\nERROR 000725: Output Feature Class: Dataset ch14\\\\scratch\\\\buffer.shp already exists.\\nFailed to execute (Buffer).\\nFailed at Fri Nov 25 00:34:00 2016 (Elapsed Time: 0.00 seconds)'"
      ]
     },
     "execution_count": 11,
     "metadata": {},
     "output_type": "execute_result"
    }
   ],
   "source": [
    "import arcpy\n",
    "arcpy.env.overwriteOutput = True\n",
    "arcpy.GetMessages()"
   ]
  },
  {
   "cell_type": "code",
   "execution_count": 12,
   "metadata": {
    "collapsed": false,
    "scrolled": true
   },
   "outputs": [
    {
     "name": "stdout",
     "output_type": "stream",
     "text": [
      "Executing: GetCount ch14/data/cover.shp\n",
      "Start Time: Fri Nov 25 00:34:28 2016\n",
      "Row Count = 426\n",
      "Succeeded at Fri Nov 25 00:34:28 2016 (Elapsed Time: 0.00 seconds)\n"
     ]
    }
   ],
   "source": [
    "inputFile = 'ch14/data/cover.shp'\n",
    "count = arcpy.GetCount_management(inputFile)\n",
    "print arcpy.GetMessages()"
   ]
  },
  {
   "cell_type": "code",
   "execution_count": 13,
   "metadata": {
    "collapsed": false
   },
   "outputs": [
    {
     "name": "stdout",
     "output_type": "stream",
     "text": [
      "Executing: Buffer ch14/data/parkLines.shp ch14\\scratch\\buffer.shp \"1 Miles\" FULL ROUND NONE #\n",
      "Start Time: Fri Nov 25 00:34:28 2016\n",
      "Succeeded at Fri Nov 25 00:34:28 2016 (Elapsed Time: 0.00 seconds)\n"
     ]
    }
   ],
   "source": [
    "inputFile = 'ch14/data/parkLines.shp'\n",
    "outputFile = 'ch14/scratch/buffer.shp'\n",
    "arcpy.Buffer_analysis(inputFile, outputFile, '1 mile')\n",
    "print arcpy.GetMessages()"
   ]
  },
  {
   "cell_type": "code",
   "execution_count": 15,
   "metadata": {
    "collapsed": false
   },
   "outputs": [
    {
     "name": "stdout",
     "output_type": "stream",
     "text": [
      "Executing: Buffer ch14/data/parkLines.shp ch14\\scratch\\buffer.shp \"1 Miles\" FULL ROUND NONE #\n"
     ]
    }
   ],
   "source": [
    "print arcpy.GetMessage(0)"
   ]
  },
  {
   "cell_type": "code",
   "execution_count": 16,
   "metadata": {
    "collapsed": false,
    "scrolled": true
   },
   "outputs": [
    {
     "data": {
      "text/plain": [
       "3"
      ]
     },
     "execution_count": 16,
     "metadata": {},
     "output_type": "execute_result"
    }
   ],
   "source": [
    "arcpy.GetMessageCount()"
   ]
  },
  {
   "cell_type": "code",
   "execution_count": 17,
   "metadata": {
    "collapsed": false
   },
   "outputs": [
    {
     "name": "stdout",
     "output_type": "stream",
     "text": [
      "Succeeded at Fri Nov 25 00:34:28 2016 (Elapsed Time: 0.00 seconds)\n"
     ]
    }
   ],
   "source": [
    "print arcpy.GetMessage(arcpy.GetMessageCount() - 1)"
   ]
  },
  {
   "cell_type": "code",
   "execution_count": null,
   "metadata": {
    "collapsed": false,
    "scrolled": false
   },
   "outputs": [],
   "source": [
    "count = arcpy.GetCount_management()"
   ]
  },
  {
   "cell_type": "code",
   "execution_count": 20,
   "metadata": {
    "collapsed": false
   },
   "outputs": [
    {
     "name": "stdout",
     "output_type": "stream",
     "text": [
      "Executing: GetCount #\n",
      "Start Time: Fri Nov 25 00:35:02 2016\n",
      "Failed to execute. Parameters are not valid.\n",
      "ERROR 000735: Input Rows: Value is required\n",
      "Failed to execute (GetCount).\n",
      "Failed at Fri Nov 25 00:35:02 2016 (Elapsed Time: 0.00 seconds)\n"
     ]
    }
   ],
   "source": [
    "print arcpy.GetMessages()"
   ]
  },
  {
   "cell_type": "markdown",
   "metadata": {},
   "source": [
    "### 14.2.2 The arcpy Named Exception"
   ]
  },
  {
   "cell_type": "markdown",
   "metadata": {},
   "source": [
    "### Example 14.1 bufferTry.py"
   ]
  },
  {
   "cell_type": "code",
   "execution_count": null,
   "metadata": {
    "collapsed": true
   },
   "outputs": [],
   "source": [
    "# %load ch14/script2/bufferTry.py\n",
    "# bufferTry.py\n",
    "# Purpose: Buffer the input dataset.\n",
    "# Usage: Fullpath_filename outDir\n",
    "# Example input: C:/gispy/data/ch14/parkLines.shp outputWorkspace\n",
    "import arcpy, sys, os\n",
    "arcpy.env.overwriteOutput = True\n",
    "try:\n",
    "    inFile = sys.argv[1]\n",
    "    outDir = sys.argv[2]\n",
    "    buffer = outDir + '/' + os.path.splitext(inFile)[0] + 'Buff.shp'\n",
    "    arcpy.Buffer_analysis(inFile, buffer, '1 mile')\n",
    "    print '{0} created.'.format(buffer)\n",
    "except arcpy.ExecuteError:\n",
    "    print arcpy.GetMessages()\n",
    "except IndexError:\n",
    "    print 'Usage: <full path shapefile name>'\n"
   ]
  },
  {
   "cell_type": "markdown",
   "metadata": {},
   "source": [
    "## 14.3 Catching Exceptions in Loops"
   ]
  },
  {
   "cell_type": "markdown",
   "metadata": {},
   "source": [
    "### Example 14.2 bufferLoopTry.py"
   ]
  },
  {
   "cell_type": "code",
   "execution_count": null,
   "metadata": {
    "collapsed": true
   },
   "outputs": [],
   "source": [
    "# %load ch14/script2/buffeLoopTry.py\n",
    "# bufferLoopTry.py\n",
    "# Purpose: Buffer the feature classes in a workspace.\n",
    "# Usage: No arguments needed.\n",
    "import arcpy, os\n",
    "arcpy.env.overwriteOutput = True\n",
    "arcpy.env.workspace = 'ch14/data'\n",
    "outDir = 'ch14/scratch/'\n",
    "fcs = arcpy.ListFeatureClasses()\n",
    "distance = '500 meters'\n",
    "\n",
    "for fc in fcs:\n",
    "    outFile = outDir + os.path.splitext(fc)[0] + 'Buff.shp'\n",
    "    try:\n",
    "        arcpy.Buffer_analysis(fc, outFile, distance)\n",
    "        print 'Created: {0}'.format(outFile)\n",
    "    except arcpy.ExecuteError:\n",
    "        print arcpy.GetMessage(2)\n"
   ]
  },
  {
   "cell_type": "code",
   "execution_count": 25,
   "metadata": {
    "collapsed": false,
    "scrolled": true
   },
   "outputs": [
    {
     "name": "stdout",
     "output_type": "stream",
     "text": [
      "Created: ch14/scratch/bufferBuff.shp\n",
      "Created: ch14/scratch/coverBuff.shp\n",
      "ERROR 000229: Cannot open ch14/data\\dummyFile.shp\n",
      "Created: ch14/scratch/firesBuff.shp\n",
      "Created: ch14/scratch/no_damageBuff.shp\n",
      "Created: ch14/scratch/parkLinesBuff.shp\n"
     ]
    }
   ],
   "source": [
    "%run ch14/script2/buffeLoopTry.py"
   ]
  },
  {
   "cell_type": "markdown",
   "metadata": {},
   "source": [
    "### Example 14.3 bufferLoopDistTry.py"
   ]
  },
  {
   "cell_type": "code",
   "execution_count": null,
   "metadata": {
    "collapsed": false
   },
   "outputs": [],
   "source": [
    "# %load ch14/script2/bufferLoopDistTry.py\n",
    "# bufferLoopDistTry.py\n",
    "# Purpose: Buffer the input file by the given distance.\n",
    "# Usage: input_filename numeric_distance (using the default unit of measure)\n",
    "# Example input: C:/gispy/data/ch14/cover.shp 3\n",
    "\n",
    "import arcpy, sys, os\n",
    "arcpy.env.workspace = os.path.dirname(sys.argv[1])\n",
    "fc = os.path.basename(sys.argv[1])\n",
    "outDir = 'ch14/scratch/'\n",
    "arcpy.env.overwriteOutput = False\n",
    "maxDist = float(sys.argv[2])\n",
    "i = 1\n",
    "while i <= maxDist:\n",
    "    try:\n",
    "        outFile = outDir + os.path.splitext(fc)[0] + str(i) + 'Buff.shp'\n",
    "        distance = str(i) + ' miles'\n",
    "        arcpy.Buffer_analysis(fc, outFile, distance)\n",
    "        print 'Created: ', outFile\n",
    "    except arcpy.ExecuteError:\n",
    "        print arcpy.GetMessage(3)\n",
    "    i = i + 1\n"
   ]
  },
  {
   "cell_type": "code",
   "execution_count": 29,
   "metadata": {
    "collapsed": false
   },
   "outputs": [
    {
     "name": "stdout",
     "output_type": "stream",
     "text": [
      "ERROR 000725: Output Feature Class: Dataset ch14\\scratch\\cover1Buff.shp already exists.\n",
      "ERROR 000725: Output Feature Class: Dataset ch14\\scratch\\cover2Buff.shp already exists.\n",
      "ERROR 000725: Output Feature Class: Dataset ch14\\scratch\\cover3Buff.shp already exists.\n"
     ]
    }
   ],
   "source": [
    "%run ch14/script2/bufferLoopDistTry.py ch14/data/cover.shp 3"
   ]
  },
  {
   "cell_type": "markdown",
   "metadata": {},
   "source": [
    "## 14.4 Discussion"
   ]
  },
  {
   "cell_type": "code",
   "execution_count": null,
   "metadata": {
    "collapsed": true
   },
   "outputs": [],
   "source": [
    "import sys, arcpy\n",
    "if len(sys.argv) > 1:\n",
    "    arcpy.env.workspace = sys.argv[1]\n",
    "else:\n",
    "    arcpy.env.workspace = 'C:/gispy/data/ch14'\n",
    "for rast in arcpy.ListRasters():\n",
    "    print rast"
   ]
  },
  {
   "cell_type": "code",
   "execution_count": null,
   "metadata": {
    "collapsed": true
   },
   "outputs": [],
   "source": [
    "import sys, arcpy\n",
    "try:\n",
    "    arcpy.env.workspace = sys.argv[1]\n",
    "except IndexError:\n",
    "    arcpy.env.workspace='C:/gispy/data/ch14'\n",
    "for rast in arcpy.ListRasters():\n",
    "    print rast"
   ]
  },
  {
   "cell_type": "code",
   "execution_count": null,
   "metadata": {
    "collapsed": true
   },
   "outputs": [],
   "source": [
    "import sys, arcpy\n",
    "try:\n",
    "    arcpy.env.workspace = sys.argv[1]\n",
    "except IndexError:\n",
    "    print 'Usage: <input workspace>'\n",
    "sys.exit(0)\n",
    "for rast in arcpy.ListRasters():\n",
    "    printrast"
   ]
  },
  {
   "cell_type": "markdown",
   "metadata": {},
   "source": [
    "## 14.5 Key Terms"
   ]
  },
  {
   "cell_type": "markdown",
   "metadata": {},
   "source": [
    "## 14.6 Exercises"
   ]
  }
 ],
 "metadata": {
  "kernelspec": {
   "display_name": "Python 2",
   "language": "python",
   "name": "python2"
  },
  "language_info": {
   "codemirror_mode": {
    "name": "ipython",
    "version": 2
   },
   "file_extension": ".py",
   "mimetype": "text/x-python",
   "name": "python",
   "nbconvert_exporter": "python",
   "pygments_lexer": "ipython2",
   "version": "2.7.2"
  }
 },
 "nbformat": 4,
 "nbformat_minor": 1
}
