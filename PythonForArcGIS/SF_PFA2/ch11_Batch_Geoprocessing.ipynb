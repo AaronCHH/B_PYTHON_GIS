{
 "cells": [
  {
   "cell_type": "markdown",
   "metadata": {},
   "source": [
    "# 11 Batch Geoprocessing "
   ]
  },
  {
   "cell_type": "markdown",
   "metadata": {},
   "source": [
    "## 11.1 List GIS Data "
   ]
  },
  {
   "cell_type": "code",
   "execution_count": 3,
   "metadata": {
    "collapsed": false,
    "scrolled": true
   },
   "outputs": [
    {
     "data": {
      "text/plain": [
       "[u'data1.shp',\n",
       " u'data1Buffer.shp',\n",
       " u'park.shp',\n",
       " u'parkBuffer.shp',\n",
       " u'USA.shp',\n",
       " u'USABuffer.shp']"
      ]
     },
     "execution_count": 3,
     "metadata": {},
     "output_type": "execute_result"
    }
   ],
   "source": [
    "import arcpy\n",
    "arcpy.env.workspace = 'ch11/data'\n",
    "# The ListFeatureClasses method returns a Python list of strings.\n",
    "fcs = arcpy.ListFeatureClasses()\n",
    "fcs"
   ]
  },
  {
   "cell_type": "code",
   "execution_count": 4,
   "metadata": {
    "collapsed": false
   },
   "outputs": [
    {
     "data": {
      "text/plain": [
       "u'data1.shp'"
      ]
     },
     "execution_count": 4,
     "metadata": {},
     "output_type": "execute_result"
    }
   ],
   "source": [
    "fcs[0]"
   ]
  },
  {
   "cell_type": "code",
   "execution_count": 5,
   "metadata": {
    "collapsed": false
   },
   "outputs": [
    {
     "data": {
      "text/plain": [
       "unicode"
      ]
     },
     "execution_count": 5,
     "metadata": {},
     "output_type": "execute_result"
    }
   ],
   "source": [
    "type(fcs[0])"
   ]
  },
  {
   "cell_type": "code",
   "execution_count": 6,
   "metadata": {
    "collapsed": false
   },
   "outputs": [
    {
     "name": "stdout",
     "output_type": "stream",
     "text": [
      "data1.shp\n",
      "data1Buffer.shp\n",
      "park.shp\n",
      "parkBuffer.shp\n",
      "USA.shp\n",
      "USABuffer.shp\n"
     ]
    }
   ],
   "source": [
    "for fc in fcs:\n",
    "    print fc"
   ]
  },
  {
   "cell_type": "markdown",
   "metadata": {},
   "source": [
    "### Example 11.1: Call anarcpy listing method and loop through the results"
   ]
  },
  {
   "cell_type": "code",
   "execution_count": null,
   "metadata": {
    "collapsed": true
   },
   "outputs": [],
   "source": [
    "# %load ch11/script2/listStuff.py\n",
    "# listStuff.py\n",
    "# Purpose: Use arcpy to list workspaces and tables.\n",
    "import arcpy\n",
    "\n",
    "arcpy.env.workspace = 'ch11/data'\n",
    "\n",
    "print '---Workspaces---'\n",
    "workspaces = arcpy.ListWorkspaces()\n",
    "for wspace in workspaces:\n",
    "    print wspace\n",
    "\n",
    "print '\\n---Tables---'\n",
    "\n",
    "tables = arcpy.ListTables()\n",
    "for table in tables:\n",
    "    print table\n"
   ]
  },
  {
   "cell_type": "code",
   "execution_count": 9,
   "metadata": {
    "collapsed": false
   },
   "outputs": [
    {
     "name": "stdout",
     "output_type": "stream",
     "text": [
      "---Workspaces---\n",
      "ch11/data\\pics\n",
      "ch11/data\\rastTester.gdb\n",
      "ch11/data\\tester.gdb\n",
      "ch11/data\\trains\n",
      "\n",
      "---Tables---\n",
      "䥍啎当䅒⹓乂d\n",
      "䥍啎当䅒⹓呓aᒨ缈ᒨ繸ᒨ纈ᒨ纨ᒨ¸\n",
      "䥍啎当䅒⹓䅖tᒨ耈ᒨ缈ᒨ缘ᒨ纈ᒨ¨\n",
      "coords.csv\n",
      "loveLetter.txt\n",
      "xy1.txt\n",
      "xy_current.txt\n",
      "summary.dbf\n"
     ]
    }
   ],
   "source": [
    "%run ch11/script2/listStuff.py"
   ]
  },
  {
   "cell_type": "markdown",
   "metadata": {},
   "source": [
    "## 11.2 Specify Data Name and Type"
   ]
  },
  {
   "cell_type": "markdown",
   "metadata": {},
   "source": [
    "### Example 11.2a–c: List rasters in workspace and usewild_card arguments"
   ]
  },
  {
   "cell_type": "code",
   "execution_count": null,
   "metadata": {
    "collapsed": true
   },
   "outputs": [],
   "source": [
    "# %load ch11/script2/wildcards.py\n",
    "# wildcards.py\n",
    "# Purpose: Use a wildcard to selectively list files.\n",
    "\n",
    "import arcpy\n",
    "arcpy.env.workspace = 'ch11/data/rastTester.gdb'\n",
    "\n",
    "# a. Use '*' or empty parentheses to list ALL the rasters in the workspace.\n",
    "rasts = arcpy.ListRasters('*')\n",
    "print 'a. All the rasters:'\n",
    "print rasts\n",
    "print\n",
    "\n",
    "# b. List the rasters whose names START with 'elev'.\n",
    "rasts = arcpy.ListRasters('elev*')\n",
    "print 'b. elev* rasters:'\n",
    "print rasts\n",
    "print\n",
    "\n",
    "# c. List a raster whose name is exactly 'elev'.\n",
    "rasts = arcpy.ListRasters('elev')\n",
    "print 'c. elev raster:'\n",
    "print rasts\n"
   ]
  },
  {
   "cell_type": "code",
   "execution_count": 12,
   "metadata": {
    "collapsed": false
   },
   "outputs": [
    {
     "name": "stdout",
     "output_type": "stream",
     "text": [
      "a. All the rasters:\n",
      "[u'elev', u'landcov', u'soilsid', u'getty_cover', u'landc197', u'landuse', u'aspect', u'soils_kf', u'plus_ras', u'CoverMinus', u'elev_srt', u'elev_sh', u'elev_ned', u'Int_rand1', u'Int_rand2', u'landc196', u'TimesCOVER']\n",
      "\n",
      "b. elev* rasters:\n",
      "[u'elev', u'elev_srt', u'elev_sh', u'elev_ned']\n",
      "\n",
      "c. elev raster:\n",
      "[u'elev']\n"
     ]
    }
   ],
   "source": [
    "%run ch11/script2/wildcards.py"
   ]
  },
  {
   "cell_type": "markdown",
   "metadata": {},
   "source": [
    "### Example 11.3a–e: List rasters in workspace using wild_card and raster_type arguments"
   ]
  },
  {
   "cell_type": "code",
   "execution_count": null,
   "metadata": {
    "collapsed": true
   },
   "outputs": [],
   "source": [
    "# %load ch11/script2/rasterTypes.py\n",
    "# rasterTypes.py\n",
    "# Purpose: Use a wildcard to selectively list files.\n",
    "import arcpy\n",
    "arcpy.env.workspace = 'ch11/data'\n",
    "\n",
    "# a. Use empty parenthesis to list ALL the rasters in the current workspace.\n",
    "rasts = arcpy.ListRasters()\n",
    "print 'a. All the rasters:'\n",
    "print rasts\n",
    "print\n",
    "\n",
    "# b. List ALL the GIF type rasters.\n",
    "rasts = arcpy.ListRasters('*', 'GIF')\n",
    "print 'b. GIF rasters:'\n",
    "print rasts\n",
    "print\n",
    "\n",
    "# c. List the raster whose name is GIF\n",
    "rasts = arcpy.ListRasters('GIF')\n",
    "print 'c. raster named GIF:'\n",
    "print rasts\n",
    "print\n",
    "\n",
    "# d. List the rasters whose names start with 'tree'.\n",
    "rasts = arcpy.ListRasters('tree*')\n",
    "print 'd. tree* rasters:'\n",
    "print rasts\n",
    "print\n",
    "\n",
    "# e. List the rasters whose names start with 'tree' which are GIF type files.\n",
    "rasts = arcpy.ListRasters('tree*', 'GIF')\n",
    "print 'e. tree* GIF type rasters:'\n",
    "print rasts\n",
    "print\n"
   ]
  },
  {
   "cell_type": "code",
   "execution_count": 15,
   "metadata": {
    "collapsed": false
   },
   "outputs": [
    {
     "name": "stdout",
     "output_type": "stream",
     "text": [
      "a. All the rasters:\n",
      "[u'jack.jpg', u'minus_ras', u'tree.gif', u'tree.jpg', u'tree.png', u'tree.tif', u'tree2.gif', u'tree2.jpg', u'window.jpg']\n",
      "\n",
      "b. GIF rasters:\n",
      "[u'tree.gif', u'tree2.gif']\n",
      "\n",
      "c. raster named GIF:\n",
      "[]\n",
      "\n",
      "d. tree* rasters:\n",
      "[u'tree.gif', u'tree.jpg', u'tree.png', u'tree.tif', u'tree2.gif', u'tree2.jpg']\n",
      "\n",
      "e. tree* GIF type rasters:\n",
      "[u'tree.gif', u'tree2.gif']\n",
      "\n"
     ]
    }
   ],
   "source": [
    "%run ch11/script2/rasterTypes.py"
   ]
  },
  {
   "cell_type": "code",
   "execution_count": null,
   "metadata": {
    "collapsed": true
   },
   "outputs": [],
   "source": []
  },
  {
   "cell_type": "markdown",
   "metadata": {},
   "source": [
    "## 11.3 List Fields "
   ]
  },
  {
   "cell_type": "code",
   "execution_count": 16,
   "metadata": {
    "collapsed": false,
    "scrolled": true
   },
   "outputs": [
    {
     "data": {
      "text/plain": [
       "[<Field object at 0x14b530f0[0x3f8b158]>,\n",
       " <Field object at 0x14b530b0[0x3f8ba70]>,\n",
       " <Field object at 0x14b53110[0x3f8b890]>,\n",
       " <Field object at 0x146eae90[0x3f8b920]>]"
      ]
     },
     "execution_count": 16,
     "metadata": {},
     "output_type": "execute_result"
    }
   ],
   "source": [
    "# List the Field objects for this dataset.\n",
    "fields = arcpy.ListFields('ch11/data/park.shp')\n",
    "fields"
   ]
  },
  {
   "cell_type": "code",
   "execution_count": 17,
   "metadata": {
    "collapsed": false,
    "scrolled": true
   },
   "outputs": [
    {
     "name": "stdout",
     "output_type": "stream",
     "text": [
      "FID\n",
      "Shape\n",
      "COVER\n",
      "RECNO\n"
     ]
    }
   ],
   "source": [
    "for fieldObject in fields:\n",
    "    print fieldObject.name"
   ]
  },
  {
   "cell_type": "markdown",
   "metadata": {},
   "source": [
    "### Example 11.4: List theField object properties"
   ]
  },
  {
   "cell_type": "code",
   "execution_count": null,
   "metadata": {
    "collapsed": true
   },
   "outputs": [],
   "source": [
    "# %load ch11/script2/listFields.py\n",
    "# listFields.py\n",
    "# Purpose: List attribute table field properties.\n",
    "import arcpy\n",
    "arcpy.env.workspace = 'ch11/data'\n",
    "\n",
    "fields = arcpy.ListFields('park.shp')\n",
    "for fieldObject in fields:\n",
    "    print 'Name: {0}'.format(fieldObject.name)\n",
    "    print 'Length: {0}'.format(fieldObject.length)\n",
    "    print 'Type: {0}'.format(fieldObject.type)\n",
    "    print 'Editable: {0}'.format(fieldObject.editable)\n",
    "    print 'Required: {0}\\n'.format(fieldObject.required)\n"
   ]
  },
  {
   "cell_type": "code",
   "execution_count": 20,
   "metadata": {
    "collapsed": false
   },
   "outputs": [
    {
     "name": "stdout",
     "output_type": "stream",
     "text": [
      "Name: FID\n",
      "Length: 4\n",
      "Type: OID\n",
      "Editable: False\n",
      "Required: True\n",
      "\n",
      "Name: Shape\n",
      "Length: 0\n",
      "Type: Geometry\n",
      "Editable: True\n",
      "Required: True\n",
      "\n",
      "Name: COVER\n",
      "Length: 5\n",
      "Type: String\n",
      "Editable: True\n",
      "Required: False\n",
      "\n",
      "Name: RECNO\n",
      "Length: 11\n",
      "Type: Double\n",
      "Editable: True\n",
      "Required: False\n",
      "\n"
     ]
    }
   ],
   "source": [
    "%run ch11/script2/listFields.py"
   ]
  },
  {
   "cell_type": "code",
   "execution_count": 21,
   "metadata": {
    "collapsed": false
   },
   "outputs": [
    {
     "data": {
      "text/plain": [
       "u'RECNO'"
      ]
     },
     "execution_count": 21,
     "metadata": {},
     "output_type": "execute_result"
    }
   ],
   "source": [
    "parkData = 'ch11/data/park.shp'\n",
    "fields2 = arcpy.ListFields(parkData,'*', 'Double')\n",
    "# The list length shows how many Field objects were returned.\n",
    "len( fields2)\n",
    "fields2[0].name"
   ]
  },
  {
   "cell_type": "markdown",
   "metadata": {},
   "source": [
    "## 11.4 Administrative Lists "
   ]
  },
  {
   "cell_type": "markdown",
   "metadata": {},
   "source": [
    "## 11.5 Batch Geoprocess Lists of Data "
   ]
  },
  {
   "cell_type": "code",
   "execution_count": null,
   "metadata": {
    "collapsed": false
   },
   "outputs": [],
   "source": [
    "# List all coverage, geodatabase, TIN, Raster, and CAD datasets.\n",
    "datasets = arcpy.ListDatasets('out*', 'GRID')\n",
    "for data in datasets:\n",
    "    arcpy.Delete_management(data)"
   ]
  },
  {
   "cell_type": "markdown",
   "metadata": {},
   "source": [
    "### Example 11.5: Batch buffer the feature class files in 'C:/gispy/data/ch11/'"
   ]
  },
  {
   "cell_type": "code",
   "execution_count": null,
   "metadata": {
    "collapsed": true
   },
   "outputs": [],
   "source": [
    "# %load ch11/script2/batchBuffer.py\n",
    "# batchBuffer.py\n",
    "# Purpose: Buffer each feature class in the workspace.\n",
    "# Usage: No arguments required.\n",
    "\n",
    "import arcpy, os\n",
    "arcpy.env.overwriteOutput = True\n",
    "arcpy.env.workspace = 'ch11/data'\n",
    "\n",
    "# GET a list of feature classes.\n",
    "fcs = arcpy.ListFeatureClasses()\n",
    "for fc in fcs:\n",
    "    # SET the output variable. \n",
    "    fcBuffer = os.path.splitext(fc)[0] + 'Buffer.shp'\n",
    "    # Call Buffer (Analysis) tool.\n",
    "    arcpy.Buffer_analysis(fc, fcBuffer, '1 mile')\n",
    "    print '{0} created.'.format(fcBuffer)\n"
   ]
  },
  {
   "cell_type": "code",
   "execution_count": 25,
   "metadata": {
    "collapsed": false,
    "scrolled": true
   },
   "outputs": [
    {
     "name": "stdout",
     "output_type": "stream",
     "text": [
      "data1Buffer.shp created.\n",
      "data1BufferBuffer.shp created.\n",
      "parkBuffer.shp created.\n",
      "parkBufferBuffer.shp created.\n",
      "USABuffer.shp created.\n",
      "USABufferBuffer.shp created.\n"
     ]
    }
   ],
   "source": [
    "%run ch11/script2/batchBuffer.py"
   ]
  },
  {
   "cell_type": "markdown",
   "metadata": {},
   "source": [
    "### Example 11.6: Batch buffer files in 'C:/gispy/data/ch11/' and place them in directory"
   ]
  },
  {
   "cell_type": "code",
   "execution_count": null,
   "metadata": {
    "collapsed": true
   },
   "outputs": [],
   "source": [
    "# %load ch11/script2/batchBufferv2.py\n",
    "# batchBufferv2.py\n",
    "# Purpose: Buffer each feature class in the workspace and\n",
    "#          place output in a different workspace.\n",
    "import arcpy, os\n",
    "arcpy.env.overwriteOutput = True\n",
    "# SET workspaces\n",
    "arcpy.env.workspace = 'ch11/data'\n",
    "outDir = 'ch11/scratch/buffers/'\n",
    "if not os.path.exists(outDir):\n",
    "    os.mkdir(outDir)\n",
    "# GET a list of feature classes\n",
    "fcs = arcpy.ListFeatureClasses()\n",
    "for fc in fcs:\n",
    "    # SET the output variable\n",
    "    outName = os.path.splitext(fc)[0] + '_buffer.shp'\n",
    "    fcBuffer = os.path.join(outDir, outName)\n",
    "    # Call buffer tool\n",
    "    arcpy.Buffer_analysis(fc, fcBuffer, '1 mile')\n",
    "    print '{0} created in {1}.'.format(fcBuffer, outDir)\n"
   ]
  },
  {
   "cell_type": "code",
   "execution_count": null,
   "metadata": {
    "collapsed": false,
    "scrolled": true
   },
   "outputs": [
    {
     "name": "stdout",
     "output_type": "stream",
     "text": [
      "ch11/scratch/buffers/data1_buffer.shp created in ch11/scratch/buffers/.\n",
      "ch11/scratch/buffers/data1Buffer_buffer.shp created in ch11/scratch/buffers/."
     ]
    }
   ],
   "source": [
    "%run ch11/script2/batchBufferv2.py"
   ]
  },
  {
   "cell_type": "markdown",
   "metadata": {},
   "source": [
    "### Example 11.7 tableLister.py"
   ]
  },
  {
   "cell_type": "code",
   "execution_count": null,
   "metadata": {
    "collapsed": true
   },
   "outputs": [],
   "source": [
    "# %load ch11/script2/tableLister.py\n",
    "# tableLister.py\n",
    "# Purpose: Create shapefiles from 'stations*' xy tables, connect the points,\n",
    "#          and then find then intersection of the lines.\n",
    "# Usage:  workspace_containing_tables\n",
    "# Example: C:/gispy/data/ch11/trains\n",
    "import arcpy, os, sys\n",
    "arcpy.env.workspace = sys.argv[1]\n",
    "arcpy.env.overwriteOutput = True\n",
    "tables = arcpy.ListTables('stations*', 'dBASE')\n",
    "\n",
    "tempPoints = 'temporaryPointLayer'\n",
    "\n",
    "for table in tables:\n",
    "    # SET the output variable.\n",
    "    lineFile = os.path.splitext(table)[0] + 'Line'\n",
    "    # CALL geoprocessing tools.\n",
    "    arcpy.MakeXYEventLayer_management(table, 'POINT_X', 'POINT_Y', tempPoints)\n",
    "    arcpy.PointsToLine_management(tempPoints, lineFile)\n",
    "    print '\\t{0}/{1} created.'.format(arcpy.env.workspace, lineFile)\n",
    "\n",
    "# GET the list of lines and intersect the lines.\n",
    "lineList = arcpy.ListFeatureClasses('stations*Line*')\n",
    "arcpy.Intersect_analysis(lineList, 'hubs', '#', '0.5 mile', 'POINT')\n",
    "print '{0}/hubs created.'.format(arcpy.env.workspace)\n"
   ]
  },
  {
   "cell_type": "code",
   "execution_count": null,
   "metadata": {
    "collapsed": false
   },
   "outputs": [
    {
     "name": "stdout",
     "output_type": "stream",
     "text": [
      "\tch11/data/trains/stations1Line created.\n",
      "\tch11/data/trains/stations2Line created.\n",
      "\tch11/data/trains/stations3Line created.\n",
      "\tch11/data/trains/stations4Line created.\n",
      "ch11/data/trains/hubs created.\n"
     ]
    }
   ],
   "source": [
    "%run ch11/script2/tableLister.py ch11/data/trains"
   ]
  },
  {
   "cell_type": "markdown",
   "metadata": {},
   "source": [
    "## 11.6 Debug: Step Through Code "
   ]
  },
  {
   "cell_type": "code",
   "execution_count": null,
   "metadata": {
    "collapsed": true
   },
   "outputs": [],
   "source": []
  },
  {
   "cell_type": "code",
   "execution_count": null,
   "metadata": {
    "collapsed": true
   },
   "outputs": [],
   "source": []
  },
  {
   "cell_type": "markdown",
   "metadata": {},
   "source": [
    "## 11.7 Key Terms "
   ]
  },
  {
   "cell_type": "markdown",
   "metadata": {},
   "source": [
    "## 11.8 Exercises "
   ]
  }
 ],
 "metadata": {
  "kernelspec": {
   "display_name": "Python 2",
   "language": "python",
   "name": "python2"
  },
  "language_info": {
   "codemirror_mode": {
    "name": "ipython",
    "version": 2
   },
   "file_extension": ".py",
   "mimetype": "text/x-python",
   "name": "python",
   "nbconvert_exporter": "python",
   "pygments_lexer": "ipython2",
   "version": "2.7.2"
  }
 },
 "nbformat": 4,
 "nbformat_minor": 1
}
