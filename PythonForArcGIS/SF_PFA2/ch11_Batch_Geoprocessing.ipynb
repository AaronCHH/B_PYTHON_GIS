{
 "cells": [
  {
   "cell_type": "markdown",
   "metadata": {},
   "source": [
    "# 11 Batch Geoprocessing "
   ]
  },
  {
   "cell_type": "markdown",
   "metadata": {},
   "source": [
    "<div id=\"toc\"></div>"
   ]
  },
  {
   "cell_type": "markdown",
   "metadata": {},
   "source": [
    "## 11.1 List GIS Data "
   ]
  },
  {
   "cell_type": "code",
   "execution_count": 1,
   "metadata": {
    "collapsed": false,
    "scrolled": true
   },
   "outputs": [
    {
     "data": {
      "text/plain": [
       "[u'data1.shp',\n",
       " u'data1Buffer.shp',\n",
       " u'data1BufferBuffer.shp',\n",
       " u'park.shp',\n",
       " u'parkBuffer.shp',\n",
       " u'parkBufferBuffer.shp',\n",
       " u'USA.shp',\n",
       " u'USABuffer.shp',\n",
       " u'USABufferBuffer.shp']"
      ]
     },
     "execution_count": 1,
     "metadata": {},
     "output_type": "execute_result"
    }
   ],
   "source": [
    "import arcpy\n",
    "arcpy.env.workspace = 'ch11/data'\n",
    "# The ListFeatureClasses method returns a Python list of strings.\n",
    "fcs = arcpy.ListFeatureClasses()\n",
    "fcs"
   ]
  },
  {
   "cell_type": "code",
   "execution_count": 2,
   "metadata": {
    "collapsed": false
   },
   "outputs": [
    {
     "data": {
      "text/plain": [
       "u'data1.shp'"
      ]
     },
     "execution_count": 2,
     "metadata": {},
     "output_type": "execute_result"
    }
   ],
   "source": [
    "fcs[0]"
   ]
  },
  {
   "cell_type": "code",
   "execution_count": 3,
   "metadata": {
    "collapsed": false
   },
   "outputs": [
    {
     "data": {
      "text/plain": [
       "unicode"
      ]
     },
     "execution_count": 3,
     "metadata": {},
     "output_type": "execute_result"
    }
   ],
   "source": [
    "type(fcs[0])"
   ]
  },
  {
   "cell_type": "code",
   "execution_count": 4,
   "metadata": {
    "collapsed": false,
    "scrolled": true
   },
   "outputs": [
    {
     "name": "stdout",
     "output_type": "stream",
     "text": [
      "data1.shp\n",
      "data1Buffer.shp\n",
      "data1BufferBuffer.shp\n",
      "park.shp\n",
      "parkBuffer.shp\n",
      "parkBufferBuffer.shp\n",
      "USA.shp\n",
      "USABuffer.shp\n",
      "USABufferBuffer.shp\n"
     ]
    }
   ],
   "source": [
    "for fc in fcs:\n",
    "    print fc"
   ]
  },
  {
   "cell_type": "code",
   "execution_count": 5,
   "metadata": {
    "collapsed": true
   },
   "outputs": [],
   "source": [
    "fc = './ch11/scratch/park_buffer.shp'"
   ]
  },
  {
   "cell_type": "code",
   "execution_count": 20,
   "metadata": {
    "collapsed": false
   },
   "outputs": [],
   "source": [
    "fieldLists = arcpy.ListFields(fc)"
   ]
  },
  {
   "cell_type": "code",
   "execution_count": 23,
   "metadata": {
    "collapsed": false,
    "scrolled": true
   },
   "outputs": [
    {
     "name": "stdout",
     "output_type": "stream",
     "text": [
      "FID\n",
      "Shape\n",
      "COVER\n",
      "RECNO\n",
      "BUFF_DIST\n"
     ]
    }
   ],
   "source": [
    "for field in fieldLists:\n",
    "    print(field.name)"
   ]
  },
  {
   "cell_type": "code",
   "execution_count": 34,
   "metadata": {
    "collapsed": false
   },
   "outputs": [
    {
     "data": {
      "text/plain": [
       "[u'FID', u'Shape', u'COVER', u'RECNO', u'BUFF_DIST']"
      ]
     },
     "execution_count": 34,
     "metadata": {},
     "output_type": "execute_result"
    }
   ],
   "source": [
    "[f.name for f in fieldLists]"
   ]
  },
  {
   "cell_type": "code",
   "execution_count": 36,
   "metadata": {
    "collapsed": false
   },
   "outputs": [],
   "source": [
    "cursor = arcpy.da.SearchCursor(fc, ['FID', 'RECNO'])"
   ]
  },
  {
   "cell_type": "code",
   "execution_count": 41,
   "metadata": {
    "collapsed": false,
    "scrolled": true
   },
   "outputs": [
    {
     "name": "stdout",
     "output_type": "stream",
     "text": [
      "1.0\n",
      "2.0\n",
      "3.0\n",
      "4.0\n",
      "5.0\n",
      "6.0\n",
      "7.0\n",
      "8.0\n",
      "9.0\n",
      "10.0\n",
      "11.0\n",
      "12.0\n",
      "13.0\n",
      "14.0\n",
      "15.0\n",
      "16.0\n",
      "17.0\n",
      "18.0\n",
      "19.0\n",
      "20.0\n",
      "21.0\n",
      "22.0\n",
      "23.0\n",
      "24.0\n",
      "25.0\n",
      "26.0\n",
      "27.0\n",
      "28.0\n",
      "29.0\n",
      "30.0\n",
      "31.0\n",
      "32.0\n",
      "33.0\n",
      "34.0\n",
      "35.0\n",
      "36.0\n",
      "37.0\n",
      "38.0\n",
      "39.0\n",
      "40.0\n",
      "41.0\n",
      "42.0\n",
      "43.0\n",
      "44.0\n",
      "45.0\n",
      "46.0\n",
      "47.0\n",
      "48.0\n",
      "49.0\n",
      "50.0\n",
      "51.0\n",
      "52.0\n",
      "53.0\n",
      "54.0\n",
      "55.0\n",
      "56.0\n",
      "57.0\n",
      "58.0\n",
      "59.0\n",
      "60.0\n",
      "61.0\n",
      "62.0\n",
      "63.0\n",
      "64.0\n",
      "65.0\n",
      "66.0\n",
      "67.0\n",
      "68.0\n",
      "69.0\n",
      "70.0\n",
      "71.0\n",
      "72.0\n",
      "73.0\n",
      "74.0\n",
      "75.0\n",
      "76.0\n",
      "77.0\n",
      "78.0\n",
      "79.0\n",
      "80.0\n",
      "81.0\n",
      "82.0\n",
      "83.0\n",
      "84.0\n",
      "85.0\n",
      "86.0\n",
      "87.0\n",
      "88.0\n",
      "89.0\n",
      "90.0\n",
      "91.0\n",
      "92.0\n",
      "93.0\n",
      "94.0\n",
      "95.0\n",
      "96.0\n",
      "97.0\n",
      "98.0\n",
      "99.0\n",
      "100.0\n",
      "101.0\n",
      "102.0\n",
      "103.0\n",
      "104.0\n",
      "105.0\n",
      "106.0\n",
      "107.0\n",
      "108.0\n",
      "109.0\n",
      "110.0\n",
      "111.0\n",
      "112.0\n",
      "113.0\n",
      "114.0\n",
      "115.0\n",
      "116.0\n",
      "117.0\n",
      "118.0\n",
      "119.0\n",
      "120.0\n",
      "121.0\n",
      "122.0\n",
      "123.0\n",
      "124.0\n",
      "125.0\n",
      "126.0\n",
      "127.0\n",
      "128.0\n",
      "129.0\n",
      "130.0\n",
      "131.0\n",
      "132.0\n",
      "133.0\n",
      "134.0\n",
      "135.0\n",
      "136.0\n",
      "137.0\n",
      "138.0\n",
      "139.0\n",
      "140.0\n",
      "141.0\n",
      "142.0\n",
      "143.0\n",
      "144.0\n",
      "145.0\n",
      "146.0\n",
      "147.0\n",
      "148.0\n",
      "149.0\n",
      "150.0\n",
      "151.0\n",
      "152.0\n",
      "153.0\n",
      "154.0\n",
      "155.0\n",
      "156.0\n",
      "157.0\n",
      "158.0\n",
      "159.0\n",
      "160.0\n",
      "161.0\n",
      "162.0\n",
      "163.0\n",
      "164.0\n",
      "165.0\n",
      "166.0\n",
      "167.0\n",
      "168.0\n",
      "169.0\n",
      "170.0\n",
      "171.0\n",
      "172.0\n",
      "173.0\n",
      "174.0\n",
      "175.0\n",
      "176.0\n",
      "177.0\n",
      "178.0\n",
      "179.0\n",
      "180.0\n",
      "181.0\n",
      "182.0\n",
      "183.0\n",
      "184.0\n",
      "185.0\n",
      "186.0\n",
      "187.0\n",
      "188.0\n",
      "189.0\n",
      "190.0\n",
      "191.0\n",
      "192.0\n",
      "193.0\n",
      "194.0\n",
      "195.0\n",
      "196.0\n",
      "197.0\n",
      "198.0\n",
      "199.0\n",
      "200.0\n",
      "201.0\n",
      "202.0\n",
      "203.0\n",
      "204.0\n",
      "205.0\n",
      "206.0\n",
      "207.0\n",
      "208.0\n",
      "209.0\n",
      "210.0\n",
      "211.0\n",
      "212.0\n",
      "213.0\n",
      "214.0\n",
      "215.0\n",
      "216.0\n",
      "217.0\n",
      "218.0\n",
      "219.0\n",
      "220.0\n",
      "221.0\n",
      "222.0\n",
      "223.0\n",
      "224.0\n",
      "225.0\n",
      "226.0\n",
      "227.0\n",
      "228.0\n",
      "229.0\n",
      "230.0\n",
      "231.0\n",
      "232.0\n",
      "233.0\n",
      "234.0\n",
      "235.0\n",
      "236.0\n",
      "237.0\n",
      "238.0\n",
      "239.0\n",
      "240.0\n",
      "241.0\n",
      "242.0\n",
      "243.0\n",
      "244.0\n",
      "245.0\n",
      "246.0\n",
      "247.0\n",
      "248.0\n",
      "249.0\n",
      "250.0\n",
      "251.0\n",
      "252.0\n",
      "253.0\n",
      "254.0\n",
      "255.0\n",
      "256.0\n",
      "257.0\n",
      "258.0\n",
      "259.0\n",
      "260.0\n",
      "261.0\n",
      "262.0\n",
      "263.0\n",
      "264.0\n",
      "265.0\n",
      "266.0\n",
      "267.0\n",
      "268.0\n",
      "269.0\n",
      "270.0\n",
      "271.0\n",
      "272.0\n",
      "273.0\n",
      "274.0\n",
      "275.0\n",
      "276.0\n",
      "277.0\n",
      "278.0\n",
      "279.0\n",
      "280.0\n",
      "281.0\n",
      "282.0\n",
      "283.0\n",
      "284.0\n",
      "285.0\n",
      "286.0\n",
      "287.0\n",
      "288.0\n",
      "289.0\n",
      "290.0\n",
      "291.0\n",
      "292.0\n",
      "293.0\n",
      "294.0\n",
      "295.0\n",
      "296.0\n",
      "297.0\n",
      "298.0\n",
      "299.0\n",
      "300.0\n",
      "301.0\n",
      "302.0\n",
      "303.0\n",
      "304.0\n",
      "305.0\n",
      "306.0\n",
      "307.0\n",
      "308.0\n",
      "309.0\n",
      "310.0\n",
      "311.0\n",
      "312.0\n",
      "313.0\n",
      "314.0\n",
      "315.0\n",
      "316.0\n",
      "317.0\n",
      "318.0\n",
      "319.0\n",
      "320.0\n",
      "321.0\n",
      "322.0\n",
      "323.0\n",
      "324.0\n",
      "325.0\n",
      "326.0\n",
      "327.0\n",
      "328.0\n",
      "329.0\n",
      "330.0\n",
      "331.0\n",
      "332.0\n",
      "333.0\n",
      "334.0\n",
      "335.0\n",
      "336.0\n",
      "337.0\n",
      "338.0\n",
      "339.0\n",
      "340.0\n",
      "341.0\n",
      "342.0\n",
      "343.0\n",
      "344.0\n",
      "345.0\n",
      "346.0\n",
      "347.0\n",
      "348.0\n",
      "349.0\n",
      "350.0\n",
      "351.0\n",
      "352.0\n",
      "353.0\n",
      "354.0\n",
      "355.0\n",
      "356.0\n",
      "357.0\n",
      "358.0\n",
      "359.0\n",
      "360.0\n",
      "361.0\n",
      "362.0\n",
      "363.0\n",
      "364.0\n",
      "365.0\n",
      "366.0\n",
      "367.0\n",
      "368.0\n",
      "369.0\n",
      "370.0\n",
      "371.0\n",
      "372.0\n",
      "373.0\n",
      "374.0\n",
      "375.0\n",
      "376.0\n",
      "377.0\n",
      "378.0\n",
      "379.0\n",
      "380.0\n",
      "381.0\n",
      "382.0\n",
      "383.0\n",
      "384.0\n",
      "385.0\n",
      "386.0\n",
      "387.0\n",
      "388.0\n",
      "389.0\n",
      "390.0\n",
      "391.0\n",
      "392.0\n",
      "393.0\n",
      "394.0\n",
      "395.0\n",
      "396.0\n",
      "397.0\n",
      "398.0\n",
      "399.0\n",
      "400.0\n",
      "401.0\n",
      "402.0\n",
      "403.0\n",
      "404.0\n",
      "405.0\n",
      "406.0\n",
      "407.0\n",
      "408.0\n",
      "409.0\n",
      "410.0\n",
      "411.0\n",
      "412.0\n",
      "413.0\n",
      "414.0\n",
      "415.0\n",
      "416.0\n",
      "417.0\n",
      "418.0\n",
      "419.0\n",
      "420.0\n",
      "421.0\n",
      "422.0\n",
      "423.0\n",
      "424.0\n",
      "425.0\n",
      "426.0\n"
     ]
    }
   ],
   "source": [
    "cursor.reset()\n",
    "for row in cursor:\n",
    "    print(row[1])"
   ]
  },
  {
   "cell_type": "code",
   "execution_count": 44,
   "metadata": {
    "collapsed": true
   },
   "outputs": [
    {
     "data": {
      "text/plain": [
       "[1.0,\n",
       " 2.0,\n",
       " 3.0,\n",
       " 4.0,\n",
       " 5.0,\n",
       " 6.0,\n",
       " 7.0,\n",
       " 8.0,\n",
       " 9.0,\n",
       " 10.0,\n",
       " 11.0,\n",
       " 12.0,\n",
       " 13.0,\n",
       " 14.0,\n",
       " 15.0,\n",
       " 16.0,\n",
       " 17.0,\n",
       " 18.0,\n",
       " 19.0,\n",
       " 20.0,\n",
       " 21.0,\n",
       " 22.0,\n",
       " 23.0,\n",
       " 24.0,\n",
       " 25.0,\n",
       " 26.0,\n",
       " 27.0,\n",
       " 28.0,\n",
       " 29.0,\n",
       " 30.0,\n",
       " 31.0,\n",
       " 32.0,\n",
       " 33.0,\n",
       " 34.0,\n",
       " 35.0,\n",
       " 36.0,\n",
       " 37.0,\n",
       " 38.0,\n",
       " 39.0,\n",
       " 40.0,\n",
       " 41.0,\n",
       " 42.0,\n",
       " 43.0,\n",
       " 44.0,\n",
       " 45.0,\n",
       " 46.0,\n",
       " 47.0,\n",
       " 48.0,\n",
       " 49.0,\n",
       " 50.0,\n",
       " 51.0,\n",
       " 52.0,\n",
       " 53.0,\n",
       " 54.0,\n",
       " 55.0,\n",
       " 56.0,\n",
       " 57.0,\n",
       " 58.0,\n",
       " 59.0,\n",
       " 60.0,\n",
       " 61.0,\n",
       " 62.0,\n",
       " 63.0,\n",
       " 64.0,\n",
       " 65.0,\n",
       " 66.0,\n",
       " 67.0,\n",
       " 68.0,\n",
       " 69.0,\n",
       " 70.0,\n",
       " 71.0,\n",
       " 72.0,\n",
       " 73.0,\n",
       " 74.0,\n",
       " 75.0,\n",
       " 76.0,\n",
       " 77.0,\n",
       " 78.0,\n",
       " 79.0,\n",
       " 80.0,\n",
       " 81.0,\n",
       " 82.0,\n",
       " 83.0,\n",
       " 84.0,\n",
       " 85.0,\n",
       " 86.0,\n",
       " 87.0,\n",
       " 88.0,\n",
       " 89.0,\n",
       " 90.0,\n",
       " 91.0,\n",
       " 92.0,\n",
       " 93.0,\n",
       " 94.0,\n",
       " 95.0,\n",
       " 96.0,\n",
       " 97.0,\n",
       " 98.0,\n",
       " 99.0,\n",
       " 100.0,\n",
       " 101.0,\n",
       " 102.0,\n",
       " 103.0,\n",
       " 104.0,\n",
       " 105.0,\n",
       " 106.0,\n",
       " 107.0,\n",
       " 108.0,\n",
       " 109.0,\n",
       " 110.0,\n",
       " 111.0,\n",
       " 112.0,\n",
       " 113.0,\n",
       " 114.0,\n",
       " 115.0,\n",
       " 116.0,\n",
       " 117.0,\n",
       " 118.0,\n",
       " 119.0,\n",
       " 120.0,\n",
       " 121.0,\n",
       " 122.0,\n",
       " 123.0,\n",
       " 124.0,\n",
       " 125.0,\n",
       " 126.0,\n",
       " 127.0,\n",
       " 128.0,\n",
       " 129.0,\n",
       " 130.0,\n",
       " 131.0,\n",
       " 132.0,\n",
       " 133.0,\n",
       " 134.0,\n",
       " 135.0,\n",
       " 136.0,\n",
       " 137.0,\n",
       " 138.0,\n",
       " 139.0,\n",
       " 140.0,\n",
       " 141.0,\n",
       " 142.0,\n",
       " 143.0,\n",
       " 144.0,\n",
       " 145.0,\n",
       " 146.0,\n",
       " 147.0,\n",
       " 148.0,\n",
       " 149.0,\n",
       " 150.0,\n",
       " 151.0,\n",
       " 152.0,\n",
       " 153.0,\n",
       " 154.0,\n",
       " 155.0,\n",
       " 156.0,\n",
       " 157.0,\n",
       " 158.0,\n",
       " 159.0,\n",
       " 160.0,\n",
       " 161.0,\n",
       " 162.0,\n",
       " 163.0,\n",
       " 164.0,\n",
       " 165.0,\n",
       " 166.0,\n",
       " 167.0,\n",
       " 168.0,\n",
       " 169.0,\n",
       " 170.0,\n",
       " 171.0,\n",
       " 172.0,\n",
       " 173.0,\n",
       " 174.0,\n",
       " 175.0,\n",
       " 176.0,\n",
       " 177.0,\n",
       " 178.0,\n",
       " 179.0,\n",
       " 180.0,\n",
       " 181.0,\n",
       " 182.0,\n",
       " 183.0,\n",
       " 184.0,\n",
       " 185.0,\n",
       " 186.0,\n",
       " 187.0,\n",
       " 188.0,\n",
       " 189.0,\n",
       " 190.0,\n",
       " 191.0,\n",
       " 192.0,\n",
       " 193.0,\n",
       " 194.0,\n",
       " 195.0,\n",
       " 196.0,\n",
       " 197.0,\n",
       " 198.0,\n",
       " 199.0,\n",
       " 200.0,\n",
       " 201.0,\n",
       " 202.0,\n",
       " 203.0,\n",
       " 204.0,\n",
       " 205.0,\n",
       " 206.0,\n",
       " 207.0,\n",
       " 208.0,\n",
       " 209.0,\n",
       " 210.0,\n",
       " 211.0,\n",
       " 212.0,\n",
       " 213.0,\n",
       " 214.0,\n",
       " 215.0,\n",
       " 216.0,\n",
       " 217.0,\n",
       " 218.0,\n",
       " 219.0,\n",
       " 220.0,\n",
       " 221.0,\n",
       " 222.0,\n",
       " 223.0,\n",
       " 224.0,\n",
       " 225.0,\n",
       " 226.0,\n",
       " 227.0,\n",
       " 228.0,\n",
       " 229.0,\n",
       " 230.0,\n",
       " 231.0,\n",
       " 232.0,\n",
       " 233.0,\n",
       " 234.0,\n",
       " 235.0,\n",
       " 236.0,\n",
       " 237.0,\n",
       " 238.0,\n",
       " 239.0,\n",
       " 240.0,\n",
       " 241.0,\n",
       " 242.0,\n",
       " 243.0,\n",
       " 244.0,\n",
       " 245.0,\n",
       " 246.0,\n",
       " 247.0,\n",
       " 248.0,\n",
       " 249.0,\n",
       " 250.0,\n",
       " 251.0,\n",
       " 252.0,\n",
       " 253.0,\n",
       " 254.0,\n",
       " 255.0,\n",
       " 256.0,\n",
       " 257.0,\n",
       " 258.0,\n",
       " 259.0,\n",
       " 260.0,\n",
       " 261.0,\n",
       " 262.0,\n",
       " 263.0,\n",
       " 264.0,\n",
       " 265.0,\n",
       " 266.0,\n",
       " 267.0,\n",
       " 268.0,\n",
       " 269.0,\n",
       " 270.0,\n",
       " 271.0,\n",
       " 272.0,\n",
       " 273.0,\n",
       " 274.0,\n",
       " 275.0,\n",
       " 276.0,\n",
       " 277.0,\n",
       " 278.0,\n",
       " 279.0,\n",
       " 280.0,\n",
       " 281.0,\n",
       " 282.0,\n",
       " 283.0,\n",
       " 284.0,\n",
       " 285.0,\n",
       " 286.0,\n",
       " 287.0,\n",
       " 288.0,\n",
       " 289.0,\n",
       " 290.0,\n",
       " 291.0,\n",
       " 292.0,\n",
       " 293.0,\n",
       " 294.0,\n",
       " 295.0,\n",
       " 296.0,\n",
       " 297.0,\n",
       " 298.0,\n",
       " 299.0,\n",
       " 300.0,\n",
       " 301.0,\n",
       " 302.0,\n",
       " 303.0,\n",
       " 304.0,\n",
       " 305.0,\n",
       " 306.0,\n",
       " 307.0,\n",
       " 308.0,\n",
       " 309.0,\n",
       " 310.0,\n",
       " 311.0,\n",
       " 312.0,\n",
       " 313.0,\n",
       " 314.0,\n",
       " 315.0,\n",
       " 316.0,\n",
       " 317.0,\n",
       " 318.0,\n",
       " 319.0,\n",
       " 320.0,\n",
       " 321.0,\n",
       " 322.0,\n",
       " 323.0,\n",
       " 324.0,\n",
       " 325.0,\n",
       " 326.0,\n",
       " 327.0,\n",
       " 328.0,\n",
       " 329.0,\n",
       " 330.0,\n",
       " 331.0,\n",
       " 332.0,\n",
       " 333.0,\n",
       " 334.0,\n",
       " 335.0,\n",
       " 336.0,\n",
       " 337.0,\n",
       " 338.0,\n",
       " 339.0,\n",
       " 340.0,\n",
       " 341.0,\n",
       " 342.0,\n",
       " 343.0,\n",
       " 344.0,\n",
       " 345.0,\n",
       " 346.0,\n",
       " 347.0,\n",
       " 348.0,\n",
       " 349.0,\n",
       " 350.0,\n",
       " 351.0,\n",
       " 352.0,\n",
       " 353.0,\n",
       " 354.0,\n",
       " 355.0,\n",
       " 356.0,\n",
       " 357.0,\n",
       " 358.0,\n",
       " 359.0,\n",
       " 360.0,\n",
       " 361.0,\n",
       " 362.0,\n",
       " 363.0,\n",
       " 364.0,\n",
       " 365.0,\n",
       " 366.0,\n",
       " 367.0,\n",
       " 368.0,\n",
       " 369.0,\n",
       " 370.0,\n",
       " 371.0,\n",
       " 372.0,\n",
       " 373.0,\n",
       " 374.0,\n",
       " 375.0,\n",
       " 376.0,\n",
       " 377.0,\n",
       " 378.0,\n",
       " 379.0,\n",
       " 380.0,\n",
       " 381.0,\n",
       " 382.0,\n",
       " 383.0,\n",
       " 384.0,\n",
       " 385.0,\n",
       " 386.0,\n",
       " 387.0,\n",
       " 388.0,\n",
       " 389.0,\n",
       " 390.0,\n",
       " 391.0,\n",
       " 392.0,\n",
       " 393.0,\n",
       " 394.0,\n",
       " 395.0,\n",
       " 396.0,\n",
       " 397.0,\n",
       " 398.0,\n",
       " 399.0,\n",
       " 400.0,\n",
       " 401.0,\n",
       " 402.0,\n",
       " 403.0,\n",
       " 404.0,\n",
       " 405.0,\n",
       " 406.0,\n",
       " 407.0,\n",
       " 408.0,\n",
       " 409.0,\n",
       " 410.0,\n",
       " 411.0,\n",
       " 412.0,\n",
       " 413.0,\n",
       " 414.0,\n",
       " 415.0,\n",
       " 416.0,\n",
       " 417.0,\n",
       " 418.0,\n",
       " 419.0,\n",
       " 420.0,\n",
       " 421.0,\n",
       " 422.0,\n",
       " 423.0,\n",
       " 424.0,\n",
       " 425.0,\n",
       " 426.0]"
      ]
     },
     "execution_count": 44,
     "metadata": {},
     "output_type": "execute_result"
    }
   ],
   "source": [
    "cursor.reset()\n",
    "[row[1] for row in cursor]"
   ]
  },
  {
   "cell_type": "code",
   "execution_count": 39,
   "metadata": {
    "collapsed": false
   },
   "outputs": [
    {
     "data": {
      "text/plain": [
       "(u'FID', u'RECNO')"
      ]
     },
     "execution_count": 39,
     "metadata": {},
     "output_type": "execute_result"
    }
   ],
   "source": [
    "fds = cursor.fields\n",
    "fds"
   ]
  },
  {
   "cell_type": "markdown",
   "metadata": {},
   "source": [
    "### Example 11.1: Call anarcpy listing method and loop through the results"
   ]
  },
  {
   "cell_type": "code",
   "execution_count": null,
   "metadata": {
    "collapsed": true
   },
   "outputs": [],
   "source": [
    "# %load ch11/script2/listStuff.py\n",
    "# listStuff.py\n",
    "# Purpose: Use arcpy to list workspaces and tables.\n",
    "import arcpy\n",
    "\n",
    "arcpy.env.workspace = 'ch11/data'\n",
    "\n",
    "print '---Workspaces---'\n",
    "workspaces = arcpy.ListWorkspaces()\n",
    "for wspace in workspaces:\n",
    "    print wspace\n",
    "\n",
    "print '\\n---Tables---'\n",
    "\n",
    "tables = arcpy.ListTables()\n",
    "for table in tables:\n",
    "    print table\n"
   ]
  },
  {
   "cell_type": "code",
   "execution_count": 9,
   "metadata": {
    "collapsed": false
   },
   "outputs": [
    {
     "name": "stdout",
     "output_type": "stream",
     "text": [
      "---Workspaces---\n",
      "ch11/data\\pics\n",
      "ch11/data\\rastTester.gdb\n",
      "ch11/data\\tester.gdb\n",
      "ch11/data\\trains\n",
      "\n",
      "---Tables---\n",
      "䥍啎当䅒⹓乂d\n",
      "䥍啎当䅒⹓呓aᒨ缈ᒨ繸ᒨ纈ᒨ纨ᒨ¸\n",
      "䥍啎当䅒⹓䅖tᒨ耈ᒨ缈ᒨ缘ᒨ纈ᒨ¨\n",
      "coords.csv\n",
      "loveLetter.txt\n",
      "xy1.txt\n",
      "xy_current.txt\n",
      "summary.dbf\n"
     ]
    }
   ],
   "source": [
    "%run ch11/script2/listStuff.py"
   ]
  },
  {
   "cell_type": "markdown",
   "metadata": {},
   "source": [
    "## 11.2 Specify Data Name and Type"
   ]
  },
  {
   "cell_type": "markdown",
   "metadata": {},
   "source": [
    "### Example 11.2a–c: List rasters in workspace and usewild_card arguments"
   ]
  },
  {
   "cell_type": "code",
   "execution_count": null,
   "metadata": {
    "collapsed": true
   },
   "outputs": [],
   "source": [
    "# %load ch11/script2/wildcards.py\n",
    "# wildcards.py\n",
    "# Purpose: Use a wildcard to selectively list files.\n",
    "\n",
    "import arcpy\n",
    "arcpy.env.workspace = 'ch11/data/rastTester.gdb'\n",
    "\n",
    "# a. Use '*' or empty parentheses to list ALL the rasters in the workspace.\n",
    "rasts = arcpy.ListRasters('*')\n",
    "print 'a. All the rasters:'\n",
    "print rasts\n",
    "print\n",
    "\n",
    "# b. List the rasters whose names START with 'elev'.\n",
    "rasts = arcpy.ListRasters('elev*')\n",
    "print 'b. elev* rasters:'\n",
    "print rasts\n",
    "print\n",
    "\n",
    "# c. List a raster whose name is exactly 'elev'.\n",
    "rasts = arcpy.ListRasters('elev')\n",
    "print 'c. elev raster:'\n",
    "print rasts\n"
   ]
  },
  {
   "cell_type": "code",
   "execution_count": 12,
   "metadata": {
    "collapsed": false
   },
   "outputs": [
    {
     "name": "stdout",
     "output_type": "stream",
     "text": [
      "a. All the rasters:\n",
      "[u'elev', u'landcov', u'soilsid', u'getty_cover', u'landc197', u'landuse', u'aspect', u'soils_kf', u'plus_ras', u'CoverMinus', u'elev_srt', u'elev_sh', u'elev_ned', u'Int_rand1', u'Int_rand2', u'landc196', u'TimesCOVER']\n",
      "\n",
      "b. elev* rasters:\n",
      "[u'elev', u'elev_srt', u'elev_sh', u'elev_ned']\n",
      "\n",
      "c. elev raster:\n",
      "[u'elev']\n"
     ]
    }
   ],
   "source": [
    "%run ch11/script2/wildcards.py"
   ]
  },
  {
   "cell_type": "markdown",
   "metadata": {},
   "source": [
    "### Example 11.3a–e: List rasters in workspace using wild_card and raster_type arguments"
   ]
  },
  {
   "cell_type": "code",
   "execution_count": null,
   "metadata": {
    "collapsed": true
   },
   "outputs": [],
   "source": [
    "# %load ch11/script2/rasterTypes.py\n",
    "# rasterTypes.py\n",
    "# Purpose: Use a wildcard to selectively list files.\n",
    "import arcpy\n",
    "arcpy.env.workspace = 'ch11/data'\n",
    "\n",
    "# a. Use empty parenthesis to list ALL the rasters in the current workspace.\n",
    "rasts = arcpy.ListRasters()\n",
    "print 'a. All the rasters:'\n",
    "print rasts\n",
    "print\n",
    "\n",
    "# b. List ALL the GIF type rasters.\n",
    "rasts = arcpy.ListRasters('*', 'GIF')\n",
    "print 'b. GIF rasters:'\n",
    "print rasts\n",
    "print\n",
    "\n",
    "# c. List the raster whose name is GIF\n",
    "rasts = arcpy.ListRasters('GIF')\n",
    "print 'c. raster named GIF:'\n",
    "print rasts\n",
    "print\n",
    "\n",
    "# d. List the rasters whose names start with 'tree'.\n",
    "rasts = arcpy.ListRasters('tree*')\n",
    "print 'd. tree* rasters:'\n",
    "print rasts\n",
    "print\n",
    "\n",
    "# e. List the rasters whose names start with 'tree' which are GIF type files.\n",
    "rasts = arcpy.ListRasters('tree*', 'GIF')\n",
    "print 'e. tree* GIF type rasters:'\n",
    "print rasts\n",
    "print\n"
   ]
  },
  {
   "cell_type": "code",
   "execution_count": 15,
   "metadata": {
    "collapsed": false
   },
   "outputs": [
    {
     "name": "stdout",
     "output_type": "stream",
     "text": [
      "a. All the rasters:\n",
      "[u'jack.jpg', u'minus_ras', u'tree.gif', u'tree.jpg', u'tree.png', u'tree.tif', u'tree2.gif', u'tree2.jpg', u'window.jpg']\n",
      "\n",
      "b. GIF rasters:\n",
      "[u'tree.gif', u'tree2.gif']\n",
      "\n",
      "c. raster named GIF:\n",
      "[]\n",
      "\n",
      "d. tree* rasters:\n",
      "[u'tree.gif', u'tree.jpg', u'tree.png', u'tree.tif', u'tree2.gif', u'tree2.jpg']\n",
      "\n",
      "e. tree* GIF type rasters:\n",
      "[u'tree.gif', u'tree2.gif']\n",
      "\n"
     ]
    }
   ],
   "source": [
    "%run ch11/script2/rasterTypes.py"
   ]
  },
  {
   "cell_type": "code",
   "execution_count": null,
   "metadata": {
    "collapsed": true
   },
   "outputs": [],
   "source": []
  },
  {
   "cell_type": "markdown",
   "metadata": {},
   "source": [
    "## 11.3 List Fields "
   ]
  },
  {
   "cell_type": "code",
   "execution_count": 16,
   "metadata": {
    "collapsed": false,
    "scrolled": true
   },
   "outputs": [
    {
     "data": {
      "text/plain": [
       "[<Field object at 0x14b530f0[0x3f8b158]>,\n",
       " <Field object at 0x14b530b0[0x3f8ba70]>,\n",
       " <Field object at 0x14b53110[0x3f8b890]>,\n",
       " <Field object at 0x146eae90[0x3f8b920]>]"
      ]
     },
     "execution_count": 16,
     "metadata": {},
     "output_type": "execute_result"
    }
   ],
   "source": [
    "# List the Field objects for this dataset.\n",
    "fields = arcpy.ListFields('ch11/data/park.shp')\n",
    "fields"
   ]
  },
  {
   "cell_type": "code",
   "execution_count": 17,
   "metadata": {
    "collapsed": false,
    "scrolled": true
   },
   "outputs": [
    {
     "name": "stdout",
     "output_type": "stream",
     "text": [
      "FID\n",
      "Shape\n",
      "COVER\n",
      "RECNO\n"
     ]
    }
   ],
   "source": [
    "for fieldObject in fields:\n",
    "    print fieldObject.name"
   ]
  },
  {
   "cell_type": "markdown",
   "metadata": {},
   "source": [
    "### Example 11.4: List theField object properties"
   ]
  },
  {
   "cell_type": "code",
   "execution_count": null,
   "metadata": {
    "collapsed": true
   },
   "outputs": [],
   "source": [
    "# %load ch11/script2/listFields.py\n",
    "# listFields.py\n",
    "# Purpose: List attribute table field properties.\n",
    "import arcpy\n",
    "arcpy.env.workspace = 'ch11/data'\n",
    "\n",
    "fields = arcpy.ListFields('park.shp')\n",
    "for fieldObject in fields:\n",
    "    print 'Name: {0}'.format(fieldObject.name)\n",
    "    print 'Length: {0}'.format(fieldObject.length)\n",
    "    print 'Type: {0}'.format(fieldObject.type)\n",
    "    print 'Editable: {0}'.format(fieldObject.editable)\n",
    "    print 'Required: {0}\\n'.format(fieldObject.required)\n"
   ]
  },
  {
   "cell_type": "code",
   "execution_count": 20,
   "metadata": {
    "collapsed": false
   },
   "outputs": [
    {
     "name": "stdout",
     "output_type": "stream",
     "text": [
      "Name: FID\n",
      "Length: 4\n",
      "Type: OID\n",
      "Editable: False\n",
      "Required: True\n",
      "\n",
      "Name: Shape\n",
      "Length: 0\n",
      "Type: Geometry\n",
      "Editable: True\n",
      "Required: True\n",
      "\n",
      "Name: COVER\n",
      "Length: 5\n",
      "Type: String\n",
      "Editable: True\n",
      "Required: False\n",
      "\n",
      "Name: RECNO\n",
      "Length: 11\n",
      "Type: Double\n",
      "Editable: True\n",
      "Required: False\n",
      "\n"
     ]
    }
   ],
   "source": [
    "%run ch11/script2/listFields.py"
   ]
  },
  {
   "cell_type": "code",
   "execution_count": 21,
   "metadata": {
    "collapsed": false
   },
   "outputs": [
    {
     "data": {
      "text/plain": [
       "u'RECNO'"
      ]
     },
     "execution_count": 21,
     "metadata": {},
     "output_type": "execute_result"
    }
   ],
   "source": [
    "parkData = 'ch11/data/park.shp'\n",
    "fields2 = arcpy.ListFields(parkData,'*', 'Double')\n",
    "# The list length shows how many Field objects were returned.\n",
    "len( fields2)\n",
    "fields2[0].name"
   ]
  },
  {
   "cell_type": "markdown",
   "metadata": {},
   "source": [
    "## 11.4 Administrative Lists "
   ]
  },
  {
   "cell_type": "markdown",
   "metadata": {},
   "source": [
    "## 11.5 Batch Geoprocess Lists of Data "
   ]
  },
  {
   "cell_type": "code",
   "execution_count": null,
   "metadata": {
    "collapsed": false
   },
   "outputs": [],
   "source": [
    "# List all coverage, geodatabase, TIN, Raster, and CAD datasets.\n",
    "datasets = arcpy.ListDatasets('out*', 'GRID')\n",
    "for data in datasets:\n",
    "    arcpy.Delete_management(data)"
   ]
  },
  {
   "cell_type": "markdown",
   "metadata": {},
   "source": [
    "### Example 11.5: Batch buffer the feature class files in 'C:/gispy/data/ch11/'"
   ]
  },
  {
   "cell_type": "code",
   "execution_count": null,
   "metadata": {
    "collapsed": true
   },
   "outputs": [],
   "source": [
    "# %load ch11/script2/batchBuffer.py\n",
    "# batchBuffer.py\n",
    "# Purpose: Buffer each feature class in the workspace.\n",
    "# Usage: No arguments required.\n",
    "\n",
    "import arcpy, os\n",
    "arcpy.env.overwriteOutput = True\n",
    "arcpy.env.workspace = 'ch11/data'\n",
    "\n",
    "# GET a list of feature classes.\n",
    "fcs = arcpy.ListFeatureClasses()\n",
    "for fc in fcs:\n",
    "    # SET the output variable. \n",
    "    fcBuffer = os.path.splitext(fc)[0] + 'Buffer.shp'\n",
    "    # Call Buffer (Analysis) tool.\n",
    "    arcpy.Buffer_analysis(fc, fcBuffer, '1 mile')\n",
    "    print '{0} created.'.format(fcBuffer)\n"
   ]
  },
  {
   "cell_type": "code",
   "execution_count": 25,
   "metadata": {
    "collapsed": false,
    "scrolled": true
   },
   "outputs": [
    {
     "name": "stdout",
     "output_type": "stream",
     "text": [
      "data1Buffer.shp created.\n",
      "data1BufferBuffer.shp created.\n",
      "parkBuffer.shp created.\n",
      "parkBufferBuffer.shp created.\n",
      "USABuffer.shp created.\n",
      "USABufferBuffer.shp created.\n"
     ]
    }
   ],
   "source": [
    "%run ch11/script2/batchBuffer.py"
   ]
  },
  {
   "cell_type": "markdown",
   "metadata": {},
   "source": [
    "### Example 11.6: Batch buffer files in 'C:/gispy/data/ch11/' and place them in directory"
   ]
  },
  {
   "cell_type": "code",
   "execution_count": null,
   "metadata": {
    "collapsed": true
   },
   "outputs": [],
   "source": [
    "# %load ch11/script2/batchBufferv2.py\n",
    "# batchBufferv2.py\n",
    "# Purpose: Buffer each feature class in the workspace and\n",
    "#          place output in a different workspace.\n",
    "import arcpy, os\n",
    "arcpy.env.overwriteOutput = True\n",
    "# SET workspaces\n",
    "arcpy.env.workspace = 'ch11/data'\n",
    "outDir = 'ch11/scratch/buffers/'\n",
    "if not os.path.exists(outDir):\n",
    "    os.mkdir(outDir)\n",
    "# GET a list of feature classes\n",
    "fcs = arcpy.ListFeatureClasses()\n",
    "for fc in fcs:\n",
    "    # SET the output variable\n",
    "    outName = os.path.splitext(fc)[0] + '_buffer.shp'\n",
    "    fcBuffer = os.path.join(outDir, outName)\n",
    "    # Call buffer tool\n",
    "    arcpy.Buffer_analysis(fc, fcBuffer, '1 mile')\n",
    "    print '{0} created in {1}.'.format(fcBuffer, outDir)\n"
   ]
  },
  {
   "cell_type": "code",
   "execution_count": null,
   "metadata": {
    "collapsed": false,
    "scrolled": true
   },
   "outputs": [
    {
     "name": "stdout",
     "output_type": "stream",
     "text": [
      "ch11/scratch/buffers/data1_buffer.shp created in ch11/scratch/buffers/.\n",
      "ch11/scratch/buffers/data1Buffer_buffer.shp created in ch11/scratch/buffers/."
     ]
    }
   ],
   "source": [
    "%run ch11/script2/batchBufferv2.py"
   ]
  },
  {
   "cell_type": "markdown",
   "metadata": {},
   "source": [
    "### Example 11.7 tableLister.py"
   ]
  },
  {
   "cell_type": "code",
   "execution_count": null,
   "metadata": {
    "collapsed": true
   },
   "outputs": [],
   "source": [
    "# %load ch11/script2/tableLister.py\n",
    "# tableLister.py\n",
    "# Purpose: Create shapefiles from 'stations*' xy tables, connect the points,\n",
    "#          and then find then intersection of the lines.\n",
    "# Usage:  workspace_containing_tables\n",
    "# Example: C:/gispy/data/ch11/trains\n",
    "import arcpy, os, sys\n",
    "arcpy.env.workspace = sys.argv[1]\n",
    "arcpy.env.overwriteOutput = True\n",
    "tables = arcpy.ListTables('stations*', 'dBASE')\n",
    "\n",
    "tempPoints = 'temporaryPointLayer'\n",
    "\n",
    "for table in tables:\n",
    "    # SET the output variable.\n",
    "    lineFile = os.path.splitext(table)[0] + 'Line'\n",
    "    # CALL geoprocessing tools.\n",
    "    arcpy.MakeXYEventLayer_management(table, 'POINT_X', 'POINT_Y', tempPoints)\n",
    "    arcpy.PointsToLine_management(tempPoints, lineFile)\n",
    "    print '\\t{0}/{1} created.'.format(arcpy.env.workspace, lineFile)\n",
    "\n",
    "# GET the list of lines and intersect the lines.\n",
    "lineList = arcpy.ListFeatureClasses('stations*Line*')\n",
    "arcpy.Intersect_analysis(lineList, 'hubs', '#', '0.5 mile', 'POINT')\n",
    "print '{0}/hubs created.'.format(arcpy.env.workspace)\n"
   ]
  },
  {
   "cell_type": "code",
   "execution_count": null,
   "metadata": {
    "collapsed": false
   },
   "outputs": [
    {
     "name": "stdout",
     "output_type": "stream",
     "text": [
      "\tch11/data/trains/stations1Line created.\n",
      "\tch11/data/trains/stations2Line created.\n",
      "\tch11/data/trains/stations3Line created.\n",
      "\tch11/data/trains/stations4Line created.\n",
      "ch11/data/trains/hubs created.\n"
     ]
    }
   ],
   "source": [
    "%run ch11/script2/tableLister.py ch11/data/trains"
   ]
  },
  {
   "cell_type": "markdown",
   "metadata": {},
   "source": [
    "## 11.6 Debug: Step Through Code "
   ]
  },
  {
   "cell_type": "markdown",
   "metadata": {},
   "source": [
    "## 11.7 Key Terms "
   ]
  },
  {
   "cell_type": "markdown",
   "metadata": {},
   "source": [
    "## 11.8 Exercises "
   ]
  }
 ],
 "metadata": {
  "kernelspec": {
   "display_name": "Python 2",
   "language": "python",
   "name": "python2"
  },
  "language_info": {
   "codemirror_mode": {
    "name": "ipython",
    "version": 2
   },
   "file_extension": ".py",
   "mimetype": "text/x-python",
   "name": "python",
   "nbconvert_exporter": "python",
   "pygments_lexer": "ipython2",
   "version": "2.7.13"
  }
 },
 "nbformat": 4,
 "nbformat_minor": 2
}
