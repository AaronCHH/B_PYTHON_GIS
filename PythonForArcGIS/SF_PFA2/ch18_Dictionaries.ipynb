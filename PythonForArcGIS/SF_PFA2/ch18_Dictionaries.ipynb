{
 "cells": [
  {
   "cell_type": "markdown",
   "metadata": {},
   "source": [
    "# 18 Dictionaries"
   ]
  },
  {
   "cell_type": "markdown",
   "metadata": {},
   "source": [
    "## 18.1 Dictionary Terms and Syntax"
   ]
  },
  {
   "cell_type": "code",
   "execution_count": 1,
   "metadata": {
    "collapsed": true
   },
   "outputs": [],
   "source": [
    "zipcodeDictionary = {27522 : 'Granville', 28736 : 'Jackson', 27953:'Dare', \n",
    "                     27511: 'Wake', 27607: 'Wake'}"
   ]
  },
  {
   "cell_type": "code",
   "execution_count": 2,
   "metadata": {
    "collapsed": true
   },
   "outputs": [],
   "source": [
    " flickDict = {8.5:1963, 'oceans':[11,12], 'up' : 'dog'}"
   ]
  },
  {
   "cell_type": "code",
   "execution_count": 3,
   "metadata": {
    "collapsed": true
   },
   "outputs": [],
   "source": [
    " newVocab = {'mouse potato': 'a frequent computer user',\n",
    "             'wasband' : 'former husband',\n",
    "             'himbo': 'an attractive but vacuous man'}"
   ]
  },
  {
   "cell_type": "code",
   "execution_count": 4,
   "metadata": {
    "collapsed": false
   },
   "outputs": [
    {
     "data": {
      "text/plain": [
       "dict"
      ]
     },
     "execution_count": 4,
     "metadata": {},
     "output_type": "execute_result"
    }
   ],
   "source": [
    "type(newVocab)"
   ]
  },
  {
   "cell_type": "markdown",
   "metadata": {},
   "source": [
    "### 18.1.1 Access by Key, Not by Index"
   ]
  },
  {
   "cell_type": "code",
   "execution_count": 5,
   "metadata": {
    "collapsed": true
   },
   "outputs": [],
   "source": [
    "roomDict = {'cslewis': 4139, 'emforste': 4118, \n",
    "            'jkrowlin': 4098, 'jrtolkie': 4259, 'pgwodeho': 4118,\n",
    "            'jrtolkie': 4259, 'vmhugo': 2121, 'vwoolf': 3145}"
   ]
  },
  {
   "cell_type": "code",
   "execution_count": 6,
   "metadata": {
    "collapsed": false
   },
   "outputs": [
    {
     "data": {
      "text/plain": [
       "4118"
      ]
     },
     "execution_count": 6,
     "metadata": {},
     "output_type": "execute_result"
    }
   ],
   "source": [
    "roomDict['emforste']"
   ]
  },
  {
   "cell_type": "code",
   "execution_count": 8,
   "metadata": {
    "collapsed": false,
    "scrolled": true
   },
   "outputs": [
    {
     "ename": "KeyError",
     "evalue": "1",
     "output_type": "error",
     "traceback": [
      "\u001b[0;31m---------------------------------------------------------------------------\u001b[0m",
      "\u001b[0;31mKeyError\u001b[0m                                  Traceback (most recent call last)",
      "\u001b[0;32m<ipython-input-8-9af2b3fb97ec>\u001b[0m in \u001b[0;36m<module>\u001b[0;34m()\u001b[0m\n\u001b[0;32m----> 1\u001b[0;31m \u001b[0mroomDict\u001b[0m\u001b[1;33m[\u001b[0m\u001b[1;36m1\u001b[0m\u001b[1;33m]\u001b[0m\u001b[1;33m\u001b[0m\u001b[0m\n\u001b[0m",
      "\u001b[0;31mKeyError\u001b[0m: 1"
     ]
    }
   ],
   "source": [
    "roomDict[1]"
   ]
  },
  {
   "cell_type": "markdown",
   "metadata": {},
   "source": [
    "### 18.1.2 Conditional Construct vs. Dictionary"
   ]
  },
  {
   "cell_type": "code",
   "execution_count": null,
   "metadata": {
    "collapsed": true
   },
   "outputs": [],
   "source": [
    "if num == 0:\n",
    "    day = 'Monday'\n",
    "    print 'Weekday: {0}'.format(day)\n",
    "elif num == 1:\n",
    "    day = 'Tuesday'\n",
    "    print 'Weekday: {0}'.format(day)\n",
    "elif num == 2:\n",
    "    day = 'Wednesday'\n",
    "    print 'Weekday: {0}'.format(day)\n",
    "elif num == 3:\n",
    "    day = 'Thursday'\n",
    "    print 'Weekday: {0}'.format(day)\n",
    "elif num == 4:\n",
    "    day = 'Friday'\n",
    "    print 'Weekday: {0}'.format(day)"
   ]
  },
  {
   "cell_type": "markdown",
   "metadata": {},
   "source": [
    "### Example 18.1 weekdays.py"
   ]
  },
  {
   "cell_type": "code",
   "execution_count": null,
   "metadata": {
    "collapsed": true
   },
   "outputs": [],
   "source": [
    "# %load ch18/script2/weekdays.py\n",
    "# weekdays.py\n",
    "# Purpose: Print the day of the week, based on a number.\n",
    "#          Contrast using ELIF branching (15 lines of code)\n",
    "#          with using a dictionary (3 lines of code)\n",
    "# Usage: Integer between 0 and 4.\n",
    "# Example 3\n",
    "\n",
    "\n",
    "import sys\n",
    "code = int(sys.argv[1])\n",
    "if code == 0:\n",
    "    day = 'Monday'\n",
    "    print 'Weekday: {0}'.format(day)\n",
    "elif code == 1:\n",
    "    day = 'Tuesday'\n",
    "    print 'Weekday: {0}'.format(day)\n",
    "elif code == 2:\n",
    "    day = 'Wednesday'\n",
    "    print 'Weekday: {0}'.format(day)\n",
    "elif code == 3:\n",
    "    day = 'Thursday'\n",
    "    print 'Weekday: {0}'.format(day)\n",
    "elif code == 4:\n",
    "    day = 'Friday'\n",
    "    print 'Weekday: {0}'.format(day)\n",
    "\n",
    "#################################### Dictionary equivalent\n",
    "\n",
    "weekdayDict = {0: 'Monday', 1: 'Tuesday', 2: 'Wednesday', 3: 'Thursday', 4: 'Friday'}\n",
    "\n",
    "day = weekdayDict[code]\n",
    "print 'Weekday: {0}'.format(day)\n"
   ]
  },
  {
   "cell_type": "markdown",
   "metadata": {},
   "source": [
    "### 18.1.3 How to Modify: Update/Add/Delete Items"
   ]
  },
  {
   "cell_type": "code",
   "execution_count": null,
   "metadata": {
    "collapsed": true
   },
   "outputs": [],
   "source": [
    "# Modify the room number for 'emforste'.\n",
    "roomDict['emforste'] = 4139\n",
    "roomDict # The dictionary is updated.\n",
    "len(roomDict)"
   ]
  },
  {
   "cell_type": "code",
   "execution_count": null,
   "metadata": {
    "collapsed": true
   },
   "outputs": [],
   "source": [
    "# Add 'lcarroll' in room 2121 to the dictionary.\n",
    "roomDict['lcarroll'] = 2121\n",
    "roomDict # A new item is added to the dictionary.\n",
    "len(roomDict) # The length of the dictionary becomes 8."
   ]
  },
  {
   "cell_type": "code",
   "execution_count": null,
   "metadata": {
    "collapsed": true
   },
   "outputs": [],
   "source": [
    "weather = {'S1' : [15,20],'S2' : [25,30,40]}"
   ]
  },
  {
   "cell_type": "code",
   "execution_count": null,
   "metadata": {
    "collapsed": true
   },
   "outputs": [],
   "source": [
    "weather['S3'] = [33,40]\n",
    "weather"
   ]
  },
  {
   "cell_type": "code",
   "execution_count": null,
   "metadata": {
    "collapsed": true
   },
   "outputs": [],
   "source": [
    "weather['S2'].append(36)\n",
    "weather"
   ]
  },
  {
   "cell_type": "code",
   "execution_count": null,
   "metadata": {
    "collapsed": true
   },
   "outputs": [],
   "source": [
    "update = [i + 1for i in weather['S1']]\n",
    "weather['S1'] = update\n",
    "weather"
   ]
  },
  {
   "cell_type": "code",
   "execution_count": null,
   "metadata": {
    "collapsed": true
   },
   "outputs": [],
   "source": [
    "delroomDict['jrtolkie']\n",
    "roomDict"
   ]
  },
  {
   "cell_type": "code",
   "execution_count": null,
   "metadata": {
    "collapsed": true
   },
   "outputs": [],
   "source": [
    "len(roomDict)"
   ]
  },
  {
   "cell_type": "code",
   "execution_count": null,
   "metadata": {
    "collapsed": true
   },
   "outputs": [],
   "source": [
    "del roomDict['cslouis']"
   ]
  },
  {
   "cell_type": "markdown",
   "metadata": {},
   "source": [
    "## 18.2 Dictionary Operations and Methods"
   ]
  },
  {
   "cell_type": "markdown",
   "metadata": {},
   "source": [
    "### 18.2.1 Does It Have That Key?"
   ]
  },
  {
   "cell_type": "code",
   "execution_count": null,
   "metadata": {
    "collapsed": true
   },
   "outputs": [],
   "source": [
    "'cslewis' in roomDict"
   ]
  },
  {
   "cell_type": "code",
   "execution_count": null,
   "metadata": {
    "collapsed": true
   },
   "outputs": [],
   "source": [
    "'cslouis' in roomDict"
   ]
  },
  {
   "cell_type": "code",
   "execution_count": null,
   "metadata": {
    "collapsed": true
   },
   "outputs": [],
   "source": [
    "key = 'cslouis'\n",
    "if key in roomDict:\n",
    "    print roomDict[key]\n",
    "else:\n",
    "    'No {0} key found.'.format(key)"
   ]
  },
  {
   "cell_type": "markdown",
   "metadata": {},
   "source": [
    "### 18.2.2 Listing Keys, Values, and Items"
   ]
  },
  {
   "cell_type": "code",
   "execution_count": null,
   "metadata": {
    "collapsed": true
   },
   "outputs": [],
   "source": [
    "roomDict.keys()"
   ]
  },
  {
   "cell_type": "code",
   "execution_count": null,
   "metadata": {
    "collapsed": true
   },
   "outputs": [],
   "source": [
    "roomDict.values()"
   ]
  },
  {
   "cell_type": "code",
   "execution_count": null,
   "metadata": {
    "collapsed": true
   },
   "outputs": [],
   "source": [
    "roomDict.items()"
   ]
  },
  {
   "cell_type": "markdown",
   "metadata": {},
   "source": [
    "### 18.2.3 Looping Through Dictionaries"
   ]
  },
  {
   "cell_type": "code",
   "execution_count": null,
   "metadata": {
    "collapsed": true
   },
   "outputs": [],
   "source": [
    "for k in newVocab.keys():\n",
    "    print k"
   ]
  },
  {
   "cell_type": "code",
   "execution_count": null,
   "metadata": {
    "collapsed": true
   },
   "outputs": [],
   "source": [
    "for v in newVocab.values():\n",
    "    print v"
   ]
  },
  {
   "cell_type": "code",
   "execution_count": null,
   "metadata": {
    "collapsed": true
   },
   "outputs": [],
   "source": [
    "for k, v in newVocab.items():\n",
    "    print k, ':', v"
   ]
  },
  {
   "cell_type": "code",
   "execution_count": null,
   "metadata": {
    "collapsed": true
   },
   "outputs": [],
   "source": [
    "for k in weather.keys():\n",
    "    weather[k].append(0)\n",
    "weather"
   ]
  },
  {
   "cell_type": "code",
   "execution_count": null,
   "metadata": {
    "collapsed": true
   },
   "outputs": [],
   "source": [
    "for v in weather.values():\n",
    "print sum(v)/len(v),"
   ]
  },
  {
   "cell_type": "code",
   "execution_count": null,
   "metadata": {
    "collapsed": true
   },
   "outputs": [],
   "source": [
    "for k, v in roomDict.items():\n",
    "    room = str(v)\n",
    "    if room.startswith('4'):\n",
    "        print'{0}, room {1}'.format(k,v)"
   ]
  },
  {
   "cell_type": "markdown",
   "metadata": {},
   "source": [
    "## 18.3 Populating a Dictionary"
   ]
  },
  {
   "cell_type": "markdown",
   "metadata": {},
   "source": [
    "### Example 18.2 healthyLiving.py"
   ]
  },
  {
   "cell_type": "code",
   "execution_count": null,
   "metadata": {
    "collapsed": true
   },
   "outputs": [],
   "source": [
    "# %load ch18/script2/healthyLiving.py\n",
    "# healthyLiving.py\n",
    "# Purpose: Populate a dictionary based on user responses.\n",
    "#          Inquires about fruit and veg multiple times to\n",
    "#          but only keeps the last response.\n",
    "# Usage: No arguments required to start the script running.\n",
    "choiceList = ['fruit', 'fruit', 'fruit', 'veg', 'veg', 'veg', 'exercise', 'park']\n",
    "favDict = {}  # Create empty dictionary\n",
    "for c in choiceList:\n",
    "    question = \"What is your favorite {0}?\".format(c)\n",
    "    answer = raw_input(question)\n",
    "    favDict[c] = answer  # Add or update item\n",
    "print 'favDict {0}'.format(favDict)\n"
   ]
  },
  {
   "cell_type": "markdown",
   "metadata": {},
   "source": [
    "### Example 18.3 healthyLivingV2.py"
   ]
  },
  {
   "cell_type": "code",
   "execution_count": null,
   "metadata": {
    "collapsed": true
   },
   "outputs": [],
   "source": [
    "# %load ch18/script2/healthyLivingV2.py\n",
    "# healthyLivingV2.py\n",
    "# Purpose: Populate a dictionary based on user responses.\n",
    "#          Inquires about fruit and veg multiple times to\n",
    "#          and collects ALL of the responses.\n",
    "# Usage: No arguments required to start the script running.\n",
    "choiceList = ['fruit', 'fruit', 'fruit', 'veg', 'veg', 'veg', 'exercise', 'park']\n",
    "topDict = {}  # Create empty dictionary\n",
    "for c in choiceList:\n",
    "    question = \"What is your favorite {0}?\".format(c)\n",
    "    answer = raw_input(question)\n",
    "    if not c in topDict:\n",
    "        topDict[c] = [answer]  # Add a new item to the dictionary.\n",
    "    else:\n",
    "        topDict[c].append(answer)  # Update an item by adding to an item's list.\n",
    "\n",
    "print 'topDict {0}'.format(topDict)\n"
   ]
  },
  {
   "cell_type": "markdown",
   "metadata": {},
   "source": [
    "### Example 18.4 fileDates.py"
   ]
  },
  {
   "cell_type": "code",
   "execution_count": null,
   "metadata": {
    "collapsed": true
   },
   "outputs": [],
   "source": [
    "# %load ch18/script2/fileDates.py\n",
    "# fileDates.py\n",
    "# Purpose: Collect filenames and modification dates in a dictionary.\n",
    "# Usage: No arguments needed.\n",
    "import os, time\n",
    "\n",
    "inputDir = 'data/smallDir'\n",
    "\n",
    "fileList = os.listdir(inputDir)\n",
    "\n",
    "fileDict = {}\n",
    "for f in fileList:\n",
    "    epochNum = os.path.getmtime(inputDir + '/' + f)\n",
    "    modTime = time.ctime(epochNum)\n",
    "    fileDict[f] = modTime\n",
    "\n",
    "print fileDict\n"
   ]
  },
  {
   "cell_type": "markdown",
   "metadata": {},
   "source": [
    "### 18.3.1 Dictionaries and Cursors"
   ]
  },
  {
   "cell_type": "markdown",
   "metadata": {},
   "source": [
    "### Example 18.5 areaMedian.py"
   ]
  },
  {
   "cell_type": "code",
   "execution_count": null,
   "metadata": {
    "collapsed": true
   },
   "outputs": [],
   "source": [
    "# %load ch18/script2/areaMedian.py\n",
    "# areaMedian.py\n",
    "# Purpose: Find the polygon median area and identify polygons\n",
    "#          with areas in this range.\n",
    "# Usage: No arguments needed.\n",
    "import arcpy, numpy\n",
    "\n",
    "fc = 'data/parkAreas.shp'\n",
    "idField = 'FID'\n",
    "areaField = 'F_AREA' \n",
    "areasDict = {}\n",
    "\n",
    "# User search cursor to populate id:area dictionary items.\n",
    "sc = arcpy.da.SearchCursor(fc, [idField, areaField])\n",
    "for row in sc:\n",
    "    id = row[0]\n",
    "    area = row[1]\n",
    "    areasDict[id] = area\n",
    "del sc\n",
    "\n",
    "# Find the median area.\n",
    "areas = areasDict.values()\n",
    "medianArea = numpy.median(areas)\n",
    "print 'Median area: {0}'.format(medianArea)\n",
    "\n",
    "# Find the polygons with values close to median.\n",
    "sqft = 400\n",
    "print 'Polygons close to median:'\n",
    "for k, v in areasDict.items():\n",
    "    if medianArea - sqft < v < medianArea + sqft:\n",
    "        print '{0}: {1}, {2}: {3}'.format(idField, k, areaField, v)\n"
   ]
  },
  {
   "cell_type": "markdown",
   "metadata": {},
   "source": [
    "### Example 18.6 coverMedianArea.py"
   ]
  },
  {
   "cell_type": "code",
   "execution_count": null,
   "metadata": {
    "collapsed": true
   },
   "outputs": [],
   "source": [
    "# %load ch18/script2/coverMedianArea.py\n",
    "# coverMedianArea.py\n",
    "# Purpose: Find the median area of polygons of each cover type.\n",
    "# Usage: No arguments needed.\n",
    "import arcpy, numpy\n",
    "\n",
    "arcpy.env.workspace = 'data'\n",
    "fc = 'parkAreas.shp'\n",
    "\n",
    "# Populate the dictionary,\n",
    "# accumulate a list of areas for each cover type.\n",
    "d = {}\n",
    "sc = arcpy.da.SearchCursor(fc, ['COVER', 'F_AREA'])\n",
    "for row in sc:\n",
    "    cover = row[0]\n",
    "    area = row[1]\n",
    "    if cover in d:\n",
    "        d[cover].append(area)\n",
    "    else:\n",
    "        d[cover] = [area]\n",
    "del sc\n",
    "\n",
    "#Calculate the median area for each cover type.\n",
    "for k, v in d.items():\n",
    "    median = numpy.median(v)\n",
    "    print \"Polygons with cover '{0}' have median area {1}\".format(k, median)\n",
    "\n",
    "\n",
    "##>>> Polygons with cover woods have median area 83095.3479504\n",
    "##Polygons with cover other have median area 55491.6260843\n",
    "##Polygons with cover orch have median area 83477.7527484\n"
   ]
  },
  {
   "cell_type": "markdown",
   "metadata": {},
   "source": [
    "## 18.4 Discussion"
   ]
  },
  {
   "cell_type": "code",
   "execution_count": null,
   "metadata": {
    "collapsed": true
   },
   "outputs": [],
   "source": []
  },
  {
   "cell_type": "markdown",
   "metadata": {},
   "source": [
    "## 18.5 Key Terms"
   ]
  },
  {
   "cell_type": "code",
   "execution_count": null,
   "metadata": {
    "collapsed": true
   },
   "outputs": [],
   "source": []
  },
  {
   "cell_type": "markdown",
   "metadata": {},
   "source": [
    "## 18.6 Exercises"
   ]
  }
 ],
 "metadata": {
  "kernelspec": {
   "display_name": "Python 2",
   "language": "python",
   "name": "python2"
  },
  "language_info": {
   "codemirror_mode": {
    "name": "ipython",
    "version": 2
   },
   "file_extension": ".py",
   "mimetype": "text/x-python",
   "name": "python",
   "nbconvert_exporter": "python",
   "pygments_lexer": "ipython2",
   "version": "2.7.2"
  }
 },
 "nbformat": 4,
 "nbformat_minor": 1
}
