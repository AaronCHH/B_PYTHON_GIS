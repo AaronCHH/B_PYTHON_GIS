{
 "cells": [
  {
   "cell_type": "markdown",
   "metadata": {},
   "source": [
    "# 10 Repetition: Looping for Geoprocessing"
   ]
  },
  {
   "cell_type": "markdown",
   "metadata": {},
   "source": [
    "## 10.1 Looping Syntax"
   ]
  },
  {
   "cell_type": "markdown",
   "metadata": {},
   "source": [
    "### 10.1.1 WHILE-Loops"
   ]
  },
  {
   "cell_type": "markdown",
   "metadata": {},
   "source": [
    "### Example 10.1 simpleWhileLoop.py"
   ]
  },
  {
   "cell_type": "code",
   "execution_count": null,
   "metadata": {
    "collapsed": true
   },
   "outputs": [],
   "source": [
    "# %load ch10/script2/simpleWhileLoop.py\n",
    "# simpleWhileLoop.py\n",
    "x = 1\n",
    "while x <= 5:\n",
    "    print x\n",
    "    x = x + 1\n",
    "print \"I'm done!\"\n"
   ]
  },
  {
   "cell_type": "code",
   "execution_count": 2,
   "metadata": {
    "collapsed": false,
    "scrolled": true
   },
   "outputs": [
    {
     "name": "stdout",
     "output_type": "stream",
     "text": [
      "1\n",
      "2\n",
      "3\n",
      "4\n",
      "5\n",
      "I'm done!\n"
     ]
    }
   ],
   "source": [
    "%run ch10/script2/simpleWhileLoop.py"
   ]
  },
  {
   "cell_type": "markdown",
   "metadata": {},
   "source": [
    "### Example 10.2: Use aWHILE -loop to create 3 rasters containing random values with a normal distribution"
   ]
  },
  {
   "cell_type": "code",
   "execution_count": null,
   "metadata": {
    "collapsed": true
   },
   "outputs": [],
   "source": [
    "# %load ch10/script2/normalRastsLoop.py\n",
    "# normalRastsLoop.py\n",
    "# Purpose: Create 3 raster containing random values with a normal (gaussian) distribution.\n",
    "\n",
    "import arcpy\n",
    "arcpy.env.workspace = 'ch10/data'\n",
    "outDir = 'ch10/scratch'\n",
    "arcpy.env.overwriteOutput = True\n",
    "arcpy.CheckOutExtension('Spatial')\n",
    "\n",
    "n = 1\n",
    "while n < 4:\n",
    "    outputName = 'out{0}'.format(n)\n",
    "    tempRast = arcpy.sa.CreateNormalRaster()\n",
    "    tempRast.save(outDir + outputName)\n",
    "    print '{0}{1} created.'.format(outDir, outputName)\n",
    "    n = n + 1\n",
    "del tempRast\n",
    "print 'Normal raster creation complete.'\n"
   ]
  },
  {
   "cell_type": "code",
   "execution_count": 5,
   "metadata": {
    "collapsed": false
   },
   "outputs": [
    {
     "name": "stdout",
     "output_type": "stream",
     "text": [
      "ch10/scratchout1 created.\n",
      "ch10/scratchout2 created.\n",
      "ch10/scratchout3 created.\n",
      "Normal raster creation complete.\n"
     ]
    }
   ],
   "source": [
    "%run ch10/script2/normalRastsLoop.py"
   ]
  },
  {
   "cell_type": "markdown",
   "metadata": {},
   "source": [
    "### 10.1.2 FOR-Loops"
   ]
  },
  {
   "cell_type": "markdown",
   "metadata": {},
   "source": [
    "### Example 10.3: Basic FOR-loop simpleForLoop.py"
   ]
  },
  {
   "cell_type": "code",
   "execution_count": null,
   "metadata": {
    "collapsed": true
   },
   "outputs": [],
   "source": [
    "# %load ch10/script2/simpleForLoop.py\n",
    "# simpleForLoop.py\n",
    "myFiles = ['data1.shp', 'data2.shp',  'data3.shp', 'data4.shp']\n",
    "for currentFile in myFiles:\n",
    "    print currentFile\n",
    "print \"I'm done!\"\n"
   ]
  },
  {
   "cell_type": "code",
   "execution_count": 7,
   "metadata": {
    "collapsed": false
   },
   "outputs": [
    {
     "name": "stdout",
     "output_type": "stream",
     "text": [
      "data1.shp\n",
      "data2.shp\n",
      "data3.shp\n",
      "data4.shp\n",
      "I'm done!\n"
     ]
    }
   ],
   "source": [
    "%run ch10/script2/simpleForLoop.py"
   ]
  },
  {
   "cell_type": "code",
   "execution_count": 8,
   "metadata": {
    "collapsed": false,
    "scrolled": true
   },
   "outputs": [
    {
     "name": "stdout",
     "output_type": "stream",
     "text": [
      "data1.shp\n",
      "data2.shp\n",
      "data3.shp\n",
      "data4.shp\n"
     ]
    }
   ],
   "source": [
    "dFiles = ['data1.shp', 'data2.shp','data3.shp','data4.shp']\n",
    "for elephant in dFiles:\n",
    "    print elephant"
   ]
  },
  {
   "cell_type": "markdown",
   "metadata": {},
   "source": [
    "### Example 10.4: Use aFOR -loop to perform a point to line conversion on a hard coded file list"
   ]
  },
  {
   "cell_type": "code",
   "execution_count": null,
   "metadata": {
    "collapsed": true
   },
   "outputs": [],
   "source": [
    "# %load ch10/script2/point2Line.py\n",
    "# point2Line.py\n",
    "# Purpose: Create a set of line features from a set of point features in a list.\n",
    "import arcpy\n",
    "arcpy.env.workspace = 'ch10/data'\n",
    "outDir = 'ch10/scratch'\n",
    "arcpy.env.overwriteOutput = True\n",
    "\n",
    "theFiles = ['data1.shp', 'data2.shp', 'data3.shp', 'data4.shp']\n",
    "for currentFile in theFiles:\n",
    "    # Remove file extension from the current name.\n",
    "    baseName = currentFile[:-4]\n",
    "    # Create unique output name. E.g., 'data1Line.shp'.\n",
    "    outName = outDir + baseName + 'Line.shp'\n",
    "    arcpy.PointsToLine_management(currentFile, outName)\n",
    "    print '{0}{1} created.'.format(outDir, outName)\n"
   ]
  },
  {
   "cell_type": "code",
   "execution_count": null,
   "metadata": {
    "collapsed": false
   },
   "outputs": [
    {
     "name": "stdout",
     "output_type": "stream",
     "text": [
      "ch10/scratchch10/scratchdata1Line.shp created.\n",
      "ch10/scratchch10/scratchdata2Line.shp created.\n",
      "ch10/scratchch10/scratchdata3Line.shp created.\n",
      "ch10/scratchch10/scratchdata4Line.shp created.\n"
     ]
    }
   ],
   "source": [
    "%run ch10/script2/point2Line.py"
   ]
  },
  {
   "cell_type": "markdown",
   "metadata": {},
   "source": [
    "### Example 10.5: FOR-loop using therange function to update the linear unit"
   ]
  },
  {
   "cell_type": "code",
   "execution_count": null,
   "metadata": {
    "collapsed": true
   },
   "outputs": [],
   "source": [
    "# %load ch10/script2/bufferLoopRange.py\n",
    "# bufferLoopRange.py\n",
    "# Purpose: Buffer a park varying buffer distances from 1 to 5 miles.\n",
    "\n",
    "import arcpy\n",
    "arcpy.env.workspace = 'ch10/data'\n",
    "outDir = 'ch10/scratch'\n",
    "arcpy.env.overwriteOutput = True\n",
    "inName = 'park.shp'\n",
    "for num in range(1, 6):\n",
    "    # Set the buffer distance based on num ('1 miles', '2 miles', ...).\n",
    "    distance = '{0} miles'.format(num)\n",
    "    # Set the output name based on num ('buffer1.shp', 'buffer2.shp', ...)\n",
    "    outName = outDir + 'buffer{0}.shp'.format(num)\n",
    "    arcpy.Buffer_analysis(inName, outName, distance)\n",
    "    print '{0}{1} created.'.format(outDir, outName)\n"
   ]
  },
  {
   "cell_type": "code",
   "execution_count": 3,
   "metadata": {
    "collapsed": false
   },
   "outputs": [
    {
     "name": "stdout",
     "output_type": "stream",
     "text": [
      "ch10/scratchch10/scratchbuffer1.shp created.\n",
      "ch10/scratchch10/scratchbuffer2.shp created.\n",
      "ch10/scratchch10/scratchbuffer3.shp created.\n",
      "ch10/scratchch10/scratchbuffer4.shp created.\n",
      "ch10/scratchch10/scratchbuffer5.shp created.\n"
     ]
    }
   ],
   "source": [
    "%run ch10/script2/bufferLoopRange.py"
   ]
  },
  {
   "cell_type": "markdown",
   "metadata": {},
   "source": [
    "## 10.2 Nested Code Blocks"
   ]
  },
  {
   "cell_type": "markdown",
   "metadata": {},
   "source": [
    "### Example 10.6 emotaLoop.py"
   ]
  },
  {
   "cell_type": "code",
   "execution_count": null,
   "metadata": {
    "collapsed": true
   },
   "outputs": [],
   "source": [
    "# %load ch10/script2/emotaLoop.py\n",
    "# emotaLoop.py\n",
    "# Purpose: Nest conditions inside a loop to print an emoticon for each file name.\n",
    "myFiles = ['crops.csv', 'data1.shp', 'rast', 'xy1.txt']\n",
    "\n",
    "for f in myFiles:\n",
    "    if f.endswith('.shp'):\n",
    "        print '   ;]   ' + f\n",
    "    elif f.endswith('.txt'):\n",
    "        print '   :(   ' + f\n",
    "    else:\n",
    "        print '   :o   ' + f\n"
   ]
  },
  {
   "cell_type": "code",
   "execution_count": 5,
   "metadata": {
    "collapsed": false
   },
   "outputs": [
    {
     "name": "stdout",
     "output_type": "stream",
     "text": [
      "   :o   crops.csv\n",
      "   ;]   data1.shp\n",
      "   :o   rast\n",
      "   :(   xy1.txt\n"
     ]
    }
   ],
   "source": [
    "%run ch10/script2/emotaLoop.py"
   ]
  },
  {
   "cell_type": "markdown",
   "metadata": {},
   "source": [
    "### Example 10.7 scatting.py"
   ]
  },
  {
   "cell_type": "code",
   "execution_count": null,
   "metadata": {
    "collapsed": true
   },
   "outputs": [],
   "source": [
    "# %load ch10/script2/scatting.py\n",
    "# scatting.py\n",
    "# Purpose: Use nested loops to scat.\n",
    "print '\\nskeep-de'\n",
    "for i in range(2):\n",
    "    print '    beep'\n",
    "    for j in range(3):\n",
    "        print '        bop'\n",
    "print 'ba-doop!'\n"
   ]
  },
  {
   "cell_type": "code",
   "execution_count": 7,
   "metadata": {
    "collapsed": false
   },
   "outputs": [
    {
     "name": "stdout",
     "output_type": "stream",
     "text": [
      "\n",
      "skeep-de\n",
      "    beep\n",
      "        bop\n",
      "        bop\n",
      "        bop\n",
      "    beep\n",
      "        bop\n",
      "        bop\n",
      "        bop\n",
      "ba-doop!\n"
     ]
    }
   ],
   "source": [
    "%run ch10/script2/scatting.py"
   ]
  },
  {
   "cell_type": "markdown",
   "metadata": {},
   "source": [
    "## 10.3 Directory Inventory"
   ]
  },
  {
   "cell_type": "code",
   "execution_count": 8,
   "metadata": {
    "collapsed": false
   },
   "outputs": [
    {
     "data": {
      "text/plain": [
       "['istanbul.jpg',\n",
       " 'istanbul2.jpg',\n",
       " 'italy',\n",
       " 'jerusalem',\n",
       " 'marbleRoad.jpg',\n",
       " 'schema.ini',\n",
       " 'spice_market.jpg',\n",
       " 'stage.jpg']"
      ]
     },
     "execution_count": 8,
     "metadata": {},
     "output_type": "execute_result"
    }
   ],
   "source": [
    "import os\n",
    "theDir = 'ch10/data/pics'\n",
    "# os.listdir returns a list of the files\n",
    "theFiles = os.listdir(theDir)\n",
    "theFiles"
   ]
  },
  {
   "cell_type": "code",
   "execution_count": 9,
   "metadata": {
    "collapsed": false
   },
   "outputs": [
    {
     "name": "stdout",
     "output_type": "stream",
     "text": [
      "istanbul.jpg\n",
      "istanbul2.jpg\n",
      "italy\n",
      "jerusalem\n",
      "marbleRoad.jpg\n",
      "schema.ini\n",
      "spice_market.jpg\n",
      "stage.jpg\n"
     ]
    }
   ],
   "source": [
    "for fileName in theFiles:\n",
    "    print fileName"
   ]
  },
  {
   "cell_type": "markdown",
   "metadata": {},
   "source": [
    "### Example 10.8: List files with theos module and geoprocess the files: copyLoop.py"
   ]
  },
  {
   "cell_type": "code",
   "execution_count": null,
   "metadata": {
    "collapsed": true
   },
   "outputs": [],
   "source": [
    "# %load ch10/script2/copyLoop.py\n",
    "# copyLoop.py\n",
    "# Purpose: Make a copy of each ASCII .txt extension file.\n",
    "\n",
    "import arcpy, os\n",
    "\n",
    "arcpy.env.workspace = 'ch10/data'\n",
    "outDir = 'ch10/scratch/'\n",
    "theFiles = os.listdir(arcpy.env.workspace)\n",
    "for fileName in theFiles:\n",
    "    if fileName.endswith('.txt'):\n",
    "        outName = outDir + fileName[:-4] + 'V2.txt'\n",
    "        arcpy.Copy_management(fileName, outName)\n",
    "        print '{0} created.'.format(outName)\n"
   ]
  },
  {
   "cell_type": "code",
   "execution_count": 12,
   "metadata": {
    "collapsed": false,
    "scrolled": true
   },
   "outputs": [
    {
     "name": "stdout",
     "output_type": "stream",
     "text": [
      "ch10/scratch/dataV2.txt created.\n",
      "ch10/scratch/xy1V2.txt created.\n",
      "ch10/scratch/xy_currentV2.txt created.\n"
     ]
    }
   ],
   "source": [
    "%run ch10/script2/copyLoop.py"
   ]
  },
  {
   "cell_type": "code",
   "execution_count": 14,
   "metadata": {
    "collapsed": false
   },
   "outputs": [
    {
     "name": "stdout",
     "output_type": "stream",
     "text": [
      "False\n",
      "False\n",
      "False\n",
      "False\n",
      "False\n",
      "False\n",
      "False\n",
      "False\n"
     ]
    }
   ],
   "source": [
    "import os\n",
    "theDir = 'ch10/data/pics'\n",
    "# os.listdir returns a list of the files\n",
    "theFiles = os.listdir(theDir)\n",
    "for fileName in theFiles:\n",
    "    print os.path.exists( fileName)"
   ]
  },
  {
   "cell_type": "markdown",
   "metadata": {},
   "source": [
    "### Example 10.9: Useos.path.join inside a loop to create full path fi le names printModTime.py"
   ]
  },
  {
   "cell_type": "code",
   "execution_count": null,
   "metadata": {
    "collapsed": true
   },
   "outputs": [],
   "source": [
    "# %load ch10/script2/printModTime.py\n",
    "# printModTime.py\n",
    "# Purpose: For each file, print the time of most recent modification.\n",
    "# Input:   No arguments required.\n",
    "\n",
    "import os, datetime\n",
    "\n",
    "theDir = \"ch10/data/pics\"\n",
    "theFiles = os.listdir(theDir)\n",
    "for f in theFiles:\n",
    "    fullName = os.path.join(theDir, f)\n",
    "    # Get the modification time.\n",
    "    print os.path.getmtime(fullName)\n",
    "\n",
    "\n",
    "\n",
    "##import os, datetime  #(this version provides fancier formatting)\n",
    "##\n",
    "##theDir = \"C:/gispy/data/ch10/pics\"\n",
    "##theFiles = os.listdir(theDir)\n",
    "##for f in theFiles:\n",
    "##\tfullName = os.path.join(theDir, f)\n",
    "##\t# Get the modification time.\n",
    "##\tmodTime = os.path.getmtime(fullName)\n",
    "##\t# Convert Epoch time to a time stamp.\n",
    "##\ttheDate = datetime.datetime.fromtimestamp(modTime)\n",
    "##\t# Reformat the time stamp\n",
    "##\tprint theDate.strftime(\"%m/%d/%Y %H:%M:%S\")\n"
   ]
  },
  {
   "cell_type": "code",
   "execution_count": 17,
   "metadata": {
    "collapsed": false
   },
   "outputs": [
    {
     "name": "stdout",
     "output_type": "stream",
     "text": [
      "1455059926.0\n",
      "1455059926.0\n",
      "1479981414.48\n",
      "1479981414.55\n",
      "1455059926.0\n",
      "1455059926.0\n",
      "1455059926.0\n",
      "1455059926.0\n"
     ]
    }
   ],
   "source": [
    "%run ch10/script2/printModTime.py"
   ]
  },
  {
   "cell_type": "markdown",
   "metadata": {},
   "source": [
    "## 10.4 Indentation and the TabNanny"
   ]
  },
  {
   "cell_type": "markdown",
   "metadata": {},
   "source": [
    "## 10.5 Key Terms"
   ]
  },
  {
   "cell_type": "markdown",
   "metadata": {},
   "source": [
    "## 10.6 Exercises"
   ]
  },
  {
   "cell_type": "markdown",
   "metadata": {},
   "source": [
    "```\n",
    "The while keyword\n",
    "The for keyword\n",
    "The for andin keyword pairing\n",
    "Iterating variable\n",
    "Sequence data objects\n",
    "Nested looping\n",
    "The os.listdir function\n",
    "```"
   ]
  },
  {
   "cell_type": "code",
   "execution_count": null,
   "metadata": {
    "collapsed": true
   },
   "outputs": [],
   "source": []
  }
 ],
 "metadata": {
  "kernelspec": {
   "display_name": "Python 2",
   "language": "python",
   "name": "python2"
  },
  "language_info": {
   "codemirror_mode": {
    "name": "ipython",
    "version": 2
   },
   "file_extension": ".py",
   "mimetype": "text/x-python",
   "name": "python",
   "nbconvert_exporter": "python",
   "pygments_lexer": "ipython2",
   "version": "2.7.13"
  }
 },
 "nbformat": 4,
 "nbformat_minor": 1
}
