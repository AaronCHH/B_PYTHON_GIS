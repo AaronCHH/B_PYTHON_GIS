{
 "cells": [
  {
   "cell_type": "markdown",
   "metadata": {},
   "source": [
    "## 7 Getting User Input\n",
    "* 7.1 Hard-coding versus Soft-coding\n",
    "* 7.2 Using GetParameterAsText\n",
    "* 7.3 Using sys.argv\n",
    "* 7.4 Missing Arguments\n",
    "* 7.5 Argument Spacing\n",
    "* 7.6 Handling File Names and Paths with os Module Functions\n",
    "* 7.6.1 Getting the Script Path\n",
    "* 7.7 Key Terms\n",
    "* 7.8 Exercises"
   ]
  },
  {
   "cell_type": "markdown",
   "metadata": {},
   "source": [
    "---"
   ]
  },
  {
   "cell_type": "markdown",
   "metadata": {},
   "source": [
    "## 7.1 Hard-coding versus Soft-coding  "
   ]
  },
  {
   "cell_type": "code",
   "execution_count": 1,
   "metadata": {
    "collapsed": false
   },
   "outputs": [
    {
     "data": {
      "text/plain": [
       "<Result '.\\\\WS\\\\boundingBoxes.shp'>"
      ]
     },
     "execution_count": 1,
     "metadata": {},
     "output_type": "execute_result"
    }
   ],
   "source": [
    "# %load script/boundingGeom.py\n",
    "# boundingGeom.py\n",
    "# Purpose: Find the minimum bounding geometry of a set of features.\n",
    "# Usage: No arguments required.\n",
    "\n",
    "import arcpy\n",
    "\n",
    "arcpy.env.workspace = './data'\n",
    "arcpy.env.overwriteOutput = True\n",
    "\n",
    "inputFeatures = 'park.shp'\n",
    "outputFeatures = './WS/boundingBoxes.shp'\n",
    "\n",
    "arcpy.MinimumBoundingGeometry_management(inputFeatures, outputFeatures)"
   ]
  },
  {
   "cell_type": "markdown",
   "metadata": {},
   "source": [
    "## 7.2 Using GetParameterAsText  "
   ]
  },
  {
   "cell_type": "code",
   "execution_count": null,
   "metadata": {
    "collapsed": false,
    "scrolled": true
   },
   "outputs": [],
   "source": [
    "# %load script/boundingGeomV2.py\n",
    "# boundingGeomV2.py (soft-coded using arcpy)\n",
    "# Purpose: Find the minimum bounding geometry of a set of features.\n",
    "# Usage: workspace, input_features, output_features\n",
    "# Example: C:/gispy/data/ch07 park.shp C:/gispy/scratch/boundingBoxes.shp\n",
    "import arcpy\n",
    "\n",
    "arcpy.env.workspace = arcpy.GetParameterAsText(0)\n",
    "arcpy.env.overwriteOutput = True\n",
    "\n",
    "inputFeatures = arcpy.GetParameterAsText(1)\n",
    "outputFeatures = arcpy.GetParameterAsText(2)\n",
    "\n",
    "arcpy.MinimumBoundingGeometry_management(inputFeatures, outputFeatures)\n"
   ]
  },
  {
   "cell_type": "code",
   "execution_count": 13,
   "metadata": {
    "collapsed": true
   },
   "outputs": [],
   "source": [
    "%run boundingGeomV2.py data park.shp scratch/boundingBoxes2.shp"
   ]
  },
  {
   "cell_type": "markdown",
   "metadata": {},
   "source": [
    "## 7.3 Using sys.argv  "
   ]
  },
  {
   "cell_type": "code",
   "execution_count": null,
   "metadata": {
    "collapsed": true
   },
   "outputs": [],
   "source": [
    "# %load boundingGeomV3.py\n",
    "# boundingGeomV3.py (soft-coded using sys)\n",
    "# Purpose: Find the minimum bounding geometry of a set of features.\n",
    "# Usage: workspace, input_features, output_features\n",
    "# Example: C:/gispy/data/ch07 park.shp C:/gispy/scratch/boundingBoxes.shp\n",
    "import arcpy, sys\n",
    "\n",
    "arcpy.env.workspace = sys.argv[1]\n",
    "arcpy.env.overwriteOutput = True\n",
    "\n",
    "inputFeatures = sys.argv[2]\n",
    "outputFeatures = sys.argv[3]\n",
    "\n",
    "arcpy.MinimumBoundingGeometry_management(inputFeatures, outputFeatures)\n"
   ]
  },
  {
   "cell_type": "code",
   "execution_count": 15,
   "metadata": {
    "collapsed": true
   },
   "outputs": [],
   "source": [
    "%run boundingGeomV3.py data park.shp scratch/boundingBoxes3.shp"
   ]
  },
  {
   "cell_type": "markdown",
   "metadata": {},
   "source": [
    "## 7.4 Missing Arguments  "
   ]
  },
  {
   "cell_type": "code",
   "execution_count": null,
   "metadata": {
    "collapsed": true
   },
   "outputs": [],
   "source": [
    "# %load script/argSpacing.py\n",
    "# argSpacing.py\n",
    "# Purpose: Print the number of incoming user arguments\n",
    "# and the first 2 arguments.\n",
    "import arcpy\n",
    "\n",
    "numArgs = arcpy.GetArgumentCount()\n",
    "print 'Number of user arguments: {0}'.format(numArgs)\n",
    "print 'The first argument: {0}'.format(arcpy.GetParameterAsText(0))\n",
    "print 'The second argument: {0}'.format(arcpy.GetParameterAsText(1))"
   ]
  },
  {
   "cell_type": "markdown",
   "metadata": {},
   "source": [
    "## 7.5 Argument Spacing  "
   ]
  },
  {
   "cell_type": "markdown",
   "metadata": {},
   "source": [
    "## 7.6 Handling File Names and Paths with os Module Functions  "
   ]
  },
  {
   "cell_type": "code",
   "execution_count": 18,
   "metadata": {
    "collapsed": false
   },
   "outputs": [
    {
     "data": {
      "text/plain": [
       "'park.shp'"
      ]
     },
     "execution_count": 18,
     "metadata": {},
     "output_type": "execute_result"
    }
   ],
   "source": [
    "import os\n",
    "inFile = './data/park.shp'\n",
    "# Get only the file name.\n",
    "fileName = os.path.basename(inFile)\n",
    "fileName\n"
   ]
  },
  {
   "cell_type": "code",
   "execution_count": 19,
   "metadata": {
    "collapsed": false
   },
   "outputs": [
    {
     "data": {
      "text/plain": [
       "'./data'"
      ]
     },
     "execution_count": 19,
     "metadata": {},
     "output_type": "execute_result"
    }
   ],
   "source": [
    "# Get only the path.\n",
    "filePath = os.path.dirname(inFile)\n",
    "filePath"
   ]
  },
  {
   "cell_type": "code",
   "execution_count": 20,
   "metadata": {
    "collapsed": false
   },
   "outputs": [
    {
     "data": {
      "text/plain": [
       "'./data\\\\park.shp'"
      ]
     },
     "execution_count": 20,
     "metadata": {},
     "output_type": "execute_result"
    }
   ],
   "source": [
    "# Join the arguments into a valid file path.\n",
    "fullPath = os.path.join(filePath, fileName)\n",
    "fullPath"
   ]
  },
  {
   "cell_type": "code",
   "execution_count": null,
   "metadata": {
    "collapsed": true
   },
   "outputs": [],
   "source": [
    "# %load script/copyfile.py\n",
    "# copyFile.py\n",
    "# Purpose: Copy a file.\n",
    "# Usage: source_full_path_file_name, destination_directory\n",
    "# Example: C:/gispy/data/ch07/park.shp C:/gispy/scratch/\n",
    "\n",
    "import arcpy, os\n",
    "\n",
    "inputFile = arcpy.GetParameterAsText(0)\n",
    "outputDir = arcpy.GetParameterAsText(1)\n",
    "\n",
    "baseName = os.path.basename(inputFile)\n",
    "outputFile = os.path.join(outputDir, baseName)\n",
    "\n",
    "arcpy.Copy_management(inputFile, outputFile)\n",
    "\n",
    "print 'inputFile =', inputFile\n",
    "print 'outputDir =', outputDir\n",
    "print\n",
    "print 'baseName =', baseName\n",
    "print 'outputFile = ', outputFile\n"
   ]
  },
  {
   "cell_type": "code",
   "execution_count": 25,
   "metadata": {
    "collapsed": false,
    "scrolled": true
   },
   "outputs": [
    {
     "name": "stdout",
     "output_type": "stream",
     "text": [
      "inputFile = data/park.shp\n",
      "outputDir = scratch\n",
      "\n",
      "baseName = park.shp\n",
      "outputFile =  scratch\\park.shp\n"
     ]
    }
   ],
   "source": [
    "%run script/copyfile.py data/park.shp scratch"
   ]
  },
  {
   "cell_type": "code",
   "execution_count": null,
   "metadata": {
    "collapsed": true
   },
   "outputs": [],
   "source": [
    "# %load script/compact.py\n",
    "# compact.py\n",
    "# Purpose: Compact a file\n",
    "# Usage: Full path file name of an mdb file.\n",
    "# Example: C:/gispy/data/ch07/cities.mdb\n",
    "import arcpy, os\n",
    "\n",
    "# Get user input\n",
    "fileName = arcpy.GetParameterAsText(0)\n",
    "baseName = os.path.basename(fileName)\n",
    "\n",
    "# Check size\n",
    "size = os.path.getsize(fileName)\n",
    "print '{0} file size before compact: {1} bytes.'.format(baseName, size)\n",
    "\n",
    "# Compact the file\n",
    "arcpy.Compact_management(fileName)\n",
    "\n",
    "# Check size\n",
    "size = os.path.getsize(fileName)\n",
    "print '{0} file size AFTER compact: {1} bytes.'.format(baseName, size)\n"
   ]
  },
  {
   "cell_type": "code",
   "execution_count": 28,
   "metadata": {
    "collapsed": false,
    "scrolled": true
   },
   "outputs": [
    {
     "name": "stdout",
     "output_type": "stream",
     "text": [
      "cities.mdb file size before compact: 397312 bytes.\n",
      "cities.mdb file size AFTER compact: 397312 bytes.\n"
     ]
    }
   ],
   "source": [
    "%run script/compact.py data/cities.mdb"
   ]
  },
  {
   "cell_type": "markdown",
   "metadata": {},
   "source": [
    "* For example, the following code removes a three character extension (and the dot):"
   ]
  },
  {
   "cell_type": "code",
   "execution_count": 32,
   "metadata": {
    "collapsed": false
   },
   "outputs": [
    {
     "data": {
      "text/plain": [
       "'parks'"
      ]
     },
     "execution_count": 32,
     "metadata": {},
     "output_type": "execute_result"
    }
   ],
   "source": [
    "myShapefile = 'parks.shp'\n",
    "rootName = myShapefile[:-4]\n",
    "rootName"
   ]
  },
  {
   "cell_type": "markdown",
   "metadata": {},
   "source": [
    "* If the extension length is unknown, an os.path method can be used to split a file extension from its name.  \n",
    "The os.path.splitext splits the file name at the dot in the name (if there is more than one dot, it uses the last one).  \n",
    "It returns a tuple containing the two parts, the root name and the extension:  "
   ]
  },
  {
   "cell_type": "code",
   "execution_count": 33,
   "metadata": {
    "collapsed": false
   },
   "outputs": [
    {
     "data": {
      "text/plain": [
       "('parks', '.shp')"
      ]
     },
     "execution_count": 33,
     "metadata": {},
     "output_type": "execute_result"
    }
   ],
   "source": [
    "os.path.splitext(myShapefile)"
   ]
  },
  {
   "cell_type": "markdown",
   "metadata": {},
   "source": [
    "* If the name has no extension, the first item is the name and the second is an empty string: "
   ]
  },
  {
   "cell_type": "code",
   "execution_count": 35,
   "metadata": {
    "collapsed": false
   },
   "outputs": [
    {
     "data": {
      "text/plain": [
       "('farms', '')"
      ]
     },
     "execution_count": 35,
     "metadata": {},
     "output_type": "execute_result"
    }
   ],
   "source": [
    "fc = 'farms'\n",
    "os.path.splitext(fc)"
   ]
  },
  {
   "cell_type": "markdown",
   "metadata": {},
   "source": [
    "* Indexing the first item retrieves the root name:"
   ]
  },
  {
   "cell_type": "code",
   "execution_count": 38,
   "metadata": {
    "collapsed": false
   },
   "outputs": [
    {
     "data": {
      "text/plain": [
       "'parks'"
      ]
     },
     "execution_count": 38,
     "metadata": {},
     "output_type": "execute_result"
    }
   ],
   "source": [
    "os.path.splitext(myShapefile)[0]"
   ]
  },
  {
   "cell_type": "code",
   "execution_count": 37,
   "metadata": {
    "collapsed": false
   },
   "outputs": [
    {
     "data": {
      "text/plain": [
       "'farms'"
      ]
     },
     "execution_count": 37,
     "metadata": {},
     "output_type": "execute_result"
    }
   ],
   "source": [
    "os.path.splitext(fc)[0]"
   ]
  },
  {
   "cell_type": "markdown",
   "metadata": {},
   "source": [
    "* Slicing, on the other hand, may not work as expected, if the fi le extension length is unknown:"
   ]
  },
  {
   "cell_type": "code",
   "execution_count": 39,
   "metadata": {
    "collapsed": false
   },
   "outputs": [
    {
     "data": {
      "text/plain": [
       "'f'"
      ]
     },
     "execution_count": 39,
     "metadata": {},
     "output_type": "execute_result"
    }
   ],
   "source": [
    "fc[:-4]"
   ]
  },
  {
   "cell_type": "markdown",
   "metadata": {},
   "source": [
    "### 7.6.1 Getting the Script Path  "
   ]
  },
  {
   "cell_type": "code",
   "execution_count": null,
   "metadata": {
    "collapsed": true
   },
   "outputs": [],
   "source": [
    "# %load script/scriptPath.py\n",
    "# scriptPath.py\n",
    "# Purpose: List the files in the current directory.\n",
    "# Usage: No user arguments needed.\n",
    "\n",
    "import os\n",
    "\n",
    "# Get the script location\n",
    "scriptPath = os.path.abspath(__file__)\n",
    "scriptDir = os.path.dirname(scriptPath)\n",
    "\n",
    "# Print the contents of the script directory\n",
    "print '{0} contains the following files:'.format(scriptDir)\n",
    "print os.listdir(scriptDir)\n"
   ]
  },
  {
   "cell_type": "code",
   "execution_count": 41,
   "metadata": {
    "collapsed": false
   },
   "outputs": [
    {
     "name": "stdout",
     "output_type": "stream",
     "text": [
      "D:\\BOOKS\\GISen\\_PYTHON\\PythonForArcGIS\\SF_PFA\\ch07\\script contains the following files:\n",
      "[u'argSpacing.py', u'boundingGeom.py', u'boundingGeomV2.py', u'boundingGeomV3.py', u'buffer_clipv2.py', u'compact.py', u'copyFile.py', u'near.py', u'scriptPath.py']\n"
     ]
    }
   ],
   "source": [
    "%run script/scriptPath.py"
   ]
  },
  {
   "cell_type": "markdown",
   "metadata": {},
   "source": [
    "## 7.7 Key Terms  "
   ]
  },
  {
   "cell_type": "markdown",
   "metadata": {},
   "source": [
    "## 7.8 Exercises  "
   ]
  },
  {
   "cell_type": "markdown",
   "metadata": {},
   "source": []
  },
  {
   "cell_type": "code",
   "execution_count": null,
   "metadata": {
    "collapsed": true
   },
   "outputs": [],
   "source": []
  }
 ],
 "metadata": {
  "kernelspec": {
   "display_name": "Python 2",
   "language": "python",
   "name": "python2"
  },
  "language_info": {
   "codemirror_mode": {
    "name": "ipython",
    "version": 2
   },
   "file_extension": ".py",
   "mimetype": "text/x-python",
   "name": "python",
   "nbconvert_exporter": "python",
   "pygments_lexer": "ipython2",
   "version": "2.7.2"
  }
 },
 "nbformat": 4,
 "nbformat_minor": 0
}
