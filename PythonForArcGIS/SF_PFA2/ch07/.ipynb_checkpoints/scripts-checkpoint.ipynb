{
 "cells": [
  {
   "cell_type": "code",
   "execution_count": null,
   "metadata": {
    "collapsed": true
   },
   "outputs": [],
   "source": [
    "# %load script/argSpacing.py\n",
    "# argSpacing.py\n",
    "# Purpose: Print the number of incoming user arguments\n",
    "# and the first 2 arguments.\n",
    "import arcpy\n",
    "\n",
    "numArgs = arcpy.GetArgumentCount()\n",
    "print 'Number of user arguments: {0}'.format(numArgs)\n",
    "print 'The first argument: {0}'.format(arcpy.GetParameterAsText(0))\n",
    "print 'The second argument: {0}'.format(arcpy.GetParameterAsText(1))\n"
   ]
  },
  {
   "cell_type": "code",
   "execution_count": null,
   "metadata": {
    "collapsed": true
   },
   "outputs": [],
   "source": [
    "# %load script/boundingGeom.py\n",
    "# boundingGeom.py\n",
    "# Purpose: Find the minimum bounding geometry of a set of features.\n",
    "# Usage: No arguments required.\n",
    "\n",
    "import arcpy\n",
    "\n",
    "arcpy.env.workspace = 'C:/gispy/data/ch07'\n",
    "arcpy.env.overwriteOutput = True\n",
    "\n",
    "inputFeatures = 'park.shp'\n",
    "outputFeatures = 'C:/gispy/scratch/boundingBoxes.shp'\n",
    "\n",
    "arcpy.MinimumBoundingGeometry_management(inputFeatures, outputFeatures)\n"
   ]
  },
  {
   "cell_type": "code",
   "execution_count": null,
   "metadata": {
    "collapsed": true
   },
   "outputs": [],
   "source": [
    "# %load script/boundingGeomV2.py\n",
    "# boundingGeomV2.py (soft-coded using arcpy)\n",
    "# Purpose: Find the minimum bounding geometry of a set of features.\n",
    "# Usage: workspace, input_features, output_features\n",
    "# Example: C:/gispy/data/ch07 park.shp C:/gispy/scratch/boundingBoxes.shp\n",
    "import arcpy\n",
    "\n",
    "arcpy.env.workspace = arcpy.GetParameterAsText(0)\n",
    "arcpy.env.overwriteOutput = True\n",
    "\n",
    "inputFeatures = arcpy.GetParameterAsText(1)\n",
    "outputFeatures = arcpy.GetParameterAsText(2)\n",
    "\n",
    "arcpy.MinimumBoundingGeometry_management(inputFeatures, outputFeatures)\n"
   ]
  },
  {
   "cell_type": "code",
   "execution_count": null,
   "metadata": {
    "collapsed": true
   },
   "outputs": [],
   "source": [
    "# %load script/boundingGeomV3.py\n",
    "# boundingGeomV3.py (soft-coded using sys)\n",
    "# Purpose: Find the minimum bounding geometry of a set of features.\n",
    "# Usage: workspace, input_features, output_features\n",
    "# Example: C:/gispy/data/ch07 park.shp C:/gispy/scratch/boundingBoxes.shp\n",
    "import arcpy, sys\n",
    "\n",
    "arcpy.env.workspace = sys.argv[1]\n",
    "arcpy.env.overwriteOutput = True\n",
    "\n",
    "inputFeatures = sys.argv[2]\n",
    "outputFeatures = sys.argv[3]\n",
    "\n",
    "arcpy.MinimumBoundingGeometry_management(inputFeatures, outputFeatures)\n"
   ]
  },
  {
   "cell_type": "code",
   "execution_count": null,
   "metadata": {
    "collapsed": true
   },
   "outputs": [],
   "source": [
    "# %load script/buffer_clipv2.py\n",
    "# buffer_clipv2.py (soft-coded version)\n",
    "# Purpose: Buffer a zone and use it to clip another file\n",
    "# Usage: workspace output_directory file_to_buffer buffer_dist. file_to_clip\n",
    "# Input example: C:/gispy/data/ch07/ C:/gispy/scratch/ special_regions.shp \"1 mile\" park.shp\n",
    "\n",
    "import arcpy, sys\n",
    "\n",
    "arcpy.env.overwriteOutput = 1\n",
    "arcpy.env.workspace = sys.argv[1]\n",
    "outDir = sys.argv[2]\n",
    "\n",
    "# Set buffer params\n",
    "fireDamage = sys.argv[3]\n",
    "fireBuffer = outDir + fireDamage[:-4] + 'Buffer.shp'\n",
    "bufferDist = sys.argv[4]\n",
    "\n",
    "# Set clip params\n",
    "park = sys.argv[5]\n",
    "clipOutput = outDir + park[:-4] + 'DamageBuffer.shp'\n",
    "\n",
    "# Call tools\n",
    "arcpy.Buffer_analysis(fireDamage, fireBuffer, bufferDist)\n",
    "print '{0} created.'.format(fireBuffer)\n",
    "arcpy.Clip_analysis(park, fireBuffer, clipOutput)\n",
    "print '{0} created.'.format(clipOutput)\n"
   ]
  },
  {
   "cell_type": "code",
   "execution_count": null,
   "metadata": {
    "collapsed": true
   },
   "outputs": [],
   "source": [
    "# %load script/compact.py\n",
    "# compact.py\n",
    "# Purpose: Compact a file\n",
    "# Usage: Full path file name of an mdb file.\n",
    "# Example: C:/gispy/data/ch07/cities.mdb\n",
    "import arcpy, os\n",
    "\n",
    "# Get user input\n",
    "fileName = arcpy.GetParameterAsText(0)\n",
    "baseName = os.path.basename(fileName)\n",
    "\n",
    "# Check size\n",
    "size = os.path.getsize(fileName)\n",
    "print '{0} file size before compact: {1} bytes.'.format(baseName, size)\n",
    "\n",
    "# Compact the file\n",
    "arcpy.Compact_management(fileName)\n",
    "\n",
    "# Check size\n",
    "size = os.path.getsize(fileName)\n",
    "print '{0} file size AFTER compact: {1} bytes.'.format(baseName, size)\n"
   ]
  },
  {
   "cell_type": "code",
   "execution_count": null,
   "metadata": {
    "collapsed": true
   },
   "outputs": [],
   "source": [
    "# %load script/copyFile.py\n",
    "# copyFile.py\n",
    "# Purpose: Copy a file.\n",
    "# Usage: source_full_path_file_name, destination_directory\n",
    "# Example: C:/gispy/data/ch07/park.shp C:/gispy/scratch/\n",
    "\n",
    "import arcpy, os\n",
    "\n",
    "inputFile = arcpy.GetParameterAsText(0)\n",
    "outputDir = arcpy.GetParameterAsText(1)\n",
    "\n",
    "baseName = os.path.basename(inputFile)\n",
    "outputFile = os.path.join(outputDir, baseName)\n",
    "\n",
    "arcpy.Copy_management(inputFile, outputFile)\n",
    "\n",
    "print 'inputFile =', inputFile\n",
    "print 'outputDir =', outputDir\n",
    "print\n",
    "print 'baseName =', baseName\n",
    "print 'outputFile = ', outputFile\n"
   ]
  },
  {
   "cell_type": "code",
   "execution_count": null,
   "metadata": {
    "collapsed": true
   },
   "outputs": [],
   "source": [
    "# %load script/near.py\n",
    "# near.py\n",
    "# Purpose: Compute the set of features that are near\n",
    "#          to another set of features based on a search radius.\n",
    "#          Also, illustrate passing arguments that\n",
    "#          include file paths.\n",
    "\n",
    "import arcpy, sys\n",
    "\n",
    "# Get user arguments.\n",
    "input_features = sys.argv[1]\n",
    "if input_features == '#':\n",
    "    # Set a default value if unspecified.\n",
    "    input_features = 'C:/gispy/data/ch07/landmarks.shp'\n",
    "\n",
    "near_features = sys.argv[2]\n",
    "if near_features == '#':\n",
    "    # Set a default value if unspecified.\n",
    "    near_features = 'C:/gispy/data/ch07/trails.shp'\n",
    "\n",
    "search_radius = sys.argv[3]\n",
    "if search_radius == '#':\n",
    "    # Set a default value if unspecified.\n",
    "    search_radius = '20 Miles'\n",
    "\n",
    "# Call near analysis tool.\n",
    "arcpy.Near_analysis(input_features, near_features,\n",
    "                    search_radius, 'NO_LOCATION', 'NO_ANGLE')\n",
    "print arcpy.GetMessages()\n"
   ]
  },
  {
   "cell_type": "code",
   "execution_count": null,
   "metadata": {
    "collapsed": true
   },
   "outputs": [],
   "source": [
    "# %load script/scriptPath.py\n",
    "# scriptPath.py\n",
    "# Purpose: List the files in the current directory.\n",
    "# Usage: No user arguments needed.\n",
    "\n",
    "import os\n",
    "\n",
    "# Get the script location\n",
    "scriptPath = os.path.abspath(__file__)\n",
    "scriptDir = os.path.dirname(scriptPath)\n",
    "\n",
    "# Print the contents of the script directory\n",
    "print '{0} contains the following files:'.format(scriptDir)\n",
    "print os.listdir(scriptDir)\n"
   ]
  }
 ],
 "metadata": {
  "kernelspec": {
   "display_name": "Python 2",
   "language": "python",
   "name": "python2"
  },
  "language_info": {
   "codemirror_mode": {
    "name": "ipython",
    "version": 2
   },
   "file_extension": ".py",
   "mimetype": "text/x-python",
   "name": "python",
   "nbconvert_exporter": "python",
   "pygments_lexer": "ipython2",
   "version": "2.7.2"
  }
 },
 "nbformat": 4,
 "nbformat_minor": 0
}
