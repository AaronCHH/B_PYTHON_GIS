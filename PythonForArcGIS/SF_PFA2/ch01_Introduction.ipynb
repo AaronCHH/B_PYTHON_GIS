{
 "cells": [
  {
   "cell_type": "markdown",
   "metadata": {},
   "source": [
    "# 1 Introduction\n",
    "## 1.1 Python and GIS"
   ]
  },
  {
   "cell_type": "markdown",
   "metadata": {},
   "source": [
    "## 1.2 Sample Data and Scripts\n",
    "## 1.3 GIS Data Formats\n",
    "### 1.3.1 GRID\n",
    "### 1.3.2 Shapefile\n",
    "### 1.3.3 dBASE Files\n",
    "### 1.3.4 Layer Files\n",
    "### 1.3.5 Geodatabase\n",
    "## 1.4 An Introductory Example"
   ]
  },
  {
   "cell_type": "markdown",
   "metadata": {},
   "source": [
    "### simpleBuffer_1.py"
   ]
  },
  {
   "cell_type": "code",
   "execution_count": 3,
   "metadata": {
    "collapsed": false
   },
   "outputs": [
    {
     "data": {
      "text/plain": [
       "<Result '.\\\\ch01\\\\scratch\\\\parkBuffer.shp'>"
      ]
     },
     "execution_count": 3,
     "metadata": {},
     "output_type": "execute_result"
    }
   ],
   "source": [
    "# %load simpleBuffer_1.py\n",
    "# simpleBuffer.py\n",
    "import arcpy\n",
    "from arcpy import env\n",
    "env.overwriteOutput = True\n",
    "\n",
    "# Buffer park.shp by 0.25 miles around each feature exterior.\n",
    "# Buffers ends are rounded & all buffers are dissolved into a single feature.\n",
    "arcpy.Buffer_analysis('./ch01/data/park.shp',\n",
    "                      './ch01/scratch/parkBuffer.shp',\n",
    "                      '0.25 miles', 'OUTSIDE_ONLY', 'ROUND', 'ALL')"
   ]
  },
  {
   "cell_type": "markdown",
   "metadata": {},
   "source": [
    "## 1.5 Organization of This Book\n",
    "## 1.6 Key Terms"
   ]
  },
  {
   "cell_type": "code",
   "execution_count": null,
   "metadata": {
    "collapsed": true
   },
   "outputs": [],
   "source": []
  }
 ],
 "metadata": {
  "kernelspec": {
   "display_name": "Python 2",
   "language": "python",
   "name": "python2"
  },
  "language_info": {
   "codemirror_mode": {
    "name": "ipython",
    "version": 2
   },
   "file_extension": ".py",
   "mimetype": "text/x-python",
   "name": "python",
   "nbconvert_exporter": "python",
   "pygments_lexer": "ipython2",
   "version": "2.7.13"
  }
 },
 "nbformat": 4,
 "nbformat_minor": 1
}
