{
 "cells": [
  {
   "cell_type": "markdown",
   "metadata": {},
   "source": [
    "# 9 Decision-Making and Describing Data"
   ]
  },
  {
   "cell_type": "markdown",
   "metadata": {},
   "source": [
    "### Example 9.1"
   ]
  },
  {
   "cell_type": "markdown",
   "metadata": {},
   "source": [
    "```python\n",
    "if speciesCount < 500:\n",
    "    print 'Endangered species'\n",
    "print speciesFID\n",
    "```"
   ]
  },
  {
   "cell_type": "code",
   "execution_count": 1,
   "metadata": {
    "collapsed": false
   },
   "outputs": [
    {
     "name": "stdout",
     "output_type": "stream",
     "text": [
      "Endangered species\n"
     ]
    }
   ],
   "source": [
    "speciesCount = 250\n",
    "if speciesCount < 500:\n",
    "    print'Endangered species'"
   ]
  },
  {
   "cell_type": "markdown",
   "metadata": {},
   "source": [
    "```\n",
    "Check the weather forecast\n",
    "IF weather is sunny and calm THEN\n",
    "    Swim in ocean.\n",
    "ELSE IF weather is sunny and windy THEN\n",
    "    Fly a kite.\n",
    "ELSE IF weather is cold and clear THEN\n",
    "    Go ice-skating.\n",
    "ELSE\n",
    "    Write GIS Python code.\n",
    "ENDIF\n",
    "```"
   ]
  },
  {
   "cell_type": "markdown",
   "metadata": {},
   "source": [
    "### Example 9.2: Check for valid polygon areas"
   ]
  },
  {
   "cell_type": "markdown",
   "metadata": {},
   "source": [
    "```python\n",
    "if area > 0:\n",
    "print 'The area is valid.'\n",
    "    else:\n",
    "print 'The area is invalid.'\n",
    "```"
   ]
  },
  {
   "cell_type": "markdown",
   "metadata": {},
   "source": [
    "## 9.1 Conditional Expressions"
   ]
  },
  {
   "cell_type": "code",
   "execution_count": 2,
   "metadata": {
    "collapsed": false
   },
   "outputs": [
    {
     "data": {
      "text/plain": [
       "False"
      ]
     },
     "execution_count": 2,
     "metadata": {},
     "output_type": "execute_result"
    }
   ],
   "source": [
    "bool(0)"
   ]
  },
  {
   "cell_type": "code",
   "execution_count": 3,
   "metadata": {
    "collapsed": false
   },
   "outputs": [
    {
     "data": {
      "text/plain": [
       "True"
      ]
     },
     "execution_count": 3,
     "metadata": {},
     "output_type": "execute_result"
    }
   ],
   "source": [
    "bool(5)"
   ]
  },
  {
   "cell_type": "markdown",
   "metadata": {},
   "source": [
    "### 9.1.1 Comparison Operators"
   ]
  },
  {
   "cell_type": "code",
   "execution_count": 4,
   "metadata": {
    "collapsed": false
   },
   "outputs": [
    {
     "data": {
      "text/plain": [
       "True"
      ]
     },
     "execution_count": 4,
     "metadata": {},
     "output_type": "execute_result"
    }
   ],
   "source": [
    "100 < 'A' < 'a' < 'b'"
   ]
  },
  {
   "cell_type": "code",
   "execution_count": 5,
   "metadata": {
    "collapsed": false
   },
   "outputs": [
    {
     "data": {
      "text/plain": [
       "True"
      ]
     },
     "execution_count": 5,
     "metadata": {},
     "output_type": "execute_result"
    }
   ],
   "source": [
    "'aa' < 'ab'"
   ]
  },
  {
   "cell_type": "code",
   "execution_count": 6,
   "metadata": {
    "collapsed": false
   },
   "outputs": [
    {
     "data": {
      "text/plain": [
       "True"
      ]
     },
     "execution_count": 6,
     "metadata": {},
     "output_type": "execute_result"
    }
   ],
   "source": [
    "128 > 15"
   ]
  },
  {
   "cell_type": "code",
   "execution_count": 7,
   "metadata": {
    "collapsed": false
   },
   "outputs": [
    {
     "data": {
      "text/plain": [
       "False"
      ]
     },
     "execution_count": 7,
     "metadata": {},
     "output_type": "execute_result"
    }
   ],
   "source": [
    "'128' > '15'"
   ]
  },
  {
   "cell_type": "markdown",
   "metadata": {},
   "source": [
    "### Example 9.3: Print the ID numbers of highways and rivers"
   ]
  },
  {
   "cell_type": "markdown",
   "metadata": {},
   "source": [
    "```python\n",
    "if classType == 'major highway':\n",
    "    print 'Highway--', FID\n",
    "elif classType == 'river':\n",
    "    print 'River--', FID\n",
    "```"
   ]
  },
  {
   "cell_type": "markdown",
   "metadata": {},
   "source": [
    "### Example 9.4: Print the ID number for all class types"
   ]
  },
  {
   "cell_type": "markdown",
   "metadata": {},
   "source": [
    "```python\n",
    "if classType == 'highway’:\n",
    "    print 'Highway--', FID\n",
    "elif classType == 'river':\n",
    "    print 'River--', FID\n",
    "else:\n",
    "print 'Other--', FID\n",
    "```"
   ]
  },
  {
   "cell_type": "markdown",
   "metadata": {},
   "source": [
    "### 9.1.2 Equality vs. Assignment"
   ]
  },
  {
   "cell_type": "markdown",
   "metadata": {},
   "source": [
    "### 9.1.3 Logical Operators"
   ]
  },
  {
   "cell_type": "code",
   "execution_count": 8,
   "metadata": {
    "collapsed": false
   },
   "outputs": [
    {
     "name": "stdout",
     "output_type": "stream",
     "text": [
      "park.shp\n"
     ]
    }
   ],
   "source": [
    "fileName = 'park.shp'\n",
    "if fileName.endswith('.shp') or fileName.endswith('.txt'):\n",
    "    print fileName"
   ]
  },
  {
   "cell_type": "code",
   "execution_count": 9,
   "metadata": {
    "collapsed": false
   },
   "outputs": [
    {
     "name": "stdout",
     "output_type": "stream",
     "text": [
      "park.shp\n"
     ]
    }
   ],
   "source": [
    "if not fileName.endswith('.csv'):\n",
    "    print fileName"
   ]
  },
  {
   "cell_type": "code",
   "execution_count": 12,
   "metadata": {
    "collapsed": false
   },
   "outputs": [
    {
     "name": "stdout",
     "output_type": "stream",
     "text": [
      "trout\n"
     ]
    }
   ],
   "source": [
    "species = 'trout'\n",
    "if species == 'salmon' or 'cat fish':\n",
    "    print species"
   ]
  },
  {
   "cell_type": "code",
   "execution_count": 13,
   "metadata": {
    "collapsed": true
   },
   "outputs": [],
   "source": [
    "if species == 'salmon' or species == 'catfish':\n",
    "    print species"
   ]
  },
  {
   "cell_type": "markdown",
   "metadata": {},
   "source": [
    "### 9.1.4 Membership Operators"
   ]
  },
  {
   "cell_type": "code",
   "execution_count": null,
   "metadata": {
    "collapsed": false
   },
   "outputs": [],
   "source": [
    "if classType == 'major highway' or classType == 'river' or classType == 'stream' or classType == 'bridge':\n",
    "    print classType, '--',FID\n",
    "else:\n",
    "    print 'Other--', FID"
   ]
  },
  {
   "cell_type": "code",
   "execution_count": null,
   "metadata": {
    "collapsed": false
   },
   "outputs": [],
   "source": [
    "specialTypes = ['highway', 'river', 'stream', 'bridge']\n",
    "if classType in specialTypes:\n",
    "    print classType, '--',FID\n",
    "else:    \n",
    "    print 'Other--', FID"
   ]
  },
  {
   "cell_type": "code",
   "execution_count": null,
   "metadata": {
    "collapsed": true
   },
   "outputs": [],
   "source": [
    "specialTypes = ['highway', 'river', 'stream', 'bridge']\n",
    "if classType not inspecialTypes:\n",
    "    print classType, '--', FID"
   ]
  },
  {
   "cell_type": "markdown",
   "metadata": {},
   "source": [
    "## 9.2 ArcGIS Tools That Make Selections"
   ]
  },
  {
   "cell_type": "markdown",
   "metadata": {},
   "source": [
    "### Example 9.5: Using a hard-coded where-clause."
   ]
  },
  {
   "cell_type": "code",
   "execution_count": null,
   "metadata": {
    "collapsed": false
   },
   "outputs": [],
   "source": [
    "# %load ch09/script2/where_clause1.py\n",
    "# where_clause1.py\n",
    "# Purpose: Select features with high reclassification numbers.\n",
    "# Usage: No arguments needed.\n",
    "\n",
    "import arcpy\n",
    "arcpy.env.overwriteOutput = True\n",
    "arcpy.env.workspace = 'ch09/data'\n",
    "inputFile = 'park.shp'\n",
    "whereClause = 'RECNO >= 400'\n",
    "arcpy.Select_analysis(inputFile, 'ch09/scratch/out.shp', whereClause)\n"
   ]
  },
  {
   "cell_type": "code",
   "execution_count": 23,
   "metadata": {
    "collapsed": false
   },
   "outputs": [],
   "source": [
    "%run ch09/script2/where_clause1.py"
   ]
  },
  {
   "cell_type": "code",
   "execution_count": null,
   "metadata": {
    "collapsed": true
   },
   "outputs": [],
   "source": [
    "whereClause2 = 'RECNO > 400 AND RECNO < 410'"
   ]
  },
  {
   "cell_type": "code",
   "execution_count": null,
   "metadata": {
    "collapsed": true
   },
   "outputs": [],
   "source": [
    "whereClause3 = \"COVER = 'orch'\""
   ]
  },
  {
   "cell_type": "code",
   "execution_count": null,
   "metadata": {
    "collapsed": true
   },
   "outputs": [],
   "source": [
    "whereClauseBogus = 'COVER = 'orch''"
   ]
  },
  {
   "cell_type": "code",
   "execution_count": null,
   "metadata": {
    "collapsed": true
   },
   "outputs": [],
   "source": [
    "fieldValue = 'orch'\n",
    "whereClause4 = \"COVER = '{0}'\".format( fieldValue)\n",
    "whereClause4"
   ]
  },
  {
   "cell_type": "code",
   "execution_count": null,
   "metadata": {
    "collapsed": true
   },
   "outputs": [],
   "source": [
    "fieldName = 'COVER'\n",
    "fieldValue = 'orch'\n",
    "whereClause5 = \"{0} = '{1}'\".format( fieldName, fieldValue)\n",
    "whereClause5"
   ]
  },
  {
   "cell_type": "markdown",
   "metadata": {},
   "source": [
    "### Example 9.6: Using a where clause with variables."
   ]
  },
  {
   "cell_type": "code",
   "execution_count": null,
   "metadata": {
    "collapsed": true
   },
   "outputs": [],
   "source": [
    "# %load ch09/script2/where_clause2.py\n",
    "# where_clause2.py\n",
    "# Purpose: Extract raster features by attributes based on user input.\n",
    "# Usage: fieldName fieldValue\n",
    "# Example: COUNT 6000\n",
    "\n",
    "import arcpy, sys\n",
    "\n",
    "arcpy.env.workspace = 'ch09/data'\n",
    "arcpy.CheckOutExtension('Spatial')\n",
    "\n",
    "inputRast = 'getty_rast'\n",
    "\n",
    "fieldName = sys.argv[1]\n",
    "fieldValue = sys.argv[2]\n",
    "\n",
    "whereClause = '{0} > {1}'.format(fieldName, fieldValue)\n",
    "\n",
    "outputRast = arcpy.sa.ExtractByAttributes(inputRast, whereClause)\n",
    "outputRast.save('ch09/scratch/attextract')\n",
    "del outputRast\n"
   ]
  },
  {
   "cell_type": "code",
   "execution_count": null,
   "metadata": {
    "collapsed": false,
    "scrolled": true
   },
   "outputs": [],
   "source": [
    "%run ch09/script2/where_clause2.py"
   ]
  },
  {
   "cell_type": "markdown",
   "metadata": {},
   "source": [
    "### 9.2.1 Select by Attributes and Temporary Feature Layers"
   ]
  },
  {
   "cell_type": "code",
   "execution_count": 28,
   "metadata": {
    "collapsed": false
   },
   "outputs": [
    {
     "data": {
      "text/plain": [
       "<Result 'tmpLayer'>"
      ]
     },
     "execution_count": 28,
     "metadata": {},
     "output_type": "execute_result"
    }
   ],
   "source": [
    "arcpy.env.workspace = 'ch09/data/tester.gdb'\n",
    "tmp = 'tmpLayer'\n",
    "arcpy.MakeFeatureLayer_management('park', tmp)"
   ]
  },
  {
   "cell_type": "code",
   "execution_count": 29,
   "metadata": {
    "collapsed": false
   },
   "outputs": [
    {
     "data": {
      "text/plain": [
       "<Result 'tmpLayer'>"
      ]
     },
     "execution_count": 29,
     "metadata": {},
     "output_type": "execute_result"
    }
   ],
   "source": [
    "maxArea = 20000\n",
    "coverType = 'woods'\n",
    "whereClause = \"Shape_area < {0} AND COVER ='{1}'\".format(maxArea,coverType)\n",
    "arcpy.SelectLayerByAttribute_management(tmp, 'NEW_SELECTION', whereClause)"
   ]
  },
  {
   "cell_type": "code",
   "execution_count": 30,
   "metadata": {
    "collapsed": false
   },
   "outputs": [
    {
     "data": {
      "text/plain": [
       "<Result 'ch09/data/tester.gdb\\\\smallWoods'>"
      ]
     },
     "execution_count": 30,
     "metadata": {},
     "output_type": "execute_result"
    }
   ],
   "source": [
    "output = 'smallWoods'\n",
    "arcpy.CopyFeatures_management(tmp, output)"
   ]
  },
  {
   "cell_type": "markdown",
   "metadata": {},
   "source": [
    "## 9.3 Getting a Description of the Data"
   ]
  },
  {
   "cell_type": "code",
   "execution_count": 32,
   "metadata": {
    "collapsed": false
   },
   "outputs": [
    {
     "data": {
      "text/plain": [
       "<geoprocessing describe data object at 0x3f189b0>"
      ]
     },
     "execution_count": 32,
     "metadata": {},
     "output_type": "execute_result"
    }
   ],
   "source": [
    "import arcpy\n",
    "arcpy.env.workspace = 'ch09/data'\n",
    "rastFile = 'getty_rast'\n",
    "desc = arcpy.Describe(rastFile)\n",
    "desc"
   ]
  },
  {
   "cell_type": "markdown",
   "metadata": {},
   "source": [
    "### 9.3.1 Describe Object Properties"
   ]
  },
  {
   "cell_type": "code",
   "execution_count": 33,
   "metadata": {
    "collapsed": false
   },
   "outputs": [
    {
     "data": {
      "text/plain": [
       "u'RasterDataset'"
      ]
     },
     "execution_count": 33,
     "metadata": {},
     "output_type": "execute_result"
    }
   ],
   "source": [
    "desc.dataType"
   ]
  },
  {
   "cell_type": "code",
   "execution_count": 34,
   "metadata": {
    "collapsed": false
   },
   "outputs": [
    {
     "data": {
      "text/plain": [
       "u'getty_rast'"
      ]
     },
     "execution_count": 34,
     "metadata": {},
     "output_type": "execute_result"
    }
   ],
   "source": [
    "desc.baseName"
   ]
  },
  {
   "cell_type": "code",
   "execution_count": 35,
   "metadata": {
    "collapsed": false
   },
   "outputs": [
    {
     "data": {
      "text/plain": [
       "u''"
      ]
     },
     "execution_count": 35,
     "metadata": {},
     "output_type": "execute_result"
    }
   ],
   "source": [
    "desc.extension"
   ]
  },
  {
   "cell_type": "code",
   "execution_count": 36,
   "metadata": {
    "collapsed": false,
    "scrolled": true
   },
   "outputs": [
    {
     "data": {
      "text/plain": [
       "u'ch09/data\\\\getty_rast'"
      ]
     },
     "execution_count": 36,
     "metadata": {},
     "output_type": "execute_result"
    }
   ],
   "source": [
    "desc.catalogPath"
   ]
  },
  {
   "cell_type": "code",
   "execution_count": 37,
   "metadata": {
    "collapsed": false
   },
   "outputs": [
    {
     "data": {
      "text/plain": [
       "u'ch09/data\\\\getty_rast'"
      ]
     },
     "execution_count": 37,
     "metadata": {},
     "output_type": "execute_result"
    }
   ],
   "source": [
    "desc.CatalogPath"
   ]
  },
  {
   "cell_type": "code",
   "execution_count": 38,
   "metadata": {
    "collapsed": false
   },
   "outputs": [
    {
     "data": {
      "text/plain": [
       "1"
      ]
     },
     "execution_count": 38,
     "metadata": {},
     "output_type": "execute_result"
    }
   ],
   "source": [
    "desc.bandCount"
   ]
  },
  {
   "cell_type": "code",
   "execution_count": 39,
   "metadata": {
    "collapsed": false
   },
   "outputs": [
    {
     "data": {
      "text/plain": [
       "u'RLE'"
      ]
     },
     "execution_count": 39,
     "metadata": {},
     "output_type": "execute_result"
    }
   ],
   "source": [
    "desc.compressionType"
   ]
  },
  {
   "cell_type": "code",
   "execution_count": 40,
   "metadata": {
    "collapsed": false
   },
   "outputs": [
    {
     "data": {
      "text/plain": [
       "u'GRID'"
      ]
     },
     "execution_count": 40,
     "metadata": {},
     "output_type": "execute_result"
    }
   ],
   "source": [
    "desc.format"
   ]
  },
  {
   "cell_type": "code",
   "execution_count": 41,
   "metadata": {
    "collapsed": true
   },
   "outputs": [],
   "source": [
    "bounds = desc.extent"
   ]
  },
  {
   "cell_type": "code",
   "execution_count": 42,
   "metadata": {
    "collapsed": false
   },
   "outputs": [
    {
     "data": {
      "text/plain": [
       "<Extent object at 0x13709bb0[0x3f18650]>"
      ]
     },
     "execution_count": 42,
     "metadata": {},
     "output_type": "execute_result"
    }
   ],
   "source": [
    "bounds"
   ]
  },
  {
   "cell_type": "code",
   "execution_count": 43,
   "metadata": {
    "collapsed": false
   },
   "outputs": [
    {
     "data": {
      "text/plain": [
       "2167608.390378157"
      ]
     },
     "execution_count": 43,
     "metadata": {},
     "output_type": "execute_result"
    }
   ],
   "source": [
    "bounds.XMax"
   ]
  },
  {
   "cell_type": "markdown",
   "metadata": {},
   "source": [
    "### 9.3.2 Lists of"
   ]
  },
  {
   "cell_type": "markdown",
   "metadata": {},
   "source": [
    "### 9.3.3 Using Specialized Properties"
   ]
  },
  {
   "cell_type": "markdown",
   "metadata": {},
   "source": [
    "### Example 9.7: Using a Describe properties inside a conditional block"
   ]
  },
  {
   "cell_type": "code",
   "execution_count": null,
   "metadata": {
    "collapsed": true
   },
   "outputs": [],
   "source": [
    "# %load ch09/script2/describeRaster.py\n",
    "# describeRaster.py\n",
    "# Purpose: Report the format of raster input file.\n",
    "# Usage: workspace, raster_dataset\n",
    "# Example: C:/gispy/data/ch09 getty.tif\n",
    "\n",
    "import arcpy\n",
    "arcpy.env.workspace = arcpy.GetParameterAsText(0)\n",
    "data = arcpy.GetParameterAsText(1)\n",
    "desc = arcpy.Describe(data)\n",
    "if desc.dataType == 'RasterDataset':\n",
    "    print 'Image format: {0}'.format(desc.format)\n"
   ]
  },
  {
   "cell_type": "markdown",
   "metadata": {},
   "source": [
    "### 9.3.4 Compound vs. Nested Conditions"
   ]
  },
  {
   "cell_type": "code",
   "execution_count": 45,
   "metadata": {
    "collapsed": false
   },
   "outputs": [
    {
     "data": {
      "text/plain": [
       "u'RasterDataset'"
      ]
     },
     "execution_count": 45,
     "metadata": {},
     "output_type": "execute_result"
    }
   ],
   "source": [
    "desc = arcpy.Describe('ch09/data/getty.tif')\n",
    "desc.dataType"
   ]
  },
  {
   "cell_type": "code",
   "execution_count": null,
   "metadata": {
    "collapsed": false,
    "scrolled": true
   },
   "outputs": [],
   "source": [
    "if desc.shapeType == 'Polyline' and desc.dataType in ['FeatureClass','Shapefile']:\n",
    "    print 'Smooth line'"
   ]
  },
  {
   "cell_type": "markdown",
   "metadata": {},
   "source": [
    "### Example 9.8: Using a Describe properties inside a conditional block"
   ]
  },
  {
   "cell_type": "code",
   "execution_count": null,
   "metadata": {
    "collapsed": true
   },
   "outputs": [],
   "source": [
    "# %load ch09/script2/smoothLineCompound.py\n",
    "# smoothLineCompound.py\n",
    "# Usage: workspace, features_with_line_geometry\n",
    "# Example 1: C:/gispy/data/ch09 trails.shp\n",
    "# Example 2: C:/gispy/data/ch09 park.shp\n",
    "\n",
    "import arcpy\n",
    "\n",
    "arcpy.env.overwriteOutput = True\n",
    "arcpy.env.workspace = arcpy.GetParameterAsText(0)\n",
    "data = arcpy.GetParameterAsText(1)\n",
    "outFile = 'C:/gispy/scratch/smoothOut'\n",
    "desc = arcpy.Describe(data)\n",
    "if desc.dataType in ['FeatureClass', 'ShapeFile'] and desc.shapeType == 'Polyline':\n",
    "    result = arcpy.SmoothLine_cartography(data, outFile, \\\n",
    "                                          'BEZIER_INTERPOLATION')\n",
    "    print 'Smooth line created {0}.'.format(result.getOutput(0))\n"
   ]
  },
  {
   "cell_type": "markdown",
   "metadata": {},
   "source": [
    "### Example 9.9: Using Describe properties inside a nested conditional block"
   ]
  },
  {
   "cell_type": "code",
   "execution_count": null,
   "metadata": {
    "collapsed": true
   },
   "outputs": [],
   "source": [
    "# %load ch09/script2/smoothLineNested.py\n",
    "# smoothLineNested.py\n",
    "# Usage: workspace, features_with_line_geometry\n",
    "# Example 1: C:/gispy/data/ch09 trails.shp\n",
    "# Example 2: C:/gispy/data/ch09 park.shp\n",
    "# Example 3: C:/gispy/data/ch09 getty.tif\n",
    "import arcpy\n",
    "\n",
    "arcpy.env.overwriteOutput = True\n",
    "\n",
    "arcpy.env.workspace = arcpy.GetParameterAsText(0)\n",
    "data = arcpy.GetParameterAsText(1)\n",
    "outFile = 'C:/gispy/scratch/output'\n",
    "desc = arcpy.Describe(data)\n",
    "\n",
    "if desc.dataType in ['FeatureClass', 'ShapeFile']:\n",
    "    if desc.shapeType == 'Polyline':\n",
    "        result = arcpy.SmoothLine_cartography(data, outFile,\n",
    "                                              'BEZIER_INTERPOLATION')\n",
    "        print 'Smooth line created {0}.'.format(result.getOutput(0))\n",
    "    else:\n",
    "        print 'Warning: shape type is {0}. Smooth Line only works on Polyline \\\n",
    "shape types. '.format(desc.shapeType)\n",
    "else:\n",
    "    print \"Warning: Input data type must be 'FeatureClass' or 'ShapeFile'.\"\n",
    "    print 'Input dataType:', desc.dataType\n"
   ]
  },
  {
   "cell_type": "markdown",
   "metadata": {},
   "source": [
    "### 9.3.5 Testing Conditions"
   ]
  },
  {
   "cell_type": "markdown",
   "metadata": {},
   "source": [
    "## 9.4 Required and Optional Script Input"
   ]
  },
  {
   "cell_type": "markdown",
   "metadata": {},
   "source": [
    "### Example 9.10 scriptPathOptionalv1.py"
   ]
  },
  {
   "cell_type": "code",
   "execution_count": null,
   "metadata": {
    "collapsed": true
   },
   "outputs": [],
   "source": [
    "# %load ch09/script2/scriptPathOptionalv1.py\n",
    "# scriptPathOptionalv1.py\n",
    "# Purpose: List the files in the given directory or the current directory.\n",
    "# Usage: {directory path}\n",
    "import sys, os\n",
    "\n",
    "if len(sys.argv) >= 2:\n",
    "    workingDir = sys.argv[1]\n",
    "else:\n",
    "    # Get the script location\n",
    "    scriptPath = os.path.abspath(__file__)\n",
    "    workingDir = os.path.dirname(scriptPath)\n",
    "\n",
    "print '{0} contains the following files:'.format(workingDir)\n",
    "print os.listdir(workingDir)\n"
   ]
  },
  {
   "cell_type": "markdown",
   "metadata": {},
   "source": [
    "### Example 9.11 scriptPathOptionalv2.py"
   ]
  },
  {
   "cell_type": "code",
   "execution_count": null,
   "metadata": {
    "collapsed": true
   },
   "outputs": [],
   "source": [
    "# %load ch09/script2/scriptPathOptionalv2.py\n",
    "# scriptPathOptionalv2.py\n",
    "# Purpose: List the files in the given directory or the current directory.\n",
    "# Usage: {directory path}\n",
    "import arcpy, os\n",
    "\n",
    "if arcpy.GetParameterAsText(0):\n",
    "    workingDir = arcpy.GetParameterAsText(0)\n",
    "else:\n",
    "    # Get the script location\n",
    "    scriptPath = os.path.abspath(__file__)\n",
    "    workingDir = os.path.dirname(scriptPath)\n",
    "\n",
    "print '{0} contains the following files:'.format(workingDir)\n",
    "print os.listdir(workingDir)\n"
   ]
  },
  {
   "cell_type": "markdown",
   "metadata": {},
   "source": [
    "### Example 9.12: Simple distance converter distanceConvertv1.py"
   ]
  },
  {
   "cell_type": "code",
   "execution_count": null,
   "metadata": {
    "collapsed": true
   },
   "outputs": [],
   "source": [
    "# %load ch09/script2/distanceConvertv1.py\n",
    "# distanceConvertv1.py\n",
    "# Purpose: Converts km to miles and vice versa.\n",
    "# Usage: numerical_distance, unit_of_measure\n",
    "# Example: 5 km\n",
    "\n",
    "import sys\n",
    "\n",
    "dist = float(sys.argv[1])  # Cast string to float\n",
    "unit = sys.argv[2]\n",
    "\n",
    "mileList = ['mi', 'mi.', 'mile', 'miles']\n",
    "\n",
    "if unit.lower() in mileList:\n",
    "        output = dist*1.6\n",
    "        print '{0} {1} is equivalent to {2} kilometers(s).'.format(dist, unit, output)\n",
    "else:\n",
    "        output = dist*.62\n",
    "        print '{0} {1} is equivalent to {2} mile(s).'.format(dist, unit, output)\n"
   ]
  },
  {
   "cell_type": "markdown",
   "metadata": {},
   "source": [
    "### Example 9.13: Distance converter with input checking distanceConvertv2.py"
   ]
  },
  {
   "cell_type": "code",
   "execution_count": null,
   "metadata": {
    "collapsed": true
   },
   "outputs": [],
   "source": [
    "# %load ch09/script2/distanceConvertv2.py\n",
    "# distanceConvertv2.py\n",
    "# Purpose: Converts km to miles and vice versa.\n",
    "# Usage: numerical_distance, {unit_of_measure}\n",
    "# Example 1: 5 km\n",
    "# Example 2:\n",
    "# Example 3: 2.3\n",
    "# Example 4: 10 MI\n",
    "# Example 5: 2.2 bananas\n",
    "\n",
    "import sys\n",
    "\n",
    "numArgs = len(sys.argv)\n",
    "\n",
    "# If no user arguments are given, exit the script and warn the user.\n",
    "if numArgs == 1:\n",
    "        print 'Usage: numeric_distance {distance_unit (mi or km)}'\n",
    "        print 'Example: 5 km'\n",
    "        sys.exit(0)  # exit the script\n",
    "\n",
    "# If only one user argument is given, set the unit to miles.\n",
    "if numArgs < 3:\n",
    "        unit = 'miles'\n",
    "        print 'Warning: No distance unit provided. Assuming input is in miles.'\n",
    "else:\n",
    "        # Get the unit provided by the user\n",
    "        unit = sys.argv[2]\n",
    "\n",
    "# Get the numeric distance (cast string to float).\n",
    "dist = float(sys.argv[1])\n",
    "\n",
    "# Perform conversion.\n",
    "mileList = ['mi', 'mi.', 'mile', 'miles']\n",
    "\n",
    "if unit.lower() in mileList:\n",
    "        output = dist*1.6\n",
    "        print'{0} {1} is equivalent to {2} kilometers(s).'.format(dist, unit, output)\n",
    "else:\n",
    "        output = dist*.62\n",
    "        print '{0} {1} is equivalent to {2} mile(s).'.format(dist, unit, output)\n"
   ]
  },
  {
   "cell_type": "markdown",
   "metadata": {},
   "source": [
    "## 9.5 Creating Output Directories"
   ]
  },
  {
   "cell_type": "code",
   "execution_count": null,
   "metadata": {
    "collapsed": true
   },
   "outputs": [],
   "source": [
    "myDir = 'ch09/data/happyGoat'\n",
    "os.path.exists(myDir)\n",
    "os.mkdir(myDir)\n",
    "os.path.exists(myDir)\n",
    "os.mkdir(myDir)"
   ]
  },
  {
   "cell_type": "code",
   "execution_count": null,
   "metadata": {
    "collapsed": true
   },
   "outputs": [],
   "source": [
    "if not os.path.exists(myDir):\n",
    "    os.mkdir(myDir)"
   ]
  },
  {
   "cell_type": "code",
   "execution_count": null,
   "metadata": {
    "collapsed": true
   },
   "outputs": [],
   "source": [
    "outPath = 'C:/gispy/data/ch09/'\n",
    "gdbName = 'happyHorse.gdb'"
   ]
  },
  {
   "cell_type": "code",
   "execution_count": null,
   "metadata": {
    "collapsed": true
   },
   "outputs": [],
   "source": [
    "if not arcpy.Exists(outPath + gdbName):\n",
    "    arcpy.CreateFileGDB_management(outPath, gdbName)"
   ]
  },
  {
   "cell_type": "markdown",
   "metadata": {},
   "source": [
    "### Example 9.14 copyFilev2.py"
   ]
  },
  {
   "cell_type": "code",
   "execution_count": null,
   "metadata": {
    "collapsed": true
   },
   "outputs": [],
   "source": [
    "# %load ch09/script2/copyFilev2.py\n",
    "# copyFilev2.py\n",
    "# Purpose: Copy a file.\n",
    "# Usage: source_directory destination_directory file_to_backup\n",
    "# Example: C:/gispy/data/ch09/ C:/gispy/scratch/backup park.shp\n",
    "# The example works even if the C:/gispy/scratch/backup \n",
    "#    directory doesn't exist yet.\n",
    "\n",
    "import arcpy, os\n",
    "\n",
    "arcpy.env.workspace = arcpy.GetParameterAsText(0)\n",
    "outputDir = arcpy.GetParameterAsText(1)\n",
    "fileToCopy = arcpy.GetParameterAsText(2)\n",
    "\n",
    "if not os.path.exists(outputDir):\n",
    "    os.mkdir(outputDir)\n",
    "\n",
    "outputFile = os.path.join(outputDir, fileToCopy)\n",
    "arcpy.Copy_management(fileToCopy, outputFile)\n",
    "\n",
    "print 'source =', os.path.join(arcpy.env.workspace, fileToCopy)\n",
    "print 'destination =', outputFile\n"
   ]
  },
  {
   "cell_type": "markdown",
   "metadata": {},
   "source": [
    "## 9.6 Key Terms"
   ]
  },
  {
   "cell_type": "markdown",
   "metadata": {},
   "source": [
    "## 9.7 Exercises"
   ]
  },
  {
   "cell_type": "markdown",
   "metadata": {},
   "source": [
    "```\n",
    "if ,elif ,else , Python keywords\n",
    "Conditional constructs\n",
    "Boolean expressions\n",
    "Conditional expressions\n",
    "Compound conditional expressions\n",
    "The os.path.exists function\n",
    "The os.mkdir function\n",
    "The CreateFileGDB tool\n",
    "```"
   ]
  },
  {
   "cell_type": "code",
   "execution_count": null,
   "metadata": {
    "collapsed": true
   },
   "outputs": [],
   "source": []
  }
 ],
 "metadata": {
  "kernelspec": {
   "display_name": "Python 2",
   "language": "python",
   "name": "python2"
  },
  "language_info": {
   "codemirror_mode": {
    "name": "ipython",
    "version": 2
   },
   "file_extension": ".py",
   "mimetype": "text/x-python",
   "name": "python",
   "nbconvert_exporter": "python",
   "pygments_lexer": "ipython2",
   "version": "2.7.2"
  }
 },
 "nbformat": 4,
 "nbformat_minor": 1
}
