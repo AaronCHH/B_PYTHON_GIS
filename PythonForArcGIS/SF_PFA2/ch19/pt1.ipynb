{
 "cells": [
  {
   "cell_type": "code",
   "execution_count": 2,
   "metadata": {
    "collapsed": false
   },
   "outputs": [
    {
     "name": "stdout",
     "output_type": "stream",
     "text": [
      "scratch/cfactorsv2.txt created.\n"
     ]
    }
   ],
   "source": [
    "# %load script2/cfactorModify.py\n",
    "# cfactorModify.py\n",
    "# Purpose: Demonstrate reading and writing files.\n",
    "# IUsage: No arguments required.  Input file hard-coded.\n",
    "# Output: Modified text file *v2.txt\n",
    "\n",
    "import os\n",
    "\n",
    "infile = 'data/cfactors.txt'\n",
    "baseN = os.path.basename(infile)\n",
    "outfile = 'scratch/' + os.path.splitext(baseN)[0] + 'v2.txt'\n",
    "try:\n",
    "    # OPEN the input and output files.\n",
    "    with open(infile, 'r') as fin:\n",
    "        with open(outfile, 'w') as fout:\n",
    "            # READ/MODIFY/WRITE the first line.\n",
    "            line = fin.readline()\n",
    "            line = line.replace(' ', ',')\n",
    "            fout.write(line)\n",
    "\n",
    "            # FOR the remaining lines.\n",
    "            for line in fin:\n",
    "                # MODIFY the line.\n",
    "                line = line.replace('=', ',')\n",
    "                # WRITE to output.\n",
    "                fout.write(line)\n",
    "            print '{0} created.'.format(outfile)\n",
    "except IOError:\n",
    "    print \"{0} doesn't exist.\".format(infile)\n"
   ]
  },
  {
   "cell_type": "code",
   "execution_count": null,
   "metadata": {
    "collapsed": true
   },
   "outputs": [],
   "source": []
  }
 ],
 "metadata": {
  "kernelspec": {
   "display_name": "Python 2",
   "language": "python",
   "name": "python2"
  },
  "language_info": {
   "codemirror_mode": {
    "name": "ipython",
    "version": 2
   },
   "file_extension": ".py",
   "mimetype": "text/x-python",
   "name": "python",
   "nbconvert_exporter": "python",
   "pygments_lexer": "ipython2",
   "version": "2.7.2"
  }
 },
 "nbformat": 4,
 "nbformat_minor": 0
}
