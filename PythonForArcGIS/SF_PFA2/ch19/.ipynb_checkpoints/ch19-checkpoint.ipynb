{
 "cells": [
  {
   "cell_type": "markdown",
   "metadata": {},
   "source": [
    "## 19 Reading and Writing Text Files\n",
    "* 19.1 Working with file Objects\n",
    "* 19.1.1 The WITH Statement\n",
    "* 19.1.2 Writing Text Files\n",
    "* 19.1.3 Safe File Reading\n",
    "* 19.1.4 The os Working Directory vs. the arcpy workspace\n",
    "* 19.1.5 Reading Text Files\n",
    "* 19.2 Parsing Line Contents\n",
    "* 19.2.1 Parsing Field Names\n",
    "* 19.3 Modifying Text\n",
    "* 19.3.1 Pseudocode for Modifying Text Files\n",
    "* 19.3.2 Working with Tabular Text\n",
    "* 19.4 Pickling\n",
    "* 19.5 Discussion\n",
    "* 19.6 Key Terms\n",
    "* 19.7 Exercises"
   ]
  },
  {
   "cell_type": "markdown",
   "metadata": {},
   "source": [
    "## 19.1 Working with file Objects"
   ]
  },
  {
   "cell_type": "code",
   "execution_count": 1,
   "metadata": {
    "collapsed": true
   },
   "outputs": [],
   "source": [
    "f = open('data/poem.txt', 'r')"
   ]
  },
  {
   "cell_type": "code",
   "execution_count": 2,
   "metadata": {
    "collapsed": false
   },
   "outputs": [
    {
     "data": {
      "text/plain": [
       "<open file 'data/poem.txt', mode 'r' at 0x0313C6A8>"
      ]
     },
     "execution_count": 2,
     "metadata": {},
     "output_type": "execute_result"
    }
   ],
   "source": [
    "f"
   ]
  },
  {
   "cell_type": "code",
   "execution_count": 3,
   "metadata": {
    "collapsed": false
   },
   "outputs": [
    {
     "data": {
      "text/plain": [
       "'Scripterwocky\\n`Twas brillig, and the Python lists\\nDid join and pop-le in the loop:\\nAll-splitsy were the string literals,\\nAnd the boolean values were true.\\t \\n'"
      ]
     },
     "execution_count": 3,
     "metadata": {},
     "output_type": "execute_result"
    }
   ],
   "source": [
    "f.read()"
   ]
  },
  {
   "cell_type": "code",
   "execution_count": null,
   "metadata": {
    "collapsed": true
   },
   "outputs": [],
   "source": []
  },
  {
   "cell_type": "markdown",
   "metadata": {},
   "source": [
    "### 19.1.1 The WITH Statement"
   ]
  },
  {
   "cell_type": "markdown",
   "metadata": {},
   "source": [
    "### 19.1.2 Writing Text Files"
   ]
  },
  {
   "cell_type": "code",
   "execution_count": 7,
   "metadata": {
    "collapsed": true
   },
   "outputs": [],
   "source": [
    "f = open('scratch/sneeze.txt', 'w')\n",
    "f.write('haa')\n",
    "f.write('choo')\n",
    "f.close()"
   ]
  },
  {
   "cell_type": "code",
   "execution_count": 8,
   "metadata": {
    "collapsed": true
   },
   "outputs": [],
   "source": [
    "f = open('scratch/sneeze2.txt', 'w')\n",
    "f.write('snork\\nsnif fle\\n')\n",
    "f.write('haaack\\n')\n",
    "f.write('*sigh*')\n",
    "f.close()"
   ]
  },
  {
   "cell_type": "code",
   "execution_count": 10,
   "metadata": {
    "collapsed": false
   },
   "outputs": [
    {
     "ename": "TypeError",
     "evalue": "expected a character buffer object",
     "output_type": "error",
     "traceback": [
      "\u001b[1;31m---------------------------------------------------------------------------\u001b[0m",
      "\u001b[1;31mTypeError\u001b[0m                                 Traceback (most recent call last)",
      "\u001b[1;32m<ipython-input-10-d6f753a8add6>\u001b[0m in \u001b[0;36m<module>\u001b[1;34m()\u001b[0m\n\u001b[0;32m      1\u001b[0m \u001b[0mf\u001b[0m \u001b[1;33m=\u001b[0m \u001b[0mopen\u001b[0m\u001b[1;33m(\u001b[0m\u001b[1;34m'scratch/sneeze3.txt'\u001b[0m\u001b[1;33m,\u001b[0m \u001b[1;34m'w'\u001b[0m\u001b[1;33m)\u001b[0m\u001b[1;33m\u001b[0m\u001b[0m\n\u001b[1;32m----> 2\u001b[1;33m \u001b[0mf\u001b[0m\u001b[1;33m.\u001b[0m\u001b[0mwrite\u001b[0m\u001b[1;33m(\u001b[0m\u001b[1;36m5000\u001b[0m\u001b[1;33m)\u001b[0m\u001b[1;33m\u001b[0m\u001b[0m\n\u001b[0m",
      "\u001b[1;31mTypeError\u001b[0m: expected a character buffer object"
     ]
    }
   ],
   "source": [
    "f = open('scratch/sneeze3.txt', 'w')\n",
    "f.write(5000)"
   ]
  },
  {
   "cell_type": "code",
   "execution_count": 11,
   "metadata": {
    "collapsed": true
   },
   "outputs": [],
   "source": [
    "f.write(str(5000))\n",
    "lament = 'I sneezed {0} times today.'.format(5000)\n",
    "f.write(lament)\n",
    "f.close()"
   ]
  },
  {
   "cell_type": "markdown",
   "metadata": {},
   "source": [
    "### 19.1.3 Safe File Reading"
   ]
  },
  {
   "cell_type": "code",
   "execution_count": null,
   "metadata": {
    "collapsed": true
   },
   "outputs": [],
   "source": [
    "# %load script/safeFileRead.py\n",
    "import os, sys\n",
    "infile = sys.argv[1]\n",
    "try:\n",
    "  f = open(infile, 'r')\n",
    "  print f.read()\n",
    "  f.close()\n",
    "except IOError:\n",
    "  print\"{0} doesn't exist or can't be opened.\".format(infile)"
   ]
  },
  {
   "cell_type": "code",
   "execution_count": 21,
   "metadata": {
    "collapsed": false
   },
   "outputs": [
    {
     "name": "stdout",
     "output_type": "stream",
     "text": [
      "5000I sneezed 5000 times today.\n"
     ]
    }
   ],
   "source": [
    "%run script/safeFileRead.py scratch/sneeze3.txt"
   ]
  },
  {
   "cell_type": "markdown",
   "metadata": {},
   "source": [
    "### 19.1.4 The os Working Directory vs. the arcpy workspace"
   ]
  },
  {
   "cell_type": "code",
   "execution_count": 23,
   "metadata": {
    "collapsed": false,
    "scrolled": true
   },
   "outputs": [
    {
     "ename": "IOError",
     "evalue": "[Errno 2] No such file or directory: 'poem.txt'",
     "output_type": "error",
     "traceback": [
      "\u001b[1;31m---------------------------------------------------------------------------\u001b[0m",
      "\u001b[1;31mIOError\u001b[0m                                   Traceback (most recent call last)",
      "\u001b[1;32m<ipython-input-23-216b00606c2f>\u001b[0m in \u001b[0;36m<module>\u001b[1;34m()\u001b[0m\n\u001b[0;32m      1\u001b[0m \u001b[1;32mimport\u001b[0m \u001b[0marcpy\u001b[0m\u001b[1;33m\u001b[0m\u001b[0m\n\u001b[0;32m      2\u001b[0m \u001b[0marcpy\u001b[0m\u001b[1;33m.\u001b[0m\u001b[0menv\u001b[0m\u001b[1;33m.\u001b[0m\u001b[0mworkspace\u001b[0m \u001b[1;33m=\u001b[0m \u001b[1;34m'data'\u001b[0m\u001b[1;33m\u001b[0m\u001b[0m\n\u001b[1;32m----> 3\u001b[1;33m \u001b[0mf\u001b[0m \u001b[1;33m=\u001b[0m \u001b[0mopen\u001b[0m\u001b[1;33m(\u001b[0m\u001b[1;34m'poem.txt'\u001b[0m\u001b[1;33m,\u001b[0m \u001b[1;34m'r'\u001b[0m\u001b[1;33m)\u001b[0m\u001b[1;33m\u001b[0m\u001b[0m\n\u001b[0m",
      "\u001b[1;31mIOError\u001b[0m: [Errno 2] No such file or directory: 'poem.txt'"
     ]
    }
   ],
   "source": [
    "import arcpy\n",
    "arcpy.env.workspace = 'data'\n",
    "f = open('poem.txt', 'r')"
   ]
  },
  {
   "cell_type": "code",
   "execution_count": 25,
   "metadata": {
    "collapsed": false
   },
   "outputs": [
    {
     "data": {
      "text/plain": [
       "True"
      ]
     },
     "execution_count": 25,
     "metadata": {},
     "output_type": "execute_result"
    }
   ],
   "source": [
    "import os\n",
    "os.path.isfile('data/poem.txt')"
   ]
  },
  {
   "cell_type": "code",
   "execution_count": 27,
   "metadata": {
    "collapsed": false
   },
   "outputs": [
    {
     "data": {
      "text/plain": [
       "'D:\\\\BOOKS\\\\GISen\\\\_PYTHON\\\\PythonForArcGIS\\\\SF_PFA\\\\ch19'"
      ]
     },
     "execution_count": 27,
     "metadata": {},
     "output_type": "execute_result"
    }
   ],
   "source": [
    "os.getcwd()"
   ]
  },
  {
   "cell_type": "code",
   "execution_count": 30,
   "metadata": {
    "collapsed": false
   },
   "outputs": [
    {
     "data": {
      "text/plain": [
       "'Scripterwocky\\n'"
      ]
     },
     "execution_count": 30,
     "metadata": {},
     "output_type": "execute_result"
    }
   ],
   "source": [
    "f = open('data/poem.txt', 'r')\n",
    "f.readline()"
   ]
  },
  {
   "cell_type": "code",
   "execution_count": 31,
   "metadata": {
    "collapsed": true
   },
   "outputs": [],
   "source": [
    "f.close()"
   ]
  },
  {
   "cell_type": "markdown",
   "metadata": {},
   "source": [
    "### 19.1.5 Reading Text Files"
   ]
  },
  {
   "cell_type": "code",
   "execution_count": 33,
   "metadata": {
    "collapsed": false
   },
   "outputs": [
    {
     "data": {
      "text/plain": [
       "'Scripterwocky\\n'"
      ]
     },
     "execution_count": 33,
     "metadata": {},
     "output_type": "execute_result"
    }
   ],
   "source": [
    "f = open('data/poem.txt', 'r')\n",
    "f.readline()"
   ]
  },
  {
   "cell_type": "code",
   "execution_count": 34,
   "metadata": {
    "collapsed": false
   },
   "outputs": [
    {
     "data": {
      "text/plain": [
       "'`Twas brillig, and the Python lists\\n'"
      ]
     },
     "execution_count": 34,
     "metadata": {},
     "output_type": "execute_result"
    }
   ],
   "source": [
    " f.readline()"
   ]
  },
  {
   "cell_type": "code",
   "execution_count": 35,
   "metadata": {
    "collapsed": false
   },
   "outputs": [
    {
     "data": {
      "text/plain": [
       "'Did join and pop-le in the loop:\\n'"
      ]
     },
     "execution_count": 35,
     "metadata": {},
     "output_type": "execute_result"
    }
   ],
   "source": [
    "f.readline()"
   ]
  },
  {
   "cell_type": "code",
   "execution_count": 36,
   "metadata": {
    "collapsed": false
   },
   "outputs": [
    {
     "data": {
      "text/plain": [
       "'All-splitsy were the string literals,\\n'"
      ]
     },
     "execution_count": 36,
     "metadata": {},
     "output_type": "execute_result"
    }
   ],
   "source": [
    "f.readline()"
   ]
  },
  {
   "cell_type": "code",
   "execution_count": 37,
   "metadata": {
    "collapsed": false
   },
   "outputs": [
    {
     "data": {
      "text/plain": [
       "'And the boolean values were true.\\t \\n'"
      ]
     },
     "execution_count": 37,
     "metadata": {},
     "output_type": "execute_result"
    }
   ],
   "source": [
    "f.readline()"
   ]
  },
  {
   "cell_type": "code",
   "execution_count": 38,
   "metadata": {
    "collapsed": false
   },
   "outputs": [
    {
     "data": {
      "text/plain": [
       "''"
      ]
     },
     "execution_count": 38,
     "metadata": {},
     "output_type": "execute_result"
    }
   ],
   "source": [
    "f.readline()"
   ]
  },
  {
   "cell_type": "code",
   "execution_count": 40,
   "metadata": {
    "collapsed": true
   },
   "outputs": [],
   "source": [
    "f.close()"
   ]
  },
  {
   "cell_type": "markdown",
   "metadata": {},
   "source": [
    "---"
   ]
  },
  {
   "cell_type": "code",
   "execution_count": 44,
   "metadata": {
    "collapsed": false
   },
   "outputs": [],
   "source": [
    "f = open('data/poem.txt', 'r')"
   ]
  },
  {
   "cell_type": "code",
   "execution_count": 45,
   "metadata": {
    "collapsed": false
   },
   "outputs": [
    {
     "name": "stdout",
     "output_type": "stream",
     "text": [
      "Scripterwocky\n",
      "\n",
      "`Twas brillig, and the Python lists\n",
      "\n",
      "Did join and pop-le in the loop:\n",
      "\n",
      "All-splitsy were the string literals,\n",
      "\n",
      "And the boolean values were true.\t \n",
      "\n"
     ]
    }
   ],
   "source": [
    "for line in f:\n",
    "  print line"
   ]
  },
  {
   "cell_type": "code",
   "execution_count": 46,
   "metadata": {
    "collapsed": false
   },
   "outputs": [
    {
     "data": {
      "text/plain": [
       "''"
      ]
     },
     "execution_count": 46,
     "metadata": {},
     "output_type": "execute_result"
    }
   ],
   "source": [
    "f.readline()"
   ]
  },
  {
   "cell_type": "code",
   "execution_count": 47,
   "metadata": {
    "collapsed": true
   },
   "outputs": [],
   "source": [
    "f.close()"
   ]
  },
  {
   "cell_type": "markdown",
   "metadata": {},
   "source": [
    "---"
   ]
  },
  {
   "cell_type": "code",
   "execution_count": 48,
   "metadata": {
    "collapsed": false
   },
   "outputs": [
    {
     "data": {
      "text/plain": [
       "'Scripterwocky\\n'"
      ]
     },
     "execution_count": 48,
     "metadata": {},
     "output_type": "execute_result"
    }
   ],
   "source": [
    "f = open('data/poem.txt', 'r')\n",
    "f.readline()"
   ]
  },
  {
   "cell_type": "code",
   "execution_count": 49,
   "metadata": {
    "collapsed": false
   },
   "outputs": [
    {
     "name": "stdout",
     "output_type": "stream",
     "text": [
      "`Twas brillig, and the Python lists\n",
      "\n",
      "Did join and pop-le in the loop:\n",
      "\n",
      "All-splitsy were the string literals,\n",
      "\n",
      "And the boolean values were true.\t \n",
      "\n"
     ]
    }
   ],
   "source": [
    "for line in f:\n",
    "  print line"
   ]
  },
  {
   "cell_type": "code",
   "execution_count": 50,
   "metadata": {
    "collapsed": true
   },
   "outputs": [],
   "source": [
    "f.close()"
   ]
  },
  {
   "cell_type": "markdown",
   "metadata": {},
   "source": [
    "## 19.2 Parsing Line Contents"
   ]
  },
  {
   "cell_type": "code",
   "execution_count": 51,
   "metadata": {
    "collapsed": false
   },
   "outputs": [
    {
     "data": {
      "text/plain": [
       "'1\\t2.07\\t5.21\\t4.05\\t3.64\\t2.03\\t3.74\\n'"
      ]
     },
     "execution_count": 51,
     "metadata": {},
     "output_type": "execute_result"
    }
   ],
   "source": [
    "f = open('data/report.txt', 'r')\n",
    "f.readline()"
   ]
  },
  {
   "cell_type": "code",
   "execution_count": 52,
   "metadata": {
    "collapsed": false
   },
   "outputs": [
    {
     "data": {
      "text/plain": [
       "'2\\t3.51\\t7.29\\t4.2\\t4.44\\t3.67\\t4.46\\n'"
      ]
     },
     "execution_count": 52,
     "metadata": {},
     "output_type": "execute_result"
    }
   ],
   "source": [
    "line = f.readline()\n",
    "line"
   ]
  },
  {
   "cell_type": "code",
   "execution_count": 53,
   "metadata": {
    "collapsed": false
   },
   "outputs": [
    {
     "name": "stdout",
     "output_type": "stream",
     "text": [
      "2\t3.51\t7.29\t4.2\t4.44\t3.67\t4.46\n",
      "\n"
     ]
    }
   ],
   "source": [
    "print line"
   ]
  },
  {
   "cell_type": "code",
   "execution_count": 54,
   "metadata": {
    "collapsed": false
   },
   "outputs": [
    {
     "data": {
      "text/plain": [
       "['2', '3.51', '7.29', '4.2', '4.44', '3.67', '4.46']"
      ]
     },
     "execution_count": 54,
     "metadata": {},
     "output_type": "execute_result"
    }
   ],
   "source": [
    "lineList = line.split()\n",
    "lineList"
   ]
  },
  {
   "cell_type": "code",
   "execution_count": 55,
   "metadata": {
    "collapsed": false
   },
   "outputs": [
    {
     "data": {
      "text/plain": [
       "[2.0, 3.51, 7.29, 4.2, 4.44, 3.67, 4.46]"
      ]
     },
     "execution_count": 55,
     "metadata": {},
     "output_type": "execute_result"
    }
   ],
   "source": [
    "nums = [float(i) for i in lineList]\n",
    "nums"
   ]
  },
  {
   "cell_type": "code",
   "execution_count": 56,
   "metadata": {
    "collapsed": false
   },
   "outputs": [
    {
     "data": {
      "text/plain": [
       "[3.51, 7.29, 4.2, 4.44, 3.67, 4.46]"
      ]
     },
     "execution_count": 56,
     "metadata": {},
     "output_type": "execute_result"
    }
   ],
   "source": [
    "data = nums[1:]\n",
    "data"
   ]
  },
  {
   "cell_type": "code",
   "execution_count": 58,
   "metadata": {
    "collapsed": false
   },
   "outputs": [
    {
     "data": {
      "text/plain": [
       "27.57"
      ]
     },
     "execution_count": 58,
     "metadata": {},
     "output_type": "execute_result"
    }
   ],
   "source": [
    "sum(data)"
   ]
  },
  {
   "cell_type": "code",
   "execution_count": null,
   "metadata": {
    "collapsed": true
   },
   "outputs": [],
   "source": [
    "# %load script/parseTable.py\n",
    "# parseTable.py\n",
    "# Purpose: Parse numeric values in a tabular text file.\n",
    "# Usage: No arguments required.  Input file hard-coded.\n",
    "# Output: Printed ID, sum, count, and data value list for each row of a table in the text file.\n",
    "\n",
    "cap = 5\n",
    "infile = 'C:/gispy/data/ch19/report.txt'\n",
    "try:\n",
    "    with open(infile, 'r') as f:\n",
    "        for line in f:\n",
    "            # String to list of strings.\n",
    "            lineList = line.split()\n",
    "            # String items to float items.\n",
    "            nums = [float(i) for i in lineList]\n",
    "            # First col is ID, rest are data values.\n",
    "            ID = nums[0]\n",
    "            data = nums[1:]\n",
    "            # Cap the data values at 5.\n",
    "            for index, val in enumerate(data):\n",
    "                if val > cap:\n",
    "                    data[index] = cap\n",
    "            # Count and sum the values and report the results.\n",
    "            count = len(data)\n",
    "            total = sum(data)\n",
    "            print 'ID: {0}   Sum: {1}   Count {2}'.format(ID, total, count)\n",
    "            print 'Data: {0}'.format(data)\n",
    "except IOError:\n",
    "    print \"{0} doesn't exist or can't be opened.\".format(infile)\n"
   ]
  },
  {
   "cell_type": "code",
   "execution_count": 60,
   "metadata": {
    "collapsed": false
   },
   "outputs": [
    {
     "name": "stdout",
     "output_type": "stream",
     "text": [
      "ID: 1.0   Sum: 20.53   Count 6\n",
      "Data: [2.07, 5, 4.05, 3.64, 2.03, 3.74]\n",
      "ID: 2.0   Sum: 25.28   Count 6\n",
      "Data: [3.51, 5, 4.2, 4.44, 3.67, 4.46]\n",
      "ID: 3.0   Sum: 19.72   Count 5\n",
      "Data: [3.9, 4.24, 4.05, 4.04, 3.49]\n",
      "ID: 4.0   Sum: 22.64   Count 6\n",
      "Data: [3.18, 3.5, 4.73, 4.39, 3.28, 3.56]\n"
     ]
    }
   ],
   "source": [
    "%run script2/parseTable.py"
   ]
  },
  {
   "cell_type": "code",
   "execution_count": null,
   "metadata": {
    "collapsed": true
   },
   "outputs": [],
   "source": [
    "# %load script/cfactor.py\n",
    "# cfactor.py\n",
    "# Purpose: Read a text file contents into a dictionary.\n",
    "# Input: No arguments required.  Input file hard-coded.\n",
    "# Output: Printed cfactor:label dictionary.\n",
    "\n",
    "factorDict = {}\n",
    "infile = 'C:/gispy/data/ch19/cfactors.txt'\n",
    "try:\n",
    "    with open(infile, 'r') as f:\n",
    "        f.readline()\n",
    "        for row in f:\n",
    "            row = row.split('=')\n",
    "            factor = int(row[0])\n",
    "            label = row[1].rstrip()\n",
    "            factorDict[factor] = label\n",
    "    print factorDict\n",
    "except IOError:\n",
    "    print \"{0} doesn't exist.\".format(infile)\n"
   ]
  },
  {
   "cell_type": "code",
   "execution_count": 62,
   "metadata": {
    "collapsed": false
   },
   "outputs": [
    {
     "name": "stdout",
     "output_type": "stream",
     "text": [
      "{1: 'stable', 2: 'low deposition', 3: 'moderate deposition', 4: 'high deposition', 5: 'severe deposition'}\n"
     ]
    }
   ],
   "source": [
    "%run script2/cfactor.py"
   ]
  },
  {
   "cell_type": "markdown",
   "metadata": {},
   "source": [
    "## 19.2.1 Parsing Field Names"
   ]
  },
  {
   "cell_type": "code",
   "execution_count": 63,
   "metadata": {
    "collapsed": false
   },
   "outputs": [
    {
     "data": {
      "text/plain": [
       "2"
      ]
     },
     "execution_count": 63,
     "metadata": {},
     "output_type": "execute_result"
    }
   ],
   "source": [
    "mylist = ['a','b','c','d']\n",
    "mylist.index('c')"
   ]
  },
  {
   "cell_type": "code",
   "execution_count": null,
   "metadata": {
    "collapsed": false
   },
   "outputs": [],
   "source": [
    "# %load script/fieldIndex.py\n",
    "# fieldIndex.py\n",
    "# Purpose: Find the index of a field name in a text\n",
    "#         file with space separated fields in the first row.\n",
    "# Input: No arguments required.  Input file hard-coded.\n",
    "infile = 'C:/gispy/data/ch19/cfactors.txt'\n",
    "fieldName = 'Label'\n",
    "\n",
    "\n",
    "def getIndex(delimString, delimiter, name):\n",
    "    '''Get position of item in a delimited string'''\n",
    "    delimString = delimString.strip()\n",
    "    rowList = delimString.split(delimiter)\n",
    "    index = rowList.index(name)\n",
    "    return index\n",
    "\n",
    "with open(infile, 'r') as f:\n",
    "    row = f.readline()\n",
    "    ind = getIndex(row, ' ', fieldName)\n",
    "    print '{0} has index {1}'.format(fieldName, ind)\n"
   ]
  },
  {
   "cell_type": "code",
   "execution_count": 66,
   "metadata": {
    "collapsed": false
   },
   "outputs": [
    {
     "name": "stdout",
     "output_type": "stream",
     "text": [
      "Label has index 1\n"
     ]
    }
   ],
   "source": [
    "%run script2/fieldIndex.py"
   ]
  },
  {
   "cell_type": "markdown",
   "metadata": {},
   "source": [
    "## 19.3 Modifying Text Files"
   ]
  },
  {
   "cell_type": "code",
   "execution_count": null,
   "metadata": {
    "collapsed": false
   },
   "outputs": [],
   "source": [
    "# %load script/cfactorModify.py\n",
    "# cfactorModify.py\n",
    "# Purpose: Demonstrate reading and writing files.\n",
    "# IUsage: No arguments required.  Input file hard-coded.\n",
    "# Output: Modified text file *v2.txt\n",
    "\n",
    "import os\n",
    "\n",
    "infile = 'C:/gispy/data/ch19/cfactors.txt'\n",
    "baseN = os.path.basename(infile)\n",
    "outfile = 'C:/gispy/scratch/' + os.path.splitext(baseN)[0] + 'v2.txt'\n",
    "try:\n",
    "    # OPEN the input and output files.\n",
    "    with open(infile, 'r') as fin:\n",
    "        with open(outfile, 'w') as fout:\n",
    "            # READ/MODIFY/WRITE the first line.\n",
    "            line = fin.readline()\n",
    "            line = line.replace(' ', ',')\n",
    "            fout.write(line)\n",
    "\n",
    "            # FOR the remaining lines.\n",
    "            for line in fin:\n",
    "                # MODIFY the line.\n",
    "                line = line.replace('=', ',')\n",
    "                # WRITE to output.\n",
    "                fout.write(line)\n",
    "            print '{0} created.'.format(outfile)\n",
    "except IOError:\n",
    "    print \"{0} doesn't exist.\".format(infile)\n"
   ]
  },
  {
   "cell_type": "code",
   "execution_count": 70,
   "metadata": {
    "collapsed": false
   },
   "outputs": [
    {
     "name": "stdout",
     "output_type": "stream",
     "text": [
      "scratch/cfactorsv2.txt created.\n"
     ]
    }
   ],
   "source": [
    "%run script2/cfactorModify.py"
   ]
  },
  {
   "cell_type": "markdown",
   "metadata": {},
   "source": [
    "### 19.3.1 Pseudocode for Modifying Text Files"
   ]
  },
  {
   "cell_type": "markdown",
   "metadata": {},
   "source": [
    "### 19.3.2 Working with Tabular Text"
   ]
  },
  {
   "cell_type": "code",
   "execution_count": null,
   "metadata": {
    "collapsed": true
   },
   "outputs": [],
   "source": [
    "# %load script/removeHeader.py\n",
    "# removeHeader.py\n",
    "# Purpose: Remove header rows.\n",
    "# Usage: No arguments required.  Input file hard-coded.\n",
    "# Output: Modified text file *v2.txt\n",
    "\n",
    "import os\n",
    "headers = 2\n",
    "infile = 'C:/gispy/data/ch19/eyeTrack.csv'\n",
    "baseN = os.path.basename(infile)\n",
    "outfile = 'C:/gispy/scratch/' + os.path.splitext(baseN)[0] \\\n",
    "          + 'v2.txt'\n",
    "try:\n",
    "    with open(infile, 'r') as fin:\n",
    "        with open(outfile, 'w') as fout:\n",
    "            # READ header lines, but don't write them.\n",
    "            for i in range(headers):\n",
    "                fin.readline()\n",
    "            # READ and WRITE the remaining lines.\n",
    "            for line in fin:\n",
    "                fout.write(line)\n",
    "            print '{0} created.'.format(outfile)\n",
    "except IOError:\n",
    "    print \"{0} doesn't exist.\".format(infile)\n"
   ]
  },
  {
   "cell_type": "code",
   "execution_count": 72,
   "metadata": {
    "collapsed": false,
    "scrolled": true
   },
   "outputs": [
    {
     "name": "stdout",
     "output_type": "stream",
     "text": [
      "scratch/eyeTrackv2.txt created.\n"
     ]
    }
   ],
   "source": [
    "%run script2/removeHeader.py"
   ]
  },
  {
   "cell_type": "code",
   "execution_count": null,
   "metadata": {
    "collapsed": true
   },
   "outputs": [],
   "source": [
    "# %load script/removeRecords.py\n",
    "# removeRecords.py\n",
    "# Purpose: Demonstrate emoving rows under specific conditions.\n",
    "# Input: No arguments required.  Input file hard-coded.\n",
    "# Output: Modified text file *v2.txt\n",
    "\n",
    "import os\n",
    "headers = 2\n",
    "field1 = 'FPOGX'\n",
    "field2 = 'FPOGY'\n",
    "sep = ','\n",
    "\n",
    "\n",
    "def getIndex(delimString, delimiter, name):\n",
    "    '''Get position of item in a delimited string'''\n",
    "    delimString = delimString.strip()\n",
    "    lineList = delimString.split(delimiter)\n",
    "    index = lineList.index(name)\n",
    "    return index\n",
    "\n",
    "infile = 'C:/gispy/data/ch19/eyeTrack.csv'\n",
    "baseN = os.path.basename(baseN)\n",
    "outfile = 'C:/gispy/scratch/' + os.path.splitext(baseN)[0] \\\n",
    "          + 'v2' + os.path.splitext(baseN)[1]\n",
    "try:\n",
    "    with open(infile, 'r') as fin:\n",
    "        with open(outfile, 'w') as fout:\n",
    "            # READ header lines, but don't write them.\n",
    "            for i in range(headers):\n",
    "                line = fin.readline()\n",
    "            # READ and WRITE field names\n",
    "            line = fin.readline()\n",
    "            fout.write(line)\n",
    "\n",
    "            # FIND field indices\n",
    "            findex1 = getIndex(line, sep, field1)\n",
    "            findex2 = getIndex(line, sep, field2)\n",
    "\n",
    "            # FOR the remaining lines:\n",
    "            for line in fin:\n",
    "                lineList = line.split(sep)\n",
    "                v1 = float(lineList[findex1])\n",
    "                v2 = float(lineList[findex2])\n",
    "                v2 = float(lineList[findex2])\n",
    "                # IF condition is TRUE, write line.\n",
    "                if v1 > 0 and v2 > 0:\n",
    "                    fout.write(line)\n",
    "            print '{0} created.'.format(outfile)\n",
    "\n",
    "except IOError:\n",
    "    print \"{0} doesn't exist.\".format(infile)\n"
   ]
  },
  {
   "cell_type": "code",
   "execution_count": 75,
   "metadata": {
    "collapsed": false
   },
   "outputs": [
    {
     "name": "stdout",
     "output_type": "stream",
     "text": [
      "scratch/eyeTrackv2.csv created.\n"
     ]
    }
   ],
   "source": [
    "%run script2/removeRecords.py"
   ]
  },
  {
   "cell_type": "code",
   "execution_count": 76,
   "metadata": {
    "collapsed": false
   },
   "outputs": [
    {
     "data": {
      "text/plain": [
       "['FireId', 'Org', 'FireType', 'Protection']"
      ]
     },
     "execution_count": 76,
     "metadata": {},
     "output_type": "execute_result"
    }
   ],
   "source": [
    "fields = ['FireId', 'Org', 'State', 'FireType', 'Protection']\n",
    "index = 2\n",
    "fields.pop(index)\n",
    "fields"
   ]
  },
  {
   "cell_type": "code",
   "execution_count": 77,
   "metadata": {
    "collapsed": false
   },
   "outputs": [
    {
     "data": {
      "text/plain": [
       "'State'"
      ]
     },
     "execution_count": 77,
     "metadata": {},
     "output_type": "execute_result"
    }
   ],
   "source": [
    "fields = ['FireId', 'Org', 'State', 'FireType', 'Protection']\n",
    "indexA = 2\n",
    "indexB = 4\n",
    "fields.pop(indexA)"
   ]
  },
  {
   "cell_type": "code",
   "execution_count": 78,
   "metadata": {
    "collapsed": false
   },
   "outputs": [
    {
     "ename": "IndexError",
     "evalue": "pop index out of range",
     "output_type": "error",
     "traceback": [
      "\u001b[1;31m---------------------------------------------------------------------------\u001b[0m",
      "\u001b[1;31mIndexError\u001b[0m                                Traceback (most recent call last)",
      "\u001b[1;32m<ipython-input-78-2a766cbff77c>\u001b[0m in \u001b[0;36m<module>\u001b[1;34m()\u001b[0m\n\u001b[1;32m----> 1\u001b[1;33m \u001b[0mfields\u001b[0m\u001b[1;33m.\u001b[0m\u001b[0mpop\u001b[0m\u001b[1;33m(\u001b[0m\u001b[0mindexB\u001b[0m\u001b[1;33m)\u001b[0m\u001b[1;33m\u001b[0m\u001b[0m\n\u001b[0m",
      "\u001b[1;31mIndexError\u001b[0m: pop index out of range"
     ]
    }
   ],
   "source": [
    "fields.pop(indexB)"
   ]
  },
  {
   "cell_type": "code",
   "execution_count": 79,
   "metadata": {
    "collapsed": false
   },
   "outputs": [
    {
     "data": {
      "text/plain": [
       "'Protection'"
      ]
     },
     "execution_count": 79,
     "metadata": {},
     "output_type": "execute_result"
    }
   ],
   "source": [
    "fields = ['FireId', 'Org', 'State', 'FireType', 'Protection']\n",
    "fields.pop(indexB)"
   ]
  },
  {
   "cell_type": "code",
   "execution_count": 80,
   "metadata": {
    "collapsed": false
   },
   "outputs": [
    {
     "data": {
      "text/plain": [
       "['FireId', 'Org', 'State', 'FireType']"
      ]
     },
     "execution_count": 80,
     "metadata": {},
     "output_type": "execute_result"
    }
   ],
   "source": [
    "fields"
   ]
  },
  {
   "cell_type": "code",
   "execution_count": 81,
   "metadata": {
    "collapsed": false
   },
   "outputs": [
    {
     "data": {
      "text/plain": [
       "'State'"
      ]
     },
     "execution_count": 81,
     "metadata": {},
     "output_type": "execute_result"
    }
   ],
   "source": [
    "fields.pop(indexA)"
   ]
  },
  {
   "cell_type": "code",
   "execution_count": 82,
   "metadata": {
    "collapsed": false
   },
   "outputs": [
    {
     "data": {
      "text/plain": [
       "['FireId', 'Org', 'FireType']"
      ]
     },
     "execution_count": 82,
     "metadata": {},
     "output_type": "execute_result"
    }
   ],
   "source": [
    "fields"
   ]
  },
  {
   "cell_type": "markdown",
   "metadata": {},
   "source": [
    "---"
   ]
  },
  {
   "cell_type": "code",
   "execution_count": null,
   "metadata": {
    "collapsed": true
   },
   "outputs": [],
   "source": [
    "# %load script/removeColumns.py\n",
    "# removeColumns.py\n",
    "# Purpose: Demonstrate removing columns, given the field names.\n",
    "# Input: No arguments required.  Input file hard-coded.\n",
    "# Output: Modified text file *v2.txt\n",
    "import os\n",
    "\n",
    "\n",
    "def getIndex(delimString, delimiter, name):\n",
    "    '''Get position of item in a delimited string'''\n",
    "    delimString = delimString.strip()\n",
    "    lineList = delimString.split(delimiter)\n",
    "    index = lineList.index(name)\n",
    "    return index\n",
    "\n",
    "\n",
    "def removeItems(indexList, delimiter, delimString):\n",
    "    '''Remove items at given indices in a delimited string'''\n",
    "    lineList = delimString.split(delimiter)\n",
    "    indexList.sort(reverse=True)\n",
    "    for i in indexList:\n",
    "        lineList.pop(i)\n",
    "    stringLine = delimiter.join(lineList)\n",
    "    return stringLine\n",
    "\n",
    "headers = 2\n",
    "sep = ','\n",
    "removeFields = ['LPCX', 'LPCY', 'RPCX', 'RPCY', 'LGX', 'LGY', 'RGX', 'RGY']\n",
    "infile = 'C:/gispy/data/ch19/eyeTrack.csv'\n",
    "baseN = os.path.basename(baseN)\n",
    "outfile = 'C:/gispy/scratch/' + os.path.splitext(baseN)[0] \\\n",
    "          + 'v2' + os.path.splitext(baseN)[1]\n",
    "try:\n",
    "    with open(infile, 'r') as fin:\n",
    "        with open(outfile, 'w') as fout:\n",
    "            # READ header lines, but don't write them.\n",
    "            for i in range(headers):\n",
    "                fin.readline()\n",
    "            # READ field names.\n",
    "            fieldNamesLine = fin.readline()\n",
    "            # FIND field indices.\n",
    "            rfIndex = []\n",
    "            for field in removeFields:\n",
    "                rfIndex.append(getIndex(fieldNamesLine, sep, field))\n",
    "            line = removeItems(rfIndex, sep, fieldNamesLine)\n",
    "            fout.write(line)\n",
    "            # READ and WRITE the remaining lines.\n",
    "            for line in fin:\n",
    "                line = removeItems(rfIndex, sep, line)\n",
    "                fout.write(line)\n",
    "            print '{0} created.'.format(outfile)\n",
    "except IOError:\n",
    "    print \"{0} doesn't exist.\".format(infile)\n"
   ]
  },
  {
   "cell_type": "code",
   "execution_count": 85,
   "metadata": {
    "collapsed": false
   },
   "outputs": [
    {
     "name": "stdout",
     "output_type": "stream",
     "text": [
      "scratch/eyeTrackv2.csv created.\n"
     ]
    }
   ],
   "source": [
    "%run script2/removeColumns.py"
   ]
  },
  {
   "cell_type": "markdown",
   "metadata": {},
   "source": [
    "## 19.4 Pickling"
   ]
  },
  {
   "cell_type": "code",
   "execution_count": 87,
   "metadata": {
    "collapsed": true
   },
   "outputs": [],
   "source": [
    "import pickle\n",
    "f = open('data/gherkin.txt', 'w')\n",
    "pickle.dump(2.71828,f)\n",
    "pickle.dump(['FireId', 'Org', 'FireType'],f)\n",
    "f.close()"
   ]
  },
  {
   "cell_type": "code",
   "execution_count": 88,
   "metadata": {
    "collapsed": false
   },
   "outputs": [
    {
     "data": {
      "text/plain": [
       "2.71828"
      ]
     },
     "execution_count": 88,
     "metadata": {},
     "output_type": "execute_result"
    }
   ],
   "source": [
    "f2 = open('data/gherkin.txt', 'r')\n",
    "thing1 = pickle.load(f2)\n",
    "thing1"
   ]
  },
  {
   "cell_type": "code",
   "execution_count": 89,
   "metadata": {
    "collapsed": false
   },
   "outputs": [
    {
     "data": {
      "text/plain": [
       "float"
      ]
     },
     "execution_count": 89,
     "metadata": {},
     "output_type": "execute_result"
    }
   ],
   "source": [
    "type(thing1)"
   ]
  },
  {
   "cell_type": "code",
   "execution_count": 90,
   "metadata": {
    "collapsed": false
   },
   "outputs": [
    {
     "data": {
      "text/plain": [
       "['FireId', 'Org', 'FireType']"
      ]
     },
     "execution_count": 90,
     "metadata": {},
     "output_type": "execute_result"
    }
   ],
   "source": [
    "thing2 = pickle.load(f2)\n",
    "thing2"
   ]
  },
  {
   "cell_type": "code",
   "execution_count": 91,
   "metadata": {
    "collapsed": false
   },
   "outputs": [
    {
     "data": {
      "text/plain": [
       "list"
      ]
     },
     "execution_count": 91,
     "metadata": {},
     "output_type": "execute_result"
    }
   ],
   "source": [
    "type(thing2)"
   ]
  },
  {
   "cell_type": "code",
   "execution_count": 92,
   "metadata": {
    "collapsed": true
   },
   "outputs": [],
   "source": [
    "f2.close()"
   ]
  },
  {
   "cell_type": "code",
   "execution_count": 95,
   "metadata": {
    "collapsed": false
   },
   "outputs": [
    {
     "data": {
      "text/plain": [
       "'F2.71828\\n'"
      ]
     },
     "execution_count": 95,
     "metadata": {},
     "output_type": "execute_result"
    }
   ],
   "source": [
    "f3 = open(\"data/gherkin.txt\", \"r\")\n",
    "f3.readline()"
   ]
  },
  {
   "cell_type": "code",
   "execution_count": 94,
   "metadata": {
    "collapsed": true
   },
   "outputs": [],
   "source": [
    "f3.close()"
   ]
  },
  {
   "cell_type": "markdown",
   "metadata": {},
   "source": [
    "## 19.5 Discussion"
   ]
  },
  {
   "cell_type": "code",
   "execution_count": null,
   "metadata": {
    "collapsed": true
   },
   "outputs": [],
   "source": []
  },
  {
   "cell_type": "code",
   "execution_count": null,
   "metadata": {
    "collapsed": true
   },
   "outputs": [],
   "source": []
  },
  {
   "cell_type": "markdown",
   "metadata": {},
   "source": [
    "## 19.6 Key Terms"
   ]
  },
  {
   "cell_type": "markdown",
   "metadata": {},
   "source": [
    "## 19.7 Exercises"
   ]
  },
  {
   "cell_type": "code",
   "execution_count": null,
   "metadata": {
    "collapsed": true
   },
   "outputs": [],
   "source": []
  }
 ],
 "metadata": {
  "kernelspec": {
   "display_name": "Python 2",
   "language": "python",
   "name": "python2"
  },
  "language_info": {
   "codemirror_mode": {
    "name": "ipython",
    "version": 2
   },
   "file_extension": ".py",
   "mimetype": "text/x-python",
   "name": "python",
   "nbconvert_exporter": "python",
   "pygments_lexer": "ipython2",
   "version": "2.7.2"
  }
 },
 "nbformat": 4,
 "nbformat_minor": 0
}
