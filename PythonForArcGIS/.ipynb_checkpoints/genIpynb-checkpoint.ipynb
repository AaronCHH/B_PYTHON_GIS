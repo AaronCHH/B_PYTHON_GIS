{
 "cells": [
  {
   "cell_type": "code",
   "execution_count": 1,
   "metadata": {
    "collapsed": false,
    "scrolled": true
   },
   "outputs": [
    {
     "name": "stdout",
     "output_type": "stream",
     "text": [
      "ch01_Introduction\n",
      "ch02_Beginning Python\n",
      "ch03_Basic Data Types: Numbers and Strings\n",
      "ch04_Basic Data Types: Lists and Tuples\n",
      "ch05_ArcGIS and Python\n",
      "ch06_Calling Tools with Arcpy\n",
      "ch07_Getting User Input\n",
      "ch08_Controlling Flow\n",
      "ch09_Decision-Making and Describing Data\n",
      "ch10_Repetition: Looping for Geoprocessing\n",
      "ch11_Batch Geoprocessing\n",
      "ch12_Additional Looping Functions\n",
      "ch13_Debugging\n",
      "ch14_Error Handling\n",
      "ch15_User-Defined Functions\n",
      "ch16_User-Defined Modules\n",
      "ch17_Reading and Writing with Cursors\n",
      "ch18_Dictionaries\n",
      "ch19_Reading and Writing Text Files\n",
      "ch20_Working with HTML and KML\n",
      "ch21_Classes\n",
      "ch22_User Interfaces for File and Folder Selection\n",
      "ch23_ArcGIS Python GUIs\n",
      "ch24_Mapping Module\n"
     ]
    }
   ],
   "source": [
    "import os, sys\n",
    "nameList = []\n",
    "with open('toc.txt', 'r') as f:\n",
    "    for line in f:\n",
    "        line = line.strip()\n",
    "        print(line)\n",
    "        nameList.append(line)       \n",
    "        "
   ]
  },
  {
   "cell_type": "code",
   "execution_count": 2,
   "metadata": {
    "collapsed": true
   },
   "outputs": [],
   "source": [
    "import nbformat as nbf"
   ]
  },
  {
   "cell_type": "code",
   "execution_count": 3,
   "metadata": {
    "collapsed": true
   },
   "outputs": [],
   "source": [
    "nb = nbf.v4.new_notebook()"
   ]
  },
  {
   "cell_type": "code",
   "execution_count": 4,
   "metadata": {
    "collapsed": true
   },
   "outputs": [],
   "source": [
    "for name in nameList:        \n",
    "    with open(name + '.ipynb', 'w') as f:\n",
    "        nbf.write(nb, f)"
   ]
  }
 ],
 "metadata": {
  "anaconda-cloud": {},
  "kernelspec": {
   "display_name": "Python [default]",
   "language": "python",
   "name": "python3"
  },
  "language_info": {
   "codemirror_mode": {
    "name": "ipython",
    "version": 3
   },
   "file_extension": ".py",
   "mimetype": "text/x-python",
   "name": "python",
   "nbconvert_exporter": "python",
   "pygments_lexer": "ipython3",
   "version": "3.5.2"
  }
 },
 "nbformat": 4,
 "nbformat_minor": 1
}
