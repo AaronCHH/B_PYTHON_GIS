{
 "cells": [
  {
   "cell_type": "markdown",
   "metadata": {},
   "source": [
    "# Chapter 8: Working with geometries "
   ]
  },
  {
   "cell_type": "markdown",
   "metadata": {},
   "source": [
    "## 8.1 Introduction"
   ]
  },
  {
   "cell_type": "markdown",
   "metadata": {},
   "source": [
    "This chapter describes how to work with geometries, including how to create geometry objects from existing feature classes and how to read the properties of these geometry objects.  \n",
    "lndividual features , such as points, polylines, and polygons, can be broken down into their vertices.  \n",
    "Geometries can also be written by creating geometry objects from a list of coordinates.  \n",
    "Being able to read and write geometries provides detailed control of feature classes, features , and the parts and vertices that make up features.  \n"
   ]
  },
  {
   "cell_type": "markdown",
   "metadata": {},
   "source": [
    "## 8.2 Working with geometry objects"
   ]
  },
  {
   "cell_type": "markdown",
   "metadata": {},
   "source": [
    "Accessing full geometry objects is somewhat time consuming.  \n",
    "As a result, scripts that work with the full geometry objects of large datasets can become very slow.  \n",
    "If yo u need only specihc properties of the geometry, you can use geometry tokens as shortcuts to access geometry properties.  \n",
    "For example, **```SHAPE@XY```** will return a tuple of x,y coordinates representing the feature's centroid, and **```SHAPE@LENGTH```** will return the feature's length as a double.\n",
    "On the other hand, **```SHAPE@```** will return the full geometry object.  \n"
   ]
  },
  {
   "cell_type": "markdown",
   "metadata": {},
   "source": [
    "The following example will determine the combined length of all features in a polyline feature class:  "
   ]
  },
  {
   "cell_type": "code",
   "execution_count": null,
   "metadata": {
    "collapsed": true
   },
   "outputs": [],
   "source": [
    "import arcpy\n",
    "fc = \"C:/Data/roads.shp\"\n",
    "cursor = arcpy.da.SearchCursor(fc, [\"SHAPE@LENGTH\"])\n",
    "length = 0\n",
    "for row in cursor:\n",
    "    length += row[0]\n",
    "print length  \n"
   ]
  },
  {
   "cell_type": "markdown",
   "metadata": {},
   "source": [
    "## 8.3 Reading geometries "
   ]
  },
  {
   "cell_type": "markdown",
   "metadata": {},
   "source": [
    "In the following example, a search cursor and a for loop are used to iterate over the rows of a point feature class called hospitals.shp.  \n",
    "A geom etry token is used to retrieve the x,y coordinates of the point objects, which are then printed.  \n",
    "The script is as follows:  \n"
   ]
  },
  {
   "cell_type": "code",
   "execution_count": null,
   "metadata": {
    "collapsed": true
   },
   "outputs": [],
   "source": [
    "import arcpy\n",
    "fc = \"C:/Data/hospitals.shp\"\n",
    "cursor = arcpy.da.SearchCursor(fc, [\"SHAPE@XY\"])\n",
    "for row in cursor:\n",
    "    X, Y = row[0]\n",
    "    print(\"{0}, {1}\".format(x,y))"
   ]
  },
  {
   "cell_type": "markdown",
   "metadata": {},
   "source": [
    "In the following example code, a for loop is used to iterate over the rows in a shapefile.  \n",
    "For every row, the value of the OID (object identifier) field is printed-without it, you could not tell the start and end of each array of points.  \n",
    "For each row, a geometry ect is obtained, which consists of an array containing an array of point objects.  \n",
    "The getPart method is used to obtain an array of point objects for the first (and only) part of the geometry.  \n",
    "(Note: Geometry coν ered in more detail in the next section.)   \n",
    "A for loop is used to iterate over all the point obj ects in the array and print the x,y coordinates.  \n",
    "The code is as follows:  \n"
   ]
  },
  {
   "cell_type": "code",
   "execution_count": null,
   "metadata": {
    "collapsed": true
   },
   "outputs": [],
   "source": [
    "import arcpy\n",
    "from arcpy impor env\n",
    "env.workspace=\"C:/Data\"\n",
    "fc = \"roads.shp\"\n",
    "cursor = arcpy.da.SearchCursor(fc, [\"OIO@\", \"SHAPE@\"])\n",
    "for row cursor:\n",
    "    print(\"Feature{0}:\".format(row[0]))\n",
    "    for point in row[1].getPart(0):\n",
    "        print(\"{0}, {1}\".format(point.X, point.Y))"
   ]
  },
  {
   "cell_type": "markdown",
   "metadata": {},
   "source": [
    "## 8.4 Working with multipart features"
   ]
  },
  {
   "cell_type": "markdown",
   "metadata": {},
   "source": [
    "The following example code illustrates how this is accomplished for polyline and polygon feature classes:"
   ]
  },
  {
   "cell_type": "code",
   "execution_count": null,
   "metadata": {
    "collapsed": true
   },
   "outputs": [],
   "source": [
    "import arcpy\n",
    "from arcpy import env\n",
    "env.workspace = \"C:/Data\"\n",
    "fc = \"roads.shp\"\n",
    "cursor = arcpy.SearchCursor(fc, [\"OIO@\", \"SHAPE@\"])\n",
    "for row in cursor:\n",
    "    print(\"Feature{0}:\".format(row[0]))\n",
    "    partnum = 0\n",
    "    for part in row[1]:\n",
    "        print(\"part{0}:\".format(partnum))\n",
    "        for point in part:\n",
    "            print(\"{0}, {1}\".format(point.X,point.Y))\n",
    "    partnum += 1"
   ]
  },
  {
   "cell_type": "markdown",
   "metadata": {},
   "source": [
    "## 8.5 Working with polygons with holes "
   ]
  },
  {
   "cell_type": "markdown",
   "metadata": {},
   "source": [
    "A script to read the geometry of polygons with holes is very similar to the script in the preceding section for multipart features.  \n",
    "The third for loop is replaced by the following:  \n"
   ]
  },
  {
   "cell_type": "code",
   "execution_count": null,
   "metadata": {
    "collapsed": true
   },
   "outputs": [],
   "source": [
    "for point in part:\n",
    "    if point:\n",
    "        print(\"{0}, {1}\".format(poont.Y, point.Y))\n",
    "    else:\n",
    "        print(\"Interior Ring\")\n",
    "partnum += 1"
   ]
  },
  {
   "cell_type": "markdown",
   "metadata": {},
   "source": [
    "## 8.6 Writing geometries "
   ]
  },
  {
   "cell_type": "markdown",
   "metadata": {},
   "source": [
    "The CreateFeatureclass function can be used to create a new, empty feature class, which will be used to hold the new point objects whose coordinates are taken from the preceding list.  \n",
    "The syntax of this tool is as follows:  \n"
   ]
  },
  {
   "cell_type": "code",
   "execution_count": null,
   "metadata": {
    "collapsed": true
   },
   "outputs": [],
   "source": [
    "CreateFeature class_management(out_path, out name, {geometry_type}, {template}, {has_m}, {has_z}, {spatial_reference}, {config_keyword}, {spatial_grid_1}, {spatial_grid_2}, {spatial_grid_3})  "
   ]
  },
  {
   "cell_type": "markdown",
   "metadata": {},
   "source": [
    "The only required parameters are the path for the location of the new feature class (folder or geodatabase) and the name of the new feature class The default value of the geometry is Polygon.  \n",
    "There is no default for the spatial reference, so if none is speci&ed, the coordinate system will be \"unknown.\"  \n",
    "The first part of the script is as follows:  \n"
   ]
  },
  {
   "cell_type": "code",
   "execution_count": null,
   "metadata": {
    "collapsed": true
   },
   "outputs": [],
   "source": [
    "import arcpy, fileinput, string\n",
    "from arcpy mport env\n",
    "env.overwriteOutput = True\n",
    "infile = \"C:/Data/points.txt\"\n",
    "fc = \"C:/Data/newpoly.shp\"\n",
    "arcpy.CreateFeatureclass_management(\"C:/Data\", fc, \"polygon\")"
   ]
  },
  {
   "cell_type": "markdown",
   "metadata": {},
   "source": [
    "The point objects representing the vertices of the polygon can be cre ated using the ArcPy Point class.  \n",
    "These point ects have to be stored in an array.  \n",
    "An array object can be created using the ArcPy Array class.  \n",
    "In general, an array can contain any number of geoprocessing ects such as points, geometries, or spatial references.  \n",
    "In this case, the array will contain point objects.  \n",
    "In addition, an insert cursor is created to make it possible to create new rows - that is, new features.  \n",
    "These lines of code are as follows:  \n"
   ]
  },
  {
   "cell_type": "code",
   "execution_count": null,
   "metadata": {
    "collapsed": true
   },
   "outputs": [],
   "source": [
    "cursor = arcpy.da.InsertCursor(fc, [\"SHAPE@\"])\n",
    "array = arcpy.Array()\n",
    "point = arcpy.Point()"
   ]
  },
  {
   "cell_type": "markdown",
   "metadata": {},
   "source": [
    "Next, the properties of the point objects have to be set using the values in the text file.  \n",
    "This requires the fileinput Python module to read the text file, and the split method to parse the text into separate strings for the point ID number, the x-coordinate, and the y-coordinate.  \n",
    "These lines of code are as follows:  \n"
   ]
  },
  {
   "cell_type": "code",
   "execution_count": null,
   "metadata": {
    "collapsed": true
   },
   "outputs": [],
   "source": [
    "for line in fileinput.input(infile):\n",
    "    point.ID, point.X, point.Y = line.split()"
   ]
  },
  {
   "cell_type": "markdown",
   "metadata": {},
   "source": [
    "Finally, the script needs to iterate over the lines of the input text file and create a point object for every line.  \n",
    "The result is a single array with 21 point objects.  \n",
    "The completed script is as follows:  \n"
   ]
  },
  {
   "cell_type": "code",
   "execution_count": null,
   "metadata": {
    "collapsed": true
   },
   "outputs": [],
   "source": [
    "import arcpy, fileinput, os\n",
    "from arcpy import env\n",
    "env.workspace = \"C:/Data\"\n",
    "infile = \"C:/Data/points.txt\"\n",
    "fc = \"newpoly.shp\"\n",
    "arcpy.CreateFeatureclass_management(\"C:/Data\", fc, \"Polygon\")\n",
    "cursor = arcpy.da.InsertCursor(fc, [\"SHAPE@\"])\n",
    "array = arcpy.Array()\n",
    "po nt = arcpy.Point()\n",
    "for line in fileinput.input(infile):\n",
    "    point.ID, point.X, point.Y = line.split()\n",
    "    line_array.add(point)\n",
    "polygon = arcpy.Polygon(array)\n",
    "cursor.insertRow([polygon])\n",
    "fileinput.close()\n",
    "del cur"
   ]
  },
  {
   "cell_type": "markdown",
   "metadata": {},
   "source": [
    "## 8.7 Using cursors to set the spatial reference "
   ]
  },
  {
   "cell_type": "markdown",
   "metadata": {},
   "source": [
    "Consider the example of using a point feature class in state p lane coordinates and writing a script that exports the x,y coordinate pairs of the point objects in decimal degrees.  \n",
    "The SearchCursor function is used to establish a read-only cursor on the state plane coordinates of the feature class, but the spatial reference of this cursor is set to the desired geographic coordinate system, in decimal degrees.  \n",
    "This is accomplished using the following code:  \n"
   ]
  },
  {
   "cell_type": "code",
   "execution_count": null,
   "metadata": {
    "collapsed": true
   },
   "outputs": [],
   "source": [
    "import arcpy\n",
    "fc = \"C:/Data/hospitals.shp\"\n",
    "prjfile = \"C:/projections/GCS_NAD_1983.prj\"\n",
    "spatialref = arcpy.SpatialReference(prjfile)\n",
    "cursor = arcpy.da.SearchCursor(fc,[\"SHAPE@\"], \"\", spatialref)"
   ]
  },
  {
   "cell_type": "markdown",
   "metadata": {},
   "source": [
    "Next, an output file is created, using the open function.  \n",
    "This opens the file in writing mode (\"w\") so that new lines of text can be written to it, as follows:  "
   ]
  },
  {
   "cell_type": "code",
   "execution_count": null,
   "metadata": {
    "collapsed": true
   },
   "outputs": [],
   "source": [
    "output = open(\"result.txt\", \"w\")"
   ]
  },
  {
   "cell_type": "markdown",
   "metadata": {},
   "source": [
    "The next step is to iterate over the rows, create a geometry object for each row, and write the x,y coordinates to the output file using the write method.  \n",
    "This part of the code is as follows:  \n"
   ]
  },
  {
   "cell_type": "code",
   "execution_count": null,
   "metadata": {
    "collapsed": true
   },
   "outputs": [],
   "source": [
    "for row in cursor:\n",
    "    point = row[0]\n",
    "    output.write(str(point.X) + \" \" + str(point.Y) + \"\\n\")"
   ]
  },
  {
   "cell_type": "code",
   "execution_count": null,
   "metadata": {
    "collapsed": true
   },
   "outputs": [],
   "source": [
    "import arcpy\n",
    "from arcpy import env\n",
    "env.workspace = \"C:/Data\"\n",
    "fc = hostals.shp\n",
    "prjfile = \"C:/Projections/GCS_NAO_1983.prj\"\n",
    "spatalref = arcpy.SpatialReference(prjfile)\n",
    "cursor = arcpy.da.SearchCursor(fc, [\"SHAPE@\"], \"\", spatialref)\n",
    "output = open(\"result.txt\", \"w\")\n",
    "for row in cursor:\n",
    "    point = row[0]\n",
    "    output.write(str(point.X) + \" \" + str(point.Y) + \"\\n\")\n",
    "output.close()"
   ]
  },
  {
   "cell_type": "markdown",
   "metadata": {},
   "source": [
    "## 8.8 Using geometry objects to work with geoprocessing tools"
   ]
  },
  {
   "cell_type": "markdown",
   "metadata": {},
   "source": [
    "For example, the following code creates a list of geometry objects from a list of coordinates, and then uses the geometry objects as input to the Buffer tool, as follows"
   ]
  },
  {
   "cell_type": "code",
   "execution_count": null,
   "metadata": {
    "collapsed": true
   },
   "outputs": [],
   "source": [
    "import arcpy\n",
    "from arcpy import env\n",
    "env.workspace = \"C:/Data\"\n",
    "coordlist = [[17.0, 20.0], [125.0, 32.0], [4.0, 87.0]]\n",
    "pointlist = []\n",
    "for x, y in coordlist:\n",
    "    point = arcpy.Point(x,y)\n",
    "    pointgeometry = arcpy.PointGeometry(point)\n",
    "    pointlist.append(pointgeometry)\n",
    "arcpy.Buffer_analysis(pointlist, \"buffer.shp\", \"10 METERS\")"
   ]
  },
  {
   "cell_type": "markdown",
   "metadata": {},
   "source": [
    "Geometry objects can also be created directly as the output of geopro cessing tools.  \n",
    "For example, the following code uses an empty geometry object as the output of the Copy Features tool , and the result is a list of geometry objects, as follows:  \n"
   ]
  },
  {
   "cell_type": "code",
   "execution_count": null,
   "metadata": {
    "collapsed": true
   },
   "outputs": [],
   "source": [
    "import arcpy\n",
    "fc = \"C:/Data/roads.shp\"\n",
    "geolist = arcpy.CopyFeatures_management(fc, arcpy.Geometry())\n",
    "length = 0\n",
    "for geometry in geolist:\n",
    "    length += geometry.length\n",
    "print \"Total length:\" + length"
   ]
  },
  {
   "cell_type": "markdown",
   "metadata": {},
   "source": [
    "The use of geometry objects can improve the efficiency of your code because it allows you to avoid the steps of having to create temporary feature classes and use a cursor to read through all the features.    \n"
   ]
  },
  {
   "cell_type": "markdown",
   "metadata": {
    "collapsed": true
   },
   "source": [
    "## Points to remember "
   ]
  },
  {
   "cell_type": "markdown",
   "metadata": {},
   "source": [
    "* The geometry object provides access to a number of properties, including length and area. Geometry tokens can be used as shortcuts to specifi. c geometry properties.  \n",
    "  \n",
    "* lndividual vertices of geometry objects are stored as an array of point objects (or an array containing multiple arrays of point objects in the case of multipart features)  \n",
    "  \n",
    "* New features can be created or updated using the insert and update cursors. A script can defi. ne a feature by creating point ec ts popu lating their properties, and placing the point objects in an array. This new array can then be used to set the geometry of a feature .  \n",
    "  \n",
    "* The spatial reference can be set on cursors to work with geometries in a coordinate system that is different from that of the feature class  \n",
    "  \n",
    "* Geometry objects can be used instead of feature classes as inputs and outputs for geoprocessing tools to make scripting easier.  \n",
    "  \n"
   ]
  },
  {
   "cell_type": "code",
   "execution_count": null,
   "metadata": {
    "collapsed": true
   },
   "outputs": [],
   "source": []
  }
 ],
 "metadata": {
  "kernelspec": {
   "display_name": "Python 2",
   "language": "python",
   "name": "python2"
  },
  "language_info": {
   "codemirror_mode": {
    "name": "ipython",
    "version": 2
   },
   "file_extension": ".py",
   "mimetype": "text/x-python",
   "name": "python",
   "nbconvert_exporter": "python",
   "pygments_lexer": "ipython2",
   "version": "2.7.2"
  }
 },
 "nbformat": 4,
 "nbformat_minor": 1
}
