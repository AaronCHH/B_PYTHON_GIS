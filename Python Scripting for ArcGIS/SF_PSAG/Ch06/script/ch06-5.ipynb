{
 "cells": [
  {
   "cell_type": "code",
   "execution_count": 4,
   "metadata": {
    "collapsed": false
   },
   "outputs": [],
   "source": [
    "# %load pt6_5_1.py\n",
    "import arcpy\n",
    "from arcpy import env\n",
    "\n",
    "env.workspace = \"../DATA\"\n",
    "tifflist = arcpy.ListRasters(\"\",\"TIF\")\n",
    "\n",
    "for tiff in tifflist:\n",
    "\tarcpy.BuildPyramids_management(tiff)"
   ]
  },
  {
   "cell_type": "code",
   "execution_count": 8,
   "metadata": {
    "collapsed": false
   },
   "outputs": [
    {
     "name": "stdout",
     "output_type": "stream",
     "text": [
      "FID is a type of OID with a length of 4\n",
      "Shape is a type of Geometry with a length of 0\n",
      "FNODE_ is a type of Double with a length of 11\n",
      "TNODE_ is a type of Double with a length of 11\n",
      "LPOLY_ is a type of Double with a length of 11\n",
      "RPOLY_ is a type of Double with a length of 11\n",
      "LENGTH is a type of Double with a length of 12\n",
      "ROADTRL020 is a type of Double with a length of 11\n",
      "FEATURE is a type of String with a length of 80\n",
      "NAME is a type of String with a length of 120\n",
      "STATE_FIPS is a type of String with a length of 2\n",
      "STATE is a type of String with a length of 2\n"
     ]
    }
   ],
   "source": [
    "# %load pt6_5_2.py\n",
    "import arcpy\n",
    "from arcpy import env\n",
    "\n",
    "env.workspace = \"../DATA\"\n",
    "fieldlist = arcpy.ListFields(\"roads.shp\")\n",
    "\n",
    "for field in fieldlist:\n",
    "\tprint \"{0} is a type of {1} with a length of {2}\".format(field.name, field.type, field.length)\n"
   ]
  },
  {
   "cell_type": "code",
   "execution_count": null,
   "metadata": {
    "collapsed": true
   },
   "outputs": [],
   "source": []
  }
 ],
 "metadata": {
  "kernelspec": {
   "display_name": "Python 2",
   "language": "python",
   "name": "python2"
  },
  "language_info": {
   "codemirror_mode": {
    "name": "ipython",
    "version": 2
   },
   "file_extension": ".py",
   "mimetype": "text/x-python",
   "name": "python",
   "nbconvert_exporter": "python",
   "pygments_lexer": "ipython2",
   "version": "2.7.2"
  }
 },
 "nbformat": 4,
 "nbformat_minor": 0
}
