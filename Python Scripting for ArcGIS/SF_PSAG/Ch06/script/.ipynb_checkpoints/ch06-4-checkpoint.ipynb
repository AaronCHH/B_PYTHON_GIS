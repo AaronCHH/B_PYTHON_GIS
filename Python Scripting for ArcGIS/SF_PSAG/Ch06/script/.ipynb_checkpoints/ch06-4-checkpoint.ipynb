{
 "cells": [
  {
   "cell_type": "code",
   "execution_count": 3,
   "metadata": {
    "collapsed": false
   },
   "outputs": [
    {
     "name": "stdout",
     "output_type": "stream",
     "text": [
      "[u'amtrak_stations.shp', u'basin.shp', u'cities.shp', u'counties.shp', u'new_mexico.shp', u'railroads.shp', u'rivers.shp', u'rivers_clip.shp', u'roads.shp']\n"
     ]
    }
   ],
   "source": [
    "# %load pt6_4_1.py\n",
    "import arcpy\n",
    "from arcpy import env\n",
    "\n",
    "env.workspace = \"../DATA\"\n",
    "\n",
    "fclist = arcpy.ListFeatureClasses()\n",
    "\n",
    "print fclist"
   ]
  },
  {
   "cell_type": "code",
   "execution_count": 5,
   "metadata": {
    "collapsed": false
   },
   "outputs": [
    {
     "name": "stdout",
     "output_type": "stream",
     "text": [
      "[]\n"
     ]
    }
   ],
   "source": [
    "# %load pt6_4_2.py\n",
    "import arcpy\n",
    "from arcpy import env\n",
    "\n",
    "env.workspace = \"../DATA\"\n",
    "\n",
    "fclist = arcpy.ListFeatureClasses(\"w*\")\n",
    "\n",
    "print fclist"
   ]
  },
  {
   "cell_type": "code",
   "execution_count": 7,
   "metadata": {
    "collapsed": false
   },
   "outputs": [
    {
     "name": "stdout",
     "output_type": "stream",
     "text": [
      "[u'amtrak_stations.shp', u'cities.shp']\n"
     ]
    }
   ],
   "source": [
    "# %load pt6_4_3.py\n",
    "import arcpy\n",
    "from arcpy import env\n",
    "\n",
    "env.workspace = \"../DATA\"\n",
    "\n",
    "fclist = arcpy.ListFeatureClasses(\"\", \"point\")\n",
    "\n",
    "print fclist"
   ]
  },
  {
   "cell_type": "code",
   "execution_count": 10,
   "metadata": {
    "collapsed": false
   },
   "outputs": [
    {
     "name": "stdout",
     "output_type": "stream",
     "text": [
      "[u'counties', u'counties.tif']\n"
     ]
    }
   ],
   "source": [
    "# %load pt6_4_4.py\n",
    "import arcpy\n",
    "from arcpy import env\n",
    "\n",
    "env.workspace = \"../DATA/ras\"\n",
    "rasterlist = arcpy.ListRasters()\n",
    "\n",
    "print rasterlist"
   ]
  },
  {
   "cell_type": "code",
   "execution_count": 14,
   "metadata": {
    "collapsed": false
   },
   "outputs": [
    {
     "name": "stdout",
     "output_type": "stream",
     "text": [
      "[<Field object at 0xa8f9f30[0xa085cb0]>, <Field object at 0xa8f9f50[0xa0853f8]>, <Field object at 0xa8f9f70[0xa085f98]>, <Field object at 0xa8f5ab0[0xa085698]>, <Field object at 0xa62a490[0xa085dd0]>, <Field object at 0xa8f9cb0[0xa085560]>, <Field object at 0xa8f9c70[0xa085038]>, <Field object at 0xa8f9f90[0xa085830]>, <Field object at 0xa8f9fb0[0xa085bf0]>, <Field object at 0xa8f9fd0[0xa085ed8]>, <Field object at 0xa8f9ff0[0xa085cc8]>, <Field object at 0xa8f9890[0xa085db8]>]\n"
     ]
    }
   ],
   "source": [
    "# %load pt6_4_5.py\n",
    "import arcpy\n",
    "from arcpy import env\n",
    "\n",
    "env.workspace = \"../DATA\"\n",
    "fieldlist = arcpy.ListFields(\"roads.shp\")\n",
    "\n",
    "print fieldlist"
   ]
  },
  {
   "cell_type": "code",
   "execution_count": 18,
   "metadata": {
    "collapsed": false
   },
   "outputs": [
    {
     "name": "stdout",
     "output_type": "stream",
     "text": [
      "FEATURE 80\n",
      "NAME 120\n",
      "STATE_FIPS 2\n",
      "STATE 2\n"
     ]
    }
   ],
   "source": [
    "# %load pt6_4_6.py\n",
    "import arcpy\n",
    "from arcpy import env\n",
    "\n",
    "env.workspace = \"../DATA\"\n",
    "fieldlist = arcpy.ListFields(\"roads.shp\", \"\", \"String\")\n",
    "\n",
    "for field in fieldlist:\n",
    "\tprint field.name + \" \" + str(field.length) "
   ]
  },
  {
   "cell_type": "code",
   "execution_count": null,
   "metadata": {
    "collapsed": true
   },
   "outputs": [],
   "source": []
  }
 ],
 "metadata": {
  "kernelspec": {
   "display_name": "Python 2",
   "language": "python",
   "name": "python2"
  },
  "language_info": {
   "codemirror_mode": {
    "name": "ipython",
    "version": 2
   },
   "file_extension": ".py",
   "mimetype": "text/x-python",
   "name": "python",
   "nbconvert_exporter": "python",
   "pygments_lexer": "ipython2",
   "version": "2.7.2"
  }
 },
 "nbformat": 4,
 "nbformat_minor": 0
}
