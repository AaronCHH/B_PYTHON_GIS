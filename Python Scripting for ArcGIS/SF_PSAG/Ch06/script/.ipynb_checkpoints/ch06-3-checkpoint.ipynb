{
 "cells": [
  {
   "cell_type": "code",
   "execution_count": 7,
   "metadata": {
    "collapsed": false
   },
   "outputs": [
    {
     "name": "stdout",
     "output_type": "stream",
     "text": [
      "Polyline\n"
     ]
    }
   ],
   "source": [
    "# %load pt6_3_1.py\n",
    "import arcpy\n",
    "desc = arcpy.Describe(\"../Data/rivers.shp\")\n",
    "print desc.shapeType"
   ]
  },
  {
   "cell_type": "code",
   "execution_count": 15,
   "metadata": {
    "collapsed": false
   },
   "outputs": [
    {
     "name": "stdout",
     "output_type": "stream",
     "text": [
      "done\n"
     ]
    },
    {
     "data": {
      "text/plain": [
       "''"
      ]
     },
     "execution_count": 15,
     "metadata": {},
     "output_type": "execute_result"
    }
   ],
   "source": [
    "# %load pt6_3_2.py\n",
    "import arcpy\n",
    "\n",
    "arcpy.env.workspace = \"../DATA\"\n",
    "arcpy.env.overwriteOutput = True\n",
    "\n",
    "infc = \"rivers.shp\"\n",
    "clipfc = \"basin.shp\"\n",
    "outfc = \"rivers_clip.shp\"\n",
    "desc = arcpy.Describe(clipfc)\n",
    "type = desc.shapeType\n",
    "\n",
    "if type == \"Polygon\":\n",
    "\tarcpy.Clip_analysis(infc, clipfc, outfc)\n",
    "else:\n",
    "\tprint \"The clip features are not polygon\"\n",
    "\n",
    "raw_input(\"done\")"
   ]
  },
  {
   "cell_type": "code",
   "execution_count": 9,
   "metadata": {
    "collapsed": false
   },
   "outputs": [
    {
     "name": "stdout",
     "output_type": "stream",
     "text": [
      "Dataset type: FeatureClass\n",
      "spatial reference: NAD_1983_HARN_Adj_MN_Clay_Feet\n"
     ]
    }
   ],
   "source": [
    "# %load pt6_3_3.py\n",
    "import arcpy\n",
    "fc = \"../DATA/rivers.shp\"\n",
    "desc = arcpy.Describe(fc)\n",
    "sr = desc.spatialReference\n",
    "print \"Dataset type: \" + desc.datasetType\n",
    "print \"spatial reference: \" + sr.name"
   ]
  },
  {
   "cell_type": "code",
   "execution_count": 10,
   "metadata": {
    "collapsed": false
   },
   "outputs": [
    {
     "name": "stdout",
     "output_type": "stream",
     "text": [
      "Dataset type: FeatureClass\n"
     ]
    }
   ],
   "source": [
    "# %load pt6_3_4.py\n",
    "import arcpy\n",
    "element = \"../DATA.gdb roads\"\n",
    "desc = arcpy.Describe(element)\n",
    "print \"Dataset type: \" + desc.datasetType"
   ]
  },
  {
   "cell_type": "code",
   "execution_count": 2,
   "metadata": {
    "collapsed": false
   },
   "outputs": [
    {
     "name": "stdout",
     "output_type": "stream",
     "text": [
      "Data type: FeatureClass\n",
      "File path: ../DATA.gdb\n",
      "Catalog path: ../DATA.gdb\\roads\n",
      "File name: roads\n",
      "Base name: roads\n",
      "Name: roads\n"
     ]
    }
   ],
   "source": [
    "# %load pt6_3_5.py\n",
    "import arcpy\n",
    "arcpy.env.workspace = \"../DATA.gdb\"\n",
    "element = \"roads\"\n",
    "desc = arcpy.Describe(element)\n",
    "print \"Data type: \" + desc.dataType \n",
    "print \"File path: \" + desc.path \n",
    "print \"Catalog path: \" + desc.catalogPath \n",
    "print \"File name: \" + desc.file \n",
    "print \"Base name: \" + desc.baseName \n",
    "print \"Name: \" + desc.name "
   ]
  },
  {
   "cell_type": "code",
   "execution_count": null,
   "metadata": {
    "collapsed": true
   },
   "outputs": [],
   "source": []
  }
 ],
 "metadata": {
  "kernelspec": {
   "display_name": "Python 2",
   "language": "python",
   "name": "python2"
  },
  "language_info": {
   "codemirror_mode": {
    "name": "ipython",
    "version": 2
   },
   "file_extension": ".py",
   "mimetype": "text/x-python",
   "name": "python",
   "nbconvert_exporter": "python",
   "pygments_lexer": "ipython2",
   "version": "2.7.2"
  }
 },
 "nbformat": 4,
 "nbformat_minor": 0
}
