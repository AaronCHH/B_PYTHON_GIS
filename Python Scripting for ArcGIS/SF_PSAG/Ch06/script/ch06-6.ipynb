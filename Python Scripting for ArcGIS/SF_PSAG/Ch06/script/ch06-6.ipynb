{
 "cells": [
  {
   "cell_type": "code",
   "execution_count": 2,
   "metadata": {
    "collapsed": false
   },
   "outputs": [
    {
     "name": "stdout",
     "output_type": "stream",
     "text": [
      "2\n"
     ]
    }
   ],
   "source": [
    "# %load pt6_6_1.py\n",
    "import arcpy\n",
    "from arcpy import env\n",
    "\n",
    "env.workspace = \"../DATA.gdb\"\n",
    "\n",
    "fcs = arcpy.ListFeatureClasses()\n",
    "\n",
    "print len(fcs)"
   ]
  },
  {
   "cell_type": "code",
   "execution_count": 4,
   "metadata": {
    "collapsed": false
   },
   "outputs": [
    {
     "name": "stdout",
     "output_type": "stream",
     "text": [
      "[u'buffer', u'roads']\n",
      "[u'roads', u'buffer']\n"
     ]
    }
   ],
   "source": [
    "# %load pt6_6_2.py\n",
    "import arcpy\n",
    "from arcpy import env\n",
    "\n",
    "env.workspace = \"../DATA.gdb\"\n",
    "fcs = arcpy.ListFeatureClasses()\n",
    "\n",
    "fcs.sort()\n",
    "print fcs\n",
    "\n",
    "fcs.sort(reverse = True)\n",
    "print fcs"
   ]
  },
  {
   "cell_type": "code",
   "execution_count": null,
   "metadata": {
    "collapsed": true
   },
   "outputs": [],
   "source": []
  }
 ],
 "metadata": {
  "kernelspec": {
   "display_name": "Python 2",
   "language": "python",
   "name": "python2"
  },
  "language_info": {
   "codemirror_mode": {
    "name": "ipython",
    "version": 2
   },
   "file_extension": ".py",
   "mimetype": "text/x-python",
   "name": "python",
   "nbconvert_exporter": "python",
   "pygments_lexer": "ipython2",
   "version": "2.7.2"
  }
 },
 "nbformat": 4,
 "nbformat_minor": 0
}
