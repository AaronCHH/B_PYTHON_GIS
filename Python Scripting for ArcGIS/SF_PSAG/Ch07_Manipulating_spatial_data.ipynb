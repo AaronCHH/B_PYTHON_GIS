{
 "cells": [
  {
   "cell_type": "markdown",
   "metadata": {},
   "source": [
    "# Chapter 7: Manipulating spatial data"
   ]
  },
  {
   "cell_type": "markdown",
   "metadata": {},
   "source": [
    "## 7.1 Introduction"
   ]
  },
  {
   "cell_type": "markdown",
   "metadata": {},
   "source": [
    "> This chapter introduces the ArcPy data access module arcpy .  \n",
    "da for working with data.  \n",
    "\n",
    "> This module allows control of an edit session, edit ing operations, cursor support, functions for converting tables and feature classes to and from NumPy arrays for additional processing, and support for versioning and replica workflows.  \n",
    "\n",
    "> This chapter focuses on cursors, which are used to iterate over rows in a table.  \n",
    "Different types of cursors can be used to search records , add new records , and make changes to exist ing records.  \n",
    "\n",
    "> Search cursors can be used to carry out SQL query expressions in Python.  \n",
    "\n",
    "> Validation of text and fteld names is also covered  \n"
   ]
  },
  {
   "cell_type": "markdown",
   "metadata": {},
   "source": [
    "## 7.2 Using cursors to access data"
   ]
  },
  {
   "cell_type": "markdown",
   "metadata": {},
   "source": [
    "| Cursor Type | Method    | Description                                |\n",
    "|-------------|-----------|--------------------------------------------|\n",
    "| Search      | next      | Retrieves the next row                     |\n",
    "|             | reset     | Resets the cursor to its sta ing position  |\n",
    "| Inset       | insertRow | Inserts a row into the table               |\n",
    "|             | next      | Retrieves the next row object              |\n",
    "| Update      | deleteRow | Removes the row from the table             |\n",
    "|             | next      | Retrieves the next row object              |\n",
    "|             | reset     | Resets the cursor to its starting position |\n",
    "|             | updateRow | Updates the current row                    |"
   ]
  },
  {
   "cell_type": "markdown",
   "metadata": {},
   "source": [
    "```py\n",
    "arcpy.da.InsertCursor(in_table, field_names)\n",
    "arcpy.da.SearchCursor(in_table, field_names, {where_clause}, {spatial_reference}, {explore_to_points})\n",
    "arcpy.da.UpdateCursor(in_table, field_names, {where_clause}, {spatial_reference}, {explore_to_polnts})\n",
    "```"
   ]
  },
  {
   "cell_type": "markdown",
   "metadata": {},
   "source": [
    "### Search"
   ]
  },
  {
   "cell_type": "markdown",
   "metadata": {},
   "source": [
    "> Following is an example of using a search cursor to iterate over the rows in a table.  \n",
    "In the example code that fo llows, the SearchCursor function retrieves the rows in a table.  \n",
    "A for loop is used to it over the rows in the table and print the values for a given field.  "
   ]
  },
  {
   "cell_type": "code",
   "execution_count": null,
   "metadata": {
    "collapsed": false,
    "scrolled": true
   },
   "outputs": [],
   "source": [
    "import arcpy\n",
    "fc = \"C:/Data/study.gdb/roads\"\n",
    "cursor = arcpy.da.SearchCursor(fc, [\"STREETNAME\"])\n",
    "for row in cursor:\n",
    "    print \"Streetname={0}\".format(row[0])"
   ]
  },
  {
   "cell_type": "markdown",
   "metadata": {},
   "source": [
    "> Search and update cursors also support with statements.  \n",
    "A with state ment has the advantage of guaranteeing closure and release of database locks and resetting iteration , regardless of whether the cursor fmished run ning successfully or not.  \n",
    "The previous example using a with statement is coded as follows:  \n"
   ]
  },
  {
   "cell_type": "code",
   "execution_count": null,
   "metadata": {
    "collapsed": true
   },
   "outputs": [],
   "source": [
    "import arcpy\n",
    "fc = \"C:/Data/study.gdb/roads\"\n",
    "with arcpy.da_SearchCursor(fc,[\"STREETNAME\"]) as cursor:\n",
    "    for row in cursor:\n",
    "        print \"Streetname={0}\".format(row[0])"
   ]
  },
  {
   "cell_type": "markdown",
   "metadata": {},
   "source": [
    "### Insert"
   ]
  },
  {
   "cell_type": "markdown",
   "metadata": {},
   "source": [
    "> The following code illustrates how a new row is inserted.  \n",
    "A cursor object is created using the InsertCursor function.  \n",
    "Once the cursor is created, the insertRow method is used to insert a list of values that will be included by the new row.  \n",
    "The code is as follows:"
   ]
  },
  {
   "cell_type": "code",
   "execution_count": null,
   "metadata": {
    "collapsed": true
   },
   "outputs": [],
   "source": [
    "import arcpy\n",
    "fc = \"C:/Data/study.gdb/roads\"\n",
    "cursor = arcpy.da.InsertCursor(fc, [\"STREETNAME\"])\n",
    "cursor.insertRow([\"NEW_STREET\"] )"
   ]
  },
  {
   "cell_type": "markdown",
   "metadata": {},
   "source": [
    "> You can insert multiple rows using a loop:"
   ]
  },
  {
   "cell_type": "code",
   "execution_count": null,
   "metadata": {
    "collapsed": true
   },
   "outputs": [],
   "source": [
    "cursor = arcpy.da.InsertCursor(fc, [\"STREETNAME\"])\n",
    "x = 1\n",
    "while x <= 5:\n",
    "    cursor.insertRow([\"NEWS_TREET\"])\n",
    "    x+= 1"
   ]
  },
  {
   "cell_type": "markdown",
   "metadata": {},
   "source": [
    "### Update"
   ]
  },
  {
   "cell_type": "markdown",
   "metadata": {},
   "source": [
    "> In the following example, the cursor object is created using the UpdateCursor function.  \n",
    "In the for loop , the values of one held (Acres) in the row are updated using the values of another held (Shape_Area).  \n",
    "If the Shape_Area held is in square feet , the value needs to be divided by 43 ,560 to obtain the area in acres.  \n",
    "The row is updated using the updateRow method on the row object.  "
   ]
  },
  {
   "cell_type": "code",
   "execution_count": null,
   "metadata": {
    "collapsed": true
   },
   "outputs": [],
   "source": [
    "import arcpy\n",
    "fc = \"C:/Data/study.gdb/zones\"\n",
    "cursor = arcpy.da.UpdateCursor(fc, [\"ACRES\", \"SHAPEAREA\"])\n",
    "for row in cursor:\n",
    "    row[0] = row[1]/43560\n",
    "    cursor.updateRow([row])"
   ]
  },
  {
   "cell_type": "markdown",
   "metadata": {},
   "source": [
    "> The deleteRow method is used to delete the row at the current position of the UpdateCursor.  \n",
    "After the cursor retrieves the row object, calling the deleteRow method deletes the row, as follows:   "
   ]
  },
  {
   "cell_type": "code",
   "execution_count": null,
   "metadata": {
    "collapsed": true
   },
   "outputs": [],
   "source": [
    "import arcpy\n",
    "fc = \"C:/Data/study.gdb/roads\"\n",
    "cursor = arcpy.da.UpdateCursor(fc,[\"STREETNAME\"])\n",
    "for row in cursor:\n",
    "if row[0] == \"MAINST\":\n",
    "    cursor.deleteRow()"
   ]
  },
  {
   "cell_type": "markdown",
   "metadata": {},
   "source": [
    "> Once an exclusive lock is created by a script, the lock persists until the script releases the lock.  \n",
    "This is accomplished using the del statement to delete the cursor object creating the lock.  \n",
    "Without this statement, a lock could needlessly block other applications or scripts from accessing a data set.  \n",
    "A typical script that creates an insert or update cursor should therefore include two del statements - one to delete the row object, such as del row, and one to delete the cursor object, such as del cursor .  \n",
    "For example:  "
   ]
  },
  {
   "cell_type": "code",
   "execution_count": null,
   "metadata": {
    "collapsed": true
   },
   "outputs": [],
   "source": [
    "import arcpy\n",
    "fc = \"C:/Data/study.gdb/roads\"\n",
    "cursor = arcpy.da.UpdateCursor(fc, [\"STREETNAME\"])\n",
    "for row in cursor:\n",
    "if row[0] == \"MAINST\":\n",
    "    cursor.deleteRow()\n",
    "del row\n",
    "del cursor"
   ]
  },
  {
   "cell_type": "markdown",
   "metadata": {},
   "source": [
    "* __TIP__  \n",
    "Forgetting to use the del statements at the end of a script can lead to errors so be sure to include the del statements after using insert and update cursor.  \n",
    "Search and update cursors suppo wi th statements , which guarantee closure and release of database locks .  \n",
    "Therefore, when a wi th statement is used , the del statements are not needed.  "
   ]
  },
  {
   "cell_type": "markdown",
   "metadata": {},
   "source": [
    "## 7.3 Using SQL in Python "
   ]
  },
  {
   "cell_type": "markdown",
   "metadata": {},
   "source": [
    "> SQL queries can be carried out in Python using the SearchC urso r function.  \n",
    "The syntax for SearchCursor is  "
   ]
  },
  {
   "cell_type": "markdown",
   "metadata": {},
   "source": [
    "```py\n",
    "SearchCursor(in_table, field_names {where_clause}, {spatial_reference}, {felds}, {explode_to_points})\n",
    "```"
   ]
  },
  {
   "cell_type": "markdown",
   "metadata": {},
   "source": [
    "> The following code shows an examp1e of using an SQL expression:"
   ]
  },
  {
   "cell_type": "code",
   "execution_count": null,
   "metadata": {
    "collapsed": true
   },
   "outputs": [],
   "source": [
    "import arcpy\n",
    "fc = \"C:/Data/study.gdb/roads\"\n",
    "cursor = arcpy.da.SearchCursor(fc, [\"NAME\", \"CLASSCODE\"], '\"CLASSCODE\"=1')\n",
    "for row in cursor:\n",
    "    print row[0]\n",
    "del row\n",
    "del cursor"
   ]
  },
  {
   "cell_type": "markdown",
   "metadata": {},
   "source": [
    "> SQL syntax can be cumbersome since it depends on the format of the feature class.  \n",
    "For example, field delimiters for shape files and file geodatabase feature classes consist of double quotation marks (“ ”), personal geodatabase feature classes use square brackets ([ ]) , and ArcSDE geodatabase feature classes use no delimiters.  \n",
    "To avoid confusion and to ensure the field delimiters are the correct ones, you can use the AddFieldDelimiters function.  \n",
    "The syntax of this function is  "
   ]
  },
  {
   "cell_type": "markdown",
   "metadata": {},
   "source": [
    "```py\n",
    "AddFieldDelimiters(datasource , field)\n",
    "```"
   ]
  },
  {
   "cell_type": "markdown",
   "metadata": {},
   "source": [
    "> The function recognizes the type of dataset being used, such as a shapefile or personal geodatabase, and adds the correct delimiters.\n",
    "In the following example code, the fie1d name is first assigned to a variable and the AddFieldDelimiters function is used to add the correct de1imiters to the field name prior to using it in an SQL explession:"
   ]
  },
  {
   "cell_type": "code",
   "execution_count": null,
   "metadata": {
    "collapsed": true
   },
   "outputs": [],
   "source": [
    "import arcpy\n",
    "fc = \"C:/Data/zipcodes.shp\"\n",
    "fieldname = \"CITY\"\n",
    "delimfield = arcpy.AddFieldDelimiters(fc, fieldname)\n",
    "cursor = arcpy.da.SearchCursor(fc, [\"NAME\", \"CLASSCODE\"], delimfield + \" = 'LONGWOOD'\")\n",
    "for row in cursor:\n",
    "    print row[0]\n",
    "del row\n",
    "del cursor"
   ]
  },
  {
   "cell_type": "markdown",
   "metadata": {},
   "source": [
    "> SQL is commonly used in other functions as well.  \n",
    "A number of built-in tools use SQL - for example, the Select tool.  \n",
    "The generic syntax of the Select tool is  "
   ]
  },
  {
   "cell_type": "markdown",
   "metadata": {},
   "source": [
    "```py\n",
    "Select_analysis(in_features, out_feature_class, {where_clause})\n",
    "```"
   ]
  },
  {
   "cell_type": "markdown",
   "metadata": {},
   "source": [
    "> The where_clause parameter is an SQL expression, and to avoid confusion over the proper neld delimiters, the following example code also uses the AddFieldDelimiters function:  "
   ]
  },
  {
   "cell_type": "code",
   "execution_count": null,
   "metadata": {
    "collapsed": true
   },
   "outputs": [],
   "source": [
    "import arcpy\n",
    "infc = \"C:/Data/zipcodes.shp\"\n",
    "fieldname = \"CITY\"\n",
    "outfc = \"C:/Data/zip_select.shp\"\n",
    "delimfield = arcpy AddFieldDelimiters(infc, fieldname)\n",
    "arcpy.Select_analysis(infc, outfc, delimfield + \" = 'LONGWOOD'\")"
   ]
  },
  {
   "cell_type": "markdown",
   "metadata": {},
   "source": [
    "## 7.4 Working with table and fild names"
   ]
  },
  {
   "cell_type": "markdown",
   "metadata": {},
   "source": [
    "> The ValidateTableName function can be used to determine whether a specinc table name is valid for a specinc workspace.  \n",
    "The syntax of this function is  "
   ]
  },
  {
   "cell_type": "markdown",
   "metadata": {},
   "source": [
    "```py\n",
    "ValidateTableName(name, {workspace})\n",
    "```"
   ]
  },
  {
   "cell_type": "markdown",
   "metadata": {},
   "source": [
    "> For example, the following script determines whether all roads is a valid table name for the nle geodatabase called study:  "
   ]
  },
  {
   "cell_type": "code",
   "execution_count": null,
   "metadata": {
    "collapsed": true
   },
   "outputs": [],
   "source": [
    "import arcpy\n",
    "tablename = arcpy.ValidateTableName(\"all_roads\", \"C:/Data/study.gdb\")\n",
    "print tablename"
   ]
  },
  {
   "cell_type": "markdown",
   "metadata": {},
   "source": [
    "> In this example, the value all_roads is returned for the table name.  \n",
    "An underscore (_) is added because the table name cannot contain spaces.  \n",
    "Validating table names is commonly used w hen moving data from one work space to another.  \n",
    "For example, the following code uses the Copy Features tool to copy all shapefiles from a folder to a geodatabase.  \n",
    "The .shp file extension is removed from the file name using the basename property and the nam es are validated prior to copying the shape files to feature classes, as follows   \n"
   ]
  },
  {
   "cell_type": "code",
   "execution_count": null,
   "metadata": {
    "collapsed": true
   },
   "outputs": [],
   "source": [
    "import arcpy\n",
    "import os\n",
    "from arcpy import env\n",
    "env.workspace = \"C:/Data\"\n",
    "outworkspace = \"C:/Data/test/study.gdb\"\n",
    "fclist = arcpy.ListFeatureClasses()\n",
    "for shape in fclist:\n",
    "    fcname = arcpy.Describe(shapefile).basename\n",
    "    newfcname = arcpy.ValidateTableName(fcname)\n",
    "    outfc = os.path.join(outworkspace, newfcname)\n",
    "    arcpy.CopyFeatures_management(shapefile, outfc)"
   ]
  },
  {
   "cell_type": "markdown",
   "metadata": {},
   "source": [
    "> A similar approach can be applied to field names using the ValidateFieldName function.  \n",
    "Fields cannot be added unless their name is valid, so unless field names are validated first a script may fail during execution.  \n",
    "The syntax of this function is "
   ]
  },
  {
   "cell_type": "markdown",
   "metadata": {},
   "source": [
    "```py\n",
    "ValidateFieldName(name, {workspace})\n",
    "```"
   ]
  },
  {
   "cell_type": "markdown",
   "metadata": {},
   "source": [
    "> The ValidateFieldName func tion takes a field name and a workspace and returns a valid field name for the workspace.  \n",
    "Invalid characters are replaced by an underscore (_).  \n",
    "The following code validates the name of a new field, and then uses the returned value to add the new field using the Add Field tool:  "
   ]
  },
  {
   "cell_type": "code",
   "execution_count": null,
   "metadata": {
    "collapsed": true
   },
   "outputs": [],
   "source": [
    "import arcpy\n",
    "fc = \"C:/Data/roads.shp\"\n",
    "fieldname = arcpy.ValidateFieldName(\"NEW\")\n",
    "arcpy.AddFiel_management(fc, fieldname, \"\", \"\", \"TEXT\", 12)"
   ]
  },
  {
   "cell_type": "markdown",
   "metadata": {},
   "source": [
    "> In this example, the string \"NEW%^\" is replaced by \"NEW__\""
   ]
  },
  {
   "cell_type": "markdown",
   "metadata": {},
   "source": [
    "> An alternative to trying to determine whether a table name exists is to use the Cr e ate Un iqueName function.  \n",
    "This function creates a unique name in the specifted workspace by appending a number to the input name.  \n",
    "This number is increased until the name is unique.  \n",
    "For example, if the name \"Clip\" already exists, the CreateUn i que Name function will change it to \"Clip0\"; if this name also exists, the function will change the name to \"Clip1 , \" and so on.  \n",
    "This function can be used only to create unique table names w ithin a workspace.  \n",
    "It does not work for fteld names.  \n",
    "For example:  \n"
   ]
  },
  {
   "cell_type": "code",
   "execution_count": null,
   "metadata": {
    "collapsed": true
   },
   "outputs": [],
   "source": [
    "import arcpy\n",
    "from arcpy import env\n",
    "env.workspace = \"C:/Data\"\n",
    "unique_name = arcpy.CreateUniqueName(\"buffer.shp\")\n",
    "arcpy.Buffer_analysis(\"roads.shp\", unque_name, \"100 FEET\")"
   ]
  },
  {
   "cell_type": "markdown",
   "metadata": {},
   "source": [
    "## 7.5 Parsing table and field names"
   ]
  },
  {
   "cell_type": "markdown",
   "metadata": {},
   "source": [
    "> The ParseTableName function can be used to split the fully qualifted name for a dataset into its components. The syntax of this function is  "
   ]
  },
  {
   "cell_type": "markdown",
   "metadata": {},
   "source": [
    "```py\n",
    "ParseTableName(name, {workspace})\n",
    "```"
   ]
  },
  {
   "cell_type": "markdown",
   "metadata": {},
   "source": [
    "> The ParseTableName function returns a single string with the database name, owner name, and table name, each separated by a comma (,).  \n",
    "For example, the following code uses the ParseTableName function on a feature class to obtain the components of the fully gualified name, and then splits these components into a list:  \n"
   ]
  },
  {
   "cell_type": "code",
   "execution_count": null,
   "metadata": {
    "collapsed": true
   },
   "outputs": [],
   "source": [
    "import arcpy\n",
    "from arcpy import env\n",
    "env.workspace = \"C:/Data/study.gdb\"\n",
    "fc = \"roads\"\n",
    "fullname = arcpy.ParseTableName(fc)\n",
    "namelist = fullname.split(\",\")\n",
    "databasename = namelist[0]\n",
    "ownername = namelist[1]\n",
    "fcname = namelist[2]\n",
    "print databasename\n",
    "print ownername\n",
    "print fcname"
   ]
  },
  {
   "cell_type": "markdown",
   "metadata": {},
   "source": [
    "> A similar approach can be used to split the fully gualif1 ed name of a f1 eld in a table into its components using the ParseFieldName function.  \n",
    "This function returns a single string with the database name, owner name, table name, and f1 eld name, each separated by a comma (,).  "
   ]
  },
  {
   "cell_type": "markdown",
   "metadata": {},
   "source": [
    "## 7.6 Working with text files "
   ]
  },
  {
   "cell_type": "markdown",
   "metadata": {},
   "source": [
    "> You can open files using the open function, which has the following syntax: "
   ]
  },
  {
   "cell_type": "markdown",
   "metadata": {},
   "source": [
    "```py\n",
    "open(name, {mode}, {buffering})\n",
    "```"
   ]
  },
  {
   "cell_type": "markdown",
   "metadata": {},
   "source": [
    "The only reguired argument is a file name and the function returns an object.  \n",
    "For example, the following code opens an existing text file (.txt) on disk. "
   ]
  },
  {
   "cell_type": "markdown",
   "metadata": {},
   "source": [
    "```py \n",
    ">>> f = open(\"C:/Data/sample.txt\")\n",
    "```"
   ]
  },
  {
   "cell_type": "markdown",
   "metadata": {},
   "source": [
    "> Using only a file name as a parameter returns a &le object you can read from.  \n",
    "If you want to do something else, such as w rite to the file, this must be stated explicitly by specifying a mode.  \n",
    "The most common values for the mode are as follows:\n"
   ]
  },
  {
   "cell_type": "markdown",
   "metadata": {},
   "source": [
    "```\n",
    "r: read mode\n",
    "w: write mode\n",
    "+: read/write mode (added to another mode)\n",
    "b: binary mode (added to another mode - for example rb, wb, and others)\n",
    "a: append mode\n",
    "```"
   ]
  },
  {
   "cell_type": "markdown",
   "metadata": {},
   "source": [
    "> To create a new file object, you can use the open function and specify write mode:"
   ]
  },
  {
   "cell_type": "markdown",
   "metadata": {},
   "source": [
    "```py\n",
    ">>> f = open(\"C:/Data/mytext.txt\", \"w\")\n",
    "```"
   ]
  },
  {
   "cell_type": "markdown",
   "metadata": {},
   "source": [
    "> Several file methods exist to manipulate the contents of a text file, including write , read, and close.  \n",
    "Consider the following example:  "
   ]
  },
  {
   "cell_type": "markdown",
   "metadata": {},
   "source": [
    "```py\n",
    ">>> f = open(\"C:/Data/mytext.txt\", \"w\")\n",
    ">>> f.write(\"Geographic for at on Systems\")\n",
    ">>> f.close()\n",
    "```"
   ]
  },
  {
   "cell_type": "markdown",
   "metadata": {},
   "source": [
    "> Running this code creates a new file object.  \n",
    "If the file mytext.txt already exists, the existing file will be overwritten, so be careful.  \n",
    "The write method is used to write a string to the file and the close method is used to close the file (and save its contents).  \n",
    "Reading a file works as follows:"
   ]
  },
  {
   "cell_type": "markdown",
   "metadata": {},
   "source": [
    "```py\n",
    ">>> f = open(\"C:/Data/mytext.txt\")\n",
    ">>> f.read()\n",
    "```"
   ]
  },
  {
   "cell_type": "markdown",
   "metadata": {},
   "source": [
    "> When opening a file just to read its contents, it is not necessary to specify a mode because r (read mode) is the default.  \n",
    "The read method is used to read the contents of the text file.  \n",
    "When no argument is specified, the script reads the entire contents of the file.  \n",
    "An optional argument can be supplied to indicate the number of charac ters to be read.  \n",
    "For example:  "
   ]
  },
  {
   "cell_type": "markdown",
   "metadata": {},
   "source": [
    "```py\n",
    ">>> f = open(\"C:/Data/mytext.txt\")\n",
    ">>> f.read(3)\n",
    "```"
   ]
  },
  {
   "cell_type": "markdown",
   "metadata": {},
   "source": [
    "> Once you open a file, reading the file is like making a single pass through the string of characters.  \n",
    "The next time you use the read method, the script picks up where it stopped the last time.  \n",
    "For example:  "
   ]
  },
  {
   "cell_type": "code",
   "execution_count": null,
   "metadata": {
    "collapsed": true
   },
   "outputs": [],
   "source": [
    ">>> f.read(5)"
   ]
  },
  {
   "cell_type": "markdown",
   "metadata": {},
   "source": [
    "> The result is  "
   ]
  },
  {
   "cell_type": "code",
   "execution_count": null,
   "metadata": {
    "collapsed": true
   },
   "outputs": [],
   "source": [
    "' graph '  "
   ]
  },
  {
   "cell_type": "markdown",
   "metadata": {},
   "source": [
    "For example:  "
   ]
  },
  {
   "cell_type": "code",
   "execution_count": null,
   "metadata": {
    "collapsed": true
   },
   "outputs": [],
   "source": [
    ">>> f.read()"
   ]
  },
  {
   "cell_type": "markdown",
   "metadata": {},
   "source": [
    "> The result is  \n",
    "'ic Information Systems'  "
   ]
  },
  {
   "cell_type": "markdown",
   "metadata": {},
   "source": [
    "> After you start reading a file, you can use the seek method to set the file’s current position without opening the file again. For example:  "
   ]
  },
  {
   "cell_type": "code",
   "execution_count": null,
   "metadata": {
    "collapsed": false
   },
   "outputs": [],
   "source": [
    ">>> f.seek(0)\n",
    ">>> f.read(10)"
   ]
  },
  {
   "cell_type": "markdown",
   "metadata": {},
   "source": [
    "> The result is  \n",
    "'Geographic'"
   ]
  },
  {
   "cell_type": "markdown",
   "metadata": {},
   "source": [
    "![]('Ch07/sql.png')"
   ]
  },
  {
   "cell_type": "markdown",
   "metadata": {},
   "source": [
    "> Reading the contents of this file can be accomplished in a number of ways, starting with the read method, as follows:  "
   ]
  },
  {
   "cell_type": "code",
   "execution_count": null,
   "metadata": {
    "collapsed": true
   },
   "outputs": [],
   "source": [
    ">>> f = open(\"C:/Data/sqltext.txt\")\n",
    ">>> f.read()"
   ]
  },
  {
   "cell_type": "markdown",
   "metadata": {},
   "source": [
    "> The result is  "
   ]
  },
  {
   "cell_type": "code",
   "execution_count": null,
   "metadata": {
    "collapsed": true
   },
   "outputs": [],
   "source": [
    "'Structured\\nQuery\\nLanguage'  "
   ]
  },
  {
   "cell_type": "markdown",
   "metadata": {},
   "source": [
    "> And run again:  "
   ]
  },
  {
   "cell_type": "code",
   "execution_count": null,
   "metadata": {
    "collapsed": true
   },
   "outputs": [],
   "source": [
    ">>> f . readline()"
   ]
  },
  {
   "cell_type": "markdown",
   "metadata": {},
   "source": [
    "> The result is  "
   ]
  },
  {
   "cell_type": "code",
   "execution_count": null,
   "metadata": {
    "collapsed": true
   },
   "outputs": [],
   "source": [
    "' Query\\n '  "
   ]
  },
  {
   "cell_type": "markdown",
   "metadata": {},
   "source": [
    "> And run again:  "
   ]
  },
  {
   "cell_type": "code",
   "execution_count": null,
   "metadata": {
    "collapsed": true
   },
   "outputs": [],
   "source": [
    ">>> readline()"
   ]
  },
  {
   "cell_type": "markdown",
   "metadata": {},
   "source": [
    "> The result is  \n",
    "' Language '  "
   ]
  },
  {
   "cell_type": "markdown",
   "metadata": {},
   "source": [
    "> The readline method reads the next line from the text file and returns it as a string.\n",
    "Continuing to use the readl ne m ethod returns the lines that follow.\n",
    "The line separators (\\n) are also returned\n"
   ]
  },
  {
   "cell_type": "markdown",
   "metadata": {},
   "source": [
    "Finally, the readlines method reads all the lines in the files and returns the result as a list.\n",
    "For example:"
   ]
  },
  {
   "cell_type": "code",
   "execution_count": null,
   "metadata": {
    "collapsed": true
   },
   "outputs": [],
   "source": [
    ">>> f = open(\"C:/Data/sqltext.txt\")\n",
    ">>> f.readlines()"
   ]
  },
  {
   "cell_type": "markdown",
   "metadata": {},
   "source": [
    "The result is"
   ]
  },
  {
   "cell_type": "code",
   "execution_count": null,
   "metadata": {
    "collapsed": true
   },
   "outputs": [],
   "source": [
    "['Structured\\n', 'Query\\n' , 'Language']"
   ]
  },
  {
   "cell_type": "markdown",
   "metadata": {},
   "source": [
    "Writing a file with multiple lines can be accomplished using the write and writelines methods.  \n",
    "To add new lines, the line separators have to be used.  \n",
    "For example:  \n"
   ]
  },
  {
   "cell_type": "code",
   "execution_count": null,
   "metadata": {
    "collapsed": true
   },
   "outputs": [],
   "source": [
    ">>> f = open(\"C:/Data/tintext.txt\", \"w\")\n",
    ">>> f.write(\"Triangulated\\nlrregular\\nNode\")\n",
    ">>> f.close()"
   ]
  },
  {
   "cell_type": "markdown",
   "metadata": {},
   "source": [
    "The writelines method can be used to modify the string for a particular line. \n",
    "For example:  "
   ]
  },
  {
   "cell_type": "code",
   "execution_count": null,
   "metadata": {
    "collapsed": true
   },
   "outputs": [],
   "source": [
    ">>> f = open(\"C:/Data/tintext.txt\")\n",
    ">>> lines = f.readlines()\n",
    ">>> f.close()\n",
    ">>> lines[2] = \"Network\"\n",
    ">>> f = open(\"C:/Data/tintext.txt\", \"w\")\n",
    ">>> f.writelines(lines)\n",
    ">>> f.close()"
   ]
  },
  {
   "cell_type": "markdown",
   "metadata": {},
   "source": [
    "First, files in Python are iterable , which means you can use them directly in a for loop to iterate over their lines. The code is as follows:  "
   ]
  },
  {
   "cell_type": "code",
   "execution_count": null,
   "metadata": {
    "collapsed": true
   },
   "outputs": [],
   "source": [
    "f = open(\"C:/Data/mytext.txt\")\n",
    "for line in f:\n",
    "    <function>\n",
    "f.close()"
   ]
  },
  {
   "cell_type": "markdown",
   "metadata": {},
   "source": [
    "Iteration can also be accomplished using the readline method.  \n",
    "For example:  "
   ]
  },
  {
   "cell_type": "code",
   "execution_count": null,
   "metadata": {
    "collapsed": true
   },
   "outputs": [],
   "source": [
    "f = open(\"C:/Data/mytext.txt\")\n",
    "while True:\n",
    "    line = f.readline()\n",
    "    if not line: \n",
    "        break\n",
    "    <function>\n",
    "f.close()"
   ]
  },
  {
   "cell_type": "markdown",
   "metadata": {},
   "source": [
    "For relatively small files, you can also read the entire file in step using the read method (to read the entire file as a string) or the readlines method (to read the file into a list of strings).    \n",
    "For example:  "
   ]
  },
  {
   "cell_type": "code",
   "execution_count": null,
   "metadata": {
    "collapsed": true
   },
   "outputs": [],
   "source": [
    "f = open(\"C:/Data/mytext.txt\")\n",
    "for line in readlines():\n",
    "    <function>\n",
    "f.close()"
   ]
  },
  {
   "cell_type": "markdown",
   "metadata": {},
   "source": [
    "Reading the entire file using the read m ethod or the readlines method can use excessive memory.  \n",
    "One alternative is to use a while loop with the readline method.  \n",
    "A second alternative is to use the fileinput module instead of the open function.  \n",
    "This module enables you to create an object that you can iteI over in a for loop.  \n",
    "For example:  "
   ]
  },
  {
   "cell_type": "code",
   "execution_count": null,
   "metadata": {
    "collapsed": true
   },
   "outputs": [],
   "source": [
    "import fileinput\n",
    "for line in fileinput.input(\"C:/Data/mytext.txt\"):\n",
    "    <function>"
   ]
  },
  {
   "cell_type": "markdown",
   "metadata": {},
   "source": [
    "The following script opens an existing file in read mode and creates a new output file in write mode.  \n",
    "A for loop is used to iterate over the lines in the input file.  \n",
    "In the block of code that follows, the replace method is used three times to remove specific strings from each line.  \n",
    "The resulting string is written to the output file.  \n",
    "The code is as follows:  "
   ]
  },
  {
   "cell_type": "code",
   "execution_count": null,
   "metadata": {
    "collapsed": true
   },
   "outputs": [],
   "source": [
    "input = open(\"C:/Data/coordinates.txt\")\n",
    "output = open(\"C:/Data/coordinates_clean.txt\", \"w\")\n",
    "for line in input:\n",
    "    str = line.replace(\"ID:\", \"\")\n",
    "    str = str.replace(\", Latitude:\",\"\")\n",
    "    str = str.replace(\", Longtude:\",\"\")\n",
    "    output.write(str)\n",
    "input.close()\n",
    "output.close()"
   ]
  },
  {
   "cell_type": "markdown",
   "metadata": {},
   "source": [
    "## Points to remember "
   ]
  },
  {
   "cell_type": "markdown",
   "metadata": {},
   "source": [
    "* The ArcPy data access module, arcpy.da, provides support for editing and cursors.Cursors can be used to iterate over rows in a table.  \n",
    "Iteration is typically accomplished using a for loop or a with statement.    \n",
    "    \n",
    "* Search cursors are used to iterate over records.Insert cursors are used to add new records to a table.  \n",
    "Update cursors are used to make changes.    \n",
    "    \n",
    "* SQL query expressions can be used in Python using search cursors Proper syntax is facilitated using the AddFieldDelimiters function.    \n",
    "    \n",
    "* Table and field names can be validated using the ValidateTable Name and ValidateFieldName functions, respectively.  \n",
    "These functions convert all invalid characters into an underscore (_).  \n",
    "The CreateUniqueName function can be used to cre ate a unique name by adding a number to a name.    \n",
    "    \n",
    "* Table and field names can be parsed into separate elements using the ArcPy parsing functions.    \n",
    "    \n",
    "* The contents of text files can be manipulated in Python.  \n",
    "The open function creates a file object and a number of methods can be used to read and write text, including read, readline , readlines , write , and telines One of the more common operations on fi les is to iterate over their contents performing the same manipulation repeat edly, such as replacing strings to make the text files more usable.    \n"
   ]
  },
  {
   "cell_type": "code",
   "execution_count": null,
   "metadata": {
    "collapsed": true
   },
   "outputs": [],
   "source": []
  }
 ],
 "metadata": {
  "kernelspec": {
   "display_name": "Python 2",
   "language": "python",
   "name": "python2"
  },
  "language_info": {
   "codemirror_mode": {
    "name": "ipython",
    "version": 2
   },
   "file_extension": ".py",
   "mimetype": "text/x-python",
   "name": "python",
   "nbconvert_exporter": "python",
   "pygments_lexer": "ipython2",
   "version": "2.7.13"
  }
 },
 "nbformat": 4,
 "nbformat_minor": 1
}
