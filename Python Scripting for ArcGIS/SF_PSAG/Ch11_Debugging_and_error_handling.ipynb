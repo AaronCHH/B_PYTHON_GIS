{
 "cells": [
  {
   "cell_type": "markdown",
   "metadata": {},
   "source": [
    "# Chapter 11: Debugging and error handling "
   ]
  },
  {
   "cell_type": "markdown",
   "metadata": {},
   "source": [
    "## 11.1 Introduction"
   ]
  },
  {
   "cell_type": "markdown",
   "metadata": {},
   "source": [
    "This chapter discusses debugging procedures and provides a review of the most common Python errors.  \n",
    "Error-handling procedures are also discussed, including how to get the most out of try - except statements.\n",
    "\n",
    "\n",
    "No matter how careful you are in writing code, errors are bound to happen.  \n",
    "There are three main types of errors you will encounter in Python: syntax errors , exception, and logic errors.  \n",
    "Syntax errors prevent code from running.  \n",
    "With an exception, a script will stop running midprocess.  \n",
    "A logic error means the script will run but produce undesired results.  \n"
   ]
  },
  {
   "cell_type": "markdown",
   "metadata": {},
   "source": [
    "## 11.2 Recognizing syntax errors"
   ]
  },
  {
   "cell_type": "markdown",
   "metadata": {},
   "source": [
    "Syntax errors pertain to spelling, punctuation, and indentation.  \n",
    "Common syntax errors result from misspelled keywords or variables, missing punc tuation, and inconsistent indentation.  \n",
    "See if you can spot the error in the following code:   "
   ]
  },
  {
   "cell_type": "code",
   "execution_count": 4,
   "metadata": {
    "collapsed": false
   },
   "outputs": [
    {
     "ename": "TypeError",
     "evalue": "'NoneType' object is not iterable",
     "output_type": "error",
     "traceback": [
      "\u001b[0;31m---------------------------------------------------------------------------\u001b[0m",
      "\u001b[0;31mTypeError\u001b[0m                                 Traceback (most recent call last)",
      "\u001b[0;32m<ipython-input-4-66917f2ba5f4>\u001b[0m in \u001b[0;36m<module>\u001b[0;34m()\u001b[0m\n\u001b[1;32m      3\u001b[0m \u001b[0menv\u001b[0m\u001b[1;33m.\u001b[0m\u001b[0mworkspace\u001b[0m \u001b[1;33m=\u001b[0m \u001b[1;34m\"C:/Data/mydata.gdb\"\u001b[0m\u001b[1;33m\u001b[0m\u001b[0m\n\u001b[1;32m      4\u001b[0m \u001b[0mfclist\u001b[0m \u001b[1;33m=\u001b[0m \u001b[0marcpy\u001b[0m\u001b[1;33m.\u001b[0m\u001b[0mListFeatureClasses\u001b[0m\u001b[1;33m(\u001b[0m\u001b[1;33m)\u001b[0m\u001b[1;33m\u001b[0m\u001b[0m\n\u001b[0;32m----> 5\u001b[0;31m \u001b[1;32mfor\u001b[0m \u001b[0mfc\u001b[0m \u001b[1;32min\u001b[0m \u001b[0mfclist\u001b[0m\u001b[1;33m:\u001b[0m\u001b[1;33m\u001b[0m\u001b[0m\n\u001b[0m\u001b[1;32m      6\u001b[0m     \u001b[0mcount\u001b[0m \u001b[1;33m=\u001b[0m \u001b[0marcpy\u001b[0m\u001b[1;33m.\u001b[0m\u001b[0mGetCount_management\u001b[0m\u001b[1;33m(\u001b[0m\u001b[0mfc\u001b[0m\u001b[1;33m)\u001b[0m\u001b[1;33m\u001b[0m\u001b[0m\n\u001b[1;32m      7\u001b[0m \u001b[1;32mprint\u001b[0m \u001b[0mcount\u001b[0m\u001b[1;33m\u001b[0m\u001b[0m\n",
      "\u001b[0;31mTypeError\u001b[0m: 'NoneType' object is not iterable"
     ]
    }
   ],
   "source": [
    "import arcpy\n",
    "from arcpy import env\n",
    "env.workspace = \"C:/Data/mydata.gdb\"\n",
    "fclist = arcpy.ListFeatureClasses()\n",
    "for fc in fclist:\n",
    "    count = arcpy.GetCount_management(fc)\n",
    "print count"
   ]
  },
  {
   "cell_type": "markdown",
   "metadata": {},
   "source": [
    "## 11.3 Recognizing exceptions "
   ]
  },
  {
   "cell_type": "markdown",
   "metadata": {},
   "source": [
    "Syntax errors are frustrating, but they are relatively easy to catch com pared to other errors.  \n",
    "Consider the following example that has the syntax corrected: \n"
   ]
  },
  {
   "cell_type": "code",
   "execution_count": null,
   "metadata": {
    "collapsed": true
   },
   "outputs": [],
   "source": [
    "import arcpy\n",
    "from arcpy import env\n",
    "env.workspace = \"C:/Data/mydata.gdb\"\n",
    "fclist = arcpy.ListFeatureClasses()\n",
    "for fc in fclist:\n",
    "    count = arcpy.GetCount_management(fc)\n",
    "print count"
   ]
  },
  {
   "cell_type": "code",
   "execution_count": null,
   "metadata": {
    "collapsed": true
   },
   "outputs": [],
   "source": []
  },
  {
   "cell_type": "markdown",
   "metadata": {},
   "source": [
    "## 11.4 Using debugging "
   ]
  },
  {
   "cell_type": "markdown",
   "metadata": {},
   "source": [
    "When code results in exception errors or logic errors, you may need to look more closely at the values of variables in your script.  \n",
    "This can be accomplished using a debugging procedure.  \n",
    "Debugging is a methodological process for fmding errors in your script.  \n",
    "There are a number of possible debugging procedures, from very basic to more complex.  \n",
    "Debugging proce dures include the following:   \n"
   ]
  },
  {
   "cell_type": "markdown",
   "metadata": {},
   "source": [
    "* Carefully reviewing the content of error messages  \n",
    "* Adding print statements to your script  \n",
    "* Selectively commenting out code  \n",
    "* Using a Python debugger  "
   ]
  },
  {
   "cell_type": "markdown",
   "metadata": {},
   "source": [
    "Each of these approaches is reviewed in this section in more detail.  \n",
    "Keep in mind that most of the time, debugging does not tell you why a script did not run properly, but it will tell you where - that is, on which line of code it failed.  \n",
    "Typically, you still have to figure out why the error occurred.  \n"
   ]
  },
  {
   "cell_type": "markdown",
   "metadata": {},
   "source": [
    "* **Carefully reviewing the content of error messages**"
   ]
  },
  {
   "cell_type": "markdown",
   "metadata": {},
   "source": [
    "Error messages generated by ArcPy are usually informative.  \n",
    "Consider the following example"
   ]
  },
  {
   "cell_type": "code",
   "execution_count": null,
   "metadata": {
    "collapsed": true
   },
   "outputs": [],
   "source": [
    "import arcpy\n",
    "arcpy.env.workspace = \"C:/Data\"\n",
    "infcs = [\"streams.shp\", \"floodzone.shp\"]\n",
    "outfc = \"union.shp\"\n",
    "arcpy.Union_analysis(infcs, outfc)"
   ]
  },
  {
   "cell_type": "markdown",
   "metadata": {},
   "source": [
    "This script carries out a union between two input feature classes, which are entered as a list.  \n",
    "The result should be a new output feature class in the same workspace.  \n",
    "The error message in PythonWin is as follows:   "
   ]
  },
  {
   "cell_type": "markdown",
   "metadata": {},
   "source": [
    "ExecuteError : Failed to execute. Parameters are not valid.  \n",
    "ERROR 000366 : Inval geometry type  \n",
    "Failed to execute (Union).   "
   ]
  },
  {
   "cell_type": "markdown",
   "metadata": {},
   "source": [
    "This is a specific error message produced by ArcPy, also referred to as an ExecuteError exception.  \n",
    "The message is useful because it includes the statement: Invalid geometry type .  \n",
    "Closer inspection of the input feature classes reveals that one of the inputs (streams.shp) is a polyline feature class, and the Union tool works with polygon features only.  \n",
    "So the error message does not tell you exactly what is wrong (that is, it did not say that streams.shp is the geometry type polyline and that the Union tool does not accept this geometry type) , but it points you in the right direction.  \n"
   ]
  },
  {
   "cell_type": "markdown",
   "metadata": {},
   "source": [
    "> **TIP**  \n",
    "When a specific error code is included in the error message, such as ERROR 000366, you can learn more about it in ArcGIS Oesktop Help.  \n",
    "In Help , go to **Geoprocessing > Tool errors and warnings** , and browse to the specific error by number.  \n"
   ]
  },
  {
   "cell_type": "markdown",
   "metadata": {},
   "source": [
    "Not all error messages are as useful.  \n",
    "Consider the following script:"
   ]
  },
  {
   "cell_type": "code",
   "execution_count": null,
   "metadata": {
    "collapsed": true
   },
   "outputs": [],
   "source": [
    "import arcpy\n",
    "arcpy.env.workspace = \"C:/mydata\"\n",
    "infcs = [\"streams.shp\", \"floodzone.shp\"]\n",
    "outfc = \"union.shp\"\n",
    "arcpy.Union_analysis(infcs, outfc)"
   ]
  },
  {
   "cell_type": "markdown",
   "metadata": {},
   "source": [
    "This is, in fact , the same SCl but it uses a different workspace (C: \\ mydata) , which do es not exist.  \n",
    "The error m essage in PythonWin is as follows:   \n"
   ]
  },
  {
   "cell_type": "markdown",
   "metadata": {},
   "source": [
    "* **Adding print statements to your script**"
   ]
  },
  {
   "cell_type": "markdown",
   "metadata": {},
   "source": [
    "When you have multiple lines of code that contain geoprocessing tools, it may not always be clear on w hich line an error occurred.   \n",
    "In such cases, it may be useful to add print statements after each geoprocessing tool or other important steps to confirm they were run successfully.Consider the following code:  \n"
   ]
  },
  {
   "cell_type": "code",
   "execution_count": null,
   "metadata": {
    "collapsed": true
   },
   "outputs": [],
   "source": [
    "import arcpy\n",
    "from arcpy import env\n",
    "env.overwriteOutput = True\n",
    "env.workspace =\"C:/Data\"\n",
    "arcpy.Buffer_analysis(\"roads.shp\", \"buffer.shp\", \"1000 METERS\")\n",
    "print\"Buffer completed\"\n",
    "arcpy.Erase_analysis(\"buffer.shp\", \"zone.shp\", \"erase.shp\")\n",
    "print\"Erase completed\"\n",
    "arcpy.Clipanalysis(\"erase.shp\", \"wetlands.shp\", \"clip.shp\")\n",
    "print\"Clip completed\""
   ]
  },
  {
   "cell_type": "markdown",
   "metadata": {},
   "source": [
    "Even if the error message is cryptic and not informative, the print state ments will illustrate which steps have been completed.  \n",
    "The error can most likely be traced to the block of code just prior to the print statement that did not execute.    "
   ]
  },
  {
   "cell_type": "markdown",
   "metadata": {},
   "source": [
    "Print statements can be effective, but they are most useful when you already have a good idea of what might be causing the error.  \n",
    "One of the downsides of using print statements is that they need to be cleaned up once the error has been fixed , which can be a substantial amount of work.  "
   ]
  },
  {
   "cell_type": "markdown",
   "metadata": {},
   "source": [
    "* **Selectively commenting out code**"
   ]
  },
  {
   "cell_type": "markdown",
   "metadata": {},
   "source": [
    "You can selectively comment out code to see if removing certain lines elimi nates the error.  \n",
    "If your script has a typical seguential workflow, you would work from the bottom up.  \n",
    "For example , the following code illustrates how the lower lines of code are commented out, using double number signs (##), to isolate the error:   \n"
   ]
  },
  {
   "cell_type": "code",
   "execution_count": null,
   "metadata": {
    "collapsed": true
   },
   "outputs": [],
   "source": [
    "import arc py\n",
    "from arcpy mport env\n",
    "env.overwriteOutput True\n",
    "env.workspace = \"C:/Data\"\n",
    "arcpy.Buffer_analysis(\"roads.shp\", \"buffer.shp\", \"1000 METERS\")\n",
    "##arcpy.Erase_ana1ysis(\"buffer.shp\", \"streams.shp\", \"erase.shp\")\n",
    "##arcpy.Clip_analysis(\"erase.shp\", \"wetlands.shp\", \"clip.shp\")"
   ]
  },
  {
   "cell_type": "markdown",
   "metadata": {},
   "source": [
    "As with adding print statements, this approach of commenting out lines of code does not identify why an error occurs, but only helps you to isolate where it occurs "
   ]
  },
  {
   "cell_type": "markdown",
   "metadata": {},
   "source": [
    "* **Using a Python debugger**"
   ]
  },
  {
   "cell_type": "markdown",
   "metadata": {},
   "source": [
    "Another, more systematic, approach to debugging code is to use a Python debugger.  \n",
    "A debugger is a tool that allows you to step through your code lin e by line, to place breakpoints in your code to examine the conditions at that point, and to follow how certain variables change throughout your code.  \n",
    "Python has a built-in debugger module called pdb .  \n",
    "It is a bit cumber some because it lacks a user interface.  \n",
    "However, Python editors such as IDLE and PythonWin include a solid debugging environment.  \n",
    "In the next example that follows , the PythonWin debugger is used.  \n",
    "  \n"
   ]
  },
  {
   "cell_type": "code",
   "execution_count": null,
   "metadata": {
    "collapsed": true
   },
   "outputs": [],
   "source": []
  },
  {
   "cell_type": "markdown",
   "metadata": {},
   "source": [
    "## 11.5 Using debugging tips and tricks "
   ]
  },
  {
   "cell_type": "markdown",
   "metadata": {},
   "source": [
    "Following are some general tips and tricks that will help you to debug your scripts:  \n",
    "* Remember that ArcGIS for Desktop applications often place a lock on a file, which may prevent a script from overwriting the file.  \n",
    "* When working with very large files, first try your code on a small file w ith similar properties.  \n",
    "* Watch whe re the values of variables are changing by inserting print statements or breakpoints in the code  \n",
    "* Place breakpoints inside blocks of code where repe tition should be occurring.  \n",
    "* If PythonWin does not stop running while you are debugging, you can interrupt the code by right-clicking the PythonWin icon in the notification area, at the far-right corner of the taskbar, and then clicking \"Break into running code\".  \n",
    "This will result in a Keyboanterrupt exception in the Interactive Window without closing PythonWin.  \n"
   ]
  },
  {
   "cell_type": "markdown",
   "metadata": {},
   "source": [
    "## 11.6 Error handling for exceptions "
   ]
  },
  {
   "cell_type": "markdown",
   "metadata": {},
   "source": [
    "Although debugging procedures can contribute to writing correct code, exception errors are still likely to occur in your scripts.  \n",
    "Exceptions refer to errors that are detected as the script is running.  \n",
    "One key reason for this is that many scripts rely on user input, and you can't always control the input other users will provide.  \n",
    "Well-written scripts, therefore, include error handling procedures to handle exceptions.  \n",
    "Error-handling procedures are written to avoid having a script fail and not provide meaningful feedback.  \n",
    "  \n",
    "  "
   ]
  },
  {
   "cell_type": "markdown",
   "metadata": {},
   "source": [
    "To handle exceptions, you could use conditional statements to check for certain scenarios, which is analogous to using an if statement.  \n",
    "You have already encountered some in previous chapters.  \n",
    "For example, the existence of a path can be determined in Python using a built-in Python function such as **os.path.exists.** \n",
    "For catalog paths, you can use the Exists function to determine whether data exists.  \n",
    "For example, the following code determines whether a shapefile exists:   "
   ]
  },
  {
   "cell_type": "code",
   "execution_count": null,
   "metadata": {
    "collapsed": true
   },
   "outputs": [],
   "source": [
    "import arcpy\n",
    "from arcpy import env\n",
    "env.workspace = \"C:/Data\"\n",
    "shape_exist = arcpy.Exists(\"streams.shp\")\n",
    "print shape_exist"
   ]
  },
  {
   "cell_type": "markdown",
   "metadata": {},
   "source": [
    "The Exists function can be used for feature classes, tables , datasets , shape files, workspaces, layers, and files in the current workspace.  \n",
    "The func tion returns a Boolean value indicating w hether the element exists.  \n",
    "  "
   ]
  },
  {
   "cell_type": "markdown",
   "metadata": {},
   "source": [
    "  \n",
    "Besides determining whether data exists, you can determine whether the data is the right type by using the Descrbe function.  \n",
    "For example, if your script requires a feature class, you can use the datsetType property to determine w hether it is a feature class.  \n",
    "   \n",
    "  "
   ]
  },
  {
   "cell_type": "markdown",
   "metadata": {},
   "source": [
    "Writing conditional statements for every possible error is tedious.  \n",
    "And it is impossible to foresee every error.  \n",
    "In the example code earlier in this section, you wo uld have to check the following:   \n",
    "(1) whether the workspace is valid,  \n",
    "(2) whether there is at least one feature class in the workspace, and  \n",
    "(3) whether there is a feature class with at least one feature.  \n",
    "This could easily doub le the code in the script.  \n",
    "  "
   ]
  },
  {
   "cell_type": "markdown",
   "metadata": {},
   "source": [
    "There are two strategies to check for errors and report them in a meaningful manner:\n"
   ]
  },
  {
   "cell_type": "markdown",
   "metadata": {},
   "source": [
    "1. Use Python exception objects inside try-except statements  \n",
    "2. Report messages using the ArcPy messaging functions.  "
   ]
  },
  {
   "cell_type": "markdown",
   "metadata": {},
   "source": [
    "A powerful alternative to conditional statements is Python exception objects When Python encounters an error, it ises, or throws, an exception.  \n",
    "This typically means the script stops running.  \n",
    "If such an exception object is not handled, or cautht, the script terminates with a runtime error, some times also referred to as a traceback.  \n"
   ]
  },
  {
   "cell_type": "markdown",
   "metadata": {},
   "source": [
    "## 11.7 Raising exceptions "
   ]
  },
  {
   "cell_type": "markdown",
   "metadata": {},
   "source": [
    "Exceptions are raised automatically when something goes wrong.  \n",
    "You can also raise exceptions yourself by using the rai se statement.  \n",
    "You can raise a generic exception using the raise excepiton statement, as follows"
   ]
  },
  {
   "cell_type": "code",
   "execution_count": null,
   "metadata": {
    "collapsed": false
   },
   "outputs": [],
   "source": [
    "raise Exception"
   ]
  },
  {
   "cell_type": "code",
   "execution_count": null,
   "metadata": {
    "collapsed": false
   },
   "outputs": [],
   "source": [
    "raise Exception(\"invalid workspace\")"
   ]
  },
  {
   "cell_type": "code",
   "execution_count": null,
   "metadata": {
    "collapsed": false
   },
   "outputs": [],
   "source": [
    "import exceptions\n",
    "dir(exceptions)"
   ]
  },
  {
   "cell_type": "code",
   "execution_count": null,
   "metadata": {
    "collapsed": false
   },
   "outputs": [],
   "source": [
    "raise ValueError"
   ]
  },
  {
   "cell_type": "markdown",
   "metadata": {},
   "source": [
    "## 11.8 Handling exceptions"
   ]
  },
  {
   "cell_type": "markdown",
   "metadata": {},
   "source": [
    "Exceptions in a script can be handled using a try-except statement.  \n",
    "Handling exceptions is often called trapping, or catching, the exceptions.  \n",
    "When an exception is properly handled, the script does not produce a runtime error but instead reports a more meaningful error message to the user.  \n",
    "This means the error is trapped, or caught, before it can cause a runtime error  \n"
   ]
  },
  {
   "cell_type": "markdown",
   "metadata": {},
   "source": [
    "Consider the following script that divides two user-supplied numbers:"
   ]
  },
  {
   "cell_type": "code",
   "execution_count": 2,
   "metadata": {
    "collapsed": false
   },
   "outputs": [
    {
     "name": "stdout",
     "output_type": "stream",
     "text": [
      "First number: 1\n",
      "Second number: 0\n"
     ]
    },
    {
     "ename": "ZeroDivisionError",
     "evalue": "integer division or modulo by zero",
     "output_type": "error",
     "traceback": [
      "\u001b[0;31m---------------------------------------------------------------------------\u001b[0m",
      "\u001b[0;31mZeroDivisionError\u001b[0m                         Traceback (most recent call last)",
      "\u001b[0;32m<ipython-input-2-887580956abe>\u001b[0m in \u001b[0;36m<module>\u001b[0;34m()\u001b[0m\n\u001b[1;32m      1\u001b[0m \u001b[0mx\u001b[0m \u001b[1;33m=\u001b[0m \u001b[0minput\u001b[0m\u001b[1;33m(\u001b[0m\u001b[1;34m\"First number: \"\u001b[0m\u001b[1;33m)\u001b[0m\u001b[1;33m\u001b[0m\u001b[0m\n\u001b[1;32m      2\u001b[0m \u001b[0my\u001b[0m \u001b[1;33m=\u001b[0m \u001b[0minput\u001b[0m\u001b[1;33m(\u001b[0m\u001b[1;34m\"Second number: \"\u001b[0m\u001b[1;33m)\u001b[0m\u001b[1;33m\u001b[0m\u001b[0m\n\u001b[0;32m----> 3\u001b[0;31m \u001b[1;32mprint\u001b[0m \u001b[0mx\u001b[0m\u001b[1;33m/\u001b[0m\u001b[0my\u001b[0m\u001b[1;33m\u001b[0m\u001b[0m\n\u001b[0m",
      "\u001b[0;31mZeroDivisionError\u001b[0m: integer division or modulo by zero"
     ]
    }
   ],
   "source": [
    "x = input(\"First number: \")\n",
    "y = input(\"Second number: \")\n",
    "print x/y"
   ]
  },
  {
   "cell_type": "code",
   "execution_count": 3,
   "metadata": {
    "collapsed": false
   },
   "outputs": [
    {
     "name": "stdout",
     "output_type": "stream",
     "text": [
      "First number: 1\n",
      "Second number: 0\n",
      "The second number cannot be zero.\n"
     ]
    }
   ],
   "source": [
    "try:\n",
    "    x = input(\"First number: \")\n",
    "    y = input(\"Second number: \")\n",
    "    print x/y\n",
    "except ZeroDivisionError:\n",
    "    print \"The second number cannot be zero.\""
   ]
  },
  {
   "cell_type": "code",
   "execution_count": 4,
   "metadata": {
    "collapsed": false
   },
   "outputs": [
    {
     "name": "stdout",
     "output_type": "stream",
     "text": [
      "First number: 1\n",
      "Second number: 0\n"
     ]
    }
   ],
   "source": [
    "try:\n",
    "    x = input(\"First number: \")\n",
    "    y = input(\"Second number: \")\n",
    "    print x/y\n",
    "except:\n",
    "    pass"
   ]
  },
  {
   "cell_type": "markdown",
   "metadata": {},
   "source": [
    "Notice the structure of the try-except statement.  \n",
    "The first line of code consists of only the try statement, followed by a colon (:).  \n",
    "Next is a block of indented code with the procedure yo u want to carry out.  \n",
    "Then comes the except statement, which includes a specific exception, followed by a colon (:).  \n",
    "Next is a block of indented code that will be carried out if the spe cific exception is raised.  \n",
    "The exception ZeroDivisionError is a named exceptíon.  \n",
    "  "
   ]
  },
  {
   "cell_type": "markdown",
   "metadata": {},
   "source": [
    "  \n",
    "In this example, a simple if statement might have been more effec tive to determine whether the value of y is zero (0) .  \n",
    "However, for more elaborate code, you might need many such statements, and a single try-except statement will be sufficient to trap the error   "
   ]
  },
  {
   "cell_type": "markdown",
   "metadata": {},
   "source": [
    "Multiple except statements can be used to catch different named exceptions.  \n",
    "For example:  "
   ]
  },
  {
   "cell_type": "code",
   "execution_count": 11,
   "metadata": {
    "collapsed": false
   },
   "outputs": [
    {
     "name": "stdout",
     "output_type": "stream",
     "text": [
      "First number: 1\n",
      "Second number: 1\n",
      "1\n"
     ]
    }
   ],
   "source": [
    "try:\n",
    "    x = input(\"First number: \")\n",
    "    y = input(\"Second number: \")\n",
    "    print x/y\n",
    "except ZeroDivisionError:\n",
    "    print \"The second number cannot be zero.\"\n",
    "except TypeError:\n",
    "    print \"Only numbers are valid entries.\""
   ]
  },
  {
   "cell_type": "code",
   "execution_count": 15,
   "metadata": {
    "collapsed": false
   },
   "outputs": [
    {
     "name": "stdout",
     "output_type": "stream",
     "text": [
      "First number: 1\n",
      "Second number: 1\n",
      "1\n"
     ]
    }
   ],
   "source": [
    "try:\n",
    "    x = input(\"First number: \")\n",
    "    y = input(\"Second number: \")\n",
    "    print x/y\n",
    "except (ZeroDivisionError, TypeError):\n",
    "    print \"your entries were not valid.\""
   ]
  },
  {
   "cell_type": "code",
   "execution_count": 1,
   "metadata": {
    "collapsed": false
   },
   "outputs": [
    {
     "name": "stdout",
     "output_type": "stream",
     "text": [
      "First number: 1\n",
      "Second number: 0\n",
      "integer division or modulo by zero\n"
     ]
    }
   ],
   "source": [
    "try:\n",
    "    x = input(\"First number: \")\n",
    "    y = input(\"Second number: \")\n",
    "    print x/y\n",
    "except (ZeroDivisionError, TypeError) as e:\n",
    "    print e"
   ]
  },
  {
   "cell_type": "markdown",
   "metadata": {},
   "source": [
    "It can be difficult som etimes to predict all the typ es of exceptions that might occur.  \n",
    "Esp ecially in a script that relies on user input, yo u m ay not be able to foresee all the possible scenarios .  \n",
    "So to catch all the exceptions, no matter w hat type, you can simply omit the exception class from the except statement, as follows :   \n"
   ]
  },
  {
   "cell_type": "code",
   "execution_count": 3,
   "metadata": {
    "collapsed": false
   },
   "outputs": [
    {
     "name": "stdout",
     "output_type": "stream",
     "text": [
      "First number: 1\n",
      "Second number: b\n",
      "name 'b' is not defined\n"
     ]
    }
   ],
   "source": [
    "try:\n",
    "    x = input(\"First number: \")\n",
    "    y = input(\"Second number: \")\n",
    "    print x/y\n",
    "except Exception as e:\n",
    "    print e"
   ]
  },
  {
   "cell_type": "markdown",
   "metadata": {},
   "source": [
    "In this example, the excepti on is unnamed  "
   ]
  },
  {
   "cell_type": "markdown",
   "metadata": {},
   "source": [
    "The try-except statement can also include an else statement, similar\n",
    "to a conditional statement.   \n",
    "For example:   "
   ]
  },
  {
   "cell_type": "code",
   "execution_count": 6,
   "metadata": {
    "collapsed": false
   },
   "outputs": [
    {
     "name": "stdout",
     "output_type": "stream",
     "text": [
      "First number: 1\n",
      "Second number: 2.\n",
      "0.5\n"
     ]
    }
   ],
   "source": [
    "while True:\n",
    "    try:\n",
    "        x = input(\"First number: \")\n",
    "        y = input(\"Second number: \")\n",
    "        print x/y\n",
    "    except:\n",
    "        print \"Please try again.\"\n",
    "    else:\n",
    "        break"
   ]
  },
  {
   "cell_type": "markdown",
   "metadata": {},
   "source": [
    "In this example, the try block of code is repeated in a wh le loop w hen an exception is raised.  \n",
    "The loop is broken by the break statement in the else statement only w hen no excep tion is raised.  \n",
    "  "
   ]
  },
  {
   "cell_type": "markdown",
   "metadata": {},
   "source": [
    "  \n",
    "One more addition to the try- except stateme nt is the finally state m ent.  \n",
    "Whatever the result of previous try , except , or else blocks of code, the fi nally block of code w ill always be executed.  \n",
    "This block typically consists of clean-up tas ks and could include checking in licenses or deleting references to map documents.  "
   ]
  },
  {
   "cell_type": "markdown",
   "metadata": {},
   "source": [
    "## 11.9 Handling geoprocessing exceptions "
   ]
  },
  {
   "cell_type": "markdown",
   "metadata": {},
   "source": [
    "So far, the exceptions raised have been guite general.  \n",
    "A Python script can, of course, fail for many reasons that are not specifically related to a geopro cessing tool as the previous examples illustrate.  \n",
    "However, because errors related to geoproc ess ing tools are somewhat unusual in nature, they war rant more attention.  \n",
    "  "
   ]
  },
  {
   "cell_type": "markdown",
   "metadata": {},
   "source": [
    "  \n",
    "You can think of errors as falling into two categories : geoprocessing errors and everything else.  \n",
    "When a geoprocessing tool w rites an error message, ArcPy generates a system error.  \n",
    "Specifically, when a geoprocessing tool fails to it throws an ExecuteError exception , which can be used to handle specific geoprocessing errors.  \n",
    "It is not one of the built-in Python exception classes, but it is generated by ArcPy and thus the arcpy .ExecuteError class has to be used   "
   ]
  },
  {
   "cell_type": "markdown",
   "metadata": {},
   "source": [
    "Consider this example:"
   ]
  },
  {
   "cell_type": "code",
   "execution_count": null,
   "metadata": {
    "collapsed": true
   },
   "outputs": [],
   "source": [
    "import arcpy\n",
    "arcpy.env.workspace = \"C:/Data\"\n",
    "in features = \"streams.shp\"\n",
    "out features = \"streams.shp\"\n",
    "try:\n",
    "    arcpy.CopyFeatures_management(in_features, out_features)\n",
    "except arcpy.ExecuteError:\n",
    "    print arcpy.GetMessages(2)\n",
    "except:\n",
    "    print \"There has been a nontool error.\""
   ]
  },
  {
   "cell_type": "markdown",
   "metadata": {},
   "source": [
    "The Copy Features tool generates an error because the input and output feature classes cannot be the same, as follows: "
   ]
  },
  {
   "cell_type": "markdown",
   "metadata": {},
   "source": [
    "In the example code, the first except statement traps any geoprocess ing errors, and the second except statement traps any nongeoprocessing errors.  \n",
    "This example illustrates how both named and unnamed excep tions can be used in the same script.  \n",
    "It is important to first check the named exceptions, such as except arcpy.ExecuteError, and then the unnamed exceptions.  \n",
    "If the unnamed exceptions were checked first, the statement would catch all exceptions, including any arcpy.ExecuteError exceptions.  \n",
    "This would mean yo u wo uld never know w hether a named exception (that you put in the script) occurred or not.  \n",
    "  \n",
    "  "
   ]
  },
  {
   "cell_type": "markdown",
   "metadata": {},
   "source": [
    "In larger scripts, it can be difficult to determine the precise location of an error.  \n",
    "You can use the Python traceback module to isolate the location and cause of an error.  "
   ]
  },
  {
   "cell_type": "markdown",
   "metadata": {},
   "source": [
    "The traceback structure is as follows:"
   ]
  },
  {
   "cell_type": "code",
   "execution_count": null,
   "metadata": {
    "collapsed": true
   },
   "outputs": [],
   "source": [
    "try:\n",
    "    import arcpy\n",
    "    import sys\n",
    "    import traceback\n",
    "    <block of code including geoprocessing tools>\n",
    "except:\n",
    "    tb = sys.exc_info()[2]\n",
    "    tbinfo = traceback.format_tb(tb)[0]\n",
    "    pymsg = \"PYTHON ERRORS:\\nTraceback info: \\n\" + tbInfo + \"\\nErrorInfo : \\n\" + str (sys.exc_type ) + \":\" + str (sys.exc_value) + \"\\n\"\n",
    "    arcpy.AddError(pymsg)\n",
    "    msgs = \"ArcPy ERRORS:\\n\" + arcpy.GetMessages(2) + \"\\n\"\n",
    "    arcpy.AddError(msgs)\n",
    "    print pymsg + \"\\n\"\n",
    "    print msgs"
   ]
  },
  {
   "cell_type": "markdown",
   "metadata": {},
   "source": [
    "In this code, two types of errors are trapped: geoprocessing errors and all other types of errors.  \n",
    "The geoprocessing errors are obtained using the ArcPy GetMessages function.  \n",
    "The errors are returned for use in a script too l (AddError ) and also printed to the standard Python output (print).  \n",
    "All other types of errors are ri eved using the traceback module.  \n",
    "Some formatting is applied and the errors are returned for use in a scrip t tool and printed to the standard Python output.  \n"
   ]
  },
  {
   "cell_type": "markdown",
   "metadata": {},
   "source": [
    "Following is one more example of a try- except statement, using the finally statement.  \n",
    "In this example, a custom exception class is created to handle a license error.  \n",
    "A license is checked out in the try code block and the license is checked in as part of the finally code block.  \n",
    "This ensures the license is checked in, no matter the o utcome of running the earlier code blocks, as follows:  \n"
   ]
  },
  {
   "cell_type": "code",
   "execution_count": null,
   "metadata": {
    "collapsed": true
   },
   "outputs": [],
   "source": [
    "class LicenseError(Exception):\n",
    "    pass\n",
    "\n",
    "import arcpy\n",
    "from arcpy mport env\n",
    "try:\n",
    "    if arcpy.CheckExtension(\"3D\") ==\"Available\":\n",
    "        arcpy.CheckOutExtension(\"3D\")\n",
    "    else:\n",
    "        raise LicenseError\n",
    "    env.workspace = \"C:/raster\"\n",
    "    arcpy.Slope_3d(\"elevation\", \"slope\")\n",
    "except LicenseError:\n",
    "    print \"3D license is unavailable\"\n",
    "except:\n",
    "    print arcpy.GetMessages(2)\n",
    "finally:\n",
    "    arcpy.CheckInExtension(\"Spatial\")"
   ]
  },
  {
   "cell_type": "markdown",
   "metadata": {},
   "source": [
    "Using the try-except s tatement for error trapping is very common.  \n",
    "The ExecuteError exception class is useful , but in practice, most scripts rely on the simple but effective try-except statement w ithout using specific exception classes.  \n",
    "  "
   ]
  },
  {
   "cell_type": "markdown",
   "metadata": {},
   "source": [
    "Some times, you will see an entire script wrapped in a try-except statement.  \n",
    "It would look something like the following structure in w hich the try code block could contain hundreds of lines of code:   "
   ]
  },
  {
   "cell_type": "code",
   "execution_count": null,
   "metadata": {
    "collapsed": true
   },
   "outputs": [],
   "source": [
    "try:\n",
    "    import arcpy\n",
    "import traceback\n",
    "## multiple lines of code here\n",
    "except:\n",
    "    tb = sys.exc_info()[2]\n",
    "    tbinf = traceback.format_tb(tb)[0]\n",
    "    pymsg = \"PYTHON ERRORS : \\ nTraceback info : \\n \" + tbinfo + \" \\ nErrorInfo : \\n \" + str(sys.exc_info()[1])\n",
    "    msgs = \"Arcpy ERRORS : \\n \" + arcpy.GetMessages(2) + \"\\n\"\n",
    "    arcpy.AddError(pymsg)\n",
    "    arcpy.AddError(msgs)"
   ]
  },
  {
   "cell_type": "markdown",
   "metadata": {},
   "source": [
    "## 11.10 Using other error-handling methods "
   ]
  },
  {
   "cell_type": "markdown",
   "metadata": {},
   "source": [
    "In addition to a try-except statement for trapping errors in scripts, sev era1 other error-hand1ing methods can be used.  \n",
    "Some of them are covered in ear1ier chapters but warrant further mention here:   \n",
    "* Validating table and field names using the ValidateTableNa me and ValidateFieldName functions, respectively (chapter 7).  \n",
    "\n",
    "\n",
    "* Checking for licenses for products using the CheckProduct function and for extensions using the CheckExtension function (chapter 5)  \n",
    "\n",
    "\n",
    "* Checking for schema locks-many geoprocessing tools will not run properly if schema locks exist on the input.  \n"
   ]
  },
  {
   "cell_type": "markdown",
   "metadata": {},
   "source": [
    "## 11.11 Watching for common errors "
   ]
  },
  {
   "cell_type": "markdown",
   "metadata": {},
   "source": [
    "Following are a number of common errors to look out for when you are scanning your scripts and examining your data. "
   ]
  },
  {
   "cell_type": "markdown",
   "metadata": {},
   "source": [
    "**Common Python code errors**\n",
    "* Simple spelling mistakes  \n",
    "* Forgetting to import modules, such as arcpy, os, or sys  \n",
    "* Case sensitivity-for example, mylist versus myList  \n",
    "* Paths-for example, using a single backslash (\\), such as C:\\Data\\streams.shp  \n",
    "* Forgetting colons (:) after statements (for, while, else, try, except)  \n",
    "* Incorrect or inconsistent indentation  \n",
    "* Conditional(==) versus assignment(=) statements  \n"
   ]
  },
  {
   "cell_type": "markdown",
   "metadata": {},
   "source": [
    "**Common geoprocessing-related errors**  \n",
    "* Forgetting to determine whether data exists.   \n",
    "A small typo in the name of a workspace or feature class will cause a tool to fail.   \n",
    "Always double-check that the inputs to a script exist.  \n",
    "\n",
    "\n",
    "* Forgetting to check for overw riting output.   \n",
    "The default setting is not to overwrite outputs, so unless this option is specifically cleared, a tool that attempts to overwrite output will not run.   \n",
    "A very com mon scenario is to run a script and it works, but when you run it a second time, it fails-fixing this could be as simple as setting the overwriteOutput property of the env class to True.  \n",
    "\n",
    "\n",
    "* Data is being used in another application.   \n",
    "You may be trying to run a script, but it will not run because you are also using the data in ArcMap or ArcCatalog-this is very common because often you are exploring the data that is going to be used in the script.   \n",
    "Closing these applications and trying the script again may resolve a script error.  \n",
    "\n",
    "\n",
    "* Not checking the properties of parameters and objects returned by tools.   \n",
    "For example, it may sound logical that the Get Count tool produces a count-that is, a number.   \n",
    "It actually returns a result object that is printed to the Results window, so you have to use the getOutput method to obtain this count.   \n",
    "Similarly, distinctions between feature classes and feature layers may seem somewhat trivial, but they may be just the difference between proper tool execution and failure.   \n",
    "Carefully examine tool syntax and determine the exact nature of the inputs and outputs  \n"
   ]
  },
  {
   "cell_type": "markdown",
   "metadata": {},
   "source": [
    "It is worth noting that many geoprocessing-related errors can be prevented when using script tools.  \n",
    "Building a script tool includes validation for preventing invalid parameters.  \n",
    "This is covered in chapter 13.  \n",
    "\n",
    "\n",
    "Some of these suggestions may appear rather rudimentary, but the solutions can often be simple if you only knew where to look for them.  \n",
    "The syntax of a good Python geoprocessing script is often relatively simple, which is part of the beauty of using Python.  \n"
   ]
  },
  {
   "cell_type": "markdown",
   "metadata": {},
   "source": [
    "> **TIP**  \n",
    "Remember that geoprocessing scripts don't have to follow Python coding logic alone.  \n",
    "They must also obey the rules of the ArcGIS geoprocessing framework.   \n"
   ]
  },
  {
   "cell_type": "markdown",
   "metadata": {
    "collapsed": true
   },
   "source": [
    "## Points to remember "
   ]
  },
  {
   "cell_type": "markdown",
   "metadata": {},
   "source": [
    "* Errors in geoprocessing scripts are bound to happen.   \n",
    "Although syntax errors are relatively easy to catch, yo ur script may contain other typ es of errors that prevent proper script execution .   \n",
    "Scripts can be made more robust by incorporating error-handling procedures.  \n",
    "\n",
    "\n",
    "* Various debugging methods exist.   \n",
    "Relatively simple approaches include carefully examining error messages, adding print statements to the code to review intermediate results, and selectively commenting out code.   \n",
    "If these methods are not sufficient to identify and fix errors, a Python debugger can be used such as the PythonWin Debugger.   \n",
    "A debugger allows you to carefully step through the code line by line to review error messages and examine the state of variables.   \n",
    "Breakpoints can be added to step through larger blocks of code. \n",
    "\n",
    "\n",
    "* Any debugging procedure will typically identify where the error occurs but not exactly why it occurs.   \n",
    "It is therefore good practice to always be aware of common errors, including Python coding errors and ArcGIS geoprocessing errors.  \n",
    "\n",
    "\n",
    "* Basic error-handling procedures include checking whether data exists, determining w hether data inputs are the right type, check ing for licenses and extensions , and validating table and fieldnames.  \n",
    "Typically an if statement is used for this type of error handling.  \n",
    "\n",
    "\n",
    "* It is nearly impossible to anticipate every possible type of errors, and code that checks for such errors wo uld become too cumbersome to write.   \n",
    "Whenever something goes wrong in a sc ri an exception is automatically raised.   \n",
    "These excep tions can be trapped using a try-except statement.   \n",
    "This type of statement makes it possible to identify the type of error or else specific errors.   \n",
    "Customized error-handling procedure can be impl me nt based on the nature of the error.   \n",
    "Additional state ments, including else and finally, can be added to the try-except statement to ensure cient error trapping.  \n",
    "\n",
    "\n",
    "* Error messages can be very useful for identifying the nature of the error and how to fix the script.   \n",
    "These include both general Python messages and error m essages resulting from the ArcPy ExecuteError exception class.  \n"
   ]
  },
  {
   "cell_type": "code",
   "execution_count": null,
   "metadata": {
    "collapsed": true
   },
   "outputs": [],
   "source": []
  }
 ],
 "metadata": {
  "kernelspec": {
   "display_name": "Python 2",
   "language": "python",
   "name": "python2"
  },
  "language_info": {
   "codemirror_mode": {
    "name": "ipython",
    "version": 2
   },
   "file_extension": ".py",
   "mimetype": "text/x-python",
   "name": "python",
   "nbconvert_exporter": "python",
   "pygments_lexer": "ipython2",
   "version": "2.7.2"
  }
 },
 "nbformat": 4,
 "nbformat_minor": 1
}
