{
 "cells": [
  {
   "cell_type": "markdown",
   "metadata": {},
   "source": [
    "# Chapter 1 Introducing Python"
   ]
  },
  {
   "cell_type": "markdown",
   "metadata": {},
   "source": [
    "## 1.1 Introduction"
   ]
  },
  {
   "cell_type": "markdown",
   "metadata": {},
   "source": [
    "## 1.2 Exploring the features of Python"
   ]
  },
  {
   "cell_type": "markdown",
   "metadata": {},
   "source": [
    "## 1.3 Comparing scripting vs. programming"
   ]
  },
  {
   "cell_type": "markdown",
   "metadata": {},
   "source": [
    "## 1.4 Using scripting in ArcGIS"
   ]
  },
  {
   "cell_type": "markdown",
   "metadata": {},
   "source": [
    "## 1.5 Python history and versions"
   ]
  },
  {
   "cell_type": "markdown",
   "metadata": {},
   "source": [
    "## 1.6 About this book"
   ]
  },
  {
   "cell_type": "markdown",
   "metadata": {},
   "source": [
    "## 1.7 Exploring how Python is used"
   ]
  },
  {
   "cell_type": "markdown",
   "metadata": {},
   "source": [
    "## 1.8 Choosing a Python script editor"
   ]
  },
  {
   "cell_type": "markdown",
   "metadata": {
    "collapsed": true
   },
   "source": [
    "## Points to remember"
   ]
  },
  {
   "cell_type": "markdown",
   "metadata": {
    "collapsed": true
   },
   "source": [
    "* ArcGIS for Desktop supports the use of scripting languages to auto mate workflows. Python is the preferred scripting language for working with ArcGIS.  \n",
    "\n",
    "\n",
    "* Python is not created by Esri. It is an open source programming language and therefore can be distributed by third parties, including Esri.  \n",
    "\n",
    "\n",
    "* Python is relatively easy to use. There is a large user community and there are many resources for learning Python. There is also a growing set of libraries for use in Python that provide additional functionality.  \n",
    "\n",
    "\n",
    "* One of the strengths of Python is that it is both a scripting language and a programming language. So you can use it for relatively simple scripts as well as for more advanced programming tasks. Using Python to develop scripts for ArcGIS is the focus of this book.  \n",
    "\n",
    "\n",
    "* Python is an interpreted language, which means it does not need to be compiled. Python scripts are run directly from the source code, making Python easier to work with and more portable than code in compiled languages such as C++ and .NET languages.  \n",
    "\n",
    "\n",
    "* Python scripts can be integrated into ArcGIS as script tools, which work just like the familiar geoprocessing tools.  \n",
    "\n",
    "\n",
    "* Working with Python requires the use of an editor, such as a general purpose code editor or a specific Python editor. The default Python editor that installs with Python is called IDLE . This book employs PythonWin as the Python editor because it is relatively easy to use on the Windows platform. ArcGIS for Desktop applications also contain the Python window, which works like an interactive interpreter for Python.  \n",
    "\n",
    "\n",
    "* Python is installed as part of a typical ArcGIS for Desktop installation. This includes the IDLE editor by default, but not PythonWin.  "
   ]
  }
 ],
 "metadata": {
  "kernelspec": {
   "display_name": "Python 2",
   "language": "python",
   "name": "python2"
  },
  "language_info": {
   "codemirror_mode": {
    "name": "ipython",
    "version": 2
   },
   "file_extension": ".py",
   "mimetype": "text/x-python",
   "name": "python",
   "nbconvert_exporter": "python",
   "pygments_lexer": "ipython2",
   "version": "2.7.2"
  }
 },
 "nbformat": 4,
 "nbformat_minor": 1
}
