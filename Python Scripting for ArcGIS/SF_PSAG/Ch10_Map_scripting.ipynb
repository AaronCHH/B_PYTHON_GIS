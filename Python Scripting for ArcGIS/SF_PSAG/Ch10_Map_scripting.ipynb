{
 "cells": [
  {
   "cell_type": "markdown",
   "metadata": {},
   "source": [
    "# Chapter 10: Map scripting "
   ]
  },
  {
   "cell_type": "markdown",
   "metadata": {},
   "source": [
    "## 10.1 Introduction"
   ]
  },
  {
   "cell_type": "markdown",
   "metadata": {},
   "source": [
    "This chapter describes the ArcPy mapping module, also referred to as arcpy.mapping.  \n",
    "The ArcPy mapping module helps automate mapping tasks, including managing map documents, data frames, layer files, and the data within these files.  \n",
    "There is also support for the automation of map export and printing, as well as the creation of PDF map books.  \n"
   ]
  },
  {
   "cell_type": "markdown",
   "metadata": {},
   "source": [
    "## 10.2 Working with the ArcPy mapping module "
   ]
  },
  {
   "cell_type": "markdown",
   "metadata": {},
   "source": [
    "The ArcPy mapping module can be used to automate ArcMap workflows to speed up repetitive tasks. Some typical examples of uses for the ArcPy mapping module are as follows:  \n",
    "* Finding a layer with a particular data source and replacing it with another data source  \n",
    "* Modifying the display properties of a speci&c layer in multiple ArcMap documents  \n",
    "* Generating reports that describe the properties of ArcMap documents, including data sources, layers with broken data links, information on the spatial reference of data frames, and more  "
   ]
  },
  {
   "cell_type": "markdown",
   "metadata": {},
   "source": [
    "## 10.3 Opening map documents "
   ]
  },
  {
   "cell_type": "markdown",
   "metadata": {},
   "source": [
    "There are two ways to start working with a map document using the ArcPy mapping module:   \n",
    "(1) use the map document from the current ArcMap session or  \n",
    "(2) reference an existing .mxd &le stored on disk.  \n",
    "The MapDocument function is used to accomplish both.  \n",
    "The syntax of the MapDocument function is  "
   ]
  },
  {
   "cell_type": "code",
   "execution_count": null,
   "metadata": {
    "collapsed": false,
    "scrolled": true
   },
   "outputs": [],
   "source": [
    "MapDocument(mxd_path)"
   ]
  },
  {
   "cell_type": "markdown",
   "metadata": {},
   "source": [
    "The path is a string representing an .mxd file on disk.  \n",
    "The following code\n",
    "opens a map document:"
   ]
  },
  {
   "cell_type": "code",
   "execution_count": null,
   "metadata": {
    "collapsed": true
   },
   "outputs": [],
   "source": [
    "mapdoc = arcpy.mapping.MapDocument(C:/Mapping/Study_Areas.mxd\")"
   ]
  },
  {
   "cell_type": "markdown",
   "metadata": {
    "collapsed": true
   },
   "source": [
    "To use the current map document in ArcMap, the keyword CURRENT (in all uppercase letters) is used:"
   ]
  },
  {
   "cell_type": "code",
   "execution_count": null,
   "metadata": {
    "collapsed": true
   },
   "outputs": [],
   "source": [
    "mapdoc = arcpy.mapping.MapDocument(\"CURRENT\")"
   ]
  },
  {
   "cell_type": "markdown",
   "metadata": {},
   "source": [
    "When a MapDocument object is referenced in a script, the .mxd file is locked.  \n",
    "This prevents other applications from making changes to the file.  \n",
    "It is therefore good practice to remove the reference to a map document when it is no longer needed in a script by using the Python del statement.  \n",
    "A mapping script therefore often has a structure that looks something like the following:  "
   ]
  },
  {
   "cell_type": "code",
   "execution_count": null,
   "metadata": {
    "collapsed": true
   },
   "outputs": [],
   "source": [
    "import arcpy\n",
    "mapdoc = arcpy.mapping.MapDocument(\"C:/Mapping/Study_Areas.mxd\")\n",
    "# <code that modifies map document properties>\n",
    "mapdoc.save()\n",
    "del mapdoc"
   ]
  },
  {
   "cell_type": "code",
   "execution_count": null,
   "metadata": {
    "collapsed": true
   },
   "outputs": [],
   "source": [
    "import arcpy\n",
    "mapdoc = arcpy.mapping.MapDocument(\"./Ch10/ch10.mxd\")\n",
    "# <code that modifies map document properties>\n",
    "mapdoc.save()\n",
    "del mapdoc"
   ]
  },
  {
   "cell_type": "markdown",
   "metadata": {},
   "source": [
    "## 10.4 Accessing map document properties and methods "
   ]
  },
  {
   "cell_type": "markdown",
   "metadata": {},
   "source": [
    "In the following example, the CURRENT keyword is used to obtain the map document currently open in ArcMap, and the filePath property is used to print the system path for the .mxd file:"
   ]
  },
  {
   "cell_type": "code",
   "execution_count": null,
   "metadata": {
    "collapsed": true
   },
   "outputs": [],
   "source": [
    "import arcpy\n",
    "mapdoc = arcpy.mapping.MapDocument(\"CURRENT\")\n",
    "path = mapdoc.filePath\n",
    "print path\n",
    "del mapdoc"
   ]
  },
  {
   "cell_type": "code",
   "execution_count": null,
   "metadata": {
    "collapsed": false
   },
   "outputs": [],
   "source": [
    "import arcpy\n",
    "mapdoc = arcpy.mapping.MapDocument(\"./Ch10/ch10.mxd\")\n",
    "path = mapdoc.filePath\n",
    "print path\n",
    "del mapdoc"
   ]
  },
  {
   "cell_type": "markdown",
   "metadata": {},
   "source": [
    "The following example updates the current map document's title and saves the .mxd file:   "
   ]
  },
  {
   "cell_type": "code",
   "execution_count": null,
   "metadata": {
    "collapsed": true
   },
   "outputs": [],
   "source": [
    "import arcpy  \n",
    "mapdoc = arcpy.mapping.MapDocument(\"CURRENT\")  \n",
    "mapdoc.title = \"Final map of study areas\"  \n",
    "mapdoc.save()  \n",
    "del mapdoc  "
   ]
  },
  {
   "cell_type": "markdown",
   "metadata": {},
   "source": [
    "As you review these basic examples, remember that they can be used to automate more complex tasks, such as making changes to multiple map documents rather than just the current one.\n"
   ]
  },
  {
   "cell_type": "markdown",
   "metadata": {},
   "source": [
    "## 10.5 Working with data frames "
   ]
  },
  {
   "cell_type": "markdown",
   "metadata": {},
   "source": [
    "Map documents contain one or more data frames and each data frame typically contains one or more layers.  \n",
    "Data frames and layers are perfect objects for use in lists, which can help automate tasks.  \n",
    "The ListDataFrames function returns a list of DataFrame objects in a map document.  \n",
    "The syntax is as follows  "
   ]
  },
  {
   "cell_type": "code",
   "execution_count": null,
   "metadata": {
    "collapsed": true
   },
   "outputs": [],
   "source": [
    "ListDataFrames(map_document, {wild_card})  "
   ]
  },
  {
   "cell_type": "markdown",
   "metadata": {},
   "source": [
    "Once you have a list of data frames in a map document, you can look through them to examine or modify their properties. \n",
    "Running the following code prints a list of all the data frames in a map document:"
   ]
  },
  {
   "cell_type": "code",
   "execution_count": null,
   "metadata": {
    "collapsed": true
   },
   "outputs": [],
   "source": [
    "import arcpy\n",
    "mapdoc = arcpy.mapping.MapDocument(\"CURRENT\")\n",
    "listdf = arcpy.mapping.ListDataFrames(mapdoc)\n",
    "for df in listdf:\n",
    "    print df.name\n",
    "del mapdoc"
   ]
  },
  {
   "cell_type": "markdown",
   "metadata": {},
   "source": [
    "If you want to work with just one of the data frames, you can use its index number, as follows:"
   ]
  },
  {
   "cell_type": "code",
   "execution_count": null,
   "metadata": {
    "collapsed": true
   },
   "outputs": [],
   "source": [
    "print listdf[0].name"
   ]
  },
  {
   "cell_type": "markdown",
   "metadata": {},
   "source": [
    "The order of a list of data frames is the same as the order used in the Arcmap table of contents.  \n",
    "  "
   ]
  },
  {
   "cell_type": "markdown",
   "metadata": {},
   "source": [
    "DataFrame object properties, such as map extent, scale, rotation, and spatial reference, use map units.   \n",
    "Other properties use page units to position and size the data frame on the layout page.   \n",
    "Data frames are also used to access other objects - for example, the ListLayers function is used to access the layers in each dataframe.   \n",
    "**You can then loop through the layers to get their properties.**   \n",
    "It is therefore important to **uniquely** name the data frames within a single map document.  "
   ]
  },
  {
   "cell_type": "markdown",
   "metadata": {},
   "source": [
    "There are quite a number of data frame properties, which are described in the ArcPy documentation in ArcGIS Desktop Help.  \n",
    "The properties of the DataFrame object are a subset of all the properties on the Data Frame Properties dialog box in Arcmap (right-click a data frame in the Tab1e Of Contents window and click Properties)."
   ]
  },
  {
   "cell_type": "markdown",
   "metadata": {},
   "source": [
    "Scripting does not provide access to all the properties on the Data Frame Properties dialog box, and conversely, some DataFrame object properties are not on the Data Frame Properties dialog box.  \n",
    "For example, the scale of a data frame can be set using scripting, but in ArcMap, it is accomplished by using a tool on the Standard toolbar."
   ]
  },
  {
   "cell_type": "markdown",
   "metadata": {},
   "source": [
    "In most cases when you work with a map document, you are not interested in changing all the properties of a data frame , but only a few selected ones.  \n",
    "For example, in the following code, the spatial reference of all data frames in a map document is set to the same spatial reference as that of a specific shapefile, and the scale of all data frames is set to 1:24,000:\n"
   ]
  },
  {
   "cell_type": "code",
   "execution_count": null,
   "metadata": {
    "collapsed": true
   },
   "outputs": [],
   "source": [
    "import arcpy\n",
    "dataset = \"C:/map/boundary.shp\"\n",
    "spatialRef = arcpy.Describe(dataset).spatalReference\n",
    "mapdoc = arcpy.mapping.MapDocument(\"C:/map/final.mxd\")\n",
    "for df in arcpy.mapping.ListDataFrames(mapdoc):\n",
    "    df.spatalReference = spatialRef\n",
    "    df.scale = 24000\n",
    "mapdoc.save()    \n",
    "del mapdoc"
   ]
  },
  {
   "cell_type": "markdown",
   "metadata": {},
   "source": [
    "In addition to the properties already discussed, the DataFrame object also has two methods: panToExtent and zoomToSelectedFeatures.  \n",
    "The panToExtent method maintains the data frame scale but pans and cen ters the data frame extent based on the properties of an Extent object, which has to be provided as a parameter.  \n",
    "An Extent object is a rectangle specified by providing the coordinates of the lower-left corner and the upper-right corner in map units.  \n",
    "In most cases, this property is derived from an existing object, such as a feature or a layer.  \n",
    "For example, the getExtent method can be used to obtain the extent of a layer.  \n",
    "The follow ing code pans the extent of a data frame called df based on the extent of the features in a layer object called lyr:  \n"
   ]
  },
  {
   "cell_type": "code",
   "execution_count": null,
   "metadata": {
    "collapsed": true
   },
   "outputs": [],
   "source": [
    "df.panToExtent(lyr.getExtent())"
   ]
  },
  {
   "cell_type": "markdown",
   "metadata": {},
   "source": [
    "The zoomToSelectedFeatures method is similar to the ArcMap opera tion Selection > Zoom to Selected Features.   \n",
    "Running the following code zooms to the extent of all selected features in a data frame called df:  "
   ]
  },
  {
   "cell_type": "code",
   "execution_count": null,
   "metadata": {
    "collapsed": true
   },
   "outputs": [],
   "source": [
    "df.zoomToSelectedFeatures()"
   ]
  },
  {
   "cell_type": "markdown",
   "metadata": {
    "collapsed": true
   },
   "source": [
    "If no features are selected, the code will zoom to the full extent of alllayers."
   ]
  },
  {
   "cell_type": "markdown",
   "metadata": {},
   "source": [
    "## 10.6 Working with layers"
   ]
  },
  {
   "cell_type": "markdown",
   "metadata": {},
   "source": [
    "A data frame typically contains one or more layers and the Layer object is essential to managing these layers.   \n",
    "The Layer object provides access to many different layer properties and methods.   \n",
    "There are two ways to reference Layer objects.   \n",
    "The first approach is to use the Layer function to reference a layer (.lyr) file on disk.   \n",
    "It is similar to how map document files (.mxd) are referenced.   \n",
    "The syntax of the Layer function is  "
   ]
  },
  {
   "cell_type": "code",
   "execution_count": null,
   "metadata": {
    "collapsed": true
   },
   "outputs": [],
   "source": [
    "Layer(lyr_file_ path)"
   ]
  },
  {
   "cell_type": "markdown",
   "metadata": {},
   "source": [
    "The parameter of the Layer function is the full path and file name of an\n",
    "existing .lyr file. For example:      "
   ]
  },
  {
   "cell_type": "code",
   "execution_count": null,
   "metadata": {
    "collapsed": true
   },
   "outputs": [],
   "source": [
    "Lyr = arcpy.mapping.Laye(\"C:/Mapping/study.lyr\")"
   ]
  },
  {
   "cell_type": "markdown",
   "metadata": {},
   "source": [
    "The second approach is to use the ListLayers function to reference the layers in an .mxd file, or just the layers in a particular data frame in a map document, or the layers within a .lyr file.  \n",
    "The syntax of the List La yers function is"
   ]
  },
  {
   "cell_type": "code",
   "execution_count": null,
   "metadata": {
    "collapsed": true
   },
   "outputs": [],
   "source": [
    "Layer(ly_rfile_path)"
   ]
  },
  {
   "cell_type": "markdown",
   "metadata": {},
   "source": [
    "The parameter of the Layer function is the full path and file name of an\n",
    "existing .lyr file. For example:"
   ]
  },
  {
   "cell_type": "code",
   "execution_count": null,
   "metadata": {
    "collapsed": true
   },
   "outputs": [],
   "source": [
    "Lyr = arcpy.maping.Layer(\"C:/Mappng/study.lyr\")"
   ]
  },
  {
   "cell_type": "markdown",
   "metadata": {},
   "source": [
    "The second approach is to use the ListLayers function to reference the layers in an .mxd file, or just the layers in a particular data frame in a map document, or the layers within a .lyr file.   \n",
    "The syntax of the List La yers function is  "
   ]
  },
  {
   "cell_type": "code",
   "execution_count": null,
   "metadata": {
    "collapsed": true
   },
   "outputs": [],
   "source": [
    "ListLayers(map_document_or_layer, {wild_card}, {data_frame})"
   ]
  },
  {
   "cell_type": "markdown",
   "metadata": {},
   "source": [
    "The only required element is a map document or layer file.  \n",
    "An optional wild card can be used to limit the result.  \n",
    "An optionaldata frame variable can be used that references a specific DataFrame object.  \n",
    "For example, the follow ing code returns a list of all the layers in an ArcMap document, and then prints the names of all the layers:  "
   ]
  },
  {
   "cell_type": "code",
   "execution_count": null,
   "metadata": {
    "collapsed": true
   },
   "outputs": [],
   "source": [
    "import arcpy\n",
    "myDoc = arcpy.mapping.MapDocument(\"CURRENT\")\n",
    "lyrlist = arcpy.mapping.ListLayers(mapdoc)\n",
    "for lyr in lyrlist:\n",
    "    print lyr.name"
   ]
  },
  {
   "cell_type": "markdown",
   "metadata": {},
   "source": [
    "To access just the layers in a specific data frame, the Data Frame object has to be referenced as a parameter.   \n",
    "In the following example, the st aye function returns only the layers in the data frame that have index number 0.   \n",
    "The wild_card parameter is skipped using an empty string (\"\")  "
   ]
  },
  {
   "cell_type": "code",
   "execution_count": null,
   "metadata": {
    "collapsed": true
   },
   "outputs": [],
   "source": [
    "import arcpy\n",
    "myDoc = arcpy.mapping.MapDocument(\"CURRENT\")\n",
    "dflist = arcpy.mapping.ListDataFrames(mapdoc)\n",
    "lyrlist = arcpy.mapping.ListLayers(mapdoc, \"\", dflist[0])\n",
    "for lyr in lyrlist:\n",
    "    print lyr.name"
   ]
  },
  {
   "cell_type": "markdown",
   "metadata": {},
   "source": [
    "The following code illustrates how to reference the layers in a .layer file on disk and print the name of layer objects:"
   ]
  },
  {
   "cell_type": "code",
   "execution_count": null,
   "metadata": {
    "collapsed": true
   },
   "outputs": [],
   "source": [
    "import arcpy\n",
    "lyrfile = arcpy.mapping.Layer(\"C:/Data/mylayers.lyr\")\n",
    "lyrlist = arcpy.mapping.ListLayers(lyrfile)\n",
    "for lyr in lyr list:\n",
    "    print lyr.name"
   ]
  },
  {
   "cell_type": "markdown",
   "metadata": {},
   "source": [
    "A few examples will serve to illustrate the use of layer properties.  \n",
    "For example, the following code turns on all the labels for the layers in the current map document using the showLabels property:  "
   ]
  },
  {
   "cell_type": "code",
   "execution_count": null,
   "metadata": {
    "collapsed": true
   },
   "outputs": [],
   "source": [
    "import arcpy\n",
    "myDoc = arcpy.mapping.MapDocument(\"CURRENT\")\n",
    "dflist = arcpy.mapping.ListDataFrames(mapdoc)\n",
    "lyrlist = arcpy.mapping.ListLayers(mapdoc, \"\", dflist[0])\n",
    "for lyr in lyrlist:\n",
    "    lyr.showLabels = True\n",
    "del lyrlist"
   ]
  },
  {
   "cell_type": "markdown",
   "metadata": {},
   "source": [
    "Instead of changing the properties of all the layers in a map document or a data frame , the layer properties can also be used to find a layer with a particular name.  \n",
    "For example, the following code searches for a layer called \"hospitals\":"
   ]
  },
  {
   "cell_type": "code",
   "execution_count": null,
   "metadata": {
    "collapsed": true
   },
   "outputs": [],
   "source": [
    "import arcpy\n",
    "myDoc = arcpy.mapping.MapDocument(\"CURRENT\")\n",
    "lyrlist = arcpy.mapping.ListLayers(mapdoc)\n",
    "for lyr in lyrlist :\n",
    "    if lyr.name == \"hospitals\":\n",
    "        lyr.showLabels = True\n",
    "del lyrlist"
   ]
  },
  {
   "cell_type": "markdown",
   "metadata": {},
   "source": [
    "Layer names can be a bit confusing.  \n",
    "The name of a layer is w hat is shown in the ArcMap table of contents.  \n",
    "This may or may not be the same as the name of the source dataset for the layer.  \n",
    "In any case, the name of a lay does not have an extension.  \n",
    "So the name of a feature class could be hospitals.shp, but as a layer in ArcMap, the name of the layer is hospitals.  \n"
   ]
  },
  {
   "cell_type": "markdown",
   "metadata": {},
   "source": [
    "Also remember that strings are case sensitive, so Hospitals is different from hospitals.  \n",
    "To make your statements insensitive to case, you can use basic string operators.   \n",
    "For example:"
   ]
  },
  {
   "cell_type": "code",
   "execution_count": null,
   "metadata": {
    "collapsed": true
   },
   "outputs": [],
   "source": [
    "if lyr.name.lower() == \"hospitals\":"
   ]
  },
  {
   "cell_type": "markdown",
   "metadata": {},
   "source": [
    "Because not all types of layers support the same properties, the supports method can be used to determine whether a layer supports a particular property.   \n",
    "This makes it possible to test whether a layer supports a property before trying to get or set its value.   \n",
    "This reduces the need for error checking.   \n",
    "In the earlier example where the labels were shown for alllayers in a data frame, it would make sense to f1 rst use the supp orts method to test whether this property is supported for each layer.   \n",
    "The syntax of the supports method is  "
   ]
  },
  {
   "cell_type": "code",
   "execution_count": null,
   "metadata": {
    "collapsed": true
   },
   "outputs": [],
   "source": [
    "supports(layer property)"
   ]
  },
  {
   "cell_type": "markdown",
   "metadata": {},
   "source": [
    "The parameter, in this case, would consist of one of the Layer object properties, such as br ghtness contrast, datasetName, or others.  \n",
    "The supports method returns a Boolean value, so the example code to test whether labeling is possible would look as follows:  "
   ]
  },
  {
   "cell_type": "code",
   "execution_count": null,
   "metadata": {
    "collapsed": true
   },
   "outputs": [],
   "source": [
    "import arcpy\n",
    "myDoc = arcpy.mapping.MapDocument(\"CURRENT\")\n",
    "dflist = arcpy.mapping.ListDataFrames(mapdoc)\n",
    "lyrlist = arcpy.mapping.ListLayers(mapdoc, \"\", dflist[0])\n",
    "for lyr in lyrlist:\n",
    "    if lyr.supports(\"SHOWLABELS\") == True:\n",
    "        lyr.showLabels = True\n",
    "del lyrlist"
   ]
  },
  {
   "cell_type": "markdown",
   "metadata": {},
   "source": [
    "If you are unsure whether a layer supports a particular property, use the supports method to test it.   \n",
    "Otherwise, you will need to use an error trapping method, such as a try - except statement, which is covered in chapter 11.  \n",
    "  \n",
    "In addition to properties and methods of layer objects, there are several functions in the ArcPy mapping module that are specifically designed to manage layers within a data frame.   \n",
    "These include the following:  "
   ]
  },
  {
   "cell_type": "markdown",
   "metadata": {},
   "source": [
    "* **AddLayer** - makes it possible to add a layer to a data frame within a map document using general placement options.  \n",
    "* **AddLayerToGroup** - makes it possible to add a layer to a group layer within a map document using general placement options.  \n",
    "* **InsertLayer** - makes it possible to add a layer to a data frame or to a group layer within a map document.   \n",
    "It provides a more precise way of positioning the layer by using a reference layer.  \n",
    "* **MoveLayer** - makes it possible to move a layer to a specific location within a data frame or group layer within a map document.  \n",
    "* **RemoveLayer** - makes it possible to remove a layer from a map document.  \n",
    "* **UpdateLayer** - makes it possible to update the layer properties or just the symbology of a layer in a map document by extracting the information from a source layer.   "
   ]
  },
  {
   "cell_type": "markdown",
   "metadata": {},
   "source": [
    "These functions all must reference an already existing layer.   \n",
    "It can be a layer file on disk, a layer from within the same map document, or a layer from a different map document.   \n",
    "Thus, these functions do not perform the task of adding data to a map document, as Add Data does in ArcMap.  "
   ]
  },
  {
   "cell_type": "markdown",
   "metadata": {},
   "source": [
    "## 10.7 Fixing broken data sources"
   ]
  },
  {
   "cell_type": "markdown",
   "metadata": {},
   "source": [
    "Broken data sources are very common, and fixing them manually can be tedio us.  \n",
    "Scripting can be used to automate these corrections once the nature of the fix has been identified.  \n",
    "Changes can be made to the map docu ment w ithout even opening it.  \n",
    "Before examining th ese methods in more detail, a few definitions are in order:  "
   ]
  },
  {
   "cell_type": "markdown",
   "metadata": {},
   "source": [
    "* **Worhspace** - a container for data.   \n",
    "It can be a folder that contains shapefiles, a coverage, or a geodatabase - for example, mydata.\n",
    "\n",
    "* **Worhspace path** - the system path to a workspace. It includes the drive letter where the folder is located and any subfolders - for example, C:\\mydata.  \n",
    "For a file-based geodatabase, it includes the name of the geodatabase - for example, C:\\mydata\\project.gdb.\n",
    "\n",
    "* **Dαtaset** - the feature class or table in the workspace.   \n",
    "It is the actual name on disk, not the name displayed in the ArcMap table of contents.\n",
    "For a shapefile, it would be something like hospitals.shp. \n",
    "For a feature class in a geodatabase, it would be something like hospitals.\n",
    "\n",
    "* **Dαta source** - the combination of workspace and dataset - for example, mydata\\hospitals.shp or mydata\\project.gdb\\hospitals  "
   ]
  },
  {
   "cell_type": "markdown",
   "metadata": {},
   "source": [
    "Prior to using a map document, you should check for broken data sources using the ListBrokenDataSources function.   \n",
    "This arcpy.mapping function returns a Python list of layer objects within a map document or layer file that have broken connections to their original data source.  \n",
    "The syntax is"
   ]
  },
  {
   "cell_type": "code",
   "execution_count": null,
   "metadata": {
    "collapsed": true
   },
   "outputs": [],
   "source": [
    "ListBrokenDataSources(map_document_or_layer)"
   ]
  },
  {
   "cell_type": "markdown",
   "metadata": {},
   "source": [
    "The following code illustrates how this function can be used to print the names of the layers in a map document that have broken data sources:"
   ]
  },
  {
   "cell_type": "code",
   "execution_count": null,
   "metadata": {
    "collapsed": true
   },
   "outputs": [],
   "source": [
    "import arcpy\n",
    "mapdoc = arcpy.mapping.MapDocument(\"CURRENT\")\n",
    "brokenlist = arcpy.mapping.ListBrokenDataSources(mapdoc)\n",
    "for lyr in brokenlist:\n",
    "    print lyr.name\n",
    "del mapdoc"
   ]
  },
  {
   "cell_type": "markdown",
   "metadata": {},
   "source": [
    "Running this code returns the nam es of the layers as they appear in the ArcMap table of contents.  \n",
    "Instead of the name, the layer property dataSource can be used to see the current data source being referenced by the layer, as follows:"
   ]
  },
  {
   "cell_type": "code",
   "execution_count": null,
   "metadata": {
    "collapsed": true
   },
   "outputs": [],
   "source": [
    "print lyr.dataSource"
   ]
  },
  {
   "cell_type": "markdown",
   "metadata": {},
   "source": [
    "Once it is established that data sources ne ed to be updated or fixed, the following methods can be applied to map documents, layers, or tables:  \n",
    "  \n",
    "* **```findAndReplaceWorkspacePaths```** and **```replaceWorkspaces```** - use to perform a find-and-replace operation on the workspace path and the workspace, respectively.   \n",
    "This assumes that the datasets are correct.   \n",
    "For example, you can change C:\\mydata\\hospitals.shp to C:\\newdata\\hospitals.shp, but the name of the dataset (in this case, hospitals.shp) cannot be modified.  \n",
    "  \n",
    "* **```replaceDataSource```** - use to perform a find-and-replace opera tion on the workspace and the dataset.   \n",
    "You can modify both the workspace and the dataset, or just the dataset.   \n",
    "For example, you can change C:\\mydata\\hospitals.shp to C:\\mydata\\newhospitals.shp.  "
   ]
  },
  {
   "cell_type": "markdown",
   "metadata": {},
   "source": [
    "The following methods work on three different classes: MapDocument, Layer , and TableV ew objects.   \n",
    "In total, there are six different methods:  "
   ]
  },
  {
   "cell_type": "markdown",
   "metadata": {},
   "source": [
    "```\n",
    "1. MapDocument.findAndReplaceWorkspacePaths\n",
    "2. MapDocument.replaceWorkspaces\n",
    "3. Layer.findAndReplaceWorkspacePath\n",
    "4. Layer.replaceDataSource\n",
    "5. TableView.findAndReplaceWorkspacePath\n",
    "6. TableView.replaceDataSource\n",
    "```"
   ]
  },
  {
   "cell_type": "markdown",
   "metadata": {},
   "source": [
    "The syntax of Map Document.findAndReplaceWorkspacePaths is"
   ]
  },
  {
   "cell_type": "code",
   "execution_count": null,
   "metadata": {
    "collapsed": true
   },
   "outputs": [],
   "source": [
    "MapDocument.findAndReplaceWorkspacePaths(findworkspacepath, replace_workspace_path, {validate})"
   ]
  },
  {
   "cell_type": "markdown",
   "metadata": {},
   "source": [
    "Running this code searches for and replaces the workspace paths of all layers and tables in a map document that share that workspace.   \n",
    "For example, the following code replaces all the workspace paths in the current map document:  \n",
    "  "
   ]
  },
  {
   "cell_type": "code",
   "execution_count": null,
   "metadata": {
    "collapsed": true
   },
   "outputs": [],
   "source": [
    "import arcpy  \n",
    "mapdoc = arcpy.mapping.MapDocument(\"CURRENT\")  \n",
    "mapdoc.findAndReplaceWorkspacePaths(\"C:/mydata\", \"C:/newdata\")  \n",
    "mapdoc.save()  \n",
    "del mapdoc  "
   ]
  },
  {
   "cell_type": "markdown",
   "metadata": {},
   "source": [
    "The MapDocument.findAndReplaceWorkspacePaths method works on multiple workspace types at once, including shapefiles, file geodata bases, and others.   \n",
    "However, the workspace type cannot be modified.   \n",
    "The MapDocument.replaceWorkspaces method can be used to modify both the workspace path and the workspace type - for example, from a folder containing shapefiles to a file geodatabase.   \n",
    "The m ethod works on only one workspace at a time but can be used multiple times if more than one workspace type needs to be replaced.   \n",
    "The syntax of the MapDocument.replaceWorkspaces method is  "
   ]
  },
  {
   "cell_type": "code",
   "execution_count": null,
   "metadata": {
    "collapsed": true
   },
   "outputs": [],
   "source": [
    "MapDocument.replaceWorkspaces(old_workspace_path, old_workspace_type, new_workspace_path, new_workspace_type, {validate})"
   ]
  },
  {
   "cell_type": "markdown",
   "metadata": {},
   "source": [
    "For example, in the following code, references to shapefiles are redirected to feature classes in a file geodatabase:"
   ]
  },
  {
   "cell_type": "code",
   "execution_count": null,
   "metadata": {
    "collapsed": true
   },
   "outputs": [],
   "source": [
    "import arcpy\n",
    "mapdoc = arcpy.mapping.MapDocument(\"C:/mydata/project.mxd\")\n",
    "mapdoc.replaceWorkspaces(\"C:/mydata/shapes\", \"SHAPEFILEWORKSPACE\", \"C:/mydata/database.gdb\", \"FILEGDBWORKSPACE\")\n",
    "mapdoc.save()\n",
    "del mapdoc"
   ]
  },
  {
   "cell_type": "markdown",
   "metadata": {},
   "source": [
    "Notice exactly what happened here.   \n",
    "The workspace is changed, but not the dataset.   \n",
    "For example, if the data source for a layer was C:\\mydata\\hospitals.shp, it has been modified to C: \\mydata\\database.gdb\\hospitals.   \n",
    "Because the type of workspace is specified, the .shp extension for the datasets is auto matically removed.   \n",
    "The example code assumes that feature classes with the exact same names as the shapefiles exist in the file geodatabase.   \n",
    "Remember that paths are not case sensitive  "
   ]
  },
  {
   "cell_type": "markdown",
   "metadata": {},
   "source": [
    "Valid workspace types are listed as follows:  \n",
    "* ACCESS_WORKSPACE  \n",
    "* ARCINFO_WORKSPACE  \n",
    "* CAD_WORKSPACE  \n",
    "* EXCEL_WORKSPACE  \n",
    "* FILEGDB_WORKSPACE  \n",
    "* OLEDB_WORKSPACE  \n",
    "* PCCOVERAGE_WORKSPACE  \n",
    "* RASTER_WORKSPACE  \n",
    "* SDE_WORKSPACE  \n",
    "* SHAPEFILE_WORKSPACE  \n",
    "* TEXT_WORKSPACE  \n",
    "* TIN_WORKSPACE  \n",
    "* VPF_WORKSPACE  "
   ]
  },
  {
   "cell_type": "markdown",
   "metadata": {},
   "source": [
    "Notice that \"personal geodatabase\" is not specifically included as a type instead ACCESS_WORKSPACE is used."
   ]
  },
  {
   "cell_type": "markdown",
   "metadata": {},
   "source": [
    "When workspaces in a map docurnent are modified, there are a few things that may not work:  \n",
    "* Joins and relates associated with raster layers and stand-alone tables are not updated.  \n",
    "* Definition queries may no longer work because a slightly different SQL syntax is used-for exarnple, between file geodatabases and personal geodatabases.   \n",
    "A slight modificaion to the SQL staternent would fix this problem.  \n",
    "* Label expressions rnay no longer work for the sarne reason.  "
   ]
  },
  {
   "cell_type": "markdown",
   "metadata": {},
   "source": [
    "The methods discussed so far work on map documents.   \n",
    "However, data sources can also be modified for individuallayers.  \n",
    "The Layer.findAndReplaceWorkspacePath method works on a Layer object and performs a find-and-replace operation on the workspace path for a single layer in a map document or layer file.   \n",
    "The syntax of this method is   "
   ]
  },
  {
   "cell_type": "code",
   "execution_count": null,
   "metadata": {
    "collapsed": true
   },
   "outputs": [],
   "source": [
    "Layer.findAndReplaceWorkspacePath(find_workspace_path, replace_workspace_path, {validate})"
   ]
  },
  {
   "cell_type": "markdown",
   "metadata": {},
   "source": [
    "The following code modifies the workspace for a layer that references a particular feature class in a personal geodatabase.  \n",
    "Only a portion of the full path of the data source is rep laced-in this case, using a different personal geodatabase:  "
   ]
  },
  {
   "cell_type": "code",
   "execution_count": null,
   "metadata": {
    "collapsed": true
   },
   "outputs": [],
   "source": [
    "import arcpy\n",
    "mapdoc = arcpy.mapping.MapDocument(\"C:/mydata/project.mxd\")\n",
    "lyrlist = arcpy.mapping.ListLayers(mapdoc):\n",
    "for lyr in lyrlist :\n",
    "    if lyr.supports(\"DATASOORCE\"):\n",
    "        lyr.dataSource == \"C:/mydata/database.gdb/hospitals\":\n",
    "            lyr.findAndReplaceWorkspacePath(\"database.gdb\", \"newdata.gdb\")\n",
    "mapdoc.save()\n",
    "del mapdoc"
   ]
  },
  {
   "cell_type": "markdown",
   "metadata": {},
   "source": [
    "The Layer.findAndReplaceWorkspacePath method assumes the dataset has not changed.  \n",
    "The replaceDataSource method can be used to change both the workspace and the dataset.  \n",
    "The syntax of this method is"
   ]
  },
  {
   "cell_type": "code",
   "execution_count": null,
   "metadata": {
    "collapsed": true
   },
   "outputs": [],
   "source": [
    "Layer.replaceDataSource(workspace_path, workspace type, dataset name, {validate})"
   ]
  },
  {
   "cell_type": "markdown",
   "metadata": {},
   "source": [
    "The following code replaces a specific data source.   \n",
    "In this case, the value of the dataSource property is used to determine whether a layer should have its data source updated:  "
   ]
  },
  {
   "cell_type": "code",
   "execution_count": null,
   "metadata": {
    "collapsed": true
   },
   "outputs": [],
   "source": [
    "import arcpy\n",
    "mapdoc = arcpy.mapping.MapDocument(\"C:/mydata/project.mxd\")\n",
    "lyrlist = arcpy.mapping.ListLayers(mapdoc):\n",
    "for lyr in lyrlist:\n",
    "    if lyr.supports(\"DATASOURCE\"):\n",
    "        lyr.dataSource == \"C:/mydata/hospitals.shp\":\n",
    "            lyr.replaceDataSource(\"C:/mydata/hospitals.shp\", \"SHAPEFILE_WORKSPACE\", \"C:/mydata/newhospitals.shp\")\n",
    "mapdoc.save()\n",
    "del mapdoc"
   ]
  },
  {
   "cell_type": "markdown",
   "metadata": {},
   "source": [
    "The findAndReplaceWorkspacePath and replaceDataSource methods also exist for TableView objects.   \n",
    "The syntax for using these methods to work with single tables is very similar to the syntax for working with layers.  "
   ]
  },
  {
   "cell_type": "markdown",
   "metadata": {},
   "source": [
    "## 10.8 Working with page layout elements "
   ]
  },
  {
   "cell_type": "code",
   "execution_count": null,
   "metadata": {
    "collapsed": true
   },
   "outputs": [],
   "source": []
  },
  {
   "cell_type": "markdown",
   "metadata": {},
   "source": [
    "## 10.9 Exporting maps "
   ]
  },
  {
   "cell_type": "code",
   "execution_count": null,
   "metadata": {
    "collapsed": true
   },
   "outputs": [],
   "source": []
  },
  {
   "cell_type": "markdown",
   "metadata": {},
   "source": [
    "## 10.10 Printing maps "
   ]
  },
  {
   "cell_type": "code",
   "execution_count": null,
   "metadata": {
    "collapsed": true
   },
   "outputs": [],
   "source": []
  },
  {
   "cell_type": "markdown",
   "metadata": {},
   "source": [
    "## 10.11 Working with PDFs "
   ]
  },
  {
   "cell_type": "code",
   "execution_count": null,
   "metadata": {
    "collapsed": true
   },
   "outputs": [],
   "source": []
  },
  {
   "cell_type": "markdown",
   "metadata": {},
   "source": [
    "## 10.12 Creating map books "
   ]
  },
  {
   "cell_type": "code",
   "execution_count": null,
   "metadata": {
    "collapsed": true
   },
   "outputs": [],
   "source": []
  },
  {
   "cell_type": "markdown",
   "metadata": {},
   "source": [
    "## 10.13 Using sample mapping scripts "
   ]
  },
  {
   "cell_type": "code",
   "execution_count": null,
   "metadata": {
    "collapsed": true
   },
   "outputs": [],
   "source": []
  },
  {
   "cell_type": "markdown",
   "metadata": {},
   "source": [
    "## Points to remember "
   ]
  },
  {
   "cell_type": "code",
   "execution_count": null,
   "metadata": {
    "collapsed": true
   },
   "outputs": [],
   "source": []
  }
 ],
 "metadata": {
  "kernelspec": {
   "display_name": "Python 2",
   "language": "python",
   "name": "python2"
  },
  "language_info": {
   "codemirror_mode": {
    "name": "ipython",
    "version": 2
   },
   "file_extension": ".py",
   "mimetype": "text/x-python",
   "name": "python",
   "nbconvert_exporter": "python",
   "pygments_lexer": "ipython2",
   "version": "2.7.2"
  }
 },
 "nbformat": 4,
 "nbformat_minor": 1
}
