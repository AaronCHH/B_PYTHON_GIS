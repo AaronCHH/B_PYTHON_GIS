{
 "cells": [
  {
   "cell_type": "markdown",
   "metadata": {},
   "source": [
    "# 10.3 Opening map documents"
   ]
  },
  {
   "cell_type": "code",
   "execution_count": 1,
   "metadata": {
    "collapsed": false
   },
   "outputs": [],
   "source": [
    "import arcpy\n",
    "\n",
    "mapdoc = arcpy.mapping.MapDocument(\"Exercise10/Austin_TX.mxd\")\n",
    "mapdoc.save()\n",
    "\n",
    "del mapdoc"
   ]
  },
  {
   "cell_type": "markdown",
   "metadata": {},
   "source": [
    "# 10.4 Accessing map document properties and methods"
   ]
  },
  {
   "cell_type": "code",
   "execution_count": 2,
   "metadata": {
    "collapsed": false
   },
   "outputs": [
    {
     "name": "stdout",
     "output_type": "stream",
     "text": [
      "Exercise10/Austin_TX.mxd\n"
     ]
    }
   ],
   "source": [
    "import arcpy\n",
    "mapdoc = arcpy.mapping.MapDocument(\"Exercise10/Austin_TX.mxd\")\n",
    "path = mapdoc.filePath\n",
    "print path\n",
    "del mapdoc"
   ]
  },
  {
   "cell_type": "code",
   "execution_count": 3,
   "metadata": {
    "collapsed": false
   },
   "outputs": [],
   "source": [
    "import arcpy\n",
    "mapdoc = arcpy.mapping.MapDocument(\"Exercise10/map.mxd\")\n",
    "mapdoc.title = \"Final map of study areas\"\n",
    "mapdoc.save()\n",
    "del mapdoc"
   ]
  },
  {
   "cell_type": "markdown",
   "metadata": {},
   "source": [
    "# 10.5 Working with data frames"
   ]
  },
  {
   "cell_type": "code",
   "execution_count": 4,
   "metadata": {
    "collapsed": false
   },
   "outputs": [
    {
     "name": "stdout",
     "output_type": "stream",
     "text": [
      "Layers0\n"
     ]
    }
   ],
   "source": [
    "import arcpy\n",
    "\n",
    "mapdoc = arcpy.mapping.MapDocument(\"Exercise10/map.mxd\")\n",
    "listdf = arcpy.mapping.ListDataFrames(mapdoc)\n",
    "\n",
    "for df in listdf:\n",
    "    print df.name\n",
    "del mapdoc"
   ]
  },
  {
   "cell_type": "code",
   "execution_count": 5,
   "metadata": {
    "collapsed": false
   },
   "outputs": [
    {
     "name": "stdout",
     "output_type": "stream",
     "text": [
      "NAD_1983_StatePlane_Texas_Central_FIPS_4203_Feet\n",
      "Layers0\n"
     ]
    }
   ],
   "source": [
    "import arcpy\n",
    "dataset = \"Exercise10/map/base.shp\"\n",
    "spatialRef = arcpy.Describe(dataset).spatialReference\n",
    "print spatialRef.name\n",
    "\n",
    "mapdoc = arcpy.mapping.MapDocument(\"Exercise10/map.mxd\")\n",
    "# mapdoc = arcpy.mapping.MapDocument(\"CURRENT\")\n",
    "\n",
    "for df in arcpy.mapping.ListDataFrames(mapdoc):\n",
    "    print df.name\n",
    "#     df.spatalReference = spatialRef\n",
    "    df.scale = 24000\n",
    "del mapdoc"
   ]
  },
  {
   "cell_type": "markdown",
   "metadata": {},
   "source": [
    "# 10.6 Working with layers"
   ]
  },
  {
   "cell_type": "markdown",
   "metadata": {},
   "source": [
    "* An optional data frame variable can be used that references a specific DataFrame object. For example, the following code returns a list of all the layers in an ArcMap document, and then prints the names of all the layers:"
   ]
  },
  {
   "cell_type": "code",
   "execution_count": 1,
   "metadata": {
    "collapsed": false,
    "scrolled": true
   },
   "outputs": [
    {
     "name": "stdout",
     "output_type": "stream",
     "text": [
      "base\n",
      "buildings\n",
      "historical_landmarks\n",
      "hospitals\n",
      "facilities\n",
      "addresses\n",
      "sidewalks\n",
      "buildings\n",
      "parks\n",
      "base\n",
      "trees\n"
     ]
    }
   ],
   "source": [
    "import arcpy\n",
    "mapdoc = arcpy.mapping.MapDocument(\"Exercise10/map.mxd\")\n",
    "lyrlist = arcpy.mapping.ListLayers(mapdoc)\n",
    "\n",
    "for lyr in lyrlist:\n",
    "    print lyr.name"
   ]
  },
  {
   "cell_type": "markdown",
   "metadata": {},
   "source": [
    "---"
   ]
  },
  {
   "cell_type": "markdown",
   "metadata": {},
   "source": [
    "* To access just the layers in a specific data frame, the Data Frame object has to be referenced as a parameter.\n",
    "In the following example, the ListLayers function returns only the layers in the data frame that have index number 0.\n",
    "The wild_card parameter is skipped using an empty string (\"\")"
   ]
  },
  {
   "cell_type": "code",
   "execution_count": 1,
   "metadata": {
    "collapsed": false,
    "scrolled": true
   },
   "outputs": [
    {
     "name": "stdout",
     "output_type": "stream",
     "text": [
      "base\n",
      "buildings\n",
      "historical_landmarks\n",
      "hospitals\n",
      "facilities\n",
      "addresses\n",
      "sidewalks\n",
      "buildings\n",
      "parks\n",
      "base\n",
      "trees\n"
     ]
    }
   ],
   "source": [
    "import arcpy\n",
    "mapdoc = arcpy.mapping.MapDocument(\"Exercise10/map.mxd\")\n",
    "dflist = arcpy.mapping.ListDataFrames(mapdoc)\n",
    "\n",
    "lyrlist = arcpy.mapping.ListLayers(mapdoc, \"\", dflist[0])\n",
    "\n",
    "for lyr in lyrlist:\n",
    "    print lyr.name"
   ]
  },
  {
   "cell_type": "markdown",
   "metadata": {},
   "source": [
    "---"
   ]
  },
  {
   "cell_type": "markdown",
   "metadata": {},
   "source": [
    "* The following code illustrates how to reference the layers in a .lyr file on disk and print the name of layer objects:"
   ]
  },
  {
   "cell_type": "code",
   "execution_count": 3,
   "metadata": {
    "collapsed": false
   },
   "outputs": [
    {
     "name": "stdout",
     "output_type": "stream",
     "text": [
      "base\n"
     ]
    }
   ],
   "source": [
    "import arcpy\n",
    "lyrfile = arcpy.mapping.Layer(\"Exercise10/base.lyr\")\n",
    "\n",
    "lyrlist = arcpy.mapping.ListLayers(lyrfile)\n",
    "\n",
    "for lyr in lyrlist:\n",
    "    print lyr.name"
   ]
  },
  {
   "cell_type": "markdown",
   "metadata": {},
   "source": [
    "---"
   ]
  },
  {
   "cell_type": "markdown",
   "metadata": {},
   "source": [
    "* A few examples will serve to illustrate the use of layer properties.\n",
    "For example, the following code turns on all the labels for the layers in the current map document using the showLabels property:"
   ]
  },
  {
   "cell_type": "code",
   "execution_count": 1,
   "metadata": {
    "collapsed": false
   },
   "outputs": [],
   "source": [
    "import arcpy\n",
    "mapdoc = arcpy.mapping.MapDocument(\"Exercise10/map.mxd\")\n",
    "dflist = arcpy.mapping.ListDataFrames(mapdoc)\n",
    "lyrlist = arcpy.mapping.ListLayers(mapdoc, \"\", dflist[0])\n",
    "for lyr in lyrlist:\n",
    "    lyr.showLabels = True\n",
    "del lyrlist"
   ]
  },
  {
   "cell_type": "markdown",
   "metadata": {},
   "source": [
    "---"
   ]
  },
  {
   "cell_type": "markdown",
   "metadata": {},
   "source": [
    "* Instead of changing the properties of all the layers in a map document or a data frame, the layer properties can also be used to find a layer with a particular name.\n",
    "For example, the following code searches for a layer called \"hospitals\":"
   ]
  },
  {
   "cell_type": "code",
   "execution_count": 1,
   "metadata": {
    "collapsed": false
   },
   "outputs": [],
   "source": [
    "import arcpy\n",
    "mapdoc = arcpy.mapping.MapDocument(\"Exercise10/map.mxd\")\n",
    "lyrlist = arcpy.mapping.ListLayers(mapdoc)\n",
    "\n",
    "for lyr in lyrlist:\n",
    "    if lyr.name == \"base\":\n",
    "        lyr.showLabels = True\n",
    "del lyrlist"
   ]
  },
  {
   "cell_type": "markdown",
   "metadata": {},
   "source": [
    "---"
   ]
  },
  {
   "cell_type": "markdown",
   "metadata": {},
   "source": [
    "* The parameter, in this case, would consist of one of the Layer object properties, such as brightness contrast, datasetName, or others.\n",
    "The supports method returns a Boolean value, so the example code to test whether labeling is possible would look as follows:"
   ]
  },
  {
   "cell_type": "code",
   "execution_count": 4,
   "metadata": {
    "collapsed": false
   },
   "outputs": [],
   "source": [
    "import arcpy\n",
    "mapdoc = arcpy.mapping.MapDocument(\"Exercise10/map.mxd\")\n",
    "dflist = arcpy.mapping.ListDataFrames(mapdoc)\n",
    "lyrlist = arcpy.mapping.ListLayers(mapdoc, \"\", dflist[0])\n",
    "for lyr in lyrlist:\n",
    "    if lyr.supports(\"SHOWLABELS\") == True:\n",
    "        lyr.showLabels = True\n",
    "del lyrlist"
   ]
  },
  {
   "cell_type": "markdown",
   "metadata": {},
   "source": [
    "---"
   ]
  },
  {
   "cell_type": "code",
   "execution_count": null,
   "metadata": {
    "collapsed": true
   },
   "outputs": [],
   "source": []
  }
 ],
 "metadata": {
  "kernelspec": {
   "display_name": "Python 2",
   "language": "python",
   "name": "python2"
  },
  "language_info": {
   "codemirror_mode": {
    "name": "ipython",
    "version": 2
   },
   "file_extension": ".py",
   "mimetype": "text/x-python",
   "name": "python",
   "nbconvert_exporter": "python",
   "pygments_lexer": "ipython2",
   "version": "2.7.2"
  }
 },
 "nbformat": 4,
 "nbformat_minor": 1
}
