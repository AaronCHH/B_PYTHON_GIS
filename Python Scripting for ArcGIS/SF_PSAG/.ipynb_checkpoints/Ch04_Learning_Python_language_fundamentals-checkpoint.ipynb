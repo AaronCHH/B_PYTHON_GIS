{
 "cells": [
  {
   "cell_type": "markdown",
   "metadata": {},
   "source": [
    "# Chapter 4: Learning Python language fundamentals  "
   ]
  },
  {
   "cell_type": "markdown",
   "metadata": {},
   "source": [
    "## 4.1 lntroduction  "
   ]
  },
  {
   "cell_type": "markdown",
   "metadata": {},
   "source": [
    "## 4.2 Locating Python documentation and resources  \n",
    "```\n",
    "All Programs > ArcGIS > Python2.7 > Python Manuals\n",
    "```\n",
    "* http://docs.python.org\n",
    "* http://www.python.org\n",
    "* https://wiki.python.org/moin/BeginnersGuide\n",
    "* https://wiki.python.org/moin/BeginnersGuide/NonProgrammers"
   ]
  },
  {
   "cell_type": "markdown",
   "metadata": {},
   "source": [
    "## 4.3 Working with data types and structures  "
   ]
  },
  {
   "cell_type": "markdown",
   "metadata": {},
   "source": [
    "## 4.4 Working with numbers  \n",
    "```python\n",
    "3 * 8  \n",
    "16 / 4\n",
    "17 % 4\n",
    "7 / 3\n",
    "7 / 3.0\n",
    "```"
   ]
  },
  {
   "cell_type": "markdown",
   "metadata": {},
   "source": [
    "## 4.5 Working w ith variables and naming  \n",
    "* Style Guide for Python Code http://www.python.org/dev/peps/pep-0008/\n",
    "\n",
    "```python\n",
    "x = 17\n",
    "x * 2\n",
    "# ---\n",
    "x, y, z = 1, 2, 3\n",
    "```"
   ]
  },
  {
   "cell_type": "markdown",
   "metadata": {},
   "source": [
    "## 4.6 Writing statements and expressions\n",
    "```python\n",
    "x = 2 * 17\n",
    "print x\n",
    "```"
   ]
  },
  {
   "cell_type": "markdown",
   "metadata": {},
   "source": [
    "## 4.7 Using strings  \n",
    "```python\n",
    "print \"I said: 'Let's go!'\"\n",
    "```\n",
    "```python\n",
    "x = \"G\"\n",
    "y = \"I\"\n",
    "z = \"S\"\n",
    "print x + y + z\n",
    "```\n",
    "```python\n",
    "x = \"Geographic\"\n",
    "y = \"Information\"\n",
    "z = \"Systems\"\n",
    "print x + \" \" + y + \" \" + z\n",
    "```\n",
    "```python\n",
    "# wrong\n",
    "temp = 32\n",
    "print \"The temperature is \" + temp + \" degrees\"\n",
    "# correct\n",
    "temp = 32\n",
    "print \"The temperature is \" + str(temp) + \" degrees\"\n",
    "```"
   ]
  },
  {
   "cell_type": "markdown",
   "metadata": {},
   "source": [
    "## 4.8 Using lists  \n",
    "```\n",
    "mylist = [1, 2, 4, 8, 16 , 32 , 64]\n",
    "```\n",
    "```\n",
    "mywords = [\"jpg\", \"bmp\", \"tif\", \"img\"]\n",
    "print mywords\n",
    "```"
   ]
  },
  {
   "cell_type": "markdown",
   "metadata": {},
   "source": [
    "## 4.9 Working with Python objects  \n",
    "```python\n",
    "name = \"Paul\"\n",
    "name\n",
    "id(name)\n",
    "type(name)\n",
    "```\n",
    "```python\n",
    "var1 = 100\n",
    "type(var1)\n",
    "```\n",
    "```python\n",
    "var2 = 2.0\n",
    "type(var2)\n",
    "```"
   ]
  },
  {
   "cell_type": "markdown",
   "metadata": {},
   "source": [
    "## 4.10 Using functions  \n",
    "```python\n",
    "pow(2,3)\n",
    "print dir(__builtins__)\n",
    "print pow.__doc__\n",
    "```"
   ]
  },
  {
   "cell_type": "markdown",
   "metadata": {},
   "source": [
    "## 4.11 Using methods  \n",
    "```python\n",
    "topic = \"Geographic Information Systems\"\n",
    "topic.count(\"i\")\n",
    "```"
   ]
  },
  {
   "cell_type": "markdown",
   "metadata": {},
   "source": [
    "## 4.12 Working with strings  \n",
    "```python\n",
    "mytext = \"GIS is cool\"\n",
    "print mytext.lower()\n",
    "print mytext.upper()\n",
    "print mytext.title()\n",
    "```\n",
    "```python\n",
    "mystring = \"Geographic Information Systems\"\n",
    "mystring[0]\n",
    "mystring[23]\n",
    "mystring[-1]\n",
    "mystring[11:22]\n",
    "mystring[11:]\n",
    "mystring.find[\"Info\"]\n",
    "mystring.find[\"info\"]\n",
    "\"Info\" in mystring\n",
    "```\n",
    "\n",
    "* join  \n",
    "\n",
    "```python\n",
    "list_gis = [\"Geographic\" , \"Information\", \"Systems\"]\n",
    "string_gis = \" \"\n",
    "string_gis.join(list_gis)\n",
    "```\n",
    "\n",
    "* split\n",
    "\n",
    "```python\n",
    "pythonstring = \"Geoprocessing using Python scripts\"\n",
    "pythonlist = pythonstring.split(\" \")\n",
    "pythonlist\n",
    "```\n",
    "\n",
    "* strip, rstrip, lstrip\n",
    "\n",
    "```\n",
    "# allows you to remove any combination of characters in any order from the ends of an existing string\n",
    "mytext = \"Commenting scripts is good\"\n",
    "mytext.strip(\"Cdo\")\n",
    "mytext.rstrip(\"Cdo\")\n",
    "mytext.lstrip(\"Cdo\")\n",
    "```\n",
    "\n",
    "* replace\n",
    "\n",
    "```\n",
    "mygis = \"Geographic Information Systems\"\n",
    "mygis.replace(\"Systems\", \"Science\")\n",
    "```\n",
    "```\n",
    "myfile = \"streams.shp\"\n",
    "myfile.replace(\".shp\", \"\")\n",
    "```\n",
    "```\n",
    "temp = 100\n",
    "print \"The temperature is {0} degrees\".format(temp)\n",
    "```\n",
    "```\n",
    "username = \"Paul\"\n",
    "password = \"surf$&9*\"\n",
    "print \"{0}'s password is {1}\".format(username, password)\n",
    "```\n",
    "\n",
    "## 4.13 Working with lists  \n",
    "```\n",
    "cities = [\"Austin\", \"Baltimore\", \"Cleveland\", \"Denver\", \"Eugene\"]\n",
    "```\n",
    "```\n",
    "print len(cities)\n",
    "```\n",
    "```\n",
    "cities.sort(reverse = True)\n",
    "print cities\n",
    "```\n",
    "```\n",
    "cities.sort\n",
    "print cities\n",
    "```\n",
    "```\n",
    "cities[1]\n",
    "cities[-1]\n",
    "cities[-2]\n",
    "cities[2:4]\n",
    "cities[2:]\n",
    "cities[:2]\n",
    "```\n",
    "```\n",
    "\"Baltimore\" in cities\n",
    "\"Seattle\" in cities\n",
    "```\n",
    "\n",
    "* del\n",
    "\n",
    "```\n",
    "cities = [\"Austin\", \"Baltimore\", \"Cleveland\", \"Denver\", \"Eugene\"]\n",
    "del cities[2]\n",
    "cities\n",
    "```\n",
    "\n",
    "* append\n",
    "\n",
    "```\n",
    "cities = [\"Austin\", \"Baltimore\"]\n",
    "cities.append(\"Cleveland\")\n",
    "cities\n",
    "```\n",
    "\n",
    "* count\n",
    "\n",
    "```\n",
    "yesno = [\"True\", \"True\", \"False\", \"True\", \"False\"]\n",
    "yesno.count(\"True\")\n",
    "```\n",
    "\n",
    "* extend\n",
    "\n",
    "```\n",
    "list1 = [1, 2, 3, 4]\n",
    "list2 = [11, 12, 13, 14]\n",
    "list1.extend(list2)\n",
    "list1\n",
    "```\n",
    "\n",
    "* index\n",
    "\n",
    "```\n",
    "mylist = [\"The\", \"quick\", \"fox\", \"jumps\", \"over\", \"the\", \"lazy\", \"dog\"]\n",
    "mylist.index(\"the\")\n",
    "```\n",
    "\n",
    "* insert\n",
    "\n",
    "```\n",
    "cities = [\"Austin\", \"Cleveland\", \"Denver\", \"Eugene\"]\n",
    "cities.insert(1, \"Baltimore\")\n",
    "cities\n",
    "```\n",
    "\n",
    "* pop\n",
    "\n",
    "```\n",
    "cities = [\"Austin\", \"Baltimore\", \"Cleveland\", \"Denver\", \"Eugene\"]\n",
    "cities.pop(3)\n",
    "```\n",
    "\n",
    "* remove\n",
    "\n",
    "```\n",
    "numbers = [1, 0, 1, 0, 1, 0, 1, 0, 1, 0]\n",
    "numbers.remove(0)\n",
    "numbers\n",
    "```"
   ]
  },
  {
   "cell_type": "markdown",
   "metadata": {},
   "source": [
    "## 4.14 Working with paths  \n",
    "```\n",
    "1. Use a forw slash (/) - for example,\n",
    "\"C:/EsriPress/Python/Data\".\n",
    "\n",
    "2. Use two backslashes (\\\\) - for example,\n",
    "\"C:\\\\EsriPress\\\\Python\\\\Data\".\n",
    "\n",
    "3. Use a string literal by placing the letter r before a string - for example,\n",
    "r\"C:\\EsriPress\\Python\\Data\".\n",
    "The letter r stands for \"raw string,\" which means that a backslash will not be read as an escape character\n",
    "```"
   ]
  },
  {
   "cell_type": "markdown",
   "metadata": {},
   "source": [
    "## 4.15 Working with modules  \n",
    "```\n",
    "import math\n",
    "math.cos(1)\n",
    "\n",
    "print math.cos.__doc__\n",
    "dir(math)\n",
    "\n",
    "from math import cos\n",
    "cos(1)\n",
    "\n",
    "import itme\n",
    "print dir(time)\n",
    "\n",
    "time.time()\n",
    "\n",
    "time.localtime()\n",
    "\n",
    "time.asctime()\n",
    "\n",
    "import keyword\n",
    "print keyword.kwlist\n",
    "```"
   ]
  },
  {
   "cell_type": "markdown",
   "metadata": {},
   "source": [
    "## 4.16 Controlling workf1 ow using conditional statements  \n",
    "```python\n",
    "import random\n",
    "x = random.randint(0, 6)\n",
    "print x\n",
    "if x == 6:\n",
    "\tprint \"You win!\"\n",
    "```\n",
    "```\n",
    "== Eqaual to\n",
    "!= Not equal to\n",
    "```"
   ]
  },
  {
   "cell_type": "markdown",
   "metadata": {},
   "source": [
    "## 4.17 Controlling workflow using loop structures  \n",
    "```python\n",
    "import random\n",
    "x = random.randint(0, 6)\n",
    "print x\n",
    "if x == 6:\n",
    "\tprint \"You win!\"\n",
    "elif x == 5:\n",
    "\tprint \"Try again!\"\n",
    "else:\n",
    "\tprint \"You lose!\"\t\t\n",
    "```\n",
    "\n",
    "```python\n",
    "# infinite loop\n",
    "i = 0\n",
    "while i <= 10:\n",
    "\tprint i\n",
    "```\n",
    "\n",
    "```python\n",
    "i = 12\n",
    "while i <= 10:\n",
    "\tprint i\n",
    "\ti += 1\n",
    "```\n",
    "\n",
    "```python\n",
    "mylist = [\"A\", \"B\", \"C\", \"D\"]\n",
    "for letter in mylist:\n",
    "\tprint letter\n",
    "```\n",
    "\n",
    "```python\n",
    "import sys\n",
    "x = int(sys.argv[1])\n",
    "y = int(sys.argv[2])\n",
    "print x * y\n",
    "```"
   ]
  },
  {
   "cell_type": "markdown",
   "metadata": {},
   "source": [
    "## 4.18 Getting user input  "
   ]
  },
  {
   "cell_type": "markdown",
   "metadata": {},
   "source": [
    "```{py}\n",
    "x = input(\"\")\n",
    "```"
   ]
  },
  {
   "cell_type": "markdown",
   "metadata": {},
   "source": [
    "## 4.19 Commenting scripts  "
   ]
  },
  {
   "cell_type": "markdown",
   "metadata": {},
   "source": [
    "> Note: Using the number sign (#) is not the only way to indicate a line is a comment. \n",
    "\n",
    "> Sometimes double number signs (##) are used instead, although this is often reserved for temporarily commenting out code temporarily turning code into comments so as not to lose it. The effect is the same: Code lines that start with number signs (# or ##) are not un"
   ]
  },
  {
   "cell_type": "markdown",
   "metadata": {},
   "source": [
    "## 4.20 Working with code in the PythonWin editor  "
   ]
  },
  {
   "cell_type": "code",
   "execution_count": null,
   "metadata": {
    "collapsed": true
   },
   "outputs": [],
   "source": []
  },
  {
   "cell_type": "markdown",
   "metadata": {},
   "source": [
    "## 4.21 Following coding guidelines  "
   ]
  },
  {
   "cell_type": "code",
   "execution_count": null,
   "metadata": {
    "collapsed": true
   },
   "outputs": [],
   "source": []
  },
  {
   "cell_type": "markdown",
   "metadata": {},
   "source": [
    "## Points to remember  "
   ]
  },
  {
   "cell_type": "markdown",
   "metadata": {
    "collapsed": true
   },
   "source": [
    "This chapter introduces you to the fundamentals of the Python language. There is obviously much more to learn about Python functionality, but these fundamentals will allow you to get started writing geoprocessing scripts. \n",
    "\n",
    "A few points to remember about Python:\n",
    "\n",
    "* Python code can be evaluated directly in the interactive Python inter preter, but to save your code you have to create a Python script file, which is saved with a .py file extension.  \n",
    "  \n",
    "* Python uses expressions, which represent a value or values, and statements, which do something.  \n",
    "  \n",
    "* Variable names should be all lowercase and contain only characters, digits, and the underscore (_). Variables are given a value using an assígnment statement.  \n",
    "  \n",
    "* Python contains a number of standard built-in functions , which can be used by employing a function call. To use a function that is not one of the built-in functions, you fust need to import the module, and then call the function using <module>.<function>.  \n",
    "  \n",
    "* Strings can be manipulated using Python's built-in methods, includ ing fmding speci&c substrings, joining strings together, splitting strings based on a separator, stripping characters from the start and end of a string, converting the case of a string, and more.  \n",
    "  \n",
    "* Lists are a versatile Python data type. Speci&c elements from a list can be obtained using the element's index number starting with zero (0)-for example, mylist[0]. There are a number of built-in Python functions and methods to manipulate lists. These include ways to sort a list, slice a list into smaller lists, delete elements, append elements, insert elements, and more.  \n",
    "  \n",
    "* Workflow in Python scripts can be controlled using branching and loop structures. These structures use indentation to identify blocks of code. lndentation is part of the Python syntax and is not optional.  \n",
    "  \n",
    "* Python syntax is case sensitive, for the most part.  "
   ]
  },
  {
   "cell_type": "code",
   "execution_count": null,
   "metadata": {
    "collapsed": true
   },
   "outputs": [],
   "source": []
  }
 ],
 "metadata": {
  "kernelspec": {
   "display_name": "Python 2",
   "language": "python",
   "name": "python2"
  },
  "language_info": {
   "codemirror_mode": {
    "name": "ipython",
    "version": 2
   },
   "file_extension": ".py",
   "mimetype": "text/x-python",
   "name": "python",
   "nbconvert_exporter": "python",
   "pygments_lexer": "ipython2",
   "version": "2.7.2"
  }
 },
 "nbformat": 4,
 "nbformat_minor": 1
}
