{
 "cells": [
  {
   "cell_type": "markdown",
   "metadata": {},
   "source": [
    "# Chapter 9: Working with rasters "
   ]
  },
  {
   "cell_type": "markdown",
   "metadata": {},
   "source": [
    "## 9.1 Introduction"
   ]
  },
  {
   "cell_type": "markdown",
   "metadata": {},
   "source": [
    "Rasters present a unique type of spatial data, and a number of geopro cessing tools are designed specificauy to take advantage of the raster data structure.  \n",
    "This chapter iuustrates how to use regular ArcPy functions to list and describe rasters.  \n",
    "ArcPy also includes a Spatial Analyst module referred to as arcpy.sa, which fuuy integrates map algebra into the Python environment, making scripting much more efficient.  \n",
    "Map algebra operators are described, as well as functions and classes of the arcpy.sa module.  "
   ]
  },
  {
   "cell_type": "markdown",
   "metadata": {},
   "source": [
    "## 9.2 Listing rasters "
   ]
  },
  {
   "cell_type": "markdown",
   "metadata": {},
   "source": [
    "The ListRasters function returns a Python list of rasters in a workspace.\n",
    "The syntax of the function is "
   ]
  },
  {
   "cell_type": "code",
   "execution_count": null,
   "metadata": {
    "collapsed": true
   },
   "outputs": [],
   "source": [
    "ListRasters({wildcard}, {rastertype})"
   ]
  },
  {
   "cell_type": "markdown",
   "metadata": {},
   "source": [
    "The following code illustrates the llse of the ListRasters function to print a list of the rasters in a workspace:  "
   ]
  },
  {
   "cell_type": "code",
   "execution_count": null,
   "metadata": {
    "collapsed": true
   },
   "outputs": [],
   "source": [
    "import arcpy\n",
    "from arcpy import env\n",
    "env.workspace = \"C:/raster\"\n",
    "rasterlist = arcpy.ListRasters()\n",
    "for raster in rasterlist:\n",
    "    print raster"
   ]
  },
  {
   "cell_type": "markdown",
   "metadata": {},
   "source": [
    "The parameters of the ListRasters function can be used to filter the results.  \n",
    "For example, the following code prints a list of the rasters in the workspace that are in the ERDAS IMAGINE format:  "
   ]
  },
  {
   "cell_type": "code",
   "execution_count": null,
   "metadata": {
    "collapsed": true
   },
   "outputs": [],
   "source": [
    "import arcpy\n",
    "from arcpy import env\n",
    "env.workspace = \"C:/raster\"\n",
    "rasterlist = arcpystRasters(\"*\", \"IMG\")\n",
    "for raster in rasterlist:\n",
    "    print raster"
   ]
  },
  {
   "cell_type": "markdown",
   "metadata": {},
   "source": [
    "## 9.3 Describing raster properties"
   ]
  },
  {
   "cell_type": "markdown",
   "metadata": {},
   "source": [
    "Three different raster data elem ents can be distinguished:  \n",
    "1. **Raster dataset** - a raster spatial data model that is stored on disk or in a geodatabase. Raster datasets can be stored in many formats , including TIFF, JPEG , IMAGINE , Esri GRID , and MrSID. Raster datasets can be single band or multiband.  \n",
    "    \n",
    "2. **Raster band** - one layer in a raster dataset that represents data values for a speciiic range in the electromagnetic spectrum or other values derived by manipulating the original image bands. Many types of satellite images, for example, contain multiple bands.  \n",
    "    \n",
    "3. **Raster catalog** - a collection of raster datasets deiined in a table of any format, in which the records deiine the individual raster data sets that are included in the catalog. Raster catalogs can be used to display adjacent or overlapping raster datasets without having to combine them into a mosaic in one large iile  "
   ]
  },
  {
   "cell_type": "markdown",
   "metadata": {},
   "source": [
    "The following code illustrates the use of the Describe function, which returns an object with properties that can be accessed, in this case for printing:"
   ]
  },
  {
   "cell_type": "code",
   "execution_count": null,
   "metadata": {
    "collapsed": true
   },
   "outputs": [],
   "source": [
    "import a rc py\n",
    "from arcpy import env\n",
    "env.workspace\"C:/raster\"\n",
    "raster = \"landcover.tif\"\n",
    "desc = arcpy.Describe(raster)\n",
    "print desc.dataType"
   ]
  },
  {
   "cell_type": "markdown",
   "metadata": {},
   "source": [
    "For this example of a raster in TIFF format, the dataType property returns the type RasterDatase t. Properties that are speciiic to raster datasets only include the following:  \n",
    "* **bandCount** - the number of bands in the raster dataset  \n",
    "* **compressionType** - the compression type (LZ77, JPEG, JPEG2000, or None)  \n",
    "* **format** - the raster format (GRID, IMAGINE, TIFF, and more)  \n",
    "* **permanent** indicates the permanent state of the raster: False if the raster is temporary, True if the raster is permanent  \n",
    "* **sensorType** - the sensor type used to capture the image  \n"
   ]
  },
  {
   "cell_type": "markdown",
   "metadata": {},
   "source": [
    "Once it has been determined that an element is a raster dataset , these properties can be accessed.  \n",
    "For example, the following code includes additional properties used to describe the TIFF file:  "
   ]
  },
  {
   "cell_type": "code",
   "execution_count": null,
   "metadata": {
    "collapsed": true
   },
   "outputs": [],
   "source": [
    "import arcpy\n",
    "from arcpy import env\n",
    "env.workspace = \"C:/raster\"\n",
    "raster = \"landcover.tif\"\n",
    "desc = arcpy.Describe(raster)\n",
    "print desc.dataType \n",
    "print desc.badnCount\n",
    "print desc.compressionType"
   ]
  },
  {
   "cell_type": "markdown",
   "metadata": {},
   "source": [
    "Many other properties that are commonly associated with rasters can be accessed for individual raster bands only.  \n",
    "For example, the cell resolution is a very important raster property, but individual bands within one raster dataset can have different resolutions.  \n",
    "A number of properties are specific to raster bands, including the following:  "
   ]
  },
  {
   "cell_type": "markdown",
   "metadata": {},
   "source": [
    "* **height** - the number of rows  \n",
    "* **Integer** - indicates whether the raster band is an integer type  \n",
    "* **meanCellHeight** - the cell size in y direction  \n",
    "* **meanCellWidth** - the cell size in x direction  \n",
    "* **noDataValue** - the NoData value of the raster band  \n",
    "* **pixelType** - the pixel type, such as 8-bit integer, 16-bit integer, single precision floating point, and others  \n",
    "* **primaryField** - the index of the field  \n",
    "* **tableType** - the class name of the table  \n",
    "* **width** - the number of columns  "
   ]
  },
  {
   "cell_type": "markdown",
   "metadata": {},
   "source": [
    "For single-band raster datasets, the band itself does not have to b e specified (there is only one, after all) and the properties can be accessed directly by describing the raster dataset.  \n",
    "For example, the following code determines the cell size and pixel type of a raster:  \n"
   ]
  },
  {
   "cell_type": "code",
   "execution_count": null,
   "metadata": {
    "collapsed": true
   },
   "outputs": [],
   "source": [
    "import arcpy\n",
    "from arcpy import env\n",
    "env.workspace = \"C:/raster\"\n",
    "rasterband = \"landcover.tif\"\n",
    "desc = arcpy.Describe(raster)\n",
    "print desc.meanCellHeight\n",
    "print desc.meanCellWidth\n",
    "print desc.pixelType"
   ]
  },
  {
   "cell_type": "markdown",
   "metadata": {},
   "source": [
    "For this particular example, the code returns values of 30.0 by 30.0 and U8 - this means the cell size is 30 by 30 meters and the pixel type is an unsigned 8-bit integer.  \n",
    "These properties do not report the unit type, which has to be obtained from the Spatial Reference property.  \n",
    "For example, the following code determines the name of the spatial reference and the unit:  \n"
   ]
  },
  {
   "cell_type": "code",
   "execution_count": null,
   "metadata": {
    "collapsed": true
   },
   "outputs": [],
   "source": [
    "spatialref = desc.spatialReference\n",
    "print spatialref.name\n",
    "print spatialref.linearUnitName"
   ]
  },
  {
   "cell_type": "markdown",
   "metadata": {},
   "source": [
    "For multiband rasters, however, the specific band needs to be specified Without a particular band being specified, prop erties such as cell size, height, w idth, and pixel type cannot be accessed.  \n",
    "Specific bands are refer enced using Band_1 , Band_2, and so on.  \n",
    "The following code illustrates how the properties for a band in a multiband raster dataset are accessed:  \n"
   ]
  },
  {
   "cell_type": "code",
   "execution_count": null,
   "metadata": {
    "collapsed": true
   },
   "outputs": [],
   "source": [
    "import arcpy\n",
    "from arcpy import env\n",
    "env.workspace = \"C:/raster\"\n",
    "rasterband = \"img.tif/Band_1\"\n",
    "desc = arcpy.Describe(rasterband)\n",
    "print desc.meanCellHeight\n",
    "print desc.meanCellWidth\n",
    "print desc.pixelType"
   ]
  },
  {
   "cell_type": "markdown",
   "metadata": {},
   "source": [
    "## 9.4 Working with raster objects "
   ]
  },
  {
   "cell_type": "markdown",
   "metadata": {},
   "source": [
    "ArcPy also contains a Raster class that is used to reference a raster dataset.  \n",
    "A raster obj ect can be created in two ways: (1) by referencing an existing raster on disk and (2) by using a map algebra staternent.  \n",
    "The syntax for the Raster class is  \n"
   ]
  },
  {
   "cell_type": "code",
   "execution_count": null,
   "metadata": {
    "collapsed": true
   },
   "outputs": [],
   "source": [
    "Raster(inRaster)"
   ]
  },
  {
   "cell_type": "markdown",
   "metadata": {},
   "source": [
    "The following code illustrates how to create a raster object by referencing a raster on disk:"
   ]
  },
  {
   "cell_type": "code",
   "execution_count": null,
   "metadata": {
    "collapsed": true
   },
   "outputs": [],
   "source": [
    "import arcpy\n",
    "myraster = arcpy.Raster(\"C:/raster/elevation\")"
   ]
  },
  {
   "cell_type": "markdown",
   "metadata": {},
   "source": [
    "When using map algebra statements, the code looks sornething like the following:"
   ]
  },
  {
   "cell_type": "code",
   "execution_count": null,
   "metadata": {
    "collapsed": true
   },
   "outputs": [],
   "source": [
    "import arcpy\n",
    "outraster = arcpy.sa.Slope(\"C:/raster/elevation\")"
   ]
  },
  {
   "cell_type": "markdown",
   "metadata": {},
   "source": [
    "**Raster objects have only one method: save.**  \n",
    "The raster object (the variable and associated dataset) returned frorn a map algebra expression is temporary by default.  \n",
    "This means the variable and the referenced dataset are deleted when the variable goes out of scope - for example, when ArcGlS is closed or when a stand-alone script is closed.  \n",
    "The save method can be called to rnake the raster object permanent.  \n",
    "The syntax of the save method is  "
   ]
  },
  {
   "cell_type": "code",
   "execution_count": null,
   "metadata": {
    "collapsed": true
   },
   "outputs": [],
   "source": [
    "save({name})"
   ]
  },
  {
   "cell_type": "markdown",
   "metadata": {},
   "source": [
    "In the earlier example, the raster object outraster is temporary but can be made permanent using the following code:"
   ]
  },
  {
   "cell_type": "code",
   "execution_count": null,
   "metadata": {
    "collapsed": true
   },
   "outputs": [],
   "source": [
    "import arcpy\n",
    "outraster = arcpy.sa.Slope(\"/raster/elevation\")\n",
    "outraster.save(\"C:/raster/slope\")"
   ]
  },
  {
   "cell_type": "markdown",
   "metadata": {},
   "source": [
    "It may appear somewhat counterintuitive that map algebra expressions result in temporary outputs .  \n",
    "Keep in mind that a typical workflow using rasters can involve numerous steps.  \n",
    "If only the fmal output is actually needed, keeping temporary outputs as intermediate steps results in fewer output files and lower storage reguirements.  \n"
   ]
  },
  {
   "cell_type": "markdown",
   "metadata": {},
   "source": [
    "## 9.5 Working with the ArcPy Spatial Analyst module"
   ]
  },
  {
   "cell_type": "markdown",
   "metadata": {},
   "source": [
    "ArcPy includes a Spatial Analyst module, arcpy.sa , to carry out map alge bra and other operations.  \n",
    "The functionality provided by the Spatial Analyst module is largely the same as that of the tools in the Spatial Analyst toolbox.  \n",
    "For example, you can run the Slope tool by referencing the Slope tool in the Spatial Analyst toolbox or by importing the arcpy.sa module and directly referencing the Slope tool.  \n"
   ]
  },
  {
   "cell_type": "code",
   "execution_count": null,
   "metadata": {
    "collapsed": true
   },
   "outputs": [],
   "source": [
    "import arcpy  \n",
    "elevraster = arcpy.Raster(\"C:/raster/elevation\")  \n",
    "cutraster = arcpy.sa.Slope(elevraster)  "
   ]
  },
  {
   "cell_type": "markdown",
   "metadata": {},
   "source": [
    "Notice that the Slope tool is called using arcpy.sa.  \n",
    "Slope, which appears to follow the regular syntax used for all tools: arcpy.<toolboxalias>.<toolname>.  \n",
    "However, the alternative arcpy.<toolname>_<tooboxalias> syntax does not apply here, and arcpy.Slope_sa is not valid.  \n",
    "Because sa is a module, and not just the alias of a toolbox, the code can be simplified as follows:  \n"
   ]
  },
  {
   "cell_type": "code",
   "execution_count": null,
   "metadata": {
    "collapsed": true
   },
   "outputs": [],
   "source": [
    "import arcpy\n",
    "from arcpy.sa import *\n",
    "elevraster = arcpy.Raster(\"C:/raster/elevation\")\n",
    "raster = Slope(elevraster)"
   ]
  },
  {
   "cell_type": "markdown",
   "metadata": {},
   "source": [
    "## 9.6 Using map algebra operators "
   ]
  },
  {
   "cell_type": "markdown",
   "metadata": {
    "collapsed": true
   },
   "source": [
    "In addition to providing access to all the Spatial Analyst geoprocessing tools, the arcpy.sa module also includes a number of map algebra operators.  \n",
    "Most of these operators are available as geoprocessing tools under the Math toolset in the Spatial Analyst toolbox yet are also available as operators in Python.  \n",
    "Consider the following example, whic h converts elevation values from feet to meters using the Times tool:  "
   ]
  },
  {
   "cell_type": "code",
   "execution_count": null,
   "metadata": {
    "collapsed": true
   },
   "outputs": [],
   "source": [
    "import arcpy\n",
    "from arcpy.sa import *\n",
    "elevraster = arcpy.Raster(\"C:/raster/elevation\")\n",
    "utraster = Times(elevraster, \"0.3048\")\n",
    "outraster.save(\"C:/raster/elevm\")"
   ]
  },
  {
   "cell_type": "markdown",
   "metadata": {},
   "source": [
    "Instead of using the Times tool, the map algebra operator (*) can be used.  \n",
    "The second-to-last line of code would look as follows:  "
   ]
  },
  {
   "cell_type": "code",
   "execution_count": null,
   "metadata": {
    "collapsed": true
   },
   "outputs": [],
   "source": [
    "outraster = elevraster * 0.3048"
   ]
  },
  {
   "cell_type": "markdown",
   "metadata": {},
   "source": [
    "Consider the example of a suitability model in which you create three different rasters, each representing a different factor in the suitabilitymodel.  \n",
    "ln the final analysis step, you want to add these three rasters together and determine the average suitability score.  \n",
    "Your code could looksomething like the following:  \n"
   ]
  },
  {
   "cell_type": "code",
   "execution_count": null,
   "metadata": {
    "collapsed": true
   },
   "outputs": [],
   "source": [
    "import arcpy\n",
    "from arcpy.sa import *\n",
    "fl = arcpy.Raster(\"C:/raster/factor1\")\n",
    "f2 = arcpy.Raster(\"C:/raster/factor2\")\n",
    "f3 = arcpy.Raster(\"C:/raster/factor3\")\n",
    "templraster = Plus(f1, f2)\n",
    "temp2raster = Plus(temp1raster, f3)\n",
    "outraster = Divide(temp2raster, \"3\")\n",
    "outraster.save(\"C:/raster/final)"
   ]
  },
  {
   "cell_type": "markdown",
   "metadata": {},
   "source": [
    "The Plus tool has to be used twice to add all three rasters together because the tool can use only two inputs at a time.  \n",
    "The Divide tool is used to divide the sum of the three rasters by 3.  \n",
    "Using map algebra expressions, this code can be reduced as follows:  \n"
   ]
  },
  {
   "cell_type": "code",
   "execution_count": null,
   "metadata": {
    "collapsed": true
   },
   "outputs": [],
   "source": [
    "import arcpy\n",
    "from arcpy.sa import *\n",
    "f1raster = arcpy.Raster(\"C:/raster/factor1\")\n",
    "f2raster = arcpy.Raster(\"C:/raster/factor2\")\n",
    "f3raster = arcpy.Raster(\"C:/raster/factor3\")\n",
    "outraster = ( f1 + f2 + f3 ) / 3\n",
    "outraster.save(\"C:/raster/final\")"
   ]
  },
  {
   "cell_type": "markdown",
   "metadata": {},
   "source": [
    "It looks very much like the Python code used earlier.  \n",
    "In effect, the map algebra operators in the arcpy.sa module allow you to create Raster Calculator-style expressions directly in Python.  \n",
    "You can also call the Raster Calculator tool using the follow ing syntax:  \n"
   ]
  },
  {
   "cell_type": "code",
   "execution_count": null,
   "metadata": {
    "collapsed": true
   },
   "outputs": [],
   "source": [
    "RasterCalculator(expression, output_raster)"
   ]
  },
  {
   "cell_type": "markdown",
   "metadata": {},
   "source": [
    "* **Table 9.1 Map algebra operators**"
   ]
  },
  {
   "cell_type": "markdown",
   "metadata": {},
   "source": [
    "|  Category  | Operator |        Description       | Spatial Analyst tool |\n",
    "|:----------:|:--------:|:------------------------:|:--------------------:|\n",
    "| Arithmetic |     -    | Subtraction              | Minus                |\n",
    "|            |     -    | Unary Minus              | Negate               |\n",
    "|            |     %    | Modulo                   | Mod                  |\n",
    "|            |     *    | Multiplication           | Times                |\n",
    "|            |     /    | Divis ion                | Divide               |\n",
    "|            |    //    | Integer Divis ion        | N/A                  |\n",
    "|            |     +    | Add ition                | Plus                 |\n",
    "|            |     +    | Unary Plus               | N/A                  |\n",
    "|            |    **    | Power                    | Power                |\n",
    "| Bitwise    |    >>    | Bitwise Right Shift      | Bitwise Right Shift  |\n",
    "|            |    <<    | Bitwise Left Shift       | Bitwise Left Shift   |\n",
    "| Boolean    |     ~    | Boolean Complement       | Boolean Not          |\n",
    "|            |     &    | Boolean And              | Boolean And          |\n",
    "|            |     ^    | Boolean Exc lusive Or    | Boolean XOr          |\n",
    "|            |          | Boolean Or               | Boolean Or           |\n",
    "| Relational |     <    | Less Than                | Less Than            |\n",
    "|            |    <=    | Less Than or Equal To    | Less Than Equal      |\n",
    "|            |     >    | Greater Than             | Greater Than         |\n",
    "|            |    >=    | Greater Than or Equal To | Greater Than Equal   |\n",
    "|            |    ==    | Equal To                 | Equal To             |\n",
    "|            |    !=    | Not Equal To             | Not Equal            |"
   ]
  },
  {
   "cell_type": "markdown",
   "metadata": {},
   "source": [
    "A detailed discussion of each operator is beyond the scope of this book, but some observations are in order:  \n",
    "* Most oper ors have an equivalent tool in the Math toolset, but two do not: // (integer division) and + (unary plus).  \n",
    "However, the same tasks can be accomplished using a combination of tools.   \n",
    "* Many of the tools in the Math toolset do not have an equivalent map algebra operator in Python, including commonly used tools such as Abs, Int, Float, Exp10, Log10, and many others.  "
   ]
  },
  {
   "cell_type": "markdown",
   "metadata": {},
   "source": [
    "## 9.7 Using the ApplyEnvironment function "
   ]
  },
  {
   "cell_type": "markdown",
   "metadata": {},
   "source": [
    "In addition to the geoprocessing tools in the Spatial Analyst toolbox, there is one more function: the ApplyEnvironment function.  \n",
    "This function copies an existing raster and applies the current environment settings.  \n",
    "The syntax of the function is:  "
   ]
  },
  {
   "cell_type": "code",
   "execution_count": null,
   "metadata": {
    "collapsed": true
   },
   "outputs": [],
   "source": [
    "ApplyEnvironment(inraster)"
   ]
  },
  {
   "cell_type": "markdown",
   "metadata": {},
   "source": [
    "This function allows you to change things like the extent or the cell size or to apply an analysis mask.  \n",
    "The following code illustrates how the ApplyEnvironment function is used to set a new cell size of 30 and apply an analysis mask based on an existing shape file:  "
   ]
  },
  {
   "cell_type": "code",
   "execution_count": null,
   "metadata": {
    "collapsed": true
   },
   "outputs": [],
   "source": [
    "import arcpy\n",
    "from arcpy import env\n",
    "from arcpy.sa import *\n",
    "elevfeet = arcpy.Raster(\"C:/raster/elevation\")\n",
    "elevmeter = elevfeet * 0.3048\n",
    "env.cellsize = 30\n",
    "env.mask = \"C:/raster/studyarea.shp\"\n",
    "elevrasterclip = ApplyEnvironment(elevmeter)\n",
    "elevrasterclip.save(\"C:/raster/dem30_m\")"
   ]
  },
  {
   "cell_type": "markdown",
   "metadata": {},
   "source": [
    "Not all environment settings apply to the **ApplyEnvironment** function.  \n",
    "They are limited to the following: **Cell Size, Current Workspace, Extent, Mask, Output Coordinate System , Scratch Workspace, and Snap Raster**.  \n",
    "These are the most relevant environment settings when working with rasters. "
   ]
  },
  {
   "cell_type": "markdown",
   "metadata": {},
   "source": [
    "## 9.8 Using classes of the arcpy.sa module"
   ]
  },
  {
   "cell_type": "markdown",
   "metadata": {},
   "source": [
    "![](Ch09/reclassify.PNG)"
   ]
  },
  {
   "cell_type": "markdown",
   "metadata": {
    "collapsed": true
   },
   "source": [
    "The arcpy.sa module also contains a number of classes that are used for deflll ing parameters of raster tools.  \n",
    "Typically, these classes are used as shortcuts for tool parameters that would otherwise require a more compli cated string value.  \n",
    "Consider the example of the Reclassification tool.  \n",
    "With this tool, raster cells are given a n ew value b ased o n a reclassifI cation table.  \n",
    "The tool dialog box in the figure shows an example of a land-use raster b eing reclassified into a number of values as part of a suitability model.  \n"
   ]
  },
  {
   "cell_type": "code",
   "execution_count": null,
   "metadata": {
    "collapsed": true
   },
   "outputs": [],
   "source": [
    "Reclassify(in_raste , reclass_field, remap, {missing_values})"
   ]
  },
  {
   "cell_type": "markdown",
   "metadata": {},
   "source": [
    "Typing all the values of this table would be rather complicated since this table can have many different entries.  \n",
    "Instead, the remap parameter is expressed as a remap object.  \n",
    "There are two different Remap classes, depending on the nature of the reclassification:  \n"
   ]
  },
  {
   "cell_type": "markdown",
   "metadata": {},
   "source": [
    "1. RemapValue - a list of individual input values to be reclassified\n",
    "2. RemapRange - a list identifying ranges of input values to be reclassified"
   ]
  },
  {
   "cell_type": "markdown",
   "metadata": {},
   "source": [
    "The syntax of the RemapValue object is"
   ]
  },
  {
   "cell_type": "code",
   "execution_count": null,
   "metadata": {
    "collapsed": true
   },
   "outputs": [],
   "source": [
    "RemapValue(remapTable)"
   ]
  },
  {
   "cell_type": "markdown",
   "metadata": {},
   "source": [
    "A remapTable object is defined using a Python of lists that each contain old and new values, similar to the reclassification table on the tool dialog box.  \n",
    "The syntax of a remaptable for use in a RemapValue object is.  "
   ]
  },
  {
   "cell_type": "code",
   "execution_count": null,
   "metadata": {
    "collapsed": true
   },
   "outputs": [],
   "source": [
    "[[oldValue1, newValue1], [oldValue2, newValue2], ...]"
   ]
  },
  {
   "cell_type": "markdown",
   "metadata": {},
   "source": [
    "The following code illustrates the use of a remap object to carry out a reclassification of a raster representing land use:"
   ]
  },
  {
   "cell_type": "code",
   "execution_count": null,
   "metadata": {
    "collapsed": true
   },
   "outputs": [],
   "source": [
    "import arcpy  \n",
    "from arcpy import env  \n",
    "from arcpy.sa import *  \n",
    "env.workspace = \"C:/raster\"  \n",
    "myremap = RemapValue([[\"Barren\", 1], [\"Mixed Forest\", 4], [\"Coniferous Forest\", 0], [\"Cropland\", 2], [\"Grassland\", 3], [\"Shrub\", 3], [\"Water\", 0]])  \n",
    "outreclass = Reclassify(\"landuse\", \"S_VALUE\", myremap)  \n",
    "outreclass.save(\"C:/raster/lu_recl\")  "
   ]
  },
  {
   "cell_type": "markdown",
   "metadata": {},
   "source": [
    "The RemapRange object works in a similar manner but uses value ranges rather than individual values.  \n",
    "The syntax of a remap table for use in a RemapRange object is  \n"
   ]
  },
  {
   "cell_type": "markdown",
   "metadata": {},
   "source": [
    "[[startValue, endValue, newValue], ...]"
   ]
  },
  {
   "cell_type": "markdown",
   "metadata": {},
   "source": [
    "The following code illustrates the use of a remap object to carry out a reclassification of a raster of elevation:"
   ]
  },
  {
   "cell_type": "code",
   "execution_count": null,
   "metadata": {
    "collapsed": true
   },
   "outputs": [],
   "source": [
    "import arcpy\n",
    "from arcpy import env\n",
    "from arcpy.sa import *\n",
    "env.workspace(\"C:/raster\")\n",
    "myremap = RemapRange([[1, 1000, 0], [1000, 2000, 1], [2000, 3000, 2], [3000, 4000, 3]])\n",
    "outreclass = Reclassify(\"elevation\", \"TYPE\", myremap)\n",
    "outreclass.save(\"C:/raster/elev_recl\")"
   ]
  },
  {
   "cell_type": "markdown",
   "metadata": {},
   "source": [
    "Notice that the end value of the first range is the same as the start value of the second range, and so on. \n",
    "mThis type of remap table is common when data is continuous, as in the case of a raster of elevation. \n",
    "In addition to the Reclassify tool, remap tables are also used in the Weighted Overlay tool.\n"
   ]
  },
  {
   "cell_type": "markdown",
   "metadata": {},
   "source": [
    "There are many other classes in the arcpy.sa module.  \n",
    "They can be grouped into a number of categories based on logical functionality.  \n",
    "Table 9.2 lists these categories.  "
   ]
  },
  {
   "cell_type": "markdown",
   "metadata": {},
   "source": [
    "* **Table 9.2 Categories of classes in the arcpy.sa module**"
   ]
  },
  {
   "cell_type": "markdown",
   "metadata": {},
   "source": [
    "| Category          | Description                                                          |\n",
    "|-------------------|----------------------------------------------------------------------|\n",
    "| Fuzzy Membership  | Defines the membership function for fuzzy logic analysis             |\n",
    "| Horizontal Factor | Identifies the horizontal factor for the Path Distance tool       |\n",
    "| Kriging Models    | Develops the model for creating surfaces with kriging                |\n",
    "| Neig hborhood     | Defines the input neighborhood for a series of tools                |\n",
    "| Overlay           | Creates input tables for the Weighted Overlay and Weighted Sum tools |\n",
    "| Radius            | Identifies a radius for the IDW and Kriging tools                    |\n",
    "| Remap             | Defines various remap tables used in recl assification               |\n",
    "| Time              | Identifies the time interval to use in the solar radiation tools     |\n",
    "| Topo Input        | Defines the input to the Topo To Raster tool                         |\n",
    "| Vertical Factor   | Identifies the vertical factor for the Path Distance tool            |"
   ]
  },
  {
   "cell_type": "markdown",
   "metadata": {},
   "source": [
    "Among the more widely used classes, in addition to the Remap classes already discussed, are th e Neighborhood classes, which define neighborhoods of different shapes and sizes.  \n",
    "Consider, for example, the Focal Statistics tool.  \n",
    "This tool, as well as oth er tools in the Neighborhood toolbox, requires the definition of a specific neighborhood  \n"
   ]
  },
  {
   "cell_type": "markdown",
   "metadata": {},
   "source": [
    "![](Ch09/focalStats.PNG)"
   ]
  },
  {
   "cell_type": "markdown",
   "metadata": {},
   "source": [
    "The neighborhood settings vary with the type of neighborhood.   \n",
    "For example, for the default rectangular neighborhood, settings include height and width in cell or map units.   \n",
    "However, for the wedge neighborhood, the parameters include start angle and end angle and a radius in cell or map units.  "
   ]
  },
  {
   "cell_type": "markdown",
   "metadata": {},
   "source": [
    "![](Ch09/neighborhood.PNG)"
   ]
  },
  {
   "cell_type": "markdown",
   "metadata": {},
   "source": [
    "Because of the variability of these parameters, neighborhood functions include a neighborhood object.   \n",
    "For example, the syntax of the Focal Statistics tool is as follows:  "
   ]
  },
  {
   "cell_type": "code",
   "execution_count": null,
   "metadata": {
    "collapsed": true
   },
   "outputs": [],
   "source": [
    "FocalStatistics(in_raster, {neighborhood}, {statistics_type}, {ignore_nodata})"
   ]
  },
  {
   "cell_type": "markdown",
   "metadata": {},
   "source": [
    "There are six different neighborhood objects, each with its own unique set of parameters. They are as follows:  \n",
    "      \n",
    "1. **NbrAnnulus** - defines an annulus, or ringlike, neighborhood, which is created by specifying an inner circle's and outer circle's radii in either map units or number of cells.     \n",
    "    \n",
    "2. **NbrCircle** - defines a circular neighborhood, which is created by specifying the radius in either map units or number of cells.    \n",
    "    \n",
    "3. **NbrIrregular** - defines an irregular neighborhood, which is created by a kernel file.  \n",
    "      \n",
    "4. **NbrRectangle** - defines a rectangular neighborhood, which is created by specifying the height and the width in either map units or number of cells.  \n",
    "      \n",
    "5. **NbrWedge** - defines a wedge neighborhood , which is created by specifying a radius and two angles in either map units or number of cells  \n",
    "      \n",
    "6. **NbrWeight** -defi. nes a weight neighborhood, which identifi. es the cell positions to be included w ithin the neighborhood and the weights for multiplying the cell values of the input raster.      "
   ]
  },
  {
   "cell_type": "markdown",
   "metadata": {},
   "source": [
    "For example, the syntax of the NbrRectangle object is"
   ]
  },
  {
   "cell_type": "code",
   "execution_count": null,
   "metadata": {
    "collapsed": true
   },
   "outputs": [],
   "source": [
    "NbrRectangle({width}, {height}, {units})"
   ]
  },
  {
   "cell_type": "markdown",
   "metadata": {},
   "source": [
    "The following code defmes a neighborhood object and uses it in the FocalStatistics function:"
   ]
  },
  {
   "cell_type": "code",
   "execution_count": null,
   "metadata": {
    "collapsed": true
   },
   "outputs": [],
   "source": [
    "import arcpy\n",
    "from arcpy import env\n",
    "from arcpy.sa import *\n",
    "env.workspace = \"C:/raster\"\n",
    "mynbr = NbrRectangle(5, 5, \"CELL\")\n",
    "outraster = FocalStatistics(\"landuse\", mynbr, \"VARIETY\")\n",
    "outraster.save(\"C:/raster/lu_var\")"
   ]
  },
  {
   "cell_type": "markdown",
   "metadata": {},
   "source": [
    "In this example, the output is a raster of land cover based on a rectangular neighborhood of 5 cells by 5 cells."
   ]
  },
  {
   "cell_type": "markdown",
   "metadata": {},
   "source": [
    "## 9.9 Using raster functions to work with NumPy arrays "
   ]
  },
  {
   "cell_type": "markdown",
   "metadata": {
    "collapsed": true
   },
   "source": [
    "Two more raster functions need to be mentioned: NumPyArrayToRaster and RasterToNumPyArray .  \n",
    "These are regular ArcPy functions, not functions of the arcpy.sa module.  \n",
    "These two functions allow for conver sions between rasters and NumPy arrays.  \n",
    "A NumPy array is designed to work with very large arrays.  \n",
    "NumPy itself is a package used for scienti fl c computing with Python.  \n",
    "Among other things, it provides a very powerful n-dimensional array objec t.  \n",
    "This type of object makes it possible to move data between databases.  \n",
    "For example, the SciPy package contains numerous algorithms that may be useful for a particular app lication, such as Fourier transforms, maximum entropy models, and multidimensional image pro cessing.  \n",
    "Rather than trying to build a tool in ArcGlS that carries out these specialized functions, you could write a script tool that converts a raster to a NumPy array, and then calls specialized functions from the SciPy package.  \n",
    "A generic script would look as follows:  "
   ]
  },
  {
   "cell_type": "code",
   "execution_count": null,
   "metadata": {
    "collapsed": true
   },
   "outputs": [],
   "source": [
    "import arcpy, scipy\n",
    "from arcpy.sa import *\n",
    "inRaster = arcpy.Raster(\"C:/raster/myraster\")\n",
    "my_array = RasterToNumPyArray(inRaster)\n",
    "outarray = scipy.<module>.<function>(my_array)\n",
    "outraster = NumPyArrayToRaster(outarray)\n",
    "outraster.save(\"C:/raster/result\")"
   ]
  },
  {
   "cell_type": "markdown",
   "metadata": {},
   "source": [
    "This is a simplified example and references a generic SciPy function, yet it illustrates how NumPy array functions can be used to export data for processing in another environment and to import the result back into an ArcGIS-compatible format - all within the same Python script.   \n",
    "More information on NumPy (Numerical Python) and SciPy (Scientific Library for Python) can be found at http://numpy.scipy.org and http://www.scipy.org respectively.  "
   ]
  },
  {
   "cell_type": "markdown",
   "metadata": {
    "collapsed": true
   },
   "source": [
    "## Points to remember "
   ]
  },
  {
   "cell_type": "markdown",
   "metadata": {},
   "source": [
    "* The ListRasters function is used to list rasters in a workspace.  \n",
    "The Describe function is used to describe raster datasets and raster bands.  \n",
    "Properties of objects returned by the Describe function are dynamic-that is, they depend on the nature of the data type.  \n",
    "* The arcpy.sa module integrates map algebra into the Python envi ronment.  \n",
    "In addition to providing access to all the tools in the Spatial Analyst toolbox, the arcpy.sa module contains a number of map algebra operators, which make scripting with rasters more efficient.  \n",
    "* The arcpy.sa module also contains a number of classes, which are primarily used for defining certain types of parameters of raster tools.  \n",
    "* Conversion functions are available to export a raster to a NumPy array, which makes it possible to use analysis functions from other Python libraries such as SciPy.  "
   ]
  },
  {
   "cell_type": "code",
   "execution_count": null,
   "metadata": {
    "collapsed": true
   },
   "outputs": [],
   "source": []
  }
 ],
 "metadata": {
  "kernelspec": {
   "display_name": "Python 2",
   "language": "python",
   "name": "python2"
  },
  "language_info": {
   "codemirror_mode": {
    "name": "ipython",
    "version": 2
   },
   "file_extension": ".py",
   "mimetype": "text/x-python",
   "name": "python",
   "nbconvert_exporter": "python",
   "pygments_lexer": "ipython2",
   "version": "2.7.2"
  }
 },
 "nbformat": 4,
 "nbformat_minor": 1
}
