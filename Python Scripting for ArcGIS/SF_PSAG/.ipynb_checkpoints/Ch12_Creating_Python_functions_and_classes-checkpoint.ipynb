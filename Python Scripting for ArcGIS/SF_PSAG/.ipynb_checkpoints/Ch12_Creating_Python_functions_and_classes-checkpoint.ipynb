{
 "cells": [
  {
   "cell_type": "markdown",
   "metadata": {},
   "source": [
    "# Chapter 12: Creating Python functions and classes "
   ]
  },
  {
   "cell_type": "markdown",
   "metadata": {},
   "source": [
    "## 12.1 Introduction"
   ]
  },
  {
   "cell_type": "markdown",
   "metadata": {},
   "source": [
    "This chapter describes how to create custom functions in Python that can be called from elsewhere in the script or from another script.  \n",
    "Custom functions make it easy to reduce the code you have written to carry out procedures.  \n",
    "Functions are organized into modules, and modules can be organized into a package.  \n",
    "ArcPy itself is a collection of custom modules and functions organized into a package.  \n",
    "By creating custom functions , you can organize your code into logical parts and reuse frequently needed proce dures.  \n",
    "This chapter also describes h ow to create custom classes in Python , w hich m akes it easier to group together functions and variables   \n"
   ]
  },
  {
   "cell_type": "markdown",
   "metadata": {},
   "source": [
    "## 12.2 Creating functions "
   ]
  },
  {
   "cell_type": "markdown",
   "metadata": {},
   "source": [
    "Functions are small blocks of code that perform a specific task.  \n",
    "Python itself has a great number of built-in functions and the ArcPy site package contains a large number of functions , including all the geoprocessing tools in ArcGIS.  \n",
    "You will use many built-in functions in a typical Python script, and yo u can import additional functionality from other modules, includ ing ArcPy.  \n",
    "Consider the random m odule, for example.  \n",
    "You can import this module for access to a number of different functions.  \n",
    "The fo llow ing code generate a random inteσer between 1 and 100:   \n"
   ]
  },
  {
   "cell_type": "code",
   "execution_count": 1,
   "metadata": {
    "collapsed": false
   },
   "outputs": [
    {
     "name": "stdout",
     "output_type": "stream",
     "text": [
      "97\n"
     ]
    }
   ],
   "source": [
    "import random \n",
    "x = random.randint(1, 100)\n",
    "print x"
   ]
  },
  {
   "cell_type": "markdown",
   "metadata": {},
   "source": [
    "The code to generate a random number has already been written, and this code can now be freely used by anyone who needs it.  \n",
    "The code of the random module can be found in a file called random.py and is located in the Python Lib folder.  \n",
    "In a typical installation of Python 2.7 as part of the ArcGlS 10.1 installation, the path is: C:\\Python27\\ArcGlSl0.l\\Lib\\random.py.  \n",
    "You can open this script in a Python editor like PythonWin and examine the code.  \n",
    "Inside the code, you will find a reference to the randint function, as shown in the figure.  \n",
    "\n"
   ]
  },
  {
   "cell_type": "code",
   "execution_count": null,
   "metadata": {
    "collapsed": true
   },
   "outputs": [],
   "source": [
    "def randint(self, a, b):\n",
    "    return self.randrange(a, b+1)"
   ]
  },
  {
   "cell_type": "markdown",
   "metadata": {},
   "source": [
    "In this example, the randint function calls another function called randrange .  \n",
    "The random module contains a number of different functions and some of them are closely related.  \n",
    "The point here is that the code to generate random numbers has already been written and shared with the Python user community.  \n",
    "So w henever your script needs a random number, you don't have to write the code yourself.  \n",
    "You can import the random module and use any of its functions.  \n",
    "  \n",
    "  "
   ]
  },
  {
   "cell_type": "markdown",
   "metadata": {},
   "source": [
    "In addition to using existing functions, you can create your own functions that can be called from w ithin the same script or from other scripts.  \n",
    "Once you write your own fun ctions, you can reuse them w henever needed.  \n",
    "This makes code more eff1 cient since there is no need to write the same task over and over.  \n",
    "  "
   ]
  },
  {
   "cell_type": "markdown",
   "metadata": {},
   "source": [
    "  \n",
    "Python functions are defined using the def statement, as shown in the figure.  \n",
    "The def statement contains the name of the function, followed by any arguments in parens.  \n",
    "The syntax of the def statement is   "
   ]
  },
  {
   "cell_type": "code",
   "execution_count": null,
   "metadata": {
    "collapsed": true
   },
   "outputs": [],
   "source": [
    "def <functonname>(<arguments>):"
   ]
  },
  {
   "cell_type": "markdown",
   "metadata": {},
   "source": [
    "There is a colon (:) at the end of the statement, and the code following a def statement is indented the same as any block of code.  \n",
    "This indented block of code is the function definition.  \n",
    "For example, consider the script helloworld.py as follows:   \n"
   ]
  },
  {
   "cell_type": "code",
   "execution_count": 2,
   "metadata": {
    "collapsed": true
   },
   "outputs": [],
   "source": [
    "def printmessage():\n",
    "    print \"Hello world\""
   ]
  },
  {
   "cell_type": "markdown",
   "metadata": {},
   "source": [
    "In this example, the function printmessage has no parameters, but most functions use parameters to pass values.  \n",
    "Elsewhere in the same script, you can call this function directly, as follows:"
   ]
  },
  {
   "cell_type": "code",
   "execution_count": 3,
   "metadata": {
    "collapsed": false
   },
   "outputs": [
    {
     "name": "stdout",
     "output_type": "stream",
     "text": [
      "Hello world\n"
     ]
    }
   ],
   "source": [
    "printmessage()"
   ]
  },
  {
   "cell_type": "markdown",
   "metadata": {},
   "source": [
    "Typically, functions are quite a b it more elaborate.  \n",
    "Consider the following example: You want to create a list of the names of all the fields in a table or a feature class.  \n",
    "There is no function in ArcPy that does this.  \n",
    "However, the ListFields function allows you to create a list of the fields in a table, and you can then use a for loop to iterate over the items in the list to get the names of the fields.  \n",
    "The list of names can be stored in a list object.  \n",
    "The code is as follows :   \n"
   ]
  },
  {
   "cell_type": "code",
   "execution_count": null,
   "metadata": {
    "collapsed": true
   },
   "outputs": [],
   "source": [
    "import arcpy\n",
    "arcpy.env.workspace = \"C:/Data\"\n",
    "fields = arcpy.ListFields(\"streams.shp\")\n",
    "namelist = []\n",
    "for field in fields:\n",
    "    namelist.append(field.name)"
   ]
  },
  {
   "cell_type": "markdown",
   "metadata": {},
   "source": [
    "Now, say yo u anticipate that you will be using these lines of code quite often-in the same script or in other scripts.  \n",
    "You can simply copy the lines of code, paste them w here they are needed, and m ake any necessary changes.  \n",
    "For example, it is likely yo u will need to replace the parameter \"streams.shp\" with the feature class or table of interest.  \n",
    "  "
   ]
  },
  {
   "cell_type": "markdown",
   "metadata": {},
   "source": [
    "  \n",
    "Instead of copying and pasting code , yo u can denne a custom function to carry out the same steps.  \n",
    "First, you need to give the function a name - for example, listfieldnames .  \n",
    "The following code dennes the function:   "
   ]
  },
  {
   "cell_type": "code",
   "execution_count": null,
   "metadata": {
    "collapsed": true
   },
   "outputs": [],
   "source": [
    "def listfieldnames():"
   ]
  },
  {
   "cell_type": "markdown",
   "metadata": {},
   "source": [
    "You can now call the function from elsewhere in the script by name.   \n",
    "ln this example, when calling the function, you want to pass a value to the func tion-that the name of a table or a feature class.  \n",
    "To make this possible, the function needs to include a parameter to receive these values.  \n",
    "The parameter needs to be included in the dennition of the function, as follows:    \n"
   ]
  },
  {
   "cell_type": "code",
   "execution_count": null,
   "metadata": {
    "collapsed": true
   },
   "outputs": [],
   "source": [
    "def listfieldnames(table):"
   ]
  },
  {
   "cell_type": "markdown",
   "metadata": {},
   "source": [
    "Following the def statement is an indented block of code that contains w hat the function actually does.  \n",
    "This is identical to the previous lines of code, but now the hard-coded value of the feature class is replaced by the parameter of the function: \n"
   ]
  },
  {
   "cell_type": "code",
   "execution_count": null,
   "metadata": {
    "collapsed": true
   },
   "outputs": [],
   "source": [
    "def listfieldnames(table):\n",
    "    fields = arcpy.ListFields(table)\n",
    "    namelist = []\n",
    "    for field in fields:\n",
    "        namelist.append(field.name)"
   ]
  },
  {
   "cell_type": "markdown",
   "metadata": {},
   "source": [
    "The last thing needed is a way for the function to pass values, also referred to as returning values.  \n",
    "This is necessary to ensure that the function not only creates the list of names, but also returns the list so it can be used by any code that calls the function.  \n",
    "This is accomplished using a return statement.  \n",
    "The completed description of the function is as follows:   \n"
   ]
  },
  {
   "cell_type": "code",
   "execution_count": null,
   "metadata": {
    "collapsed": true
   },
   "outputs": [],
   "source": [
    "def listfieldnames(table):\n",
    "fields = arcpy.ListFields(table)\n",
    "namelist = []\n",
    "for field in fields:\n",
    "    namelist.append(field.name)\n",
    "    return namelist"
   ]
  },
  {
   "cell_type": "markdown",
   "metadata": {},
   "source": [
    "Once a function is dehned, it can be called directly from within the same script, as follows:"
   ]
  },
  {
   "cell_type": "code",
   "execution_count": null,
   "metadata": {
    "collapsed": true
   },
   "outputs": [],
   "source": [
    "fieldnames = listfieldnames (\"C:/Data/hospitals.shp\")"
   ]
  },
  {
   "cell_type": "markdown",
   "metadata": {},
   "source": [
    "Running the code returns a list of the helds in a table using the function previously dehned.  \n",
    "Notice that the new function listfieldnames can be call directly, since it is dehned in the same script.  \n",
    "  \n",
    "  \n",
    "The example function used a parameter called table , which makes it possible to pass a value to the function.  \n",
    "The parameter is also referred to as an argument.  \n",
    "A function can use more than one parameter, and parameters can be made optional.  \n",
    "The arguments for optional parameters should be ordered so that the required ones are listed first, followed by the optional ones.  \n",
    "Arguments can be made optional by specifying default values   \n"
   ]
  },
  {
   "cell_type": "markdown",
   "metadata": {},
   "source": [
    "> Creating functions can be benehcial in a number of ways:  \n",
    "* If a task is to be used many times, creating a function can reduce the amount of code you need to write and manage.  \n",
    "The actual code that carries out the task is written only once as a function, and from that point on, you can call this custom function as needed.  \n",
    "\n",
    "\n",
    "> * Creating functions can reduce the clutter caused by multiple iterations.   For example, if you wanted to create lists of the held names for all the feature classes in all the geodatabases in a list of workspaces, it would quickly create a relatively complicated set of nested for loops. Creating a function for creating a list of field names removes one of these for loops and places it in a separate function.  \n",
    "\n",
    "\n",
    "> * Complex tasks can be broken into smaller steps.  \n",
    "By defining each step as a function, the complex task does not appear so complex anymore. Well-defined functions are a good way to organize longer scrípts.  \n"
   ]
  },
  {
   "cell_type": "markdown",
   "metadata": {},
   "source": [
    "Custom functions can be called not only directly from the same script, but also from other scripts, which is covered in the next section "
   ]
  },
  {
   "cell_type": "markdown",
   "metadata": {},
   "source": [
    "## 12.3 Calling functions from other scripts "
   ]
  },
  {
   "cell_type": "markdown",
   "metadata": {},
   "source": [
    "Once functions are created in a script, they can be called from another script by importing the script that contains the function.  \n",
    "For relatively complex functions, it is worthwhile to consider making them into separate scripts or script tools, especially if they are needed on a regular basis.  \n",
    "\n",
    "So rather than defining a function within a script, the function becomes a script in itself that can be called from other scripts.   \n",
    "\n",
    "Consider the earlier example of the helloworld.py script:   \n"
   ]
  },
  {
   "cell_type": "code",
   "execution_count": null,
   "metadata": {
    "collapsed": true
   },
   "outputs": [],
   "source": [
    "def printmessage():\n",
    "    print \"Hello world\""
   ]
  },
  {
   "cell_type": "markdown",
   "metadata": {},
   "source": [
    "The printmessage function can be called from another script by import ing the helloworld.py script.  \n",
    "For example, the script print.py does it, as follows: \n"
   ]
  },
  {
   "cell_type": "code",
   "execution_count": null,
   "metadata": {
    "collapsed": true
   },
   "outputs": [],
   "source": [
    "import sys\n",
    "import os\n",
    "import helloworld\n",
    "helloworld.printmessage()"
   ]
  },
  {
   "cell_type": "markdown",
   "metadata": {},
   "source": [
    "The script print.py imports the helloworld module.  \n",
    "A module name is equal to the name of the script minus the .py extension.  \n",
    "The func tion is called using the regular syntax to call a function-that is, <module>.<function>   \n",
    "  \n",
    "In the example script, the helloworld module is imported into the print.py script.  \n",
    "Notice that there is no path associated with the module, but just the name itself, which is the name of another script.  \n",
    "So, the import statement causes Python to look for a file named helloworld.py.  \n",
    "No paths can be used in the import statement, and thus it is important to recognize where Python looks for modules.  \n",
    "  \n",
    "  \n",
    "The first place Python looks for modules is the current folder, which is the folder where the print.py script is located.  \n",
    "The current folder can be obtained using the fo Uowing code, where sys .  \n",
    "path is a list of system paths:   \n"
   ]
  },
  {
   "cell_type": "code",
   "execution_count": null,
   "metadata": {
    "collapsed": true
   },
   "outputs": [],
   "source": [
    "import sys\n",
    "pirnt sys.path[0]"
   ]
  },
  {
   "cell_type": "markdown",
   "metadata": {},
   "source": [
    "The current folder can also be obtained using the os module, as follows:"
   ]
  },
  {
   "cell_type": "code",
   "execution_count": null,
   "metadata": {
    "collapsed": true
   },
   "outputs": [],
   "source": [
    "import os\n",
    "print os.getcwd()"
   ]
  },
  {
   "cell_type": "markdown",
   "metadata": {},
   "source": [
    "Next, Python looks at all the other system paths that have been set during the instaUation or subseguent conii.guration of Python itself.  \n",
    "These paths are contained in an environment setti ngs variable caUed PYTHONPATH.  \n",
    "This variable can be set to a list of paths that will be added to the beginning of the sys .  \n",
    "path list.  \n",
    "To view a comple te list of these paths, use the follow ing code:  \n"
   ]
  },
  {
   "cell_type": "code",
   "execution_count": null,
   "metadata": {
    "collapsed": true
   },
   "outputs": [],
   "source": [
    "import sys\n",
    "print sys.path"
   ]
  },
  {
   "cell_type": "markdown",
   "metadata": {},
   "source": [
    "In a typical scenario, the list will include paths to both the Python instal lation and the ArcGIS installation.  \n",
    "The list will include paths like the following:   \n"
   ]
  },
  {
   "cell_type": "code",
   "execution_count": null,
   "metadata": {
    "collapsed": true
   },
   "outputs": [],
   "source": [
    "C:\\Python27\\ArcGIS10.1\n",
    "C:\\Python27\\ArcGIS10.1\\Lib\n",
    "C:\\Python27\\ArcGIS10.1\\Libb\\site-packages\n",
    "C:\\Program Files\\ArcGIS\\Desktop10.1\\bin\n",
    "C:\\Program Files\\ArcGIS\\Desktop10.1\\arcpy\n",
    "C:\\Program Files\\ArcGIS\\Desktop10.1\\ArcToolbox\\Scripts"
   ]
  },
  {
   "cell_type": "markdown",
   "metadata": {},
   "source": [
    "> Note: The list of paths will vary based on how ArcGIS and Python is installed and the versions of the software."
   ]
  },
  {
   "cell_type": "markdown",
   "metadata": {},
   "source": [
    "What if the module yo u want to import is in a different folder-that is, not in the current fo lder of the script or in any of the folders in sys.path?   \n",
    "You have two options, as follows :   \n",
    "  \n",
    "  \n",
    "**1.Use a path configuration file (.pth).**  \n",
    "  \n",
    "  \n",
    "The most convenient way to access a module in a different folder is to add a path configuration file to a fo lder that is already part of sys.path.  \n",
    "It is common to use the site-packages folder-for example, C:\\Python27\\ArcGIS10.1\\lib\\site-packages.  \n",
    "A path configuration file has a .pth extension and contains the path(s) that w ill be appended to sys.path.  \n",
    "This file can be created using a basic text editor, and each line must contain a single path.  \n",
    "When ArcPy is installed as part of the ArcGIS installation, a path configuration file called Desktop10.1 .pth is placed in the site-packages folder of Python.  \n",
    "The file itself looks like the example in the figure.  \n",
    "   \n",
    "  \n"
   ]
  },
  {
   "cell_type": "markdown",
   "metadata": {},
   "source": [
    "The path configuration file makes all the modules located in the specific folders avai lable to Python You can create a .pth file yourself if yo u commonly work with scripts that are located in different folders.  \n",
    "For example, if the modules you want to import are in the folder C: \\Sharedscripts, yo u wo uld create a .pth file and place it in the Python site-packages folder.  \n",
    "The file itself wo uld look like the example in the figure   \n"
   ]
  },
  {
   "cell_type": "markdown",
   "metadata": {},
   "source": [
    "**2. Append the path using code.**  \n",
    "You can also temporarily add a path to your script.  \n",
    "For example, if the scripts yo u w ant to call are in the folder C:\\Sharedscripts, you can use the following code prior to calling the function: sys.path.append(\"C:/Sharedscripts\")  \n",
    "  \n",
    "Note: Because this is Python code, you need to use a fo war d slash (/) for the path The sys.path.  \n",
    "append statement is a temporary solution meant just so a particular script can call a function in another script   \n"
   ]
  },
  {
   "cell_type": "code",
   "execution_count": null,
   "metadata": {
    "collapsed": true
   },
   "outputs": [],
   "source": []
  },
  {
   "cell_type": "markdown",
   "metadata": {},
   "source": [
    "## 12.4 Organizing code into modules "
   ]
  },
  {
   "cell_type": "markdown",
   "metadata": {},
   "source": [
    "By creating a script that defines a custom function, you are turning the script into a module.  \n",
    "All Python script files are, in fact, modules.  \n",
    "That's why you can call the function by first importing the SCI (module), and then using a statement such as ```<module>.<function>```.  \n",
    "Recall the example:     "
   ]
  },
  {
   "cell_type": "code",
   "execution_count": null,
   "metadata": {
    "collapsed": true
   },
   "outputs": [],
   "source": [
    "import random\n",
    "x = random.randint(1, 100)\n",
    "prlnt x"
   ]
  },
  {
   "cell_type": "markdown",
   "metadata": {},
   "source": [
    "  \n",
    "The random module consists of the random.py file and is located in one of the folders that Python automatically recognizes, C:\\Python27\\ArcGIS10.1\\lib.  \n",
    "The random.py script (module) contains a number of functions, including randint.  \n",
    "  \n",
    "  "
   ]
  },
  {
   "cell_type": "markdown",
   "metadata": {},
   "source": [
    "  \n",
    "This makes it easy to create new functions in a script and call them from another script.  \n",
    "However, it also introduces a complication: how do you distinguish between running a script by itself and calling it from another script?    \n",
    "What is needed is a structure that provides control of the execution of the script.  \n",
    "If the script is run by itself, the function is executed If the module is imported into another scribe the function is not executed until it is specifically called.   \n",
    "  "
   ]
  },
  {
   "cell_type": "markdown",
   "metadata": {},
   "source": [
    "Consider the example hello.py script, which contains a function as well as some test code to make sure the function works :   \n",
    "  "
   ]
  },
  {
   "cell_type": "code",
   "execution_count": null,
   "metadata": {
    "collapsed": true
   },
   "outputs": [],
   "source": [
    "def pr ntmessage():\n",
    "    print \"Hello world\"\n",
    "print message()"
   ]
  },
  {
   "cell_type": "markdown",
   "metadata": {},
   "source": [
    "  \n",
    "  \n",
    "This type of testing is reasonable, because when you run the script by itself, it confirms that the function works.  \n",
    "However, when you import this module to use the function, the test code runs, as follows:   \n",
    "  "
   ]
  },
  {
   "cell_type": "code",
   "execution_count": null,
   "metadata": {
    "collapsed": true
   },
   "outputs": [],
   "source": [
    ">>> import hello\n",
    "\"Hello world\""
   ]
  },
  {
   "cell_type": "markdown",
   "metadata": {},
   "source": [
    "  \n",
    "When you import the script file as a module, you don't want the test code to run automatically, but only when you call the specific function.  \n",
    "You want to be able to differentiate between running the script by itself and importing it as a module into another script.  \n",
    "This is where the variable ```__name__``` comes in (there are two underscores on eac h side).  \n",
    "For a script, the variable has the value of \"```__main__```\".  \n",
    "For an imported module, the variab le is set to the name of the module.  \n",
    "Using an if statement in the script that contains the function w ill make it possible to distinguish between a script and a module, as follows:   \n",
    "  "
   ]
  },
  {
   "cell_type": "code",
   "execution_count": null,
   "metadata": {
    "collapsed": true
   },
   "outputs": [],
   "source": [
    "def printmessage():\n",
    "    print 'Hello world'\n",
    "if __name__ == '__main__':\n",
    "    print message()"
   ]
  },
  {
   "cell_type": "markdown",
   "metadata": {},
   "source": [
    "    \n",
    "In this case, the test of the m odule w ill be run only if the script is run by itself.  \n",
    "If you import the script, no code w ill be run until yo u call the function.  \n",
    "  \n",
    "  "
   ]
  },
  {
   "cell_type": "markdown",
   "metadata": {},
   "source": [
    "This structure is not limited to testing.  \n",
    "In some geoprocessing scripts, almost the entire script consists of one function or more, and only the very last lines of code actually call the fun cti on if, indeed, the script is run by itself.  \n",
    "The structure is as follows :   \n",
    "  "
   ]
  },
  {
   "cell_type": "code",
   "execution_count": null,
   "metadata": {
    "collapsed": true
   },
   "outputs": [],
   "source": [
    "import arcpy\n",
    "import os\n",
    "def mycooltool(<arguments>):\n",
    "    <line of code>\n",
    "    <line of code>\n",
    "if __name__ == '__main__':\n",
    "    mycooltool(<arguments>)"
   ]
  },
  {
   "cell_type": "markdown",
   "metadata": {},
   "source": [
    "  \n",
    "This structure provides control of the running of the script and make it possible to use a script in two different ways- running it by itself or calling it from another script.  \n",
    "Consider the earlier examp le of the random module.  \n",
    "The very last lines of code look like the example in the figure.  \n",
    "  \n",
    "  "
   ]
  },
  {
   "cell_type": "markdown",
   "metadata": {},
   "source": [
    "If the random.py script is run by itself, it will run the test function, as shown in the figure.  \n",
    "  "
   ]
  },
  {
   "cell_type": "markdown",
   "metadata": {},
   "source": [
    "  \n",
    "Running the script prod l1 ces output than can be examined to ensure the random function performs as expected.  \n",
    "The output from running the random.py script is as follows:\n",
    "  "
   ]
  },
  {
   "cell_type": "code",
   "execution_count": null,
   "metadata": {
    "collapsed": true
   },
   "outputs": [],
   "source": [
    "2000 times random\n",
    "0.0 sec, avg 0.490386, stddev 0.290 0 92, min 0.000360523, max 0.999743\n",
    "2000 times normalvariate\n",
    "0.015 sec, avg - 0.0379325, stddev 1.01517, min - 3.31413, max 3.54333\n",
    "2000 times lognormvariate\n",
    "0.0 sec, avg 1.55066, stddev 1.96947, min 0.0308862, max 24.7307"
   ]
  },
  {
   "cell_type": "markdown",
   "metadata": {},
   "source": [
    "These results are printed only when the random.py script is run by itself and not when it is imported as a module into another script.  \n",
    "  "
   ]
  },
  {
   "cell_type": "markdown",
   "metadata": {},
   "source": [
    "## 12.5 Using classes "
   ]
  },
  {
   "cell_type": "markdown",
   "metadata": {},
   "source": [
    "In the previous sections, you saw how to create your own functions and organize your code into modules.  \n",
    "This substantially increases code reusability because you can write a section of code and use it many times by calling it from within the same script or from another script.  \n",
    "However, these func tions and modules have their limitations.  \n",
    "The principallimitation is that a function does not store information the way a variable does.  \n",
    "Every time a function is run, it starts from scratch.  \n"
   ]
  },
  {
   "cell_type": "markdown",
   "metadata": {},
   "source": [
    "In some cases, functions and variables are very closely related.  \n",
    "For example, consider a land parcel with a number of variables, such as the land-use type, total assessed value, and total area.  \n",
    "The parcel may also have procedures associated with it, such as how to estimate the property taxes based on land- use type and total assessed value.  \n",
    "These functions require the value of the variables.  \n",
    "These values can be passed to a function as arguments.  \n",
    "What if a function needs to change the variables?  \n",
    "The values could be returned by the function.  \n",
    "However, the passing and returning of vari ables can become quite cumbersome.  \n",
    "  "
   ]
  },
  {
   "cell_type": "markdown",
   "metadata": {},
   "source": [
    "  \n",
    "A better solution is to use a class.  \n",
    "A class provides a way to group together functions and variables that are closely related so they can inter act with each other.  \n",
    "A class also makes it possible to work with multiple objects of the same type.  \n",
    "For example, each land parcel is likely to have the same attributes.  \n",
    "The concept of grouping together functions and variables related to a particular type of data is called object-oriented programming (OOP).  \n",
    "Classes are the container for these related functions and variables.  \n",
    "Classes make it possible to create objects that have specific properties as defined by these functions and variables.  \n",
    "  "
   ]
  },
  {
   "cell_type": "markdown",
   "metadata": {},
   "source": [
    "  \n",
    "You have seen several ArcPy classes, such as the env class, which can be used to access and set environment settings, and the Result class, which defines the properties and methods of result objects that are returned by geoprocessing tools.  \n",
    "Being able to create your own classes in Python, however, opens up many new possibilities.  \n",
    "  \n",
    "  \n",
    "To make a class in Python, you use the keyword class .  \n",
    "Take a look at a simple example:   "
   ]
  },
  {
   "cell_type": "code",
   "execution_count": null,
   "metadata": {
    "collapsed": true
   },
   "outputs": [],
   "source": [
    "class Person(object):\n",
    "    def setname(self, name):\n",
    "        self. name = name\n",
    "    def greeting(self):\n",
    "        print \"My name is (0).\".format(self.name)"
   ]
  },
  {
   "cell_type": "markdown",
   "metadata": {},
   "source": [
    "The class keyword is used to create a Python class called Person .  \n",
    "The class contains two method definitions-these are like function definitions, except that they are written inside a class statement and are therefore referred to as methods.  \n",
    "The se1 f parameter refers to the object itself.  \n",
    "You can call it whatever yo u like, but it is almost always called \"self\" by conventlOn.  \n",
    "  \n",
    "  \n",
    "A class can be thought of as a blueprint.  \n",
    "It describes how to make some- thing and you can create many instances from this blueprint.  \n",
    "Each object created from a class is called an instance of the class.  \n",
    "Creating an instance of a class is sometimes referred to as instantiating the class.  \n",
    "Next, you will see how this class can be used   \n"
   ]
  },
  {
   "cell_type": "code",
   "execution_count": null,
   "metadata": {
    "collapsed": true
   },
   "outputs": [],
   "source": [
    "me = Person()"
   ]
  },
  {
   "cell_type": "markdown",
   "metadata": {},
   "source": [
    "Using an assignment statem ent creates an instance of the Person class.  \n",
    "Creating this instance looks like calling a function.  \n",
    "Once an instance is cre ated, yo u can use the properties and methods of the class, as follows:   \n",
    "  "
   ]
  },
  {
   "cell_type": "code",
   "execution_count": null,
   "metadata": {
    "collapsed": true
   },
   "outputs": [],
   "source": [
    "me.setname(\"Abraham Lincoln\")\n",
    "me.greeting()"
   ]
  },
  {
   "cell_type": "markdown",
   "metadata": {},
   "source": [
    "  \n",
    "Running this code prints the following:  \n",
    "  \n",
    "  "
   ]
  },
  {
   "cell_type": "code",
   "execution_count": null,
   "metadata": {
    "collapsed": true
   },
   "outputs": [],
   "source": [
    "My name is Abraham Lincoln."
   ]
  },
  {
   "cell_type": "markdown",
   "metadata": {},
   "source": [
    "  \n",
    "This examp le is relatively simple, but it illustrates some key concepts.  \n",
    "First, a class can be created using the class keyword.  \n",
    "Second, prop erties of the class are defllled as methods-they look like functions but are called m eth ods w hen they are defined inside a class.  \n",
    "Third, a class can contain multiple properties and methods.  \n",
    "  "
   ]
  },
  {
   "cell_type": "markdown",
   "metadata": {},
   "source": [
    "Now return to the example of a parcel of land.  \n",
    "You want to create a class called parcel that has two properties (land-use typ e and total assessed value ) and a procedure (calculating tax ) associated with it.  \n",
    "For the purpose of this examp le, assume the prop erty tax is calculated as follows :   \n",
    "  \n",
    "  "
   ]
  },
  {
   "cell_type": "markdown",
   "metadata": {},
   "source": [
    "* For single-family residential, tax = 0.05 * value\n",
    "* For multifamily residential, tax = 0.04 * value\n",
    "* For all other land uses, tax = 0 .02 * value"
   ]
  },
  {
   "cell_type": "markdown",
   "metadata": {},
   "source": [
    "Creating the Parcel class is coded as follows:  "
   ]
  },
  {
   "cell_type": "code",
   "execution_count": null,
   "metadata": {
    "collapsed": true
   },
   "outputs": [],
   "source": [
    "class Parcel(object):\n",
    "    def init (self, landuse, value):\n",
    "        self.landuse = landuse\n",
    "        self.value = value\n",
    "    def assessment(self):\n",
    "        if self.landuse == \"SFR\":\n",
    "            rate = 0.05\n",
    "        elif self.landuse == \"MFR\":\n",
    "            rate = 0.04\n",
    "        else:\n",
    "            rate = 0.02\n",
    "        assessment - self.value * rate\n",
    "        return assessment"
   ]
  },
  {
   "cell_type": "markdown",
   "metadata": {},
   "source": [
    "The class called Parcel is created using the class keyword.  \n",
    "The class contains two m e thods: **```__init__```** and assessment.  \n",
    "\n",
    "\n",
    "The **```__init__```** method is a special m ethod reserved for initializing obj ects inside a class-that is, constructing objects before they can be used.  \n",
    "This method has three arguments: **self, landuse, and value**.  \n",
    "When the class is called, however, the hrst argument (self) is not used.  \n",
    "The argument self rep resents the object and is provided for implicitly by calling the class.  \n",
    "The assessment m ethod is w here the actual calculation occurs.  \n",
    "\n",
    "Next, take a look at how to use this class.  \n",
    "The following code create s an instance of the parcel object:   \n",
    "  "
   ]
  },
  {
   "cell_type": "code",
   "execution_count": null,
   "metadata": {
    "collapsed": true
   },
   "outputs": [],
   "source": [
    "myparce1 = Parce1(\"SFR\", 200000)"
   ]
  },
  {
   "cell_type": "markdown",
   "metadata": {},
   "source": [
    "  \n",
    "With the instance created, you can use its object properties and methods, as follows   \n",
    "  \n",
    "  "
   ]
  },
  {
   "cell_type": "code",
   "execution_count": null,
   "metadata": {
    "collapsed": true
   },
   "outputs": [],
   "source": [
    "print \"Land use: \", myparcel.landuse\n",
    "mytax = myparcel.assessment()\n",
    "print mytax"
   ]
  },
  {
   "cell_type": "markdown",
   "metadata": {},
   "source": [
    "Running this code prints:"
   ]
  },
  {
   "cell_type": "code",
   "execution_count": null,
   "metadata": {
    "collapsed": true
   },
   "outputs": [],
   "source": [
    "Land use: SFR\n",
    "10000"
   ]
  },
  {
   "cell_type": "markdown",
   "metadata": {},
   "source": [
    "You can create multiple instances of this object.  \n",
    "In a typical scenario , you could run the property tax calculation for every parcel in a database , creat ing a new instance for each parcel.  \n",
    "\n",
    "\n",
    "In many cases, you m ay want to use the class in more than one script.  \n",
    "This can be accomplished by putting it in a module- that is, creating a sep arate script w ith the definition of the cJass, w hi ch can then be called from another script.  \n",
    "This is analogous to creating a separate script for a function , w hich can be called from other script, as described earlier in this chapter.    \n",
    "\n",
    "\n",
    "In this exampJe, the script containing the class is called parceJclass.py and is as follows:   \n",
    "  \n",
    "   "
   ]
  },
  {
   "cell_type": "code",
   "execution_count": null,
   "metadata": {
    "collapsed": true
   },
   "outputs": [],
   "source": [
    "c1ass Parcel(object):\n",
    "    def init (self, landuse, value):\n",
    "        self.landuse = landuse\n",
    "        self.value = value\n",
    "    def assessment (self):\n",
    "        if self.landuse == \"SFR\":\n",
    "            rate = 0.05\n",
    "        elif self.landuse == \"MFR\":\n",
    "            rate = 0.04\n",
    "        else:\n",
    "            rate = 0.02\n",
    "        assessment = self.value * rate\n",
    "        return assessment"
   ]
  },
  {
   "cell_type": "markdown",
   "metadata": {},
   "source": [
    "In this example, the script that uses the class is called parceltax.py and is as  \n",
    "follows.  "
   ]
  },
  {
   "cell_type": "code",
   "execution_count": null,
   "metadata": {
    "collapsed": true
   },
   "outputs": [],
   "source": [
    "import parcelclass\n",
    "myparcel = parcelclass.parcel(\"SFR\", 200000)\n",
    "print \"Land use: \", myparcel.landuse\n",
    "mytax = myparcel.assessment()\n",
    "print mytax"
   ]
  },
  {
   "cell_type": "markdown",
   "metadata": {},
   "source": [
    "## 12.6 Working with packages "
   ]
  },
  {
   "cell_type": "markdown",
   "metadata": {},
   "source": [
    "When you have a number of different functions and classes, it often makes sense to put them in separate modules (scripts).  \n",
    "As your collection of modules grows, you can consider grouping them into packages.  \n",
    "A package is essentially another type of module, but it can contain other modules as well.  \n",
    "A regular module is stored as a .py file, but a package is a fo1der (or directory).  \n",
    "Technically speaking, a package is a folder with a file called \"```__init__.py```\" init.  \n",
    "This file defines the attributes and methods of the package.  \n",
    "It doesn't actually need to define anything; it can just be an empty file, but it must exist.  \n",
    "If ```__init__.py``` does not exist, the directory is just a directory, and not a package, and it can't be imported.  \n",
    "The ```__init__.py``` file makes it possib1e to import a package as a module.  \n",
    "  \n",
    "  \n",
    "For example, to import ArcPy, you use the import arcpy statement, but there is no script file called \"arcpy.py.  \n",
    "\"However, there is an arcpy fo1der with a file called \"```__init__.py```\".  \n",
    "  \n",
    "  \n",
    "For examp1e, if you had a package you wanted to call \"mytools,\" you wou1d need to have a fo1der called \"mytools\" and inside this folder wou1d need to be a file called \"```__init__.py```\".  \n",
    "The structure of a package called mytools with two modules (analysis and model) would look as follows:   \n"
   ]
  },
  {
   "cell_type": "code",
   "execution_count": null,
   "metadata": {
    "collapsed": true
   },
   "outputs": [],
   "source": [
    "-/Python-a directory in PYTHONPATH\n",
    "-/Python/mytools-a directory for the mytools package\n",
    "-/Python/mytools/in.py-package code\n",
    "-/Python/mytools/analysis.py-analysis modu1e\n",
    "-/Python/mytools/model.py-model modu1e"
   ]
  },
  {
   "cell_type": "markdown",
   "metadata": {},
   "source": [
    "To use the package, your code would look as follows:  \n",
    "  "
   ]
  },
  {
   "cell_type": "code",
   "execution_count": null,
   "metadata": {
    "collapsed": true
   },
   "outputs": [],
   "source": [
    "import mytools  \n",
    "output = mytools.analysis.<function>(<arguments>)  "
   ]
  },
  {
   "cell_type": "markdown",
   "metadata": {},
   "source": [
    "You may wonder what a site package is.  \n",
    "A site package is a locally installed package that is available to all users using that computer.  \n",
    "The \"site\" is the local computer.  \n",
    "What makes a package a site package has to do with how it is installed, and not its actual contents.  \n",
    "During the installation of a site package, the path to the package is added to the PYTHONPATH variable As a result, the package can be directly imported wi thout first having to add the path.  \n",
    " "
   ]
  },
  {
   "cell_type": "markdown",
   "metadata": {},
   "source": [
    " \n",
    "Python has a number of built-in site packages, which can be fo und in the Lib\\site-packages folder.  \n",
    "You will see PythonWin listed there.  \n",
    "Parts of the PythonWin editor are installed as a site package, although the actual application is a file called PythonWin.exe, which is located outside the package.  \n",
    "Anoth er commonly used site package is N umPy, whic h is us ed to manipulate large arrays of data.  "
   ]
  },
  {
   "cell_type": "markdown",
   "metadata": {},
   "source": [
    "![](Ch12/12_1.PNG)"
   ]
  },
  {
   "cell_type": "markdown",
   "metadata": {},
   "source": [
    "ArcPy is referred to as a site package because a typical ArcGIS instal lation includes both ArcPy and Python, and the folder where ArcPy is located is automatically recognized by Python through the Desktop10.1.pth file located in the Lib\\site-packages folder.  \n",
    "Where exactly is ArcPy installed?   \n",
    "\n",
    "Typically the location is C:\\Program Files\\ArcGIS\\Desktop10.1\\arcpy.  \n"
   ]
  },
  {
   "cell_type": "markdown",
   "metadata": {},
   "source": [
    "![](Ch12/12_2.PNG)"
   ]
  },
  {
   "cell_type": "markdown",
   "metadata": {},
   "source": [
    "> Note: Although the preceding path is the default location for the installation of ArcGIS, it can vary depending on the operating system and the user-defined selections during installation.   \n",
    "However, if you can find the ArcGIS installation folder; you will also be able to find the arcpy folder.   "
   ]
  },
  {
   "cell_type": "markdown",
   "metadata": {},
   "source": [
    "When you explore the conten ts of this folder, you will find a subfolder called arcpy (which gives ArcPy its name), as shown in the figure, and w hich contains a file called **```__init__.py```**, which m akes it a Python package, in addition to many files whose names sound familiar (analysis.py, cartography.py, geocoding.py and more).  \n",
    "  \n",
    "  "
   ]
  },
  {
   "cell_type": "markdown",
   "metadata": {},
   "source": [
    "![](Ch12/12_3.PNG)"
   ]
  },
  {
   "cell_type": "markdown",
   "metadata": {},
   "source": [
    "Normally, you should never work with these files directly, but for educational purposes, it is OK to examine them.  \n",
    "Just don't make any changes!    \n",
    "As part of the installation of ArcPy, the path C :\\Program Files\\ArcGIS\\ Desktop10.1\\arcpy is added to the PYTHONPATH environment variable in Windows and you can start using ArcPy immediately.  "
   ]
  },
  {
   "cell_type": "markdown",
   "metadata": {},
   "source": [
    "## Points to remember "
   ]
  },
  {
   "cell_type": "markdown",
   "metadata": {},
   "source": [
    "* Custom functions can be created using the def statement.   \n",
    "The block of code that follows the def statement defmes what the function actually does.   \n",
    "Custom functions can contain arguments, although they are not required.  \n",
    "\n",
    "\n",
    "* Custom functions can be called from within the same script or from another script.   \n",
    "When calling a function from another script, you import the script that contains the function as a module.   \n",
    "A custom module is therefore a regular .py file that contains at least one custom function. \n",
    "\n",
    "\n",
    "* To distinguish between running a script by itself and importing it as a module into another script, you can use the **```if __name__ == '__main__'```** :statement  \n",
    "\n",
    "\n",
    "* When importing modules, you cannot use paths, and modules (scripts) need to be located in the same folder as the script import ing the module(s) or in the folders included in the PYTHONPATH environment variable.  \n",
    "As needed, you can permanently add a path by using a .pth file in the site-packages directory or temporarily add a path in your script using the sys.path.append statement.  \n",
    "\n",
    "\n",
    "* Custom classes can be created to make it easier to group together functions and variab1 es related to a particular item.   \n",
    "Classes can be called from within the same script or from another script.  \n",
    "\n",
    "\n",
    "* As your collection of custom functions and classes grows , yo u can consider making it a package, similar to the ArcPy site package  \n"
   ]
  },
  {
   "cell_type": "code",
   "execution_count": null,
   "metadata": {
    "collapsed": true
   },
   "outputs": [],
   "source": []
  }
 ],
 "metadata": {
  "kernelspec": {
   "display_name": "Python 2",
   "language": "python",
   "name": "python2"
  },
  "language_info": {
   "codemirror_mode": {
    "name": "ipython",
    "version": 2
   },
   "file_extension": ".py",
   "mimetype": "text/x-python",
   "name": "python",
   "nbconvert_exporter": "python",
   "pygments_lexer": "ipython2",
   "version": "2.7.2"
  }
 },
 "nbformat": 4,
 "nbformat_minor": 1
}
