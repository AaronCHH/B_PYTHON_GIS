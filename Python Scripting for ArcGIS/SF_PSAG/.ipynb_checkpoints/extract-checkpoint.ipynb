{
 "cells": [
  {
   "cell_type": "code",
   "execution_count": 13,
   "metadata": {
    "collapsed": false
   },
   "outputs": [
    {
     "name": "stdout",
     "output_type": "stream",
     "text": [
      "./Ch01\\ch01.md\n",
      "./Ch02\\ch02.md\n",
      "./Ch03\\ch03.md\n",
      "./Ch04\\ch04.md\n",
      "./Ch05\\ch05.md\n",
      "./Ch06\\ch06.md\n",
      "./Ch07\\ch07.md\n",
      "./Ch08\\ch08.md\n",
      "./Ch09\\ch09.md\n",
      "./Ch10\\ch10.md\n",
      "./Ch10\\ch10_2.md\n",
      "./Ch11\\ch11.md\n",
      "./Ch12\\ch12.md\n",
      "./Ch13\\ch13.md\n",
      "./Ch14\\ch14.md\n"
     ]
    }
   ],
   "source": [
    "import os, shutil\n",
    "for root, dirs, files in os.walk(\"./\", topdown=False):\n",
    "    for name in files:\n",
    "        if name.endswith(\".md\"):\n",
    "#             print(name)\n",
    "            print(os.path.join(root, name))\n",
    "            shutil.move(os.path.join(root, name), './' + name)"
   ]
  },
  {
   "cell_type": "code",
   "execution_count": null,
   "metadata": {
    "collapsed": true
   },
   "outputs": [],
   "source": []
  }
 ],
 "metadata": {
  "anaconda-cloud": {},
  "kernelspec": {
   "display_name": "Python [default]",
   "language": "python",
   "name": "python3"
  },
  "language_info": {
   "codemirror_mode": {
    "name": "ipython",
    "version": 3
   },
   "file_extension": ".py",
   "mimetype": "text/x-python",
   "name": "python",
   "nbconvert_exporter": "python",
   "pygments_lexer": "ipython3",
   "version": "3.5.2"
  }
 },
 "nbformat": 4,
 "nbformat_minor": 1
}
