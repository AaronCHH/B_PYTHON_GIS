{
 "cells": [
  {
   "cell_type": "markdown",
   "metadata": {},
   "source": [
    "# Chapter 2: Geoprocessing in ArcGIS"
   ]
  },
  {
   "cell_type": "markdown",
   "metadata": {},
   "source": [
    "## 2.1 Introduction"
   ]
  },
  {
   "cell_type": "markdown",
   "metadata": {},
   "source": [
    "## 2.2 What is geoprocessing?"
   ]
  },
  {
   "cell_type": "markdown",
   "metadata": {},
   "source": [
    "## 2.3 A note on ArcObjects"
   ]
  },
  {
   "cell_type": "markdown",
   "metadata": {},
   "source": [
    "## 2.4 Using toolboxes and tools"
   ]
  },
  {
   "cell_type": "markdown",
   "metadata": {},
   "source": [
    "## 2.5 Learning types and categories of tools"
   ]
  },
  {
   "cell_type": "markdown",
   "metadata": {},
   "source": [
    "## 2.6 Running tools using tool dialog boxes"
   ]
  },
  {
   "cell_type": "markdown",
   "metadata": {},
   "source": [
    "## 2.7 Specifying environment settings"
   ]
  },
  {
   "cell_type": "markdown",
   "metadata": {},
   "source": [
    "## 2.8 Using batch processing"
   ]
  },
  {
   "cell_type": "markdown",
   "metadata": {},
   "source": [
    "## 2.9 Using models and Model Builder"
   ]
  },
  {
   "cell_type": "markdown",
   "metadata": {},
   "source": [
    "## 2.10 Using scripting"
   ]
  },
  {
   "cell_type": "markdown",
   "metadata": {},
   "source": [
    "## 2.11 Running scripts as tools"
   ]
  },
  {
   "cell_type": "markdown",
   "metadata": {},
   "source": [
    "## 2.12 Converting a model to a script"
   ]
  },
  {
   "cell_type": "markdown",
   "metadata": {},
   "source": [
    "## 2.13 Scheduling a Python script to run at prescribed times"
   ]
  },
  {
   "cell_type": "markdown",
   "metadata": {},
   "source": [
    "## Points to remember"
   ]
  },
  {
   "cell_type": "markdown",
   "metadata": {},
   "source": [
    "* The geoprocessing framework in ArcGIS provides a powerful yet flexible system for organizing and running tools.  \n",
    "  \n",
    "* ArcGIS has a large number of tools, organized in toolboxes and tool sets within ArcToolbox. The different types of tools include built-in tools, script tools, model tools, and custom tools.  \n",
    "  \n",
    "* A tool is run by specifying tool parameters, including input and output datasets, and other parameters that control how a tool is executed  \n",
    "  \n",
    "* Environment settings also control how tools are executed and can be set at different levels.  \n",
    "  \n",
    "* You can create your own tools using models and scripts. Once you have created your own tools, they work exactly like regular tools.  \n",
    "  \n",
    "* ModelBuilder provides a visual programming language for creating a sequence of geoprocessing tasks. Models act like a flowchart.  \n",
    "  \n",
    "* Python provides a text-based programming language for creating a sequence of geoprocessing tasks. Python code can be run in the Python window directly within ArcGIS. Python scripts (.py files) typically consist of more complex code and can be executed in vari ous ways: directly from within the operating system, using a Python editor like PythonWin, or from a script tool within ArcGIS.  \n",
    "  \n",
    "* Both models and scripts work like tools within the ArcGIS geopro cessing framework. Models can be converted to a script, but scripts cannot be converted to a model. Converting a model to a script is a good way to get started writing scripts in Python.  \n"
   ]
  },
  {
   "cell_type": "code",
   "execution_count": null,
   "metadata": {
    "collapsed": true
   },
   "outputs": [],
   "source": []
  }
 ],
 "metadata": {
  "kernelspec": {
   "display_name": "Python 2",
   "language": "python",
   "name": "python2"
  },
  "language_info": {
   "codemirror_mode": {
    "name": "ipython",
    "version": 2
   },
   "file_extension": ".py",
   "mimetype": "text/x-python",
   "name": "python",
   "nbconvert_exporter": "python",
   "pygments_lexer": "ipython2",
   "version": "2.7.13"
  }
 },
 "nbformat": 4,
 "nbformat_minor": 1
}
