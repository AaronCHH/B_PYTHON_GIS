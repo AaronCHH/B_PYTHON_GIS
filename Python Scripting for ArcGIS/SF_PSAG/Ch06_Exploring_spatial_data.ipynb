{
 "cells": [
  {
   "cell_type": "markdown",
   "metadata": {},
   "source": [
    "# Chapter 6: Exploring spatial data "
   ]
  },
  {
   "cell_type": "markdown",
   "metadata": {},
   "source": [
    "## 6.1 Introduction"
   ]
  },
  {
   "cell_type": "markdown",
   "metadata": {},
   "source": [
    ">This chapter describes several approaches to exploring spatial data, including checking for the existence of datasets and describing datasets in a workspace. \n",
    "\n",
    "> List functions can be used not only to list datasets, but also to list elements such as workspaces, fields, and tables. Lists are common in scripts because they make it possible to iterate over a large number of elements.\n",
    "\n",
    "> The built-in Python functions can be used to manipulate lists. Tuples and dictionaries are also introduced in this chapter as additional data structures."
   ]
  },
  {
   "cell_type": "markdown",
   "metadata": {},
   "source": [
    "## 6.2 Checking for the existence of data "
   ]
  },
  {
   "cell_type": "markdown",
   "metadata": {},
   "source": [
    "* The syntax of the Exists function is\n",
    "```py\n",
    "arcpy.Exists(<dataset>)\n",
    "```"
   ]
  },
  {
   "cell_type": "markdown",
   "metadata": {},
   "source": [
    "* For example, the following code determines whether a particular shapefile exists: \n",
    "```py    \n",
    "import arcpy\n",
    "prlnt = arcpy.Exists(\"C:/Data/streams.shp\")\n",
    "```"
   ]
  },
  {
   "cell_type": "markdown",
   "metadata": {},
   "source": [
    "## 6.3 Describing data"
   ]
  },
  {
   "cell_type": "markdown",
   "metadata": {},
   "source": [
    "* In a Python script, you can use the Describe function to determine the feature type of a dataset before using it in a tool.  \n",
    "The syntax to describe a dataset is as follows:\n",
    "```py\n",
    "import arcpy\n",
    "<variable> = arcpy.Describe(<input dataset>)\n",
    "```"
   ]
  },
  {
   "cell_type": "markdown",
   "metadata": {},
   "source": [
    "* Running the code returns an object that contains the properties of the data set. These properties can be accessed using an ```<object>.<property>``` statement.  \n",
    "For example, the following code describes a shape and then prints the geometry shape type:"
   ]
  },
  {
   "cell_type": "code",
   "execution_count": null,
   "metadata": {
    "collapsed": true
   },
   "outputs": [],
   "source": [
    "import arcpy\n",
    "desc = arcpy.Describe(\"C:/Data/streams.shp\")\n",
    "print desc.shapeType"
   ]
  },
  {
   "cell_type": "markdown",
   "metadata": {},
   "source": [
    "* For example, the following code determines the geometry shape type of the clip features, and the Clip tool is run only if the shape type is polygons:"
   ]
  },
  {
   "cell_type": "code",
   "execution_count": null,
   "metadata": {
    "collapsed": true
   },
   "outputs": [],
   "source": [
    "import arcpy\n",
    "arcpy.env.workspace = \"C:/Data\"\n",
    "infc = \"streams.shp\"\n",
    "clipfc = \"study.shp\"\n",
    "outfc = \"result.shp\"\n",
    "desc = arcpy.Describe(clipfc)\n",
    "type = desc.shapeType\n",
    "if type == \"Polygon\":\n",
    "    arcpy.Clip_analysis(infc, clipfc, outfc)\n",
    "else:\n",
    "    print \"The clip features are not polygons.\"  "
   ]
  },
  {
   "cell_type": "markdown",
   "metadata": {},
   "source": [
    "* The following code describes a shapefile and prints the type of dataset and the name of the spatial reference:"
   ]
  },
  {
   "cell_type": "code",
   "execution_count": null,
   "metadata": {
    "collapsed": true
   },
   "outputs": [],
   "source": [
    "import arcpy\n",
    "fc = \"C:/Data/streams.shp\"\n",
    "desc = arcpy.Describe(fc)\n",
    "sr = desc.spatialReference\n",
    "print \"Dataset type:\" + desc.datasetType\n",
    "print \"Spatial reference:\" + sr.name"
   ]
  },
  {
   "cell_type": "markdown",
   "metadata": {},
   "source": [
    "* For example, the following code determines the dataset type of an element inside a geodatabase "
   ]
  },
  {
   "cell_type": "code",
   "execution_count": null,
   "metadata": {
    "collapsed": true
   },
   "outputs": [],
   "source": [
    "import arcpy\n",
    "element = \"C:/Data/study.gdb final\"\n",
    "desc = arcpy.Describe(element)\n",
    "print \"Dataset type:\" + desc.datasetType"
   ]
  },
  {
   "cell_type": "markdown",
   "metadata": {},
   "source": [
    "* The Describe function also returns a number of properties for Descr objects. It includes such properties as the file path, catalog path, name, file name, and base name. Running the following code prints a number of these different properties:"
   ]
  },
  {
   "cell_type": "code",
   "execution_count": null,
   "metadata": {
    "collapsed": true
   },
   "outputs": [],
   "source": [
    "import arcpy\n",
    "arcpy.env.workspace = \"C:/Data/study.gdb\"\n",
    "element = \"roads\"\n",
    "desc = arcpy.Describe(element)\n",
    "print \" Data type: \" + desc.dataType\n",
    "print \" File path: \" + desc.path\n",
    "print \" Catalog path: \" + desc.catalogPath\n",
    "print \" File name: \" + desc.file\n",
    "print \" Base name: \" + desc.baseName\n",
    "print \" Name: \" + desc.name"
   ]
  },
  {
   "cell_type": "markdown",
   "metadata": {},
   "source": [
    "## 6.4 Listing data "
   ]
  },
  {
   "cell_type": "markdown",
   "metadata": {},
   "source": [
    "> Batch processing is one of the primary reasons for developing geoprocessing scripts. \n",
    "\n",
    "> The ArcPy list functions include ListFields, ListIndexes, ListDatasets, ListFeatureClasses, ListFiles, ListRasters , ListTables, ListWorkspaces and ListVersions.\n",
    "\n",
    "> All functions have a wild card(*), which defines a name filter. This filter is used to list only the elements that meet a particular criterion."
   ]
  },
  {
   "cell_type": "markdown",
   "metadata": {},
   "source": [
    "### ListFeatureClasses"
   ]
  },
  {
   "cell_type": "markdown",
   "metadata": {},
   "source": [
    "* The List FeatureClasses function returns a list of feature classes in the current workspace. The syntax of the function is\n",
    "```py\n",
    "ListFeatureClasses({wild_card}, {feature_type}, {feature_dataset})\n",
    "```"
   ]
  },
  {
   "cell_type": "markdown",
   "metadata": {},
   "source": [
    "* This function has three parameters, all of which are optional. These parame ters make it possible to limit the list by name, feature type, or feature dataset. For example, the following code returns a list of all feature classes in the current workspace:"
   ]
  },
  {
   "cell_type": "code",
   "execution_count": null,
   "metadata": {
    "collapsed": false
   },
   "outputs": [],
   "source": [
    "import arcpy\n",
    "from arcpy import env\n",
    "env.workspace = \"C:/Data\"\n",
    "fclist = arcpy.ListFeatureClasses()"
   ]
  },
  {
   "cell_type": "markdown",
   "metadata": {},
   "source": [
    "* All the list functions return a Python list. To confirm the contents of a list, you can print the values using a statement like the following:\n",
    "```py\n",
    "print fclist\n",
    "```"
   ]
  },
  {
   "cell_type": "markdown",
   "metadata": {},
   "source": [
    "* The wild card can be used to limit the list by name. For example, the following code creates a list of all feature classes in th e current workspace\n",
    "that start with the letter w:\n",
    "```py    \n",
    "fclist = arcpy.ListFeatureClasses(\"w*\")\n",
    "```"
   ]
  },
  {
   "cell_type": "markdown",
   "metadata": {},
   "source": [
    "> Note: Remember that string values preceded by the letter **u** are **Unicode strings**.  \n",
    "Unicode strings work just like regular strings but are more robust when working with different international character sets"
   ]
  },
  {
   "cell_type": "markdown",
   "metadata": {},
   "source": [
    "* The second parameter in the ListFeatureClasses function is the feature type. This parameter can be used to restrict the list to match certain data properties, such as point feature classes only.  \n",
    "For example, the following code creates a list of all the point feature classes in the current workspace:\n",
    "```py\n",
    "fclist = arcpy.ListFeatureClasses(\"\", \"point\")\n",
    "```\n",
    "* Notice the use of an empty string (\"\") for the wild card. Parameters have to be entered in the order defined by the syntax and cannot be skipped unless you specifically refer to them by name. Using \" *\" would give the same result, in this case.  \n",
    "* Valid feature types include **annotation, arc, dimension, edge, junction, label, line, multipatch, node, point, polygon, polyline, region, route, and tic**.\n"
   ]
  },
  {
   "cell_type": "markdown",
   "metadata": {},
   "source": [
    "### ListRasters"
   ]
  },
  {
   "cell_type": "markdown",
   "metadata": {},
   "source": [
    "* To create a list of raster datasets in the current workspace, you can use the ListRasters function. The syntax is very similar to the **ListFeatureClasses** function:\n",
    "```py\n",
    "ListRasters( {wild_card}, {raster_type} )\n",
    "```"
   ]
  },
  {
   "cell_type": "markdown",
   "metadata": {},
   "source": [
    "* The two parameters are optional and allow you to restrict the list by name or type. The following code creates a list of all raster datasets in the current workspace:"
   ]
  },
  {
   "cell_type": "code",
   "execution_count": null,
   "metadata": {
    "collapsed": true
   },
   "outputs": [],
   "source": [
    "import arcpy\n",
    "from arcpy import env\n",
    "env.workspace = \"C:/Data\"\n",
    "rasterlist = arcpy.ListRasters()"
   ]
  },
  {
   "cell_type": "markdown",
   "metadata": {},
   "source": [
    "* To restrict the list to all rasters that are TIFF images, you can specify the raster type parameter as follows:"
   ]
  },
  {
   "cell_type": "code",
   "execution_count": null,
   "metadata": {
    "collapsed": true
   },
   "outputs": [],
   "source": [
    "rasterlist = arcpy.ListRasters(\"\", \"tif\")"
   ]
  },
  {
   "cell_type": "markdown",
   "metadata": {},
   "source": [
    "A complete list of supported raster data types can be found in ArcGIS Desktop Help. The raster type parameter should be specified as the file extension, not the generic name of the format.  \n",
    "For exampl e, a TIFF file has the file extension .tif, so tif is the correct syntax. Similarly, a JPEG file has the file extension .jpg, so jpg is the correct syntax.  \n",
    "The syntax for raster data types is not case sensitive, so both TIF and tif are correct.  \n",
    "Also note that the Esri GRID format does not have a file extension and the proper syntax for this format is GRID (also not case sensitive)."
   ]
  },
  {
   "cell_type": "markdown",
   "metadata": {},
   "source": [
    "### ListFields"
   ]
  },
  {
   "cell_type": "markdown",
   "metadata": {},
   "source": [
    "* Another list function is ListFields. This function lists the fields in a feature class or table in a specified dataset.  \n",
    "The syntax is\n",
    "```py\n",
    "ListFields(dataset , {wild card} , {field type})\n",
    "```\n"
   ]
  },
  {
   "cell_type": "markdown",
   "metadata": {},
   "source": [
    "* The **ListFields** function has three parameters-name, field type, and dataset-of which the dataset is required. The dataset is the specified features class or table whose fields will be returned as values in a list. For example, the fo llowing code creates a list of all the fields in a shapefile:"
   ]
  },
  {
   "cell_type": "code",
   "execution_count": null,
   "metadata": {
    "collapsed": true
   },
   "outputs": [],
   "source": [
    "import arcpy\n",
    "from arcpy import env\n",
    "env.workspace = \"C:/Data\"\n",
    "fieldlist = arcpy.ListFields(\"roads.shp\")"
   ]
  },
  {
   "cell_type": "markdown",
   "metadata": {},
   "source": [
    "* The two optional parameters allow you to restrict the list by name or field type. The following code creates a list of all the fields in a shapefile that are integers:\n",
    "```py\n",
    "fieldlist = arcpy.ListFields(\"roads.shp\", \"\", \"Integer\")\n",
    "```"
   ]
  },
  {
   "cell_type": "markdown",
   "metadata": {},
   "source": [
    "* Valid field types include All, **BLOB (binary large object) , Date, Double, Geometry, GUID (globally unique identifier) , Integer, OID (object identifier), Raster, Single, SmallInteger, and String**.  "
   ]
  },
  {
   "cell_type": "markdown",
   "metadata": {},
   "source": [
    "* Field types are strings and are **not** case sensltive"
   ]
  },
  {
   "cell_type": "markdown",
   "metadata": {},
   "source": [
    "* The ListFields function returns a list of field objects. By contrast, most of the other list functions return a list of strings. Field object properties include the **field name, alias, type, and length**. For example, the following script creates a list of fields of type String and determines for each text field what the length of the field is:"
   ]
  },
  {
   "cell_type": "code",
   "execution_count": null,
   "metadata": {
    "collapsed": true
   },
   "outputs": [],
   "source": [
    "import arcpy\n",
    "from arcpy import env\n",
    "env.workspace = \"C:/Data\"\n",
    "fieldlist = arcpy.ListFields(\"roads.shp\", \"\", \"String\")\n",
    "for field in fieldlist:\n",
    "    print field.name + \" \" + str(field.length)"
   ]
  },
  {
   "cell_type": "markdown",
   "metadata": {},
   "source": [
    "* The length property returns an integer and is converted to a string for printing purposes."
   ]
  },
  {
   "cell_type": "markdown",
   "metadata": {},
   "source": [
    "## 6.5 Using lists in for loops"
   ]
  },
  {
   "cell_type": "markdown",
   "metadata": {},
   "source": [
    "Once you have the list of desired values, you can use the list for batch processing. This is most commonly accomplished using a for loop . A for loop can be used to iterate over the list, one element at a time, and when there are no values left to be iterated, the loop is finished. For example, consider using a for loop with raster data. The code is as follows:"
   ]
  },
  {
   "cell_type": "code",
   "execution_count": null,
   "metadata": {
    "collapsed": true
   },
   "outputs": [],
   "source": [
    "import arcpy\n",
    "from arcpy import env\n",
    "env.workspace = \"C:/Data\"\n",
    "tifflist = arcpy.ListRasters(\"\", \"TIF\")\n",
    "for tiff in tifflist:\n",
    "    arcpy.BuildPyramids_management(tiff)"
   ]
  },
  {
   "cell_type": "markdown",
   "metadata": {},
   "source": [
    "In this example, the ListRasters function is used to create a list of TIFF files.  \n",
    "The for loop iterates over each element in the list and builds pyramids for each.  \n",
    "This becomes quite powerful because it can automate rather tedious tasks.  \n",
    "For example, building pyramids for hundreds of rasters could become quite time consuming.  \n",
    "The few lines of Python code used here carry out this task and the code is the same whether there are only a few raster datasets or several hundreds."
   ]
  },
  {
   "cell_type": "markdown",
   "metadata": {},
   "source": [
    "---"
   ]
  },
  {
   "cell_type": "markdown",
   "metadata": {},
   "source": [
    "Iteration using a for loop can also be used in combination with the ListFields function to provide a detailed description of the fields and their properties.  \n",
    "The following code creates a list of fields in a single shapefile, and then prints the name, type, and length of each field:"
   ]
  },
  {
   "cell_type": "code",
   "execution_count": null,
   "metadata": {
    "collapsed": true
   },
   "outputs": [],
   "source": [
    "import arcpy\n",
    "from arcpy mport env\n",
    "env.workspace = \"C:/Data\"\n",
    "fieldlist = arcpy.ListFields(\"roads.shp\")\n",
    "for field in fieldlist :\n",
    "    print \"{0} is a type of {1} with a length of {2}\".format(field.name, field.type, field.length)"
   ]
  },
  {
   "cell_type": "markdown",
   "metadata": {},
   "source": [
    "## 6.6 Working with lists "
   ]
  },
  {
   "cell_type": "markdown",
   "metadata": {},
   "source": [
    "Lists are a versatile Python type and can be manipulated in many different ways.  \n",
    "So although a list of feature classes, fields, or rasters is created using an ArcPy function, the list can be manipulated in Python using the functions and methods of a Python list.  \n",
    "Following are a few examples.  \n",
    "The number of feature classes in a workspace can be determined using the built-in Python len function. The code is as follows:  "
   ]
  },
  {
   "cell_type": "code",
   "execution_count": null,
   "metadata": {
    "collapsed": true
   },
   "outputs": [],
   "source": [
    "import arcpy\n",
    "from arcpy import env\n",
    "env.workspace = \"C:/Data/study.gdb\"\n",
    "fcs = arcpy.ListFeatureClasses()\n",
    "print len(fcs)"
   ]
  },
  {
   "cell_type": "markdown",
   "metadata": {},
   "source": [
    "**Lists can be sorted using the sort method**. The default sorting is in alphanumerical order, but it can be reversed using the reverse argument of the sort method. The following code creates a list of feature classes, sorts them alphanumerically, and prints their names. The sorting is then reversed and the names are printed again. The code is as follows:"
   ]
  },
  {
   "cell_type": "code",
   "execution_count": null,
   "metadata": {
    "collapsed": true
   },
   "outputs": [],
   "source": [
    "import arcpy\n",
    "from arcpy import env\n",
    "env.workspace = \"C:/Data/study.gdb\"\n",
    "fcs = arcpy.ListFeatureClasses()\n",
    "fcs.sort()\n",
    "print fcs\n",
    "fcs.sort(reverse = True)\n",
    "print fcs"
   ]
  },
  {
   "cell_type": "markdown",
   "metadata": {},
   "source": [
    "> Working with lists is covered in more detail in chapter 4, including the use of indexing, slicing, and list methods. All of it can be used when working with lists of **feature classes, tables, fields, rasters**, or other spatial data types."
   ]
  },
  {
   "cell_type": "markdown",
   "metadata": {},
   "source": [
    "## 6.7 Working with tuples"
   ]
  },
  {
   "cell_type": "markdown",
   "metadata": {},
   "source": [
    "Lists are common in Python, and you will often use lists when writing geo processing scripts, including lists of map documents, layers, feature classes, fields, and more. Lists are quite versatile since you can modify them in many ways, as discussed in the previous section.\n",
    "\n",
    "**Sometimes, however, you may want to use a list without allowing its elements to be modified.** That is where tuples come in. Tuples are sequences of elements, just like lists, but tuples are immutable, meaning they cannot be changed. The syntax of a tuple is simple-separate a set of values with commas (, ), and you have a tuple. For example, the following code returns a tuple with five elements:\n",
    "```py\n",
    ">>> 1 , 2 , 3 , 4 , 5\n",
    "```"
   ]
  },
  {
   "cell_type": "markdown",
   "metadata": {},
   "source": [
    "How to get a tuple with only one element? Add a comma (,), even though there is no element following the comma:  \n",
    "```py\n",
    ">>> 6,\n",
    "```"
   ]
  },
  {
   "cell_type": "markdown",
   "metadata": {},
   "source": [
    "Working with tuples is similar to working with lists. Elements in the tuple have an index value, which can be used to obtain specific elements of the tuple. For example:  \n",
    "```py\n",
    ">>> x = (\"a\", \"b\" ,\"c\")\n",
    ">>> x[0]\n",
    "```"
   ]
  },
  {
   "cell_type": "markdown",
   "metadata": {},
   "source": [
    "However, the sequence of elements cannot be modified. **So list operations such as deleting, appending, removing, and others are not supported by tuples**. The only methods that work on tuples are count and index because these methods do not modify the sequence of elements. Other operations can be applied but return a different tuple. Running the follow ing code slices a tuple and returns a different tuple:"
   ]
  },
  {
   "cell_type": "code",
   "execution_count": null,
   "metadata": {
    "collapsed": false
   },
   "outputs": [],
   "source": [
    ">>> x (\"a\", \"b\", \"c\", \"d\", \"e\", \"f\", \"g\")\n",
    ">>> x[2:5]"
   ]
  },
  {
   "cell_type": "markdown",
   "metadata": {},
   "source": [
    "> Notice that the slicing operation returns another tuple , not a list. You can not modify the elements of a tuple, unlike the elements of a list."
   ]
  },
  {
   "cell_type": "markdown",
   "metadata": {},
   "source": [
    "If you cannot modify a tuple, why are tuples important? First, some built-in Python functions and modules return tuples-in which case, you have to deal with them. Second, tuples are often used in dictionaries, which are covered next."
   ]
  },
  {
   "cell_type": "markdown",
   "metadata": {},
   "source": [
    "> TIP: In general, if you are using a set of values that won't be modified, use a tuple instead of a list."
   ]
  },
  {
   "cell_type": "markdown",
   "metadata": {},
   "source": [
    "## 6.8 Working with dictionaries "
   ]
  },
  {
   "cell_type": "markdown",
   "metadata": {},
   "source": [
    "Lists and tuples are useful for gro uping elements into a structure, and the elements can be referred to by their index number, starting with zero (0) Working with index numbers works fine, but it has its limitations. Consider the example of the following list of cities:\n",
    "```py\n",
    "cities = [\"Austin\", \"Baltimore\", \"Cleveland\", \"Denver\"]\n",
    "```"
   ]
  },
  {
   "cell_type": "markdown",
   "metadata": {},
   "source": [
    "Suppose you want to have a database that contains the state for each city.\n",
    "You can do this by creating a list as follows:\n",
    "```py\n",
    "states = [\"Texas\", \"Maryland\", \"Ohio\", \"Colorado\"]\n",
    "```"
   ]
  },
  {
   "cell_type": "markdown",
   "metadata": {},
   "source": [
    "Because the index numbers correspond, you can access elements from one list by using the index number from the other list. For example, to get the state for Cleveland, you can use the following code:\n",
    "```py\n",
    ">>> states[cities.index(\"Cleveland\")]\n",
    "```"
   ]
  },
  {
   "cell_type": "markdown",
   "metadata": {},
   "source": [
    "This process is useful but cumbersome. Imagine lists that have a large number of elements. In addition, some states will have more than one city. Making only a minor edit to one of the lists could disrupt the entire sequence. You can use tuples to ensure no changes are made to the sequence, but that also has its limitations. What you really need is a lookup table that would work as follows:\n",
    "```py\n",
    ">>> statelookup[\"Cleveland\"]\n",
    "```"
   ]
  },
  {
   "cell_type": "markdown",
   "metadata": {},
   "source": [
    "A lookup table is commonly used to display information from one table based on a corresponding value in another table. A Table Join operation in ArcGIS is an example of using a lookup table. In Python , one way to implement a lookup table is to use a dictionary. Dictionaries consist of pairs of keys and their corresponding values. Pairs are also referred to as the items of the dictionary. A dictionary item consists of a key, followed by a colon (:), and then the corresponding value. Items are separated by a comma (,). The dictionary itself is surrounded by curly brackets({})."
   ]
  },
  {
   "cell_type": "markdown",
   "metadata": {},
   "source": [
    "The dictiona for the preceding examp le would look as follows:\n",
    "```py\n",
    ">>> statelookup = {\"Austin\":\"Texas\", \"Baltimore\":\"Maryland\", \"Cleveland\":\"Ohio\", \"Denver\":\"Colorado\"}\n",
    "```\n",
    "You can now use this dictionary to look up the state for each city:\n",
    "```py\n",
    ">>> statelookup[\"Cleveland\"]\n",
    "```\n",
    "The result is 'Ohio'."
   ]
  },
  {
   "cell_type": "markdown",
   "metadata": {},
   "source": [
    "**The order in which the items were created in the dictionary does not matter.** The dictionary can be modified, and as long as the pairs of keys and their corresponding values are intact, the dictionary will continue to func tion. Keep in mind when creating the dictionary that the keys have to be unique, but the values do not."
   ]
  },
  {
   "cell_type": "markdown",
   "metadata": {},
   "source": [
    "---"
   ]
  },
  {
   "cell_type": "markdown",
   "metadata": {},
   "source": [
    "Dictionaries can be created and populated at the same time, as in the preceding statelookup example. You can also create an empty dictionary first using only curly brackets ({}), and then add items to it. Here is the code to create a new empty dictionary:\n",
    "```py\n",
    ">>> zoning = {}\n",
    "```"
   ]
  },
  {
   "cell_type": "markdown",
   "metadata": {},
   "source": [
    "Items can be added using square brackets ({}) and an assignment statement as follows:\n",
    "```py\n",
    ">>> zoning[\"RES\"] = \"Residential\"\n",
    "```"
   ]
  },
  {
   "cell_type": "markdown",
   "metadata": {},
   "source": [
    "You can continue to add items to the dictionary. Elements are sorted in\n",
    "alphanumerical order based on the key. The code is as follows:\n",
    "```py\n",
    ">>> zoning[\"IND\"] = \"Industry\"\n",
    ">>> zoning[\"WAT\"] = \"Water\"\n",
    ">>> print zoning\n",
    "```"
   ]
  },
  {
   "cell_type": "markdown",
   "metadata": {},
   "source": [
    "Items can be modified using the same syntax. Setting the value using a key that is already in use overwrites the existing value. The code is as follows:\n",
    "```py\n",
    ">>> zoning[\"IND\"] = \"Industrial\"\n",
    ">>> print zoning\n",
    "```"
   ]
  },
  {
   "cell_type": "markdown",
   "metadata": {},
   "source": [
    "Items can be deleted using square brackets ([]) and the keyword del as follows:\n",
    "```py\n",
    ">>> del zoning[\"WAT\"]\n",
    ">>> print zoning\n",
    "```"
   ]
  },
  {
   "cell_type": "markdown",
   "metadata": {},
   "source": [
    "There are several dictionary methods. The keys method returns a list of all the keys in the dictionary, follows:\n",
    "```py\n",
    ">>> zoning.keys()\n",
    "```"
   ]
  },
  {
   "cell_type": "markdown",
   "metadata": {},
   "source": [
    "The values method returns a list of all the values in the dictionary, as follows:\n",
    "```py\n",
    ">>> zoning.values( )\n",
    "```"
   ]
  },
  {
   "cell_type": "markdown",
   "metadata": {},
   "source": [
    "The items method returns a list of all items in the dictionary-that is, all key-value pairs, as follows:\n",
    "```py\n",
    ">>> zoning.items()\n",
    "```"
   ]
  },
  {
   "cell_type": "markdown",
   "metadata": {},
   "source": [
    "Dictionaries are not common in ArcPy, but there is one function that uses them: GetInstallInfo. This function returns a Python dictionary that contains the information on the installation type properties. The general syntax of the Getln s talllnfo function is:\n",
    "```py\n",
    "Getlnstalllnfo(Install_name)\n",
    "```"
   ]
  },
  {
   "cell_type": "markdown",
   "metadata": {},
   "source": [
    "For example, the following code returns the installation information for the product being used in Python:"
   ]
  },
  {
   "cell_type": "code",
   "execution_count": 29,
   "metadata": {
    "collapsed": false,
    "scrolled": true
   },
   "outputs": [
    {
     "name": "stdout",
     "output_type": "stream",
     "text": [
      "SourceDir:G:\\Desktop\\\n",
      "InstallDate:9/11/2016\n",
      "InstallDir:c:\\program files (x86)\\arcgis\\desktop10.1\\\n",
      "ProductName:Desktop\n",
      "BuildNumber:3143\n",
      "InstallType:N/A\n",
      "Version:10.1\n",
      "SPNumber:1\n",
      "Installer:AaronHsu\n",
      "SPBuild:10.1.1.3143\n",
      "InstallTime:13:24:39\n"
     ]
    }
   ],
   "source": [
    "import arcpy\n",
    "install = arcpy.GetInstallInfo()\n",
    "for key in install:\n",
    "    print \"{0}:{1}\".format(key, install[key])"
   ]
  },
  {
   "cell_type": "markdown",
   "metadata": {},
   "source": [
    "## Points to remember "
   ]
  },
  {
   "cell_type": "markdown",
   "metadata": {},
   "source": [
    "* The Exists function can be used to determine whether a particular dataset exists. The Descrbe function can be used to describe the properties of a dataset. These functions are commonly used to ensure that inputs for a script conform to expectations.  \n",
    "  \n",
    "  \n",
    "* List functions are used to facilitate batch processing. Once a list of elements is created, a script can be design ed to iterate over all the elements in the list. For example, the ListFeatureClasses function can be used to create a list of all feature classes in a workspace, and a for loop can be used to iterate over all the elements in the list to perform the same operation on each feature class. List functions exist for different types of elements, including workspaces, files, datasets , feature classes, fields, rasters, tables , and others. Lists are very common ìn scripts.  \n",
    "\n",
    "  \n",
    "* Tuples and dictionaries are important data structures in Python. A tuple is a sequence of elements, just like a list, but the elements of a tuple cannot be changed. A dictionary consists of pairs of keys and their corresponding values. Dictionaries work the same way as lookup tables."
   ]
  },
  {
   "cell_type": "code",
   "execution_count": null,
   "metadata": {
    "collapsed": true
   },
   "outputs": [],
   "source": []
  }
 ],
 "metadata": {
  "kernelspec": {
   "display_name": "Python 2",
   "language": "python",
   "name": "python2"
  },
  "language_info": {
   "codemirror_mode": {
    "name": "ipython",
    "version": 2
   },
   "file_extension": ".py",
   "mimetype": "text/x-python",
   "name": "python",
   "nbconvert_exporter": "python",
   "pygments_lexer": "ipython2",
   "version": "2.7.13"
  }
 },
 "nbformat": 4,
 "nbformat_minor": 1
}
