{
 "cells": [
  {
   "cell_type": "markdown",
   "metadata": {},
   "source": [
    "# Chapter 5: Geoprocessing using Python "
   ]
  },
  {
   "cell_type": "markdown",
   "metadata": {},
   "source": [
    "## 5.1 Introduction"
   ]
  },
  {
   "cell_type": "markdown",
   "metadata": {},
   "source": [
    "## 5.2 Using the ArcPy site package"
   ]
  },
  {
   "cell_type": "markdown",
   "metadata": {},
   "source": [
    "## 5.3 Importing ArcPy"
   ]
  },
  {
   "cell_type": "code",
   "execution_count": null,
   "metadata": {
    "collapsed": true
   },
   "outputs": [],
   "source": [
    "import arcpy"
   ]
  },
  {
   "cell_type": "code",
   "execution_count": null,
   "metadata": {
    "collapsed": true
   },
   "outputs": [],
   "source": [
    "import arcpy.mapping"
   ]
  },
  {
   "cell_type": "code",
   "execution_count": null,
   "metadata": {
    "collapsed": true
   },
   "outputs": [],
   "source": [
    "import arcpy\n",
    "arcpy.env.workspace = \"C:/Data\""
   ]
  },
  {
   "cell_type": "code",
   "execution_count": null,
   "metadata": {
    "collapsed": true
   },
   "outputs": [],
   "source": [
    "arcpy.<class>.<property>"
   ]
  },
  {
   "cell_type": "code",
   "execution_count": null,
   "metadata": {
    "collapsed": true
   },
   "outputs": [],
   "source": [
    "from arcpy import env\n",
    "env.workspace = \"C:/Data\""
   ]
  },
  {
   "cell_type": "code",
   "execution_count": null,
   "metadata": {
    "collapsed": true
   },
   "outputs": [],
   "source": [
    "from arcpy import env as myenv\n",
    "myenv.workspace = \"C:/Data\""
   ]
  },
  {
   "cell_type": "code",
   "execution_count": null,
   "metadata": {
    "collapsed": true
   },
   "outputs": [],
   "source": [
    "from arcpy import env as *\n",
    "workspace = \"C:/Data\""
   ]
  },
  {
   "cell_type": "markdown",
   "metadata": {},
   "source": [
    "## 5.4 Working with earlier versions of ArcGIS"
   ]
  },
  {
   "cell_type": "code",
   "execution_count": null,
   "metadata": {
    "collapsed": true
   },
   "outputs": [],
   "source": [
    "import ArcGISscripting\n",
    "gp = ArcGISscripting.create(9.3)"
   ]
  },
  {
   "cell_type": "code",
   "execution_count": null,
   "metadata": {
    "collapsed": true
   },
   "outputs": [],
   "source": [
    "import ArcGISscripting\n",
    "gp = ArcGISscripting.create()"
   ]
  },
  {
   "cell_type": "code",
   "execution_count": null,
   "metadata": {
    "collapsed": true
   },
   "outputs": [],
   "source": [
    "import win32com.client\n",
    "gp = win32com.client.Dispatch(\"esriGeoprocessing.GpDispatch.1\")"
   ]
  },
  {
   "cell_type": "code",
   "execution_count": null,
   "metadata": {
    "collapsed": true
   },
   "outputs": [],
   "source": [
    "gp.workspace = \"C:/Data\""
   ]
  },
  {
   "cell_type": "markdown",
   "metadata": {},
   "source": [
    "## 5.5 Using tools "
   ]
  },
  {
   "cell_type": "markdown",
   "metadata": {},
   "source": [
    "```\n",
    "arcpy.<toolname_toolboxalias>(<parameters>)\n",
    "```"
   ]
  },
  {
   "cell_type": "code",
   "execution_count": null,
   "metadata": {
    "collapsed": true
   },
   "outputs": [],
   "source": [
    "# For example, the following code runs the Clip tool:\n",
    "import arcpy\n",
    "arcpy.env.workspace = \"C:/Data\"\n",
    "arcpy.Clip_analysis(\"streams.shp\", \"study.shp\", \"result.shp\")"
   ]
  },
  {
   "cell_type": "markdown",
   "metadata": {},
   "source": [
    "```\n",
    "arcpy.<toolboxalias>.<toolname>(<parameters>)\n",
    "```"
   ]
  },
  {
   "cell_type": "code",
   "execution_count": null,
   "metadata": {
    "collapsed": true
   },
   "outputs": [],
   "source": [
    "# Here is what the example looks like for running the Clip tool:\n",
    "import arcpy\n",
    "arcpy.env.workspace = \"C:/Data\"\n",
    "arcpy.analysis.Clip(\"streams.shp\", \"study.shp\", \"result.shp\")"
   ]
  },
  {
   "cell_type": "markdown",
   "metadata": {},
   "source": [
    "* The Clip tool has four parameters, with the last one (cluster_tolerance) being optional. \n",
    "The syntax of the Clip tool is\n",
    "```\n",
    "Clip_analysls(in_features, clip features, out_feature_class, {cluster tolerance})\n",
    "```"
   ]
  },
  {
   "cell_type": "markdown",
   "metadata": {},
   "source": [
    "* Consider, for example, the syntax of the Buffer tool:\n",
    "```\n",
    "Buffer_ana1ysis(in_features, out_feature_class, buffer_distance_or_field,\n",
    "                {line_side}, {line_end_type} , {dissolve_option}, {dissolve_fie1d})\n",
    "```"
   ]
  },
  {
   "cell_type": "markdown",
   "metadata": {},
   "source": [
    "* A code example of the Buffer tool is as follows: "
   ]
  },
  {
   "cell_type": "code",
   "execution_count": null,
   "metadata": {
    "collapsed": true
   },
   "outputs": [],
   "source": [
    "import arcpy\n",
    "arcpy.env.workspace = \"C:/Data/study.gdb\"\n",
    "arcpy.Buffer_analysis(\"roads\", \"buffer\", \"100 METERS\")"
   ]
  },
  {
   "cell_type": "code",
   "execution_count": null,
   "metadata": {
    "collapsed": true
   },
   "outputs": [],
   "source": [
    "arcpy.Buffer_analysis(\"roads\", \"buffer\", \"100 METERS\", \"\", \"\", \"LIST\", \"Code\")"
   ]
  },
  {
   "cell_type": "code",
   "execution_count": null,
   "metadata": {
    "collapsed": true
   },
   "outputs": [],
   "source": [
    "arcpy.Buffer_analysis(\"roads\", \"buffer\", \"100 METERS\", \"#\", \"#\", \"LIST\", \"Code\")"
   ]
  },
  {
   "cell_type": "code",
   "execution_count": null,
   "metadata": {
    "collapsed": true
   },
   "outputs": [],
   "source": [
    "arcpy.Buffer_analysis(\"roads\", \"buffer\", \"100 METERS\", \"\", \"\", \"LIST\", \"Code\")"
   ]
  },
  {
   "cell_type": "markdown",
   "metadata": {},
   "source": [
    "In the examples so far, the parameters of the tool use the actual file name (for example, \"roads\"). This means the file names are hard-coded. (That is, the parameters are not set as variables, but use the values directly. Although this syntax is correct and works fine, it is often more useful to make your code flexible by using variables for parameters instead of using file names. First, create a variable and assign it a value. Then you can use the variable for a parameter. These variable values are passed to the tool. For example, in the case of the Clip tool, it would look as follows:"
   ]
  },
  {
   "cell_type": "code",
   "execution_count": null,
   "metadata": {
    "collapsed": true
   },
   "outputs": [],
   "source": [
    "import arcpy\n",
    "arcpy.env.workspace = \"C:/Data\"\n",
    "infc = \"streams.shp\"\n",
    "clipfc = \"study.shp\"\n",
    "outfc = \"result.shp\"\n",
    "arcpy.Clip_analysis(infc, clpfc, outfc)"
   ]
  },
  {
   "cell_type": "markdown",
   "metadata": {},
   "source": [
    "In this example script, the names of the datasets are still hard-coded in the script itself but not in the specific line of code that calls the Clip tool. The next logical step is to have the values of the variables provided by a user or another tool, which means the actual file names would no longer appear in the script. For example, the following code runs the Copy tool, and the input and output feature classes are obtained from user input using the GetParameterAsText function:"
   ]
  },
  {
   "cell_type": "code",
   "execution_count": null,
   "metadata": {
    "collapsed": true
   },
   "outputs": [],
   "source": [
    "import arcpy\n",
    "infc = arcpy.GetParameterAsText(0)\n",
    "outfc = arcpy.GetParameterAsText(1)\n",
    "arcpy.Copy_management(infc, outfc)"
   ]
  },
  {
   "cell_type": "markdown",
   "metadata": {},
   "source": [
    "ArcPy returns the output of a tool as a result ect. When the output of a tool is a new or updated feature class, the result object includes the path to the dataset. For other tools, however, the result object can consist of a string, a number, or a Boolean value. One of the advantages of result objects is that you can keep track of information about the running of tools This includes not only the output, but also messages and parameters."
   ]
  },
  {
   "cell_type": "markdown",
   "metadata": {},
   "source": [
    "* For example, in the following code, a geoprocessing tool is run and the output is returned as a result object:"
   ]
  },
  {
   "cell_type": "code",
   "execution_count": null,
   "metadata": {
    "collapsed": true
   },
   "outputs": [],
   "source": [
    "import arcpy\n",
    "arcpy.env.workspace = \"C:/Data\"\n",
    "mycount_arcpy.GetCount_management(\"streams.shp\")\n",
    "print mycount"
   ]
  },
  {
   "cell_type": "markdown",
   "metadata": {},
   "source": [
    "When the output of a tool consists of a feature class, the result object includes the path to the dataset. For example, the following code runs the Clip tool:"
   ]
  },
  {
   "cell_type": "code",
   "execution_count": null,
   "metadata": {
    "collapsed": true
   },
   "outputs": [],
   "source": [
    "import arcpy\n",
    "arcpy.env.workspace = \"C:/Data\"\n",
    "mycount_arcpy.analysis.Clip(\"streams.shp\", \"study.shp\", \"result.shp\")\n",
    "print mycount"
   ]
  },
  {
   "cell_type": "markdown",
   "metadata": {},
   "source": [
    "The output polygon feature class is returned as an object and the object is used as the input to the Get Count tool , follows:"
   ]
  },
  {
   "cell_type": "code",
   "execution_count": null,
   "metadata": {
    "collapsed": true
   },
   "outputs": [],
   "source": [
    "import arcpy\n",
    "arcpy.env.workspace = \"C:/Data/study.gdb\"\n",
    "buffer = arcpy.Buffer analysis (\"str\", \"str_buf\", \"100_METERS\")\n",
    "count = arcpy.GetCount_management(buffer)\n",
    "print count"
   ]
  },
  {
   "cell_type": "markdown",
   "metadata": {},
   "source": [
    "Although many tools have only a single output, some tools have muitiple outputs. The getOutput method of the result ect can be used to obtain a specific output by using an index number. A more generic way to get a geoprocessing result follows:"
   ]
  },
  {
   "cell_type": "code",
   "execution_count": null,
   "metadata": {
    "collapsed": true
   },
   "outputs": [],
   "source": [
    "import arcpy\n",
    "arcpy.env.workspace = \"C:/Data/study.gdb\"\n",
    "buffer = arcpy.Buffer_ana1ysis(\"str\", \"str_buf\", \"100 METERS\")\n",
    "count = arcpy.GetCount_management(buffer).getOutput(0)\n",
    "print str(count)"
   ]
  },
  {
   "cell_type": "markdown",
   "metadata": {},
   "source": [
    "## 5.6 Working with toolboxes"
   ]
  },
  {
   "cell_type": "markdown",
   "metadata": {},
   "source": [
    "When the ArcPy site package is imported into Python, all the system tool-boxes are available. When custom tools are created and stored in a custom toolbox, these tools can be accessed in Python only by importi the custom toolbox. So even if a custom toolbox has been added to Arctoolbox in ArcMap or ArcCatalog , Python is not aware of this toolbox until it has been imported. This is accomplished using the Importtoolbox function. The following code illustrates how to import a toolbox:"
   ]
  },
  {
   "cell_type": "code",
   "execution_count": null,
   "metadata": {
    "collapsed": true
   },
   "outputs": [],
   "source": [
    "import arcpy\n",
    "arcpy.ImportToolbox(\"C:/Data/samp1etools.tbx\")"
   ]
  },
  {
   "cell_type": "markdown",
   "metadata": {},
   "source": [
    "* After importing a toolbox, the syntax for accessing a tool in Python is as follows:\n",
    "\n",
    "```\n",
    "arcpy.<toolname>_<toolboxalias>\n",
    "```"
   ]
  },
  {
   "cell_type": "markdown",
   "metadata": {},
   "source": [
    "Once the alias is set, tools in the toolbox can be accessed using Python. For example, if the sampletools.tbx file contains a tool called MyModel, the syntax to access this tool would look as follows:"
   ]
  },
  {
   "cell_type": "code",
   "execution_count": null,
   "metadata": {
    "collapsed": true
   },
   "outputs": [],
   "source": [
    "arcpy.MyModel_mytools(<parameters>)"
   ]
  },
  {
   "cell_type": "markdown",
   "metadata": {},
   "source": [
    "Or alternatively:"
   ]
  },
  {
   "cell_type": "code",
   "execution_count": null,
   "metadata": {
    "collapsed": false
   },
   "outputs": [],
   "source": [
    "arcpy.mytools.MyModel(<parameters>)"
   ]
  },
  {
   "cell_type": "markdown",
   "metadata": {},
   "source": [
    "Once a particular tool is identified, the tool's syntax can be accessed from Python using the Usage function. For example, the following code prints the syntax of all the tools in the Editing Tools toolbox:"
   ]
  },
  {
   "cell_type": "code",
   "execution_count": null,
   "metadata": {
    "collapsed": false,
    "scrolled": true
   },
   "outputs": [],
   "source": [
    "import arcpy\n",
    "tools = arcpy.ListTools(\"*_analysis\")\n",
    "for tool in tools:\n",
    "    print arcpy.Usage(tool)"
   ]
  },
  {
   "cell_type": "markdown",
   "metadata": {},
   "source": [
    "Another way to access the syntax directly is to use Python's built-in help function. For example, the following code prints the syntax of the Clip tool:"
   ]
  },
  {
   "cell_type": "code",
   "execution_count": null,
   "metadata": {
    "collapsed": true
   },
   "outputs": [],
   "source": [
    "print help(arcpy.Clip_analysis)"
   ]
  },
  {
   "cell_type": "markdown",
   "metadata": {},
   "source": [
    "## 5.7 Using functions"
   ]
  },
  {
   "cell_type": "markdown",
   "metadata": {},
   "source": [
    "* The syntax of a function is the same as for tools\n",
    "\n",
    "```py\n",
    "arcpy.<functionname>(<arguments>)\n",
    "```"
   ]
  },
  {
   "cell_type": "markdown",
   "metadata": {},
   "source": [
    "For example, the following code determines whether a particular dataset exists, and then prints either True or False:"
   ]
  },
  {
   "cell_type": "code",
   "execution_count": null,
   "metadata": {
    "collapsed": true
   },
   "outputs": [],
   "source": [
    "import arcpy\n",
    "print arcpy.Exists(\"C:/Data.streams.shp\")"
   ]
  },
  {
   "cell_type": "markdown",
   "metadata": {},
   "source": [
    "There are a large number of functions, which can be divided into the following categories:\n",
    "* Cursors\n",
    "* Describing data\n",
    "* Environment and settings\n",
    "* Fields\n",
    "* Geodatabase administration\n",
    "* General\n",
    "* General data functions\n",
    "* Getting and setting parameters\n",
    "* Licensing and installation\n",
    "* Listing data\n",
    "* Log history\n",
    "* Messaging and error handling\n",
    "* Progress dialog boxes\n",
    "* Raster\n",
    "* Spatial reference and transformations\n",
    "* Tools and toolboxes"
   ]
  },
  {
   "cell_type": "markdown",
   "metadata": {},
   "source": [
    "## 5.8 Using classes "
   ]
  },
  {
   "cell_type": "markdown",
   "metadata": {},
   "source": [
    "For example, workspace is a property of the\n",
    "env class, so the syntax becomes env.workspace."
   ]
  },
  {
   "cell_type": "markdown",
   "metadata": {},
   "source": [
    "The syntax for setting the property of a class is\n",
    "```\n",
    "<classname>.<property> = <value>\n",
    "```"
   ]
  },
  {
   "cell_type": "markdown",
   "metadata": {},
   "source": [
    "As discussed earlier, the code to set the current workspace is as follows:"
   ]
  },
  {
   "cell_type": "code",
   "execution_count": null,
   "metadata": {
    "collapsed": true
   },
   "outputs": [],
   "source": [
    "import arcpy\n",
    "arcpy.env.workspace = \"C:/Data\""
   ]
  },
  {
   "cell_type": "markdown",
   "metadata": {},
   "source": [
    "Another frequently used ArcPy class is the SpatialReference class. This class has a number of properties, including the coordinate system parameters. To work with these properties, however, the class first has to be instantiated."
   ]
  },
  {
   "cell_type": "markdown",
   "metadata": {},
   "source": [
    "* The syntax for using a method to initialize a new instance of a class is\n",
    "```python\n",
    "arcpy.<classname>(parameters)\n",
    "```"
   ]
  },
  {
   "cell_type": "markdown",
   "metadata": {},
   "source": [
    "The code to initialize a new instance of the SpatialReference class is as follows:"
   ]
  },
  {
   "cell_type": "code",
   "execution_count": null,
   "metadata": {
    "collapsed": true
   },
   "outputs": [],
   "source": [
    "import arcpy\n",
    "prjfile = \"C:/Data/myprojection.prj\"\n",
    "spatialref = arcpy.SpatialReference(prjfile)"
   ]
  },
  {
   "cell_type": "markdown",
   "metadata": {},
   "source": [
    "For example, the following code creates a spatial reference object based on an existing .prj file and then uses the name property to get the name of the spatial reference:"
   ]
  },
  {
   "cell_type": "code",
   "execution_count": null,
   "metadata": {
    "collapsed": true
   },
   "outputs": [],
   "source": [
    "import arcpy\n",
    "prjfile = \"C:/Data/streams.prj\" \n",
    "spatialref = arcpy.SpatialReference(prjfile)\n",
    "myref = spatialRef.name\n",
    "print myref"
   ]
  },
  {
   "cell_type": "markdown",
   "metadata": {},
   "source": [
    "* The syntax of the Create Feature Class tool is as follows:\n",
    "```py\n",
    "CreateFeatureclass_management(out_path, out_name, {geometry_type}, {template}, {has_m}, {has_z}, {spatial_reference}, {config_keyword}, {spatial grid_1}, {spatial_grid_2}, {spatial_grid_3}) \n",
    "```"
   ]
  },
  {
   "cell_type": "markdown",
   "metadata": {},
   "source": [
    "* The following code creates a spatial reference object and uses it to define the output coordinate system of a new feature class:"
   ]
  },
  {
   "cell_type": "code",
   "execution_count": null,
   "metadata": {
    "collapsed": true
   },
   "outputs": [],
   "source": [
    "import arcpy\n",
    "out_path = \"C:/Data\"\n",
    "out_name = \"lines.shp\"\n",
    "prjfile = \"C:/Data/streams.prj\"\n",
    "spatialref = arcpy.SpatialReference(prjfile)\n",
    "arcpy.CreateFeatureclass_management(out_path, out_name, \"POLYLINE\", \"\", \"\", \"\", spatialref)"
   ]
  },
  {
   "cell_type": "markdown",
   "metadata": {},
   "source": [
    "## 5.9 Using environment settings "
   ]
  },
  {
   "cell_type": "markdown",
   "metadata": {},
   "source": [
    "Environment settings are exposed as properties of the env class. These properties can be used to retrieve the current values or to set them. Each property has a name and a label. The labels are displayed on the Environ ment Settings dialog box in ArcGIS, but Python works with names only. The syntax for accessing the properties from the environment class is.\n",
    "```py\n",
    "arcpy.env.<environmentName>\n",
    "```"
   ]
  },
  {
   "cell_type": "markdown",
   "metadata": {},
   "source": [
    "*  For example, to set the current workspace, the following code is used:"
   ]
  },
  {
   "cell_type": "code",
   "execution_count": null,
   "metadata": {
    "collapsed": true
   },
   "outputs": [],
   "source": [
    "import arcpy\n",
    "arcpy.env.workspace = \"C:/Data\""
   ]
  },
  {
   "cell_type": "markdown",
   "metadata": {},
   "source": [
    "Alternatively, environments can be accessed using the from-import statement:"
   ]
  },
  {
   "cell_type": "code",
   "execution_count": null,
   "metadata": {
    "collapsed": true
   },
   "outputs": [],
   "source": [
    "import arcpy\n",
    "from arcpy import env\n",
    "env.workspace = \"C:/Data\""
   ]
  },
  {
   "cell_type": "markdown",
   "metadata": {},
   "source": [
    "For example, cell size, compression, and mask are used for raster datasets only. The following code sets the cell size to 30:"
   ]
  },
  {
   "cell_type": "code",
   "execution_count": null,
   "metadata": {
    "collapsed": true
   },
   "outputs": [],
   "source": [
    "import arcpy\n",
    "from arcpy import env\n",
    "env.cellSize = 30"
   ]
  },
  {
   "cell_type": "markdown",
   "metadata": {},
   "source": [
    "For example, the following code retrieves the current settings for the XY tolerance:"
   ]
  },
  {
   "cell_type": "code",
   "execution_count": null,
   "metadata": {
    "collapsed": true
   },
   "outputs": [],
   "source": [
    "import arcpy\n",
    "from arcpy import env\n",
    "print env.XYTolerance"
   ]
  },
  {
   "cell_type": "markdown",
   "metadata": {},
   "source": [
    "To get a complete list of properties, you can use the ArcPy ListEnvironments function:"
   ]
  },
  {
   "cell_type": "code",
   "execution_count": null,
   "metadata": {
    "collapsed": true
   },
   "outputs": [],
   "source": [
    "import arcpy\n",
    "print arcpy.ListEnvironments()"
   ]
  },
  {
   "cell_type": "markdown",
   "metadata": {},
   "source": [
    "In ArcMap, this is not part of the Environment Settings dialog box but is a separate option on the\n",
    "menu bar under **Geoprocessing > Options**. \n",
    "\n",
    "In Python, this is a property\n",
    "of the env class. The default value of this overwriteOutput property is\n",
    "False. The following code sets the value to True :"
   ]
  },
  {
   "cell_type": "code",
   "execution_count": null,
   "metadata": {
    "collapsed": true
   },
   "outputs": [],
   "source": [
    "import arcpy\n",
    "from arcpy import env\n",
    "env.overwriteOutput = True"
   ]
  },
  {
   "cell_type": "markdown",
   "metadata": {},
   "source": [
    "## 5.10 Working with tool messages"
   ]
  },
  {
   "cell_type": "markdown",
   "metadata": {},
   "source": [
    "The basic syntax for retrieving messages an d printing them is\n",
    "```py\n",
    "print arcpy.GetMesssages()\n",
    "```"
   ]
  },
  {
   "cell_type": "markdown",
   "metadata": {},
   "source": [
    "* For example, when a Clip tool is run, the messages can be tri ev as follows:"
   ]
  },
  {
   "cell_type": "code",
   "execution_count": null,
   "metadata": {
    "collapsed": true
   },
   "outputs": [],
   "source": [
    "import arcpy\n",
    "arcpy.env.workspace = \"C:/Data\"\n",
    "infc = \"streams.shp\"\n",
    "clipfc = \"study.shp\"\n",
    "outfc = \"result.shp\"\n",
    "arcpy.Clip_analysis(infc, clipfc, outfc)\n",
    "print arcpy.GetMessages()"
   ]
  },
  {
   "cell_type": "markdown",
   "metadata": {},
   "source": [
    "Individual messages can be retrieved using the GetMessage function (note, this is different from the GetMessages function). This function has only one parameter, which is the index position of the message. For example, the foIlowing code retrieves the first message only:\n",
    "```py\n",
    "print arcpy.GetMessage(0)\n",
    "```"
   ]
  },
  {
   "cell_type": "markdown",
   "metadata": {},
   "source": [
    "The number of message from the last tool that is run can be obtained using the GetMessageCount function This function is particularly useful for retrieving just the last message. Since you typically will not know in advance how many messages may have resulted from running a tool, you can use the message count to retrieve the last message. The code to obtain the message count is\n",
    "```py\n",
    "arcpy.GetMessageCount()\n",
    "```"
   ]
  },
  {
   "cell_type": "markdown",
   "metadata": {},
   "source": [
    "To retrieve the last essage only, you would use the following:\n",
    "```py\n",
    "count = arcpy.GetMessageCount()\n",
    "print arcpy.GetMessage(count - 1)\n",
    "```"
   ]
  },
  {
   "cell_type": "markdown",
   "metadata": {},
   "source": [
    "In addition to getting the number of messages, you can also query the maximum severity of the messages using the GetMaxSeverity function as follows:\n",
    "```py\n",
    "print arcpy.GetMaxSeverty()\n",
    "```"
   ]
  },
  {
   "cell_type": "markdown",
   "metadata": {},
   "source": [
    "So rather than a tool being run for output files, the result of the geoprocessing operation is returned as an object. For example:"
   ]
  },
  {
   "cell_type": "code",
   "execution_count": null,
   "metadata": {
    "collapsed": true
   },
   "outputs": [],
   "source": [
    "import arcpy\n",
    "arcpy.env.workspace = \"C:/Data\"\n",
    "result = arcpy.GetCount_management(\"streams.shp\")"
   ]
  },
  {
   "cell_type": "markdown",
   "metadata": {},
   "source": [
    "For example, running the following code retrieves the number of messages, followed by the last message:"
   ]
  },
  {
   "cell_type": "code",
   "execution_count": null,
   "metadata": {
    "collapsed": true
   },
   "outputs": [],
   "source": [
    "import arcpy\n",
    "arcpy.env.workspace = \"C:/Data\"\n",
    "result = arcpy.GetCount_management(\"streams.shp\")\n",
    "count = result.messageCount\n",
    "print result.getMessage(count - 1)"
   ]
  },
  {
   "cell_type": "markdown",
   "metadata": {},
   "source": [
    "## 5.11 Working with licenses "
   ]
  },
  {
   "cell_type": "code",
   "execution_count": null,
   "metadata": {
    "collapsed": true
   },
   "outputs": [],
   "source": []
  },
  {
   "cell_type": "markdown",
   "metadata": {},
   "source": [
    "## 5.12 Accessing ArcGIS Desktop Help "
   ]
  },
  {
   "cell_type": "code",
   "execution_count": null,
   "metadata": {
    "collapsed": true
   },
   "outputs": [],
   "source": []
  },
  {
   "cell_type": "markdown",
   "metadata": {},
   "source": [
    "## Points to remember "
   ]
  },
  {
   "cell_type": "markdown",
   "metadata": {
    "collapsed": true
   },
   "source": [
    "* The ArcPy site package introduced in ArcGIS version 10 provides access to the Python geoprocessing functionality in ArcGIS. It is the successor to the ArcGISscripting module from earlier versions. ArcPy is organized in modules, functions, and classes.  \n",
    "\n",
    "\n",
    "* All geoprocessing tools in ArcGIS are provided as functions. Once ArcPy is imported to a Python script, you can run all the geopro cessing tools found in the standard toolboxes that are installed with ArcGIS. The syntax for running a tool is arcpy.<toolname_toolboxalias>(<parameters>). The documentation on each tool provides details on the required and optional parameters needed for a tool to run. Additional nontool functions in ArcPy are available to support geoprocessing tasks.  \n",
    "\n",
    "\n",
    "* Classes in ArcPy are used to create objects. Commonly used classes are the env class and the SpatialReference class. The syntax for setting the property of a class is \n",
    "```py\n",
    "arcpy.<classname>.<property> = <value>.  \n",
    "```\n",
    "\n",
    "\n",
    "* Messages that result from running a tool can be retrieved using message functions, including GetMessages, GetMessage, and GetMaxSeverity. Messages can consist of information, warning, or error messages  \n",
    "\n",
    "\n",
    "* Several functions are available to check available licenses for products and extensions, to check out licenses, and to check licenses back in  \n",
    "\n",
    "\n",
    "* ArcGIS for Desktop Help contains many examples of Python code, including the Help page for individual geoprocessing tools.  "
   ]
  },
  {
   "cell_type": "code",
   "execution_count": null,
   "metadata": {
    "collapsed": true
   },
   "outputs": [],
   "source": []
  }
 ],
 "metadata": {
  "kernelspec": {
   "display_name": "Python 2",
   "language": "python",
   "name": "python2"
  },
  "language_info": {
   "codemirror_mode": {
    "name": "ipython",
    "version": 2
   },
   "file_extension": ".py",
   "mimetype": "text/x-python",
   "name": "python",
   "nbconvert_exporter": "python",
   "pygments_lexer": "ipython2",
   "version": "2.7.2"
  }
 },
 "nbformat": 4,
 "nbformat_minor": 1
}
