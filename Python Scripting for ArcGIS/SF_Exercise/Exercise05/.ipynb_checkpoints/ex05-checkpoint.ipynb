{
 "cells": [
  {
   "cell_type": "markdown",
   "metadata": {},
   "source": [
    "# Explore ArcPy function and classes"
   ]
  },
  {
   "cell_type": "code",
   "execution_count": null,
   "metadata": {
    "collapsed": true
   },
   "outputs": [],
   "source": [
    "import os"
   ]
  },
  {
   "cell_type": "code",
   "execution_count": 9,
   "metadata": {
    "collapsed": true
   },
   "outputs": [],
   "source": [
    "os.path"
   ]
  },
  {
   "cell_type": "code",
   "execution_count": 3,
   "metadata": {
    "collapsed": false
   },
   "outputs": [
    {
     "data": {
      "text/plain": [
       "'D:\\\\BOOKS\\\\GISen\\\\_PYTHON\\\\Python Scripting for ArcGIS\\\\SF_Exercise\\\\Exercise05'"
      ]
     },
     "execution_count": 3,
     "metadata": {},
     "output_type": "execute_result"
    }
   ],
   "source": [
    "os.getcwd()"
   ]
  },
  {
   "cell_type": "code",
   "execution_count": 3,
   "metadata": {
    "collapsed": true
   },
   "outputs": [],
   "source": [
    "import arcpy"
   ]
  },
  {
   "cell_type": "code",
   "execution_count": 6,
   "metadata": {
    "collapsed": false,
    "scrolled": true
   },
   "outputs": [
    {
     "data": {
      "text/plain": [
       "True"
      ]
     },
     "execution_count": 6,
     "metadata": {},
     "output_type": "execute_result"
    }
   ],
   "source": [
    "arcpy.Exists(\"./DATA/hospitals.shp\")"
   ]
  },
  {
   "cell_type": "code",
   "execution_count": 7,
   "metadata": {
    "collapsed": true
   },
   "outputs": [],
   "source": [
    "from arcpy import env"
   ]
  },
  {
   "cell_type": "code",
   "execution_count": 8,
   "metadata": {
    "collapsed": true
   },
   "outputs": [],
   "source": [
    "env.workspace = os.getcwd()"
   ]
  },
  {
   "cell_type": "code",
   "execution_count": 9,
   "metadata": {
    "collapsed": false
   },
   "outputs": [
    {
     "data": {
      "text/plain": [
       "'Clip_analysis(in_features, clip_features, out_feature_class, {cluster_tolerance})'"
      ]
     },
     "execution_count": 9,
     "metadata": {},
     "output_type": "execute_result"
    }
   ],
   "source": [
    "arcpy.Usage(\"Clip_analysis\")"
   ]
  },
  {
   "cell_type": "code",
   "execution_count": null,
   "metadata": {
    "collapsed": false
   },
   "outputs": [],
   "source": [
    "arcpy.Usage(\"Clip\")"
   ]
  },
  {
   "cell_type": "code",
   "execution_count": 1,
   "metadata": {
    "collapsed": true
   },
   "outputs": [],
   "source": [
    "prjFile = \"./DATA/facilities.prj\""
   ]
  },
  {
   "cell_type": "code",
   "execution_count": 4,
   "metadata": {
    "collapsed": false
   },
   "outputs": [],
   "source": [
    "spatial_ref = arcpy.SpatialReference(prjFile)"
   ]
  },
  {
   "cell_type": "code",
   "execution_count": 5,
   "metadata": {
    "collapsed": true
   },
   "outputs": [
    {
     "ename": "ExecuteError",
     "evalue": "Failed to execute. Parameters are not valid.\nERROR 000732: Input Dataset or Feature Class: Dataset hospitals does not exist or is not supported\nFailed to execute (DefineProjection).\n",
     "output_type": "error",
     "traceback": [
      "\u001b[1;31m---------------------------------------------------------------------------\u001b[0m",
      "\u001b[1;31mExecuteError\u001b[0m                              Traceback (most recent call last)",
      "\u001b[1;32m<ipython-input-5-8e6e8ea41592>\u001b[0m in \u001b[0;36m<module>\u001b[1;34m()\u001b[0m\n\u001b[1;32m----> 1\u001b[1;33m \u001b[0marcpy\u001b[0m\u001b[1;33m.\u001b[0m\u001b[0mDefineProjection_management\u001b[0m\u001b[1;33m(\u001b[0m\u001b[1;34m\"hospitals\"\u001b[0m\u001b[1;33m,\u001b[0m \u001b[0mspatial_ref\u001b[0m\u001b[1;33m)\u001b[0m\u001b[1;33m\u001b[0m\u001b[0m\n\u001b[0m",
      "\u001b[1;32mC:\\Program Files (x86)\\ArcGIS\\Desktop10.1\\arcpy\\arcpy\\management.py\u001b[0m in \u001b[0;36mDefineProjection\u001b[1;34m(in_dataset, coor_system)\u001b[0m\n\u001b[0;32m   7686\u001b[0m         \u001b[1;32mreturn\u001b[0m \u001b[0mretval\u001b[0m\u001b[1;33m\u001b[0m\u001b[0m\n\u001b[0;32m   7687\u001b[0m     \u001b[1;32mexcept\u001b[0m \u001b[0mException\u001b[0m\u001b[1;33m,\u001b[0m \u001b[0me\u001b[0m\u001b[1;33m:\u001b[0m\u001b[1;33m\u001b[0m\u001b[0m\n\u001b[1;32m-> 7688\u001b[1;33m         \u001b[1;32mraise\u001b[0m \u001b[0me\u001b[0m\u001b[1;33m\u001b[0m\u001b[0m\n\u001b[0m\u001b[0;32m   7689\u001b[0m \u001b[1;33m\u001b[0m\u001b[0m\n\u001b[0;32m   7690\u001b[0m \u001b[1;33m\u001b[0m\u001b[0m\n",
      "\u001b[1;31mExecuteError\u001b[0m: Failed to execute. Parameters are not valid.\nERROR 000732: Input Dataset or Feature Class: Dataset hospitals does not exist or is not supported\nFailed to execute (DefineProjection).\n"
     ]
    }
   ],
   "source": [
    "arcpy.DefineProjection_management(\"hospitals\", spatial_ref)"
   ]
  },
  {
   "cell_type": "code",
   "execution_count": 6,
   "metadata": {
    "collapsed": false
   },
   "outputs": [
    {
     "name": "stdout",
     "output_type": "stream",
     "text": [
      "NAD_1983_StatePlane_Texas_Central_FIPS_4203_Feet\n"
     ]
    }
   ],
   "source": [
    "print spatial_ref.name"
   ]
  },
  {
   "cell_type": "code",
   "execution_count": 7,
   "metadata": {
    "collapsed": false
   },
   "outputs": [
    {
     "name": "stdout",
     "output_type": "stream",
     "text": [
      "Foot_US\n"
     ]
    }
   ],
   "source": [
    "print spatial_ref.linearUnitName"
   ]
  },
  {
   "cell_type": "code",
   "execution_count": 8,
   "metadata": {
    "collapsed": false
   },
   "outputs": [
    {
     "name": "stdout",
     "output_type": "stream",
     "text": [
      "0.000328083333333\n"
     ]
    }
   ],
   "source": [
    "print spatial_ref.XYResolution"
   ]
  },
  {
   "cell_type": "markdown",
   "metadata": {
    "collapsed": true
   },
   "source": [
    "## Control the cnvironment settings"
   ]
  },
  {
   "cell_type": "code",
   "execution_count": null,
   "metadata": {
    "collapsed": true
   },
   "outputs": [],
   "source": [
    "import os\n",
    "import arcpy\n",
    "from arcpy import env\n",
    "env.workspace = os.getcwd()"
   ]
  },
  {
   "cell_type": "code",
   "execution_count": 23,
   "metadata": {
    "collapsed": false
   },
   "outputs": [],
   "source": [
    "prjFile = \"./DATA/facilities.prj\"\n",
    "spatial_ref = arcpy.SpatialReference(prjFile)\n",
    "env.overwriteOutput = True\n",
    "env.outputCoordinateSystem = spatial_ref"
   ]
  },
  {
   "cell_type": "code",
   "execution_count": 24,
   "metadata": {
    "collapsed": false
   },
   "outputs": [
    {
     "name": "stdout",
     "output_type": "stream",
     "text": [
      "<geoprocessing spatial reference object object at 0x031DC1D0>\n"
     ]
    }
   ],
   "source": [
    "print env.outputCoordinateSystem"
   ]
  },
  {
   "cell_type": "code",
   "execution_count": 25,
   "metadata": {
    "collapsed": true
   },
   "outputs": [],
   "source": [
    "environments = arcpy.ListEnvironments()"
   ]
  },
  {
   "cell_type": "code",
   "execution_count": 26,
   "metadata": {
    "collapsed": false
   },
   "outputs": [
    {
     "name": "stdout",
     "output_type": "stream",
     "text": [
      "newPrecision: SINGLE\n",
      "autoCommit: 1000\n",
      "XYResolution: None\n",
      "XYDomain: None\n",
      "scratchWorkspace: None\n",
      "cartographicPartitions: None\n",
      "terrainMemoryUsage: False\n",
      "MTolerance: None\n",
      "compression: LZ77\n",
      "coincidentPoints: MEAN\n",
      "randomGenerator: 0 ACM599\n",
      "outputCoordinateSystem: <geoprocessing spatial reference object object at 0x031DC248>\n",
      "rasterStatistics: STATISTICS 1 1\n",
      "ZDomain: None\n",
      "transferDomains: False\n",
      "resamplingMethod: NEAREST\n",
      "snapRaster: None\n",
      "projectCompare: NONE\n",
      "cartographicCoordinateSystem: None\n",
      "configKeyword: None\n",
      "outputZFlag: Same As Input\n",
      "qualifiedFieldNames: True\n",
      "tileSize: 128 128\n",
      "parallelProcessingFactor: None\n",
      "pyramid: PYRAMIDS -1 NEAREST DEFAULT 75 NO_SKIP\n",
      "referenceScale: None\n",
      "extent: None\n",
      "XYTolerance: None\n",
      "tinSaveVersion: CURRENT\n",
      "nodata: NONE\n",
      "MDomain: None\n",
      "spatialGrid1: 0.0\n",
      "cellSize: MAXOF\n",
      "outputZValue: None\n",
      "outputMFlag: Same As Input\n",
      "geographicTransformations: None\n",
      "spatialGrid2: 0.0\n",
      "ZResolution: None\n",
      "mask: None\n",
      "spatialGrid3: 0.0\n",
      "maintainSpatialIndex: False\n",
      "workspace: D:\\BOOKS\\GISen\\_PYTHON\\Python Scripting for ArcGIS\\SF_Exercise\\Exercise05\n",
      "MResolution: None\n",
      "derivedPrecision: HIGHEST\n",
      "ZTolerance: None\n",
      "scratchGDB: C:\\Users\\AaronHsu\\AppData\\Local\\Temp\\scratch.gdb\n",
      "scratchFolder: C:\\Users\\AaronHsu\\AppData\\Local\\Temp\\scratch\n",
      "packageWorkspace: D:\\BOOKS\\GISen\\_PYTHON\\Python Scripting for ArcGIS\\SF_Exercise\\Exercise05\n",
      "addOutputsToMap: True\n"
     ]
    }
   ],
   "source": [
    "for environment in environments:\n",
    "    env_setting = eval(\"env.\" + environment)\n",
    "    print \"{0}: {1}\".format(environment, env_setting)"
   ]
  },
  {
   "cell_type": "code",
   "execution_count": 27,
   "metadata": {
    "collapsed": false
   },
   "outputs": [
    {
     "name": "stdout",
     "output_type": "stream",
     "text": [
      "D:\\BOOKS\\GISen\\_PYTHON\\Python Scripting for ArcGIS\\SF_Exercise\\Exercise05\n"
     ]
    }
   ],
   "source": [
    "print env.workspace"
   ]
  },
  {
   "cell_type": "code",
   "execution_count": 28,
   "metadata": {
    "collapsed": false
   },
   "outputs": [
    {
     "name": "stdout",
     "output_type": "stream",
     "text": [
      "None\n"
     ]
    }
   ],
   "source": [
    "arcpy.ClearEnvironment(\"workspace\")\n",
    "print env.workspace"
   ]
  },
  {
   "cell_type": "code",
   "execution_count": 29,
   "metadata": {
    "collapsed": false
   },
   "outputs": [
    {
     "name": "stdout",
     "output_type": "stream",
     "text": [
      "None\n"
     ]
    }
   ],
   "source": [
    "arcpy.ResetEnvironments()\n",
    "print env.outputCoordinateSystem"
   ]
  },
  {
   "cell_type": "markdown",
   "metadata": {},
   "source": [
    "## Work with tool messages"
   ]
  },
  {
   "cell_type": "code",
   "execution_count": 35,
   "metadata": {
    "collapsed": true
   },
   "outputs": [],
   "source": [
    "import os\n",
    "import arcpy\n",
    "from arcpy import env\n",
    "env.workspace = os.getcwd()"
   ]
  },
  {
   "cell_type": "code",
   "execution_count": 37,
   "metadata": {
    "collapsed": false
   },
   "outputs": [
    {
     "name": "stdout",
     "output_type": "stream",
     "text": [
      "Executing: Clip DATA/parks.shp DATA/zip.shp Results\\parks_Clip.shp #\n",
      "Start Time: Tue Mar 29 14:21:36 2016\n",
      "Reading Features...\n",
      "Cracking Features...\n",
      "Assembling Features...\n",
      "Succeeded at Tue Mar 29 14:21:36 2016 (Elapsed Time: 0.00 seconds)\n"
     ]
    }
   ],
   "source": [
    "env.overwriteOutput = True\n",
    "arcpy.Clip_analysis(\"DATA/parks.shp\", \"DATA/zip.shp\", \"Results/parks_Clip.shp\")\n",
    "print arcpy.GetMessages()"
   ]
  },
  {
   "cell_type": "code",
   "execution_count": 32,
   "metadata": {
    "collapsed": false
   },
   "outputs": [
    {
     "data": {
      "text/plain": [
       "'D:\\\\BOOKS\\\\GISen\\\\_PYTHON\\\\Python Scripting for ArcGIS\\\\SF_Exercise\\\\Exercise05'"
      ]
     },
     "execution_count": 32,
     "metadata": {},
     "output_type": "execute_result"
    }
   ],
   "source": [
    "os.getcwd()"
   ]
  },
  {
   "cell_type": "code",
   "execution_count": 38,
   "metadata": {
    "collapsed": false
   },
   "outputs": [
    {
     "name": "stdout",
     "output_type": "stream",
     "text": [
      "Succeeded at Tue Mar 29 14:25:41 2016 (Elapsed Time: 1.00 seconds)\n"
     ]
    }
   ],
   "source": [
    "env.overwriteOutput = True\n",
    "newclip = arcpy.Clip_analysis(\"DATA/parks.shp\", \"DATA/zip.shp\", \"Results/parks_Clip.shp\")\n",
    "fCount = arcpy.GetCount_management(\"Results/bike_Clip.shp\")\n",
    "# ----\n",
    "msgCount = newclip.messageCount\n",
    "print newclip.getMessage(msgCount-1)"
   ]
  },
  {
   "cell_type": "markdown",
   "metadata": {},
   "source": [
    "## Work with licenses"
   ]
  },
  {
   "cell_type": "code",
   "execution_count": 40,
   "metadata": {
    "collapsed": false
   },
   "outputs": [
    {
     "name": "stdout",
     "output_type": "stream",
     "text": [
      "ArcInfo\n"
     ]
    }
   ],
   "source": [
    "print arcpy.ProductInfo()"
   ]
  },
  {
   "cell_type": "code",
   "execution_count": 41,
   "metadata": {
    "collapsed": false
   },
   "outputs": [
    {
     "data": {
      "text/plain": [
       "u'Available'"
      ]
     },
     "execution_count": 41,
     "metadata": {},
     "output_type": "execute_result"
    }
   ],
   "source": [
    "arcpy.CheckProduct(\"arcinfo\")"
   ]
  },
  {
   "cell_type": "code",
   "execution_count": 42,
   "metadata": {
    "collapsed": false
   },
   "outputs": [
    {
     "data": {
      "text/plain": [
       "u'Available'"
      ]
     },
     "execution_count": 42,
     "metadata": {},
     "output_type": "execute_result"
    }
   ],
   "source": [
    "arcpy.CheckExtension(\"tracking\")"
   ]
  },
  {
   "cell_type": "code",
   "execution_count": 43,
   "metadata": {
    "collapsed": false
   },
   "outputs": [
    {
     "data": {
      "text/plain": [
       "u'Available'"
      ]
     },
     "execution_count": 43,
     "metadata": {},
     "output_type": "execute_result"
    }
   ],
   "source": [
    "arcpy.CheckExtension(\"spatial\")"
   ]
  },
  {
   "cell_type": "markdown",
   "metadata": {},
   "source": [
    "### Example 1"
   ]
  },
  {
   "cell_type": "code",
   "execution_count": 44,
   "metadata": {
    "collapsed": true
   },
   "outputs": [],
   "source": [
    "import os\n",
    "import arcpy\n",
    "from arcpy import env\n",
    "env.workspace = os.getcwd()"
   ]
  },
  {
   "cell_type": "code",
   "execution_count": 45,
   "metadata": {
    "collapsed": false,
    "scrolled": true
   },
   "outputs": [],
   "source": [
    "in_features = \"DATA/parks.shp\"\n",
    "out_featureclass = \"Results/parks_centroid.shp\"\n",
    "if arcpy.ProductInfo() == \"ArcInfo\":\n",
    "    arcpy.FeatureToPoint_management(in_features, out_featureclass)\n",
    "else:\n",
    "    print \"An ArcInfo license is not available.\""
   ]
  },
  {
   "cell_type": "markdown",
   "metadata": {},
   "source": [
    "### Example 2"
   ]
  },
  {
   "cell_type": "code",
   "execution_count": 46,
   "metadata": {
    "collapsed": true
   },
   "outputs": [],
   "source": [
    "import os\n",
    "import arcpy\n",
    "from arcpy import env\n",
    "env.workspace = os.getcwd()"
   ]
  },
  {
   "cell_type": "code",
   "execution_count": 48,
   "metadata": {
    "collapsed": true
   },
   "outputs": [],
   "source": [
    "if arcpy.CheckExtension(\"spatial\") == \"Available\":\n",
    "    arcpy.CheckOutExtension(\"spatial\")\n",
    "    out_distance = arcpy.sa.EucDistance(\"DATA/bike_routes.shp\", cell_size = 100)\n",
    "    out_distance.save(\"Results/bike_dist\")    # save as raster\n",
    "    arcpy.CheckInExtension(\"spatial\")\n",
    "else:\n",
    "    print \"Spatial Analyst license is not available.\""
   ]
  },
  {
   "cell_type": "markdown",
   "metadata": {},
   "source": [
    "## Challenge exercises"
   ]
  },
  {
   "cell_type": "markdown",
   "metadata": {},
   "source": [
    "### Challenge 1"
   ]
  },
  {
   "cell_type": "code",
   "execution_count": 54,
   "metadata": {
    "collapsed": true
   },
   "outputs": [],
   "source": [
    "import arcpy"
   ]
  },
  {
   "cell_type": "markdown",
   "metadata": {},
   "source": [
    "### Case1"
   ]
  },
  {
   "cell_type": "code",
   "execution_count": 55,
   "metadata": {
    "collapsed": false,
    "scrolled": false
   },
   "outputs": [
    {
     "name": "stdout",
     "output_type": "stream",
     "text": [
      "['__call__', '__class__', '__closure__', '__code__', '__defaults__', '__delattr__', '__dict__', '__doc__', '__esri_toolname__', '__format__', '__get__', '__getattribute__', '__globals__', '__hash__', '__init__', '__module__', '__name__', '__new__', '__reduce__', '__reduce_ex__', '__repr__', '__setattr__', '__sizeof__', '__str__', '__subclasshook__', 'func_closure', 'func_code', 'func_defaults', 'func_dict', 'func_doc', 'func_globals', 'func_name']\n"
     ]
    }
   ],
   "source": [
    "print dir(arcpy.AddXY_management)"
   ]
  },
  {
   "cell_type": "code",
   "execution_count": 56,
   "metadata": {
    "collapsed": true
   },
   "outputs": [
    {
     "name": "stdout",
     "output_type": "stream",
     "text": [
      "AddXY_management(in_features)\n",
      "\n",
      "        Adds the fields POINT_X and POINT_Y to the point input features and calculates\n",
      "        their values. It also appends the POINT_Z and POINT_M fields if the input\n",
      "        features are Z- and M-enabled.\n",
      "\n",
      "     INPUTS:\n",
      "      in_features (Feature Layer):\n",
      "          The point features whose x,y coordinates will be appended as POINT_X and POINT_Y\n",
      "          fields.\n"
     ]
    }
   ],
   "source": [
    "print arcpy.AddXY_management.__doc__"
   ]
  },
  {
   "cell_type": "markdown",
   "metadata": {},
   "source": [
    "### Case2"
   ]
  },
  {
   "cell_type": "code",
   "execution_count": 73,
   "metadata": {
    "collapsed": false
   },
   "outputs": [
    {
     "name": "stdout",
     "output_type": "stream",
     "text": [
      "['__call__', '__class__', '__closure__', '__code__', '__defaults__', '__delattr__', '__dict__', '__doc__', '__esri_toolname__', '__format__', '__get__', '__getattribute__', '__globals__', '__hash__', '__init__', '__module__', '__name__', '__new__', '__reduce__', '__reduce_ex__', '__repr__', '__setattr__', '__sizeof__', '__str__', '__subclasshook__', 'func_closure', 'func_code', 'func_defaults', 'func_dict', 'func_doc', 'func_globals', 'func_name']\n"
     ]
    }
   ],
   "source": [
    "print dir(arcpy.Dissolve_management)"
   ]
  },
  {
   "cell_type": "code",
   "execution_count": 74,
   "metadata": {
    "collapsed": true
   },
   "outputs": [
    {
     "name": "stdout",
     "output_type": "stream",
     "text": [
      "Dissolve_management(in_features, out_feature_class, {dissolve_field;dissolve_field...}, {statistics_fields;statistics_fields...}, {multi_part}, {unsplit_lines})\n",
      "\n",
      "        Aggregates features based on specified attributes.\n",
      "\n",
      "     INPUTS:\n",
      "      in_features (Feature Layer):\n",
      "          The features to be aggregated.\n",
      "      dissolve_field {Field}:\n",
      "          The field or fields on which to aggregate features.The Add Field button, which\n",
      "          is used only in ModelBuilder, allows you to add\n",
      "          expected fields so you can complete the dialog box and continue to build your\n",
      "          model.\n",
      "      statistics_fields {Value Table}:\n",
      "          The fields and statistics with which to summarize attributes. Text attribute\n",
      "          fields may be summarized using the statistics FIRST or LAST. Numeric attribute\n",
      "          fields may be summarized using any statistic. Nulls are excluded from all\n",
      "          statistical calculations.\n",
      "\n",
      "          * FIRST—Finds the first record in the Input Features and uses its specified\n",
      "          field value.\n",
      "\n",
      "          * LAST—Finds the last record in the Input Features and uses its specified field\n",
      "          value.\n",
      "\n",
      "          * SUM—Adds the total value for the specified field.\n",
      "\n",
      "          * MEAN—Calculates the average for the specified field.\n",
      "\n",
      "          * MIN—Finds the smallest value for all records of the specified field.\n",
      "\n",
      "          * MAX—Finds the largest value for all records of the specified field.\n",
      "\n",
      "          * RANGE—Finds the range of values (MAX–MIN) for the specified field.\n",
      "\n",
      "          * STD—Finds the standard deviation on values in the specified field.\n",
      "\n",
      "          * COUNT—Finds the number of values included in statistical calculations. This\n",
      "          counts each value except null values. To determine the number of null values in\n",
      "          a field, use the COUNT statistic on the field in question, and a COUNT statistic\n",
      "          on a different field which does not contain nulls (for example, the OID if\n",
      "          present), then subtract the two values.\n",
      "      multi_part {Boolean}:\n",
      "          Specifies whether multipart features are allowed in the output feature class.\n",
      "\n",
      "          * MULTI_PART—Specifies multipart features are allowed. This is the default.\n",
      "\n",
      "          * SINGLE_PART—Specifies multipart features are not allowed. Instead of creating\n",
      "          multipart features, individual features will be created for each part.\n",
      "      unsplit_lines {Boolean}:\n",
      "          Controls how line features are dissolved.\n",
      "\n",
      "          * DISSOLVE_LINES—Lines are dissolved into a single feature. This is the default.\n",
      "\n",
      "          * UNSPLIT_LINES—Lines are only dissolved when two lines have an end vertex in\n",
      "          common.\n",
      "\n",
      "     OUTPUTS:\n",
      "      out_feature_class (Feature Class):\n",
      "          The feature class to be created that will contain the aggregated features.\n"
     ]
    }
   ],
   "source": [
    "print arcpy.Dissolve_management.__doc__"
   ]
  },
  {
   "cell_type": "markdown",
   "metadata": {},
   "source": [
    "### Challenge 2"
   ]
  },
  {
   "cell_type": "code",
   "execution_count": 78,
   "metadata": {
    "collapsed": false
   },
   "outputs": [
    {
     "data": {
      "text/plain": [
       "<Result 'Results/hospitals.shp'>"
      ]
     },
     "execution_count": 78,
     "metadata": {},
     "output_type": "execute_result"
    }
   ],
   "source": [
    "import arcpy\n",
    "from arcpy import env\n",
    "env.workspace = os.getcwd()\n",
    "arcpy.AddXY_management(\"Results/hospitals.shp\")"
   ]
  },
  {
   "cell_type": "markdown",
   "metadata": {},
   "source": [
    "### Challenge 3"
   ]
  },
  {
   "cell_type": "code",
   "execution_count": 81,
   "metadata": {
    "collapsed": true
   },
   "outputs": [],
   "source": [
    "import arcpy\n",
    "from arcpy import env\n",
    "env.workspace = os.getcwd()"
   ]
  },
  {
   "cell_type": "code",
   "execution_count": 83,
   "metadata": {
    "collapsed": false
   },
   "outputs": [
    {
     "data": {
      "text/plain": [
       "<Result 'Results\\\\parks_dissolved.shp'>"
      ]
     },
     "execution_count": 83,
     "metadata": {},
     "output_type": "execute_result"
    }
   ],
   "source": [
    "arcpy.Dissolve_management(\"DATA/parks.shp\", \"Results/parks_dissolved.shp\", \"PARK_TYPE\", \"\", \"FALSE\")"
   ]
  },
  {
   "cell_type": "markdown",
   "metadata": {},
   "source": [
    "### Challenge 4"
   ]
  },
  {
   "cell_type": "code",
   "execution_count": 89,
   "metadata": {
    "collapsed": false
   },
   "outputs": [
    {
     "name": "stdout",
     "output_type": "stream",
     "text": [
      "The following extensions are available: \n",
      "3D Analyst \n",
      "Spatial Analyst \n",
      "Network Analyst \n",
      "no extensions are available\n"
     ]
    }
   ],
   "source": [
    "import arcpy\n",
    "default = \"no extensions are available\"\n",
    "\n",
    "if arcpy.CheckExtension(\"3D\") == \"Available\":\n",
    "    ext_3D = \"3D Analyst \"\n",
    "else:\n",
    "    ext_3D = \"\"\n",
    "    \n",
    "if arcpy.CheckExtension(\"Network\") == \"Available\":\n",
    "    ext_network = \"Network Analyst \"\n",
    "else:\n",
    "    ext_network = \"\"\n",
    "    \n",
    "if arcpy.CheckExtension(\"Spatial\") == \"Available\":\n",
    "    ext_spatial = \"Spatial Analyst \"\n",
    "else:\n",
    "    ext_spatial = \"\"\n",
    "    \n",
    "print \"The following extensions are available: \\n\" + ext_3D + \"\\n\" + ext_spatial + \"\\n\" + ext_network + \"\\n\" + default"
   ]
  }
 ],
 "metadata": {
  "kernelspec": {
   "display_name": "Python 2",
   "language": "python",
   "name": "python2"
  },
  "language_info": {
   "codemirror_mode": {
    "name": "ipython",
    "version": 2
   },
   "file_extension": ".py",
   "mimetype": "text/x-python",
   "name": "python",
   "nbconvert_exporter": "python",
   "pygments_lexer": "ipython2",
   "version": "2.7.2"
  }
 },
 "nbformat": 4,
 "nbformat_minor": 0
}
