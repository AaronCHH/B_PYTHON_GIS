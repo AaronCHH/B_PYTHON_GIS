{
 "cells": [
  {
   "cell_type": "code",
   "execution_count": null,
   "metadata": {
    "collapsed": true
   },
   "outputs": [],
   "source": [
    "# %load random_sample.py\n",
    "import arcpy\n",
    "import random\n",
    "from arcpy import env\n",
    "env.overwriteoutput = True\n",
    "inputfc = \"C:/EsriPress/Python/Data/Exercise13/points.shp\"\n",
    "outputfc = \"C:/EsriPress/Python/Data/Exercise13/Results/random.shp\"\n",
    "outcount = 50\n",
    "desc = arcpy.Describe(inputfc)\n",
    "inlist = []\n",
    "randomlist = []\n",
    "fldname = desc.OIDFieldName\n",
    "rows = arcpy.SearchCursor(inputfc)\n",
    "row = rows.next()\n",
    "while row:\n",
    "    id = row.getValue(fldname)\n",
    "    inlist.append(id)\n",
    "    row = rows.next()\n",
    "while len(randomlist) < outcount:\n",
    "    selitem = random.choice(inlist)\n",
    "    randomlist.append(selitem)\n",
    "    inlist.remove(selitem)\n",
    "length = len(str(randomlist))\n",
    "sqlexp = '\"' + fldname + '\"' + \" in \" + \"(\" + str(randomlist)[1:length - 1] + \")\"\n",
    "arcpy.MakeFeatureLayer_management(inputfc, \"selection\", sqlexp)\n",
    "arcpy.CopyFeatures_management(\"selection\", outputfc)"
   ]
  },
  {
   "cell_type": "code",
   "execution_count": 3,
   "metadata": {
    "collapsed": true
   },
   "outputs": [],
   "source": [
    "import os\n",
    "import arcpy\n",
    "import random\n",
    "from arcpy import env\n",
    "env.workspace = os.getcwd()\n",
    "# ----\n",
    "env.overwriteoutput = True\n",
    "inputfc = \"DATA/points.shp\"\n",
    "outputfc = \"Results/random.shp\"\n",
    "outcount = 50\n",
    "desc = arcpy.Describe(inputfc)\n",
    "inlist = []\n",
    "randomlist = []\n",
    "fldname = desc.OIDFieldName\n",
    "rows = arcpy.SearchCursor(inputfc)\n",
    "row = rows.next()\n",
    "while row:\n",
    "  id = row.getValue(fldname)\n",
    "  inlist.append(id)\n",
    "  row = rows.next()\n",
    "while len(randomlist) < outcount:\n",
    "  selitem = random.choice(inlist)\n",
    "  randomlist.append(selitem)\n",
    "  inlist.remove(selitem)\n",
    "length = len(str(randomlist))\n",
    "sqlexp = '\"' + fldname + '\"' + \" in \" + \"(\" + str(randomlist)[1:length - 1] + \")\"\n",
    "arcpy.MakeFeatureLayer_management(inputfc, \"selection\", sqlexp)\n",
    "arcpy.CopyFeatures_management(\"selection\", outputfc)"
   ]
  },
  {
   "cell_type": "code",
   "execution_count": null,
   "metadata": {
    "collapsed": true
   },
   "outputs": [],
   "source": []
  }
 ],
 "metadata": {
  "kernelspec": {
   "display_name": "Python 2",
   "language": "python",
   "name": "python2"
  },
  "language_info": {
   "codemirror_mode": {
    "name": "ipython",
    "version": 2
   },
   "file_extension": ".py",
   "mimetype": "text/x-python",
   "name": "python",
   "nbconvert_exporter": "python",
   "pygments_lexer": "ipython2",
   "version": "2.7.2"
  }
 },
 "nbformat": 4,
 "nbformat_minor": 0
}
