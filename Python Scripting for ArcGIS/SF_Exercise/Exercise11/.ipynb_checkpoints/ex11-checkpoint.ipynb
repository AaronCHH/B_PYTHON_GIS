{
 "cells": [
  {
   "cell_type": "markdown",
   "metadata": {},
   "source": [
    "## Examine syntax errors and exceptions"
   ]
  },
  {
   "cell_type": "code",
   "execution_count": 1,
   "metadata": {
    "collapsed": false
   },
   "outputs": [
    {
     "name": "stdout",
     "output_type": "stream",
     "text": [
      "bike_routes: Polyline\n",
      "county: Polygon\n",
      "facilities: Point\n",
      "parks: Polygon\n"
     ]
    }
   ],
   "source": [
    "# fclist.py\n",
    "import os\n",
    "import arcpy\n",
    "from arcpy import env\n",
    "env.workspace = os.getcwd() + \"\\\\DATA\"\n",
    "# ---\n",
    "fclist = arcpy.ListFeatureClasses()\n",
    "for fc in fclist:\n",
    "  desc = arcpy.Describe(fc)\n",
    "  print desc.basename + \": \" + desc.shapeType"
   ]
  },
  {
   "cell_type": "markdown",
   "metadata": {},
   "source": [
    "## Implement debugging procedures"
   ]
  },
  {
   "cell_type": "code",
   "execution_count": 21,
   "metadata": {
    "collapsed": false
   },
   "outputs": [],
   "source": [
    "# copyfcs.py\n",
    "import arcpy\n",
    "import os\n",
    "from arcpy import env\n",
    "env.workspace = os.getcwd() + \"\\\\DATA\"\n",
    "# ---\n",
    "fclist = arcpy.ListFeatureClasses()\n",
    "for fc in fclist:\n",
    "  desc = arcpy.Describe(fc)\n",
    "  arcpy.CopyFeatures_management(fc, os.path.join(\"Results/study.mdb\", desc.basename))"
   ]
  },
  {
   "cell_type": "markdown",
   "metadata": {},
   "source": [
    "## Handle some exceptions"
   ]
  },
  {
   "cell_type": "code",
   "execution_count": 22,
   "metadata": {
    "collapsed": false
   },
   "outputs": [],
   "source": [
    "import arcpy, os\n",
    "from arcpy import env\n",
    "try:\n",
    "  env.workspace = os.getcwd() + \"\\\\DATA\"\n",
    "  fclist = arcpy.ListFeatureClasses()\n",
    "  for fc in fclist:\n",
    "    desc = arcpy.Describe(fc)\n",
    "    arcpy.CopyFeatures_management(fc, os.path.join(\"Results/mydata.mdb\", desc.basename))\n",
    "except arcpy.ExecuteError:\n",
    "  print arcpy.GetMessages(2)\n",
    "except:\n",
    "  print \"There has been a nontool error.\"    "
   ]
  }
 ],
 "metadata": {
  "kernelspec": {
   "display_name": "Python 2",
   "language": "python",
   "name": "python2"
  },
  "language_info": {
   "codemirror_mode": {
    "name": "ipython",
    "version": 2
   },
   "file_extension": ".py",
   "mimetype": "text/x-python",
   "name": "python",
   "nbconvert_exporter": "python",
   "pygments_lexer": "ipython2",
   "version": "2.7.2"
  }
 },
 "nbformat": 4,
 "nbformat_minor": 0
}
