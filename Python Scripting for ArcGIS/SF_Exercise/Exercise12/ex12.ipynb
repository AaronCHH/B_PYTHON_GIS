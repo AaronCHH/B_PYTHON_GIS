{
 "cells": [
  {
   "cell_type": "markdown",
   "metadata": {},
   "source": [
    "## Create Python functions"
   ]
  },
  {
   "cell_type": "code",
   "execution_count": null,
   "metadata": {
    "collapsed": true
   },
   "outputs": [],
   "source": [
    "import os\n",
    "import arcpy\n",
    "arcpy.env.workspace = os.getcwd()\n",
    "fields = arcpy.ListFields(\"DATA/streets.shp\")\n",
    "print fields"
   ]
  },
  {
   "cell_type": "code",
   "execution_count": null,
   "metadata": {
    "collapsed": false,
    "scrolled": true
   },
   "outputs": [],
   "source": [
    "import os\n",
    "import arcpy\n",
    "arcpy.env.workspace = os.getcwd()\n",
    "fields = arcpy.ListFields(\"DATA/streets.shp\")\n",
    "namelist = []\n",
    "for field in fields:\n",
    "  namelist.append(field.name)\n",
    "print namelist"
   ]
  },
  {
   "cell_type": "code",
   "execution_count": null,
   "metadata": {
    "collapsed": false
   },
   "outputs": [],
   "source": [
    "import arcpy\n",
    "def listfieldnames(table):\n",
    "  fields = arcpy.ListFields(table)\n",
    "  namelist = []\n",
    "  for field in fields:\n",
    "    namelist.append(field.name)\n",
    "  return namelist\n",
    "\n",
    "fieldnames = listfieldnames(\"DATA/streets.shp\")\n",
    "print fieldnames"
   ]
  },
  {
   "cell_type": "markdown",
   "metadata": {},
   "source": [
    "## Call functions from other scripts"
   ]
  },
  {
   "cell_type": "code",
   "execution_count": 8,
   "metadata": {
    "collapsed": false,
    "scrolled": true
   },
   "outputs": [
    {
     "name": "stdout",
     "output_type": "stream",
     "text": [
      "[u'FID', u'Shape', u'OBJECTID', u'PRE_TYPE', u'ST_NAME', u'STREET_NAM', u'STREET_TYP', u'SUF_DIR', u'FULLNAME', u'LOW', u'HIGH', u'L_ADD_FROM', u'L_ADD_TO', u'R_ADD_FROM', u'R_ADD_TO', u'L_PLACE', u'R_PLACE', u'L_CITY', u'R_CITY', u'STATE', u'ZIP_RIGHT', u'ZIP_LEFT', u'ESN_LEFT', u'ESN_RIGHT', u'L_PRECINCT', u'R_PRECINCT', u'L_SCHOOL', u'R_SCHOOL', u'REGION', u'EDIT_DATE', u'COMMENTS', u'STATUS', u'SURFACE_TY', u'SPEED', u'NUM_LANES', u'ROAD_ROW_W', u'ALIAS', u'RD_NUMBER', u'FUNCTIONAL', u'LABEL_CLAS', u'ROADCLASS', u'CLASS', u'LINK_CLASS', u'LINK_NUM', u'SNOW_ROUTE', u'GARBAGE_RO', u'RECYCLING_', u'STATE_AID_', u'STATE_AID1', u'MAINT_FUND', u'MAINT_OWNE', u'MAINT_BY', u'MAINT_DIST', u'MAINT_DI_1', u'MAINT_TYPE', u'MAINT_WINT', u'MAINT_RURA', u'MAINT_LINK', u'HWY_CONTRO', u'HWY_SEGMEN', u'LOAD_RESTR', u'POSTAL_ROU', u'NAVSTREETS', u'CO_CODE', u'CO_NAME', u'PSAP_ID', u'ONEWAY', u'TF_MINUTES', u'FT_MINUTES', u'F_ZLEV', u'T_ZLEV', u'FEET', u'Shape_len']\n"
     ]
    }
   ],
   "source": [
    "import os\n",
    "import arcpy\n",
    "import list\n",
    "arcpy.env.workspace = os.getcwd()\n",
    "fields = list.listfieldnames(\"DATA/streets.shp\")\n",
    "print fields"
   ]
  },
  {
   "cell_type": "code",
   "execution_count": null,
   "metadata": {
    "collapsed": true
   },
   "outputs": [],
   "source": [
    "# list.py\n",
    "import arcpy\n",
    "def listfieldnames(table):\n",
    "  fields = arcpy.ListFields(table)\n",
    "  namelist = []\n",
    "  for field in fields:\n",
    "    namelist.append(field.name)\n",
    "  return namelist\n",
    "\n",
    "if __name__ == \"__main__\":\n",
    "  fieldnames = listfieldnames(\"DATA/streets.shp\")\n",
    "  print fieldnames\n",
    "  raw_input()"
   ]
  },
  {
   "cell_type": "markdown",
   "metadata": {},
   "source": [
    "## Work with classes"
   ]
  },
  {
   "cell_type": "code",
   "execution_count": 9,
   "metadata": {
    "collapsed": true
   },
   "outputs": [
    {
     "ename": "ValueError",
     "evalue": "invalid literal for int() with base 10: 'C:\\\\Users\\\\AaronHsu\\\\AppData\\\\Roaming\\\\jupyter\\\\runtime\\\\kernel-e4f31c44-6c70-46ab-bbd2-1d4c6cfb1a62.json'",
     "output_type": "error",
     "traceback": [
      "\u001b[1;31m---------------------------------------------------------------------------\u001b[0m",
      "\u001b[1;31mValueError\u001b[0m                                Traceback (most recent call last)",
      "\u001b[1;32m<ipython-input-9-18df5b813fd9>\u001b[0m in \u001b[0;36m<module>\u001b[1;34m()\u001b[0m\n\u001b[0;32m      1\u001b[0m \u001b[1;32mimport\u001b[0m \u001b[0msys\u001b[0m\u001b[1;33m\u001b[0m\u001b[0m\n\u001b[0;32m      2\u001b[0m \u001b[0mlanduse\u001b[0m \u001b[1;33m=\u001b[0m \u001b[0msys\u001b[0m\u001b[1;33m.\u001b[0m\u001b[0margv\u001b[0m\u001b[1;33m[\u001b[0m\u001b[1;36m1\u001b[0m\u001b[1;33m]\u001b[0m\u001b[1;33m\u001b[0m\u001b[0m\n\u001b[1;32m----> 3\u001b[1;33m \u001b[0mvalue\u001b[0m \u001b[1;33m=\u001b[0m \u001b[0mint\u001b[0m\u001b[1;33m(\u001b[0m\u001b[0msys\u001b[0m\u001b[1;33m.\u001b[0m\u001b[0margv\u001b[0m\u001b[1;33m[\u001b[0m\u001b[1;36m2\u001b[0m\u001b[1;33m]\u001b[0m\u001b[1;33m)\u001b[0m\u001b[1;33m\u001b[0m\u001b[0m\n\u001b[0m\u001b[0;32m      4\u001b[0m \u001b[1;32mif\u001b[0m \u001b[0mlanduse\u001b[0m \u001b[1;33m==\u001b[0m \u001b[1;34m\"SFR\"\u001b[0m\u001b[1;33m:\u001b[0m\u001b[1;33m\u001b[0m\u001b[0m\n\u001b[0;32m      5\u001b[0m   \u001b[0mrate\u001b[0m \u001b[1;33m=\u001b[0m \u001b[1;36m0.05\u001b[0m\u001b[1;33m\u001b[0m\u001b[0m\n",
      "\u001b[1;31mValueError\u001b[0m: invalid literal for int() with base 10: 'C:\\\\Users\\\\AaronHsu\\\\AppData\\\\Roaming\\\\jupyter\\\\runtime\\\\kernel-e4f31c44-6c70-46ab-bbd2-1d4c6cfb1a62.json'"
     ]
    }
   ],
   "source": [
    "# assessment.py\n",
    "import sys\n",
    "landuse = sys.argv[1]\n",
    "value = int(sys.argv[2])\n",
    "if landuse == \"SFR\":\n",
    "  rate = 0.05\n",
    "elif landuse == \"MFR\":\n",
    "  rate = 0.04\n",
    "else:\n",
    "  rate = 0.02\n",
    "assessment = value * rate\n",
    "print assessment"
   ]
  },
  {
   "cell_type": "code",
   "execution_count": 11,
   "metadata": {
    "collapsed": true
   },
   "outputs": [],
   "source": [
    "# %load SCRIPTS/tax.py\n",
    "def taxcalc(landuse, value):\n",
    "  if landuse == \"SFR\":\n",
    "    rate = 0.05\n",
    "  elif landuse == \"MFR\":\n",
    "    rate = 0.04\n",
    "  else:\n",
    "    rate = 0.02\n",
    "  assessment = value * rate\n",
    "  return assessment"
   ]
  },
  {
   "cell_type": "code",
   "execution_count": 13,
   "metadata": {
    "collapsed": false
   },
   "outputs": [
    {
     "name": "stdout",
     "output_type": "stream",
     "text": [
      "6250.0\n"
     ]
    }
   ],
   "source": [
    "mytax = taxcalc(\"SFR\", 125000)\n",
    "print mytax"
   ]
  },
  {
   "cell_type": "markdown",
   "metadata": {},
   "source": [
    "---"
   ]
  },
  {
   "cell_type": "code",
   "execution_count": 17,
   "metadata": {
    "collapsed": true
   },
   "outputs": [],
   "source": [
    "# %load SCRIPTS/parcelclass.py\n",
    "class Parcel:\n",
    "  def __init__(self, landuse, value):\n",
    "    self.landuse = landuse\n",
    "    self.value = value\n",
    "  def assessment(self):\n",
    "    if self.landuse == \"SFR\":\n",
    "      rate = 0.05\n",
    "    elif self.landuse == \"MFR\":\n",
    "      rate = 0.04\n",
    "    else:\n",
    "      rate = 0.02\n",
    "    assessment = self.value * rate\n",
    "    return assessment"
   ]
  },
  {
   "cell_type": "code",
   "execution_count": 18,
   "metadata": {
    "collapsed": false
   },
   "outputs": [
    {
     "name": "stdout",
     "output_type": "stream",
     "text": [
      "Land use:  SFR\n",
      "Tax assessment:  6250.0\n"
     ]
    }
   ],
   "source": [
    "myparcel = Parcel(\"SFR\", 125000)\n",
    "print \"Land use: \", myparcel.landuse\n",
    "mytax = myparcel.assessment()\n",
    "print \"Tax assessment: \", mytax"
   ]
  },
  {
   "cell_type": "markdown",
   "metadata": {},
   "source": [
    "## Challenge exercises"
   ]
  },
  {
   "cell_type": "markdown",
   "metadata": {},
   "source": [
    "## Challenge 1"
   ]
  },
  {
   "cell_type": "code",
   "execution_count": null,
   "metadata": {
    "collapsed": true
   },
   "outputs": [],
   "source": [
    "# %load callingscript.py\n",
    "import arcpy\n",
    "import mycount\n",
    "table = \"DATA/streets.shp\"\n",
    "print mycount.countstringfields(table)\n",
    "raw_input()"
   ]
  },
  {
   "cell_type": "code",
   "execution_count": null,
   "metadata": {
    "collapsed": true
   },
   "outputs": [],
   "source": [
    "# %load mycount.py\n",
    "import arcpy\n",
    "import os\n",
    "def countstringfields(table):\n",
    "  fields = arcpy.ListFields(table)\n",
    "  i = 0\n",
    "  for field in fields:\n",
    "    if field.type == \"String\":\n",
    "      i += 1\n",
    "  return i"
   ]
  },
  {
   "cell_type": "markdown",
   "metadata": {},
   "source": [
    "## Challenge 2"
   ]
  },
  {
   "cell_type": "code",
   "execution_count": 27,
   "metadata": {
    "collapsed": true
   },
   "outputs": [
    {
     "name": "stdout",
     "output_type": "stream",
     "text": [
      "0: 19000.0\n",
      "1: 27000.0\n",
      "2: 9200.0\n",
      "3: 6250.0\n",
      "4: 13000.0\n",
      "5: 24800.0\n",
      "6: 6250.0\n",
      "7: 6250.0\n",
      "8: 6250.0\n",
      "9: 6250.0\n",
      "10: 6250.0\n",
      "11: 6250.0\n",
      "12: 6250.0\n",
      "13: 6250.0\n",
      "14: 6250.0\n",
      "15: 5750.0\n",
      "16: 6250.0\n",
      "17: 6250.0\n",
      "18: 6250.0\n",
      "19: 6250.0\n",
      "20: 6250.0\n",
      "21: 6250.0\n",
      "22: 6250.0\n",
      "23: 6250.0\n",
      "24: 6250.0\n",
      "25: 6250.0\n",
      "26: 6250.0\n",
      "27: 6250.0\n",
      "28: 6250.0\n",
      "29: 6250.0\n",
      "30: 6250.0\n",
      "31: 6250.0\n",
      "32: 6250.0\n",
      "33: 6250.0\n",
      "34: 6250.0\n",
      "35: 6250.0\n",
      "36: 6250.0\n",
      "37: 6250.0\n",
      "38: 6250.0\n",
      "39: 6250.0\n",
      "40: 6250.0\n",
      "41: 6250.0\n",
      "42: 6250.0\n",
      "43: 8500.0\n",
      "44: 6250.0\n",
      "45: 6250.0\n",
      "46: 6250.0\n",
      "47: 6250.0\n",
      "48: 6250.0\n",
      "49: 6250.0\n",
      "50: 6250.0\n",
      "51: 6250.0\n",
      "52: 6250.0\n",
      "53: 6250.0\n",
      "54: 8250.0\n",
      "55: 6250.0\n",
      "56: 6750.0\n",
      "57: 6250.0\n",
      "58: 6250.0\n",
      "59: 6250.0\n",
      "60: 6250.0\n",
      "61: 6250.0\n",
      "62: 6250.0\n",
      "63: 6250.0\n",
      "64: 6250.0\n",
      "65: 6250.0\n",
      "66: 6250.0\n",
      "67: 6250.0\n",
      "68: 6250.0\n",
      "69: 6250.0\n",
      "70: 6250.0\n",
      "71: 6250.0\n",
      "72: 6250.0\n",
      "73: 6250.0\n",
      "74: 6250.0\n",
      "75: 6250.0\n",
      "76: 6250.0\n",
      "77: 6250.0\n",
      "78: 5750.0\n",
      "79: 6250.0\n",
      "80: 6250.0\n",
      "81: 6250.0\n",
      "82: 6250.0\n",
      "83: 6250.0\n",
      "84: 6250.0\n",
      "85: 6250.0\n",
      "86: 6250.0\n",
      "87: 6250.0\n",
      "88: 6250.0\n",
      "89: 6250.0\n",
      "90: 6250.0\n",
      "91: 6250.0\n",
      "92: 6250.0\n",
      "93: 6250.0\n",
      "94: 6250.0\n",
      "95: 6250.0\n",
      "96: 6250.0\n",
      "97: 6250.0\n",
      "98: 6250.0\n",
      "99: 6250.0\n",
      "100: 6250.0\n",
      "101: 6250.0\n",
      "102: 6250.0\n",
      "103: 6250.0\n",
      "104: 7000.0\n",
      "105: 6250.0\n",
      "106: 6250.0\n",
      "107: 6250.0\n",
      "108: 6250.0\n",
      "109: 7250.0\n",
      "110: 6250.0\n",
      "111: 6250.0\n",
      "112: 6250.0\n",
      "113: 6250.0\n",
      "114: 6250.0\n",
      "115: 6250.0\n",
      "116: 6250.0\n",
      "117: 6250.0\n"
     ]
    }
   ],
   "source": [
    "# %load parcelclass.py\n",
    "import os\n",
    "import arcpy\n",
    "# import parcelclass\n",
    "from arcpy import env\n",
    "env.workspace = os.getcwd()\n",
    "fc = \"DATA/parcels.shp\"\n",
    "cursor = arcpy.da.SearchCursor(fc, [\"FID\", \"Landuse\", \"Value\"])\n",
    "for row in cursor:\n",
    "  myparcel = Parcel(row[1], row[2])\n",
    "  mytax = myparcel.assessment()\n",
    "  print \"{0}: {1}\".format(row[0], mytax)"
   ]
  },
  {
   "cell_type": "code",
   "execution_count": null,
   "metadata": {
    "collapsed": true
   },
   "outputs": [],
   "source": []
  }
 ],
 "metadata": {
  "kernelspec": {
   "display_name": "Python 2",
   "language": "python",
   "name": "python2"
  },
  "language_info": {
   "codemirror_mode": {
    "name": "ipython",
    "version": 2
   },
   "file_extension": ".py",
   "mimetype": "text/x-python",
   "name": "python",
   "nbconvert_exporter": "python",
   "pygments_lexer": "ipython2",
   "version": "2.7.2"
  }
 },
 "nbformat": 4,
 "nbformat_minor": 0
}
