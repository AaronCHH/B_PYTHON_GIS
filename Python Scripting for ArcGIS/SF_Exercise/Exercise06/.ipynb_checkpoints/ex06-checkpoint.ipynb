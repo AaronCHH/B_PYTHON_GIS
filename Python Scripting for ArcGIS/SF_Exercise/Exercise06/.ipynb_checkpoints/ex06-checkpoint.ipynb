{
 "cells": [
  {
   "cell_type": "markdown",
   "metadata": {},
   "source": [
    "## Check for the existence of data"
   ]
  },
  {
   "cell_type": "markdown",
   "metadata": {},
   "source": [
    "### Case 1"
   ]
  },
  {
   "cell_type": "code",
   "execution_count": 1,
   "metadata": {
    "collapsed": true
   },
   "outputs": [],
   "source": [
    "import os\n",
    "import arcpy\n",
    "from arcpy import env\n",
    "env.workspace = os.getcwd()"
   ]
  },
  {
   "cell_type": "code",
   "execution_count": 2,
   "metadata": {
    "collapsed": false
   },
   "outputs": [
    {
     "name": "stdout",
     "output_type": "stream",
     "text": [
      "True\n"
     ]
    }
   ],
   "source": [
    "shape_exists = arcpy.Exists(\"DATA/cities.shp\")\n",
    "print shape_exists"
   ]
  },
  {
   "cell_type": "markdown",
   "metadata": {},
   "source": [
    "### Case 2"
   ]
  },
  {
   "cell_type": "code",
   "execution_count": null,
   "metadata": {
    "collapsed": true
   },
   "outputs": [],
   "source": [
    "import os\n",
    "import arcpy\n",
    "from arcpy import env\n",
    "env.workspace = os.getcwd()"
   ]
  },
  {
   "cell_type": "code",
   "execution_count": 18,
   "metadata": {
    "collapsed": true
   },
   "outputs": [],
   "source": [
    "if arcpy.Exists(\"DATA/cities.shp\"):\n",
    "    arcpy.CopyFeatures_management(\"DATA/cities.shp\", \"Results/cities_copy.shp\")"
   ]
  },
  {
   "cell_type": "markdown",
   "metadata": {},
   "source": [
    "-------------------- "
   ]
  },
  {
   "cell_type": "markdown",
   "metadata": {},
   "source": [
    "## Describe the data"
   ]
  },
  {
   "cell_type": "code",
   "execution_count": 19,
   "metadata": {
    "collapsed": true
   },
   "outputs": [],
   "source": [
    "import os\n",
    "import arcpy\n",
    "from arcpy import env\n",
    "env.workspace = os.getcwd()"
   ]
  },
  {
   "cell_type": "code",
   "execution_count": 20,
   "metadata": {
    "collapsed": true
   },
   "outputs": [],
   "source": [
    "myshape = arcpy.Describe(\"DATA/cities.shp\")"
   ]
  },
  {
   "cell_type": "code",
   "execution_count": 21,
   "metadata": {
    "collapsed": false
   },
   "outputs": [
    {
     "name": "stdout",
     "output_type": "stream",
     "text": [
      "<geoprocessing describe data object object at 0x0A5CC4E8>\n"
     ]
    }
   ],
   "source": [
    "print myshape"
   ]
  },
  {
   "cell_type": "code",
   "execution_count": 23,
   "metadata": {
    "collapsed": false
   },
   "outputs": [
    {
     "data": {
      "text/plain": [
       "u'ShapeFile'"
      ]
     },
     "execution_count": 23,
     "metadata": {},
     "output_type": "execute_result"
    }
   ],
   "source": [
    "myshape.dataType"
   ]
  },
  {
   "cell_type": "markdown",
   "metadata": {},
   "source": [
    "---"
   ]
  },
  {
   "cell_type": "markdown",
   "metadata": {},
   "source": [
    "```python\n",
    "# for python window\n",
    "mylayer = arcpy.Describe(\"cities\")\n",
    "print mylayer.dataType\n",
    "print mylayer.datasetType\n",
    "print mylayer.catalogPath\n",
    "print mylayer.basename\n",
    "print mylayer.file\n",
    "print mylayer.isVersioned\n",
    "print mylayer.shapeType\n",
    "print mylayer.spatialReference\n",
    "print mylayer.spatialReference.name\n",
    "print mylayer.spatialReference.type\n",
    "print mylayer.spatialReference.domain\n",
    "```"
   ]
  },
  {
   "cell_type": "markdown",
   "metadata": {},
   "source": [
    "```python\n",
    "# output\n",
    "FeatureLayer\n",
    "FeatureClass\n",
    "D:\\BOOKS\\GISen\\_PYTHON\\Python Scripting for ArcGIS\\SF_Exercise\\Exercise06\\DATA\\cities.shp\n",
    "cities\n",
    "cities.shp\n",
    "False\n",
    "Point\n",
    "<geoprocessing spatial reference object object at 0x1C9CF8A8>\n",
    "GCS_North_American_1983\n",
    "Geographic\n",
    "-400 -400 400 400\n",
    "```"
   ]
  },
  {
   "cell_type": "markdown",
   "metadata": {},
   "source": [
    "## List the data"
   ]
  },
  {
   "cell_type": "code",
   "execution_count": 49,
   "metadata": {
    "collapsed": true
   },
   "outputs": [],
   "source": [
    "import os\n",
    "import arcpy\n",
    "from arcpy import env\n",
    "env.workspace = os.getcwd() + \"\\\\DATA\""
   ]
  },
  {
   "cell_type": "code",
   "execution_count": 50,
   "metadata": {
    "collapsed": false
   },
   "outputs": [
    {
     "name": "stdout",
     "output_type": "stream",
     "text": [
      "[u'amtrak_stations.shp', u'cities.shp', u'counties.shp', u'new_mexico.shp', u'railroads.shp']\n"
     ]
    }
   ],
   "source": [
    "fclist = arcpy.ListFeatureClasses()\n",
    "print fclist"
   ]
  },
  {
   "cell_type": "markdown",
   "metadata": {},
   "source": [
    "---"
   ]
  },
  {
   "cell_type": "code",
   "execution_count": 51,
   "metadata": {
    "collapsed": true
   },
   "outputs": [],
   "source": [
    "import os\n",
    "import arcpy\n",
    "from arcpy import env\n",
    "env.workspace = os.getcwd() + \"\\\\DATA\""
   ]
  },
  {
   "cell_type": "code",
   "execution_count": 52,
   "metadata": {
    "collapsed": false
   },
   "outputs": [
    {
     "name": "stdout",
     "output_type": "stream",
     "text": [
      "Name: amtrak_stations.shp\n",
      "Data type: ShapeFile\n",
      "Name: cities.shp\n",
      "Data type: ShapeFile\n",
      "Name: counties.shp\n",
      "Data type: ShapeFile\n",
      "Name: new_mexico.shp\n",
      "Data type: ShapeFile\n",
      "Name: railroads.shp\n",
      "Data type: ShapeFile\n"
     ]
    }
   ],
   "source": [
    "fclist = arcpy.ListFeatureClasses()\n",
    "for fc in fclist:\n",
    "    fcdescribe = arcpy.Describe(fc)\n",
    "    print \"Name: \" + fcdescribe.name\n",
    "    print \"Data type: \" + fcdescribe.dataType"
   ]
  },
  {
   "cell_type": "markdown",
   "metadata": {},
   "source": [
    "---"
   ]
  },
  {
   "cell_type": "code",
   "execution_count": 53,
   "metadata": {
    "collapsed": true
   },
   "outputs": [],
   "source": [
    "import os\n",
    "import arcpy\n",
    "from arcpy import env\n",
    "env.workspace = os.getcwd() + \"\\\\DATA\""
   ]
  },
  {
   "cell_type": "code",
   "execution_count": 54,
   "metadata": {
    "collapsed": true
   },
   "outputs": [],
   "source": [
    "fclist = arcpy.ListFeatureClasses()\n",
    "for fc in fclist:\n",
    "    arcpy.CopyFeatures_management(fc, \"Results/\" + fc)"
   ]
  },
  {
   "cell_type": "markdown",
   "metadata": {},
   "source": [
    "---"
   ]
  },
  {
   "cell_type": "code",
   "execution_count": 55,
   "metadata": {
    "collapsed": true
   },
   "outputs": [],
   "source": [
    "import os\n",
    "import arcpy\n",
    "from arcpy import env\n",
    "env.workspace = os.getcwd() + \"\\\\DATA\""
   ]
  },
  {
   "cell_type": "code",
   "execution_count": 57,
   "metadata": {
    "collapsed": false
   },
   "outputs": [],
   "source": [
    "arcpy.CreateFileGDB_management(\"Results\", \"NM.gdb\")\n",
    "fclist = arcpy.ListFeatureClasses()\n",
    "for fc in fclist:\n",
    "    fcdesc = arcpy.Describe(fc)\n",
    "    arcpy.CopyFeatures_management(fc, \"Results/NM.gdb/\" + fcdesc.basename)"
   ]
  },
  {
   "cell_type": "markdown",
   "metadata": {},
   "source": [
    "---"
   ]
  },
  {
   "cell_type": "code",
   "execution_count": 60,
   "metadata": {
    "collapsed": true
   },
   "outputs": [],
   "source": [
    "import os\n",
    "import arcpy\n",
    "from arcpy import env\n",
    "env.workspace = os.getcwd() + \"\\\\DATA\""
   ]
  },
  {
   "cell_type": "code",
   "execution_count": 61,
   "metadata": {
    "collapsed": false
   },
   "outputs": [
    {
     "name": "stdout",
     "output_type": "stream",
     "text": [
      "FID OID\n",
      "Shape Geometry\n",
      "CITIESX020 Double\n",
      "FEATURE String\n",
      "NAME String\n",
      "POP_RANGE String\n",
      "POP_2000 Integer\n",
      "FIPS55 String\n",
      "COUNTY String\n",
      "FIPS String\n",
      "STATE String\n",
      "STATE_FIPS String\n",
      "DISPLAY SmallInteger\n"
     ]
    }
   ],
   "source": [
    "fieldlist = arcpy.ListFields(\"cities.shp\")\n",
    "for field in fieldlist:\n",
    "    print field.name + \" \" + field.type"
   ]
  },
  {
   "cell_type": "markdown",
   "metadata": {},
   "source": [
    "# Manipulate lists"
   ]
  },
  {
   "cell_type": "code",
   "execution_count": 62,
   "metadata": {
    "collapsed": true
   },
   "outputs": [],
   "source": [
    "import os\n",
    "import arcpy\n",
    "from arcpy import env\n",
    "env.workspace = os.getcwd() + \"\\\\DATA\""
   ]
  },
  {
   "cell_type": "code",
   "execution_count": 63,
   "metadata": {
    "collapsed": false
   },
   "outputs": [
    {
     "name": "stdout",
     "output_type": "stream",
     "text": [
      "[u'amtrak_stations.shp', u'cities.shp', u'counties.shp', u'new_mexico.shp', u'railroads.shp']\n"
     ]
    }
   ],
   "source": [
    "fclist = arcpy.ListFeatureClasses()\n",
    "print fclist"
   ]
  },
  {
   "cell_type": "code",
   "execution_count": 65,
   "metadata": {
    "collapsed": false
   },
   "outputs": [
    {
     "name": "stdout",
     "output_type": "stream",
     "text": [
      "amtrak_stations.shp\n",
      "new_mexico.shp\n",
      "railroads.shp\n",
      "[u'cities.shp', u'counties.shp']\n",
      "[u'counties.shp', u'new_mexico.shp', u'railroads.shp']\n"
     ]
    }
   ],
   "source": [
    "print fclist[0]\n",
    "print fclist[3]\n",
    "print fclist[-1]\n",
    "print fclist[1:3]\n",
    "print fclist[2:]"
   ]
  },
  {
   "cell_type": "code",
   "execution_count": 66,
   "metadata": {
    "collapsed": true
   },
   "outputs": [],
   "source": [
    "cities = [\"Alameda\", \"Brazos\", \"Chimayo\", \"Dulce\"]"
   ]
  },
  {
   "cell_type": "code",
   "execution_count": 67,
   "metadata": {
    "collapsed": false
   },
   "outputs": [
    {
     "data": {
      "text/plain": [
       "4"
      ]
     },
     "execution_count": 67,
     "metadata": {},
     "output_type": "execute_result"
    }
   ],
   "source": [
    "len(cities)"
   ]
  },
  {
   "cell_type": "code",
   "execution_count": 68,
   "metadata": {
    "collapsed": false
   },
   "outputs": [
    {
     "name": "stdout",
     "output_type": "stream",
     "text": [
      "['Alameda', 'Brazos', 'Dulce']\n"
     ]
    }
   ],
   "source": [
    "del cities[2]\n",
    "print cities"
   ]
  },
  {
   "cell_type": "code",
   "execution_count": 69,
   "metadata": {
    "collapsed": false
   },
   "outputs": [
    {
     "name": "stdout",
     "output_type": "stream",
     "text": [
      "['Dulce', 'Brazos', 'Alameda']\n"
     ]
    }
   ],
   "source": [
    "cities.sort(reverse = True)\n",
    "print cities"
   ]
  },
  {
   "cell_type": "code",
   "execution_count": 70,
   "metadata": {
    "collapsed": false
   },
   "outputs": [
    {
     "name": "stdout",
     "output_type": "stream",
     "text": [
      "['Alameda', 'Brazos', 'Dulce']\n"
     ]
    }
   ],
   "source": [
    "cities.sort()\n",
    "print cities"
   ]
  },
  {
   "cell_type": "code",
   "execution_count": 71,
   "metadata": {
    "collapsed": false
   },
   "outputs": [
    {
     "data": {
      "text/plain": [
       "False"
      ]
     },
     "execution_count": 71,
     "metadata": {},
     "output_type": "execute_result"
    }
   ],
   "source": [
    "\"Zuni\" in cities"
   ]
  },
  {
   "cell_type": "code",
   "execution_count": 72,
   "metadata": {
    "collapsed": false
   },
   "outputs": [
    {
     "name": "stdout",
     "output_type": "stream",
     "text": [
      "['Alameda', 'Brazos', 'Dulce', 'Zuni']\n"
     ]
    }
   ],
   "source": [
    "cities.append(\"Zuni\")\n",
    "print cities"
   ]
  },
  {
   "cell_type": "code",
   "execution_count": 73,
   "metadata": {
    "collapsed": false
   },
   "outputs": [
    {
     "name": "stdout",
     "output_type": "stream",
     "text": [
      "['Espanola', 'Alameda', 'Brazos', 'Dulce', 'Zuni']\n"
     ]
    }
   ],
   "source": [
    "cities.insert(0,\"Espanola\")\n",
    "print cities"
   ]
  },
  {
   "cell_type": "markdown",
   "metadata": {},
   "source": [
    "---"
   ]
  },
  {
   "cell_type": "markdown",
   "metadata": {},
   "source": [
    "## Work with dictionaries"
   ]
  },
  {
   "cell_type": "code",
   "execution_count": 77,
   "metadata": {
    "collapsed": true
   },
   "outputs": [],
   "source": [
    " countylookup = {\"Alameda\": \"Bernalillo County\", \"Brazos\": \"Rio Arriba County\", \"Chimayo\": \"Santa Fe County\"}"
   ]
  },
  {
   "cell_type": "code",
   "execution_count": 78,
   "metadata": {
    "collapsed": false
   },
   "outputs": [
    {
     "data": {
      "text/plain": [
       "'Rio Arriba County'"
      ]
     },
     "execution_count": 78,
     "metadata": {},
     "output_type": "execute_result"
    }
   ],
   "source": [
    "countylookup[\"Brazos\"]"
   ]
  },
  {
   "cell_type": "code",
   "execution_count": 79,
   "metadata": {
    "collapsed": false
   },
   "outputs": [
    {
     "ename": "KeyError",
     "evalue": "'Santa Fe County'",
     "output_type": "error",
     "traceback": [
      "\u001b[1;31m---------------------------------------------------------------------------\u001b[0m",
      "\u001b[1;31mKeyError\u001b[0m                                  Traceback (most recent call last)",
      "\u001b[1;32m<ipython-input-79-7824ed72662f>\u001b[0m in \u001b[0;36m<module>\u001b[1;34m()\u001b[0m\n\u001b[1;32m----> 1\u001b[1;33m \u001b[0mcountylookup\u001b[0m\u001b[1;33m[\u001b[0m\u001b[1;34m\"Santa Fe County\"\u001b[0m\u001b[1;33m]\u001b[0m\u001b[1;33m\u001b[0m\u001b[0m\n\u001b[0m",
      "\u001b[1;31mKeyError\u001b[0m: 'Santa Fe County'"
     ]
    }
   ],
   "source": [
    "countylookup[\"Santa Fe County\"]"
   ]
  },
  {
   "cell_type": "code",
   "execution_count": 80,
   "metadata": {
    "collapsed": false
   },
   "outputs": [
    {
     "data": {
      "text/plain": [
       "3"
      ]
     },
     "execution_count": 80,
     "metadata": {},
     "output_type": "execute_result"
    }
   ],
   "source": [
    "len(countylookup)"
   ]
  },
  {
   "cell_type": "code",
   "execution_count": 81,
   "metadata": {
    "collapsed": false
   },
   "outputs": [
    {
     "data": {
      "text/plain": [
       "['Chimayo', 'Alameda', 'Brazos']"
      ]
     },
     "execution_count": 81,
     "metadata": {},
     "output_type": "execute_result"
    }
   ],
   "source": [
    "countylookup.keys()"
   ]
  },
  {
   "cell_type": "code",
   "execution_count": 83,
   "metadata": {
    "collapsed": false
   },
   "outputs": [
    {
     "data": {
      "text/plain": [
       "['Santa Fe County', 'Bernalillo County', 'Rio Arriba County']"
      ]
     },
     "execution_count": 83,
     "metadata": {},
     "output_type": "execute_result"
    }
   ],
   "source": [
    "countylookup.values()"
   ]
  },
  {
   "cell_type": "markdown",
   "metadata": {},
   "source": [
    "## Challenge exercises"
   ]
  },
  {
   "cell_type": "markdown",
   "metadata": {},
   "source": [
    "### Challenge 1"
   ]
  },
  {
   "cell_type": "code",
   "execution_count": 87,
   "metadata": {
    "collapsed": true
   },
   "outputs": [],
   "source": [
    "import os\n",
    "import arcpy\n",
    "from arcpy import env\n",
    "env.workspace = os.getcwd() + \"\\\\DATA\""
   ]
  },
  {
   "cell_type": "code",
   "execution_count": 88,
   "metadata": {
    "collapsed": false
   },
   "outputs": [
    {
     "name": "stdout",
     "output_type": "stream",
     "text": [
      "amtrak_stations is a Point feature class\n",
      "cities is a Point feature class\n",
      "counties is a Polygon feature class\n",
      "new_mexico is a Polygon feature class\n",
      "railroads is a Polyline feature class\n"
     ]
    }
   ],
   "source": [
    "fc_list = arcpy.ListFeatureClasses()\n",
    "for fc in fc_list:\n",
    "    desc = arcpy.Describe(fc)\n",
    "    print \"{0} is a {1} feature class\".format(desc.basename, desc.shapeType)"
   ]
  },
  {
   "cell_type": "markdown",
   "metadata": {},
   "source": [
    "---"
   ]
  },
  {
   "cell_type": "code",
   "execution_count": 89,
   "metadata": {
    "collapsed": true
   },
   "outputs": [],
   "source": [
    "import os\n",
    "import arcpy\n",
    "from arcpy import env\n",
    "env.workspace = os.getcwd() + \"\\\\Results\\\\NM.gdb\""
   ]
  },
  {
   "cell_type": "code",
   "execution_count": 90,
   "metadata": {
    "collapsed": false
   },
   "outputs": [
    {
     "name": "stdout",
     "output_type": "stream",
     "text": [
      "amtrak_stations is a Point feature class\n",
      "cities is a Point feature class\n",
      "counties is a Polygon feature class\n",
      "new_mexico is a Polygon feature class\n",
      "railroads is a Polyline feature class\n"
     ]
    }
   ],
   "source": [
    "fc_list = arcpy.ListFeatureClasses()\n",
    "for fc in fc_list:\n",
    "    desc = arcpy.Describe(fc)\n",
    "    print \"{0} is a {1} feature class\".format(desc.basename, desc.shapeType)"
   ]
  },
  {
   "cell_type": "code",
   "execution_count": null,
   "metadata": {
    "collapsed": true
   },
   "outputs": [],
   "source": []
  },
  {
   "cell_type": "markdown",
   "metadata": {},
   "source": [
    "### Challenge 2"
   ]
  },
  {
   "cell_type": "code",
   "execution_count": 91,
   "metadata": {
    "collapsed": true
   },
   "outputs": [],
   "source": [
    "import arcpy\n",
    "from arcpy import env\n",
    "env.workspace = os.getcwd() + \"\\\\study.mdb\""
   ]
  },
  {
   "cell_type": "code",
   "execution_count": 93,
   "metadata": {
    "collapsed": false
   },
   "outputs": [],
   "source": [
    "fc_list = arcpy.ListFeatureClasses()\n",
    "arcpy.CreateFileGDB_management(\"Results\", \"newstudy.gdb\")\n",
    "for fc in fc_list:\n",
    "    desc = arcpy.Describe(fc)\n",
    "    if desc.shapeType == \"Polygon\":\n",
    "        arcpy.Copy_management (fc, \"Results/newstudy.gdb/\" + fc)"
   ]
  },
  {
   "cell_type": "code",
   "execution_count": null,
   "metadata": {
    "collapsed": true
   },
   "outputs": [],
   "source": []
  }
 ],
 "metadata": {
  "kernelspec": {
   "display_name": "Python 2",
   "language": "python",
   "name": "python2"
  },
  "language_info": {
   "codemirror_mode": {
    "name": "ipython",
    "version": 2
   },
   "file_extension": ".py",
   "mimetype": "text/x-python",
   "name": "python",
   "nbconvert_exporter": "python",
   "pygments_lexer": "ipython2",
   "version": "2.7.2"
  }
 },
 "nbformat": 4,
 "nbformat_minor": 0
}
