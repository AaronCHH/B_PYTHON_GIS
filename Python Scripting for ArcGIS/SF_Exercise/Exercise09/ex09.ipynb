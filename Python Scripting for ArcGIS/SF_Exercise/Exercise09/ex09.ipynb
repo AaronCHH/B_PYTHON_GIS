{
 "cells": [
  {
   "cell_type": "markdown",
   "metadata": {},
   "source": [
    "## List the rasters"
   ]
  },
  {
   "cell_type": "code",
   "execution_count": 5,
   "metadata": {
    "collapsed": true
   },
   "outputs": [],
   "source": [
    "# listrasters.py\n",
    "import os\n",
    "import arcpy\n",
    "from arcpy import env\n",
    "env.workspace = os.getcwd() + \"\\\\DATA\""
   ]
  },
  {
   "cell_type": "code",
   "execution_count": 6,
   "metadata": {
    "collapsed": false
   },
   "outputs": [
    {
     "name": "stdout",
     "output_type": "stream",
     "text": [
      "elevation\n",
      "landcover.tif\n",
      "tm.img\n"
     ]
    }
   ],
   "source": [
    "rasterlist = arcpy.ListRasters()\n",
    "for raster in rasterlist:\n",
    "    print raster"
   ]
  },
  {
   "cell_type": "markdown",
   "metadata": {},
   "source": [
    "## Describe the rasters"
   ]
  },
  {
   "cell_type": "code",
   "execution_count": 8,
   "metadata": {
    "collapsed": true
   },
   "outputs": [],
   "source": [
    "# describerasters.py\n",
    "import os\n",
    "import arcpy\n",
    "from arcpy import env\n",
    "env.workspace = os.getcwd() + \"\\\\DATA\""
   ]
  },
  {
   "cell_type": "code",
   "execution_count": 11,
   "metadata": {
    "collapsed": false
   },
   "outputs": [
    {
     "name": "stdout",
     "output_type": "stream",
     "text": [
      "Raster base name is: landcover\n",
      "Raster data type is: RasterDataset\n",
      "Raster file extension is: tif\n"
     ]
    }
   ],
   "source": [
    "# raster = \"tm.img\"\n",
    "raster = \"landcover.tif\"\n",
    "desc = arcpy.Describe(raster)\n",
    "print \"Raster base name is: \" + desc.basename\n",
    "print \"Raster data type is: \" + desc.dataType\n",
    "print \"Raster file extension is: \" + desc.extension"
   ]
  },
  {
   "cell_type": "code",
   "execution_count": 12,
   "metadata": {
    "collapsed": false
   },
   "outputs": [
    {
     "name": "stdout",
     "output_type": "stream",
     "text": [
      "Raster spatial reference is: Projection_Name_Albers_Conical_Equal_Area_Units_meters_GeoTIFF\n",
      "Raster format is: TIFF\n",
      "Raster compression type is: None\n",
      "Raster number of bands is: 1\n"
     ]
    }
   ],
   "source": [
    "print \"Raster spatial reference is: \" + desc.spatialReference.name\n",
    "print \"Raster format is: \" + desc.format\n",
    "print \"Raster compression type is: \" + desc.compressionType\n",
    "print \"Raster number of bands is: \" + str(desc.bandCount)"
   ]
  },
  {
   "cell_type": "markdown",
   "metadata": {},
   "source": [
    "---"
   ]
  },
  {
   "cell_type": "code",
   "execution_count": 13,
   "metadata": {
    "collapsed": true
   },
   "outputs": [],
   "source": [
    "# describerasters2.py\n",
    "import os\n",
    "import arcpy\n",
    "from arcpy import env\n",
    "env.workspace = os.getcwd() + \"\\\\DATA\""
   ]
  },
  {
   "cell_type": "code",
   "execution_count": 14,
   "metadata": {
    "collapsed": false
   },
   "outputs": [
    {
     "name": "stdout",
     "output_type": "stream",
     "text": [
      "The raster resolution is 30.0 by 30.0 Meter.\n"
     ]
    }
   ],
   "source": [
    "raster = \"landcover.tif\"\n",
    "desc = arcpy.Describe(raster)\n",
    "x = desc.meanCellHeight\n",
    "y = desc.meanCellWidth\n",
    "spatialref = desc.spatialReference\n",
    "units = spatialref.linearUnitName\n",
    "print \"The raster resolution is \" + str(x) + \" by \" + str(y) + \" \" + units + \".\""
   ]
  },
  {
   "cell_type": "markdown",
   "metadata": {},
   "source": [
    "---"
   ]
  },
  {
   "cell_type": "code",
   "execution_count": 15,
   "metadata": {
    "collapsed": true
   },
   "outputs": [],
   "source": [
    "# describerasters2.py\n",
    "import os\n",
    "import arcpy\n",
    "from arcpy import env\n",
    "env.workspace = os.getcwd() + \"\\\\DATA\""
   ]
  },
  {
   "cell_type": "code",
   "execution_count": 16,
   "metadata": {
    "collapsed": false
   },
   "outputs": [
    {
     "name": "stdout",
     "output_type": "stream",
     "text": [
      "The raster resolution of Band 1 is 0.000277778 by 0.000277778 Degree.\n"
     ]
    }
   ],
   "source": [
    "rasterband = \"tm.img/Layer_1\"\n",
    "desc = arcpy.Describe(rasterband)\n",
    "x = desc.meanCellHeight\n",
    "y = desc.meanCellWidth\n",
    "spatialref = desc.spatialReference\n",
    "units = spatialref.angularUnitName\n",
    "print \"The raster resolution of Band 1 is \" + str(x) + \" by \" + str(y) + \" \" + units + \".\""
   ]
  },
  {
   "cell_type": "markdown",
   "metadata": {},
   "source": [
    "## Use raster objects in geoprocessing"
   ]
  },
  {
   "cell_type": "code",
   "execution_count": 19,
   "metadata": {
    "collapsed": true
   },
   "outputs": [],
   "source": [
    "# for python window\n",
    "import os\n",
    "import arcpy\n",
    "from arcpy import env\n",
    "env.workspace = os.getcwd() + \"\\\\DATA\""
   ]
  },
  {
   "cell_type": "code",
   "execution_count": null,
   "metadata": {
    "collapsed": false,
    "scrolled": false
   },
   "outputs": [],
   "source": [
    "outraster = arcpy.sa.Slope(\"elevation\")\n",
    "desc = arcpy.Describe(outraster)\n",
    "print desc.permanent"
   ]
  },
  {
   "cell_type": "code",
   "execution_count": null,
   "metadata": {
    "collapsed": true
   },
   "outputs": [],
   "source": [
    "outraster.save(\"Results/slope\")"
   ]
  },
  {
   "cell_type": "code",
   "execution_count": null,
   "metadata": {
    "collapsed": true
   },
   "outputs": [],
   "source": [
    "from arcpy.sa import *\n",
    "outraster2 = Aspect(\"elevation\")"
   ]
  },
  {
   "cell_type": "code",
   "execution_count": null,
   "metadata": {
    "collapsed": true
   },
   "outputs": [],
   "source": [
    "outraster2.save(\"Results/aspect\")"
   ]
  },
  {
   "cell_type": "markdown",
   "metadata": {},
   "source": [
    "## Use map algebra operators"
   ]
  },
  {
   "cell_type": "code",
   "execution_count": 10,
   "metadata": {
    "collapsed": true
   },
   "outputs": [],
   "source": [
    "import os\n",
    "import arcpy\n",
    "from arcpy import env\n",
    "env.workspace = os.getcwd() + \"\\\\DATA\""
   ]
  },
  {
   "cell_type": "code",
   "execution_count": null,
   "metadata": {
    "collapsed": false,
    "scrolled": true
   },
   "outputs": [],
   "source": [
    "elevraster = arcpy.Raster(\"elevation\")\n",
    "outraster3 = elevraster * 3.281\n",
    "outraster3.save(\"Results/elev_ft\")"
   ]
  },
  {
   "cell_type": "code",
   "execution_count": null,
   "metadata": {
    "collapsed": true
   },
   "outputs": [],
   "source": [
    "slope = arcpy.sa.Slope(elevraster)\n",
    "goodslope = slope < 20\n",
    "goodelev = elevraster < 2000\n",
    "goodfinal = goodslope & goodelev\n",
    "goodfinal.save(\"Results/final\")"
   ]
  },
  {
   "cell_type": "markdown",
   "metadata": {},
   "source": [
    "## Work with classes to defie raster tool parameters"
   ]
  },
  {
   "cell_type": "code",
   "execution_count": 14,
   "metadata": {
    "collapsed": true
   },
   "outputs": [],
   "source": [
    "# reclass.py\n",
    "import os\n",
    "import arcpy\n",
    "from arcpy import env\n",
    "from arcpy.sa import *\n",
    "env.workspace = os.getcwd()"
   ]
  },
  {
   "cell_type": "code",
   "execution_count": 15,
   "metadata": {
    "collapsed": true
   },
   "outputs": [],
   "source": [
    "if arcpy.CheckExtension(\"spatial\") == \"Available\":\n",
    "    arcpy.CheckOutExtension(\"spatial\")\n",
    "    #--\n",
    "    outraster = arcpy.sa.Slope(\"DATA/elevation\", \"PERCENT_RISE\")\n",
    "    outraster.save(\"Results/slope_per\")\n",
    "    #--\n",
    "    arcpy.CheckInExtension(\"spatial\")\n",
    "else:\n",
    "    print \"Spatial Analyst license is not available.\""
   ]
  },
  {
   "cell_type": "markdown",
   "metadata": {},
   "source": [
    "---"
   ]
  },
  {
   "cell_type": "code",
   "execution_count": 16,
   "metadata": {
    "collapsed": true
   },
   "outputs": [],
   "source": [
    "if arcpy.CheckExtension(\"spatial\") == \"Available\":\n",
    "    arcpy.CheckOutExtension(\"spatial\")\n",
    "    #--\n",
    "    myremap = RemapRange([[1000,2000,1], [2000,3000,2], [3000,4000,3]])\n",
    "    outreclass = Reclassify(\"DATA/elevation\", \"VALUE\", myremap)\n",
    "    outreclass.save(\"Results/elev_recl\")\n",
    "    #--\n",
    "    arcpy.CheckInExtension(\"spatial\")\n",
    "else:\n",
    "    print \"Spatial Analyst license is not available.\""
   ]
  },
  {
   "cell_type": "markdown",
   "metadata": {},
   "source": [
    "---"
   ]
  },
  {
   "cell_type": "code",
   "execution_count": 17,
   "metadata": {
    "collapsed": true
   },
   "outputs": [],
   "source": [
    "if arcpy.CheckExtension(\"spatial\") == \"Available\":\n",
    "    arcpy.CheckOutExtension(\"spatial\")\n",
    "    myremap = RemapValue([[41,1], [42,2], [43,3]])\n",
    "    outreclass = Reclassify(\"DATA/landcover.tif\", \"VALUE\", myremap, \"NODATA\")\n",
    "    outreclass.save(\"Results/lc_recl\")\n",
    "    arcpy.CheckInExtension(\"spatial\")\n",
    "else:\n",
    "    print \"Spatial Analyst license is not available.\""
   ]
  },
  {
   "cell_type": "markdown",
   "metadata": {},
   "source": [
    "---"
   ]
  },
  {
   "cell_type": "code",
   "execution_count": 18,
   "metadata": {
    "collapsed": true
   },
   "outputs": [],
   "source": [
    "# neighborhood.py\n",
    "import os\n",
    "import arcpy\n",
    "from arcpy import env\n",
    "from arcpy.sa import *\n",
    "env.workspace = os.getcwd()"
   ]
  },
  {
   "cell_type": "code",
   "execution_count": 20,
   "metadata": {
    "collapsed": false
   },
   "outputs": [],
   "source": [
    "if arcpy.CheckExtension(\"spatial\") == \"Available\":\n",
    "    arcpy.CheckOutExtension(\"spatial\")\n",
    "    mynbr = NbrCircle(3, \"CELL\")\n",
    "    outraster = FocalStatistics(\"DATA/landcover.tif\", mynbr, \"MAJORITY\")\n",
    "    outraster.save(\"Results/lc_nbr\")\n",
    "    arcpy.CheckInExtension(\"spatial\")\n",
    "else:\n",
    "    print \"Spatial Analyst license is not available.\""
   ]
  },
  {
   "cell_type": "markdown",
   "metadata": {},
   "source": [
    "## Challenge exercises"
   ]
  },
  {
   "cell_type": "markdown",
   "metadata": {},
   "source": [
    "### Challenge 1"
   ]
  },
  {
   "cell_type": "markdown",
   "metadata": {},
   "source": [
    "```\n",
    "Create a script that determines what areas meet the following\n",
    "conditions:\n",
    "• Moderate slope—between 5 and 20 degrees\n",
    "• Southerly aspect—between 150 and 270 degrees\n",
    "• Forested—land cover types of 41, 42, or 43\n",
    "Be sure to use the map algebra expressions of the arcpy.sa module.\n",
    "```"
   ]
  },
  {
   "cell_type": "code",
   "execution_count": 22,
   "metadata": {
    "collapsed": true
   },
   "outputs": [],
   "source": [
    "import os\n",
    "import arcpy\n",
    "from arcpy import env\n",
    "from arcpy.sa import *\n",
    "env.workspace = os.getcwd()"
   ]
  },
  {
   "cell_type": "code",
   "execution_count": 24,
   "metadata": {
    "collapsed": false
   },
   "outputs": [
    {
     "data": {
      "text/plain": [
       "u'CheckedIn'"
      ]
     },
     "execution_count": 24,
     "metadata": {},
     "output_type": "execute_result"
    }
   ],
   "source": [
    "if arcpy.CheckExtension(\"Spatial\") == \"Available\":\n",
    "    arcpy.CheckOutExtension(\"Spatial\")\n",
    "elev = arcpy.Raster(\"DATA/elevation\")\n",
    "lc = arcpy.Raster(\"DATA/landcover.tif\")\n",
    "slope = Slope(elev)\n",
    "aspect = Aspect(elev)\n",
    "goodslope = ((slope > 5) & (slope < 20))\n",
    "goodaspect = ((aspect > 150) & (aspect < 270))\n",
    "goodland = ((lc == 41) | (lc == 42) | (lc ==43))\n",
    "outraster = (goodslope & goodaspect & goodland)\n",
    "outraster.save(\"Results/final_cha1\")\n",
    "arcpy.CheckInExtension(\"Spatial\")"
   ]
  },
  {
   "cell_type": "markdown",
   "metadata": {},
   "source": [
    "### Challenge 2"
   ]
  },
  {
   "cell_type": "markdown",
   "metadata": {},
   "source": [
    "```\n",
    "Write a script that copies all the rasters in a workspace to a new file geodatabase.\n",
    "You can use the rasters in the Exercise09 folder as an example.\n",
    "```"
   ]
  },
  {
   "cell_type": "code",
   "execution_count": 41,
   "metadata": {
    "collapsed": false
   },
   "outputs": [],
   "source": [
    "import os\n",
    "import arcpy\n",
    "from arcpy import *\n",
    "out_path = os.getcwd()\n",
    "env.workspace = out_path + \"\\\\DATA\""
   ]
  },
  {
   "cell_type": "code",
   "execution_count": 46,
   "metadata": {
    "collapsed": false
   },
   "outputs": [],
   "source": [
    "rasterlist = arcpy.ListRasters()\n",
    "arcpy.CreatePersonalGDB_management(out_path + \"\\\\Results\", \"myrasters.mdb\")\n",
    "for raster in rasterlist:\n",
    "    desc = arcpy.Describe(raster)\n",
    "    rname = desc.baseName\n",
    "    outraster = out_path + \"\\\\Results\\\\myrasters.mdb\\\\\" + rname\n",
    "    arcpy.CopyRaster_management(raster, outraster)"
   ]
  },
  {
   "cell_type": "code",
   "execution_count": null,
   "metadata": {
    "collapsed": true
   },
   "outputs": [],
   "source": []
  }
 ],
 "metadata": {
  "kernelspec": {
   "display_name": "Python 2",
   "language": "python",
   "name": "python2"
  },
  "language_info": {
   "codemirror_mode": {
    "name": "ipython",
    "version": 2
   },
   "file_extension": ".py",
   "mimetype": "text/x-python",
   "name": "python",
   "nbconvert_exporter": "python",
   "pygments_lexer": "ipython2",
   "version": "2.7.2"
  }
 },
 "nbformat": 4,
 "nbformat_minor": 0
}
