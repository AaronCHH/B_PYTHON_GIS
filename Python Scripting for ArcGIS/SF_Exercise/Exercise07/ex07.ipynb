{
 "cells": [
  {
   "cell_type": "markdown",
   "metadata": {},
   "source": [
    "## Work with search cursors"
   ]
  },
  {
   "cell_type": "code",
   "execution_count": 3,
   "metadata": {
    "collapsed": true
   },
   "outputs": [],
   "source": [
    "import os\n",
    "import arcpy\n",
    "from arcpy import env\n",
    "env.workspace = os.getcwd() + \"\\\\DATA\""
   ]
  },
  {
   "cell_type": "code",
   "execution_count": 4,
   "metadata": {
    "collapsed": true
   },
   "outputs": [
    {
     "name": "stdout",
     "output_type": "stream",
     "text": [
      "Airport name = Hyder\n",
      "Airport name = Chignik Lagoon\n",
      "Airport name = Koyuk\n",
      "Airport name = Kivalina\n",
      "Airport name = Ketchikan Harbor\n",
      "Airport name = Metlakatla\n",
      "Airport name = Waterfall\n",
      "Airport name = Ketchikan\n",
      "Airport name = Kasaan\n",
      "Airport name = Hollis\n",
      "Airport name = Craig\n",
      "Airport name = Thorne Bay\n",
      "Airport name = Coffman Cove\n",
      "Airport name = Meyers Chuck\n",
      "Airport name = Klawock\n",
      "Airport name = Yes Bay Lodge\n",
      "Airport name = Wrangell\n",
      "Airport name = Petersburg James A. Johnson\n",
      "Airport name = Kake\n",
      "Airport name = Sitka Rocky Gutierrez\n",
      "Airport name = Angoon\n",
      "Airport name = Funter Bay\n",
      "Airport name = Tenakee\n",
      "Airport name = Hawk Inlet\n",
      "Airport name = Hoonah\n",
      "Airport name = Juneau International\n",
      "Airport name = Pelican\n",
      "Airport name = Elfin Cove\n",
      "Airport name = Excursion Inlet\n",
      "Airport name = Gustavus\n",
      "Airport name = Haines\n",
      "Airport name = Skagway\n",
      "Airport name = Yakutat\n",
      "Airport name = Icy Bay\n",
      "Airport name = Alitak\n",
      "Airport name = Akhiok\n",
      "Airport name = San Juan/Uganik Bay\n",
      "Airport name = Old Harbor\n",
      "Airport name = Larsen Bay\n",
      "Airport name = Trident Basin\n",
      "Airport name = Kodiak\n",
      "Airport name = Ouzinkie\n",
      "Airport name = Port Lions\n",
      "Airport name = Merle K. (Mudhole) Smith\n",
      "Airport name = Sand Point\n",
      "Airport name = Ivanof Bay\n",
      "Airport name = Perryville\n",
      "Airport name = Chignik Fisheries\n",
      "Airport name = Chignik Lake\n",
      "Airport name = Chignik\n",
      "Airport name = Karluk\n",
      "Airport name = Port Graham\n",
      "Airport name = Seldovia\n",
      "Airport name = English Bay\n",
      "Airport name = Homer\n",
      "Airport name = Seward\n",
      "Airport name = Girdwood\n",
      "Airport name = Valdez\n",
      "Airport name = Chitina\n",
      "Airport name = Gulkana\n",
      "Airport name = Tetlin\n",
      "Airport name = King Cove\n",
      "Airport name = Cold Bay\n",
      "Airport name = False Pass\n",
      "Airport name = Port Heiden\n",
      "Airport name = Pilot Point\n",
      "Airport name = Egegik\n",
      "Airport name = Lake Brooks\n",
      "Airport name = Levelock\n",
      "Airport name = King Salmon\n",
      "Airport name = South Naknek Nr 2\n",
      "Airport name = Tibbetts\n",
      "Airport name = Kulik Lake\n",
      "Airport name = Kokhanok\n",
      "Airport name = Pedro Bay\n",
      "Airport name = Igiugig\n",
      "Airport name = Nondalton\n",
      "Airport name = Port Alsworth\n",
      "Airport name = Soldotna\n",
      "Airport name = Kenai Municipal\n",
      "Airport name = Tyonek\n",
      "Airport name = Trading Bay Production\n",
      "Airport name = Beluga\n",
      "Airport name = Merrill Field\n",
      "Airport name = Lake Hood\n",
      "Airport name = Elmendorf Air Force Base\n",
      "Airport name = Palmer Municipal\n",
      "Airport name = Willow\n",
      "Airport name = Skelton\n",
      "Airport name = Tok\n",
      "Airport name = Eagle\n",
      "Airport name = Akutan\n",
      "Airport name = Unalaska\n",
      "Airport name = Ekuk\n",
      "Airport name = Clarks Point\n",
      "Airport name = Manokotak\n",
      "Airport name = Ekwok\n",
      "Airport name = Dillingham\n",
      "Airport name = Koliganek\n",
      "Airport name = Skwentna\n",
      "Airport name = Talkeetna\n",
      "Airport name = McKinley National Park\n",
      "Airport name = Platinum\n",
      "Airport name = Goodnews\n",
      "Airport name = Twin Hills\n",
      "Airport name = Togiak\n",
      "Airport name = Stony River 2\n",
      "Airport name = Sleetmute\n",
      "Airport name = Nikolai\n",
      "Airport name = Kantishna\n",
      "Airport name = Minchumina\n",
      "Airport name = Healy River\n",
      "Airport name = Eielson Air Force Base\n",
      "Airport name = Wainwright Army Air Field\n",
      "Airport name = Fairbanks International\n",
      "Airport name = Circle City\n",
      "Airport name = Chalkyitsik\n",
      "Airport name = Atka\n",
      "Airport name = Quinhagak\n",
      "Airport name = Eek\n",
      "Airport name = Kongiganak\n",
      "Airport name = Kwigillingok\n",
      "Airport name = Tuntutuliak\n",
      "Airport name = Akiak\n",
      "Airport name = Kwethluk\n",
      "Airport name = Tuluksak\n",
      "Airport name = Napaskiak\n",
      "Airport name = Akiachak\n",
      "Airport name = Napakiak\n",
      "Airport name = Bethel\n",
      "Airport name = Aniak\n",
      "Airport name = Kalskag\n",
      "Airport name = Red Devil\n",
      "Airport name = Crooked Creek\n",
      "Airport name = McGrath\n",
      "Airport name = Ralph M. Calhoun Memorial\n",
      "Airport name = Minto\n",
      "Airport name = Rampart\n",
      "Airport name = Stevens Village\n",
      "Airport name = Beaver\n",
      "Airport name = Birch Creek\n",
      "Airport name = Fort Yukon\n",
      "Airport name = Venetie\n",
      "Airport name = Adak Naval Air Facility\n",
      "Airport name = Saint George\n",
      "Airport name = Saint Paul Island\n",
      "Airport name = Newtok\n",
      "Airport name = Kipnuk\n",
      "Airport name = Chefornak\n",
      "Airport name = Nightmute\n",
      "Airport name = Toksook Bay\n",
      "Airport name = Tununak\n",
      "Airport name = Atmautluak\n",
      "Airport name = Nunapitchuk\n",
      "Airport name = Kasigluk\n",
      "Airport name = Russian Mission\n",
      "Airport name = Marshall\n",
      "Airport name = Pilot Station\n",
      "Airport name = Holy Cross\n",
      "Airport name = Shageluk\n",
      "Airport name = Anvik\n",
      "Airport name = Grayling\n",
      "Airport name = Edward G. Pitka Sr.\n",
      "Airport name = Ruby\n",
      "Airport name = Bettles\n",
      "Airport name = New Allakaket\n",
      "Airport name = Prospect Creek\n",
      "Airport name = Coldfoot\n",
      "Airport name = Arctic Village\n",
      "Airport name = Mekoryuk\n",
      "Airport name = Hooper Bay\n",
      "Airport name = Mountain Village\n",
      "Airport name = Chevak\n",
      "Airport name = Scammon Bay\n",
      "Airport name = Saint Mary's\n",
      "Airport name = Sheldon Point\n",
      "Airport name = Saint Michael\n",
      "Airport name = Stebbins\n",
      "Airport name = Unalakleet\n",
      "Airport name = Shaktoolik\n",
      "Airport name = Kaltag\n",
      "Airport name = Nulato\n",
      "Airport name = Huslia\n",
      "Airport name = Hughes\n",
      "Airport name = Anaktuvuk Pass\n",
      "Airport name = Galbraith Lake\n",
      "Airport name = Barter Island LRRS\n",
      "Airport name = Alakanuk\n",
      "Airport name = Emmonak\n",
      "Airport name = Elim\n",
      "Airport name = Golovin\n",
      "Airport name = White Mountain\n",
      "Airport name = Buckland\n",
      "Airport name = Selawik\n",
      "Airport name = Kobuk\n",
      "Airport name = Shungnak\n",
      "Airport name = Ambler\n",
      "Airport name = Deadhorse\n",
      "Airport name = Nome\n",
      "Airport name = Deering\n",
      "Airport name = Bob Baker Memorial\n",
      "Airport name = Robert (Bob) Curtis Memorial\n",
      "Airport name = Ralph Wien Memorial\n",
      "Airport name = Nuiqsut\n",
      "Airport name = Savoonga\n",
      "Airport name = Teller\n",
      "Airport name = Brevig Mission\n",
      "Airport name = Shishmaref\n",
      "Airport name = Wales\n",
      "Airport name = Noatak\n",
      "Airport name = Red Dog\n",
      "Airport name = Atqasuk Edward Burnell Sr. Memorial\n",
      "Airport name = Gambell\n",
      "Airport name = Point Hope\n",
      "Airport name = Point Lay LRRS\n",
      "Airport name = Wainwright\n",
      "Airport name = Wiley Post-Will Rogers Memorial\n",
      "Airport name = New Stuyahok\n",
      "Airport name = Ted Stevens Anchorage International\n",
      "Airport name = Iliamna\n",
      "Airport name = Koyukuk\n"
     ]
    }
   ],
   "source": [
    "fc = \"airports.shp\"\n",
    "cursor = arcpy.da.SearchCursor(fc, [\"NAME\"])\n",
    "for row in cursor:\n",
    "    print \"Airport name = {0}\".format(row[0])"
   ]
  },
  {
   "cell_type": "markdown",
   "metadata": {},
   "source": [
    "## Use search cursors with SQL in Python"
   ]
  },
  {
   "cell_type": "code",
   "execution_count": 10,
   "metadata": {
    "collapsed": true
   },
   "outputs": [],
   "source": [
    "# SQL.py\n",
    "import arcpy\n",
    "from arcpy import env\n",
    "env.workspace = os.getcwd() + \"\\\\DATA\""
   ]
  },
  {
   "cell_type": "code",
   "execution_count": 11,
   "metadata": {
    "collapsed": false
   },
   "outputs": [
    {
     "name": "stdout",
     "output_type": "stream",
     "text": [
      "Ketchikan\n",
      "Juneau International\n",
      "Kenai Municipal\n",
      "Fairbanks International\n",
      "Bethel\n",
      "Ted Stevens Anchorage International\n"
     ]
    }
   ],
   "source": [
    "fc = \"airports.shp\"\n",
    "cursor = arcpy.da.SearchCursor(fc, [\"NAME\"], '\"TOT_ENP\" > 100000')\n",
    "for row in cursor:\n",
    "    print row[0]\n",
    "del row\n",
    "del cursor"
   ]
  },
  {
   "cell_type": "code",
   "execution_count": 13,
   "metadata": {
    "collapsed": false
   },
   "outputs": [
    {
     "name": "stdout",
     "output_type": "stream",
     "text": [
      "Hyder\n",
      "Ketchikan Harbor\n",
      "Metlakatla\n",
      "Waterfall\n",
      "Kasaan\n",
      "Hollis\n",
      "Craig\n",
      "Thorne Bay\n",
      "Coffman Cove\n",
      "Meyers Chuck\n",
      "Yes Bay Lodge\n",
      "Kake\n",
      "Angoon\n",
      "Funter Bay\n",
      "Tenakee\n",
      "Hawk Inlet\n",
      "Pelican\n",
      "Elfin Cove\n",
      "Excursion Inlet\n",
      "Alitak\n",
      "San Juan/Uganik Bay\n",
      "Trident Basin\n",
      "Ivanof Bay\n",
      "Lake Brooks\n",
      "Lake Hood\n",
      "Akutan\n",
      "Akiachak\n",
      "Newtok\n"
     ]
    }
   ],
   "source": [
    "fc = \"airports.shp\"\n",
    "cursor = arcpy.da.SearchCursor(fc, [\"NAME\"], '\"FEATURE\" = \\'Seaplane Base\\'')\n",
    "for row in cursor:\n",
    "    print row[0]\n",
    "del row\n",
    "del cursor"
   ]
  },
  {
   "cell_type": "markdown",
   "metadata": {},
   "source": [
    "---"
   ]
  },
  {
   "cell_type": "code",
   "execution_count": 14,
   "metadata": {
    "collapsed": true
   },
   "outputs": [],
   "source": [
    "# SQL2.py\n",
    "import os\n",
    "import arcpy\n",
    "from arcpy import env\n",
    "env.workspace = os.getcwd() + \"\\\\DATA\""
   ]
  },
  {
   "cell_type": "code",
   "execution_count": 15,
   "metadata": {
    "collapsed": false
   },
   "outputs": [
    {
     "name": "stdout",
     "output_type": "stream",
     "text": [
      "Girdwood\n",
      "Merrill Field\n",
      "Lake Hood\n",
      "Elmendorf Air Force Base\n",
      "Ted Stevens Anchorage International\n"
     ]
    }
   ],
   "source": [
    "fc = \"airports.shp\"\n",
    "delimitedField = arcpy.AddFieldDelimiters(fc, \"COUNTY\")\n",
    "cursor = arcpy.da.SearchCursor(fc, [\"NAME\"], delimitedField + \" = 'Anchorage Borough'\")\n",
    "for row in cursor:\n",
    "    print row[0]\n",
    "del row\n",
    "del cursor"
   ]
  },
  {
   "cell_type": "code",
   "execution_count": 18,
   "metadata": {
    "collapsed": false
   },
   "outputs": [
    {
     "name": "stdout",
     "output_type": "stream",
     "text": [
      "\"COUNTY\"\n"
     ]
    }
   ],
   "source": [
    "print delimitedField"
   ]
  },
  {
   "cell_type": "markdown",
   "metadata": {},
   "source": [
    "---"
   ]
  },
  {
   "cell_type": "code",
   "execution_count": 23,
   "metadata": {
    "collapsed": true
   },
   "outputs": [],
   "source": [
    "# Select.py\n",
    "import os\n",
    "import arcpy\n",
    "from arcpy import env\n",
    "env.workspace = os.getcwd() + \"\\\\DATA\""
   ]
  },
  {
   "cell_type": "code",
   "execution_count": 22,
   "metadata": {
    "collapsed": false
   },
   "outputs": [
    {
     "data": {
      "text/plain": [
       "<Result 'Results\\\\airports_anchorage.shp'>"
      ]
     },
     "execution_count": 22,
     "metadata": {},
     "output_type": "execute_result"
    }
   ],
   "source": [
    "infc = \"airports.shp\"\n",
    "outfc = \"Results/airports_anchorage.shp\"\n",
    "delimitedfield = arcpy.AddFieldDelimiters(infc, \"COUNTY\")\n",
    "arcpy.Select_analysis(infc, outfc, delimitedfield + \" = 'Anchorage Borough'\")"
   ]
  },
  {
   "cell_type": "markdown",
   "metadata": {},
   "source": [
    "---"
   ]
  },
  {
   "cell_type": "markdown",
   "metadata": {},
   "source": [
    "## Work with update cursors"
   ]
  },
  {
   "cell_type": "code",
   "execution_count": 6,
   "metadata": {
    "collapsed": false
   },
   "outputs": [],
   "source": [
    "# Update.py\n",
    "import os\n",
    "import arcpy\n",
    "from arcpy import env\n",
    "env.workspace = os.getcwd()"
   ]
  },
  {
   "cell_type": "code",
   "execution_count": 10,
   "metadata": {
    "collapsed": false
   },
   "outputs": [],
   "source": [
    "fc = \"Results/airports.shp\"\n",
    "delimfield = arcpy.AddFieldDelimiters(fc, \"STATE\")\n",
    "cursor = arcpy.da.UpdateCursor(fc, [\"STATE\"], delimfield + \" <> 'AK'\")\n",
    "for row in cursor:\n",
    "    row[0] = \"AK\"\n",
    "    cursor.updateRow(row)\n",
    "del row\n",
    "del cursor"
   ]
  },
  {
   "cell_type": "markdown",
   "metadata": {},
   "source": [
    "---"
   ]
  },
  {
   "cell_type": "code",
   "execution_count": 12,
   "metadata": {
    "collapsed": false
   },
   "outputs": [],
   "source": [
    "# Delete.py\n",
    "import os\n",
    "import arcpy\n",
    "from arcpy import env\n",
    "env.workspace = os.getcwd()"
   ]
  },
  {
   "cell_type": "code",
   "execution_count": 13,
   "metadata": {
    "collapsed": false
   },
   "outputs": [],
   "source": [
    "fc = \"Results/airports2.shp\"\n",
    "delimfield = arcpy.AddFieldDelimiters(fc, \"STATE\")\n",
    "cursor = arcpy.da.UpdateCursor(fc, [\"TOT_ENP\"])\n",
    "for row in cursor:\n",
    "    if row[0] < 100000:\n",
    "        cursor.deleteRow()\n",
    "del row\n",
    "del cursor"
   ]
  },
  {
   "cell_type": "markdown",
   "metadata": {},
   "source": [
    "## Work with insert cursors"
   ]
  },
  {
   "cell_type": "code",
   "execution_count": 14,
   "metadata": {
    "collapsed": true
   },
   "outputs": [],
   "source": [
    "# insert.py\n",
    "import os\n",
    "import arcpy\n",
    "from arcpy import env\n",
    "env.workspace = os.getcwd()"
   ]
  },
  {
   "cell_type": "code",
   "execution_count": 15,
   "metadata": {
    "collapsed": true
   },
   "outputs": [],
   "source": [
    "fc = \"Results/airports3.shp\"\n",
    "cursor = arcpy.da.InsertCursor(fc, \"NAME\")\n",
    "cursor.insertRow([\"New Airport\"])\n",
    "del cursor"
   ]
  },
  {
   "cell_type": "markdown",
   "metadata": {},
   "source": [
    "## Validate table and fild names"
   ]
  },
  {
   "cell_type": "code",
   "execution_count": 29,
   "metadata": {
    "collapsed": true
   },
   "outputs": [],
   "source": [
    "# validatefild.py\n",
    "import os\n",
    "import arcpy\n",
    "from arcpy import env\n",
    "env.workspace = os.getcwd()"
   ]
  },
  {
   "cell_type": "code",
   "execution_count": 31,
   "metadata": {
    "collapsed": false
   },
   "outputs": [
    {
     "data": {
      "text/plain": [
       "<Result 'Results/airports.shp'>"
      ]
     },
     "execution_count": 31,
     "metadata": {},
     "output_type": "execute_result"
    }
   ],
   "source": [
    "fc = \"Results/airports.shp\"\n",
    "newfield = \"NEW CODE\"\n",
    "fieldtype = \"TEXT\"\n",
    "fieldname = arcpy.ValidateFieldName(newfield)\n",
    "arcpy.AddField_management(fc, fieldname, fieldtype, \"\", \"\", 12)"
   ]
  },
  {
   "cell_type": "code",
   "execution_count": 28,
   "metadata": {
    "collapsed": false
   },
   "outputs": [
    {
     "data": {
      "text/plain": [
       "<Result 'Results/airports.shp'>"
      ]
     },
     "execution_count": 28,
     "metadata": {},
     "output_type": "execute_result"
    }
   ],
   "source": [
    "fc = \"Results/airports.shp\"\n",
    "newfield = \"NEW?*&$\"\n",
    "fieldtype = \"TEXT\"\n",
    "fieldname = arcpy.ValidateFieldName(newfield)\n",
    "arcpy.AddField_management(fc, fieldname, fieldtype, \"\", \"\", 12)"
   ]
  },
  {
   "cell_type": "code",
   "execution_count": 20,
   "metadata": {
    "collapsed": false
   },
   "outputs": [
    {
     "data": {
      "text/plain": [
       "'D:\\\\BOOKS\\\\GISen\\\\_PYTHON\\\\Python Scripting for ArcGIS\\\\SF_Exercise\\\\Exercise07'"
      ]
     },
     "execution_count": 20,
     "metadata": {},
     "output_type": "execute_result"
    }
   ],
   "source": [
    "os.getcwd()"
   ]
  },
  {
   "cell_type": "markdown",
   "metadata": {},
   "source": [
    "---"
   ]
  },
  {
   "cell_type": "code",
   "execution_count": 24,
   "metadata": {
    "collapsed": true
   },
   "outputs": [],
   "source": [
    "# validatefild2.py\n",
    "import os\n",
    "import arcpy\n",
    "from arcpy import env\n",
    "env.workspace = os.getcwd()"
   ]
  },
  {
   "cell_type": "code",
   "execution_count": 32,
   "metadata": {
    "collapsed": false
   },
   "outputs": [
    {
     "name": "stdout",
     "output_type": "stream",
     "text": [
      "Field name already exists.\n"
     ]
    }
   ],
   "source": [
    "fc = \"Results/airports.shp\"\n",
    "newfield = \"NEW CODE\"\n",
    "fieldtype = \"TEXT\"\n",
    "fieldname = arcpy.ValidateFieldName(newfield)\n",
    "fieldlist = arcpy.ListFields(fc)\n",
    "fieldnames = []\n",
    "for field in fieldlist:\n",
    "    fieldnames.append(field.name)\n",
    "if fieldname not in fieldnames:\n",
    "    arcpy.AddField_management(fc, fieldname, fieldtype, \"\", \"\", 12)\n",
    "    print \"New field has been added.\"\n",
    "else:\n",
    "    print \"Field name already exists.\""
   ]
  },
  {
   "cell_type": "code",
   "execution_count": 35,
   "metadata": {
    "collapsed": true
   },
   "outputs": [],
   "source": [
    "# unique_name.py\n",
    "import os\n",
    "import arcpy\n",
    "from arcpy import env\n",
    "env.workspace = os.getcwd()"
   ]
  },
  {
   "cell_type": "code",
   "execution_count": 41,
   "metadata": {
    "collapsed": false
   },
   "outputs": [
    {
     "data": {
      "text/plain": [
       "<Result 'Results\\\\buffer1.shp'>"
      ]
     },
     "execution_count": 41,
     "metadata": {},
     "output_type": "execute_result"
    }
   ],
   "source": [
    "fc = \"Results/airports.shp\"\n",
    "unique_name = arcpy.CreateUniqueName(\"Results/buffer.shp\")\n",
    "arcpy.Buffer_analysis(fc, unique_name, \"5000 METERS\")"
   ]
  },
  {
   "cell_type": "markdown",
   "metadata": {},
   "source": [
    "## Challenge exercises"
   ]
  },
  {
   "cell_type": "markdown",
   "metadata": {},
   "source": [
    "### Challenge 1"
   ]
  },
  {
   "cell_type": "markdown",
   "metadata": {},
   "source": [
    "```\n",
    "Write a script that creates a 15,000-meter buffer around features in the airports.shp feature class classified as an airport (based on the FEATURE field) and a 7,500-meter buffer around features classified as a seaplane base.\n",
    "The results should be two separate feature classes, one for each airport type.\n",
    "```"
   ]
  },
  {
   "cell_type": "code",
   "execution_count": 48,
   "metadata": {
    "collapsed": true
   },
   "outputs": [],
   "source": [
    "import os\n",
    "import arcpy\n",
    "from arcpy import env\n",
    "env.workspace = os.getcwd()"
   ]
  },
  {
   "cell_type": "code",
   "execution_count": 49,
   "metadata": {
    "collapsed": false
   },
   "outputs": [
    {
     "data": {
      "text/plain": [
       "<Result 'Results\\\\seaports_buffers.shp'>"
      ]
     },
     "execution_count": 49,
     "metadata": {},
     "output_type": "execute_result"
    }
   ],
   "source": [
    "sql1 = \" \\\"FEATURE\\\" = 'Airport'\"\n",
    "sql2 = \" \\\"FEATURE\\\" = 'Seaplane Base'\"\n",
    "arcpy.Select_analysis(\"DATA/airports.shp\", \"Results/airports_final.shp\", sql1)\n",
    "arcpy.Select_analysis(\"DATA/airports.shp\", \"Results/seaports.shp\", sql2)\n",
    "arcpy.Buffer_analysis(\"Results/airports_final.shp\", \"Results/aiports_buffers.shp\", \"15000 METERS\")\n",
    "arcpy.Buffer_analysis(\"Results/seaports.shp\", \"Results/seaports_buffers.shp\", \"7500 METERS\")"
   ]
  },
  {
   "cell_type": "markdown",
   "metadata": {},
   "source": [
    "### Challenge 2"
   ]
  },
  {
   "cell_type": "markdown",
   "metadata": {},
   "source": [
    "```\n",
    "Write a script that adds a text field to the roads.shp feature class called FERRY and populates this field with YES and NO values, depending on the value of the FEATURE field.\n",
    "```"
   ]
  },
  {
   "cell_type": "code",
   "execution_count": 50,
   "metadata": {
    "collapsed": true
   },
   "outputs": [],
   "source": [
    "import os\n",
    "import arcpy\n",
    "from arcpy import env\n",
    "env.workspace = os.getcwd()"
   ]
  },
  {
   "cell_type": "code",
   "execution_count": 51,
   "metadata": {
    "collapsed": true
   },
   "outputs": [],
   "source": [
    "fc = \"Results/roads.shp\"\n",
    "arcpy.AddField_management(fc, \"FERRY\", \"TEXT\", \"\", \"\", 20)\n",
    "cursor = arcpy.da.UpdateCursor(fc, [\"FEATURE\", \"FERRY\"])\n",
    "for row in cursor:\n",
    "    if row[0] == \"Ferry Crossing\":\n",
    "        row[1] = \"YES\"\n",
    "    else:\n",
    "        row[1]= \"NO\"\n",
    "    cursor.updateRow(row)"
   ]
  },
  {
   "cell_type": "code",
   "execution_count": null,
   "metadata": {
    "collapsed": true
   },
   "outputs": [],
   "source": []
  }
 ],
 "metadata": {
  "kernelspec": {
   "display_name": "Python 2",
   "language": "python",
   "name": "python2"
  },
  "language_info": {
   "codemirror_mode": {
    "name": "ipython",
    "version": 2
   },
   "file_extension": ".py",
   "mimetype": "text/x-python",
   "name": "python",
   "nbconvert_exporter": "python",
   "pygments_lexer": "ipython2",
   "version": "2.7.2"
  }
 },
 "nbformat": 4,
 "nbformat_minor": 0
}
