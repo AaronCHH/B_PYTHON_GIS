{
 "cells": [
  {
   "cell_type": "markdown",
   "metadata": {},
   "source": [
    "## Open and save a map document"
   ]
  },
  {
   "cell_type": "markdown",
   "metadata": {},
   "source": [
    "```\n",
    ">>> mapdoc = arcpy.mapping.MapDocument(\"CURRENT\")\n",
    ">>> mapdoc.title = \"Housing vacancy rates for counties in the State of Georgia, 2000\"\n",
    ">>> mapdoc.save()\n",
    ">>> del mapdoc\n",
    "```"
   ]
  },
  {
   "cell_type": "markdown",
   "metadata": {},
   "source": [
    "## Work with data frames"
   ]
  },
  {
   "cell_type": "code",
   "execution_count": 4,
   "metadata": {
    "collapsed": true
   },
   "outputs": [],
   "source": [
    "import os\n",
    "import arcpy"
   ]
  },
  {
   "cell_type": "code",
   "execution_count": 5,
   "metadata": {
    "collapsed": false
   },
   "outputs": [
    {
     "name": "stdout",
     "output_type": "stream",
     "text": [
      "Facilities\n",
      "Street Trees\n",
      "Parks\n"
     ]
    }
   ],
   "source": [
    "mxd = \"Austin_TX.mxd\"\n",
    "mapdoc = arcpy.mapping.MapDocument(mxd)\n",
    "listdf = arcpy.mapping.ListDataFrames(mapdoc)\n",
    "for df in listdf:\n",
    "    print df.name\n",
    "del mapdoc\n",
    "del listdf"
   ]
  },
  {
   "cell_type": "markdown",
   "metadata": {},
   "source": [
    "---"
   ]
  },
  {
   "cell_type": "code",
   "execution_count": 1,
   "metadata": {
    "collapsed": false
   },
   "outputs": [],
   "source": [
    "import os\n",
    "import arcpy\n",
    "from arcpy import env\n",
    "env.workspace = os.getcwd()"
   ]
  },
  {
   "cell_type": "code",
   "execution_count": 2,
   "metadata": {
    "collapsed": false
   },
   "outputs": [],
   "source": [
    "mxd = \"Austin_TX.mxd\"\n",
    "mapdoc = arcpy.mapping.MapDocument(mxd)\n",
    "dataset = \"DATA/Austin/base.shp\"\n",
    "spatialref = arcpy.Describe(dataset).spatialReference\n",
    "extent = arcpy.Describe(dataset).extent\n",
    "for df in arcpy.mapping.ListDataFrames(mapdoc):\n",
    "    df.spatialReference = spatialref\n",
    "    df.panToExtent(extent)\n",
    "    df.scale = 15000\n",
    "# mapdoc.saveACopy(\"Results/Austin_TX.mxd\");\n",
    "mapdoc.save()\n",
    "del mapdoc"
   ]
  },
  {
   "cell_type": "code",
   "execution_count": 18,
   "metadata": {
    "collapsed": false,
    "scrolled": true
   },
   "outputs": [
    {
     "name": "stdout",
     "output_type": "stream",
     "text": [
      "3110187.73 10068561.96 3116631.27 10075641.92 NaN NaN NaN NaN\n"
     ]
    }
   ],
   "source": [
    "print extent"
   ]
  },
  {
   "cell_type": "markdown",
   "metadata": {
    "collapsed": true
   },
   "source": [
    "## Work with map layers"
   ]
  },
  {
   "cell_type": "code",
   "execution_count": 3,
   "metadata": {
    "collapsed": false
   },
   "outputs": [
    {
     "name": "stdout",
     "output_type": "stream",
     "text": [
      "Data frame Facilities contains the following layers:\n",
      "addresses\n",
      "facilities\n",
      "sidewalks\n",
      "base\n",
      "Data frame Street Trees contains the following layers:\n",
      "sidewalks\n",
      "trees\n",
      "buildings\n",
      "base\n",
      "Data frame Parks contains the following layers:\n",
      "parks\n",
      "base\n"
     ]
    }
   ],
   "source": [
    "import arcpy\n",
    "mxd = \"Austin_TX.mxd\"\n",
    "mapdoc = arcpy.mapping.MapDocument(mxd)\n",
    "for df in arcpy.mapping.ListDataFrames(mapdoc):\n",
    "    print \"Data frame \" + df.name + \" contains the following layers:\"\n",
    "    lyrlist = arcpy.mapping.ListLayers(mapdoc, \"\", df)\n",
    "    for lyr in lyrlist:\n",
    "        print lyr.name\n",
    "del mapdoc"
   ]
  },
  {
   "cell_type": "code",
   "execution_count": 1,
   "metadata": {
    "collapsed": false
   },
   "outputs": [
    {
     "name": "stdout",
     "output_type": "stream",
     "text": [
      "parks\n"
     ]
    }
   ],
   "source": [
    "import arcpy\n",
    "mxd = \"Austin_TX.mxd\"\n",
    "mapdoc = arcpy.mapping.MapDocument(mxd)\n",
    "lyrlist = arcpy.mapping.ListLayers(mapdoc)\n",
    "for lyr in lyrlist:\n",
    "    if lyr.name == \"parks\":\n",
    "        print lyr.name\n",
    "        lyr.visible = True\n",
    "        lyr.showLabels = True\n",
    "mapdoc.save()\n",
    "del mapdoc\n",
    "del lyrlist"
   ]
  },
  {
   "cell_type": "markdown",
   "metadata": {
    "collapsed": true
   },
   "source": [
    "## Work with page layout elements"
   ]
  },
  {
   "cell_type": "code",
   "execution_count": 2,
   "metadata": {
    "collapsed": false
   },
   "outputs": [
    {
     "name": "stdout",
     "output_type": "stream",
     "text": [
      "Title TEXT_ELEMENT\n",
      "Stepped Scale Line MAPSURROUND_ELEMENT\n",
      "North Arrow MAPSURROUND_ELEMENT\n",
      "Legend LEGEND_ELEMENT\n",
      "Vacancy DATAFRAME_ELEMENT\n"
     ]
    }
   ],
   "source": [
    "import arcpy\n",
    "mxd = \"Georgia.mxd\"\n",
    "mapdoc = arcpy.mapping.MapDocument(mxd)\n",
    "elemlist = arcpy.mapping.ListLayoutElements(mapdoc)\n",
    "for elem in elemlist:\n",
    "    print elem.name + \" \" + elem.type\n",
    "del mapdoc"
   ]
  },
  {
   "cell_type": "code",
   "execution_count": 3,
   "metadata": {
    "collapsed": true
   },
   "outputs": [],
   "source": [
    "import arcpy\n",
    "mxd = \"Georgia.mxd\"\n",
    "mapdoc = arcpy.mapping.MapDocument(mxd)\n",
    "elemlist = arcpy.mapping.ListLayoutElements(mapdoc)\n",
    "title = elemlist[0]\n",
    "title.text = \"Housing Vacancy for Georgia Counties (2000)\"\n",
    "mapdoc.save()\n",
    "del mapdoc"
   ]
  },
  {
   "cell_type": "markdown",
   "metadata": {},
   "source": [
    "## Challenge exercise"
   ]
  },
  {
   "cell_type": "markdown",
   "metadata": {},
   "source": [
    "### Challenge 1"
   ]
  },
  {
   "cell_type": "markdown",
   "metadata": {},
   "source": [
    "```\n",
    "In ArcGIS Desktop Help, research the AddLayer function of the ArcPy mapping module and use it to write a script that adds the parks layer from the Parks data frame in Austin_TX.mxd to the other two data frames in the same map document.\n",
    "```"
   ]
  },
  {
   "cell_type": "code",
   "execution_count": 8,
   "metadata": {
    "collapsed": true
   },
   "outputs": [],
   "source": [
    "import os\n",
    "import arcpy\n",
    "from arcpy import env\n",
    "env.workspace = os.getcwd()"
   ]
  },
  {
   "cell_type": "code",
   "execution_count": 6,
   "metadata": {
    "collapsed": true
   },
   "outputs": [],
   "source": [
    "mxd = arcpy.mapping.MapDocument(\"Austin_TX.mxd\")\n",
    "df = arcpy.mapping.ListDataFrames(mxd, \"Parks\")[0]\n",
    "lyr = arcpy.mapping.ListLayers(mxd, \"parks\", df)[0]\n",
    "dflist = arcpy.mapping.ListDataFrames(mxd)\n",
    "for dframe in dflist:\n",
    "    if dframe.name <> \"Parks\":\n",
    "        arcpy.mapping.AddLayer(dframe, lyr)\n",
    "mxd.save()\n",
    "del mxd"
   ]
  },
  {
   "cell_type": "code",
   "execution_count": null,
   "metadata": {
    "collapsed": true
   },
   "outputs": [],
   "source": []
  }
 ],
 "metadata": {
  "kernelspec": {
   "display_name": "Python 2",
   "language": "python",
   "name": "python2"
  },
  "language_info": {
   "codemirror_mode": {
    "name": "ipython",
    "version": 2
   },
   "file_extension": ".py",
   "mimetype": "text/x-python",
   "name": "python",
   "nbconvert_exporter": "python",
   "pygments_lexer": "ipython2",
   "version": "2.7.2"
  }
 },
 "nbformat": 4,
 "nbformat_minor": 0
}
