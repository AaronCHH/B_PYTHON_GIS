{
 "cells": [
  {
   "cell_type": "code",
   "execution_count": 45,
   "metadata": {
    "collapsed": true
   },
   "outputs": [],
   "source": [
    "import os, sys\n",
    "import arcpy\n",
    "import glob"
   ]
  },
  {
   "cell_type": "code",
   "execution_count": 46,
   "metadata": {
    "collapsed": false
   },
   "outputs": [
    {
     "data": {
      "text/plain": [
       "'I:\\\\GITHUB\\\\AaronCHHBook\\\\B_PYTHON_GIS\\\\SELECTION'"
      ]
     },
     "execution_count": 46,
     "metadata": {},
     "output_type": "execute_result"
    }
   ],
   "source": [
    "os.getcwd()"
   ]
  },
  {
   "cell_type": "code",
   "execution_count": null,
   "metadata": {
    "collapsed": false,
    "scrolled": true
   },
   "outputs": [],
   "source": [
    "arcpy.ListEnvironments()"
   ]
  },
  {
   "cell_type": "markdown",
   "metadata": {},
   "source": [
    "# Listing data"
   ]
  },
  {
   "cell_type": "markdown",
   "metadata": {},
   "source": [
    "## ListFeatureClasses"
   ]
  },
  {
   "cell_type": "code",
   "execution_count": 23,
   "metadata": {
    "collapsed": false
   },
   "outputs": [
    {
     "data": {
      "text/plain": [
       "[u'basin.shp',\n",
       " u'basin2.shp',\n",
       " u'basin3.shp',\n",
       " u'result.shp',\n",
       " u'rivers.shp',\n",
       " u'roads.shp']"
      ]
     },
     "execution_count": 23,
     "metadata": {},
     "output_type": "execute_result"
    }
   ],
   "source": [
    "import arcpy\n",
    "from arcpy import env\n",
    "env.workspace = \"./data/shp\"\n",
    "fclist = arcpy.ListFeatureClasses()\n",
    "fclist"
   ]
  },
  {
   "cell_type": "code",
   "execution_count": 24,
   "metadata": {
    "collapsed": false
   },
   "outputs": [
    {
     "data": {
      "text/plain": [
       "[u'basin.shp', u'basin2.shp', u'basin3.shp']"
      ]
     },
     "execution_count": 24,
     "metadata": {},
     "output_type": "execute_result"
    }
   ],
   "source": [
    "fclist = arcpy.ListFeatureClasses(\"b*\")\n",
    "fclist"
   ]
  },
  {
   "cell_type": "code",
   "execution_count": 26,
   "metadata": {
    "collapsed": false
   },
   "outputs": [
    {
     "data": {
      "text/plain": [
       "[u'amtrak_stations.shp', u'cities.shp']"
      ]
     },
     "execution_count": 26,
     "metadata": {},
     "output_type": "execute_result"
    }
   ],
   "source": [
    "fclist = arcpy.ListFeatureClasses(\"\", \"point\")\n",
    "fclist"
   ]
  },
  {
   "cell_type": "markdown",
   "metadata": {},
   "source": [
    "## ListRasters"
   ]
  },
  {
   "cell_type": "code",
   "execution_count": 28,
   "metadata": {
    "collapsed": false
   },
   "outputs": [
    {
     "data": {
      "text/plain": [
       "[u'counties', u'counties.tif']"
      ]
     },
     "execution_count": 28,
     "metadata": {},
     "output_type": "execute_result"
    }
   ],
   "source": [
    "import arcpy\n",
    "from arcpy import env\n",
    "env.workspace = \"./data/ras\"\n",
    "rasterlist = arcpy.ListRasters()\n",
    "rasterlist"
   ]
  },
  {
   "cell_type": "code",
   "execution_count": 29,
   "metadata": {
    "collapsed": false
   },
   "outputs": [
    {
     "data": {
      "text/plain": [
       "[u'counties.tif']"
      ]
     },
     "execution_count": 29,
     "metadata": {},
     "output_type": "execute_result"
    }
   ],
   "source": [
    "import arcpy\n",
    "from arcpy import env\n",
    "env.workspace = \"./data/ras\"\n",
    "rasterlist = arcpy.ListRasters(\"\", \"tif\")\n",
    "rasterlist"
   ]
  },
  {
   "cell_type": "markdown",
   "metadata": {},
   "source": [
    "## ListFields"
   ]
  },
  {
   "cell_type": "code",
   "execution_count": 39,
   "metadata": {
    "collapsed": false
   },
   "outputs": [
    {
     "name": "stdout",
     "output_type": "stream",
     "text": [
      "[<Field object at 0x3919b50[0x137f02a8]>, <Field object at 0x13cc97b0[0x137f0e78]>, <Field object at 0x13d77c70[0x137f0ef0]>, <Field object at 0x13d77e90[0x137f0068]>, <Field object at 0x13cc97f0[0x137f0428]>, <Field object at 0x13cc9970[0x137f0ba8]>, <Field object at 0x13cc9270[0x137f0ab8]>, <Field object at 0x13cc9d50[0x137f0b18]>, <Field object at 0x13cc9330[0x137f0c20]>, <Field object at 0x13cc94d0[0x137f0458]>, <Field object at 0x13cc9890[0x137f0b90]>]\n",
      "FID\n",
      "Shape\n",
      "OBJECTID\n",
      "LENGTH\n",
      "NAME\n",
      "Type\n",
      "LABEL_CLAS\n",
      "EDIT_DATE\n",
      "REGION\n",
      "CLASS\n",
      "SHAPE_len\n"
     ]
    }
   ],
   "source": [
    "import arcpy\n",
    "from arcpy import env\n",
    "env.workspace = \"./data/shp\"\n",
    "fieldlist = arcpy.ListFields(\"rivers.shp\")\n",
    "print fieldlist\n",
    "for field in fieldlist:\n",
    "    print field.name"
   ]
  },
  {
   "cell_type": "code",
   "execution_count": 40,
   "metadata": {
    "collapsed": false
   },
   "outputs": [
    {
     "name": "stdout",
     "output_type": "stream",
     "text": [
      "[<Field object at 0x13cc94f0[0x137f0fb0]>]\n",
      "CLASS\n"
     ]
    }
   ],
   "source": [
    "fieldlist = arcpy.ListFields(\"rivers.shp\",\"\",\"Integer\")\n",
    "print fieldlist\n",
    "for field in fieldlist:\n",
    "    print field.name"
   ]
  },
  {
   "cell_type": "code",
   "execution_count": 41,
   "metadata": {
    "collapsed": false
   },
   "outputs": [
    {
     "name": "stdout",
     "output_type": "stream",
     "text": [
      "[<Field object at 0x13cc9a10[0x137f0668]>, <Field object at 0x13cc9370[0x137f0278]>, <Field object at 0x13cc99b0[0x137f0b18]>]\n",
      "NAME\n",
      "Type\n",
      "LABEL_CLAS\n"
     ]
    }
   ],
   "source": [
    "fieldlist = arcpy.ListFields(\"rivers.shp\",\"\",\"String\")\n",
    "print fieldlist\n",
    "for field in fieldlist:\n",
    "    print field.name"
   ]
  },
  {
   "cell_type": "code",
   "execution_count": null,
   "metadata": {
    "collapsed": true
   },
   "outputs": [],
   "source": []
  },
  {
   "cell_type": "markdown",
   "metadata": {},
   "source": [
    "## Clip_analysis"
   ]
  },
  {
   "cell_type": "code",
   "execution_count": 1,
   "metadata": {
    "collapsed": true
   },
   "outputs": [],
   "source": [
    "import arcpy"
   ]
  },
  {
   "cell_type": "code",
   "execution_count": 13,
   "metadata": {
    "collapsed": true
   },
   "outputs": [],
   "source": [
    "arcpy.env.workspace = \"./data/shp\""
   ]
  },
  {
   "cell_type": "code",
   "execution_count": 16,
   "metadata": {
    "collapsed": false
   },
   "outputs": [
    {
     "data": {
      "text/plain": [
       "[u'basin.shp', u'result.shp', u'rivers.shp', u'roads.shp']"
      ]
     },
     "execution_count": 16,
     "metadata": {},
     "output_type": "execute_result"
    }
   ],
   "source": [
    "arcpy.ListFeatureClasses()"
   ]
  },
  {
   "cell_type": "code",
   "execution_count": 17,
   "metadata": {
    "collapsed": false
   },
   "outputs": [
    {
     "data": {
      "text/plain": [
       "<Result 'wsc\\\\clip.shp'>"
      ]
     },
     "execution_count": 17,
     "metadata": {},
     "output_type": "execute_result"
    }
   ],
   "source": [
    "arcpy.Clip_analysis(\"rivers.shp\", \"basin.shp\", \"wsc/clip.shp\")"
   ]
  },
  {
   "cell_type": "code",
   "execution_count": 2,
   "metadata": {
    "collapsed": false,
    "scrolled": true
   },
   "outputs": [
    {
     "data": {
      "text/plain": [
       "u'MAXOF'"
      ]
     },
     "execution_count": 2,
     "metadata": {},
     "output_type": "execute_result"
    }
   ],
   "source": [
    "arcpy.env.cellSize"
   ]
  },
  {
   "cell_type": "markdown",
   "metadata": {},
   "source": [
    "### BATCH"
   ]
  },
  {
   "cell_type": "code",
   "execution_count": 46,
   "metadata": {
    "collapsed": true
   },
   "outputs": [],
   "source": [
    "arcpy.env.workspace = \"./data/shp\""
   ]
  },
  {
   "cell_type": "code",
   "execution_count": 48,
   "metadata": {
    "collapsed": false,
    "scrolled": true
   },
   "outputs": [
    {
     "data": {
      "text/plain": [
       "[u'basin.shp',\n",
       " u'basin2.shp',\n",
       " u'basin3.shp',\n",
       " u'result.shp',\n",
       " u'rivers.shp',\n",
       " u'roads.shp']"
      ]
     },
     "execution_count": 48,
     "metadata": {},
     "output_type": "execute_result"
    }
   ],
   "source": [
    "arcpy.ListFeatureClasses()"
   ]
  },
  {
   "cell_type": "code",
   "execution_count": 50,
   "metadata": {
    "collapsed": false
   },
   "outputs": [
    {
     "data": {
      "text/plain": [
       "[u'basin.shp', u'basin2.shp', u'basin3.shp']"
      ]
     },
     "execution_count": 50,
     "metadata": {},
     "output_type": "execute_result"
    }
   ],
   "source": [
    "list_basin = arcpy.ListFeatureClasses('basin*')\n",
    "list_basin"
   ]
  },
  {
   "cell_type": "code",
   "execution_count": 51,
   "metadata": {
    "collapsed": true
   },
   "outputs": [],
   "source": [
    "i = 0\n",
    "for item in list_basin:\n",
    "    arcpy.Clip_analysis(\"rivers.shp\", item, \"wsc/clip\" + str(i) + \".shp\")\n",
    "    i = i + 1    "
   ]
  },
  {
   "cell_type": "markdown",
   "metadata": {},
   "source": [
    "### Check result"
   ]
  },
  {
   "cell_type": "code",
   "execution_count": 78,
   "metadata": {
    "collapsed": true
   },
   "outputs": [],
   "source": [
    "arcpy.env.workspace = \"./wsc\""
   ]
  },
  {
   "cell_type": "code",
   "execution_count": 79,
   "metadata": {
    "collapsed": false
   },
   "outputs": [
    {
     "data": {
      "text/plain": [
       "[u'clip.shp',\n",
       " u'clip0.shp',\n",
       " u'clip1.shp',\n",
       " u'clip2.shp',\n",
       " u'road_buffer.shp',\n",
       " u'road_buffer2.shp']"
      ]
     },
     "execution_count": 79,
     "metadata": {},
     "output_type": "execute_result"
    }
   ],
   "source": [
    "list_clip = arcpy.ListFeatureClasses('*')\n",
    "list_clip"
   ]
  },
  {
   "cell_type": "markdown",
   "metadata": {
    "collapsed": true
   },
   "source": [
    "## Get_Count"
   ]
  },
  {
   "cell_type": "code",
   "execution_count": 3,
   "metadata": {
    "collapsed": false
   },
   "outputs": [
    {
     "name": "stdout",
     "output_type": "stream",
     "text": [
      "1349\n"
     ]
    }
   ],
   "source": [
    "import arcpy\n",
    "arcpy.env.workspace = \"./data/shp\"\n",
    "mycount = arcpy.GetCount_management(\"rivers.shp\")\n",
    "print mycount"
   ]
  },
  {
   "cell_type": "markdown",
   "metadata": {},
   "source": [
    "## Buffer_analysis"
   ]
  },
  {
   "cell_type": "code",
   "execution_count": 30,
   "metadata": {
    "collapsed": true
   },
   "outputs": [],
   "source": [
    "import arcpy\n",
    "arcpy.env.overwriteOutput = True\n",
    "arcpy.env.workspace = \"./data/shp\""
   ]
  },
  {
   "cell_type": "code",
   "execution_count": 31,
   "metadata": {
    "collapsed": false
   },
   "outputs": [
    {
     "data": {
      "text/plain": [
       "[u'amtrak_stations.shp',\n",
       " u'basin.shp',\n",
       " u'basin2.shp',\n",
       " u'basin3.shp',\n",
       " u'cities.shp',\n",
       " u'result.shp',\n",
       " u'rivers.shp',\n",
       " u'roads.shp']"
      ]
     },
     "execution_count": 31,
     "metadata": {},
     "output_type": "execute_result"
    }
   ],
   "source": [
    "arcpy.ListFeatureClasses()"
   ]
  },
  {
   "cell_type": "code",
   "execution_count": 45,
   "metadata": {
    "collapsed": false,
    "scrolled": true
   },
   "outputs": [
    {
     "data": {
      "text/plain": [
       "<Result 'wsc\\\\road_buffer.shp'>"
      ]
     },
     "execution_count": 45,
     "metadata": {},
     "output_type": "execute_result"
    }
   ],
   "source": [
    "arcpy.Buffer_analysis(\"roads.shp\", \"wsc/road_buffer.shp\", \"100 METERS\", dissolve_option=\"ALL\")"
   ]
  },
  {
   "cell_type": "code",
   "execution_count": 22,
   "metadata": {
    "collapsed": false,
    "scrolled": true
   },
   "outputs": [
    {
     "data": {
      "text/plain": [
       "['./wsc\\\\clip.shp',\n",
       " './wsc\\\\clip0.shp',\n",
       " './wsc\\\\clip1.shp',\n",
       " './wsc\\\\clip2.shp',\n",
       " './wsc\\\\road_buffer.shp',\n",
       " './wsc\\\\road_buffer2.shp']"
      ]
     },
     "execution_count": 22,
     "metadata": {},
     "output_type": "execute_result"
    }
   ],
   "source": [
    "glob.glob(\"./wsc/*.shp\")"
   ]
  },
  {
   "cell_type": "markdown",
   "metadata": {},
   "source": [
    "## BuildPyramids_management"
   ]
  },
  {
   "cell_type": "code",
   "execution_count": 44,
   "metadata": {
    "collapsed": false
   },
   "outputs": [],
   "source": [
    "import arcpy\n",
    "from arcpy import env\n",
    "env.workspace = \"./data/ras/\"\n",
    "tifflist = arcpy.ListRasters(\"\", \"TIF\")\n",
    "for tiff in tifflist:\n",
    "    arcpy.BuildPyramids_management(tiff)"
   ]
  },
  {
   "cell_type": "code",
   "execution_count": null,
   "metadata": {
    "collapsed": true
   },
   "outputs": [],
   "source": []
  }
 ],
 "metadata": {
  "kernelspec": {
   "display_name": "Python 2",
   "language": "python",
   "name": "python2"
  },
  "language_info": {
   "codemirror_mode": {
    "name": "ipython",
    "version": 2
   },
   "file_extension": ".py",
   "mimetype": "text/x-python",
   "name": "python",
   "nbconvert_exporter": "python",
   "pygments_lexer": "ipython2",
   "version": "2.7.13"
  }
 },
 "nbformat": 4,
 "nbformat_minor": 2
}
