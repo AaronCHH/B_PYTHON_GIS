{
 "cells": [
  {
   "cell_type": "code",
   "execution_count": 1,
   "metadata": {
    "collapsed": true
   },
   "outputs": [],
   "source": [
    "import os, sys\n",
    "import glob\n",
    "import arcpy"
   ]
  },
  {
   "cell_type": "markdown",
   "metadata": {},
   "source": [
    "## Search"
   ]
  },
  {
   "cell_type": "code",
   "execution_count": null,
   "metadata": {
    "collapsed": false,
    "scrolled": false
   },
   "outputs": [],
   "source": [
    "import arcpy\n",
    "fc = \"./data/shp/roads.shp\"\n",
    "\n",
    "cursor = arcpy.da.SearchCursor(fc, [\"NAME\"])\n",
    "for row in cursor:\n",
    "    print \"Streetname={0}\".format(row[0])"
   ]
  },
  {
   "cell_type": "code",
   "execution_count": null,
   "metadata": {
    "collapsed": false,
    "scrolled": false
   },
   "outputs": [],
   "source": [
    "import arcpy\n",
    "fc = \"./data/shp/roads.shp\"\n",
    "\n",
    "with arcpy.da.SearchCursor(fc, [\"NAME\"]) as cursor:\n",
    "    for row in cursor:\n",
    "        print \"Streetname={0}\".format(row[0])"
   ]
  },
  {
   "cell_type": "markdown",
   "metadata": {},
   "source": [
    "## Insert"
   ]
  },
  {
   "cell_type": "code",
   "execution_count": 12,
   "metadata": {
    "collapsed": false
   },
   "outputs": [],
   "source": [
    "import arcpy\n",
    "fc = \"./data/shp/roads.shp\"\n",
    "\n",
    "with arcpy.da.InsertCursor(fc, [\"NAME\"]) as cursor:\n",
    "    cursor.insertRow([\"NEW_STREET\"])"
   ]
  },
  {
   "cell_type": "code",
   "execution_count": 13,
   "metadata": {
    "collapsed": true
   },
   "outputs": [],
   "source": [
    "cursor = arcpy.da.InsertCursor(fc, [\"NAME\"])\n",
    "x = 1\n",
    "while x <= 5:\n",
    "    cursor.insertRow([\"NEW_STREET\"])\n",
    "    x+= 1"
   ]
  },
  {
   "cell_type": "markdown",
   "metadata": {},
   "source": [
    "## Update"
   ]
  },
  {
   "cell_type": "code",
   "execution_count": 19,
   "metadata": {
    "collapsed": false
   },
   "outputs": [
    {
     "data": {
      "text/plain": [
       "[u'airports.shp',\n",
       " u'alaska.shp',\n",
       " u'amtrak_stations.shp',\n",
       " u'basin.shp',\n",
       " u'basin2.shp',\n",
       " u'basin3.shp',\n",
       " u'cities.shp',\n",
       " u'counties.shp',\n",
       " u'result.shp',\n",
       " u'rivers.shp',\n",
       " u'roads.shp']"
      ]
     },
     "execution_count": 19,
     "metadata": {},
     "output_type": "execute_result"
    }
   ],
   "source": [
    "import arcpy\n",
    "from arcpy import env\n",
    "env.workspace = \"./data/shp\"\n",
    "fclist = arcpy.ListFeatureClasses()\n",
    "fclist"
   ]
  },
  {
   "cell_type": "code",
   "execution_count": 30,
   "metadata": {
    "collapsed": false
   },
   "outputs": [
    {
     "name": "stdout",
     "output_type": "stream",
     "text": [
      "FID\n",
      "Shape\n",
      "AREA\n",
      "PERIMETER\n",
      "CO2000P020\n",
      "STATE\n",
      "COUNTY\n",
      "FIPS\n",
      "STATE_FIPS\n",
      "SQUARE_MIL\n",
      "ACRES\n",
      "SHAPEAREA\n"
     ]
    }
   ],
   "source": [
    "fieldlist = arcpy.ListFields(\"counties.shp\")\n",
    "for field in fieldlist:\n",
    "    print field.name"
   ]
  },
  {
   "cell_type": "markdown",
   "metadata": {},
   "source": [
    "```\n",
    "arcpy.AddField_management(inFeatures, fieldName1, \"LONG\", fieldPrecision,\n",
    "                          field_alias=fieldAlias, field_is_nullable=\"NULLABLE\")\n",
    "```"
   ]
  },
  {
   "cell_type": "markdown",
   "metadata": {},
   "source": [
    "### Add fields"
   ]
  },
  {
   "cell_type": "code",
   "execution_count": 25,
   "metadata": {
    "collapsed": false
   },
   "outputs": [
    {
     "data": {
      "text/plain": [
       "<Result './data/shp\\\\counties.shp'>"
      ]
     },
     "execution_count": 25,
     "metadata": {},
     "output_type": "execute_result"
    }
   ],
   "source": [
    "arcpy.AddField_management(\"counties.shp\", \"ACRES\", \"DOUBLE\", field_precision=10, field_scale=2)"
   ]
  },
  {
   "cell_type": "code",
   "execution_count": 26,
   "metadata": {
    "collapsed": false
   },
   "outputs": [
    {
     "data": {
      "text/plain": [
       "<Result './data/shp\\\\counties.shp'>"
      ]
     },
     "execution_count": 26,
     "metadata": {},
     "output_type": "execute_result"
    }
   ],
   "source": [
    "arcpy.AddField_management(\"counties.shp\", \"SHAPEAREA\", \"DOUBLE\", field_precision=10, field_scale=2)"
   ]
  },
  {
   "cell_type": "markdown",
   "metadata": {},
   "source": [
    "### update fields"
   ]
  },
  {
   "cell_type": "code",
   "execution_count": 35,
   "metadata": {
    "collapsed": false
   },
   "outputs": [],
   "source": [
    "import arcpy\n",
    "fc = \"./data/shp/counties.shp\"\n",
    "cursor = arcpy.da.UpdateCursor(fc, [\"AREA\", \"SHAPEAREA\"])\n",
    "for row in cursor:\n",
    "    row[1] = row[0]\n",
    "    cursor.updateRow(row)    "
   ]
  },
  {
   "cell_type": "markdown",
   "metadata": {},
   "source": [
    "### delete row"
   ]
  },
  {
   "cell_type": "code",
   "execution_count": 40,
   "metadata": {
    "collapsed": false
   },
   "outputs": [],
   "source": [
    "import arcpy\n",
    "fc = \"./data/shp/roads.shp\"\n",
    "cursor = arcpy.da.UpdateCursor(fc, [\"NAME\"])\n",
    "for row in cursor:\n",
    "    if row[0] == \"NEW_STREET\":\n",
    "        cursor.deleteRow()\n",
    "del cursor        "
   ]
  },
  {
   "cell_type": "code",
   "execution_count": null,
   "metadata": {
    "collapsed": true
   },
   "outputs": [],
   "source": []
  }
 ],
 "metadata": {
  "kernelspec": {
   "display_name": "Python 2",
   "language": "python",
   "name": "python2"
  },
  "language_info": {
   "codemirror_mode": {
    "name": "ipython",
    "version": 2
   },
   "file_extension": ".py",
   "mimetype": "text/x-python",
   "name": "python",
   "nbconvert_exporter": "python",
   "pygments_lexer": "ipython2",
   "version": "2.7.13"
  }
 },
 "nbformat": 4,
 "nbformat_minor": 2
}
